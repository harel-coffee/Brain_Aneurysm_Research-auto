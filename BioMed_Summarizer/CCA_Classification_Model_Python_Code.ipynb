{
 "cells": [
  {
   "cell_type": "markdown",
   "metadata": {},
   "source": [
    "#### <center>Python code file Generated for CCA (Clinical Context Aware)  classification Model. </center>\n",
    "#### <center> Author - Fakhare Alam </center>\n",
    "#### <center> Author - Muhammad Afzal, PhD </center>\n",
    "#### <center> Author - Khalid Mahmood Malik, PhD </center>"
   ]
  },
  {
   "cell_type": "markdown",
   "metadata": {},
   "source": [
    "## Import Python Library"
   ]
  },
  {
   "cell_type": "code",
   "execution_count": 1,
   "metadata": {},
   "outputs": [
    {
     "name": "stderr",
     "output_type": "stream",
     "text": [
      "Using TensorFlow backend.\n"
     ]
    },
    {
     "data": {
      "text/html": [
       "        <script type=\"text/javascript\">\n",
       "        window.PlotlyConfig = {MathJaxConfig: 'local'};\n",
       "        if (window.MathJax) {MathJax.Hub.Config({SVG: {font: \"STIX-Web\"}});}\n",
       "        if (typeof require !== 'undefined') {\n",
       "        require.undef(\"plotly\");\n",
       "        requirejs.config({\n",
       "            paths: {\n",
       "                'plotly': ['https://cdn.plot.ly/plotly-latest.min']\n",
       "            }\n",
       "        });\n",
       "        require(['plotly'], function(Plotly) {\n",
       "            window._Plotly = Plotly;\n",
       "        });\n",
       "        }\n",
       "        </script>\n",
       "        "
      ]
     },
     "metadata": {},
     "output_type": "display_data"
    }
   ],
   "source": [
    "import io\n",
    "#from Bio import Entrez, Medline\n",
    "import pandas as pd\n",
    "from pandas import ExcelWriter\n",
    "from pandas import ExcelFile\n",
    "import re\n",
    "import collections\n",
    "import pandas as pd\n",
    "import numpy as np\n",
    "from tqdm import tqdm\n",
    "#tqdm.pandas(desc=\"progress-bar\")\n",
    "from gensim.models import Doc2Vec\n",
    "from sklearn import utils\n",
    "from sklearn.model_selection import train_test_split\n",
    "import gensim\n",
    "from sklearn import svm\n",
    "from sklearn.linear_model import LogisticRegression\n",
    "from sklearn.ensemble import AdaBoostClassifier\n",
    "from sklearn.tree import DecisionTreeClassifier\n",
    "from sklearn.ensemble import GradientBoostingClassifier\n",
    "from sklearn.ensemble import RandomForestClassifier\n",
    "from sklearn.naive_bayes import MultinomialNB\n",
    "from sklearn.neural_network import MLPClassifier\n",
    "from sklearn.neighbors import KNeighborsClassifier \n",
    "from xgboost import XGBClassifier\n",
    "from sklearn.metrics import classification_report,confusion_matrix,accuracy_score,make_scorer,precision_score,recall_score,roc_auc_score,f1_score\n",
    "from sklearn.model_selection import GridSearchCV\n",
    "import xgboost as xgb\n",
    "from xgboost.sklearn import XGBClassifier\n",
    "from gensim.models.doc2vec import TaggedDocument\n",
    "import re\n",
    "import seaborn as sns\n",
    "import matplotlib.pyplot as plt\n",
    "from sklearn.metrics.pairwise import cosine_similarity\n",
    "import urllib.request, urllib.error, urllib.parse\n",
    "import json\n",
    "import os\n",
    "from pprint import pprint\n",
    "import nltk\n",
    "import pickle\n",
    "import matplotlib.pyplot as plt\n",
    "import seaborn as sns\n",
    "from keras.preprocessing.text import Tokenizer\n",
    "from keras.preprocessing.sequence import pad_sequences\n",
    "from keras.models import Sequential\n",
    "from keras.layers import Dense, Embedding, LSTM, SpatialDropout1D\n",
    "from sklearn.model_selection import train_test_split\n",
    "from keras.utils.np_utils import to_categorical\n",
    "from keras.callbacks import EarlyStopping\n",
    "from keras.layers import Dropout\n",
    "import re\n",
    "from nltk.corpus import stopwords\n",
    "from nltk import word_tokenize\n",
    "STOPWORDS = set(stopwords.words('english'))\n",
    "from bs4 import BeautifulSoup\n",
    "import plotly.graph_objs as go\n",
    "#import plotly.plotly as py\n",
    "import cufflinks\n",
    "from IPython.core.interactiveshell import InteractiveShell\n",
    "import plotly.figure_factory as ff\n",
    "InteractiveShell.ast_node_interactivity = 'all'\n",
    "from plotly.offline import iplot\n",
    "cufflinks.go_offline()\n",
    "cufflinks.set_config_file(world_readable=True, theme='pearl')\n",
    "from bs4 import BeautifulSoup\n",
    "from rouge import Rouge\n",
    "\n",
    "import warnings\n",
    "warnings.simplefilter(\"ignore\", UserWarning)\n"
   ]
  },
  {
   "cell_type": "markdown",
   "metadata": {},
   "source": [
    "# STEP -1"
   ]
  },
  {
   "cell_type": "markdown",
   "metadata": {},
   "source": [
    "## A. Data COllection & Data Pre-processing"
   ]
  },
  {
   "cell_type": "markdown",
   "metadata": {},
   "source": [
    "#### Parse medline "
   ]
  },
  {
   "cell_type": "code",
   "execution_count": null,
   "metadata": {},
   "outputs": [],
   "source": [
    "def search_medline(query):\n",
    "    '''\n",
    "    @ Author - Dr. Afzal\n",
    "    '''\n",
    "    Entrez.email = \"afzalse@gmail.com\"\n",
    "    search = Entrez.esearch(db='pubmed', term=query, retmax = 1000, usehistory='y')\n",
    "    handle = Entrez.read(search)\n",
    "    \n",
    "    try:\n",
    "        return handle\n",
    "    except Exception as e:\n",
    "        raise IOError(str(e))\n",
    "    finally:\n",
    "        search.close()"
   ]
  },
  {
   "cell_type": "code",
   "execution_count": null,
   "metadata": {},
   "outputs": [],
   "source": [
    "def fetch_rec(rec_id, entrez_handle):\n",
    "    '''\n",
    "    @ Author - Dr. Afzal\n",
    "    '''\n",
    "    fetch_handle = Entrez.efetch(db='pubmed', id = rec_id, rettype='Medline', retmode='text',\n",
    "                                 webenv=entrez_handle['WebEnv'],query_key=entrez_handle['QueryKey'])\n",
    "    #print(type(fetch_handle))\n",
    "    rec = fetch_handle.read()\n",
    "    #print(type(rec))\n",
    "    \n",
    "    return rec"
   ]
  },
  {
   "cell_type": "code",
   "execution_count": null,
   "metadata": {},
   "outputs": [],
   "source": [
    "query = \"(cerebral aneurysm ) and ( family history or hypertension or )\"\n",
    "rec_handler = search_medline(query)\n",
    "\n",
    "#fetch_rec('31326520', rec_handler)"
   ]
  },
  {
   "cell_type": "code",
   "execution_count": null,
   "metadata": {
    "jupyter": {
     "outputs_hidden": true
    }
   },
   "outputs": [],
   "source": [
    "def collect_data2 (query) :\n",
    "    '''\n",
    "    @ Author - Dr. Afzal\n",
    "    '''\n",
    "    \n",
    "    count = 0\n",
    "    fau = \"\"\n",
    "    mh = \"\"\n",
    "    j = 0\n",
    "    rec_handler = search_medline(query)\n",
    "    count = int(rec_handler[\"Count\"])\n",
    "    batch_size = 200\n",
    "    \n",
    "    df = pd.DataFrame(columns = ['PMID', 'Title', 'Abstract', 'MeSH', 'PubType', 'PubDate', 'Journal', 'DOI', 'PMC'])\n",
    "    \n",
    "    \n",
    "           \n",
    "    for recId in rec_handler['IdList']:\n",
    "        #count = count+1\n",
    "        fau = \"\"\n",
    "        mh = \"\"\n",
    "\n",
    "        rec = fetch_rec(recId, rec_handler)\n",
    "\n",
    "        r = io.StringIO(rec)\n",
    "        medline_rec = Medline.read(r)\n",
    "\n",
    "        if 'PMID' in medline_rec:\n",
    "            df.loc[j, 'PMID'] = medline_rec['PMID']\n",
    "\n",
    "        if 'TI' in medline_rec:\n",
    "            #df.assign(Title = lambda x: medline_rec['TI'])\n",
    "            df.loc[j, 'Title'] = medline_rec['TI']\n",
    "        else:\n",
    "            df.loc[j, 'Title'] = 'null'\n",
    "\n",
    "        if 'AB' in medline_rec:\n",
    "            df.loc[j, 'Abstract'] = medline_rec['AB']\n",
    "        else:\n",
    "            df.loc[j, 'Abstract'] = 'null'\n",
    "\n",
    "        if 'PT' in medline_rec:\n",
    "            df.loc[j, 'PubType'] = medline_rec['PT']\n",
    "        else:\n",
    "            df.loc[j, 'PubType'] = 'null'\n",
    "\n",
    "        if 'FAU' in medline_rec:\n",
    "            for y in medline_rec['FAU']:\n",
    "                fau = fau + y + ', '\n",
    "            df.loc[j, 'FAU'] = fau\n",
    "        else:\n",
    "            df.loc[j, 'FAU'] = 'null'\n",
    "\n",
    "        if 'MH' in medline_rec:\n",
    "            for x in medline_rec['MH']:\n",
    "                mh = mh + x + ', '\n",
    "            df.loc[j, 'MeSH'] = mh\n",
    "        else:\n",
    "            df.loc[j, 'MeSH'] = 'null'\n",
    "\n",
    "        if 'DP' in medline_rec:\n",
    "            df.loc[j, 'PubDate'] = medline_rec['DP']\n",
    "        else:\n",
    "            df.loc[j, 'PubDate'] = 'null'\n",
    "\n",
    "        if 'JT' in medline_rec:\n",
    "            df.loc[j, 'Journal'] = medline_rec['JT']\n",
    "        else:\n",
    "            df.loc[j, 'Journal'] = 'null'\n",
    "\n",
    "        if 'AID' in medline_rec:\n",
    "            df.loc[j, 'DOI'] = medline_rec['AID']\n",
    "        else:\n",
    "            df.loc[j, 'DOI'] = 'null'\n",
    "\n",
    "        if 'PMC' in medline_rec:\n",
    "            df.loc[j, 'PMC'] = medline_rec['PMC']\n",
    "        else:\n",
    "            df.loc[j, 'PMC'] = 'null'\n",
    "\n",
    "        mh = \"\"\n",
    "        fau = \"\"\n",
    "\n",
    "        print(j)\n",
    "        j = j + 1\n",
    "        #rec.close()\n",
    "\n",
    "    #print(df.head())\n",
    "    df.to_excel('Medline.xlsx')\n",
    "    return count"
   ]
  },
  {
   "cell_type": "code",
   "execution_count": null,
   "metadata": {
    "jupyter": {
     "outputs_hidden": true
    }
   },
   "outputs": [],
   "source": [
    "#q = \"brain aneurysm or cerebral aneurysm or intracranial aneurysm\"\n",
    "q = \"cerebral aneurysm and family history\"\n",
    "count = collect_data2(q)\n"
   ]
  },
  {
   "cell_type": "markdown",
   "metadata": {},
   "source": [
    "#### Sblit Abstract - Not needed any more"
   ]
  },
  {
   "cell_type": "code",
   "execution_count": null,
   "metadata": {
    "jupyter": {
     "outputs_hidden": true
    }
   },
   "outputs": [],
   "source": [
    "def splitAbstract(cols):\n",
    "    '''\n",
    "    @Author - Fakhare Alam\n",
    "    This method splits abstract\n",
    "    '''\n",
    "    abstract = cols[0]\n",
    "    if pd.isnull(abstract):\n",
    "        return 'NA'\n",
    "    else:\n",
    "        return abstract.split(':')[0]\n",
    "    \n",
    "#df_raw['Abstract_split'] = df_raw[['Abstract']].apply(splitAbstract,axis=1)\n"
   ]
  },
  {
   "cell_type": "markdown",
   "metadata": {},
   "source": [
    "#### Read Excel file"
   ]
  },
  {
   "cell_type": "code",
   "execution_count": null,
   "metadata": {
    "jupyter": {
     "outputs_hidden": true
    }
   },
   "outputs": [],
   "source": [
    "df_raw=pd.read_excel('Medline_new.xlsx')"
   ]
  },
  {
   "cell_type": "markdown",
   "metadata": {},
   "source": [
    "#### Append end: at the end of the file"
   ]
  },
  {
   "cell_type": "code",
   "execution_count": null,
   "metadata": {
    "jupyter": {
     "outputs_hidden": true
    }
   },
   "outputs": [],
   "source": [
    "def appendAbstract(cols):\n",
    "    '''\n",
    "    @Author - Fakhare Alam\n",
    "    This method appends all abstract.\n",
    "    '''\n",
    "    abstract = cols[0]\n",
    "    if pd.isnull(abstract):\n",
    "        return 'NA'\n",
    "    else:\n",
    "        return abstract+'end:'\n",
    "    \n",
    "df_raw['Abstract'] = df_raw[['Abstract']].apply(appendAbstract,axis=1)"
   ]
  },
  {
   "cell_type": "markdown",
   "metadata": {},
   "source": [
    "#### Define master list for different categories\n",
    "\n",
    "##### This is master list of all the categories"
   ]
  },
  {
   "cell_type": "code",
   "execution_count": null,
   "metadata": {
    "jupyter": {
     "outputs_hidden": true
    }
   },
   "outputs": [],
   "source": [
    "master_cat_list=['objective:', 'background:', 'background and objectives:', 'context:', 'background and purpose:',\n",
    "                 'purpose:', 'importance:', 'introduction:', 'aim:', 'rationale:', 'goal:', 'context:', 'hypothesis:'\n",
    "                ,'population:', 'participant:', 'sample:', 'subject:', 'patient:','patient 2:','patient 1:',\n",
    "                 'intervension:', 'diagnosis:'\n",
    "                ,'outcome:', 'measure:', 'variable:', 'assessment:'\n",
    "                ,'method:','methods:' ,'setting:', 'design:', 'material:', 'procedure:', 'process:', 'methodology:'\n",
    "                ,'result:','results:','finding:',\n",
    "                 'conclusion:','conclusions:', 'implication:', 'discussion:', 'interpretation table:','end:']\n",
    "\n",
    "Headings = {'A': ['objective:', 'background:', 'background and objectives:', 'context:', 'background and purpose:','purpose:', 'importance:', 'introduction:', 'aim:', 'rationale:', 'goal:', 'context:', 'hypothesis:'],\n",
    "            'P': ['population:', 'participant:', 'sample:', 'subject:', 'patient:','patient 2:','patient 1:'],\n",
    "            'I': ['intervension:', 'diagnosis:'],\n",
    "            'O': ['outcome:', 'measure:', 'variable:', 'assessment:'],\n",
    "            'M': ['method:','methods:' ,'setting:', 'design:', 'material:', 'procedure:', 'process:', 'methodology:'],\n",
    "            'R': ['result:','results:','finding:'],\n",
    "            'C': ['conclusion:','conclusions:', 'implication:', 'discussion:', 'interpretation table:']}"
   ]
  },
  {
   "cell_type": "markdown",
   "metadata": {},
   "source": [
    "#### Looping to find keyword in each abstract"
   ]
  },
  {
   "cell_type": "code",
   "execution_count": null,
   "metadata": {},
   "outputs": [],
   "source": [
    "def abstractCatList(cols):\n",
    "    abstract=cols['Abstract']\n",
    "    abstract_cat_list={}\n",
    "    for cat in master_cat_list:\n",
    "        indexpos=abstract.lower().find(cat.lower())\n",
    "        if (indexpos!=-1):\n",
    "            abstract_cat_list[indexpos]=cat\n",
    "    return abstract_cat_list\n",
    "\n",
    "df_raw['Abstract_Cat_List'] = df_raw[['Abstract']].apply(abstractCatList,axis=1)    "
   ]
  },
  {
   "cell_type": "markdown",
   "metadata": {},
   "source": [
    "#### Create new dataframe with filled column"
   ]
  },
  {
   "cell_type": "code",
   "execution_count": null,
   "metadata": {},
   "outputs": [],
   "source": [
    "\n",
    "df_raw_split=pd.DataFrame(columns=df_raw.columns)\n",
    "\n",
    "for index, row in df_raw.iterrows():\n",
    "    #print(row('Abstract'))\n",
    "    od = collections.OrderedDict(sorted(row['Abstract_Cat_List'].items()))\n",
    "    key_list=list(od.keys())\n",
    "    s=row['Abstract'].lower()\n",
    "    for i in range(0,len(key_list)-1,1):\n",
    "        try:\n",
    "            start=row['Abstract_Cat_List'][key_list[i]]\n",
    "            end=row['Abstract_Cat_List'][key_list[i+1]]\n",
    "            result = re.search('%s(.*)%s' % (start, end), s).group(1)\n",
    "            row[start]=result\n",
    "        except:\n",
    "            continue\n",
    "    df_raw_split=df_raw_split.append(row,ignore_index=True)\n",
    "     \n",
    "        "
   ]
  },
  {
   "cell_type": "code",
   "execution_count": null,
   "metadata": {},
   "outputs": [],
   "source": [
    "df[['Year', 'quarter']].apply(lambda x: ''.join(x), axis=1)\n",
    "Headings = {'A': ['objective:', 'background:', 'background and objectives:', 'context:', 'background and purpose:','purpose:', 'importance:', 'introduction:', 'aim:', 'rationale:', 'goal:', 'context:', 'hypothesis:'],\n",
    "            'P': ['population:', 'participant:', 'sample:', 'subject:', 'patient:','patient 2:','patient 1:'],\n",
    "            'I': ['intervension:', 'diagnosis:'],\n",
    "            'O': ['outcome:', 'measure:', 'variable:', 'assessment:'],\n",
    "            'M': ['method:','methods:' ,'setting:', 'design:', 'material:', 'procedure:', 'process:', 'methodology:'],\n",
    "            'R': ['result:','results:','finding:'],\n",
    "            'C': ['conclusion:','conclusions:', 'implication:', 'discussion:', 'interpretation table:']}"
   ]
  },
  {
   "cell_type": "code",
   "execution_count": null,
   "metadata": {},
   "outputs": [],
   "source": [
    "A=['objective:', 'background:', 'background and objectives:', 'context:', 'background and purpose:','purpose:', 'importance:', 'introduction:', 'aim:', 'rationale:', 'goal:', 'context:', 'hypothesis:']\n",
    "df_raw_split['|a|']=df_raw_split[A].apply(lambda x: ''.join(x), axis=1)\n",
    "\n",
    "P=['population:', 'participant:', 'sample:', 'subject:', 'patient:','patient 2:','patient 1:']\n",
    "df_raw_split['|p|']=df_raw_split[P].apply(lambda x: ''.join(x), axis=1)\n",
    "\n",
    "I=['intervension:', 'diagnosis:']\n",
    "df_raw_split['|i|']=df_raw_split[I].apply(lambda x: ''.join(x), axis=1)\n",
    "\n",
    "O=['outcome:', 'measure:', 'variable:', 'assessment:']\n",
    "df_raw_split['|o|']=df_raw_split[O].apply(lambda x: ''.join(x), axis=1)\n",
    "\n",
    "M=['method:','methods:' ,'setting:', 'design:', 'material:', 'procedure:', 'process:', 'methodology:']\n",
    "df_raw_split['|m|']=df_raw_split[M].apply(lambda x: ''.join(x), axis=1)\n",
    "\n",
    "R=['result:','results:','finding:']\n",
    "df_raw_split['|r|']=df_raw_split[R].apply(lambda x: ''.join(x), axis=1)\n",
    "\n",
    "C=['conclusion:','conclusions:', 'implication:', 'discussion:', 'interpretation table:']\n",
    "df_raw_split['|c|']=df_raw_split[C].apply(lambda x: ''.join(x), axis=1)"
   ]
  },
  {
   "cell_type": "code",
   "execution_count": null,
   "metadata": {},
   "outputs": [],
   "source": [
    "aimoprc_list=['|a|', '|i|', '|m|', '|o|','|p|', '|r|', '|c|']\n",
    "# Test\n",
    "df_pubmed_final=pd.DataFrame(columns=['sent','aimoprc_category','data_category'])\n",
    "for aimoprc in aimoprc_list:\n",
    "    df_temp_pubmed=pd.DataFrame(columns=['sent','aimoprc_category','data_category'])\n",
    "    df_temp_pubmed['sent']=df_raw_split[aimoprc]\n",
    "    df_temp_pubmed['aimoprc_category']=aimoprc\n",
    "    df_temp_pubmed['data_category']='medline'\n",
    "    df_pubmed_final=df_pubmed_final.append(df_temp_pubmed)"
   ]
  },
  {
   "cell_type": "code",
   "execution_count": null,
   "metadata": {},
   "outputs": [],
   "source": [
    "df_pubmed_final.replace('', np.nan, inplace=True)\n",
    "df_pubmed_final.dropna(inplace=True)"
   ]
  },
  {
   "cell_type": "markdown",
   "metadata": {},
   "source": [
    "#### Write to new file"
   ]
  },
  {
   "cell_type": "code",
   "execution_count": null,
   "metadata": {
    "jupyter": {
     "outputs_hidden": true
    }
   },
   "outputs": [],
   "source": [
    "df_pubmed_final.to_csv('medline_parsed.csv')"
   ]
  },
  {
   "cell_type": "markdown",
   "metadata": {},
   "source": [
    "#### Parse BioNLP PICO File"
   ]
  },
  {
   "cell_type": "code",
   "execution_count": null,
   "metadata": {
    "jupyter": {
     "outputs_hidden": true
    }
   },
   "outputs": [],
   "source": [
    "Bionlp_master_cat_list=['|a|','|p|','|i|','|o|','|m|','|r|','|c|','|e|']"
   ]
  },
  {
   "cell_type": "code",
   "execution_count": null,
   "metadata": {
    "jupyter": {
     "outputs_hidden": true
    }
   },
   "outputs": [],
   "source": [
    "with open(\"PICO_test.txt\", \"r\") as picoFile:\n",
    "    picoFileTest=picoFile.read()    \n",
    "    \n",
    "with open(\"PICO_train.txt\", \"r\") as picoFile:\n",
    "    picoFileTrain=picoFile.read()    \n",
    "    \n",
    "with open(\"PICO_dev.txt\", \"r\") as picoFile:\n",
    "    picoFileDev=picoFile.read()    "
   ]
  },
  {
   "cell_type": "code",
   "execution_count": null,
   "metadata": {},
   "outputs": [],
   "source": [
    "## Test\n",
    "dict_bionlp_test={}\n",
    "pubidListTest=re.split('[0-9]:\\s|\\s{2,}', picoFileTest)\n",
    "\n",
    "for i in range(0,len(pubidListTest)-1,2):\n",
    "    dict_bionlp_test[pubidListTest[i]]=pubidListTest[i+1]\n",
    "\n",
    "## Train\n",
    "dict_bionlp_train={}\n",
    "pubidListTrain=re.split('[0-9]:\\s|\\s{2,}', picoFileTrain)\n",
    "\n",
    "for i in range(0,len(pubidListTrain)-1,2):\n",
    "    dict_bionlp_train[pubidListTrain[i]]=pubidListTrain[i+1]\n",
    "    \n",
    "    \n",
    "## Dev\n",
    "dict_bionlp_dev={}\n",
    "pubidListDev=re.split('[0-9]:\\s|\\s{2,}', picoFileDev)\n",
    "\n",
    "for i in range(0,len(pubidListDev)-1,2):\n",
    "    dict_bionlp_dev[pubidListDev[i]]=pubidListDev[i+1]"
   ]
  },
  {
   "cell_type": "code",
   "execution_count": null,
   "metadata": {},
   "outputs": [],
   "source": [
    "df_bionlp_test=pd.DataFrame(list(dict_bionlp_test.items()),columns=['pubid','Abstract'])\n",
    "df_bionlp_train=pd.DataFrame(list(dict_bionlp_train.items()),columns=['pubid','Abstract'])\n",
    "df_bionlp_dev=pd.DataFrame(list(dict_bionlp_dev.items()),columns=['pubid','Abstract'])"
   ]
  },
  {
   "cell_type": "code",
   "execution_count": null,
   "metadata": {},
   "outputs": [],
   "source": [
    "def bioNLPappendAbstract(cols):\n",
    "    '''\n",
    "    @Author - Fakhare Alam\n",
    "    '''\n",
    "    abstract = cols[0]\n",
    "    if pd.isnull(abstract):\n",
    "        return 'NA'\n",
    "    else:\n",
    "        return abstract+'|e|'\n",
    "    \n",
    "df_bionlp_test['Abstract'] = df_bionlp_test[['Abstract']].apply(bioNLPappendAbstract,axis=1)\n",
    "df_bionlp_train['Abstract'] = df_bionlp_train[['Abstract']].apply(bioNLPappendAbstract,axis=1)\n",
    "df_bionlp_dev['Abstract'] = df_bionlp_dev[['Abstract']].apply(bioNLPappendAbstract,axis=1)"
   ]
  },
  {
   "cell_type": "code",
   "execution_count": null,
   "metadata": {},
   "outputs": [],
   "source": [
    "def bioNLPabstractCatList(cols):\n",
    "    '''\n",
    "    @Author - Fakhare Alam\n",
    "    '''\n",
    "    abstract=cols['Abstract']\n",
    "    abstract_cat_list={}\n",
    "    for cat in Bionlp_master_cat_list:\n",
    "        indexpos=abstract.lower().find(cat.lower())\n",
    "        if (indexpos!=-1):\n",
    "            abstract_cat_list[indexpos]=cat\n",
    "    return abstract_cat_list\n",
    "\n",
    "df_bionlp_test['Abstract_Cat_List'] = df_bionlp_test[['Abstract']].apply(bioNLPabstractCatList,axis=1) \n",
    "df_bionlp_train['Abstract_Cat_List'] = df_bionlp_train[['Abstract']].apply(bioNLPabstractCatList,axis=1) \n",
    "df_bionlp_dev['Abstract_Cat_List'] = df_bionlp_dev[['Abstract']].apply(bioNLPabstractCatList,axis=1) "
   ]
  },
  {
   "cell_type": "code",
   "execution_count": null,
   "metadata": {},
   "outputs": [],
   "source": [
    "df_bionlp_test_split=pd.DataFrame(columns=df_bionlp_test.columns)\n",
    "df_bionlp_train_split=pd.DataFrame(columns=df_bionlp_train.columns)\n",
    "df_bionlp_dev_split=pd.DataFrame(columns=df_bionlp_dev.columns)\n",
    "\n",
    "# Test\n",
    "for index, row in df_bionlp_test.iterrows():\n",
    "    od = collections.OrderedDict(sorted(row['Abstract_Cat_List'].items()))\n",
    "    key_list=list(od.keys())\n",
    "    s=row['Abstract'].lower()\n",
    "    row['pubid']=row['pubid'][3:]\n",
    "    for i in range(0,len(key_list),1):\n",
    "        try:\n",
    "            start=row['Abstract_Cat_List'][key_list[i]]\n",
    "            row[start]=s[key_list[i]:key_list[i+1]]\n",
    "        except:\n",
    "            continue\n",
    "    df_bionlp_test_split=df_bionlp_test_split.append(row,ignore_index=True)\n",
    "\n",
    "\n",
    "    \n",
    "# Train\n",
    "for index, row in df_bionlp_train.iterrows():\n",
    "    od = collections.OrderedDict(sorted(row['Abstract_Cat_List'].items()))\n",
    "    key_list=list(od.keys())\n",
    "    s=row['Abstract'].lower()\n",
    "    row['pubid']=row['pubid'][3:]\n",
    "    for i in range(0,len(key_list),1):\n",
    "        try:\n",
    "            start=row['Abstract_Cat_List'][key_list[i]]\n",
    "            row[start]=s[key_list[i]:key_list[i+1]]\n",
    "        except:\n",
    "            continue\n",
    "    df_bionlp_train_split=df_bionlp_train_split.append(row,ignore_index=True)\n",
    "\n",
    "# Dev\n",
    "for index, row in df_bionlp_dev.iterrows():\n",
    "    od = collections.OrderedDict(sorted(row['Abstract_Cat_List'].items()))\n",
    "    key_list=list(od.keys())\n",
    "    s=row['Abstract'].lower()\n",
    "    row['pubid']=row['pubid'][3:]\n",
    "    for i in range(0,len(key_list),1):\n",
    "        try:\n",
    "            start=row['Abstract_Cat_List'][key_list[i]]\n",
    "            row[start]=s[key_list[i]:key_list[i+1]]\n",
    "        except:\n",
    "            continue\n",
    "    df_bionlp_dev_split=df_bionlp_dev_split.append(row,ignore_index=True)\n",
    "    \n",
    "   "
   ]
  },
  {
   "cell_type": "code",
   "execution_count": null,
   "metadata": {},
   "outputs": [],
   "source": [
    "aimoprc_list=['|a|', '|i|', '|m|', '|o|','|p|', '|r|', '|c|']\n",
    "# Test\n",
    "df_bionlp_final_test=pd.DataFrame(columns=['sent','aimoprc_category','data_category'])\n",
    "for aimoprc in aimoprc_list:\n",
    "    df_temp_test=pd.DataFrame(columns=['sent','aimoprc_category','data_category'])\n",
    "    df_temp_test['sent']=df_bionlp_test_split[aimoprc]\n",
    "    df_temp_test['aimoprc_category']=aimoprc\n",
    "    df_temp_test['data_category']='PICO_test'\n",
    "    df_bionlp_final_test=df_bionlp_final_test.append(df_temp_test)\n",
    "\n",
    "# Train\n",
    "df_bionlp_final_train=pd.DataFrame(columns=['sent','aimoprc_category','data_category'])\n",
    "for aimoprc in aimoprc_list:\n",
    "    df_temp_train=pd.DataFrame(columns=['sent','aimoprc_category','data_category'])\n",
    "    df_temp_train['sent']=df_bionlp_train_split[aimoprc]\n",
    "    df_temp_train['aimoprc_category']=aimoprc\n",
    "    df_temp_train['data_category']='PICO_train'\n",
    "    df_bionlp_final_train=df_bionlp_final_train.append(df_temp_train)\n",
    "    \n",
    "df_bionlp_final_dev=pd.DataFrame(columns=['sent','aimoprc_category','data_category'])\n",
    "for aimoprc in aimoprc_list:\n",
    "    df_temp_dev=pd.DataFrame(columns=['sent','aimoprc_category','data_category'])\n",
    "    df_temp_dev['sent']=df_bionlp_dev_split[aimoprc]\n",
    "    df_temp_dev['aimoprc_category']=aimoprc\n",
    "    df_temp_dev['data_category']='PICO_dev'\n",
    "    df_bionlp_final_dev=df_bionlp_final_dev.append(df_temp_dev)\n",
    "    "
   ]
  },
  {
   "cell_type": "code",
   "execution_count": null,
   "metadata": {},
   "outputs": [],
   "source": [
    "df_bionlp_final=pd.DataFrame(columns=['sent','aimoprc_category','data_category'])\n",
    "df_bionlp_final=df_bionlp_final.append(df_bionlp_final_test).append(df_bionlp_final_train).append(df_bionlp_final_dev)"
   ]
  },
  {
   "cell_type": "code",
   "execution_count": null,
   "metadata": {
    "jupyter": {
     "outputs_hidden": true
    }
   },
   "outputs": [],
   "source": [
    "## rEPLACE a,I ,M,O,P,R,C\n",
    "#['|a|', '|i|', '|m|', '|o|','|p|', '|r|', '|c|']\n",
    "def replaceColumnKeyword(cols):\n",
    "    '''\n",
    "    @Author - Fakhare Alam\n",
    "    '''\n",
    "    sent = cols[0]\n",
    "    if pd.isnull(sent):\n",
    "        return ''\n",
    "    else:\n",
    "        sent=sent.replace('|a|','').replace('|i|','').replace('|m|','').replace('|o|','').replace('|p|','').replace('|r|','').replace('|c|','')\n",
    "        if(len(sent.rsplit(' ', 1))>1):\n",
    "            remWord=sent.rsplit(' ', 1)[1]\n",
    "            if (remWord in [x.split(\":\")[0] for x in master_cat_list]):\n",
    "                sent=sent.rsplit(' ', 1)[0]\n",
    "        return sent\n",
    "    \n",
    "df_bionlp_final['sent'] = df_bionlp_final[['sent']].apply(replaceColumnKeyword,axis=1)"
   ]
  },
  {
   "cell_type": "code",
   "execution_count": null,
   "metadata": {},
   "outputs": [],
   "source": [
    "df_bionlp_final.to_csv('bionlp.csv')"
   ]
  },
  {
   "cell_type": "markdown",
   "metadata": {},
   "source": [
    "#### Merge Both Bionlp and medline text\n"
   ]
  },
  {
   "cell_type": "code",
   "execution_count": null,
   "metadata": {},
   "outputs": [],
   "source": [
    "df_final=df_pubmed_final.append(df_bionlp_final)"
   ]
  },
  {
   "cell_type": "code",
   "execution_count": null,
   "metadata": {},
   "outputs": [],
   "source": [
    "df_final['aimoprc_category']=df_final['aimoprc_category'].map({'|a|':'A', '|i|':'I', '|m|':'M', '|o|':'O','|p|':'P', '|r|':'R', '|c|':'C'})\n"
   ]
  },
  {
   "cell_type": "code",
   "execution_count": null,
   "metadata": {},
   "outputs": [],
   "source": [
    "df_final.to_csv('FinalParsed.csv')\n",
    "# This is the file after all the parsing"
   ]
  },
  {
   "cell_type": "markdown",
   "metadata": {},
   "source": [
    "# STEP -2"
   ]
  },
  {
   "cell_type": "markdown",
   "metadata": {},
   "source": [
    "#### Read from final file -- DO NOT TOUCH Commented purposefully\n",
    "\n",
    "##### Generated after all the pre-processing and merger of  certain category"
   ]
  },
  {
   "cell_type": "code",
   "execution_count": null,
   "metadata": {},
   "outputs": [],
   "source": [
    "'''\n",
    "\n",
    "df_final=pd.read_csv('FinalParsed.csv')\n",
    "rulesCO = {'C':'O'}\n",
    "# Merge {M,P},{C,O}\n",
    "df_final['aimoprc_category'].replace(rulesCO,inplace=True)\n",
    "rulesMP = {'M':'P'}\n",
    "df_final['aimoprc_category'].replace(rulesMP,inplace=True)\n",
    "\n",
    "# Drop NULL Sentences\n",
    "df_final.dropna(axis=0,how='any',inplace=True)\n",
    "df_final.to_csv('FinalParsed_cleaned.csv')\n",
    "'''\n",
    "A->P->I->R-O"
   ]
  },
  {
   "cell_type": "markdown",
   "metadata": {},
   "source": [
    "#### Read from final file  generated earlier"
   ]
  },
  {
   "cell_type": "code",
   "execution_count": 3,
   "metadata": {},
   "outputs": [],
   "source": [
    "df_final=pd.read_csv('APIRO_Datset.csv')"
   ]
  },
  {
   "cell_type": "code",
   "execution_count": 4,
   "metadata": {},
   "outputs": [
    {
     "data": {
      "text/plain": [
       "O    50079\n",
       "P    49324\n",
       "A    31696\n",
       "R    30589\n",
       "I    11713\n",
       "Name: aimoprc_category, dtype: int64"
      ]
     },
     "execution_count": 4,
     "metadata": {},
     "output_type": "execute_result"
    }
   ],
   "source": [
    "df_final['aimoprc_category'].value_counts()"
   ]
  },
  {
   "cell_type": "code",
   "execution_count": 5,
   "metadata": {},
   "outputs": [
    {
     "name": "stdout",
     "output_type": "stream",
     "text": [
      "<class 'pandas.core.frame.DataFrame'>\n",
      "RangeIndex: 173401 entries, 0 to 173400\n",
      "Data columns (total 5 columns):\n",
      "Unnamed: 0          173401 non-null int64\n",
      "Unnamed: 0.1        173401 non-null int64\n",
      "sent                173401 non-null object\n",
      "aimoprc_category    173401 non-null object\n",
      "data_category       173401 non-null object\n",
      "dtypes: int64(2), object(3)\n",
      "memory usage: 6.6+ MB\n"
     ]
    }
   ],
   "source": [
    "df_final.info()"
   ]
  },
  {
   "cell_type": "markdown",
   "metadata": {},
   "source": [
    "## STEP-3 Bi-LSTM Classification Model using Keras "
   ]
  },
  {
   "cell_type": "markdown",
   "metadata": {},
   "source": [
    "#### Uncomment to Load All the trained Model"
   ]
  },
  {
   "cell_type": "code",
   "execution_count": 8,
   "metadata": {},
   "outputs": [],
   "source": [
    "'''\n",
    "logreg_K =pickle.load(open('logreg_K', 'rb'))\n",
    "knn_K =pickle.load(open('knn_K', 'rb'))\n",
    "adaboost_b_K =pickle.load(open('adaboost_b_K', 'rb'))\n",
    "Gboost_b_K=pickle.load(open('Gboost_b_K', 'rb'))\n",
    "mlp_K =pickle.load(open('ANN_word2vec_K', 'rb'))\n",
    "model=pickle.load(open('LSTM_model_keras.sav', 'rb'))\n",
    "'''\n"
   ]
  },
  {
   "cell_type": "markdown",
   "metadata": {},
   "source": [
    "#### Data Preprocessing step"
   ]
  },
  {
   "cell_type": "code",
   "execution_count": 9,
   "metadata": {
    "jupyter": {
     "outputs_hidden": true
    }
   },
   "outputs": [
    {
     "name": "stdout",
     "output_type": "stream",
     "text": [
      "Found 99611 unique tokens.\n",
      "Shape of data tensor: (173401, 250)\n",
      "Shape of label tensor: (173401,)\n",
      "(156060, 250) (156060,)\n",
      "(17341, 250) (17341,)\n"
     ]
    }
   ],
   "source": [
    "df_final = df_final.reset_index(drop=True)\n",
    "REPLACE_BY_SPACE_RE = re.compile('[/(){}\\[\\]\\|@,;]')\n",
    "BAD_SYMBOLS_RE = re.compile('[^0-9a-z #+_]')\n",
    "STOPWORDS = set(stopwords.words('english'))\n",
    "\n",
    "def clean_text(text):\n",
    "    # lowercase text\n",
    "    text = text.lower()\n",
    "    # replace REPLACE_BY_SPACE_RE symbols by space in text. substitute the matched string in REPLACE_BY_SPACE_RE with space.\n",
    "    text = REPLACE_BY_SPACE_RE.sub(' ', text) \n",
    "    # remove symbols which are in BAD_SYMBOLS_RE from text. substitute the matched string in BAD_SYMBOLS_RE with nothing. \n",
    "    text = BAD_SYMBOLS_RE.sub('', text) \n",
    "    text = text.replace('x', '')\n",
    "    text = ' '.join(word for word in text.split() if word not in STOPWORDS) # remove stopwors from text\n",
    "    return text\n",
    "\n",
    "df_final['sent'] = df_final['sent'].apply(clean_text)\n",
    "\n",
    "df_final['sent'] =df_final['sent'].str.replace('\\d+', '')\n",
    "\n",
    "#The maximum number of words to be used. (most frequent)\n",
    "MAX_NB_WORDS = 50000\n",
    "# Max number of words in each complaint.\n",
    "MAX_SEQUENCE_LENGTH = 250\n",
    "# This is fixed.\n",
    "EMBEDDING_DIM = 100\n",
    "tokenizer = Tokenizer(num_words=MAX_NB_WORDS, filters='!\"#$%&()*+,-./:;<=>?@[\\]^_`{|}~', lower=True)\n",
    "tokenizer.fit_on_texts(df_final['sent'].values)\n",
    "word_index = tokenizer.word_index\n",
    "print('Found %s unique tokens.' % len(word_index))\n",
    "\n",
    "X = tokenizer.texts_to_sequences(df_final['sent'].values)\n",
    "X = pad_sequences(X, maxlen=MAX_SEQUENCE_LENGTH)\n",
    "print('Shape of data tensor:', X.shape)\n",
    "\n",
    "Y = df_final['aimoprc_category']\n",
    "Y_L = pd.get_dummies(df_final['aimoprc_category']).values\n",
    "print('Shape of label tensor:', Y.shape)\n",
    "\n",
    "X_train_K, X_test_K, Y_train_K, Y_test_K = train_test_split(X,Y, test_size = 0.10, random_state = 42)\n",
    "\n",
    "X_train_K_LSTM, X_test_K_LSTM, Y_train_K_LSTM, Y_test_K_LSTM = train_test_split(X,Y_L, test_size = 0.10, random_state = 42)\n",
    "\n",
    "print(X_train_K.shape,Y_train_K.shape)\n",
    "print(X_test_K.shape,Y_test_K.shape)"
   ]
  },
  {
   "cell_type": "markdown",
   "metadata": {},
   "source": [
    "#### Model 1- Logistic Regression- Keras"
   ]
  },
  {
   "cell_type": "code",
   "execution_count": 69,
   "metadata": {},
   "outputs": [
    {
     "name": "stdout",
     "output_type": "stream",
     "text": [
      "[[  11    0 2050  662  410]\n",
      " [   1    0  792  332  113]\n",
      " [  13    0 3662  958  403]\n",
      " [  71    0 2266 1950  565]\n",
      " [  24    0 1098  373 1587]]\n"
     ]
    },
    {
     "name": "stderr",
     "output_type": "stream",
     "text": [
      "C:\\ProgramData\\Anaconda3\\lib\\site-packages\\sklearn\\metrics\\classification.py:1437: UndefinedMetricWarning:\n",
      "\n",
      "Precision and F-score are ill-defined and being set to 0.0 in labels with no predicted samples.\n",
      "\n"
     ]
    },
    {
     "name": "stdout",
     "output_type": "stream",
     "text": [
      "              precision    recall  f1-score   support\n",
      "\n",
      "           A       0.09      0.00      0.01      3133\n",
      "           I       0.00      0.00      0.00      1238\n",
      "           O       0.37      0.73      0.49      5036\n",
      "           P       0.46      0.40      0.43      4852\n",
      "           R       0.52      0.51      0.52      3082\n",
      "\n",
      "    accuracy                           0.42     17341\n",
      "   macro avg       0.29      0.33      0.29     17341\n",
      "weighted avg       0.34      0.42      0.36     17341\n",
      "\n",
      "Logistic Regression Keras-Accuracy 0.4157776368144859\n"
     ]
    }
   ],
   "source": [
    "# Comment two lines When trained model is loaded\n",
    "logreg_K=LogisticRegression()\n",
    "logreg_K.fit(X_train_K, Y_train_K)\n",
    "Y_pred_K=logreg_K.predict(X_test_K)\n",
    "print(confusion_matrix(Y_test_K,Y_pred_K))\n",
    "print(classification_report(Y_test_K,Y_pred_K))\n",
    "print('Logistic Regression Keras-Accuracy' ,accuracy_score(Y_test_K,Y_pred_K))"
   ]
  },
  {
   "cell_type": "markdown",
   "metadata": {},
   "source": [
    "#### Model 2- KNN -Keras"
   ]
  },
  {
   "cell_type": "code",
   "execution_count": 71,
   "metadata": {},
   "outputs": [
    {
     "name": "stdout",
     "output_type": "stream",
     "text": [
      "[[ 801  109 1261  701  261]\n",
      " [ 275   95  458  337   73]\n",
      " [1186  196 2205 1152  297]\n",
      " [ 857  177 1418 2057  343]\n",
      " [ 579   74  966  532  931]]\n",
      "              precision    recall  f1-score   support\n",
      "\n",
      "           A       0.22      0.26      0.23      3133\n",
      "           I       0.15      0.08      0.10      1238\n",
      "           O       0.35      0.44      0.39      5036\n",
      "           P       0.43      0.42      0.43      4852\n",
      "           R       0.49      0.30      0.37      3082\n",
      "\n",
      "    accuracy                           0.35     17341\n",
      "   macro avg       0.33      0.30      0.30     17341\n",
      "weighted avg       0.36      0.35      0.35     17341\n",
      "\n",
      "Accuracy 0.35113315264402284\n"
     ]
    }
   ],
   "source": [
    "# Comment two lines When trained model is loaded\n",
    "knn_K = KNeighborsClassifier(n_neighbors=5, metric='euclidean')\n",
    "knn_K.fit(X_train_K, Y_train_K)\n",
    "Y_pred_K=knn_K.predict(X_test_K)\n",
    "print(confusion_matrix(Y_test_K,Y_pred_K))\n",
    "print(classification_report(Y_test_K,Y_pred_K))\n",
    "print('Accuracy' ,accuracy_score(Y_test_K,Y_pred_K))"
   ]
  },
  {
   "cell_type": "markdown",
   "metadata": {},
   "source": [
    "#### Model 3-AdaBoost -Keras"
   ]
  },
  {
   "cell_type": "code",
   "execution_count": 58,
   "metadata": {},
   "outputs": [
    {
     "data": {
      "text/plain": [
       "AdaBoostClassifier(algorithm='SAMME.R', base_estimator=None, learning_rate=1.0,\n",
       "                   n_estimators=50, random_state=1)"
      ]
     },
     "execution_count": 58,
     "metadata": {},
     "output_type": "execute_result"
    },
    {
     "name": "stdout",
     "output_type": "stream",
     "text": [
      "[[ 213   11 1980  521  408]\n",
      " [   8  507  199  464   60]\n",
      " [ 214   47 3284 1052  439]\n",
      " [ 126  249 1457 2378  642]\n",
      " [ 148    0  607  150 2177]]\n",
      "              precision    recall  f1-score   support\n",
      "\n",
      "           A       0.30      0.07      0.11      3133\n",
      "           I       0.62      0.41      0.49      1238\n",
      "           O       0.44      0.65      0.52      5036\n",
      "           P       0.52      0.49      0.51      4852\n",
      "           R       0.58      0.71      0.64      3082\n",
      "\n",
      "    accuracy                           0.49     17341\n",
      "   macro avg       0.49      0.47      0.45     17341\n",
      "weighted avg       0.48      0.49      0.46     17341\n",
      "\n",
      "AdaBoost Keras- Accuracy 0.49357015166368723\n"
     ]
    }
   ],
   "source": [
    "# Comment two lines When trained model is loaded\n",
    "adaboost_b_K = AdaBoostClassifier(random_state=1)\n",
    "adaboost_b_K.fit(X_train_K, Y_train_K)\n",
    "Y_pred_K = adaboost_b_K.predict(X_test_K)\n",
    "print(confusion_matrix(Y_test_K,Y_pred_K))\n",
    "print(classification_report(Y_test_K,Y_pred_K))\n",
    "print('AdaBoost Keras- Accuracy' ,accuracy_score(Y_test_K,Y_pred_K))"
   ]
  },
  {
   "cell_type": "markdown",
   "metadata": {},
   "source": [
    "#### Model 4- Gradient Boost -Keras"
   ]
  },
  {
   "cell_type": "code",
   "execution_count": 59,
   "metadata": {},
   "outputs": [
    {
     "data": {
      "text/plain": [
       "GradientBoostingClassifier(criterion='friedman_mse', init=None,\n",
       "                           learning_rate=0.01, loss='deviance', max_depth=3,\n",
       "                           max_features=None, max_leaf_nodes=None,\n",
       "                           min_impurity_decrease=0.0, min_impurity_split=None,\n",
       "                           min_samples_leaf=1, min_samples_split=2,\n",
       "                           min_weight_fraction_leaf=0.0, n_estimators=100,\n",
       "                           n_iter_no_change=None, presort='auto',\n",
       "                           random_state=1, subsample=1.0, tol=0.0001,\n",
       "                           validation_fraction=0.1, verbose=0,\n",
       "                           warm_start=False)"
      ]
     },
     "execution_count": 59,
     "metadata": {},
     "output_type": "execute_result"
    },
    {
     "name": "stdout",
     "output_type": "stream",
     "text": [
      "[[  19   15 2190  436  473]\n",
      " [   0  701  230  249   58]\n",
      " [   1   93 3679  813  450]\n",
      " [   1  321 1742 2159  629]\n",
      " [   0    3  800  128 2151]]\n",
      "              precision    recall  f1-score   support\n",
      "\n",
      "           A       0.90      0.01      0.01      3133\n",
      "           I       0.62      0.57      0.59      1238\n",
      "           O       0.43      0.73      0.54      5036\n",
      "           P       0.57      0.44      0.50      4852\n",
      "           R       0.57      0.70      0.63      3082\n",
      "\n",
      "    accuracy                           0.50     17341\n",
      "   macro avg       0.62      0.49      0.45     17341\n",
      "weighted avg       0.59      0.50      0.45     17341\n",
      "\n",
      " Gradient Boost - Keras Accuracy 0.5022201718470677\n"
     ]
    }
   ],
   "source": [
    "# Comment two lines When trained model is loaded\n",
    "Gboost_b_K = GradientBoostingClassifier(learning_rate=0.01,random_state=1)\n",
    "Gboost_b_K.fit(X_train_K, Y_train_K)\n",
    "Y_pred_K = Gboost_b_K.predict(X_test_K)\n",
    "print(confusion_matrix(Y_test_K,Y_pred_K))\n",
    "print(classification_report(Y_test_K,Y_pred_K))\n",
    "print(' Gradient Boost - Keras Accuracy' ,accuracy_score(Y_test_K,Y_pred_K))"
   ]
  },
  {
   "cell_type": "markdown",
   "metadata": {},
   "source": [
    "#### Model 5-ANN "
   ]
  },
  {
   "cell_type": "code",
   "execution_count": 60,
   "metadata": {},
   "outputs": [
    {
     "data": {
      "text/plain": [
       "MLPClassifier(activation='relu', alpha=0.0001, batch_size='auto', beta_1=0.9,\n",
       "              beta_2=0.999, early_stopping=False, epsilon=1e-08,\n",
       "              hidden_layer_sizes=(100, 70, 30, 20, 10),\n",
       "              learning_rate='constant', learning_rate_init=0.001, max_iter=1000,\n",
       "              momentum=0.9, n_iter_no_change=10, nesterovs_momentum=True,\n",
       "              power_t=0.5, random_state=None, shuffle=True, solver='adam',\n",
       "              tol=0.0001, validation_fraction=0.1, verbose=False,\n",
       "              warm_start=False)"
      ]
     },
     "execution_count": 60,
     "metadata": {},
     "output_type": "execute_result"
    },
    {
     "name": "stdout",
     "output_type": "stream",
     "text": [
      "[[   0    0 3133    0    0]\n",
      " [   0    0 1237    1    0]\n",
      " [   0    0 5036    0    0]\n",
      " [   0    0 4852    0    0]\n",
      " [   0    0 3082    0    0]]\n"
     ]
    },
    {
     "name": "stderr",
     "output_type": "stream",
     "text": [
      "C:\\ProgramData\\Anaconda3\\lib\\site-packages\\sklearn\\metrics\\classification.py:1437: UndefinedMetricWarning:\n",
      "\n",
      "Precision and F-score are ill-defined and being set to 0.0 in labels with no predicted samples.\n",
      "\n"
     ]
    },
    {
     "name": "stdout",
     "output_type": "stream",
     "text": [
      "              precision    recall  f1-score   support\n",
      "\n",
      "           A       0.00      0.00      0.00      3133\n",
      "           I       0.00      0.00      0.00      1238\n",
      "           O       0.29      1.00      0.45      5036\n",
      "           P       0.00      0.00      0.00      4852\n",
      "           R       0.00      0.00      0.00      3082\n",
      "\n",
      "    accuracy                           0.29     17341\n",
      "   macro avg       0.06      0.20      0.09     17341\n",
      "weighted avg       0.08      0.29      0.13     17341\n",
      "\n",
      "ANN - Keras Accuracy 0.2904100109566922\n"
     ]
    }
   ],
   "source": [
    "# Comment two lines When trained model is loaded\n",
    "mlp_K = MLPClassifier(hidden_layer_sizes=(100, 70, 30,20,10), max_iter=1000)\n",
    "mlp_K.fit(X_train_K, Y_train_K)\n",
    "Y_pred_K = mlp_K.predict(X_test_K)\n",
    "print(confusion_matrix(Y_test_K,Y_pred_K))\n",
    "print(classification_report(Y_test_K,Y_pred_K))\n",
    "print('ANN - Keras Accuracy' ,accuracy_score(Y_test_K,Y_pred_K))"
   ]
  },
  {
   "cell_type": "markdown",
   "metadata": {},
   "source": [
    "#### Model -6  Bi-directional Long Short Term Memory (Bi-LSTM) - Keras"
   ]
  },
  {
   "cell_type": "code",
   "execution_count": null,
   "metadata": {},
   "outputs": [],
   "source": [
    "#df_final=pd.read_csv('FinalParsed_cleaned.csv')\n",
    "df_final=df_final[[ 'sent', 'aimoprc_category']]"
   ]
  },
  {
   "cell_type": "code",
   "execution_count": 76,
   "metadata": {},
   "outputs": [
    {
     "data": {
      "text/html": [
       "<div>\n",
       "<style scoped>\n",
       "    .dataframe tbody tr th:only-of-type {\n",
       "        vertical-align: middle;\n",
       "    }\n",
       "\n",
       "    .dataframe tbody tr th {\n",
       "        vertical-align: top;\n",
       "    }\n",
       "\n",
       "    .dataframe thead th {\n",
       "        text-align: right;\n",
       "    }\n",
       "</style>\n",
       "<table border=\"1\" class=\"dataframe\">\n",
       "  <thead>\n",
       "    <tr style=\"text-align: right;\">\n",
       "      <th></th>\n",
       "      <th>Unnamed: 0</th>\n",
       "      <th>Unnamed: 0.1</th>\n",
       "      <th>sent</th>\n",
       "      <th>aimoprc_category</th>\n",
       "      <th>data_category</th>\n",
       "      <th>cleaned_sent</th>\n",
       "    </tr>\n",
       "  </thead>\n",
       "  <tbody>\n",
       "    <tr>\n",
       "      <td>0</td>\n",
       "      <td>0</td>\n",
       "      <td>1</td>\n",
       "      <td>innominate artery aneurysms iaas relatively ra...</td>\n",
       "      <td>A</td>\n",
       "      <td>medline</td>\n",
       "      <td>innominate artery aneurysms (iaas) are relati...</td>\n",
       "    </tr>\n",
       "    <tr>\n",
       "      <td>1</td>\n",
       "      <td>1</td>\n",
       "      <td>2</td>\n",
       "      <td>treating intracranial aneurysms open microsurg...</td>\n",
       "      <td>A</td>\n",
       "      <td>medline</td>\n",
       "      <td>when treating intracranial aneurysms with ope...</td>\n",
       "    </tr>\n",
       "    <tr>\n",
       "      <td>2</td>\n",
       "      <td>2</td>\n",
       "      <td>3</td>\n",
       "      <td>report novel internal eternal blood bypass met...</td>\n",
       "      <td>A</td>\n",
       "      <td>medline</td>\n",
       "      <td>to report a novel internal and eternal blood ...</td>\n",
       "    </tr>\n",
       "    <tr>\n",
       "      <td>3</td>\n",
       "      <td>3</td>\n",
       "      <td>5</td>\n",
       "      <td>imagebased hemodynamic simulations great poten...</td>\n",
       "      <td>A</td>\n",
       "      <td>medline</td>\n",
       "      <td>image-based hemodynamic simulations have grea...</td>\n",
       "    </tr>\n",
       "    <tr>\n",
       "      <td>4</td>\n",
       "      <td>4</td>\n",
       "      <td>7</td>\n",
       "      <td>intracranial aneurysm rupture devastating comp...</td>\n",
       "      <td>A</td>\n",
       "      <td>medline</td>\n",
       "      <td>intracranial aneurysm rupture is the most dev...</td>\n",
       "    </tr>\n",
       "  </tbody>\n",
       "</table>\n",
       "</div>"
      ],
      "text/plain": [
       "   Unnamed: 0  Unnamed: 0.1  \\\n",
       "0           0             1   \n",
       "1           1             2   \n",
       "2           2             3   \n",
       "3           3             5   \n",
       "4           4             7   \n",
       "\n",
       "                                                sent aimoprc_category  \\\n",
       "0  innominate artery aneurysms iaas relatively ra...                A   \n",
       "1  treating intracranial aneurysms open microsurg...                A   \n",
       "2  report novel internal eternal blood bypass met...                A   \n",
       "3  imagebased hemodynamic simulations great poten...                A   \n",
       "4  intracranial aneurysm rupture devastating comp...                A   \n",
       "\n",
       "  data_category                                       cleaned_sent  \n",
       "0       medline   innominate artery aneurysms (iaas) are relati...  \n",
       "1       medline   when treating intracranial aneurysms with ope...  \n",
       "2       medline   to report a novel internal and eternal blood ...  \n",
       "3       medline   image-based hemodynamic simulations have grea...  \n",
       "4       medline   intracranial aneurysm rupture is the most dev...  "
      ]
     },
     "execution_count": 76,
     "metadata": {},
     "output_type": "execute_result"
    }
   ],
   "source": [
    "df_final.head()"
   ]
  },
  {
   "cell_type": "code",
   "execution_count": 77,
   "metadata": {},
   "outputs": [
    {
     "data": {
      "application/vnd.plotly.v1+json": {
       "config": {
        "linkText": "Export to plot.ly",
        "plotlyServerURL": "https://plot.ly",
        "showLink": true
       },
       "data": [
        {
         "marker": {
          "color": "rgba(255, 153, 51, 0.6)",
          "line": {
           "color": "rgba(255, 153, 51, 1.0)",
           "width": 1
          }
         },
         "name": "aimoprc_category",
         "orientation": "v",
         "text": "",
         "type": "bar",
         "x": [
          "O",
          "P",
          "A",
          "R",
          "I"
         ],
         "y": [
          50079,
          49324,
          31696,
          30589,
          11713
         ]
        }
       ],
       "layout": {
        "legend": {
         "bgcolor": "#F5F6F9",
         "font": {
          "color": "#4D5663"
         }
        },
        "paper_bgcolor": "#F5F6F9",
        "plot_bgcolor": "#F5F6F9",
        "template": {
         "data": {
          "bar": [
           {
            "error_x": {
             "color": "#2a3f5f"
            },
            "error_y": {
             "color": "#2a3f5f"
            },
            "marker": {
             "line": {
              "color": "#E5ECF6",
              "width": 0.5
             }
            },
            "type": "bar"
           }
          ],
          "barpolar": [
           {
            "marker": {
             "line": {
              "color": "#E5ECF6",
              "width": 0.5
             }
            },
            "type": "barpolar"
           }
          ],
          "carpet": [
           {
            "aaxis": {
             "endlinecolor": "#2a3f5f",
             "gridcolor": "white",
             "linecolor": "white",
             "minorgridcolor": "white",
             "startlinecolor": "#2a3f5f"
            },
            "baxis": {
             "endlinecolor": "#2a3f5f",
             "gridcolor": "white",
             "linecolor": "white",
             "minorgridcolor": "white",
             "startlinecolor": "#2a3f5f"
            },
            "type": "carpet"
           }
          ],
          "choropleth": [
           {
            "colorbar": {
             "outlinewidth": 0,
             "ticks": ""
            },
            "type": "choropleth"
           }
          ],
          "contour": [
           {
            "colorbar": {
             "outlinewidth": 0,
             "ticks": ""
            },
            "colorscale": [
             [
              0,
              "#0d0887"
             ],
             [
              0.1111111111111111,
              "#46039f"
             ],
             [
              0.2222222222222222,
              "#7201a8"
             ],
             [
              0.3333333333333333,
              "#9c179e"
             ],
             [
              0.4444444444444444,
              "#bd3786"
             ],
             [
              0.5555555555555556,
              "#d8576b"
             ],
             [
              0.6666666666666666,
              "#ed7953"
             ],
             [
              0.7777777777777778,
              "#fb9f3a"
             ],
             [
              0.8888888888888888,
              "#fdca26"
             ],
             [
              1,
              "#f0f921"
             ]
            ],
            "type": "contour"
           }
          ],
          "contourcarpet": [
           {
            "colorbar": {
             "outlinewidth": 0,
             "ticks": ""
            },
            "type": "contourcarpet"
           }
          ],
          "heatmap": [
           {
            "colorbar": {
             "outlinewidth": 0,
             "ticks": ""
            },
            "colorscale": [
             [
              0,
              "#0d0887"
             ],
             [
              0.1111111111111111,
              "#46039f"
             ],
             [
              0.2222222222222222,
              "#7201a8"
             ],
             [
              0.3333333333333333,
              "#9c179e"
             ],
             [
              0.4444444444444444,
              "#bd3786"
             ],
             [
              0.5555555555555556,
              "#d8576b"
             ],
             [
              0.6666666666666666,
              "#ed7953"
             ],
             [
              0.7777777777777778,
              "#fb9f3a"
             ],
             [
              0.8888888888888888,
              "#fdca26"
             ],
             [
              1,
              "#f0f921"
             ]
            ],
            "type": "heatmap"
           }
          ],
          "heatmapgl": [
           {
            "colorbar": {
             "outlinewidth": 0,
             "ticks": ""
            },
            "colorscale": [
             [
              0,
              "#0d0887"
             ],
             [
              0.1111111111111111,
              "#46039f"
             ],
             [
              0.2222222222222222,
              "#7201a8"
             ],
             [
              0.3333333333333333,
              "#9c179e"
             ],
             [
              0.4444444444444444,
              "#bd3786"
             ],
             [
              0.5555555555555556,
              "#d8576b"
             ],
             [
              0.6666666666666666,
              "#ed7953"
             ],
             [
              0.7777777777777778,
              "#fb9f3a"
             ],
             [
              0.8888888888888888,
              "#fdca26"
             ],
             [
              1,
              "#f0f921"
             ]
            ],
            "type": "heatmapgl"
           }
          ],
          "histogram": [
           {
            "marker": {
             "colorbar": {
              "outlinewidth": 0,
              "ticks": ""
             }
            },
            "type": "histogram"
           }
          ],
          "histogram2d": [
           {
            "colorbar": {
             "outlinewidth": 0,
             "ticks": ""
            },
            "colorscale": [
             [
              0,
              "#0d0887"
             ],
             [
              0.1111111111111111,
              "#46039f"
             ],
             [
              0.2222222222222222,
              "#7201a8"
             ],
             [
              0.3333333333333333,
              "#9c179e"
             ],
             [
              0.4444444444444444,
              "#bd3786"
             ],
             [
              0.5555555555555556,
              "#d8576b"
             ],
             [
              0.6666666666666666,
              "#ed7953"
             ],
             [
              0.7777777777777778,
              "#fb9f3a"
             ],
             [
              0.8888888888888888,
              "#fdca26"
             ],
             [
              1,
              "#f0f921"
             ]
            ],
            "type": "histogram2d"
           }
          ],
          "histogram2dcontour": [
           {
            "colorbar": {
             "outlinewidth": 0,
             "ticks": ""
            },
            "colorscale": [
             [
              0,
              "#0d0887"
             ],
             [
              0.1111111111111111,
              "#46039f"
             ],
             [
              0.2222222222222222,
              "#7201a8"
             ],
             [
              0.3333333333333333,
              "#9c179e"
             ],
             [
              0.4444444444444444,
              "#bd3786"
             ],
             [
              0.5555555555555556,
              "#d8576b"
             ],
             [
              0.6666666666666666,
              "#ed7953"
             ],
             [
              0.7777777777777778,
              "#fb9f3a"
             ],
             [
              0.8888888888888888,
              "#fdca26"
             ],
             [
              1,
              "#f0f921"
             ]
            ],
            "type": "histogram2dcontour"
           }
          ],
          "mesh3d": [
           {
            "colorbar": {
             "outlinewidth": 0,
             "ticks": ""
            },
            "type": "mesh3d"
           }
          ],
          "parcoords": [
           {
            "line": {
             "colorbar": {
              "outlinewidth": 0,
              "ticks": ""
             }
            },
            "type": "parcoords"
           }
          ],
          "pie": [
           {
            "automargin": true,
            "type": "pie"
           }
          ],
          "scatter": [
           {
            "marker": {
             "colorbar": {
              "outlinewidth": 0,
              "ticks": ""
             }
            },
            "type": "scatter"
           }
          ],
          "scatter3d": [
           {
            "line": {
             "colorbar": {
              "outlinewidth": 0,
              "ticks": ""
             }
            },
            "marker": {
             "colorbar": {
              "outlinewidth": 0,
              "ticks": ""
             }
            },
            "type": "scatter3d"
           }
          ],
          "scattercarpet": [
           {
            "marker": {
             "colorbar": {
              "outlinewidth": 0,
              "ticks": ""
             }
            },
            "type": "scattercarpet"
           }
          ],
          "scattergeo": [
           {
            "marker": {
             "colorbar": {
              "outlinewidth": 0,
              "ticks": ""
             }
            },
            "type": "scattergeo"
           }
          ],
          "scattergl": [
           {
            "marker": {
             "colorbar": {
              "outlinewidth": 0,
              "ticks": ""
             }
            },
            "type": "scattergl"
           }
          ],
          "scattermapbox": [
           {
            "marker": {
             "colorbar": {
              "outlinewidth": 0,
              "ticks": ""
             }
            },
            "type": "scattermapbox"
           }
          ],
          "scatterpolar": [
           {
            "marker": {
             "colorbar": {
              "outlinewidth": 0,
              "ticks": ""
             }
            },
            "type": "scatterpolar"
           }
          ],
          "scatterpolargl": [
           {
            "marker": {
             "colorbar": {
              "outlinewidth": 0,
              "ticks": ""
             }
            },
            "type": "scatterpolargl"
           }
          ],
          "scatterternary": [
           {
            "marker": {
             "colorbar": {
              "outlinewidth": 0,
              "ticks": ""
             }
            },
            "type": "scatterternary"
           }
          ],
          "surface": [
           {
            "colorbar": {
             "outlinewidth": 0,
             "ticks": ""
            },
            "colorscale": [
             [
              0,
              "#0d0887"
             ],
             [
              0.1111111111111111,
              "#46039f"
             ],
             [
              0.2222222222222222,
              "#7201a8"
             ],
             [
              0.3333333333333333,
              "#9c179e"
             ],
             [
              0.4444444444444444,
              "#bd3786"
             ],
             [
              0.5555555555555556,
              "#d8576b"
             ],
             [
              0.6666666666666666,
              "#ed7953"
             ],
             [
              0.7777777777777778,
              "#fb9f3a"
             ],
             [
              0.8888888888888888,
              "#fdca26"
             ],
             [
              1,
              "#f0f921"
             ]
            ],
            "type": "surface"
           }
          ],
          "table": [
           {
            "cells": {
             "fill": {
              "color": "#EBF0F8"
             },
             "line": {
              "color": "white"
             }
            },
            "header": {
             "fill": {
              "color": "#C8D4E3"
             },
             "line": {
              "color": "white"
             }
            },
            "type": "table"
           }
          ]
         },
         "layout": {
          "annotationdefaults": {
           "arrowcolor": "#2a3f5f",
           "arrowhead": 0,
           "arrowwidth": 1
          },
          "coloraxis": {
           "colorbar": {
            "outlinewidth": 0,
            "ticks": ""
           }
          },
          "colorscale": {
           "diverging": [
            [
             0,
             "#8e0152"
            ],
            [
             0.1,
             "#c51b7d"
            ],
            [
             0.2,
             "#de77ae"
            ],
            [
             0.3,
             "#f1b6da"
            ],
            [
             0.4,
             "#fde0ef"
            ],
            [
             0.5,
             "#f7f7f7"
            ],
            [
             0.6,
             "#e6f5d0"
            ],
            [
             0.7,
             "#b8e186"
            ],
            [
             0.8,
             "#7fbc41"
            ],
            [
             0.9,
             "#4d9221"
            ],
            [
             1,
             "#276419"
            ]
           ],
           "sequential": [
            [
             0,
             "#0d0887"
            ],
            [
             0.1111111111111111,
             "#46039f"
            ],
            [
             0.2222222222222222,
             "#7201a8"
            ],
            [
             0.3333333333333333,
             "#9c179e"
            ],
            [
             0.4444444444444444,
             "#bd3786"
            ],
            [
             0.5555555555555556,
             "#d8576b"
            ],
            [
             0.6666666666666666,
             "#ed7953"
            ],
            [
             0.7777777777777778,
             "#fb9f3a"
            ],
            [
             0.8888888888888888,
             "#fdca26"
            ],
            [
             1,
             "#f0f921"
            ]
           ],
           "sequentialminus": [
            [
             0,
             "#0d0887"
            ],
            [
             0.1111111111111111,
             "#46039f"
            ],
            [
             0.2222222222222222,
             "#7201a8"
            ],
            [
             0.3333333333333333,
             "#9c179e"
            ],
            [
             0.4444444444444444,
             "#bd3786"
            ],
            [
             0.5555555555555556,
             "#d8576b"
            ],
            [
             0.6666666666666666,
             "#ed7953"
            ],
            [
             0.7777777777777778,
             "#fb9f3a"
            ],
            [
             0.8888888888888888,
             "#fdca26"
            ],
            [
             1,
             "#f0f921"
            ]
           ]
          },
          "colorway": [
           "#636efa",
           "#EF553B",
           "#00cc96",
           "#ab63fa",
           "#FFA15A",
           "#19d3f3",
           "#FF6692",
           "#B6E880",
           "#FF97FF",
           "#FECB52"
          ],
          "font": {
           "color": "#2a3f5f"
          },
          "geo": {
           "bgcolor": "white",
           "lakecolor": "white",
           "landcolor": "#E5ECF6",
           "showlakes": true,
           "showland": true,
           "subunitcolor": "white"
          },
          "hoverlabel": {
           "align": "left"
          },
          "hovermode": "closest",
          "mapbox": {
           "style": "light"
          },
          "paper_bgcolor": "white",
          "plot_bgcolor": "#E5ECF6",
          "polar": {
           "angularaxis": {
            "gridcolor": "white",
            "linecolor": "white",
            "ticks": ""
           },
           "bgcolor": "#E5ECF6",
           "radialaxis": {
            "gridcolor": "white",
            "linecolor": "white",
            "ticks": ""
           }
          },
          "scene": {
           "xaxis": {
            "backgroundcolor": "#E5ECF6",
            "gridcolor": "white",
            "gridwidth": 2,
            "linecolor": "white",
            "showbackground": true,
            "ticks": "",
            "zerolinecolor": "white"
           },
           "yaxis": {
            "backgroundcolor": "#E5ECF6",
            "gridcolor": "white",
            "gridwidth": 2,
            "linecolor": "white",
            "showbackground": true,
            "ticks": "",
            "zerolinecolor": "white"
           },
           "zaxis": {
            "backgroundcolor": "#E5ECF6",
            "gridcolor": "white",
            "gridwidth": 2,
            "linecolor": "white",
            "showbackground": true,
            "ticks": "",
            "zerolinecolor": "white"
           }
          },
          "shapedefaults": {
           "line": {
            "color": "#2a3f5f"
           }
          },
          "ternary": {
           "aaxis": {
            "gridcolor": "white",
            "linecolor": "white",
            "ticks": ""
           },
           "baxis": {
            "gridcolor": "white",
            "linecolor": "white",
            "ticks": ""
           },
           "bgcolor": "#E5ECF6",
           "caxis": {
            "gridcolor": "white",
            "linecolor": "white",
            "ticks": ""
           }
          },
          "title": {
           "x": 0.05
          },
          "xaxis": {
           "automargin": true,
           "gridcolor": "white",
           "linecolor": "white",
           "ticks": "",
           "title": {
            "standoff": 15
           },
           "zerolinecolor": "white",
           "zerolinewidth": 2
          },
          "yaxis": {
           "automargin": true,
           "gridcolor": "white",
           "linecolor": "white",
           "ticks": "",
           "title": {
            "standoff": 15
           },
           "zerolinecolor": "white",
           "zerolinewidth": 2
          }
         }
        },
        "title": {
         "font": {
          "color": "#4D5663"
         },
         "text": "Number text in each category"
        },
        "xaxis": {
         "gridcolor": "#E1E5ED",
         "showgrid": true,
         "tickfont": {
          "color": "#4D5663"
         },
         "title": {
          "font": {
           "color": "#4D5663"
          },
          "text": ""
         },
         "zerolinecolor": "#E1E5ED"
        },
        "yaxis": {
         "gridcolor": "#E1E5ED",
         "showgrid": true,
         "tickfont": {
          "color": "#4D5663"
         },
         "title": {
          "font": {
           "color": "#4D5663"
          },
          "text": "Number of text"
         },
         "zerolinecolor": "#E1E5ED"
        }
       }
      },
      "text/html": [
       "<div>\n",
       "        \n",
       "        \n",
       "            <div id=\"40089108-350e-4014-882a-9abaafcc4b8d\" class=\"plotly-graph-div\" style=\"height:525px; width:100%;\"></div>\n",
       "            <script type=\"text/javascript\">\n",
       "                require([\"plotly\"], function(Plotly) {\n",
       "                    window.PLOTLYENV=window.PLOTLYENV || {};\n",
       "                    window.PLOTLYENV.BASE_URL='https://plot.ly';\n",
       "                    \n",
       "                if (document.getElementById(\"40089108-350e-4014-882a-9abaafcc4b8d\")) {\n",
       "                    Plotly.newPlot(\n",
       "                        '40089108-350e-4014-882a-9abaafcc4b8d',\n",
       "                        [{\"marker\": {\"color\": \"rgba(255, 153, 51, 0.6)\", \"line\": {\"color\": \"rgba(255, 153, 51, 1.0)\", \"width\": 1}}, \"name\": \"aimoprc_category\", \"orientation\": \"v\", \"text\": \"\", \"type\": \"bar\", \"x\": [\"O\", \"P\", \"A\", \"R\", \"I\"], \"y\": [50079, 49324, 31696, 30589, 11713]}],\n",
       "                        {\"legend\": {\"bgcolor\": \"#F5F6F9\", \"font\": {\"color\": \"#4D5663\"}}, \"paper_bgcolor\": \"#F5F6F9\", \"plot_bgcolor\": \"#F5F6F9\", \"template\": {\"data\": {\"bar\": [{\"error_x\": {\"color\": \"#2a3f5f\"}, \"error_y\": {\"color\": \"#2a3f5f\"}, \"marker\": {\"line\": {\"color\": \"#E5ECF6\", \"width\": 0.5}}, \"type\": \"bar\"}], \"barpolar\": [{\"marker\": {\"line\": {\"color\": \"#E5ECF6\", \"width\": 0.5}}, \"type\": \"barpolar\"}], \"carpet\": [{\"aaxis\": {\"endlinecolor\": \"#2a3f5f\", \"gridcolor\": \"white\", \"linecolor\": \"white\", \"minorgridcolor\": \"white\", \"startlinecolor\": \"#2a3f5f\"}, \"baxis\": {\"endlinecolor\": \"#2a3f5f\", \"gridcolor\": \"white\", \"linecolor\": \"white\", \"minorgridcolor\": \"white\", \"startlinecolor\": \"#2a3f5f\"}, \"type\": \"carpet\"}], \"choropleth\": [{\"colorbar\": {\"outlinewidth\": 0, \"ticks\": \"\"}, \"type\": \"choropleth\"}], \"contour\": [{\"colorbar\": {\"outlinewidth\": 0, \"ticks\": \"\"}, \"colorscale\": [[0.0, \"#0d0887\"], [0.1111111111111111, \"#46039f\"], [0.2222222222222222, \"#7201a8\"], [0.3333333333333333, \"#9c179e\"], [0.4444444444444444, \"#bd3786\"], [0.5555555555555556, \"#d8576b\"], [0.6666666666666666, \"#ed7953\"], [0.7777777777777778, \"#fb9f3a\"], [0.8888888888888888, \"#fdca26\"], [1.0, \"#f0f921\"]], \"type\": \"contour\"}], \"contourcarpet\": [{\"colorbar\": {\"outlinewidth\": 0, \"ticks\": \"\"}, \"type\": \"contourcarpet\"}], \"heatmap\": [{\"colorbar\": {\"outlinewidth\": 0, \"ticks\": \"\"}, \"colorscale\": [[0.0, \"#0d0887\"], [0.1111111111111111, \"#46039f\"], [0.2222222222222222, \"#7201a8\"], [0.3333333333333333, \"#9c179e\"], [0.4444444444444444, \"#bd3786\"], [0.5555555555555556, \"#d8576b\"], [0.6666666666666666, \"#ed7953\"], [0.7777777777777778, \"#fb9f3a\"], [0.8888888888888888, \"#fdca26\"], [1.0, \"#f0f921\"]], \"type\": \"heatmap\"}], \"heatmapgl\": [{\"colorbar\": {\"outlinewidth\": 0, \"ticks\": \"\"}, \"colorscale\": [[0.0, \"#0d0887\"], [0.1111111111111111, \"#46039f\"], [0.2222222222222222, \"#7201a8\"], [0.3333333333333333, \"#9c179e\"], [0.4444444444444444, \"#bd3786\"], [0.5555555555555556, \"#d8576b\"], [0.6666666666666666, \"#ed7953\"], [0.7777777777777778, \"#fb9f3a\"], [0.8888888888888888, \"#fdca26\"], [1.0, \"#f0f921\"]], \"type\": \"heatmapgl\"}], \"histogram\": [{\"marker\": {\"colorbar\": {\"outlinewidth\": 0, \"ticks\": \"\"}}, \"type\": \"histogram\"}], \"histogram2d\": [{\"colorbar\": {\"outlinewidth\": 0, \"ticks\": \"\"}, \"colorscale\": [[0.0, \"#0d0887\"], [0.1111111111111111, \"#46039f\"], [0.2222222222222222, \"#7201a8\"], [0.3333333333333333, \"#9c179e\"], [0.4444444444444444, \"#bd3786\"], [0.5555555555555556, \"#d8576b\"], [0.6666666666666666, \"#ed7953\"], [0.7777777777777778, \"#fb9f3a\"], [0.8888888888888888, \"#fdca26\"], [1.0, \"#f0f921\"]], \"type\": \"histogram2d\"}], \"histogram2dcontour\": [{\"colorbar\": {\"outlinewidth\": 0, \"ticks\": \"\"}, \"colorscale\": [[0.0, \"#0d0887\"], [0.1111111111111111, \"#46039f\"], [0.2222222222222222, \"#7201a8\"], [0.3333333333333333, \"#9c179e\"], [0.4444444444444444, \"#bd3786\"], [0.5555555555555556, \"#d8576b\"], [0.6666666666666666, \"#ed7953\"], [0.7777777777777778, \"#fb9f3a\"], [0.8888888888888888, \"#fdca26\"], [1.0, \"#f0f921\"]], \"type\": \"histogram2dcontour\"}], \"mesh3d\": [{\"colorbar\": {\"outlinewidth\": 0, \"ticks\": \"\"}, \"type\": \"mesh3d\"}], \"parcoords\": [{\"line\": {\"colorbar\": {\"outlinewidth\": 0, \"ticks\": \"\"}}, \"type\": \"parcoords\"}], \"pie\": [{\"automargin\": true, \"type\": \"pie\"}], \"scatter\": [{\"marker\": {\"colorbar\": {\"outlinewidth\": 0, \"ticks\": \"\"}}, \"type\": \"scatter\"}], \"scatter3d\": [{\"line\": {\"colorbar\": {\"outlinewidth\": 0, \"ticks\": \"\"}}, \"marker\": {\"colorbar\": {\"outlinewidth\": 0, \"ticks\": \"\"}}, \"type\": \"scatter3d\"}], \"scattercarpet\": [{\"marker\": {\"colorbar\": {\"outlinewidth\": 0, \"ticks\": \"\"}}, \"type\": \"scattercarpet\"}], \"scattergeo\": [{\"marker\": {\"colorbar\": {\"outlinewidth\": 0, \"ticks\": \"\"}}, \"type\": \"scattergeo\"}], \"scattergl\": [{\"marker\": {\"colorbar\": {\"outlinewidth\": 0, \"ticks\": \"\"}}, \"type\": \"scattergl\"}], \"scattermapbox\": [{\"marker\": {\"colorbar\": {\"outlinewidth\": 0, \"ticks\": \"\"}}, \"type\": \"scattermapbox\"}], \"scatterpolar\": [{\"marker\": {\"colorbar\": {\"outlinewidth\": 0, \"ticks\": \"\"}}, \"type\": \"scatterpolar\"}], \"scatterpolargl\": [{\"marker\": {\"colorbar\": {\"outlinewidth\": 0, \"ticks\": \"\"}}, \"type\": \"scatterpolargl\"}], \"scatterternary\": [{\"marker\": {\"colorbar\": {\"outlinewidth\": 0, \"ticks\": \"\"}}, \"type\": \"scatterternary\"}], \"surface\": [{\"colorbar\": {\"outlinewidth\": 0, \"ticks\": \"\"}, \"colorscale\": [[0.0, \"#0d0887\"], [0.1111111111111111, \"#46039f\"], [0.2222222222222222, \"#7201a8\"], [0.3333333333333333, \"#9c179e\"], [0.4444444444444444, \"#bd3786\"], [0.5555555555555556, \"#d8576b\"], [0.6666666666666666, \"#ed7953\"], [0.7777777777777778, \"#fb9f3a\"], [0.8888888888888888, \"#fdca26\"], [1.0, \"#f0f921\"]], \"type\": \"surface\"}], \"table\": [{\"cells\": {\"fill\": {\"color\": \"#EBF0F8\"}, \"line\": {\"color\": \"white\"}}, \"header\": {\"fill\": {\"color\": \"#C8D4E3\"}, \"line\": {\"color\": \"white\"}}, \"type\": \"table\"}]}, \"layout\": {\"annotationdefaults\": {\"arrowcolor\": \"#2a3f5f\", \"arrowhead\": 0, \"arrowwidth\": 1}, \"coloraxis\": {\"colorbar\": {\"outlinewidth\": 0, \"ticks\": \"\"}}, \"colorscale\": {\"diverging\": [[0, \"#8e0152\"], [0.1, \"#c51b7d\"], [0.2, \"#de77ae\"], [0.3, \"#f1b6da\"], [0.4, \"#fde0ef\"], [0.5, \"#f7f7f7\"], [0.6, \"#e6f5d0\"], [0.7, \"#b8e186\"], [0.8, \"#7fbc41\"], [0.9, \"#4d9221\"], [1, \"#276419\"]], \"sequential\": [[0.0, \"#0d0887\"], [0.1111111111111111, \"#46039f\"], [0.2222222222222222, \"#7201a8\"], [0.3333333333333333, \"#9c179e\"], [0.4444444444444444, \"#bd3786\"], [0.5555555555555556, \"#d8576b\"], [0.6666666666666666, \"#ed7953\"], [0.7777777777777778, \"#fb9f3a\"], [0.8888888888888888, \"#fdca26\"], [1.0, \"#f0f921\"]], \"sequentialminus\": [[0.0, \"#0d0887\"], [0.1111111111111111, \"#46039f\"], [0.2222222222222222, \"#7201a8\"], [0.3333333333333333, \"#9c179e\"], [0.4444444444444444, \"#bd3786\"], [0.5555555555555556, \"#d8576b\"], [0.6666666666666666, \"#ed7953\"], [0.7777777777777778, \"#fb9f3a\"], [0.8888888888888888, \"#fdca26\"], [1.0, \"#f0f921\"]]}, \"colorway\": [\"#636efa\", \"#EF553B\", \"#00cc96\", \"#ab63fa\", \"#FFA15A\", \"#19d3f3\", \"#FF6692\", \"#B6E880\", \"#FF97FF\", \"#FECB52\"], \"font\": {\"color\": \"#2a3f5f\"}, \"geo\": {\"bgcolor\": \"white\", \"lakecolor\": \"white\", \"landcolor\": \"#E5ECF6\", \"showlakes\": true, \"showland\": true, \"subunitcolor\": \"white\"}, \"hoverlabel\": {\"align\": \"left\"}, \"hovermode\": \"closest\", \"mapbox\": {\"style\": \"light\"}, \"paper_bgcolor\": \"white\", \"plot_bgcolor\": \"#E5ECF6\", \"polar\": {\"angularaxis\": {\"gridcolor\": \"white\", \"linecolor\": \"white\", \"ticks\": \"\"}, \"bgcolor\": \"#E5ECF6\", \"radialaxis\": {\"gridcolor\": \"white\", \"linecolor\": \"white\", \"ticks\": \"\"}}, \"scene\": {\"xaxis\": {\"backgroundcolor\": \"#E5ECF6\", \"gridcolor\": \"white\", \"gridwidth\": 2, \"linecolor\": \"white\", \"showbackground\": true, \"ticks\": \"\", \"zerolinecolor\": \"white\"}, \"yaxis\": {\"backgroundcolor\": \"#E5ECF6\", \"gridcolor\": \"white\", \"gridwidth\": 2, \"linecolor\": \"white\", \"showbackground\": true, \"ticks\": \"\", \"zerolinecolor\": \"white\"}, \"zaxis\": {\"backgroundcolor\": \"#E5ECF6\", \"gridcolor\": \"white\", \"gridwidth\": 2, \"linecolor\": \"white\", \"showbackground\": true, \"ticks\": \"\", \"zerolinecolor\": \"white\"}}, \"shapedefaults\": {\"line\": {\"color\": \"#2a3f5f\"}}, \"ternary\": {\"aaxis\": {\"gridcolor\": \"white\", \"linecolor\": \"white\", \"ticks\": \"\"}, \"baxis\": {\"gridcolor\": \"white\", \"linecolor\": \"white\", \"ticks\": \"\"}, \"bgcolor\": \"#E5ECF6\", \"caxis\": {\"gridcolor\": \"white\", \"linecolor\": \"white\", \"ticks\": \"\"}}, \"title\": {\"x\": 0.05}, \"xaxis\": {\"automargin\": true, \"gridcolor\": \"white\", \"linecolor\": \"white\", \"ticks\": \"\", \"title\": {\"standoff\": 15}, \"zerolinecolor\": \"white\", \"zerolinewidth\": 2}, \"yaxis\": {\"automargin\": true, \"gridcolor\": \"white\", \"linecolor\": \"white\", \"ticks\": \"\", \"title\": {\"standoff\": 15}, \"zerolinecolor\": \"white\", \"zerolinewidth\": 2}}}, \"title\": {\"font\": {\"color\": \"#4D5663\"}, \"text\": \"Number text in each category\"}, \"xaxis\": {\"gridcolor\": \"#E1E5ED\", \"showgrid\": true, \"tickfont\": {\"color\": \"#4D5663\"}, \"title\": {\"font\": {\"color\": \"#4D5663\"}, \"text\": \"\"}, \"zerolinecolor\": \"#E1E5ED\"}, \"yaxis\": {\"gridcolor\": \"#E1E5ED\", \"showgrid\": true, \"tickfont\": {\"color\": \"#4D5663\"}, \"title\": {\"font\": {\"color\": \"#4D5663\"}, \"text\": \"Number of text\"}, \"zerolinecolor\": \"#E1E5ED\"}},\n",
       "                        {\"showLink\": true, \"linkText\": \"Export to plot.ly\", \"plotlyServerURL\": \"https://plot.ly\", \"responsive\": true}\n",
       "                    ).then(function(){\n",
       "                            \n",
       "var gd = document.getElementById('40089108-350e-4014-882a-9abaafcc4b8d');\n",
       "var x = new MutationObserver(function (mutations, observer) {{\n",
       "        var display = window.getComputedStyle(gd).display;\n",
       "        if (!display || display === 'none') {{\n",
       "            console.log([gd, 'removed!']);\n",
       "            Plotly.purge(gd);\n",
       "            observer.disconnect();\n",
       "        }}\n",
       "}});\n",
       "\n",
       "// Listen for the removal of the full notebook cells\n",
       "var notebookContainer = gd.closest('#notebook-container');\n",
       "if (notebookContainer) {{\n",
       "    x.observe(notebookContainer, {childList: true});\n",
       "}}\n",
       "\n",
       "// Listen for the clearing of the current output cell\n",
       "var outputEl = gd.closest('.output');\n",
       "if (outputEl) {{\n",
       "    x.observe(outputEl, {childList: true});\n",
       "}}\n",
       "\n",
       "                        })\n",
       "                };\n",
       "                });\n",
       "            </script>\n",
       "        </div>"
      ]
     },
     "metadata": {},
     "output_type": "display_data"
    }
   ],
   "source": [
    "df_final['aimoprc_category'].value_counts().sort_values(ascending=False).iplot(kind='bar', yTitle='Number of text', \n",
    "                                                                title='Number text in each category')"
   ]
  },
  {
   "cell_type": "markdown",
   "metadata": {},
   "source": [
    "#### LSTM- Model Building"
   ]
  },
  {
   "cell_type": "code",
   "execution_count": 61,
   "metadata": {},
   "outputs": [
    {
     "name": "stdout",
     "output_type": "stream",
     "text": [
      "Model: \"sequential_1\"\n",
      "_________________________________________________________________\n",
      "Layer (type)                 Output Shape              Param #   \n",
      "=================================================================\n",
      "embedding_1 (Embedding)      (None, 250, 100)          5000000   \n",
      "_________________________________________________________________\n",
      "spatial_dropout1d_1 (Spatial (None, 250, 100)          0         \n",
      "_________________________________________________________________\n",
      "lstm_1 (LSTM)                (None, 100)               80400     \n",
      "_________________________________________________________________\n",
      "dense_1 (Dense)              (None, 5)                 505       \n",
      "=================================================================\n",
      "Total params: 5,080,905\n",
      "Trainable params: 5,080,905\n",
      "Non-trainable params: 0\n",
      "_________________________________________________________________\n",
      "None\n"
     ]
    }
   ],
   "source": [
    "model = Sequential()\n",
    "model.add(Embedding(MAX_NB_WORDS, EMBEDDING_DIM, input_length=X.shape[1]))\n",
    "model.add(SpatialDropout1D(0.2))\n",
    "model.add(LSTM(100, dropout=0.2, recurrent_dropout=0.2))\n",
    "model.add(Dense(5, activation='softmax'))\n",
    "model.compile(loss='categorical_crossentropy', optimizer='adam', metrics=['accuracy'])\n",
    "print(model.summary())"
   ]
  },
  {
   "cell_type": "markdown",
   "metadata": {},
   "source": [
    "#### Training LSTM Model"
   ]
  },
  {
   "cell_type": "code",
   "execution_count": 62,
   "metadata": {},
   "outputs": [
    {
     "name": "stderr",
     "output_type": "stream",
     "text": [
      "C:\\ProgramData\\Anaconda3\\lib\\site-packages\\tensorflow_core\\python\\framework\\indexed_slices.py:424: UserWarning:\n",
      "\n",
      "Converting sparse IndexedSlices to a dense Tensor of unknown shape. This may consume a large amount of memory.\n",
      "\n"
     ]
    },
    {
     "name": "stdout",
     "output_type": "stream",
     "text": [
      "Train on 140454 samples, validate on 15606 samples\n",
      "Epoch 1/5\n",
      " 11264/140454 [=>............................] - ETA: 56:49 - loss: 1.6097 - accuracy: 0.171 - ETA: 47:09 - loss: 1.6067 - accuracy: 0.250 - ETA: 41:20 - loss: 1.6043 - accuracy: 0.307 - ETA: 37:02 - loss: 1.6014 - accuracy: 0.308 - ETA: 34:31 - loss: 1.5987 - accuracy: 0.321 - ETA: 32:58 - loss: 1.5972 - accuracy: 0.320 - ETA: 31:54 - loss: 1.5947 - accuracy: 0.310 - ETA: 30:48 - loss: 1.5908 - accuracy: 0.306 - ETA: 29:53 - loss: 1.5853 - accuracy: 0.300 - ETA: 29:05 - loss: 1.5806 - accuracy: 0.298 - ETA: 28:27 - loss: 1.5774 - accuracy: 0.295 - ETA: 27:58 - loss: 1.5718 - accuracy: 0.290 - ETA: 27:26 - loss: 1.5568 - accuracy: 0.295 - ETA: 27:05 - loss: 1.5514 - accuracy: 0.295 - ETA: 26:47 - loss: 1.5449 - accuracy: 0.297 - ETA: 26:28 - loss: 1.5405 - accuracy: 0.304 - ETA: 26:09 - loss: 1.5380 - accuracy: 0.305 - ETA: 25:53 - loss: 1.5364 - accuracy: 0.301 - ETA: 25:40 - loss: 1.5309 - accuracy: 0.305 - ETA: 25:28 - loss: 1.5291 - accuracy: 0.304 - ETA: 25:19 - loss: 1.5266 - accuracy: 0.308 - ETA: 25:12 - loss: 1.5251 - accuracy: 0.311 - ETA: 25:04 - loss: 1.5201 - accuracy: 0.318 - ETA: 24:56 - loss: 1.5177 - accuracy: 0.319 - ETA: 24:45 - loss: 1.5156 - accuracy: 0.320 - ETA: 24:36 - loss: 1.5108 - accuracy: 0.319 - ETA: 24:29 - loss: 1.5064 - accuracy: 0.323 - ETA: 24:23 - loss: 1.5032 - accuracy: 0.324 - ETA: 24:17 - loss: 1.5059 - accuracy: 0.324 - ETA: 24:13 - loss: 1.5034 - accuracy: 0.327 - ETA: 24:10 - loss: 1.5021 - accuracy: 0.325 - ETA: 24:24 - loss: 1.4998 - accuracy: 0.328 - ETA: 24:21 - loss: 1.4955 - accuracy: 0.331 - ETA: 24:18 - loss: 1.4928 - accuracy: 0.332 - ETA: 24:15 - loss: 1.4917 - accuracy: 0.333 - ETA: 24:17 - loss: 1.4894 - accuracy: 0.339 - ETA: 24:16 - loss: 1.4877 - accuracy: 0.342 - ETA: 24:15 - loss: 1.4833 - accuracy: 0.345 - ETA: 24:13 - loss: 1.4818 - accuracy: 0.347 - ETA: 24:15 - loss: 1.4757 - accuracy: 0.350 - ETA: 24:12 - loss: 1.4711 - accuracy: 0.354 - ETA: 24:09 - loss: 1.4694 - accuracy: 0.355 - ETA: 24:07 - loss: 1.4644 - accuracy: 0.358 - ETA: 24:05 - loss: 1.4610 - accuracy: 0.359 - ETA: 24:04 - loss: 1.4569 - accuracy: 0.360 - ETA: 24:02 - loss: 1.4518 - accuracy: 0.363 - ETA: 24:00 - loss: 1.4473 - accuracy: 0.366 - ETA: 23:59 - loss: 1.4460 - accuracy: 0.366 - ETA: 23:59 - loss: 1.4398 - accuracy: 0.370 - ETA: 24:00 - loss: 1.4338 - accuracy: 0.373 - ETA: 24:00 - loss: 1.4302 - accuracy: 0.376 - ETA: 24:03 - loss: 1.4253 - accuracy: 0.379 - ETA: 24:02 - loss: 1.4220 - accuracy: 0.382 - ETA: 24:00 - loss: 1.4186 - accuracy: 0.384 - ETA: 23:59 - loss: 1.4110 - accuracy: 0.388 - ETA: 23:55 - loss: 1.4067 - accuracy: 0.391 - ETA: 23:52 - loss: 1.4021 - accuracy: 0.395 - ETA: 23:50 - loss: 1.3973 - accuracy: 0.398 - ETA: 23:47 - loss: 1.3958 - accuracy: 0.398 - ETA: 23:47 - loss: 1.3907 - accuracy: 0.403 - ETA: 23:45 - loss: 1.3871 - accuracy: 0.405 - ETA: 23:44 - loss: 1.3839 - accuracy: 0.406 - ETA: 23:42 - loss: 1.3806 - accuracy: 0.409 - ETA: 23:41 - loss: 1.3737 - accuracy: 0.413 - ETA: 23:40 - loss: 1.3717 - accuracy: 0.413 - ETA: 23:37 - loss: 1.3664 - accuracy: 0.417 - ETA: 23:36 - loss: 1.3610 - accuracy: 0.420 - ETA: 23:34 - loss: 1.3593 - accuracy: 0.421 - ETA: 23:32 - loss: 1.3564 - accuracy: 0.422 - ETA: 23:30 - loss: 1.3528 - accuracy: 0.423 - ETA: 23:28 - loss: 1.3473 - accuracy: 0.426 - ETA: 23:26 - loss: 1.3435 - accuracy: 0.428 - ETA: 23:25 - loss: 1.3381 - accuracy: 0.432 - ETA: 23:25 - loss: 1.3344 - accuracy: 0.433 - ETA: 23:24 - loss: 1.3309 - accuracy: 0.435 - ETA: 23:23 - loss: 1.3291 - accuracy: 0.436 - ETA: 23:21 - loss: 1.3243 - accuracy: 0.439 - ETA: 23:20 - loss: 1.3209 - accuracy: 0.440 - ETA: 23:21 - loss: 1.3181 - accuracy: 0.442 - ETA: 23:20 - loss: 1.3158 - accuracy: 0.442 - ETA: 23:19 - loss: 1.3119 - accuracy: 0.444 - ETA: 23:19 - loss: 1.3065 - accuracy: 0.446 - ETA: 23:18 - loss: 1.3041 - accuracy: 0.449 - ETA: 23:17 - loss: 1.3019 - accuracy: 0.450 - ETA: 23:15 - loss: 1.3034 - accuracy: 0.449 - ETA: 23:13 - loss: 1.3003 - accuracy: 0.450 - ETA: 23:11 - loss: 1.2969 - accuracy: 0.452 - ETA: 23:10 - loss: 1.2941 - accuracy: 0.454 - ETA: 23:08 - loss: 1.2899 - accuracy: 0.455 - ETA: 23:06 - loss: 1.2869 - accuracy: 0.457 - ETA: 23:04 - loss: 1.2856 - accuracy: 0.457 - ETA: 23:03 - loss: 1.2833 - accuracy: 0.458 - ETA: 23:01 - loss: 1.2809 - accuracy: 0.459 - ETA: 23:00 - loss: 1.2782 - accuracy: 0.461 - ETA: 22:57 - loss: 1.2759 - accuracy: 0.462 - ETA: 22:56 - loss: 1.2727 - accuracy: 0.463 - ETA: 22:57 - loss: 1.2692 - accuracy: 0.464 - ETA: 22:57 - loss: 1.2659 - accuracy: 0.466 - ETA: 22:56 - loss: 1.2626 - accuracy: 0.467 - ETA: 22:55 - loss: 1.2594 - accuracy: 0.468 - ETA: 22:54 - loss: 1.2562 - accuracy: 0.469 - ETA: 22:53 - loss: 1.2539 - accuracy: 0.471 - ETA: 22:55 - loss: 1.2501 - accuracy: 0.473 - ETA: 23:00 - loss: 1.2472 - accuracy: 0.474 - ETA: 23:03 - loss: 1.2455 - accuracy: 0.475 - ETA: 23:05 - loss: 1.2425 - accuracy: 0.477 - ETA: 23:07 - loss: 1.2407 - accuracy: 0.477 - ETA: 23:06 - loss: 1.2388 - accuracy: 0.478 - ETA: 23:09 - loss: 1.2363 - accuracy: 0.478 - ETA: 23:12 - loss: 1.2358 - accuracy: 0.480 - ETA: 23:13 - loss: 1.2316 - accuracy: 0.481 - ETA: 23:13 - loss: 1.2285 - accuracy: 0.483 - ETA: 23:13 - loss: 1.2259 - accuracy: 0.484 - ETA: 23:12 - loss: 1.2247 - accuracy: 0.484 - ETA: 23:12 - loss: 1.2224 - accuracy: 0.485 - ETA: 23:12 - loss: 1.2203 - accuracy: 0.486 - ETA: 23:11 - loss: 1.2201 - accuracy: 0.486 - ETA: 23:09 - loss: 1.2174 - accuracy: 0.487 - ETA: 23:08 - loss: 1.2164 - accuracy: 0.487 - ETA: 23:06 - loss: 1.2144 - accuracy: 0.488 - ETA: 23:05 - loss: 1.2115 - accuracy: 0.490 - ETA: 23:06 - loss: 1.2084 - accuracy: 0.492 - ETA: 23:08 - loss: 1.2058 - accuracy: 0.493 - ETA: 23:07 - loss: 1.2018 - accuracy: 0.495 - ETA: 23:08 - loss: 1.2001 - accuracy: 0.496 - ETA: 23:09 - loss: 1.1973 - accuracy: 0.496 - ETA: 23:08 - loss: 1.1949 - accuracy: 0.497 - ETA: 23:06 - loss: 1.1919 - accuracy: 0.498 - ETA: 23:04 - loss: 1.1906 - accuracy: 0.499 - ETA: 23:03 - loss: 1.1881 - accuracy: 0.500 - ETA: 23:02 - loss: 1.1853 - accuracy: 0.502 - ETA: 23:03 - loss: 1.1826 - accuracy: 0.503 - ETA: 23:03 - loss: 1.1793 - accuracy: 0.504 - ETA: 23:02 - loss: 1.1775 - accuracy: 0.505 - ETA: 23:02 - loss: 1.1757 - accuracy: 0.506 - ETA: 23:03 - loss: 1.1742 - accuracy: 0.506 - ETA: 23:03 - loss: 1.1719 - accuracy: 0.507 - ETA: 23:02 - loss: 1.1707 - accuracy: 0.508 - ETA: 23:02 - loss: 1.1669 - accuracy: 0.509 - ETA: 23:01 - loss: 1.1656 - accuracy: 0.509 - ETA: 23:00 - loss: 1.1632 - accuracy: 0.510 - ETA: 23:00 - loss: 1.1607 - accuracy: 0.512 - ETA: 23:00 - loss: 1.1585 - accuracy: 0.513 - ETA: 23:00 - loss: 1.1568 - accuracy: 0.513 - ETA: 22:59 - loss: 1.1553 - accuracy: 0.514 - ETA: 23:01 - loss: 1.1533 - accuracy: 0.515 - ETA: 23:02 - loss: 1.1510 - accuracy: 0.516 - ETA: 23:02 - loss: 1.1485 - accuracy: 0.517 - ETA: 23:02 - loss: 1.1451 - accuracy: 0.519 - ETA: 23:04 - loss: 1.1422 - accuracy: 0.520 - ETA: 23:07 - loss: 1.1393 - accuracy: 0.521 - ETA: 23:08 - loss: 1.1381 - accuracy: 0.522 - ETA: 23:08 - loss: 1.1357 - accuracy: 0.523 - ETA: 23:08 - loss: 1.1337 - accuracy: 0.524 - ETA: 23:09 - loss: 1.1332 - accuracy: 0.524 - ETA: 23:10 - loss: 1.1309 - accuracy: 0.526 - ETA: 23:13 - loss: 1.1289 - accuracy: 0.526 - ETA: 23:14 - loss: 1.1263 - accuracy: 0.527 - ETA: 23:15 - loss: 1.1239 - accuracy: 0.528 - ETA: 23:16 - loss: 1.1220 - accuracy: 0.529 - ETA: 23:19 - loss: 1.1201 - accuracy: 0.530 - ETA: 23:19 - loss: 1.1175 - accuracy: 0.531 - ETA: 23:21 - loss: 1.1154 - accuracy: 0.531 - ETA: 23:23 - loss: 1.1142 - accuracy: 0.532 - ETA: 23:23 - loss: 1.1129 - accuracy: 0.532 - ETA: 23:24 - loss: 1.1109 - accuracy: 0.533 - ETA: 23:26 - loss: 1.1087 - accuracy: 0.535 - ETA: 23:30 - loss: 1.1072 - accuracy: 0.535 - ETA: 23:31 - loss: 1.1055 - accuracy: 0.536 - ETA: 23:33 - loss: 1.1030 - accuracy: 0.538 - ETA: 23:32 - loss: 1.1005 - accuracy: 0.539 - ETA: 23:32 - loss: 1.0985 - accuracy: 0.540 - ETA: 23:32 - loss: 1.0973 - accuracy: 0.540 - ETA: 23:33 - loss: 1.0946 - accuracy: 0.542 - ETA: 23:36 - loss: 1.0934 - accuracy: 0.542 - ETA: 23:38 - loss: 1.0904 - accuracy: 0.544 22656/140454 [===>..........................] - ETA: 23:40 - loss: 1.0885 - accuracy: 0.545 - ETA: 23:42 - loss: 1.0860 - accuracy: 0.546 - ETA: 23:43 - loss: 1.0841 - accuracy: 0.547 - ETA: 23:43 - loss: 1.0821 - accuracy: 0.548 - ETA: 23:43 - loss: 1.0807 - accuracy: 0.549 - ETA: 23:43 - loss: 1.0789 - accuracy: 0.549 - ETA: 23:43 - loss: 1.0773 - accuracy: 0.550 - ETA: 23:44 - loss: 1.0749 - accuracy: 0.551 - ETA: 23:45 - loss: 1.0732 - accuracy: 0.552 - ETA: 23:46 - loss: 1.0713 - accuracy: 0.553 - ETA: 23:46 - loss: 1.0694 - accuracy: 0.554 - ETA: 23:47 - loss: 1.0683 - accuracy: 0.554 - ETA: 23:48 - loss: 1.0673 - accuracy: 0.555 - ETA: 23:49 - loss: 1.0657 - accuracy: 0.555 - ETA: 23:50 - loss: 1.0633 - accuracy: 0.557 - ETA: 23:50 - loss: 1.0608 - accuracy: 0.558 - ETA: 23:51 - loss: 1.0584 - accuracy: 0.559 - ETA: 23:53 - loss: 1.0570 - accuracy: 0.559 - ETA: 23:53 - loss: 1.0557 - accuracy: 0.559 - ETA: 23:53 - loss: 1.0549 - accuracy: 0.560 - ETA: 23:54 - loss: 1.0529 - accuracy: 0.561 - ETA: 23:54 - loss: 1.0520 - accuracy: 0.561 - ETA: 23:55 - loss: 1.0494 - accuracy: 0.562 - ETA: 23:55 - loss: 1.0478 - accuracy: 0.563 - ETA: 23:55 - loss: 1.0453 - accuracy: 0.564 - ETA: 23:55 - loss: 1.0434 - accuracy: 0.565 - ETA: 23:55 - loss: 1.0418 - accuracy: 0.566 - ETA: 23:55 - loss: 1.0400 - accuracy: 0.567 - ETA: 23:56 - loss: 1.0382 - accuracy: 0.568 - ETA: 23:56 - loss: 1.0366 - accuracy: 0.569 - ETA: 23:56 - loss: 1.0342 - accuracy: 0.569 - ETA: 23:56 - loss: 1.0335 - accuracy: 0.569 - ETA: 23:58 - loss: 1.0317 - accuracy: 0.570 - ETA: 23:59 - loss: 1.0298 - accuracy: 0.571 - ETA: 23:58 - loss: 1.0284 - accuracy: 0.572 - ETA: 23:57 - loss: 1.0271 - accuracy: 0.572 - ETA: 23:59 - loss: 1.0256 - accuracy: 0.573 - ETA: 23:59 - loss: 1.0244 - accuracy: 0.574 - ETA: 23:59 - loss: 1.0226 - accuracy: 0.574 - ETA: 23:59 - loss: 1.0220 - accuracy: 0.575 - ETA: 23:58 - loss: 1.0200 - accuracy: 0.576 - ETA: 23:57 - loss: 1.0188 - accuracy: 0.576 - ETA: 23:57 - loss: 1.0170 - accuracy: 0.577 - ETA: 23:55 - loss: 1.0159 - accuracy: 0.578 - ETA: 23:55 - loss: 1.0138 - accuracy: 0.579 - ETA: 23:55 - loss: 1.0117 - accuracy: 0.579 - ETA: 23:55 - loss: 1.0098 - accuracy: 0.580 - ETA: 23:56 - loss: 1.0088 - accuracy: 0.581 - ETA: 23:57 - loss: 1.0072 - accuracy: 0.581 - ETA: 23:57 - loss: 1.0051 - accuracy: 0.582 - ETA: 23:57 - loss: 1.0043 - accuracy: 0.583 - ETA: 23:56 - loss: 1.0029 - accuracy: 0.584 - ETA: 23:56 - loss: 1.0018 - accuracy: 0.584 - ETA: 23:56 - loss: 1.0003 - accuracy: 0.585 - ETA: 23:55 - loss: 0.9985 - accuracy: 0.585 - ETA: 23:55 - loss: 0.9967 - accuracy: 0.586 - ETA: 23:55 - loss: 0.9962 - accuracy: 0.587 - ETA: 23:55 - loss: 0.9951 - accuracy: 0.587 - ETA: 23:54 - loss: 0.9928 - accuracy: 0.588 - ETA: 23:53 - loss: 0.9913 - accuracy: 0.589 - ETA: 23:53 - loss: 0.9897 - accuracy: 0.590 - ETA: 23:52 - loss: 0.9887 - accuracy: 0.590 - ETA: 23:51 - loss: 0.9881 - accuracy: 0.591 - ETA: 23:51 - loss: 0.9866 - accuracy: 0.591 - ETA: 23:50 - loss: 0.9858 - accuracy: 0.592 - ETA: 23:49 - loss: 0.9846 - accuracy: 0.592 - ETA: 23:48 - loss: 0.9835 - accuracy: 0.593 - ETA: 23:47 - loss: 0.9828 - accuracy: 0.593 - ETA: 23:46 - loss: 0.9815 - accuracy: 0.594 - ETA: 23:45 - loss: 0.9799 - accuracy: 0.595 - ETA: 23:44 - loss: 0.9787 - accuracy: 0.595 - ETA: 23:44 - loss: 0.9770 - accuracy: 0.596 - ETA: 23:43 - loss: 0.9757 - accuracy: 0.597 - ETA: 23:42 - loss: 0.9737 - accuracy: 0.598 - ETA: 23:40 - loss: 0.9726 - accuracy: 0.598 - ETA: 23:40 - loss: 0.9716 - accuracy: 0.599 - ETA: 23:39 - loss: 0.9702 - accuracy: 0.600 - ETA: 23:39 - loss: 0.9694 - accuracy: 0.600 - ETA: 23:38 - loss: 0.9678 - accuracy: 0.601 - ETA: 23:39 - loss: 0.9673 - accuracy: 0.601 - ETA: 23:39 - loss: 0.9659 - accuracy: 0.602 - ETA: 23:41 - loss: 0.9643 - accuracy: 0.603 - ETA: 23:41 - loss: 0.9630 - accuracy: 0.603 - ETA: 23:42 - loss: 0.9611 - accuracy: 0.604 - ETA: 23:42 - loss: 0.9597 - accuracy: 0.605 - ETA: 23:42 - loss: 0.9580 - accuracy: 0.606 - ETA: 23:42 - loss: 0.9571 - accuracy: 0.606 - ETA: 23:43 - loss: 0.9553 - accuracy: 0.607 - ETA: 23:43 - loss: 0.9541 - accuracy: 0.608 - ETA: 23:44 - loss: 0.9530 - accuracy: 0.608 - ETA: 23:44 - loss: 0.9518 - accuracy: 0.609 - ETA: 23:44 - loss: 0.9512 - accuracy: 0.609 - ETA: 23:44 - loss: 0.9492 - accuracy: 0.610 - ETA: 23:45 - loss: 0.9477 - accuracy: 0.611 - ETA: 23:46 - loss: 0.9467 - accuracy: 0.611 - ETA: 23:45 - loss: 0.9456 - accuracy: 0.612 - ETA: 23:45 - loss: 0.9440 - accuracy: 0.612 - ETA: 23:44 - loss: 0.9424 - accuracy: 0.613 - ETA: 23:44 - loss: 0.9426 - accuracy: 0.613 - ETA: 23:44 - loss: 0.9409 - accuracy: 0.614 - ETA: 23:43 - loss: 0.9395 - accuracy: 0.615 - ETA: 23:42 - loss: 0.9379 - accuracy: 0.616 - ETA: 23:42 - loss: 0.9371 - accuracy: 0.616 - ETA: 23:41 - loss: 0.9357 - accuracy: 0.617 - ETA: 23:40 - loss: 0.9352 - accuracy: 0.617 - ETA: 23:39 - loss: 0.9338 - accuracy: 0.618 - ETA: 23:39 - loss: 0.9320 - accuracy: 0.619 - ETA: 23:38 - loss: 0.9303 - accuracy: 0.619 - ETA: 23:38 - loss: 0.9292 - accuracy: 0.620 - ETA: 23:37 - loss: 0.9277 - accuracy: 0.621 - ETA: 23:36 - loss: 0.9261 - accuracy: 0.622 - ETA: 23:35 - loss: 0.9243 - accuracy: 0.622 - ETA: 23:35 - loss: 0.9235 - accuracy: 0.623 - ETA: 23:34 - loss: 0.9229 - accuracy: 0.623 - ETA: 23:34 - loss: 0.9219 - accuracy: 0.624 - ETA: 23:36 - loss: 0.9210 - accuracy: 0.624 - ETA: 23:37 - loss: 0.9199 - accuracy: 0.625 - ETA: 23:37 - loss: 0.9192 - accuracy: 0.625 - ETA: 23:37 - loss: 0.9177 - accuracy: 0.626 - ETA: 23:38 - loss: 0.9160 - accuracy: 0.627 - ETA: 23:37 - loss: 0.9142 - accuracy: 0.627 - ETA: 23:38 - loss: 0.9129 - accuracy: 0.628 - ETA: 23:37 - loss: 0.9124 - accuracy: 0.629 - ETA: 23:36 - loss: 0.9109 - accuracy: 0.629 - ETA: 23:35 - loss: 0.9091 - accuracy: 0.630 - ETA: 23:34 - loss: 0.9080 - accuracy: 0.630 - ETA: 23:33 - loss: 0.9067 - accuracy: 0.631 - ETA: 23:32 - loss: 0.9049 - accuracy: 0.632 - ETA: 23:31 - loss: 0.9039 - accuracy: 0.632 - ETA: 23:30 - loss: 0.9026 - accuracy: 0.633 - ETA: 23:29 - loss: 0.9014 - accuracy: 0.633 - ETA: 23:28 - loss: 0.9004 - accuracy: 0.634 - ETA: 23:26 - loss: 0.8988 - accuracy: 0.635 - ETA: 23:25 - loss: 0.8973 - accuracy: 0.635 - ETA: 23:25 - loss: 0.8960 - accuracy: 0.636 - ETA: 23:23 - loss: 0.8951 - accuracy: 0.637 - ETA: 23:22 - loss: 0.8941 - accuracy: 0.637 - ETA: 23:21 - loss: 0.8936 - accuracy: 0.637 - ETA: 23:19 - loss: 0.8926 - accuracy: 0.638 - ETA: 23:19 - loss: 0.8914 - accuracy: 0.639 - ETA: 23:17 - loss: 0.8904 - accuracy: 0.639 - ETA: 23:16 - loss: 0.8895 - accuracy: 0.639 - ETA: 23:15 - loss: 0.8891 - accuracy: 0.640 - ETA: 23:13 - loss: 0.8883 - accuracy: 0.640 - ETA: 23:11 - loss: 0.8869 - accuracy: 0.641 - ETA: 23:10 - loss: 0.8861 - accuracy: 0.641 - ETA: 23:08 - loss: 0.8854 - accuracy: 0.642 - ETA: 23:07 - loss: 0.8841 - accuracy: 0.642 - ETA: 23:06 - loss: 0.8834 - accuracy: 0.643 - ETA: 23:04 - loss: 0.8818 - accuracy: 0.643 - ETA: 23:03 - loss: 0.8804 - accuracy: 0.644 - ETA: 23:01 - loss: 0.8794 - accuracy: 0.645 - ETA: 23:00 - loss: 0.8781 - accuracy: 0.645 - ETA: 22:58 - loss: 0.8768 - accuracy: 0.646 - ETA: 22:56 - loss: 0.8754 - accuracy: 0.646 - ETA: 22:55 - loss: 0.8742 - accuracy: 0.647 - ETA: 22:54 - loss: 0.8730 - accuracy: 0.648 - ETA: 22:53 - loss: 0.8721 - accuracy: 0.648 - ETA: 22:51 - loss: 0.8710 - accuracy: 0.648 - ETA: 22:50 - loss: 0.8700 - accuracy: 0.649 - ETA: 22:48 - loss: 0.8692 - accuracy: 0.649 - ETA: 22:47 - loss: 0.8680 - accuracy: 0.650 - ETA: 22:46 - loss: 0.8674 - accuracy: 0.650 - ETA: 22:46 - loss: 0.8664 - accuracy: 0.651 - ETA: 22:45 - loss: 0.8651 - accuracy: 0.651 - ETA: 22:43 - loss: 0.8648 - accuracy: 0.652 - ETA: 22:42 - loss: 0.8639 - accuracy: 0.652 - ETA: 22:40 - loss: 0.8632 - accuracy: 0.653 - ETA: 22:39 - loss: 0.8621 - accuracy: 0.653 - ETA: 22:37 - loss: 0.8609 - accuracy: 0.654 - ETA: 22:36 - loss: 0.8600 - accuracy: 0.654 - ETA: 22:35 - loss: 0.8586 - accuracy: 0.655 - ETA: 22:33 - loss: 0.8576 - accuracy: 0.655 - ETA: 22:32 - loss: 0.8563 - accuracy: 0.656 - ETA: 22:30 - loss: 0.8551 - accuracy: 0.657 - ETA: 22:29 - loss: 0.8538 - accuracy: 0.657 - ETA: 22:28 - loss: 0.8525 - accuracy: 0.658 - ETA: 22:26 - loss: 0.8516 - accuracy: 0.6588 34048/140454 [======>.......................] - ETA: 22:25 - loss: 0.8502 - accuracy: 0.659 - ETA: 22:23 - loss: 0.8490 - accuracy: 0.659 - ETA: 22:22 - loss: 0.8488 - accuracy: 0.659 - ETA: 22:21 - loss: 0.8476 - accuracy: 0.660 - ETA: 22:20 - loss: 0.8467 - accuracy: 0.660 - ETA: 22:19 - loss: 0.8460 - accuracy: 0.661 - ETA: 22:19 - loss: 0.8453 - accuracy: 0.661 - ETA: 22:18 - loss: 0.8445 - accuracy: 0.661 - ETA: 22:17 - loss: 0.8439 - accuracy: 0.662 - ETA: 22:16 - loss: 0.8428 - accuracy: 0.662 - ETA: 22:14 - loss: 0.8416 - accuracy: 0.663 - ETA: 22:13 - loss: 0.8412 - accuracy: 0.663 - ETA: 22:12 - loss: 0.8403 - accuracy: 0.663 - ETA: 22:10 - loss: 0.8390 - accuracy: 0.664 - ETA: 22:09 - loss: 0.8378 - accuracy: 0.664 - ETA: 22:08 - loss: 0.8374 - accuracy: 0.665 - ETA: 22:07 - loss: 0.8365 - accuracy: 0.665 - ETA: 22:05 - loss: 0.8354 - accuracy: 0.666 - ETA: 22:04 - loss: 0.8345 - accuracy: 0.666 - ETA: 22:02 - loss: 0.8332 - accuracy: 0.667 - ETA: 22:01 - loss: 0.8322 - accuracy: 0.667 - ETA: 22:00 - loss: 0.8312 - accuracy: 0.667 - ETA: 21:59 - loss: 0.8309 - accuracy: 0.668 - ETA: 21:59 - loss: 0.8298 - accuracy: 0.668 - ETA: 21:58 - loss: 0.8285 - accuracy: 0.669 - ETA: 21:57 - loss: 0.8277 - accuracy: 0.669 - ETA: 21:56 - loss: 0.8266 - accuracy: 0.670 - ETA: 21:54 - loss: 0.8255 - accuracy: 0.671 - ETA: 21:54 - loss: 0.8244 - accuracy: 0.671 - ETA: 21:53 - loss: 0.8239 - accuracy: 0.671 - ETA: 21:52 - loss: 0.8232 - accuracy: 0.672 - ETA: 21:52 - loss: 0.8224 - accuracy: 0.672 - ETA: 21:51 - loss: 0.8213 - accuracy: 0.673 - ETA: 21:50 - loss: 0.8205 - accuracy: 0.673 - ETA: 21:49 - loss: 0.8199 - accuracy: 0.673 - ETA: 21:48 - loss: 0.8188 - accuracy: 0.674 - ETA: 21:47 - loss: 0.8175 - accuracy: 0.674 - ETA: 21:46 - loss: 0.8164 - accuracy: 0.675 - ETA: 21:45 - loss: 0.8155 - accuracy: 0.676 - ETA: 21:44 - loss: 0.8145 - accuracy: 0.676 - ETA: 21:43 - loss: 0.8137 - accuracy: 0.677 - ETA: 21:42 - loss: 0.8126 - accuracy: 0.677 - ETA: 21:40 - loss: 0.8119 - accuracy: 0.677 - ETA: 21:39 - loss: 0.8107 - accuracy: 0.678 - ETA: 21:37 - loss: 0.8096 - accuracy: 0.678 - ETA: 21:36 - loss: 0.8085 - accuracy: 0.679 - ETA: 21:35 - loss: 0.8075 - accuracy: 0.679 - ETA: 21:34 - loss: 0.8062 - accuracy: 0.680 - ETA: 21:33 - loss: 0.8053 - accuracy: 0.680 - ETA: 21:31 - loss: 0.8046 - accuracy: 0.681 - ETA: 21:30 - loss: 0.8036 - accuracy: 0.681 - ETA: 21:29 - loss: 0.8031 - accuracy: 0.681 - ETA: 21:27 - loss: 0.8019 - accuracy: 0.682 - ETA: 21:26 - loss: 0.8015 - accuracy: 0.682 - ETA: 21:25 - loss: 0.8005 - accuracy: 0.683 - ETA: 21:24 - loss: 0.7994 - accuracy: 0.683 - ETA: 21:23 - loss: 0.7983 - accuracy: 0.684 - ETA: 21:22 - loss: 0.7981 - accuracy: 0.684 - ETA: 21:20 - loss: 0.7971 - accuracy: 0.684 - ETA: 21:19 - loss: 0.7966 - accuracy: 0.684 - ETA: 21:18 - loss: 0.7959 - accuracy: 0.685 - ETA: 21:17 - loss: 0.7951 - accuracy: 0.685 - ETA: 21:15 - loss: 0.7944 - accuracy: 0.686 - ETA: 21:14 - loss: 0.7936 - accuracy: 0.686 - ETA: 21:13 - loss: 0.7929 - accuracy: 0.686 - ETA: 21:12 - loss: 0.7915 - accuracy: 0.687 - ETA: 21:11 - loss: 0.7904 - accuracy: 0.687 - ETA: 21:10 - loss: 0.7896 - accuracy: 0.688 - ETA: 21:09 - loss: 0.7891 - accuracy: 0.688 - ETA: 21:07 - loss: 0.7879 - accuracy: 0.689 - ETA: 21:06 - loss: 0.7868 - accuracy: 0.689 - ETA: 21:05 - loss: 0.7859 - accuracy: 0.690 - ETA: 21:04 - loss: 0.7852 - accuracy: 0.690 - ETA: 21:03 - loss: 0.7849 - accuracy: 0.690 - ETA: 21:02 - loss: 0.7842 - accuracy: 0.691 - ETA: 21:01 - loss: 0.7831 - accuracy: 0.691 - ETA: 21:00 - loss: 0.7818 - accuracy: 0.692 - ETA: 20:59 - loss: 0.7809 - accuracy: 0.692 - ETA: 20:58 - loss: 0.7804 - accuracy: 0.692 - ETA: 20:57 - loss: 0.7795 - accuracy: 0.693 - ETA: 20:56 - loss: 0.7788 - accuracy: 0.693 - ETA: 20:55 - loss: 0.7782 - accuracy: 0.694 - ETA: 20:54 - loss: 0.7774 - accuracy: 0.694 - ETA: 20:53 - loss: 0.7765 - accuracy: 0.695 - ETA: 20:51 - loss: 0.7754 - accuracy: 0.695 - ETA: 20:50 - loss: 0.7745 - accuracy: 0.696 - ETA: 20:49 - loss: 0.7734 - accuracy: 0.696 - ETA: 20:48 - loss: 0.7726 - accuracy: 0.696 - ETA: 20:47 - loss: 0.7726 - accuracy: 0.696 - ETA: 20:46 - loss: 0.7713 - accuracy: 0.697 - ETA: 20:45 - loss: 0.7705 - accuracy: 0.697 - ETA: 20:44 - loss: 0.7702 - accuracy: 0.697 - ETA: 20:43 - loss: 0.7693 - accuracy: 0.698 - ETA: 20:41 - loss: 0.7683 - accuracy: 0.698 - ETA: 20:41 - loss: 0.7675 - accuracy: 0.699 - ETA: 20:40 - loss: 0.7666 - accuracy: 0.699 - ETA: 20:39 - loss: 0.7660 - accuracy: 0.699 - ETA: 20:38 - loss: 0.7650 - accuracy: 0.700 - ETA: 20:36 - loss: 0.7646 - accuracy: 0.700 - ETA: 20:35 - loss: 0.7636 - accuracy: 0.701 - ETA: 20:34 - loss: 0.7625 - accuracy: 0.701 - ETA: 20:33 - loss: 0.7614 - accuracy: 0.701 - ETA: 20:32 - loss: 0.7605 - accuracy: 0.702 - ETA: 20:31 - loss: 0.7600 - accuracy: 0.702 - ETA: 20:30 - loss: 0.7590 - accuracy: 0.703 - ETA: 20:29 - loss: 0.7579 - accuracy: 0.703 - ETA: 20:29 - loss: 0.7570 - accuracy: 0.703 - ETA: 20:27 - loss: 0.7568 - accuracy: 0.704 - ETA: 20:26 - loss: 0.7562 - accuracy: 0.704 - ETA: 20:25 - loss: 0.7555 - accuracy: 0.704 - ETA: 20:24 - loss: 0.7546 - accuracy: 0.705 - ETA: 20:23 - loss: 0.7536 - accuracy: 0.705 - ETA: 20:22 - loss: 0.7529 - accuracy: 0.706 - ETA: 20:21 - loss: 0.7520 - accuracy: 0.706 - ETA: 20:20 - loss: 0.7514 - accuracy: 0.706 - ETA: 20:19 - loss: 0.7509 - accuracy: 0.706 - ETA: 20:18 - loss: 0.7504 - accuracy: 0.707 - ETA: 20:17 - loss: 0.7497 - accuracy: 0.707 - ETA: 20:15 - loss: 0.7489 - accuracy: 0.708 - ETA: 20:14 - loss: 0.7481 - accuracy: 0.708 - ETA: 20:13 - loss: 0.7473 - accuracy: 0.708 - ETA: 20:12 - loss: 0.7463 - accuracy: 0.709 - ETA: 20:12 - loss: 0.7458 - accuracy: 0.709 - ETA: 20:11 - loss: 0.7447 - accuracy: 0.709 - ETA: 20:10 - loss: 0.7440 - accuracy: 0.710 - ETA: 20:10 - loss: 0.7431 - accuracy: 0.710 - ETA: 20:09 - loss: 0.7426 - accuracy: 0.710 - ETA: 20:09 - loss: 0.7418 - accuracy: 0.710 - ETA: 20:08 - loss: 0.7412 - accuracy: 0.711 - ETA: 20:07 - loss: 0.7406 - accuracy: 0.711 - ETA: 20:06 - loss: 0.7401 - accuracy: 0.711 - ETA: 20:07 - loss: 0.7399 - accuracy: 0.711 - ETA: 20:06 - loss: 0.7396 - accuracy: 0.712 - ETA: 20:06 - loss: 0.7392 - accuracy: 0.712 - ETA: 20:06 - loss: 0.7385 - accuracy: 0.712 - ETA: 20:06 - loss: 0.7377 - accuracy: 0.712 - ETA: 20:05 - loss: 0.7368 - accuracy: 0.713 - ETA: 20:05 - loss: 0.7360 - accuracy: 0.713 - ETA: 20:04 - loss: 0.7353 - accuracy: 0.714 - ETA: 20:03 - loss: 0.7347 - accuracy: 0.714 - ETA: 20:02 - loss: 0.7342 - accuracy: 0.714 - ETA: 20:01 - loss: 0.7335 - accuracy: 0.715 - ETA: 20:00 - loss: 0.7333 - accuracy: 0.715 - ETA: 19:59 - loss: 0.7326 - accuracy: 0.715 - ETA: 19:58 - loss: 0.7321 - accuracy: 0.715 - ETA: 19:57 - loss: 0.7316 - accuracy: 0.716 - ETA: 19:57 - loss: 0.7307 - accuracy: 0.716 - ETA: 19:56 - loss: 0.7303 - accuracy: 0.716 - ETA: 19:55 - loss: 0.7296 - accuracy: 0.717 - ETA: 19:54 - loss: 0.7290 - accuracy: 0.717 - ETA: 19:53 - loss: 0.7283 - accuracy: 0.717 - ETA: 19:51 - loss: 0.7273 - accuracy: 0.718 - ETA: 19:50 - loss: 0.7267 - accuracy: 0.718 - ETA: 19:49 - loss: 0.7260 - accuracy: 0.718 - ETA: 19:48 - loss: 0.7253 - accuracy: 0.718 - ETA: 19:47 - loss: 0.7250 - accuracy: 0.719 - ETA: 19:46 - loss: 0.7249 - accuracy: 0.719 - ETA: 19:45 - loss: 0.7243 - accuracy: 0.719 - ETA: 19:44 - loss: 0.7234 - accuracy: 0.719 - ETA: 19:43 - loss: 0.7229 - accuracy: 0.720 - ETA: 19:42 - loss: 0.7224 - accuracy: 0.720 - ETA: 19:41 - loss: 0.7217 - accuracy: 0.720 - ETA: 19:40 - loss: 0.7213 - accuracy: 0.721 - ETA: 19:39 - loss: 0.7209 - accuracy: 0.721 - ETA: 19:39 - loss: 0.7204 - accuracy: 0.721 - ETA: 19:38 - loss: 0.7200 - accuracy: 0.721 - ETA: 19:37 - loss: 0.7195 - accuracy: 0.722 - ETA: 19:36 - loss: 0.7191 - accuracy: 0.722 - ETA: 19:35 - loss: 0.7184 - accuracy: 0.722 - ETA: 19:35 - loss: 0.7179 - accuracy: 0.722 - ETA: 19:33 - loss: 0.7174 - accuracy: 0.723 - ETA: 19:33 - loss: 0.7166 - accuracy: 0.723 - ETA: 19:32 - loss: 0.7159 - accuracy: 0.723 - ETA: 19:31 - loss: 0.7154 - accuracy: 0.724 - ETA: 19:30 - loss: 0.7149 - accuracy: 0.724 - ETA: 19:29 - loss: 0.7144 - accuracy: 0.724 - ETA: 19:28 - loss: 0.7135 - accuracy: 0.725 - ETA: 19:28 - loss: 0.7132 - accuracy: 0.7251 45440/140454 [========>.....................] - ETA: 19:27 - loss: 0.7127 - accuracy: 0.725 - ETA: 19:26 - loss: 0.7119 - accuracy: 0.725 - ETA: 19:25 - loss: 0.7112 - accuracy: 0.726 - ETA: 19:24 - loss: 0.7104 - accuracy: 0.726 - ETA: 19:23 - loss: 0.7096 - accuracy: 0.726 - ETA: 19:22 - loss: 0.7091 - accuracy: 0.726 - ETA: 19:21 - loss: 0.7084 - accuracy: 0.727 - ETA: 19:20 - loss: 0.7078 - accuracy: 0.727 - ETA: 19:20 - loss: 0.7072 - accuracy: 0.727 - ETA: 19:19 - loss: 0.7062 - accuracy: 0.728 - ETA: 19:18 - loss: 0.7058 - accuracy: 0.728 - ETA: 19:17 - loss: 0.7053 - accuracy: 0.728 - ETA: 19:16 - loss: 0.7047 - accuracy: 0.729 - ETA: 19:15 - loss: 0.7040 - accuracy: 0.729 - ETA: 19:14 - loss: 0.7031 - accuracy: 0.729 - ETA: 19:13 - loss: 0.7028 - accuracy: 0.730 - ETA: 19:12 - loss: 0.7025 - accuracy: 0.730 - ETA: 19:11 - loss: 0.7020 - accuracy: 0.730 - ETA: 19:10 - loss: 0.7014 - accuracy: 0.730 - ETA: 19:09 - loss: 0.7009 - accuracy: 0.731 - ETA: 19:08 - loss: 0.7004 - accuracy: 0.731 - ETA: 19:07 - loss: 0.7001 - accuracy: 0.731 - ETA: 19:05 - loss: 0.6996 - accuracy: 0.731 - ETA: 19:04 - loss: 0.6991 - accuracy: 0.731 - ETA: 19:04 - loss: 0.6987 - accuracy: 0.732 - ETA: 19:02 - loss: 0.6982 - accuracy: 0.732 - ETA: 19:02 - loss: 0.6976 - accuracy: 0.732 - ETA: 19:00 - loss: 0.6968 - accuracy: 0.732 - ETA: 18:59 - loss: 0.6962 - accuracy: 0.733 - ETA: 18:58 - loss: 0.6956 - accuracy: 0.733 - ETA: 18:57 - loss: 0.6949 - accuracy: 0.733 - ETA: 18:56 - loss: 0.6945 - accuracy: 0.733 - ETA: 18:56 - loss: 0.6941 - accuracy: 0.734 - ETA: 18:55 - loss: 0.6937 - accuracy: 0.734 - ETA: 18:54 - loss: 0.6933 - accuracy: 0.734 - ETA: 18:53 - loss: 0.6927 - accuracy: 0.734 - ETA: 18:52 - loss: 0.6923 - accuracy: 0.734 - ETA: 18:51 - loss: 0.6916 - accuracy: 0.735 - ETA: 18:50 - loss: 0.6912 - accuracy: 0.735 - ETA: 18:49 - loss: 0.6904 - accuracy: 0.735 - ETA: 18:48 - loss: 0.6898 - accuracy: 0.735 - ETA: 18:47 - loss: 0.6892 - accuracy: 0.736 - ETA: 18:46 - loss: 0.6890 - accuracy: 0.736 - ETA: 18:45 - loss: 0.6883 - accuracy: 0.736 - ETA: 18:44 - loss: 0.6876 - accuracy: 0.737 - ETA: 18:43 - loss: 0.6872 - accuracy: 0.737 - ETA: 18:42 - loss: 0.6866 - accuracy: 0.737 - ETA: 18:41 - loss: 0.6861 - accuracy: 0.737 - ETA: 18:40 - loss: 0.6854 - accuracy: 0.738 - ETA: 18:39 - loss: 0.6848 - accuracy: 0.738 - ETA: 18:38 - loss: 0.6842 - accuracy: 0.738 - ETA: 18:37 - loss: 0.6840 - accuracy: 0.738 - ETA: 18:36 - loss: 0.6834 - accuracy: 0.738 - ETA: 18:35 - loss: 0.6827 - accuracy: 0.739 - ETA: 18:34 - loss: 0.6821 - accuracy: 0.739 - ETA: 18:33 - loss: 0.6816 - accuracy: 0.739 - ETA: 18:33 - loss: 0.6809 - accuracy: 0.740 - ETA: 18:32 - loss: 0.6804 - accuracy: 0.740 - ETA: 18:31 - loss: 0.6799 - accuracy: 0.740 - ETA: 18:30 - loss: 0.6795 - accuracy: 0.740 - ETA: 18:29 - loss: 0.6790 - accuracy: 0.741 - ETA: 18:28 - loss: 0.6786 - accuracy: 0.741 - ETA: 18:27 - loss: 0.6785 - accuracy: 0.741 - ETA: 18:26 - loss: 0.6780 - accuracy: 0.741 - ETA: 18:25 - loss: 0.6774 - accuracy: 0.741 - ETA: 18:24 - loss: 0.6769 - accuracy: 0.741 - ETA: 18:23 - loss: 0.6765 - accuracy: 0.742 - ETA: 18:22 - loss: 0.6761 - accuracy: 0.742 - ETA: 18:21 - loss: 0.6757 - accuracy: 0.742 - ETA: 18:20 - loss: 0.6755 - accuracy: 0.742 - ETA: 18:19 - loss: 0.6748 - accuracy: 0.742 - ETA: 18:18 - loss: 0.6746 - accuracy: 0.743 - ETA: 18:17 - loss: 0.6740 - accuracy: 0.743 - ETA: 18:16 - loss: 0.6739 - accuracy: 0.743 - ETA: 18:15 - loss: 0.6732 - accuracy: 0.743 - ETA: 18:14 - loss: 0.6727 - accuracy: 0.743 - ETA: 18:14 - loss: 0.6723 - accuracy: 0.744 - ETA: 18:13 - loss: 0.6718 - accuracy: 0.744 - ETA: 18:12 - loss: 0.6713 - accuracy: 0.744 - ETA: 18:11 - loss: 0.6708 - accuracy: 0.744 - ETA: 18:10 - loss: 0.6705 - accuracy: 0.744 - ETA: 18:09 - loss: 0.6701 - accuracy: 0.745 - ETA: 18:08 - loss: 0.6696 - accuracy: 0.745 - ETA: 18:07 - loss: 0.6693 - accuracy: 0.745 - ETA: 18:06 - loss: 0.6688 - accuracy: 0.745 - ETA: 18:05 - loss: 0.6683 - accuracy: 0.745 - ETA: 18:04 - loss: 0.6675 - accuracy: 0.746 - ETA: 18:03 - loss: 0.6672 - accuracy: 0.746 - ETA: 18:02 - loss: 0.6666 - accuracy: 0.746 - ETA: 18:01 - loss: 0.6658 - accuracy: 0.747 - ETA: 18:00 - loss: 0.6654 - accuracy: 0.747 - ETA: 17:59 - loss: 0.6648 - accuracy: 0.747 - ETA: 17:59 - loss: 0.6643 - accuracy: 0.747 - ETA: 17:58 - loss: 0.6639 - accuracy: 0.747 - ETA: 17:57 - loss: 0.6637 - accuracy: 0.748 - ETA: 17:56 - loss: 0.6634 - accuracy: 0.748 - ETA: 17:55 - loss: 0.6633 - accuracy: 0.748 - ETA: 17:54 - loss: 0.6628 - accuracy: 0.748 - ETA: 17:53 - loss: 0.6626 - accuracy: 0.748 - ETA: 17:53 - loss: 0.6623 - accuracy: 0.748 - ETA: 17:52 - loss: 0.6618 - accuracy: 0.748 - ETA: 17:51 - loss: 0.6615 - accuracy: 0.749 - ETA: 17:50 - loss: 0.6612 - accuracy: 0.749 - ETA: 17:50 - loss: 0.6611 - accuracy: 0.749 - ETA: 17:49 - loss: 0.6607 - accuracy: 0.749 - ETA: 17:48 - loss: 0.6603 - accuracy: 0.749 - ETA: 17:47 - loss: 0.6601 - accuracy: 0.750 - ETA: 17:46 - loss: 0.6598 - accuracy: 0.750 - ETA: 17:45 - loss: 0.6594 - accuracy: 0.750 - ETA: 17:44 - loss: 0.6592 - accuracy: 0.750 - ETA: 17:43 - loss: 0.6589 - accuracy: 0.750 - ETA: 17:43 - loss: 0.6585 - accuracy: 0.750 - ETA: 17:42 - loss: 0.6581 - accuracy: 0.750 - ETA: 17:41 - loss: 0.6578 - accuracy: 0.751 - ETA: 17:40 - loss: 0.6574 - accuracy: 0.751 - ETA: 17:39 - loss: 0.6571 - accuracy: 0.751 - ETA: 17:38 - loss: 0.6565 - accuracy: 0.751 - ETA: 17:38 - loss: 0.6560 - accuracy: 0.751 - ETA: 17:37 - loss: 0.6554 - accuracy: 0.752 - ETA: 17:36 - loss: 0.6549 - accuracy: 0.752 - ETA: 17:35 - loss: 0.6544 - accuracy: 0.752 - ETA: 17:34 - loss: 0.6540 - accuracy: 0.752 - ETA: 17:33 - loss: 0.6535 - accuracy: 0.753 - ETA: 17:33 - loss: 0.6534 - accuracy: 0.753 - ETA: 17:32 - loss: 0.6528 - accuracy: 0.753 - ETA: 17:31 - loss: 0.6525 - accuracy: 0.753 - ETA: 17:30 - loss: 0.6520 - accuracy: 0.753 - ETA: 17:29 - loss: 0.6513 - accuracy: 0.754 - ETA: 17:29 - loss: 0.6508 - accuracy: 0.754 - ETA: 17:28 - loss: 0.6503 - accuracy: 0.754 - ETA: 17:27 - loss: 0.6498 - accuracy: 0.754 - ETA: 17:26 - loss: 0.6495 - accuracy: 0.754 - ETA: 17:25 - loss: 0.6491 - accuracy: 0.755 - ETA: 17:24 - loss: 0.6488 - accuracy: 0.755 - ETA: 17:23 - loss: 0.6481 - accuracy: 0.755 - ETA: 17:23 - loss: 0.6476 - accuracy: 0.755 - ETA: 17:22 - loss: 0.6473 - accuracy: 0.755 - ETA: 17:21 - loss: 0.6470 - accuracy: 0.756 - ETA: 17:20 - loss: 0.6465 - accuracy: 0.756 - ETA: 17:19 - loss: 0.6461 - accuracy: 0.756 - ETA: 17:18 - loss: 0.6458 - accuracy: 0.756 - ETA: 17:18 - loss: 0.6454 - accuracy: 0.756 - ETA: 17:17 - loss: 0.6451 - accuracy: 0.756 - ETA: 17:16 - loss: 0.6450 - accuracy: 0.756 - ETA: 17:15 - loss: 0.6449 - accuracy: 0.757 - ETA: 17:14 - loss: 0.6447 - accuracy: 0.757 - ETA: 17:13 - loss: 0.6444 - accuracy: 0.757 - ETA: 17:13 - loss: 0.6440 - accuracy: 0.757 - ETA: 17:12 - loss: 0.6434 - accuracy: 0.757 - ETA: 17:11 - loss: 0.6433 - accuracy: 0.757 - ETA: 17:10 - loss: 0.6430 - accuracy: 0.758 - ETA: 17:09 - loss: 0.6427 - accuracy: 0.758 - ETA: 17:09 - loss: 0.6424 - accuracy: 0.758 - ETA: 17:08 - loss: 0.6421 - accuracy: 0.758 - ETA: 17:07 - loss: 0.6418 - accuracy: 0.758 - ETA: 17:06 - loss: 0.6414 - accuracy: 0.758 - ETA: 17:05 - loss: 0.6410 - accuracy: 0.759 - ETA: 17:04 - loss: 0.6405 - accuracy: 0.759 - ETA: 17:04 - loss: 0.6400 - accuracy: 0.759 - ETA: 17:03 - loss: 0.6398 - accuracy: 0.759 - ETA: 17:02 - loss: 0.6392 - accuracy: 0.759 - ETA: 17:01 - loss: 0.6390 - accuracy: 0.760 - ETA: 17:00 - loss: 0.6388 - accuracy: 0.760 - ETA: 16:59 - loss: 0.6385 - accuracy: 0.760 - ETA: 16:59 - loss: 0.6379 - accuracy: 0.760 - ETA: 16:58 - loss: 0.6377 - accuracy: 0.760 - ETA: 16:57 - loss: 0.6374 - accuracy: 0.760 - ETA: 16:56 - loss: 0.6371 - accuracy: 0.760 - ETA: 16:55 - loss: 0.6369 - accuracy: 0.760 - ETA: 16:54 - loss: 0.6366 - accuracy: 0.761 - ETA: 16:53 - loss: 0.6360 - accuracy: 0.761 - ETA: 16:53 - loss: 0.6356 - accuracy: 0.761 - ETA: 16:52 - loss: 0.6353 - accuracy: 0.761 - ETA: 16:51 - loss: 0.6353 - accuracy: 0.761 - ETA: 16:50 - loss: 0.6349 - accuracy: 0.761 - ETA: 16:49 - loss: 0.6346 - accuracy: 0.762 - ETA: 16:49 - loss: 0.6343 - accuracy: 0.762 - ETA: 16:48 - loss: 0.6340 - accuracy: 0.7622 56832/140454 [===========>..................] - ETA: 16:47 - loss: 0.6338 - accuracy: 0.762 - ETA: 16:46 - loss: 0.6333 - accuracy: 0.762 - ETA: 16:45 - loss: 0.6330 - accuracy: 0.762 - ETA: 16:45 - loss: 0.6325 - accuracy: 0.763 - ETA: 16:44 - loss: 0.6322 - accuracy: 0.763 - ETA: 16:43 - loss: 0.6318 - accuracy: 0.763 - ETA: 16:42 - loss: 0.6316 - accuracy: 0.763 - ETA: 16:41 - loss: 0.6310 - accuracy: 0.763 - ETA: 16:40 - loss: 0.6305 - accuracy: 0.763 - ETA: 16:39 - loss: 0.6302 - accuracy: 0.764 - ETA: 16:39 - loss: 0.6300 - accuracy: 0.764 - ETA: 16:38 - loss: 0.6297 - accuracy: 0.764 - ETA: 16:37 - loss: 0.6293 - accuracy: 0.764 - ETA: 16:36 - loss: 0.6291 - accuracy: 0.764 - ETA: 16:35 - loss: 0.6288 - accuracy: 0.764 - ETA: 16:34 - loss: 0.6283 - accuracy: 0.764 - ETA: 16:34 - loss: 0.6282 - accuracy: 0.764 - ETA: 16:33 - loss: 0.6281 - accuracy: 0.764 - ETA: 16:32 - loss: 0.6278 - accuracy: 0.764 - ETA: 16:31 - loss: 0.6273 - accuracy: 0.765 - ETA: 16:31 - loss: 0.6269 - accuracy: 0.765 - ETA: 16:30 - loss: 0.6269 - accuracy: 0.765 - ETA: 16:29 - loss: 0.6266 - accuracy: 0.765 - ETA: 16:28 - loss: 0.6262 - accuracy: 0.765 - ETA: 16:27 - loss: 0.6258 - accuracy: 0.765 - ETA: 16:27 - loss: 0.6256 - accuracy: 0.766 - ETA: 16:26 - loss: 0.6252 - accuracy: 0.766 - ETA: 16:25 - loss: 0.6249 - accuracy: 0.766 - ETA: 16:24 - loss: 0.6246 - accuracy: 0.766 - ETA: 16:23 - loss: 0.6243 - accuracy: 0.766 - ETA: 16:22 - loss: 0.6240 - accuracy: 0.766 - ETA: 16:21 - loss: 0.6236 - accuracy: 0.766 - ETA: 16:21 - loss: 0.6232 - accuracy: 0.767 - ETA: 16:20 - loss: 0.6230 - accuracy: 0.767 - ETA: 16:19 - loss: 0.6226 - accuracy: 0.767 - ETA: 16:18 - loss: 0.6223 - accuracy: 0.767 - ETA: 16:17 - loss: 0.6220 - accuracy: 0.767 - ETA: 16:17 - loss: 0.6214 - accuracy: 0.767 - ETA: 16:16 - loss: 0.6211 - accuracy: 0.768 - ETA: 16:15 - loss: 0.6206 - accuracy: 0.768 - ETA: 16:14 - loss: 0.6202 - accuracy: 0.768 - ETA: 16:13 - loss: 0.6202 - accuracy: 0.768 - ETA: 16:12 - loss: 0.6197 - accuracy: 0.768 - ETA: 16:12 - loss: 0.6193 - accuracy: 0.768 - ETA: 16:11 - loss: 0.6192 - accuracy: 0.768 - ETA: 16:10 - loss: 0.6187 - accuracy: 0.769 - ETA: 16:09 - loss: 0.6186 - accuracy: 0.769 - ETA: 16:08 - loss: 0.6182 - accuracy: 0.769 - ETA: 16:07 - loss: 0.6177 - accuracy: 0.769 - ETA: 16:07 - loss: 0.6175 - accuracy: 0.769 - ETA: 16:06 - loss: 0.6170 - accuracy: 0.769 - ETA: 16:05 - loss: 0.6165 - accuracy: 0.770 - ETA: 16:04 - loss: 0.6163 - accuracy: 0.770 - ETA: 16:04 - loss: 0.6158 - accuracy: 0.770 - ETA: 16:03 - loss: 0.6156 - accuracy: 0.770 - ETA: 16:02 - loss: 0.6153 - accuracy: 0.770 - ETA: 16:01 - loss: 0.6151 - accuracy: 0.770 - ETA: 16:00 - loss: 0.6148 - accuracy: 0.770 - ETA: 16:00 - loss: 0.6143 - accuracy: 0.771 - ETA: 15:59 - loss: 0.6141 - accuracy: 0.771 - ETA: 15:58 - loss: 0.6137 - accuracy: 0.771 - ETA: 15:57 - loss: 0.6134 - accuracy: 0.771 - ETA: 15:56 - loss: 0.6129 - accuracy: 0.771 - ETA: 15:55 - loss: 0.6127 - accuracy: 0.771 - ETA: 15:55 - loss: 0.6124 - accuracy: 0.771 - ETA: 15:54 - loss: 0.6121 - accuracy: 0.772 - ETA: 15:53 - loss: 0.6118 - accuracy: 0.772 - ETA: 15:52 - loss: 0.6116 - accuracy: 0.772 - ETA: 15:51 - loss: 0.6114 - accuracy: 0.772 - ETA: 15:50 - loss: 0.6110 - accuracy: 0.772 - ETA: 15:50 - loss: 0.6107 - accuracy: 0.772 - ETA: 15:49 - loss: 0.6104 - accuracy: 0.772 - ETA: 15:48 - loss: 0.6101 - accuracy: 0.773 - ETA: 15:47 - loss: 0.6096 - accuracy: 0.773 - ETA: 15:46 - loss: 0.6094 - accuracy: 0.773 - ETA: 15:46 - loss: 0.6091 - accuracy: 0.773 - ETA: 15:45 - loss: 0.6090 - accuracy: 0.773 - ETA: 15:44 - loss: 0.6087 - accuracy: 0.773 - ETA: 15:43 - loss: 0.6086 - accuracy: 0.773 - ETA: 15:42 - loss: 0.6083 - accuracy: 0.773 - ETA: 15:42 - loss: 0.6080 - accuracy: 0.774 - ETA: 15:41 - loss: 0.6076 - accuracy: 0.774 - ETA: 15:40 - loss: 0.6072 - accuracy: 0.774 - ETA: 15:39 - loss: 0.6071 - accuracy: 0.774 - ETA: 15:38 - loss: 0.6069 - accuracy: 0.774 - ETA: 15:38 - loss: 0.6065 - accuracy: 0.774 - ETA: 15:37 - loss: 0.6062 - accuracy: 0.774 - ETA: 15:36 - loss: 0.6060 - accuracy: 0.774 - ETA: 15:35 - loss: 0.6059 - accuracy: 0.775 - ETA: 15:34 - loss: 0.6056 - accuracy: 0.775 - ETA: 15:34 - loss: 0.6051 - accuracy: 0.775 - ETA: 15:33 - loss: 0.6051 - accuracy: 0.775 - ETA: 15:32 - loss: 0.6048 - accuracy: 0.775 - ETA: 15:31 - loss: 0.6044 - accuracy: 0.775 - ETA: 15:31 - loss: 0.6041 - accuracy: 0.775 - ETA: 15:30 - loss: 0.6039 - accuracy: 0.775 - ETA: 15:29 - loss: 0.6035 - accuracy: 0.776 - ETA: 15:28 - loss: 0.6034 - accuracy: 0.776 - ETA: 15:27 - loss: 0.6031 - accuracy: 0.776 - ETA: 15:27 - loss: 0.6028 - accuracy: 0.776 - ETA: 15:26 - loss: 0.6026 - accuracy: 0.776 - ETA: 15:25 - loss: 0.6024 - accuracy: 0.776 - ETA: 15:24 - loss: 0.6022 - accuracy: 0.776 - ETA: 15:23 - loss: 0.6019 - accuracy: 0.776 - ETA: 15:23 - loss: 0.6014 - accuracy: 0.776 - ETA: 15:22 - loss: 0.6010 - accuracy: 0.777 - ETA: 15:21 - loss: 0.6007 - accuracy: 0.777 - ETA: 15:20 - loss: 0.6005 - accuracy: 0.777 - ETA: 15:19 - loss: 0.6001 - accuracy: 0.777 - ETA: 15:19 - loss: 0.5996 - accuracy: 0.777 - ETA: 15:18 - loss: 0.5991 - accuracy: 0.777 - ETA: 15:17 - loss: 0.5989 - accuracy: 0.777 - ETA: 15:16 - loss: 0.5985 - accuracy: 0.778 - ETA: 15:15 - loss: 0.5980 - accuracy: 0.778 - ETA: 15:15 - loss: 0.5976 - accuracy: 0.778 - ETA: 15:14 - loss: 0.5972 - accuracy: 0.778 - ETA: 15:13 - loss: 0.5967 - accuracy: 0.778 - ETA: 15:12 - loss: 0.5964 - accuracy: 0.778 - ETA: 15:12 - loss: 0.5961 - accuracy: 0.779 - ETA: 15:11 - loss: 0.5958 - accuracy: 0.779 - ETA: 15:10 - loss: 0.5954 - accuracy: 0.779 - ETA: 15:09 - loss: 0.5951 - accuracy: 0.779 - ETA: 15:09 - loss: 0.5949 - accuracy: 0.779 - ETA: 15:08 - loss: 0.5945 - accuracy: 0.779 - ETA: 15:07 - loss: 0.5942 - accuracy: 0.779 - ETA: 15:06 - loss: 0.5940 - accuracy: 0.779 - ETA: 15:06 - loss: 0.5937 - accuracy: 0.780 - ETA: 15:05 - loss: 0.5934 - accuracy: 0.780 - ETA: 15:04 - loss: 0.5933 - accuracy: 0.780 - ETA: 15:03 - loss: 0.5931 - accuracy: 0.780 - ETA: 15:02 - loss: 0.5927 - accuracy: 0.780 - ETA: 15:02 - loss: 0.5927 - accuracy: 0.780 - ETA: 15:01 - loss: 0.5924 - accuracy: 0.780 - ETA: 15:00 - loss: 0.5920 - accuracy: 0.781 - ETA: 14:59 - loss: 0.5916 - accuracy: 0.781 - ETA: 14:59 - loss: 0.5914 - accuracy: 0.781 - ETA: 14:58 - loss: 0.5914 - accuracy: 0.781 - ETA: 14:57 - loss: 0.5912 - accuracy: 0.781 - ETA: 14:56 - loss: 0.5910 - accuracy: 0.781 - ETA: 14:55 - loss: 0.5906 - accuracy: 0.781 - ETA: 14:55 - loss: 0.5905 - accuracy: 0.781 - ETA: 14:54 - loss: 0.5905 - accuracy: 0.781 - ETA: 14:53 - loss: 0.5903 - accuracy: 0.781 - ETA: 14:52 - loss: 0.5900 - accuracy: 0.781 - ETA: 14:52 - loss: 0.5899 - accuracy: 0.781 - ETA: 14:51 - loss: 0.5896 - accuracy: 0.782 - ETA: 14:50 - loss: 0.5895 - accuracy: 0.782 - ETA: 14:49 - loss: 0.5890 - accuracy: 0.782 - ETA: 14:49 - loss: 0.5888 - accuracy: 0.782 - ETA: 14:48 - loss: 0.5885 - accuracy: 0.782 - ETA: 14:47 - loss: 0.5884 - accuracy: 0.782 - ETA: 14:46 - loss: 0.5884 - accuracy: 0.782 - ETA: 14:45 - loss: 0.5880 - accuracy: 0.782 - ETA: 14:45 - loss: 0.5877 - accuracy: 0.782 - ETA: 14:44 - loss: 0.5874 - accuracy: 0.783 - ETA: 14:43 - loss: 0.5872 - accuracy: 0.783 - ETA: 14:42 - loss: 0.5868 - accuracy: 0.783 - ETA: 14:42 - loss: 0.5868 - accuracy: 0.783 - ETA: 14:41 - loss: 0.5865 - accuracy: 0.783 - ETA: 14:40 - loss: 0.5863 - accuracy: 0.783 - ETA: 14:39 - loss: 0.5860 - accuracy: 0.783 - ETA: 14:38 - loss: 0.5858 - accuracy: 0.783 - ETA: 14:38 - loss: 0.5857 - accuracy: 0.783 - ETA: 14:37 - loss: 0.5855 - accuracy: 0.783 - ETA: 14:36 - loss: 0.5852 - accuracy: 0.784 - ETA: 14:35 - loss: 0.5849 - accuracy: 0.784 - ETA: 14:35 - loss: 0.5849 - accuracy: 0.784 - ETA: 14:34 - loss: 0.5844 - accuracy: 0.784 - ETA: 14:33 - loss: 0.5843 - accuracy: 0.784 - ETA: 14:32 - loss: 0.5840 - accuracy: 0.784 - ETA: 14:31 - loss: 0.5837 - accuracy: 0.784 - ETA: 14:31 - loss: 0.5836 - accuracy: 0.784 - ETA: 14:30 - loss: 0.5833 - accuracy: 0.785 - ETA: 14:29 - loss: 0.5830 - accuracy: 0.785 - ETA: 14:29 - loss: 0.5827 - accuracy: 0.785 - ETA: 14:28 - loss: 0.5825 - accuracy: 0.785 - ETA: 14:27 - loss: 0.5823 - accuracy: 0.785 - ETA: 14:26 - loss: 0.5820 - accuracy: 0.7856 68224/140454 [=============>................] - ETA: 14:26 - loss: 0.5818 - accuracy: 0.785 - ETA: 14:25 - loss: 0.5816 - accuracy: 0.785 - ETA: 14:24 - loss: 0.5813 - accuracy: 0.786 - ETA: 14:23 - loss: 0.5811 - accuracy: 0.786 - ETA: 14:23 - loss: 0.5808 - accuracy: 0.786 - ETA: 14:22 - loss: 0.5806 - accuracy: 0.786 - ETA: 14:21 - loss: 0.5804 - accuracy: 0.786 - ETA: 14:20 - loss: 0.5801 - accuracy: 0.786 - ETA: 14:20 - loss: 0.5798 - accuracy: 0.786 - ETA: 14:19 - loss: 0.5795 - accuracy: 0.786 - ETA: 14:18 - loss: 0.5793 - accuracy: 0.786 - ETA: 14:17 - loss: 0.5792 - accuracy: 0.786 - ETA: 14:17 - loss: 0.5791 - accuracy: 0.786 - ETA: 14:16 - loss: 0.5787 - accuracy: 0.787 - ETA: 14:15 - loss: 0.5787 - accuracy: 0.787 - ETA: 14:14 - loss: 0.5785 - accuracy: 0.787 - ETA: 14:14 - loss: 0.5782 - accuracy: 0.787 - ETA: 14:13 - loss: 0.5779 - accuracy: 0.787 - ETA: 14:12 - loss: 0.5778 - accuracy: 0.787 - ETA: 14:11 - loss: 0.5776 - accuracy: 0.787 - ETA: 14:11 - loss: 0.5777 - accuracy: 0.787 - ETA: 14:10 - loss: 0.5775 - accuracy: 0.787 - ETA: 14:09 - loss: 0.5772 - accuracy: 0.787 - ETA: 14:08 - loss: 0.5769 - accuracy: 0.788 - ETA: 14:08 - loss: 0.5767 - accuracy: 0.788 - ETA: 14:07 - loss: 0.5765 - accuracy: 0.788 - ETA: 14:06 - loss: 0.5761 - accuracy: 0.788 - ETA: 14:05 - loss: 0.5759 - accuracy: 0.788 - ETA: 14:05 - loss: 0.5757 - accuracy: 0.788 - ETA: 14:04 - loss: 0.5755 - accuracy: 0.788 - ETA: 14:03 - loss: 0.5751 - accuracy: 0.788 - ETA: 14:03 - loss: 0.5749 - accuracy: 0.788 - ETA: 14:02 - loss: 0.5747 - accuracy: 0.789 - ETA: 14:01 - loss: 0.5743 - accuracy: 0.789 - ETA: 14:00 - loss: 0.5740 - accuracy: 0.789 - ETA: 14:00 - loss: 0.5737 - accuracy: 0.789 - ETA: 13:59 - loss: 0.5735 - accuracy: 0.789 - ETA: 13:58 - loss: 0.5732 - accuracy: 0.789 - ETA: 13:57 - loss: 0.5729 - accuracy: 0.789 - ETA: 13:57 - loss: 0.5725 - accuracy: 0.790 - ETA: 13:56 - loss: 0.5723 - accuracy: 0.790 - ETA: 13:55 - loss: 0.5722 - accuracy: 0.790 - ETA: 13:54 - loss: 0.5719 - accuracy: 0.790 - ETA: 13:54 - loss: 0.5717 - accuracy: 0.790 - ETA: 13:53 - loss: 0.5715 - accuracy: 0.790 - ETA: 13:52 - loss: 0.5711 - accuracy: 0.790 - ETA: 13:52 - loss: 0.5709 - accuracy: 0.790 - ETA: 13:51 - loss: 0.5706 - accuracy: 0.790 - ETA: 13:50 - loss: 0.5702 - accuracy: 0.790 - ETA: 13:49 - loss: 0.5700 - accuracy: 0.791 - ETA: 13:49 - loss: 0.5697 - accuracy: 0.791 - ETA: 13:48 - loss: 0.5696 - accuracy: 0.791 - ETA: 13:47 - loss: 0.5692 - accuracy: 0.791 - ETA: 13:46 - loss: 0.5689 - accuracy: 0.791 - ETA: 13:46 - loss: 0.5687 - accuracy: 0.791 - ETA: 13:45 - loss: 0.5686 - accuracy: 0.791 - ETA: 13:44 - loss: 0.5684 - accuracy: 0.791 - ETA: 13:44 - loss: 0.5682 - accuracy: 0.791 - ETA: 13:43 - loss: 0.5680 - accuracy: 0.791 - ETA: 13:42 - loss: 0.5680 - accuracy: 0.792 - ETA: 13:41 - loss: 0.5677 - accuracy: 0.792 - ETA: 13:41 - loss: 0.5675 - accuracy: 0.792 - ETA: 13:40 - loss: 0.5670 - accuracy: 0.792 - ETA: 13:39 - loss: 0.5670 - accuracy: 0.792 - ETA: 13:39 - loss: 0.5666 - accuracy: 0.792 - ETA: 13:38 - loss: 0.5663 - accuracy: 0.792 - ETA: 13:37 - loss: 0.5662 - accuracy: 0.792 - ETA: 13:36 - loss: 0.5660 - accuracy: 0.792 - ETA: 13:36 - loss: 0.5658 - accuracy: 0.792 - ETA: 13:35 - loss: 0.5658 - accuracy: 0.792 - ETA: 13:34 - loss: 0.5655 - accuracy: 0.793 - ETA: 13:33 - loss: 0.5652 - accuracy: 0.793 - ETA: 13:33 - loss: 0.5650 - accuracy: 0.793 - ETA: 13:32 - loss: 0.5649 - accuracy: 0.793 - ETA: 13:31 - loss: 0.5647 - accuracy: 0.793 - ETA: 13:30 - loss: 0.5645 - accuracy: 0.793 - ETA: 13:30 - loss: 0.5642 - accuracy: 0.793 - ETA: 13:29 - loss: 0.5639 - accuracy: 0.793 - ETA: 13:28 - loss: 0.5637 - accuracy: 0.793 - ETA: 13:28 - loss: 0.5633 - accuracy: 0.794 - ETA: 13:27 - loss: 0.5631 - accuracy: 0.794 - ETA: 13:26 - loss: 0.5631 - accuracy: 0.794 - ETA: 13:25 - loss: 0.5628 - accuracy: 0.794 - ETA: 13:25 - loss: 0.5625 - accuracy: 0.794 - ETA: 13:24 - loss: 0.5624 - accuracy: 0.794 - ETA: 13:23 - loss: 0.5621 - accuracy: 0.794 - ETA: 13:22 - loss: 0.5618 - accuracy: 0.794 - ETA: 13:22 - loss: 0.5619 - accuracy: 0.794 - ETA: 13:21 - loss: 0.5617 - accuracy: 0.794 - ETA: 13:20 - loss: 0.5615 - accuracy: 0.794 - ETA: 13:20 - loss: 0.5611 - accuracy: 0.794 - ETA: 13:19 - loss: 0.5610 - accuracy: 0.794 - ETA: 13:18 - loss: 0.5608 - accuracy: 0.795 - ETA: 13:17 - loss: 0.5606 - accuracy: 0.795 - ETA: 13:17 - loss: 0.5604 - accuracy: 0.795 - ETA: 13:16 - loss: 0.5602 - accuracy: 0.795 - ETA: 13:15 - loss: 0.5602 - accuracy: 0.795 - ETA: 13:14 - loss: 0.5600 - accuracy: 0.795 - ETA: 13:14 - loss: 0.5596 - accuracy: 0.795 - ETA: 13:13 - loss: 0.5594 - accuracy: 0.795 - ETA: 13:12 - loss: 0.5592 - accuracy: 0.795 - ETA: 13:12 - loss: 0.5591 - accuracy: 0.795 - ETA: 13:11 - loss: 0.5588 - accuracy: 0.796 - ETA: 13:10 - loss: 0.5586 - accuracy: 0.796 - ETA: 13:09 - loss: 0.5584 - accuracy: 0.796 - ETA: 13:09 - loss: 0.5583 - accuracy: 0.796 - ETA: 13:08 - loss: 0.5581 - accuracy: 0.796 - ETA: 13:07 - loss: 0.5578 - accuracy: 0.796 - ETA: 13:06 - loss: 0.5576 - accuracy: 0.796 - ETA: 13:06 - loss: 0.5573 - accuracy: 0.796 - ETA: 13:05 - loss: 0.5571 - accuracy: 0.796 - ETA: 13:04 - loss: 0.5570 - accuracy: 0.796 - ETA: 13:04 - loss: 0.5569 - accuracy: 0.796 - ETA: 13:03 - loss: 0.5568 - accuracy: 0.796 - ETA: 13:02 - loss: 0.5566 - accuracy: 0.797 - ETA: 13:02 - loss: 0.5563 - accuracy: 0.797 - ETA: 13:01 - loss: 0.5560 - accuracy: 0.797 - ETA: 13:00 - loss: 0.5558 - accuracy: 0.797 - ETA: 12:59 - loss: 0.5556 - accuracy: 0.797 - ETA: 12:59 - loss: 0.5555 - accuracy: 0.797 - ETA: 12:58 - loss: 0.5552 - accuracy: 0.797 - ETA: 12:57 - loss: 0.5550 - accuracy: 0.797 - ETA: 12:57 - loss: 0.5548 - accuracy: 0.797 - ETA: 12:56 - loss: 0.5546 - accuracy: 0.797 - ETA: 12:55 - loss: 0.5543 - accuracy: 0.798 - ETA: 12:54 - loss: 0.5540 - accuracy: 0.798 - ETA: 12:54 - loss: 0.5538 - accuracy: 0.798 - ETA: 12:53 - loss: 0.5537 - accuracy: 0.798 - ETA: 12:52 - loss: 0.5538 - accuracy: 0.798 - ETA: 12:51 - loss: 0.5535 - accuracy: 0.798 - ETA: 12:51 - loss: 0.5533 - accuracy: 0.798 - ETA: 12:50 - loss: 0.5531 - accuracy: 0.798 - ETA: 12:49 - loss: 0.5527 - accuracy: 0.798 - ETA: 12:49 - loss: 0.5526 - accuracy: 0.798 - ETA: 12:48 - loss: 0.5524 - accuracy: 0.798 - ETA: 12:47 - loss: 0.5521 - accuracy: 0.798 - ETA: 12:46 - loss: 0.5520 - accuracy: 0.798 - ETA: 12:46 - loss: 0.5517 - accuracy: 0.799 - ETA: 12:45 - loss: 0.5516 - accuracy: 0.799 - ETA: 12:44 - loss: 0.5512 - accuracy: 0.799 - ETA: 12:43 - loss: 0.5511 - accuracy: 0.799 - ETA: 12:43 - loss: 0.5509 - accuracy: 0.799 - ETA: 12:42 - loss: 0.5507 - accuracy: 0.799 - ETA: 12:41 - loss: 0.5503 - accuracy: 0.799 - ETA: 12:41 - loss: 0.5500 - accuracy: 0.799 - ETA: 12:40 - loss: 0.5498 - accuracy: 0.799 - ETA: 12:40 - loss: 0.5495 - accuracy: 0.800 - ETA: 12:39 - loss: 0.5493 - accuracy: 0.800 - ETA: 12:38 - loss: 0.5491 - accuracy: 0.800 - ETA: 12:38 - loss: 0.5488 - accuracy: 0.800 - ETA: 12:37 - loss: 0.5488 - accuracy: 0.800 - ETA: 12:36 - loss: 0.5486 - accuracy: 0.800 - ETA: 12:35 - loss: 0.5486 - accuracy: 0.800 - ETA: 12:35 - loss: 0.5485 - accuracy: 0.800 - ETA: 12:34 - loss: 0.5484 - accuracy: 0.800 - ETA: 12:33 - loss: 0.5481 - accuracy: 0.800 - ETA: 12:33 - loss: 0.5480 - accuracy: 0.800 - ETA: 12:32 - loss: 0.5477 - accuracy: 0.800 - ETA: 12:31 - loss: 0.5476 - accuracy: 0.800 - ETA: 12:30 - loss: 0.5474 - accuracy: 0.800 - ETA: 12:30 - loss: 0.5473 - accuracy: 0.800 - ETA: 12:29 - loss: 0.5472 - accuracy: 0.801 - ETA: 12:28 - loss: 0.5469 - accuracy: 0.801 - ETA: 12:28 - loss: 0.5466 - accuracy: 0.801 - ETA: 12:27 - loss: 0.5465 - accuracy: 0.801 - ETA: 12:26 - loss: 0.5463 - accuracy: 0.801 - ETA: 12:25 - loss: 0.5461 - accuracy: 0.801 - ETA: 12:25 - loss: 0.5459 - accuracy: 0.801 - ETA: 12:24 - loss: 0.5456 - accuracy: 0.801 - ETA: 12:23 - loss: 0.5454 - accuracy: 0.801 - ETA: 12:22 - loss: 0.5451 - accuracy: 0.801 - ETA: 12:22 - loss: 0.5449 - accuracy: 0.801 - ETA: 12:21 - loss: 0.5449 - accuracy: 0.801 - ETA: 12:20 - loss: 0.5446 - accuracy: 0.802 - ETA: 12:20 - loss: 0.5445 - accuracy: 0.802 - ETA: 12:19 - loss: 0.5442 - accuracy: 0.802 - ETA: 12:18 - loss: 0.5439 - accuracy: 0.802 - ETA: 12:18 - loss: 0.5437 - accuracy: 0.8023 79616/140454 [================>.............] - ETA: 12:17 - loss: 0.5434 - accuracy: 0.802 - ETA: 12:16 - loss: 0.5432 - accuracy: 0.802 - ETA: 12:16 - loss: 0.5429 - accuracy: 0.802 - ETA: 12:15 - loss: 0.5429 - accuracy: 0.802 - ETA: 12:14 - loss: 0.5428 - accuracy: 0.802 - ETA: 12:13 - loss: 0.5428 - accuracy: 0.802 - ETA: 12:13 - loss: 0.5425 - accuracy: 0.802 - ETA: 12:12 - loss: 0.5423 - accuracy: 0.802 - ETA: 12:11 - loss: 0.5421 - accuracy: 0.803 - ETA: 12:10 - loss: 0.5419 - accuracy: 0.803 - ETA: 12:10 - loss: 0.5416 - accuracy: 0.803 - ETA: 12:09 - loss: 0.5413 - accuracy: 0.803 - ETA: 12:08 - loss: 0.5410 - accuracy: 0.803 - ETA: 12:08 - loss: 0.5408 - accuracy: 0.803 - ETA: 12:07 - loss: 0.5406 - accuracy: 0.803 - ETA: 12:06 - loss: 0.5404 - accuracy: 0.803 - ETA: 12:06 - loss: 0.5403 - accuracy: 0.803 - ETA: 12:05 - loss: 0.5402 - accuracy: 0.803 - ETA: 12:04 - loss: 0.5399 - accuracy: 0.804 - ETA: 12:03 - loss: 0.5399 - accuracy: 0.804 - ETA: 12:03 - loss: 0.5396 - accuracy: 0.804 - ETA: 12:02 - loss: 0.5395 - accuracy: 0.804 - ETA: 12:01 - loss: 0.5392 - accuracy: 0.804 - ETA: 12:01 - loss: 0.5390 - accuracy: 0.804 - ETA: 12:00 - loss: 0.5388 - accuracy: 0.804 - ETA: 11:59 - loss: 0.5385 - accuracy: 0.804 - ETA: 11:58 - loss: 0.5383 - accuracy: 0.804 - ETA: 11:58 - loss: 0.5381 - accuracy: 0.804 - ETA: 11:57 - loss: 0.5378 - accuracy: 0.804 - ETA: 11:56 - loss: 0.5375 - accuracy: 0.805 - ETA: 11:56 - loss: 0.5376 - accuracy: 0.805 - ETA: 11:55 - loss: 0.5375 - accuracy: 0.805 - ETA: 11:54 - loss: 0.5372 - accuracy: 0.805 - ETA: 11:53 - loss: 0.5370 - accuracy: 0.805 - ETA: 11:53 - loss: 0.5369 - accuracy: 0.805 - ETA: 11:52 - loss: 0.5367 - accuracy: 0.805 - ETA: 11:51 - loss: 0.5367 - accuracy: 0.805 - ETA: 11:51 - loss: 0.5364 - accuracy: 0.805 - ETA: 11:50 - loss: 0.5364 - accuracy: 0.805 - ETA: 11:49 - loss: 0.5362 - accuracy: 0.805 - ETA: 11:48 - loss: 0.5359 - accuracy: 0.805 - ETA: 11:48 - loss: 0.5356 - accuracy: 0.805 - ETA: 11:47 - loss: 0.5353 - accuracy: 0.805 - ETA: 11:46 - loss: 0.5352 - accuracy: 0.806 - ETA: 11:46 - loss: 0.5349 - accuracy: 0.806 - ETA: 11:45 - loss: 0.5346 - accuracy: 0.806 - ETA: 11:44 - loss: 0.5344 - accuracy: 0.806 - ETA: 11:44 - loss: 0.5341 - accuracy: 0.806 - ETA: 11:43 - loss: 0.5339 - accuracy: 0.806 - ETA: 11:42 - loss: 0.5336 - accuracy: 0.806 - ETA: 11:41 - loss: 0.5333 - accuracy: 0.806 - ETA: 11:41 - loss: 0.5333 - accuracy: 0.806 - ETA: 11:40 - loss: 0.5331 - accuracy: 0.807 - ETA: 11:39 - loss: 0.5331 - accuracy: 0.807 - ETA: 11:39 - loss: 0.5329 - accuracy: 0.807 - ETA: 11:38 - loss: 0.5327 - accuracy: 0.807 - ETA: 11:37 - loss: 0.5324 - accuracy: 0.807 - ETA: 11:36 - loss: 0.5322 - accuracy: 0.807 - ETA: 11:36 - loss: 0.5323 - accuracy: 0.807 - ETA: 11:35 - loss: 0.5322 - accuracy: 0.807 - ETA: 11:34 - loss: 0.5320 - accuracy: 0.807 - ETA: 11:34 - loss: 0.5319 - accuracy: 0.807 - ETA: 11:33 - loss: 0.5317 - accuracy: 0.807 - ETA: 11:32 - loss: 0.5315 - accuracy: 0.807 - ETA: 11:32 - loss: 0.5313 - accuracy: 0.807 - ETA: 11:31 - loss: 0.5311 - accuracy: 0.807 - ETA: 11:30 - loss: 0.5310 - accuracy: 0.807 - ETA: 11:29 - loss: 0.5309 - accuracy: 0.808 - ETA: 11:29 - loss: 0.5308 - accuracy: 0.808 - ETA: 11:28 - loss: 0.5305 - accuracy: 0.808 - ETA: 11:28 - loss: 0.5304 - accuracy: 0.808 - ETA: 11:27 - loss: 0.5301 - accuracy: 0.808 - ETA: 11:26 - loss: 0.5299 - accuracy: 0.808 - ETA: 11:26 - loss: 0.5297 - accuracy: 0.808 - ETA: 11:25 - loss: 0.5295 - accuracy: 0.808 - ETA: 11:24 - loss: 0.5292 - accuracy: 0.808 - ETA: 11:23 - loss: 0.5292 - accuracy: 0.808 - ETA: 11:23 - loss: 0.5290 - accuracy: 0.808 - ETA: 11:22 - loss: 0.5287 - accuracy: 0.808 - ETA: 11:21 - loss: 0.5285 - accuracy: 0.808 - ETA: 11:21 - loss: 0.5283 - accuracy: 0.808 - ETA: 11:20 - loss: 0.5280 - accuracy: 0.809 - ETA: 11:19 - loss: 0.5278 - accuracy: 0.809 - ETA: 11:19 - loss: 0.5277 - accuracy: 0.809 - ETA: 11:18 - loss: 0.5276 - accuracy: 0.809 - ETA: 11:17 - loss: 0.5273 - accuracy: 0.809 - ETA: 11:17 - loss: 0.5270 - accuracy: 0.809 - ETA: 11:16 - loss: 0.5268 - accuracy: 0.809 - ETA: 11:15 - loss: 0.5267 - accuracy: 0.809 - ETA: 11:15 - loss: 0.5265 - accuracy: 0.809 - ETA: 11:14 - loss: 0.5262 - accuracy: 0.809 - ETA: 11:13 - loss: 0.5261 - accuracy: 0.809 - ETA: 11:13 - loss: 0.5260 - accuracy: 0.809 - ETA: 11:12 - loss: 0.5259 - accuracy: 0.809 - ETA: 11:11 - loss: 0.5257 - accuracy: 0.810 - ETA: 11:11 - loss: 0.5254 - accuracy: 0.810 - ETA: 11:10 - loss: 0.5253 - accuracy: 0.810 - ETA: 11:09 - loss: 0.5252 - accuracy: 0.810 - ETA: 11:08 - loss: 0.5250 - accuracy: 0.810 - ETA: 11:08 - loss: 0.5247 - accuracy: 0.810 - ETA: 11:07 - loss: 0.5247 - accuracy: 0.810 - ETA: 11:06 - loss: 0.5244 - accuracy: 0.810 - ETA: 11:06 - loss: 0.5243 - accuracy: 0.810 - ETA: 11:05 - loss: 0.5240 - accuracy: 0.810 - ETA: 11:04 - loss: 0.5238 - accuracy: 0.810 - ETA: 11:04 - loss: 0.5236 - accuracy: 0.811 - ETA: 11:03 - loss: 0.5234 - accuracy: 0.811 - ETA: 11:02 - loss: 0.5235 - accuracy: 0.811 - ETA: 11:01 - loss: 0.5233 - accuracy: 0.811 - ETA: 11:01 - loss: 0.5231 - accuracy: 0.811 - ETA: 11:00 - loss: 0.5231 - accuracy: 0.811 - ETA: 10:59 - loss: 0.5229 - accuracy: 0.811 - ETA: 10:59 - loss: 0.5226 - accuracy: 0.811 - ETA: 10:58 - loss: 0.5225 - accuracy: 0.811 - ETA: 10:57 - loss: 0.5224 - accuracy: 0.811 - ETA: 10:57 - loss: 0.5221 - accuracy: 0.811 - ETA: 10:56 - loss: 0.5219 - accuracy: 0.811 - ETA: 10:55 - loss: 0.5217 - accuracy: 0.811 - ETA: 10:55 - loss: 0.5215 - accuracy: 0.811 - ETA: 10:54 - loss: 0.5213 - accuracy: 0.812 - ETA: 10:53 - loss: 0.5211 - accuracy: 0.812 - ETA: 10:52 - loss: 0.5209 - accuracy: 0.812 - ETA: 10:52 - loss: 0.5207 - accuracy: 0.812 - ETA: 10:51 - loss: 0.5205 - accuracy: 0.812 - ETA: 10:50 - loss: 0.5205 - accuracy: 0.812 - ETA: 10:50 - loss: 0.5204 - accuracy: 0.812 - ETA: 10:49 - loss: 0.5202 - accuracy: 0.812 - ETA: 10:48 - loss: 0.5202 - accuracy: 0.812 - ETA: 10:48 - loss: 0.5200 - accuracy: 0.812 - ETA: 10:47 - loss: 0.5198 - accuracy: 0.812 - ETA: 10:46 - loss: 0.5195 - accuracy: 0.812 - ETA: 10:46 - loss: 0.5192 - accuracy: 0.812 - ETA: 10:45 - loss: 0.5190 - accuracy: 0.812 - ETA: 10:44 - loss: 0.5189 - accuracy: 0.813 - ETA: 10:44 - loss: 0.5188 - accuracy: 0.813 - ETA: 10:43 - loss: 0.5186 - accuracy: 0.813 - ETA: 10:42 - loss: 0.5184 - accuracy: 0.813 - ETA: 10:41 - loss: 0.5182 - accuracy: 0.813 - ETA: 10:41 - loss: 0.5179 - accuracy: 0.813 - ETA: 10:40 - loss: 0.5177 - accuracy: 0.813 - ETA: 10:39 - loss: 0.5175 - accuracy: 0.813 - ETA: 10:39 - loss: 0.5173 - accuracy: 0.813 - ETA: 10:38 - loss: 0.5171 - accuracy: 0.813 - ETA: 10:37 - loss: 0.5170 - accuracy: 0.813 - ETA: 10:37 - loss: 0.5169 - accuracy: 0.813 - ETA: 10:36 - loss: 0.5169 - accuracy: 0.813 - ETA: 10:35 - loss: 0.5167 - accuracy: 0.813 - ETA: 10:35 - loss: 0.5165 - accuracy: 0.814 - ETA: 10:34 - loss: 0.5163 - accuracy: 0.814 - ETA: 10:33 - loss: 0.5164 - accuracy: 0.814 - ETA: 10:33 - loss: 0.5164 - accuracy: 0.814 - ETA: 10:32 - loss: 0.5161 - accuracy: 0.814 - ETA: 10:31 - loss: 0.5160 - accuracy: 0.814 - ETA: 10:30 - loss: 0.5158 - accuracy: 0.814 - ETA: 10:30 - loss: 0.5156 - accuracy: 0.814 - ETA: 10:29 - loss: 0.5155 - accuracy: 0.814 - ETA: 10:28 - loss: 0.5153 - accuracy: 0.814 - ETA: 10:28 - loss: 0.5151 - accuracy: 0.814 - ETA: 10:27 - loss: 0.5148 - accuracy: 0.814 - ETA: 10:26 - loss: 0.5145 - accuracy: 0.814 - ETA: 10:26 - loss: 0.5142 - accuracy: 0.814 - ETA: 10:25 - loss: 0.5140 - accuracy: 0.815 - ETA: 10:24 - loss: 0.5138 - accuracy: 0.815 - ETA: 10:24 - loss: 0.5137 - accuracy: 0.815 - ETA: 10:23 - loss: 0.5134 - accuracy: 0.815 - ETA: 10:22 - loss: 0.5133 - accuracy: 0.815 - ETA: 10:22 - loss: 0.5131 - accuracy: 0.815 - ETA: 10:21 - loss: 0.5131 - accuracy: 0.815 - ETA: 10:20 - loss: 0.5128 - accuracy: 0.815 - ETA: 10:19 - loss: 0.5127 - accuracy: 0.815 - ETA: 10:19 - loss: 0.5125 - accuracy: 0.815 - ETA: 10:18 - loss: 0.5123 - accuracy: 0.815 - ETA: 10:17 - loss: 0.5121 - accuracy: 0.815 - ETA: 10:17 - loss: 0.5119 - accuracy: 0.815 - ETA: 10:16 - loss: 0.5118 - accuracy: 0.815 - ETA: 10:15 - loss: 0.5115 - accuracy: 0.816 - ETA: 10:15 - loss: 0.5112 - accuracy: 0.816 - ETA: 10:14 - loss: 0.5110 - accuracy: 0.8162 91456/140454 [==================>...........] - ETA: 10:13 - loss: 0.5109 - accuracy: 0.816 - ETA: 10:13 - loss: 0.5107 - accuracy: 0.816 - ETA: 10:12 - loss: 0.5105 - accuracy: 0.816 - ETA: 10:11 - loss: 0.5105 - accuracy: 0.816 - ETA: 10:11 - loss: 0.5103 - accuracy: 0.816 - ETA: 10:10 - loss: 0.5101 - accuracy: 0.816 - ETA: 10:09 - loss: 0.5101 - accuracy: 0.816 - ETA: 10:09 - loss: 0.5098 - accuracy: 0.816 - ETA: 10:08 - loss: 0.5098 - accuracy: 0.816 - ETA: 10:07 - loss: 0.5096 - accuracy: 0.817 - ETA: 10:07 - loss: 0.5093 - accuracy: 0.817 - ETA: 10:06 - loss: 0.5091 - accuracy: 0.817 - ETA: 10:05 - loss: 0.5089 - accuracy: 0.817 - ETA: 10:04 - loss: 0.5088 - accuracy: 0.817 - ETA: 10:04 - loss: 0.5086 - accuracy: 0.817 - ETA: 10:03 - loss: 0.5083 - accuracy: 0.817 - ETA: 10:02 - loss: 0.5083 - accuracy: 0.817 - ETA: 10:02 - loss: 0.5081 - accuracy: 0.817 - ETA: 10:01 - loss: 0.5078 - accuracy: 0.817 - ETA: 10:00 - loss: 0.5077 - accuracy: 0.817 - ETA: 10:00 - loss: 0.5075 - accuracy: 0.817 - ETA: 9:59 - loss: 0.5072 - accuracy: 0.818 - ETA: 9:58 - loss: 0.5070 - accuracy: 0.81 - ETA: 9:58 - loss: 0.5068 - accuracy: 0.81 - ETA: 9:57 - loss: 0.5068 - accuracy: 0.81 - ETA: 9:57 - loss: 0.5067 - accuracy: 0.81 - ETA: 9:56 - loss: 0.5064 - accuracy: 0.81 - ETA: 9:55 - loss: 0.5063 - accuracy: 0.81 - ETA: 9:55 - loss: 0.5063 - accuracy: 0.81 - ETA: 9:54 - loss: 0.5060 - accuracy: 0.81 - ETA: 9:53 - loss: 0.5058 - accuracy: 0.81 - ETA: 9:53 - loss: 0.5056 - accuracy: 0.81 - ETA: 9:52 - loss: 0.5056 - accuracy: 0.81 - ETA: 9:51 - loss: 0.5054 - accuracy: 0.81 - ETA: 9:51 - loss: 0.5053 - accuracy: 0.81 - ETA: 9:50 - loss: 0.5052 - accuracy: 0.81 - ETA: 9:49 - loss: 0.5050 - accuracy: 0.81 - ETA: 9:49 - loss: 0.5049 - accuracy: 0.81 - ETA: 9:48 - loss: 0.5047 - accuracy: 0.81 - ETA: 9:47 - loss: 0.5046 - accuracy: 0.81 - ETA: 9:47 - loss: 0.5043 - accuracy: 0.81 - ETA: 9:46 - loss: 0.5040 - accuracy: 0.81 - ETA: 9:46 - loss: 0.5038 - accuracy: 0.81 - ETA: 9:45 - loss: 0.5038 - accuracy: 0.81 - ETA: 9:44 - loss: 0.5035 - accuracy: 0.81 - ETA: 9:44 - loss: 0.5035 - accuracy: 0.81 - ETA: 9:43 - loss: 0.5033 - accuracy: 0.81 - ETA: 9:42 - loss: 0.5031 - accuracy: 0.81 - ETA: 9:42 - loss: 0.5031 - accuracy: 0.81 - ETA: 9:41 - loss: 0.5031 - accuracy: 0.81 - ETA: 9:40 - loss: 0.5030 - accuracy: 0.81 - ETA: 9:40 - loss: 0.5029 - accuracy: 0.81 - ETA: 9:39 - loss: 0.5027 - accuracy: 0.81 - ETA: 9:38 - loss: 0.5027 - accuracy: 0.81 - ETA: 9:38 - loss: 0.5025 - accuracy: 0.81 - ETA: 9:37 - loss: 0.5025 - accuracy: 0.81 - ETA: 9:36 - loss: 0.5024 - accuracy: 0.81 - ETA: 9:36 - loss: 0.5022 - accuracy: 0.81 - ETA: 9:35 - loss: 0.5021 - accuracy: 0.82 - ETA: 9:34 - loss: 0.5020 - accuracy: 0.82 - ETA: 9:34 - loss: 0.5020 - accuracy: 0.82 - ETA: 9:33 - loss: 0.5018 - accuracy: 0.82 - ETA: 9:32 - loss: 0.5017 - accuracy: 0.82 - ETA: 9:32 - loss: 0.5015 - accuracy: 0.82 - ETA: 9:31 - loss: 0.5014 - accuracy: 0.82 - ETA: 9:30 - loss: 0.5013 - accuracy: 0.82 - ETA: 9:29 - loss: 0.5011 - accuracy: 0.82 - ETA: 9:29 - loss: 0.5011 - accuracy: 0.82 - ETA: 9:28 - loss: 0.5009 - accuracy: 0.82 - ETA: 9:27 - loss: 0.5008 - accuracy: 0.82 - ETA: 9:27 - loss: 0.5006 - accuracy: 0.82 - ETA: 9:26 - loss: 0.5005 - accuracy: 0.82 - ETA: 9:25 - loss: 0.5003 - accuracy: 0.82 - ETA: 9:25 - loss: 0.5001 - accuracy: 0.82 - ETA: 9:24 - loss: 0.4999 - accuracy: 0.82 - ETA: 9:23 - loss: 0.4998 - accuracy: 0.82 - ETA: 9:23 - loss: 0.4997 - accuracy: 0.82 - ETA: 9:22 - loss: 0.4996 - accuracy: 0.82 - ETA: 9:21 - loss: 0.4995 - accuracy: 0.82 - ETA: 9:21 - loss: 0.4993 - accuracy: 0.82 - ETA: 9:20 - loss: 0.4993 - accuracy: 0.82 - ETA: 9:19 - loss: 0.4992 - accuracy: 0.82 - ETA: 9:19 - loss: 0.4991 - accuracy: 0.82 - ETA: 9:18 - loss: 0.4989 - accuracy: 0.82 - ETA: 9:17 - loss: 0.4987 - accuracy: 0.82 - ETA: 9:17 - loss: 0.4986 - accuracy: 0.82 - ETA: 9:16 - loss: 0.4984 - accuracy: 0.82 - ETA: 9:15 - loss: 0.4982 - accuracy: 0.82 - ETA: 9:15 - loss: 0.4979 - accuracy: 0.82 - ETA: 9:14 - loss: 0.4978 - accuracy: 0.82 - ETA: 9:13 - loss: 0.4976 - accuracy: 0.82 - ETA: 9:13 - loss: 0.4975 - accuracy: 0.82 - ETA: 9:12 - loss: 0.4973 - accuracy: 0.82 - ETA: 9:11 - loss: 0.4972 - accuracy: 0.82 - ETA: 9:11 - loss: 0.4971 - accuracy: 0.82 - ETA: 9:10 - loss: 0.4969 - accuracy: 0.82 - ETA: 9:09 - loss: 0.4969 - accuracy: 0.82 - ETA: 9:09 - loss: 0.4967 - accuracy: 0.82 - ETA: 9:08 - loss: 0.4965 - accuracy: 0.82 - ETA: 9:07 - loss: 0.4964 - accuracy: 0.82 - ETA: 9:07 - loss: 0.4963 - accuracy: 0.82 - ETA: 9:06 - loss: 0.4962 - accuracy: 0.82 - ETA: 9:05 - loss: 0.4960 - accuracy: 0.82 - ETA: 9:05 - loss: 0.4958 - accuracy: 0.82 - ETA: 9:04 - loss: 0.4957 - accuracy: 0.82 - ETA: 9:03 - loss: 0.4956 - accuracy: 0.82 - ETA: 9:03 - loss: 0.4955 - accuracy: 0.82 - ETA: 9:02 - loss: 0.4953 - accuracy: 0.82 - ETA: 9:01 - loss: 0.4951 - accuracy: 0.82 - ETA: 9:01 - loss: 0.4949 - accuracy: 0.82 - ETA: 9:00 - loss: 0.4948 - accuracy: 0.82 - ETA: 8:59 - loss: 0.4947 - accuracy: 0.82 - ETA: 8:59 - loss: 0.4946 - accuracy: 0.82 - ETA: 8:58 - loss: 0.4943 - accuracy: 0.82 - ETA: 8:57 - loss: 0.4943 - accuracy: 0.82 - ETA: 8:57 - loss: 0.4940 - accuracy: 0.82 - ETA: 8:56 - loss: 0.4939 - accuracy: 0.82 - ETA: 8:55 - loss: 0.4937 - accuracy: 0.82 - ETA: 8:55 - loss: 0.4937 - accuracy: 0.82 - ETA: 8:54 - loss: 0.4936 - accuracy: 0.82 - ETA: 8:53 - loss: 0.4935 - accuracy: 0.82 - ETA: 8:53 - loss: 0.4934 - accuracy: 0.82 - ETA: 8:52 - loss: 0.4932 - accuracy: 0.82 - ETA: 8:51 - loss: 0.4931 - accuracy: 0.82 - ETA: 8:51 - loss: 0.4930 - accuracy: 0.82 - ETA: 8:50 - loss: 0.4928 - accuracy: 0.82 - ETA: 8:49 - loss: 0.4927 - accuracy: 0.82 - ETA: 8:49 - loss: 0.4925 - accuracy: 0.82 - ETA: 8:48 - loss: 0.4924 - accuracy: 0.82 - ETA: 8:47 - loss: 0.4922 - accuracy: 0.82 - ETA: 8:47 - loss: 0.4921 - accuracy: 0.82 - ETA: 8:46 - loss: 0.4919 - accuracy: 0.82 - ETA: 8:45 - loss: 0.4918 - accuracy: 0.82 - ETA: 8:45 - loss: 0.4916 - accuracy: 0.82 - ETA: 8:44 - loss: 0.4916 - accuracy: 0.82 - ETA: 8:43 - loss: 0.4914 - accuracy: 0.82 - ETA: 8:43 - loss: 0.4913 - accuracy: 0.82 - ETA: 8:42 - loss: 0.4911 - accuracy: 0.82 - ETA: 8:41 - loss: 0.4909 - accuracy: 0.82 - ETA: 8:41 - loss: 0.4907 - accuracy: 0.82 - ETA: 8:40 - loss: 0.4905 - accuracy: 0.82 - ETA: 8:39 - loss: 0.4905 - accuracy: 0.82 - ETA: 8:39 - loss: 0.4903 - accuracy: 0.82 - ETA: 8:38 - loss: 0.4901 - accuracy: 0.82 - ETA: 8:37 - loss: 0.4900 - accuracy: 0.82 - ETA: 8:37 - loss: 0.4899 - accuracy: 0.82 - ETA: 8:36 - loss: 0.4898 - accuracy: 0.82 - ETA: 8:35 - loss: 0.4896 - accuracy: 0.82 - ETA: 8:35 - loss: 0.4894 - accuracy: 0.82 - ETA: 8:34 - loss: 0.4894 - accuracy: 0.82 - ETA: 8:33 - loss: 0.4892 - accuracy: 0.82 - ETA: 8:33 - loss: 0.4890 - accuracy: 0.82 - ETA: 8:32 - loss: 0.4891 - accuracy: 0.82 - ETA: 8:31 - loss: 0.4889 - accuracy: 0.82 - ETA: 8:31 - loss: 0.4888 - accuracy: 0.82 - ETA: 8:30 - loss: 0.4887 - accuracy: 0.82 - ETA: 8:29 - loss: 0.4887 - accuracy: 0.82 - ETA: 8:29 - loss: 0.4885 - accuracy: 0.82 - ETA: 8:28 - loss: 0.4883 - accuracy: 0.82 - ETA: 8:27 - loss: 0.4880 - accuracy: 0.82 - ETA: 8:27 - loss: 0.4878 - accuracy: 0.82 - ETA: 8:26 - loss: 0.4877 - accuracy: 0.82 - ETA: 8:25 - loss: 0.4876 - accuracy: 0.82 - ETA: 8:25 - loss: 0.4875 - accuracy: 0.82 - ETA: 8:24 - loss: 0.4875 - accuracy: 0.82 - ETA: 8:23 - loss: 0.4873 - accuracy: 0.82 - ETA: 8:23 - loss: 0.4873 - accuracy: 0.82 - ETA: 8:22 - loss: 0.4873 - accuracy: 0.82 - ETA: 8:21 - loss: 0.4871 - accuracy: 0.82 - ETA: 8:21 - loss: 0.4869 - accuracy: 0.82 - ETA: 8:20 - loss: 0.4867 - accuracy: 0.82 - ETA: 8:19 - loss: 0.4865 - accuracy: 0.82 - ETA: 8:19 - loss: 0.4864 - accuracy: 0.82 - ETA: 8:18 - loss: 0.4863 - accuracy: 0.82 - ETA: 8:17 - loss: 0.4862 - accuracy: 0.82 - ETA: 8:17 - loss: 0.4862 - accuracy: 0.82 - ETA: 8:16 - loss: 0.4861 - accuracy: 0.82 - ETA: 8:15 - loss: 0.4859 - accuracy: 0.82 - ETA: 8:15 - loss: 0.4858 - accuracy: 0.82 - ETA: 8:14 - loss: 0.4856 - accuracy: 0.82 - ETA: 8:13 - loss: 0.4855 - accuracy: 0.82 - ETA: 8:13 - loss: 0.4854 - accuracy: 0.82 - ETA: 8:12 - loss: 0.4852 - accuracy: 0.82 - ETA: 8:11 - loss: 0.4852 - accuracy: 0.82 - ETA: 8:11 - loss: 0.4851 - accuracy: 0.8268103360/140454 [=====================>........] - ETA: 8:10 - loss: 0.4849 - accuracy: 0.82 - ETA: 8:09 - loss: 0.4849 - accuracy: 0.82 - ETA: 8:09 - loss: 0.4848 - accuracy: 0.82 - ETA: 8:08 - loss: 0.4846 - accuracy: 0.82 - ETA: 8:07 - loss: 0.4846 - accuracy: 0.82 - ETA: 8:07 - loss: 0.4844 - accuracy: 0.82 - ETA: 8:06 - loss: 0.4842 - accuracy: 0.82 - ETA: 8:05 - loss: 0.4842 - accuracy: 0.82 - ETA: 8:05 - loss: 0.4842 - accuracy: 0.82 - ETA: 8:04 - loss: 0.4841 - accuracy: 0.82 - ETA: 8:03 - loss: 0.4839 - accuracy: 0.82 - ETA: 8:03 - loss: 0.4838 - accuracy: 0.82 - ETA: 8:02 - loss: 0.4836 - accuracy: 0.82 - ETA: 8:01 - loss: 0.4835 - accuracy: 0.82 - ETA: 8:01 - loss: 0.4833 - accuracy: 0.82 - ETA: 8:00 - loss: 0.4834 - accuracy: 0.82 - ETA: 7:59 - loss: 0.4832 - accuracy: 0.82 - ETA: 7:59 - loss: 0.4831 - accuracy: 0.82 - ETA: 7:58 - loss: 0.4830 - accuracy: 0.82 - ETA: 7:57 - loss: 0.4828 - accuracy: 0.82 - ETA: 7:57 - loss: 0.4827 - accuracy: 0.82 - ETA: 7:56 - loss: 0.4825 - accuracy: 0.82 - ETA: 7:55 - loss: 0.4824 - accuracy: 0.82 - ETA: 7:55 - loss: 0.4824 - accuracy: 0.82 - ETA: 7:54 - loss: 0.4822 - accuracy: 0.82 - ETA: 7:54 - loss: 0.4820 - accuracy: 0.82 - ETA: 7:53 - loss: 0.4819 - accuracy: 0.82 - ETA: 7:52 - loss: 0.4817 - accuracy: 0.82 - ETA: 7:52 - loss: 0.4816 - accuracy: 0.82 - ETA: 7:51 - loss: 0.4815 - accuracy: 0.82 - ETA: 7:50 - loss: 0.4813 - accuracy: 0.82 - ETA: 7:50 - loss: 0.4811 - accuracy: 0.82 - ETA: 7:49 - loss: 0.4810 - accuracy: 0.82 - ETA: 7:48 - loss: 0.4809 - accuracy: 0.82 - ETA: 7:48 - loss: 0.4808 - accuracy: 0.82 - ETA: 7:47 - loss: 0.4807 - accuracy: 0.82 - ETA: 7:46 - loss: 0.4806 - accuracy: 0.82 - ETA: 7:46 - loss: 0.4804 - accuracy: 0.82 - ETA: 7:45 - loss: 0.4803 - accuracy: 0.82 - ETA: 7:44 - loss: 0.4802 - accuracy: 0.82 - ETA: 7:44 - loss: 0.4800 - accuracy: 0.82 - ETA: 7:43 - loss: 0.4799 - accuracy: 0.82 - ETA: 7:42 - loss: 0.4798 - accuracy: 0.82 - ETA: 7:42 - loss: 0.4795 - accuracy: 0.82 - ETA: 7:41 - loss: 0.4794 - accuracy: 0.82 - ETA: 7:40 - loss: 0.4793 - accuracy: 0.82 - ETA: 7:40 - loss: 0.4794 - accuracy: 0.82 - ETA: 7:39 - loss: 0.4792 - accuracy: 0.82 - ETA: 7:38 - loss: 0.4792 - accuracy: 0.82 - ETA: 7:38 - loss: 0.4790 - accuracy: 0.82 - ETA: 7:37 - loss: 0.4789 - accuracy: 0.82 - ETA: 7:36 - loss: 0.4789 - accuracy: 0.82 - ETA: 7:36 - loss: 0.4788 - accuracy: 0.82 - ETA: 7:35 - loss: 0.4787 - accuracy: 0.82 - ETA: 7:34 - loss: 0.4787 - accuracy: 0.82 - ETA: 7:34 - loss: 0.4785 - accuracy: 0.82 - ETA: 7:33 - loss: 0.4784 - accuracy: 0.82 - ETA: 7:32 - loss: 0.4783 - accuracy: 0.82 - ETA: 7:32 - loss: 0.4782 - accuracy: 0.82 - ETA: 7:31 - loss: 0.4780 - accuracy: 0.82 - ETA: 7:30 - loss: 0.4778 - accuracy: 0.82 - ETA: 7:30 - loss: 0.4776 - accuracy: 0.82 - ETA: 7:29 - loss: 0.4774 - accuracy: 0.82 - ETA: 7:28 - loss: 0.4773 - accuracy: 0.82 - ETA: 7:28 - loss: 0.4773 - accuracy: 0.82 - ETA: 7:27 - loss: 0.4773 - accuracy: 0.82 - ETA: 7:26 - loss: 0.4771 - accuracy: 0.82 - ETA: 7:26 - loss: 0.4770 - accuracy: 0.82 - ETA: 7:25 - loss: 0.4767 - accuracy: 0.82 - ETA: 7:24 - loss: 0.4766 - accuracy: 0.83 - ETA: 7:24 - loss: 0.4765 - accuracy: 0.83 - ETA: 7:23 - loss: 0.4764 - accuracy: 0.83 - ETA: 7:22 - loss: 0.4763 - accuracy: 0.83 - ETA: 7:22 - loss: 0.4762 - accuracy: 0.83 - ETA: 7:21 - loss: 0.4760 - accuracy: 0.83 - ETA: 7:20 - loss: 0.4759 - accuracy: 0.83 - ETA: 7:20 - loss: 0.4757 - accuracy: 0.83 - ETA: 7:19 - loss: 0.4755 - accuracy: 0.83 - ETA: 7:19 - loss: 0.4755 - accuracy: 0.83 - ETA: 7:18 - loss: 0.4753 - accuracy: 0.83 - ETA: 7:17 - loss: 0.4753 - accuracy: 0.83 - ETA: 7:17 - loss: 0.4751 - accuracy: 0.83 - ETA: 7:16 - loss: 0.4750 - accuracy: 0.83 - ETA: 7:15 - loss: 0.4748 - accuracy: 0.83 - ETA: 7:15 - loss: 0.4745 - accuracy: 0.83 - ETA: 7:14 - loss: 0.4745 - accuracy: 0.83 - ETA: 7:13 - loss: 0.4744 - accuracy: 0.83 - ETA: 7:13 - loss: 0.4744 - accuracy: 0.83 - ETA: 7:12 - loss: 0.4744 - accuracy: 0.83 - ETA: 7:12 - loss: 0.4743 - accuracy: 0.83 - ETA: 7:11 - loss: 0.4742 - accuracy: 0.83 - ETA: 7:10 - loss: 0.4741 - accuracy: 0.83 - ETA: 7:10 - loss: 0.4739 - accuracy: 0.83 - ETA: 7:09 - loss: 0.4738 - accuracy: 0.83 - ETA: 7:08 - loss: 0.4736 - accuracy: 0.83 - ETA: 7:08 - loss: 0.4735 - accuracy: 0.83 - ETA: 7:07 - loss: 0.4733 - accuracy: 0.83 - ETA: 7:06 - loss: 0.4733 - accuracy: 0.83 - ETA: 7:06 - loss: 0.4733 - accuracy: 0.83 - ETA: 7:05 - loss: 0.4731 - accuracy: 0.83 - ETA: 7:04 - loss: 0.4730 - accuracy: 0.83 - ETA: 7:04 - loss: 0.4731 - accuracy: 0.83 - ETA: 7:03 - loss: 0.4730 - accuracy: 0.83 - ETA: 7:02 - loss: 0.4728 - accuracy: 0.83 - ETA: 7:02 - loss: 0.4726 - accuracy: 0.83 - ETA: 7:01 - loss: 0.4724 - accuracy: 0.83 - ETA: 7:00 - loss: 0.4723 - accuracy: 0.83 - ETA: 7:00 - loss: 0.4722 - accuracy: 0.83 - ETA: 6:59 - loss: 0.4721 - accuracy: 0.83 - ETA: 6:58 - loss: 0.4719 - accuracy: 0.83 - ETA: 6:58 - loss: 0.4718 - accuracy: 0.83 - ETA: 6:57 - loss: 0.4717 - accuracy: 0.83 - ETA: 6:57 - loss: 0.4717 - accuracy: 0.83 - ETA: 6:56 - loss: 0.4716 - accuracy: 0.83 - ETA: 6:55 - loss: 0.4714 - accuracy: 0.83 - ETA: 6:55 - loss: 0.4713 - accuracy: 0.83 - ETA: 6:54 - loss: 0.4713 - accuracy: 0.83 - ETA: 6:53 - loss: 0.4712 - accuracy: 0.83 - ETA: 6:53 - loss: 0.4711 - accuracy: 0.83 - ETA: 6:52 - loss: 0.4709 - accuracy: 0.83 - ETA: 6:51 - loss: 0.4708 - accuracy: 0.83 - ETA: 6:51 - loss: 0.4706 - accuracy: 0.83 - ETA: 6:50 - loss: 0.4705 - accuracy: 0.83 - ETA: 6:49 - loss: 0.4704 - accuracy: 0.83 - ETA: 6:49 - loss: 0.4702 - accuracy: 0.83 - ETA: 6:48 - loss: 0.4701 - accuracy: 0.83 - ETA: 6:47 - loss: 0.4700 - accuracy: 0.83 - ETA: 6:47 - loss: 0.4699 - accuracy: 0.83 - ETA: 6:46 - loss: 0.4697 - accuracy: 0.83 - ETA: 6:45 - loss: 0.4697 - accuracy: 0.83 - ETA: 6:45 - loss: 0.4695 - accuracy: 0.83 - ETA: 6:44 - loss: 0.4694 - accuracy: 0.83 - ETA: 6:43 - loss: 0.4692 - accuracy: 0.83 - ETA: 6:43 - loss: 0.4691 - accuracy: 0.83 - ETA: 6:42 - loss: 0.4690 - accuracy: 0.83 - ETA: 6:41 - loss: 0.4690 - accuracy: 0.83 - ETA: 6:41 - loss: 0.4688 - accuracy: 0.83 - ETA: 6:40 - loss: 0.4687 - accuracy: 0.83 - ETA: 6:39 - loss: 0.4686 - accuracy: 0.83 - ETA: 6:39 - loss: 0.4685 - accuracy: 0.83 - ETA: 6:38 - loss: 0.4684 - accuracy: 0.83 - ETA: 6:37 - loss: 0.4682 - accuracy: 0.83 - ETA: 6:37 - loss: 0.4681 - accuracy: 0.83 - ETA: 6:36 - loss: 0.4679 - accuracy: 0.83 - ETA: 6:35 - loss: 0.4677 - accuracy: 0.83 - ETA: 6:35 - loss: 0.4677 - accuracy: 0.83 - ETA: 6:34 - loss: 0.4677 - accuracy: 0.83 - ETA: 6:34 - loss: 0.4677 - accuracy: 0.83 - ETA: 6:33 - loss: 0.4675 - accuracy: 0.83 - ETA: 6:32 - loss: 0.4675 - accuracy: 0.83 - ETA: 6:32 - loss: 0.4675 - accuracy: 0.83 - ETA: 6:31 - loss: 0.4673 - accuracy: 0.83 - ETA: 6:30 - loss: 0.4672 - accuracy: 0.83 - ETA: 6:30 - loss: 0.4671 - accuracy: 0.83 - ETA: 6:29 - loss: 0.4669 - accuracy: 0.83 - ETA: 6:28 - loss: 0.4667 - accuracy: 0.83 - ETA: 6:28 - loss: 0.4667 - accuracy: 0.83 - ETA: 6:27 - loss: 0.4665 - accuracy: 0.83 - ETA: 6:26 - loss: 0.4665 - accuracy: 0.83 - ETA: 6:26 - loss: 0.4664 - accuracy: 0.83 - ETA: 6:25 - loss: 0.4663 - accuracy: 0.83 - ETA: 6:24 - loss: 0.4662 - accuracy: 0.83 - ETA: 6:24 - loss: 0.4660 - accuracy: 0.83 - ETA: 6:23 - loss: 0.4659 - accuracy: 0.83 - ETA: 6:22 - loss: 0.4658 - accuracy: 0.83 - ETA: 6:22 - loss: 0.4657 - accuracy: 0.83 - ETA: 6:21 - loss: 0.4656 - accuracy: 0.83 - ETA: 6:20 - loss: 0.4655 - accuracy: 0.83 - ETA: 6:20 - loss: 0.4655 - accuracy: 0.83 - ETA: 6:19 - loss: 0.4653 - accuracy: 0.83 - ETA: 6:18 - loss: 0.4653 - accuracy: 0.83 - ETA: 6:18 - loss: 0.4651 - accuracy: 0.83 - ETA: 6:17 - loss: 0.4650 - accuracy: 0.83 - ETA: 6:16 - loss: 0.4648 - accuracy: 0.83 - ETA: 6:16 - loss: 0.4648 - accuracy: 0.83 - ETA: 6:15 - loss: 0.4647 - accuracy: 0.83 - ETA: 6:14 - loss: 0.4645 - accuracy: 0.83 - ETA: 6:14 - loss: 0.4644 - accuracy: 0.83 - ETA: 6:13 - loss: 0.4642 - accuracy: 0.83 - ETA: 6:12 - loss: 0.4641 - accuracy: 0.83 - ETA: 6:12 - loss: 0.4640 - accuracy: 0.83 - ETA: 6:11 - loss: 0.4638 - accuracy: 0.83 - ETA: 6:11 - loss: 0.4637 - accuracy: 0.83 - ETA: 6:10 - loss: 0.4636 - accuracy: 0.83 - ETA: 6:09 - loss: 0.4635 - accuracy: 0.83 - ETA: 6:09 - loss: 0.4635 - accuracy: 0.8353115264/140454 [=======================>......] - ETA: 6:08 - loss: 0.4635 - accuracy: 0.83 - ETA: 6:07 - loss: 0.4634 - accuracy: 0.83 - ETA: 6:07 - loss: 0.4634 - accuracy: 0.83 - ETA: 6:06 - loss: 0.4632 - accuracy: 0.83 - ETA: 6:05 - loss: 0.4631 - accuracy: 0.83 - ETA: 6:05 - loss: 0.4631 - accuracy: 0.83 - ETA: 6:04 - loss: 0.4629 - accuracy: 0.83 - ETA: 6:03 - loss: 0.4628 - accuracy: 0.83 - ETA: 6:03 - loss: 0.4628 - accuracy: 0.83 - ETA: 6:02 - loss: 0.4627 - accuracy: 0.83 - ETA: 6:01 - loss: 0.4627 - accuracy: 0.83 - ETA: 6:01 - loss: 0.4626 - accuracy: 0.83 - ETA: 6:00 - loss: 0.4626 - accuracy: 0.83 - ETA: 5:59 - loss: 0.4624 - accuracy: 0.83 - ETA: 5:59 - loss: 0.4624 - accuracy: 0.83 - ETA: 5:58 - loss: 0.4622 - accuracy: 0.83 - ETA: 5:57 - loss: 0.4621 - accuracy: 0.83 - ETA: 5:57 - loss: 0.4620 - accuracy: 0.83 - ETA: 5:56 - loss: 0.4619 - accuracy: 0.83 - ETA: 5:55 - loss: 0.4618 - accuracy: 0.83 - ETA: 5:55 - loss: 0.4617 - accuracy: 0.83 - ETA: 5:54 - loss: 0.4617 - accuracy: 0.83 - ETA: 5:53 - loss: 0.4616 - accuracy: 0.83 - ETA: 5:53 - loss: 0.4615 - accuracy: 0.83 - ETA: 5:52 - loss: 0.4614 - accuracy: 0.83 - ETA: 5:51 - loss: 0.4612 - accuracy: 0.83 - ETA: 5:51 - loss: 0.4612 - accuracy: 0.83 - ETA: 5:50 - loss: 0.4612 - accuracy: 0.83 - ETA: 5:50 - loss: 0.4611 - accuracy: 0.83 - ETA: 5:49 - loss: 0.4609 - accuracy: 0.83 - ETA: 5:48 - loss: 0.4609 - accuracy: 0.83 - ETA: 5:48 - loss: 0.4607 - accuracy: 0.83 - ETA: 5:47 - loss: 0.4606 - accuracy: 0.83 - ETA: 5:46 - loss: 0.4604 - accuracy: 0.83 - ETA: 5:46 - loss: 0.4602 - accuracy: 0.83 - ETA: 5:45 - loss: 0.4601 - accuracy: 0.83 - ETA: 5:44 - loss: 0.4600 - accuracy: 0.83 - ETA: 5:44 - loss: 0.4599 - accuracy: 0.83 - ETA: 5:43 - loss: 0.4598 - accuracy: 0.83 - ETA: 5:42 - loss: 0.4597 - accuracy: 0.83 - ETA: 5:42 - loss: 0.4596 - accuracy: 0.83 - ETA: 5:41 - loss: 0.4594 - accuracy: 0.83 - ETA: 5:40 - loss: 0.4592 - accuracy: 0.83 - ETA: 5:40 - loss: 0.4591 - accuracy: 0.83 - ETA: 5:39 - loss: 0.4589 - accuracy: 0.83 - ETA: 5:39 - loss: 0.4588 - accuracy: 0.83 - ETA: 5:38 - loss: 0.4588 - accuracy: 0.83 - ETA: 5:37 - loss: 0.4586 - accuracy: 0.83 - ETA: 5:37 - loss: 0.4586 - accuracy: 0.83 - ETA: 5:36 - loss: 0.4585 - accuracy: 0.83 - ETA: 5:35 - loss: 0.4585 - accuracy: 0.83 - ETA: 5:35 - loss: 0.4583 - accuracy: 0.83 - ETA: 5:34 - loss: 0.4583 - accuracy: 0.83 - ETA: 5:33 - loss: 0.4581 - accuracy: 0.83 - ETA: 5:33 - loss: 0.4580 - accuracy: 0.83 - ETA: 5:32 - loss: 0.4578 - accuracy: 0.83 - ETA: 5:31 - loss: 0.4576 - accuracy: 0.83 - ETA: 5:31 - loss: 0.4576 - accuracy: 0.83 - ETA: 5:30 - loss: 0.4575 - accuracy: 0.83 - ETA: 5:29 - loss: 0.4574 - accuracy: 0.83 - ETA: 5:29 - loss: 0.4574 - accuracy: 0.83 - ETA: 5:28 - loss: 0.4575 - accuracy: 0.83 - ETA: 5:27 - loss: 0.4574 - accuracy: 0.83 - ETA: 5:27 - loss: 0.4573 - accuracy: 0.83 - ETA: 5:26 - loss: 0.4572 - accuracy: 0.83 - ETA: 5:25 - loss: 0.4570 - accuracy: 0.83 - ETA: 5:25 - loss: 0.4570 - accuracy: 0.83 - ETA: 5:24 - loss: 0.4569 - accuracy: 0.83 - ETA: 5:23 - loss: 0.4567 - accuracy: 0.83 - ETA: 5:23 - loss: 0.4565 - accuracy: 0.83 - ETA: 5:22 - loss: 0.4565 - accuracy: 0.83 - ETA: 5:22 - loss: 0.4565 - accuracy: 0.83 - ETA: 5:21 - loss: 0.4565 - accuracy: 0.83 - ETA: 5:20 - loss: 0.4563 - accuracy: 0.83 - ETA: 5:20 - loss: 0.4562 - accuracy: 0.83 - ETA: 5:19 - loss: 0.4561 - accuracy: 0.83 - ETA: 5:18 - loss: 0.4559 - accuracy: 0.83 - ETA: 5:18 - loss: 0.4559 - accuracy: 0.83 - ETA: 5:17 - loss: 0.4559 - accuracy: 0.83 - ETA: 5:16 - loss: 0.4559 - accuracy: 0.83 - ETA: 5:16 - loss: 0.4558 - accuracy: 0.83 - ETA: 5:15 - loss: 0.4557 - accuracy: 0.83 - ETA: 5:14 - loss: 0.4557 - accuracy: 0.83 - ETA: 5:14 - loss: 0.4555 - accuracy: 0.83 - ETA: 5:13 - loss: 0.4554 - accuracy: 0.83 - ETA: 5:12 - loss: 0.4552 - accuracy: 0.83 - ETA: 5:12 - loss: 0.4550 - accuracy: 0.83 - ETA: 5:11 - loss: 0.4550 - accuracy: 0.83 - ETA: 5:11 - loss: 0.4549 - accuracy: 0.83 - ETA: 5:10 - loss: 0.4549 - accuracy: 0.83 - ETA: 5:09 - loss: 0.4548 - accuracy: 0.83 - ETA: 5:09 - loss: 0.4548 - accuracy: 0.83 - ETA: 5:08 - loss: 0.4547 - accuracy: 0.83 - ETA: 5:07 - loss: 0.4546 - accuracy: 0.83 - ETA: 5:07 - loss: 0.4546 - accuracy: 0.83 - ETA: 5:06 - loss: 0.4545 - accuracy: 0.83 - ETA: 5:05 - loss: 0.4544 - accuracy: 0.83 - ETA: 5:05 - loss: 0.4542 - accuracy: 0.83 - ETA: 5:04 - loss: 0.4541 - accuracy: 0.83 - ETA: 5:03 - loss: 0.4541 - accuracy: 0.83 - ETA: 5:03 - loss: 0.4540 - accuracy: 0.83 - ETA: 5:02 - loss: 0.4538 - accuracy: 0.83 - ETA: 5:01 - loss: 0.4537 - accuracy: 0.83 - ETA: 5:01 - loss: 0.4536 - accuracy: 0.83 - ETA: 5:00 - loss: 0.4536 - accuracy: 0.83 - ETA: 5:00 - loss: 0.4535 - accuracy: 0.83 - ETA: 4:59 - loss: 0.4534 - accuracy: 0.83 - ETA: 4:58 - loss: 0.4534 - accuracy: 0.83 - ETA: 4:58 - loss: 0.4532 - accuracy: 0.83 - ETA: 4:57 - loss: 0.4532 - accuracy: 0.83 - ETA: 4:56 - loss: 0.4531 - accuracy: 0.83 - ETA: 4:56 - loss: 0.4530 - accuracy: 0.83 - ETA: 4:55 - loss: 0.4529 - accuracy: 0.83 - ETA: 4:54 - loss: 0.4527 - accuracy: 0.83 - ETA: 4:54 - loss: 0.4526 - accuracy: 0.83 - ETA: 4:53 - loss: 0.4526 - accuracy: 0.83 - ETA: 4:52 - loss: 0.4524 - accuracy: 0.83 - ETA: 4:52 - loss: 0.4523 - accuracy: 0.83 - ETA: 4:51 - loss: 0.4522 - accuracy: 0.83 - ETA: 4:50 - loss: 0.4521 - accuracy: 0.83 - ETA: 4:50 - loss: 0.4521 - accuracy: 0.83 - ETA: 4:49 - loss: 0.4519 - accuracy: 0.83 - ETA: 4:49 - loss: 0.4519 - accuracy: 0.83 - ETA: 4:48 - loss: 0.4517 - accuracy: 0.83 - ETA: 4:47 - loss: 0.4516 - accuracy: 0.83 - ETA: 4:47 - loss: 0.4515 - accuracy: 0.83 - ETA: 4:46 - loss: 0.4514 - accuracy: 0.84 - ETA: 4:45 - loss: 0.4514 - accuracy: 0.84 - ETA: 4:45 - loss: 0.4513 - accuracy: 0.84 - ETA: 4:44 - loss: 0.4512 - accuracy: 0.84 - ETA: 4:43 - loss: 0.4511 - accuracy: 0.84 - ETA: 4:43 - loss: 0.4509 - accuracy: 0.84 - ETA: 4:42 - loss: 0.4508 - accuracy: 0.84 - ETA: 4:41 - loss: 0.4507 - accuracy: 0.84 - ETA: 4:41 - loss: 0.4505 - accuracy: 0.84 - ETA: 4:40 - loss: 0.4504 - accuracy: 0.84 - ETA: 4:40 - loss: 0.4503 - accuracy: 0.84 - ETA: 4:39 - loss: 0.4503 - accuracy: 0.84 - ETA: 4:38 - loss: 0.4502 - accuracy: 0.84 - ETA: 4:38 - loss: 0.4500 - accuracy: 0.84 - ETA: 4:37 - loss: 0.4499 - accuracy: 0.84 - ETA: 4:36 - loss: 0.4498 - accuracy: 0.84 - ETA: 4:36 - loss: 0.4497 - accuracy: 0.84 - ETA: 4:35 - loss: 0.4495 - accuracy: 0.84 - ETA: 4:34 - loss: 0.4494 - accuracy: 0.84 - ETA: 4:34 - loss: 0.4493 - accuracy: 0.84 - ETA: 4:33 - loss: 0.4492 - accuracy: 0.84 - ETA: 4:33 - loss: 0.4491 - accuracy: 0.84 - ETA: 4:32 - loss: 0.4490 - accuracy: 0.84 - ETA: 4:31 - loss: 0.4489 - accuracy: 0.84 - ETA: 4:31 - loss: 0.4488 - accuracy: 0.84 - ETA: 4:30 - loss: 0.4487 - accuracy: 0.84 - ETA: 4:29 - loss: 0.4486 - accuracy: 0.84 - ETA: 4:29 - loss: 0.4485 - accuracy: 0.84 - ETA: 4:28 - loss: 0.4484 - accuracy: 0.84 - ETA: 4:27 - loss: 0.4483 - accuracy: 0.84 - ETA: 4:27 - loss: 0.4482 - accuracy: 0.84 - ETA: 4:26 - loss: 0.4482 - accuracy: 0.84 - ETA: 4:25 - loss: 0.4480 - accuracy: 0.84 - ETA: 4:25 - loss: 0.4479 - accuracy: 0.84 - ETA: 4:24 - loss: 0.4478 - accuracy: 0.84 - ETA: 4:24 - loss: 0.4477 - accuracy: 0.84 - ETA: 4:23 - loss: 0.4477 - accuracy: 0.84 - ETA: 4:22 - loss: 0.4476 - accuracy: 0.84 - ETA: 4:22 - loss: 0.4476 - accuracy: 0.84 - ETA: 4:21 - loss: 0.4475 - accuracy: 0.84 - ETA: 4:20 - loss: 0.4475 - accuracy: 0.84 - ETA: 4:20 - loss: 0.4474 - accuracy: 0.84 - ETA: 4:19 - loss: 0.4472 - accuracy: 0.84 - ETA: 4:18 - loss: 0.4471 - accuracy: 0.84 - ETA: 4:18 - loss: 0.4471 - accuracy: 0.84 - ETA: 4:17 - loss: 0.4470 - accuracy: 0.84 - ETA: 4:16 - loss: 0.4469 - accuracy: 0.84 - ETA: 4:16 - loss: 0.4468 - accuracy: 0.84 - ETA: 4:15 - loss: 0.4467 - accuracy: 0.84 - ETA: 4:14 - loss: 0.4466 - accuracy: 0.84 - ETA: 4:14 - loss: 0.4465 - accuracy: 0.84 - ETA: 4:13 - loss: 0.4465 - accuracy: 0.84 - ETA: 4:13 - loss: 0.4463 - accuracy: 0.84 - ETA: 4:12 - loss: 0.4462 - accuracy: 0.84 - ETA: 4:11 - loss: 0.4462 - accuracy: 0.84 - ETA: 4:11 - loss: 0.4461 - accuracy: 0.84 - ETA: 4:10 - loss: 0.4459 - accuracy: 0.84 - ETA: 4:09 - loss: 0.4458 - accuracy: 0.84 - ETA: 4:09 - loss: 0.4458 - accuracy: 0.84 - ETA: 4:08 - loss: 0.4457 - accuracy: 0.8422127168/140454 [==========================>...] - ETA: 4:07 - loss: 0.4457 - accuracy: 0.84 - ETA: 4:07 - loss: 0.4456 - accuracy: 0.84 - ETA: 4:06 - loss: 0.4455 - accuracy: 0.84 - ETA: 4:05 - loss: 0.4454 - accuracy: 0.84 - ETA: 4:05 - loss: 0.4453 - accuracy: 0.84 - ETA: 4:04 - loss: 0.4452 - accuracy: 0.84 - ETA: 4:04 - loss: 0.4450 - accuracy: 0.84 - ETA: 4:03 - loss: 0.4449 - accuracy: 0.84 - ETA: 4:02 - loss: 0.4448 - accuracy: 0.84 - ETA: 4:02 - loss: 0.4447 - accuracy: 0.84 - ETA: 4:01 - loss: 0.4446 - accuracy: 0.84 - ETA: 4:00 - loss: 0.4444 - accuracy: 0.84 - ETA: 4:00 - loss: 0.4442 - accuracy: 0.84 - ETA: 3:59 - loss: 0.4442 - accuracy: 0.84 - ETA: 3:58 - loss: 0.4441 - accuracy: 0.84 - ETA: 3:58 - loss: 0.4441 - accuracy: 0.84 - ETA: 3:57 - loss: 0.4441 - accuracy: 0.84 - ETA: 3:56 - loss: 0.4440 - accuracy: 0.84 - ETA: 3:56 - loss: 0.4439 - accuracy: 0.84 - ETA: 3:55 - loss: 0.4437 - accuracy: 0.84 - ETA: 3:55 - loss: 0.4436 - accuracy: 0.84 - ETA: 3:54 - loss: 0.4435 - accuracy: 0.84 - ETA: 3:53 - loss: 0.4433 - accuracy: 0.84 - ETA: 3:53 - loss: 0.4432 - accuracy: 0.84 - ETA: 3:52 - loss: 0.4431 - accuracy: 0.84 - ETA: 3:51 - loss: 0.4430 - accuracy: 0.84 - ETA: 3:51 - loss: 0.4429 - accuracy: 0.84 - ETA: 3:50 - loss: 0.4427 - accuracy: 0.84 - ETA: 3:49 - loss: 0.4426 - accuracy: 0.84 - ETA: 3:49 - loss: 0.4424 - accuracy: 0.84 - ETA: 3:48 - loss: 0.4424 - accuracy: 0.84 - ETA: 3:48 - loss: 0.4423 - accuracy: 0.84 - ETA: 3:47 - loss: 0.4421 - accuracy: 0.84 - ETA: 3:46 - loss: 0.4420 - accuracy: 0.84 - ETA: 3:46 - loss: 0.4420 - accuracy: 0.84 - ETA: 3:45 - loss: 0.4419 - accuracy: 0.84 - ETA: 3:44 - loss: 0.4418 - accuracy: 0.84 - ETA: 3:44 - loss: 0.4417 - accuracy: 0.84 - ETA: 3:43 - loss: 0.4416 - accuracy: 0.84 - ETA: 3:42 - loss: 0.4415 - accuracy: 0.84 - ETA: 3:42 - loss: 0.4414 - accuracy: 0.84 - ETA: 3:41 - loss: 0.4413 - accuracy: 0.84 - ETA: 3:40 - loss: 0.4412 - accuracy: 0.84 - ETA: 3:40 - loss: 0.4412 - accuracy: 0.84 - ETA: 3:39 - loss: 0.4410 - accuracy: 0.84 - ETA: 3:39 - loss: 0.4410 - accuracy: 0.84 - ETA: 3:38 - loss: 0.4408 - accuracy: 0.84 - ETA: 3:37 - loss: 0.4407 - accuracy: 0.84 - ETA: 3:37 - loss: 0.4406 - accuracy: 0.84 - ETA: 3:36 - loss: 0.4405 - accuracy: 0.84 - ETA: 3:35 - loss: 0.4404 - accuracy: 0.84 - ETA: 3:35 - loss: 0.4404 - accuracy: 0.84 - ETA: 3:34 - loss: 0.4402 - accuracy: 0.84 - ETA: 3:33 - loss: 0.4400 - accuracy: 0.84 - ETA: 3:33 - loss: 0.4400 - accuracy: 0.84 - ETA: 3:32 - loss: 0.4398 - accuracy: 0.84 - ETA: 3:32 - loss: 0.4398 - accuracy: 0.84 - ETA: 3:31 - loss: 0.4397 - accuracy: 0.84 - ETA: 3:30 - loss: 0.4397 - accuracy: 0.84 - ETA: 3:30 - loss: 0.4396 - accuracy: 0.84 - ETA: 3:29 - loss: 0.4395 - accuracy: 0.84 - ETA: 3:28 - loss: 0.4394 - accuracy: 0.84 - ETA: 3:28 - loss: 0.4394 - accuracy: 0.84 - ETA: 3:27 - loss: 0.4393 - accuracy: 0.84 - ETA: 3:26 - loss: 0.4391 - accuracy: 0.84 - ETA: 3:26 - loss: 0.4391 - accuracy: 0.84 - ETA: 3:25 - loss: 0.4390 - accuracy: 0.84 - ETA: 3:25 - loss: 0.4390 - accuracy: 0.84 - ETA: 3:24 - loss: 0.4388 - accuracy: 0.84 - ETA: 3:23 - loss: 0.4387 - accuracy: 0.84 - ETA: 3:23 - loss: 0.4386 - accuracy: 0.84 - ETA: 3:22 - loss: 0.4386 - accuracy: 0.84 - ETA: 3:21 - loss: 0.4384 - accuracy: 0.84 - ETA: 3:21 - loss: 0.4383 - accuracy: 0.84 - ETA: 3:20 - loss: 0.4382 - accuracy: 0.84 - ETA: 3:19 - loss: 0.4381 - accuracy: 0.84 - ETA: 3:19 - loss: 0.4381 - accuracy: 0.84 - ETA: 3:18 - loss: 0.4380 - accuracy: 0.84 - ETA: 3:18 - loss: 0.4380 - accuracy: 0.84 - ETA: 3:17 - loss: 0.4379 - accuracy: 0.84 - ETA: 3:16 - loss: 0.4380 - accuracy: 0.84 - ETA: 3:16 - loss: 0.4379 - accuracy: 0.84 - ETA: 3:15 - loss: 0.4378 - accuracy: 0.84 - ETA: 3:14 - loss: 0.4377 - accuracy: 0.84 - ETA: 3:14 - loss: 0.4376 - accuracy: 0.84 - ETA: 3:13 - loss: 0.4376 - accuracy: 0.84 - ETA: 3:12 - loss: 0.4375 - accuracy: 0.84 - ETA: 3:12 - loss: 0.4374 - accuracy: 0.84 - ETA: 3:11 - loss: 0.4374 - accuracy: 0.84 - ETA: 3:11 - loss: 0.4374 - accuracy: 0.84 - ETA: 3:10 - loss: 0.4373 - accuracy: 0.84 - ETA: 3:09 - loss: 0.4372 - accuracy: 0.84 - ETA: 3:09 - loss: 0.4370 - accuracy: 0.84 - ETA: 3:08 - loss: 0.4370 - accuracy: 0.84 - ETA: 3:07 - loss: 0.4370 - accuracy: 0.84 - ETA: 3:07 - loss: 0.4369 - accuracy: 0.84 - ETA: 3:06 - loss: 0.4368 - accuracy: 0.84 - ETA: 3:05 - loss: 0.4367 - accuracy: 0.84 - ETA: 3:05 - loss: 0.4366 - accuracy: 0.84 - ETA: 3:04 - loss: 0.4365 - accuracy: 0.84 - ETA: 3:04 - loss: 0.4364 - accuracy: 0.84 - ETA: 3:03 - loss: 0.4363 - accuracy: 0.84 - ETA: 3:02 - loss: 0.4362 - accuracy: 0.84 - ETA: 3:02 - loss: 0.4361 - accuracy: 0.84 - ETA: 3:01 - loss: 0.4360 - accuracy: 0.84 - ETA: 3:00 - loss: 0.4360 - accuracy: 0.84 - ETA: 3:00 - loss: 0.4359 - accuracy: 0.84 - ETA: 2:59 - loss: 0.4359 - accuracy: 0.84 - ETA: 2:58 - loss: 0.4358 - accuracy: 0.84 - ETA: 2:58 - loss: 0.4357 - accuracy: 0.84 - ETA: 2:57 - loss: 0.4356 - accuracy: 0.84 - ETA: 2:57 - loss: 0.4355 - accuracy: 0.84 - ETA: 2:56 - loss: 0.4355 - accuracy: 0.84 - ETA: 2:55 - loss: 0.4354 - accuracy: 0.84 - ETA: 2:55 - loss: 0.4353 - accuracy: 0.84 - ETA: 2:54 - loss: 0.4353 - accuracy: 0.84 - ETA: 2:53 - loss: 0.4352 - accuracy: 0.84 - ETA: 2:53 - loss: 0.4352 - accuracy: 0.84 - ETA: 2:52 - loss: 0.4350 - accuracy: 0.84 - ETA: 2:51 - loss: 0.4350 - accuracy: 0.84 - ETA: 2:51 - loss: 0.4349 - accuracy: 0.84 - ETA: 2:50 - loss: 0.4348 - accuracy: 0.84 - ETA: 2:50 - loss: 0.4348 - accuracy: 0.84 - ETA: 2:49 - loss: 0.4348 - accuracy: 0.84 - ETA: 2:48 - loss: 0.4346 - accuracy: 0.84 - ETA: 2:48 - loss: 0.4345 - accuracy: 0.84 - ETA: 2:47 - loss: 0.4344 - accuracy: 0.84 - ETA: 2:46 - loss: 0.4344 - accuracy: 0.84 - ETA: 2:46 - loss: 0.4343 - accuracy: 0.84 - ETA: 2:45 - loss: 0.4343 - accuracy: 0.84 - ETA: 2:44 - loss: 0.4342 - accuracy: 0.84 - ETA: 2:44 - loss: 0.4342 - accuracy: 0.84 - ETA: 2:43 - loss: 0.4341 - accuracy: 0.84 - ETA: 2:43 - loss: 0.4340 - accuracy: 0.84 - ETA: 2:42 - loss: 0.4339 - accuracy: 0.84 - ETA: 2:41 - loss: 0.4339 - accuracy: 0.84 - ETA: 2:41 - loss: 0.4338 - accuracy: 0.84 - ETA: 2:40 - loss: 0.4337 - accuracy: 0.84 - ETA: 2:39 - loss: 0.4336 - accuracy: 0.84 - ETA: 2:39 - loss: 0.4335 - accuracy: 0.84 - ETA: 2:38 - loss: 0.4335 - accuracy: 0.84 - ETA: 2:38 - loss: 0.4334 - accuracy: 0.84 - ETA: 2:37 - loss: 0.4333 - accuracy: 0.84 - ETA: 2:36 - loss: 0.4332 - accuracy: 0.84 - ETA: 2:36 - loss: 0.4331 - accuracy: 0.84 - ETA: 2:35 - loss: 0.4331 - accuracy: 0.84 - ETA: 2:34 - loss: 0.4330 - accuracy: 0.84 - ETA: 2:34 - loss: 0.4329 - accuracy: 0.84 - ETA: 2:33 - loss: 0.4328 - accuracy: 0.84 - ETA: 2:32 - loss: 0.4327 - accuracy: 0.84 - ETA: 2:32 - loss: 0.4327 - accuracy: 0.84 - ETA: 2:31 - loss: 0.4326 - accuracy: 0.84 - ETA: 2:31 - loss: 0.4325 - accuracy: 0.84 - ETA: 2:30 - loss: 0.4325 - accuracy: 0.84 - ETA: 2:29 - loss: 0.4324 - accuracy: 0.84 - ETA: 2:29 - loss: 0.4323 - accuracy: 0.84 - ETA: 2:28 - loss: 0.4322 - accuracy: 0.84 - ETA: 2:27 - loss: 0.4321 - accuracy: 0.84 - ETA: 2:27 - loss: 0.4320 - accuracy: 0.84 - ETA: 2:26 - loss: 0.4319 - accuracy: 0.84 - ETA: 2:26 - loss: 0.4318 - accuracy: 0.84 - ETA: 2:25 - loss: 0.4318 - accuracy: 0.84 - ETA: 2:24 - loss: 0.4317 - accuracy: 0.84 - ETA: 2:24 - loss: 0.4316 - accuracy: 0.84 - ETA: 2:23 - loss: 0.4315 - accuracy: 0.84 - ETA: 2:22 - loss: 0.4315 - accuracy: 0.84 - ETA: 2:22 - loss: 0.4314 - accuracy: 0.84 - ETA: 2:21 - loss: 0.4313 - accuracy: 0.84 - ETA: 2:20 - loss: 0.4312 - accuracy: 0.84 - ETA: 2:20 - loss: 0.4311 - accuracy: 0.84 - ETA: 2:19 - loss: 0.4311 - accuracy: 0.84 - ETA: 2:19 - loss: 0.4311 - accuracy: 0.84 - ETA: 2:18 - loss: 0.4309 - accuracy: 0.84 - ETA: 2:17 - loss: 0.4308 - accuracy: 0.84 - ETA: 2:17 - loss: 0.4307 - accuracy: 0.84 - ETA: 2:16 - loss: 0.4306 - accuracy: 0.84 - ETA: 2:15 - loss: 0.4306 - accuracy: 0.84 - ETA: 2:15 - loss: 0.4305 - accuracy: 0.84 - ETA: 2:14 - loss: 0.4303 - accuracy: 0.84 - ETA: 2:14 - loss: 0.4303 - accuracy: 0.84 - ETA: 2:13 - loss: 0.4303 - accuracy: 0.84 - ETA: 2:12 - loss: 0.4302 - accuracy: 0.84 - ETA: 2:12 - loss: 0.4302 - accuracy: 0.84 - ETA: 2:11 - loss: 0.4301 - accuracy: 0.84 - ETA: 2:10 - loss: 0.4300 - accuracy: 0.84 - ETA: 2:10 - loss: 0.4299 - accuracy: 0.8483139072/140454 [============================>.] - ETA: 2:09 - loss: 0.4298 - accuracy: 0.84 - ETA: 2:08 - loss: 0.4297 - accuracy: 0.84 - ETA: 2:08 - loss: 0.4296 - accuracy: 0.84 - ETA: 2:07 - loss: 0.4296 - accuracy: 0.84 - ETA: 2:07 - loss: 0.4295 - accuracy: 0.84 - ETA: 2:06 - loss: 0.4295 - accuracy: 0.84 - ETA: 2:05 - loss: 0.4294 - accuracy: 0.84 - ETA: 2:05 - loss: 0.4294 - accuracy: 0.84 - ETA: 2:04 - loss: 0.4293 - accuracy: 0.84 - ETA: 2:03 - loss: 0.4292 - accuracy: 0.84 - ETA: 2:03 - loss: 0.4292 - accuracy: 0.84 - ETA: 2:02 - loss: 0.4291 - accuracy: 0.84 - ETA: 2:02 - loss: 0.4290 - accuracy: 0.84 - ETA: 2:01 - loss: 0.4290 - accuracy: 0.84 - ETA: 2:00 - loss: 0.4290 - accuracy: 0.84 - ETA: 2:00 - loss: 0.4289 - accuracy: 0.84 - ETA: 1:59 - loss: 0.4289 - accuracy: 0.84 - ETA: 1:58 - loss: 0.4289 - accuracy: 0.84 - ETA: 1:58 - loss: 0.4288 - accuracy: 0.84 - ETA: 1:57 - loss: 0.4287 - accuracy: 0.84 - ETA: 1:56 - loss: 0.4287 - accuracy: 0.84 - ETA: 1:56 - loss: 0.4286 - accuracy: 0.84 - ETA: 1:55 - loss: 0.4285 - accuracy: 0.84 - ETA: 1:55 - loss: 0.4285 - accuracy: 0.84 - ETA: 1:54 - loss: 0.4284 - accuracy: 0.84 - ETA: 1:53 - loss: 0.4283 - accuracy: 0.84 - ETA: 1:53 - loss: 0.4282 - accuracy: 0.84 - ETA: 1:52 - loss: 0.4281 - accuracy: 0.84 - ETA: 1:51 - loss: 0.4281 - accuracy: 0.84 - ETA: 1:51 - loss: 0.4280 - accuracy: 0.84 - ETA: 1:50 - loss: 0.4279 - accuracy: 0.84 - ETA: 1:50 - loss: 0.4278 - accuracy: 0.84 - ETA: 1:49 - loss: 0.4277 - accuracy: 0.84 - ETA: 1:48 - loss: 0.4276 - accuracy: 0.84 - ETA: 1:48 - loss: 0.4275 - accuracy: 0.84 - ETA: 1:47 - loss: 0.4275 - accuracy: 0.84 - ETA: 1:46 - loss: 0.4274 - accuracy: 0.84 - ETA: 1:46 - loss: 0.4273 - accuracy: 0.84 - ETA: 1:45 - loss: 0.4272 - accuracy: 0.84 - ETA: 1:44 - loss: 0.4272 - accuracy: 0.84 - ETA: 1:44 - loss: 0.4271 - accuracy: 0.84 - ETA: 1:43 - loss: 0.4271 - accuracy: 0.84 - ETA: 1:43 - loss: 0.4269 - accuracy: 0.84 - ETA: 1:42 - loss: 0.4268 - accuracy: 0.84 - ETA: 1:41 - loss: 0.4267 - accuracy: 0.84 - ETA: 1:41 - loss: 0.4266 - accuracy: 0.84 - ETA: 1:40 - loss: 0.4266 - accuracy: 0.84 - ETA: 1:39 - loss: 0.4265 - accuracy: 0.84 - ETA: 1:39 - loss: 0.4265 - accuracy: 0.84 - ETA: 1:38 - loss: 0.4264 - accuracy: 0.84 - ETA: 1:38 - loss: 0.4264 - accuracy: 0.84 - ETA: 1:37 - loss: 0.4263 - accuracy: 0.84 - ETA: 1:36 - loss: 0.4262 - accuracy: 0.84 - ETA: 1:36 - loss: 0.4261 - accuracy: 0.84 - ETA: 1:35 - loss: 0.4261 - accuracy: 0.84 - ETA: 1:34 - loss: 0.4260 - accuracy: 0.84 - ETA: 1:34 - loss: 0.4259 - accuracy: 0.84 - ETA: 1:33 - loss: 0.4258 - accuracy: 0.84 - ETA: 1:33 - loss: 0.4257 - accuracy: 0.85 - ETA: 1:32 - loss: 0.4257 - accuracy: 0.85 - ETA: 1:31 - loss: 0.4256 - accuracy: 0.85 - ETA: 1:31 - loss: 0.4254 - accuracy: 0.85 - ETA: 1:30 - loss: 0.4254 - accuracy: 0.85 - ETA: 1:29 - loss: 0.4253 - accuracy: 0.85 - ETA: 1:29 - loss: 0.4252 - accuracy: 0.85 - ETA: 1:28 - loss: 0.4252 - accuracy: 0.85 - ETA: 1:27 - loss: 0.4252 - accuracy: 0.85 - ETA: 1:27 - loss: 0.4251 - accuracy: 0.85 - ETA: 1:26 - loss: 0.4251 - accuracy: 0.85 - ETA: 1:26 - loss: 0.4249 - accuracy: 0.85 - ETA: 1:25 - loss: 0.4248 - accuracy: 0.85 - ETA: 1:24 - loss: 0.4248 - accuracy: 0.85 - ETA: 1:24 - loss: 0.4247 - accuracy: 0.85 - ETA: 1:23 - loss: 0.4246 - accuracy: 0.85 - ETA: 1:22 - loss: 0.4245 - accuracy: 0.85 - ETA: 1:22 - loss: 0.4244 - accuracy: 0.85 - ETA: 1:21 - loss: 0.4243 - accuracy: 0.85 - ETA: 1:21 - loss: 0.4242 - accuracy: 0.85 - ETA: 1:20 - loss: 0.4242 - accuracy: 0.85 - ETA: 1:19 - loss: 0.4240 - accuracy: 0.85 - ETA: 1:19 - loss: 0.4239 - accuracy: 0.85 - ETA: 1:18 - loss: 0.4238 - accuracy: 0.85 - ETA: 1:17 - loss: 0.4237 - accuracy: 0.85 - ETA: 1:17 - loss: 0.4236 - accuracy: 0.85 - ETA: 1:16 - loss: 0.4235 - accuracy: 0.85 - ETA: 1:16 - loss: 0.4234 - accuracy: 0.85 - ETA: 1:15 - loss: 0.4234 - accuracy: 0.85 - ETA: 1:14 - loss: 0.4233 - accuracy: 0.85 - ETA: 1:14 - loss: 0.4232 - accuracy: 0.85 - ETA: 1:13 - loss: 0.4231 - accuracy: 0.85 - ETA: 1:12 - loss: 0.4229 - accuracy: 0.85 - ETA: 1:12 - loss: 0.4228 - accuracy: 0.85 - ETA: 1:11 - loss: 0.4227 - accuracy: 0.85 - ETA: 1:11 - loss: 0.4227 - accuracy: 0.85 - ETA: 1:10 - loss: 0.4226 - accuracy: 0.85 - ETA: 1:09 - loss: 0.4225 - accuracy: 0.85 - ETA: 1:09 - loss: 0.4223 - accuracy: 0.85 - ETA: 1:08 - loss: 0.4222 - accuracy: 0.85 - ETA: 1:07 - loss: 0.4221 - accuracy: 0.85 - ETA: 1:07 - loss: 0.4221 - accuracy: 0.85 - ETA: 1:06 - loss: 0.4220 - accuracy: 0.85 - ETA: 1:06 - loss: 0.4220 - accuracy: 0.85 - ETA: 1:05 - loss: 0.4220 - accuracy: 0.85 - ETA: 1:04 - loss: 0.4219 - accuracy: 0.85 - ETA: 1:04 - loss: 0.4217 - accuracy: 0.85 - ETA: 1:03 - loss: 0.4216 - accuracy: 0.85 - ETA: 1:02 - loss: 0.4215 - accuracy: 0.85 - ETA: 1:02 - loss: 0.4214 - accuracy: 0.85 - ETA: 1:01 - loss: 0.4213 - accuracy: 0.85 - ETA: 1:01 - loss: 0.4212 - accuracy: 0.85 - ETA: 1:00 - loss: 0.4211 - accuracy: 0.85 - ETA: 59s - loss: 0.4210 - accuracy: 0.8518 - ETA: 59s - loss: 0.4209 - accuracy: 0.851 - ETA: 58s - loss: 0.4209 - accuracy: 0.851 - ETA: 57s - loss: 0.4208 - accuracy: 0.851 - ETA: 57s - loss: 0.4207 - accuracy: 0.851 - ETA: 56s - loss: 0.4206 - accuracy: 0.851 - ETA: 55s - loss: 0.4205 - accuracy: 0.852 - ETA: 55s - loss: 0.4204 - accuracy: 0.852 - ETA: 54s - loss: 0.4204 - accuracy: 0.852 - ETA: 54s - loss: 0.4203 - accuracy: 0.852 - ETA: 53s - loss: 0.4202 - accuracy: 0.852 - ETA: 52s - loss: 0.4201 - accuracy: 0.852 - ETA: 52s - loss: 0.4201 - accuracy: 0.852 - ETA: 51s - loss: 0.4200 - accuracy: 0.852 - ETA: 50s - loss: 0.4199 - accuracy: 0.852 - ETA: 50s - loss: 0.4198 - accuracy: 0.852 - ETA: 49s - loss: 0.4197 - accuracy: 0.852 - ETA: 49s - loss: 0.4195 - accuracy: 0.852 - ETA: 48s - loss: 0.4195 - accuracy: 0.852 - ETA: 47s - loss: 0.4194 - accuracy: 0.852 - ETA: 47s - loss: 0.4194 - accuracy: 0.852 - ETA: 46s - loss: 0.4193 - accuracy: 0.852 - ETA: 45s - loss: 0.4192 - accuracy: 0.852 - ETA: 45s - loss: 0.4192 - accuracy: 0.852 - ETA: 44s - loss: 0.4191 - accuracy: 0.852 - ETA: 44s - loss: 0.4191 - accuracy: 0.852 - ETA: 43s - loss: 0.4190 - accuracy: 0.852 - ETA: 42s - loss: 0.4189 - accuracy: 0.852 - ETA: 42s - loss: 0.4189 - accuracy: 0.852 - ETA: 41s - loss: 0.4187 - accuracy: 0.852 - ETA: 40s - loss: 0.4187 - accuracy: 0.852 - ETA: 40s - loss: 0.4186 - accuracy: 0.852 - ETA: 39s - loss: 0.4185 - accuracy: 0.852 - ETA: 39s - loss: 0.4184 - accuracy: 0.852 - ETA: 38s - loss: 0.4184 - accuracy: 0.852 - ETA: 37s - loss: 0.4183 - accuracy: 0.852 - ETA: 37s - loss: 0.4183 - accuracy: 0.852 - ETA: 36s - loss: 0.4181 - accuracy: 0.852 - ETA: 35s - loss: 0.4181 - accuracy: 0.852 - ETA: 35s - loss: 0.4180 - accuracy: 0.852 - ETA: 34s - loss: 0.4179 - accuracy: 0.852 - ETA: 34s - loss: 0.4178 - accuracy: 0.853 - ETA: 33s - loss: 0.4177 - accuracy: 0.853 - ETA: 32s - loss: 0.4175 - accuracy: 0.853 - ETA: 32s - loss: 0.4175 - accuracy: 0.853 - ETA: 31s - loss: 0.4175 - accuracy: 0.853 - ETA: 30s - loss: 0.4174 - accuracy: 0.853 - ETA: 30s - loss: 0.4173 - accuracy: 0.853 - ETA: 29s - loss: 0.4173 - accuracy: 0.853 - ETA: 29s - loss: 0.4172 - accuracy: 0.853 - ETA: 28s - loss: 0.4171 - accuracy: 0.853 - ETA: 27s - loss: 0.4170 - accuracy: 0.853 - ETA: 27s - loss: 0.4170 - accuracy: 0.853 - ETA: 26s - loss: 0.4169 - accuracy: 0.853 - ETA: 25s - loss: 0.4168 - accuracy: 0.853 - ETA: 25s - loss: 0.4168 - accuracy: 0.853 - ETA: 24s - loss: 0.4167 - accuracy: 0.853 - ETA: 24s - loss: 0.4167 - accuracy: 0.853 - ETA: 23s - loss: 0.4165 - accuracy: 0.853 - ETA: 22s - loss: 0.4164 - accuracy: 0.853 - ETA: 22s - loss: 0.4163 - accuracy: 0.853 - ETA: 21s - loss: 0.4163 - accuracy: 0.853 - ETA: 20s - loss: 0.4162 - accuracy: 0.853 - ETA: 20s - loss: 0.4161 - accuracy: 0.853 - ETA: 19s - loss: 0.4161 - accuracy: 0.853 - ETA: 19s - loss: 0.4160 - accuracy: 0.853 - ETA: 18s - loss: 0.4159 - accuracy: 0.853 - ETA: 17s - loss: 0.4159 - accuracy: 0.853 - ETA: 17s - loss: 0.4158 - accuracy: 0.853 - ETA: 16s - loss: 0.4157 - accuracy: 0.853 - ETA: 15s - loss: 0.4157 - accuracy: 0.853 - ETA: 15s - loss: 0.4157 - accuracy: 0.853 - ETA: 14s - loss: 0.4157 - accuracy: 0.853 - ETA: 14s - loss: 0.4156 - accuracy: 0.853 - ETA: 13s - loss: 0.4156 - accuracy: 0.8539140454/140454 [==============================] - ETA: 12s - loss: 0.4155 - accuracy: 0.853 - ETA: 12s - loss: 0.4154 - accuracy: 0.854 - ETA: 11s - loss: 0.4154 - accuracy: 0.854 - ETA: 10s - loss: 0.4153 - accuracy: 0.854 - ETA: 10s - loss: 0.4153 - accuracy: 0.854 - ETA: 9s - loss: 0.4153 - accuracy: 0.854 - ETA: 9s - loss: 0.4152 - accuracy: 0.85 - ETA: 8s - loss: 0.4151 - accuracy: 0.85 - ETA: 7s - loss: 0.4149 - accuracy: 0.85 - ETA: 7s - loss: 0.4149 - accuracy: 0.85 - ETA: 6s - loss: 0.4149 - accuracy: 0.85 - ETA: 5s - loss: 0.4148 - accuracy: 0.85 - ETA: 5s - loss: 0.4149 - accuracy: 0.85 - ETA: 4s - loss: 0.4149 - accuracy: 0.85 - ETA: 4s - loss: 0.4149 - accuracy: 0.85 - ETA: 3s - loss: 0.4149 - accuracy: 0.85 - ETA: 2s - loss: 0.4149 - accuracy: 0.85 - ETA: 2s - loss: 0.4149 - accuracy: 0.85 - ETA: 1s - loss: 0.4149 - accuracy: 0.85 - ETA: 0s - loss: 0.4149 - accuracy: 0.85 - ETA: 0s - loss: 0.4149 - accuracy: 0.85 - 1394s 10ms/step - loss: 0.4149 - accuracy: 0.8541 - val_loss: 0.2992 - val_accuracy: 0.9088\n",
      "Epoch 2/5\n"
     ]
    },
    {
     "name": "stdout",
     "output_type": "stream",
     "text": [
      " 11392/140454 [=>............................] - ETA: 21:04 - loss: 0.2809 - accuracy: 0.937 - ETA: 21:45 - loss: 0.3215 - accuracy: 0.921 - ETA: 21:25 - loss: 0.2760 - accuracy: 0.927 - ETA: 21:39 - loss: 0.2752 - accuracy: 0.921 - ETA: 21:20 - loss: 0.2713 - accuracy: 0.918 - ETA: 21:27 - loss: 0.2648 - accuracy: 0.919 - ETA: 21:29 - loss: 0.2768 - accuracy: 0.912 - ETA: 21:47 - loss: 0.2866 - accuracy: 0.910 - ETA: 21:53 - loss: 0.2866 - accuracy: 0.906 - ETA: 21:55 - loss: 0.2853 - accuracy: 0.907 - ETA: 21:58 - loss: 0.2839 - accuracy: 0.904 - ETA: 21:57 - loss: 0.2911 - accuracy: 0.902 - ETA: 22:03 - loss: 0.2912 - accuracy: 0.902 - ETA: 22:03 - loss: 0.2847 - accuracy: 0.904 - ETA: 22:07 - loss: 0.2703 - accuracy: 0.909 - ETA: 22:08 - loss: 0.2675 - accuracy: 0.909 - ETA: 22:10 - loss: 0.2656 - accuracy: 0.911 - ETA: 22:12 - loss: 0.2571 - accuracy: 0.914 - ETA: 22:10 - loss: 0.2548 - accuracy: 0.913 - ETA: 22:08 - loss: 0.2549 - accuracy: 0.914 - ETA: 22:12 - loss: 0.2510 - accuracy: 0.915 - ETA: 22:11 - loss: 0.2501 - accuracy: 0.915 - ETA: 22:11 - loss: 0.2540 - accuracy: 0.914 - ETA: 22:11 - loss: 0.2523 - accuracy: 0.914 - ETA: 22:14 - loss: 0.2546 - accuracy: 0.915 - ETA: 22:15 - loss: 0.2524 - accuracy: 0.915 - ETA: 22:30 - loss: 0.2616 - accuracy: 0.913 - ETA: 22:40 - loss: 0.2679 - accuracy: 0.911 - ETA: 22:53 - loss: 0.2679 - accuracy: 0.911 - ETA: 22:50 - loss: 0.2668 - accuracy: 0.913 - ETA: 22:48 - loss: 0.2629 - accuracy: 0.914 - ETA: 22:44 - loss: 0.2665 - accuracy: 0.913 - ETA: 22:42 - loss: 0.2637 - accuracy: 0.914 - ETA: 22:39 - loss: 0.2661 - accuracy: 0.914 - ETA: 22:35 - loss: 0.2658 - accuracy: 0.913 - ETA: 22:30 - loss: 0.2685 - accuracy: 0.913 - ETA: 22:28 - loss: 0.2677 - accuracy: 0.915 - ETA: 22:26 - loss: 0.2746 - accuracy: 0.913 - ETA: 22:23 - loss: 0.2716 - accuracy: 0.914 - ETA: 22:20 - loss: 0.2673 - accuracy: 0.915 - ETA: 22:20 - loss: 0.2648 - accuracy: 0.916 - ETA: 22:17 - loss: 0.2644 - accuracy: 0.916 - ETA: 22:12 - loss: 0.2670 - accuracy: 0.916 - ETA: 22:10 - loss: 0.2693 - accuracy: 0.916 - ETA: 22:09 - loss: 0.2690 - accuracy: 0.916 - ETA: 22:08 - loss: 0.2649 - accuracy: 0.917 - ETA: 22:06 - loss: 0.2669 - accuracy: 0.917 - ETA: 22:04 - loss: 0.2652 - accuracy: 0.918 - ETA: 22:04 - loss: 0.2675 - accuracy: 0.917 - ETA: 22:01 - loss: 0.2669 - accuracy: 0.917 - ETA: 21:58 - loss: 0.2647 - accuracy: 0.917 - ETA: 21:56 - loss: 0.2637 - accuracy: 0.918 - ETA: 21:54 - loss: 0.2629 - accuracy: 0.918 - ETA: 21:52 - loss: 0.2621 - accuracy: 0.919 - ETA: 21:53 - loss: 0.2602 - accuracy: 0.919 - ETA: 21:52 - loss: 0.2579 - accuracy: 0.920 - ETA: 21:50 - loss: 0.2593 - accuracy: 0.920 - ETA: 21:48 - loss: 0.2576 - accuracy: 0.921 - ETA: 21:45 - loss: 0.2556 - accuracy: 0.922 - ETA: 21:44 - loss: 0.2590 - accuracy: 0.920 - ETA: 21:42 - loss: 0.2597 - accuracy: 0.920 - ETA: 21:40 - loss: 0.2620 - accuracy: 0.920 - ETA: 21:40 - loss: 0.2612 - accuracy: 0.920 - ETA: 21:39 - loss: 0.2598 - accuracy: 0.920 - ETA: 21:38 - loss: 0.2580 - accuracy: 0.921 - ETA: 21:36 - loss: 0.2575 - accuracy: 0.921 - ETA: 21:34 - loss: 0.2568 - accuracy: 0.921 - ETA: 21:32 - loss: 0.2549 - accuracy: 0.922 - ETA: 21:31 - loss: 0.2540 - accuracy: 0.922 - ETA: 21:29 - loss: 0.2523 - accuracy: 0.922 - ETA: 21:29 - loss: 0.2516 - accuracy: 0.922 - ETA: 21:29 - loss: 0.2505 - accuracy: 0.923 - ETA: 21:27 - loss: 0.2509 - accuracy: 0.922 - ETA: 21:25 - loss: 0.2508 - accuracy: 0.922 - ETA: 21:23 - loss: 0.2500 - accuracy: 0.922 - ETA: 21:23 - loss: 0.2501 - accuracy: 0.922 - ETA: 21:22 - loss: 0.2492 - accuracy: 0.922 - ETA: 21:21 - loss: 0.2477 - accuracy: 0.923 - ETA: 21:19 - loss: 0.2500 - accuracy: 0.922 - ETA: 21:19 - loss: 0.2482 - accuracy: 0.922 - ETA: 21:18 - loss: 0.2473 - accuracy: 0.922 - ETA: 21:16 - loss: 0.2461 - accuracy: 0.923 - ETA: 21:15 - loss: 0.2446 - accuracy: 0.923 - ETA: 21:14 - loss: 0.2426 - accuracy: 0.924 - ETA: 21:13 - loss: 0.2414 - accuracy: 0.924 - ETA: 21:12 - loss: 0.2413 - accuracy: 0.924 - ETA: 21:11 - loss: 0.2399 - accuracy: 0.925 - ETA: 21:11 - loss: 0.2406 - accuracy: 0.924 - ETA: 21:09 - loss: 0.2395 - accuracy: 0.925 - ETA: 21:08 - loss: 0.2377 - accuracy: 0.926 - ETA: 21:06 - loss: 0.2362 - accuracy: 0.926 - ETA: 21:06 - loss: 0.2362 - accuracy: 0.927 - ETA: 21:04 - loss: 0.2357 - accuracy: 0.926 - ETA: 21:04 - loss: 0.2342 - accuracy: 0.927 - ETA: 21:03 - loss: 0.2354 - accuracy: 0.927 - ETA: 21:02 - loss: 0.2349 - accuracy: 0.927 - ETA: 21:00 - loss: 0.2366 - accuracy: 0.926 - ETA: 20:59 - loss: 0.2353 - accuracy: 0.927 - ETA: 20:59 - loss: 0.2346 - accuracy: 0.926 - ETA: 20:58 - loss: 0.2342 - accuracy: 0.927 - ETA: 20:57 - loss: 0.2352 - accuracy: 0.927 - ETA: 20:56 - loss: 0.2354 - accuracy: 0.927 - ETA: 20:55 - loss: 0.2350 - accuracy: 0.927 - ETA: 20:54 - loss: 0.2354 - accuracy: 0.926 - ETA: 20:53 - loss: 0.2348 - accuracy: 0.927 - ETA: 20:52 - loss: 0.2348 - accuracy: 0.926 - ETA: 20:51 - loss: 0.2350 - accuracy: 0.927 - ETA: 20:50 - loss: 0.2343 - accuracy: 0.927 - ETA: 20:49 - loss: 0.2334 - accuracy: 0.927 - ETA: 20:49 - loss: 0.2326 - accuracy: 0.927 - ETA: 20:49 - loss: 0.2335 - accuracy: 0.927 - ETA: 20:47 - loss: 0.2326 - accuracy: 0.927 - ETA: 20:47 - loss: 0.2322 - accuracy: 0.927 - ETA: 20:46 - loss: 0.2318 - accuracy: 0.928 - ETA: 20:46 - loss: 0.2311 - accuracy: 0.928 - ETA: 20:46 - loss: 0.2303 - accuracy: 0.928 - ETA: 20:45 - loss: 0.2293 - accuracy: 0.929 - ETA: 20:44 - loss: 0.2283 - accuracy: 0.929 - ETA: 20:43 - loss: 0.2275 - accuracy: 0.929 - ETA: 20:42 - loss: 0.2276 - accuracy: 0.929 - ETA: 20:41 - loss: 0.2273 - accuracy: 0.929 - ETA: 20:42 - loss: 0.2269 - accuracy: 0.929 - ETA: 20:43 - loss: 0.2257 - accuracy: 0.930 - ETA: 20:43 - loss: 0.2251 - accuracy: 0.930 - ETA: 20:44 - loss: 0.2241 - accuracy: 0.930 - ETA: 20:45 - loss: 0.2246 - accuracy: 0.930 - ETA: 20:45 - loss: 0.2234 - accuracy: 0.930 - ETA: 20:45 - loss: 0.2242 - accuracy: 0.930 - ETA: 20:45 - loss: 0.2237 - accuracy: 0.930 - ETA: 20:46 - loss: 0.2247 - accuracy: 0.930 - ETA: 20:48 - loss: 0.2242 - accuracy: 0.930 - ETA: 20:49 - loss: 0.2236 - accuracy: 0.930 - ETA: 20:50 - loss: 0.2235 - accuracy: 0.930 - ETA: 20:50 - loss: 0.2242 - accuracy: 0.930 - ETA: 20:49 - loss: 0.2237 - accuracy: 0.930 - ETA: 20:48 - loss: 0.2240 - accuracy: 0.930 - ETA: 20:47 - loss: 0.2243 - accuracy: 0.930 - ETA: 20:46 - loss: 0.2242 - accuracy: 0.930 - ETA: 20:45 - loss: 0.2257 - accuracy: 0.930 - ETA: 20:45 - loss: 0.2254 - accuracy: 0.929 - ETA: 20:44 - loss: 0.2261 - accuracy: 0.929 - ETA: 20:44 - loss: 0.2261 - accuracy: 0.929 - ETA: 20:42 - loss: 0.2260 - accuracy: 0.929 - ETA: 20:41 - loss: 0.2254 - accuracy: 0.929 - ETA: 20:40 - loss: 0.2260 - accuracy: 0.929 - ETA: 20:39 - loss: 0.2252 - accuracy: 0.929 - ETA: 20:39 - loss: 0.2250 - accuracy: 0.929 - ETA: 20:38 - loss: 0.2250 - accuracy: 0.929 - ETA: 20:37 - loss: 0.2255 - accuracy: 0.929 - ETA: 20:37 - loss: 0.2245 - accuracy: 0.929 - ETA: 20:36 - loss: 0.2255 - accuracy: 0.929 - ETA: 20:35 - loss: 0.2261 - accuracy: 0.929 - ETA: 20:34 - loss: 0.2253 - accuracy: 0.929 - ETA: 20:33 - loss: 0.2251 - accuracy: 0.929 - ETA: 20:33 - loss: 0.2241 - accuracy: 0.930 - ETA: 20:32 - loss: 0.2235 - accuracy: 0.930 - ETA: 20:31 - loss: 0.2232 - accuracy: 0.930 - ETA: 20:30 - loss: 0.2230 - accuracy: 0.930 - ETA: 20:30 - loss: 0.2235 - accuracy: 0.930 - ETA: 20:29 - loss: 0.2229 - accuracy: 0.930 - ETA: 20:28 - loss: 0.2230 - accuracy: 0.930 - ETA: 20:27 - loss: 0.2225 - accuracy: 0.931 - ETA: 20:27 - loss: 0.2216 - accuracy: 0.931 - ETA: 20:26 - loss: 0.2212 - accuracy: 0.931 - ETA: 20:25 - loss: 0.2209 - accuracy: 0.931 - ETA: 20:24 - loss: 0.2202 - accuracy: 0.931 - ETA: 20:23 - loss: 0.2201 - accuracy: 0.932 - ETA: 20:22 - loss: 0.2202 - accuracy: 0.931 - ETA: 20:22 - loss: 0.2214 - accuracy: 0.931 - ETA: 20:21 - loss: 0.2214 - accuracy: 0.931 - ETA: 20:20 - loss: 0.2226 - accuracy: 0.931 - ETA: 20:20 - loss: 0.2226 - accuracy: 0.931 - ETA: 20:19 - loss: 0.2224 - accuracy: 0.931 - ETA: 20:18 - loss: 0.2220 - accuracy: 0.931 - ETA: 20:17 - loss: 0.2218 - accuracy: 0.931 - ETA: 20:16 - loss: 0.2216 - accuracy: 0.931 - ETA: 20:16 - loss: 0.2209 - accuracy: 0.931 - ETA: 20:15 - loss: 0.2209 - accuracy: 0.9315 22784/140454 [===>..........................] - ETA: 20:14 - loss: 0.2217 - accuracy: 0.931 - ETA: 20:14 - loss: 0.2219 - accuracy: 0.931 - ETA: 20:13 - loss: 0.2224 - accuracy: 0.931 - ETA: 20:12 - loss: 0.2221 - accuracy: 0.931 - ETA: 20:11 - loss: 0.2229 - accuracy: 0.931 - ETA: 20:10 - loss: 0.2230 - accuracy: 0.931 - ETA: 20:09 - loss: 0.2233 - accuracy: 0.931 - ETA: 20:09 - loss: 0.2242 - accuracy: 0.930 - ETA: 20:08 - loss: 0.2243 - accuracy: 0.930 - ETA: 20:07 - loss: 0.2239 - accuracy: 0.930 - ETA: 20:06 - loss: 0.2234 - accuracy: 0.931 - ETA: 20:05 - loss: 0.2239 - accuracy: 0.930 - ETA: 20:05 - loss: 0.2243 - accuracy: 0.930 - ETA: 20:04 - loss: 0.2241 - accuracy: 0.930 - ETA: 20:03 - loss: 0.2243 - accuracy: 0.930 - ETA: 20:03 - loss: 0.2244 - accuracy: 0.930 - ETA: 20:02 - loss: 0.2246 - accuracy: 0.930 - ETA: 20:01 - loss: 0.2245 - accuracy: 0.930 - ETA: 20:00 - loss: 0.2246 - accuracy: 0.930 - ETA: 19:59 - loss: 0.2241 - accuracy: 0.930 - ETA: 19:59 - loss: 0.2241 - accuracy: 0.930 - ETA: 19:58 - loss: 0.2243 - accuracy: 0.930 - ETA: 19:57 - loss: 0.2243 - accuracy: 0.930 - ETA: 19:57 - loss: 0.2243 - accuracy: 0.929 - ETA: 19:56 - loss: 0.2244 - accuracy: 0.929 - ETA: 19:55 - loss: 0.2238 - accuracy: 0.929 - ETA: 19:54 - loss: 0.2243 - accuracy: 0.929 - ETA: 19:53 - loss: 0.2244 - accuracy: 0.929 - ETA: 19:53 - loss: 0.2242 - accuracy: 0.929 - ETA: 19:52 - loss: 0.2235 - accuracy: 0.929 - ETA: 19:51 - loss: 0.2232 - accuracy: 0.929 - ETA: 19:50 - loss: 0.2229 - accuracy: 0.930 - ETA: 19:50 - loss: 0.2228 - accuracy: 0.930 - ETA: 19:49 - loss: 0.2231 - accuracy: 0.929 - ETA: 19:48 - loss: 0.2225 - accuracy: 0.930 - ETA: 19:47 - loss: 0.2223 - accuracy: 0.930 - ETA: 19:46 - loss: 0.2217 - accuracy: 0.930 - ETA: 19:45 - loss: 0.2208 - accuracy: 0.930 - ETA: 19:45 - loss: 0.2212 - accuracy: 0.930 - ETA: 19:44 - loss: 0.2208 - accuracy: 0.930 - ETA: 19:44 - loss: 0.2204 - accuracy: 0.930 - ETA: 19:43 - loss: 0.2208 - accuracy: 0.930 - ETA: 19:42 - loss: 0.2204 - accuracy: 0.930 - ETA: 19:42 - loss: 0.2203 - accuracy: 0.930 - ETA: 19:41 - loss: 0.2201 - accuracy: 0.930 - ETA: 19:40 - loss: 0.2195 - accuracy: 0.930 - ETA: 19:40 - loss: 0.2187 - accuracy: 0.931 - ETA: 19:39 - loss: 0.2191 - accuracy: 0.931 - ETA: 19:39 - loss: 0.2193 - accuracy: 0.931 - ETA: 19:38 - loss: 0.2192 - accuracy: 0.931 - ETA: 19:37 - loss: 0.2187 - accuracy: 0.931 - ETA: 19:37 - loss: 0.2181 - accuracy: 0.931 - ETA: 19:36 - loss: 0.2186 - accuracy: 0.931 - ETA: 19:35 - loss: 0.2188 - accuracy: 0.931 - ETA: 19:35 - loss: 0.2184 - accuracy: 0.931 - ETA: 19:36 - loss: 0.2182 - accuracy: 0.931 - ETA: 19:35 - loss: 0.2179 - accuracy: 0.931 - ETA: 19:34 - loss: 0.2183 - accuracy: 0.931 - ETA: 19:33 - loss: 0.2187 - accuracy: 0.931 - ETA: 19:33 - loss: 0.2187 - accuracy: 0.931 - ETA: 19:32 - loss: 0.2182 - accuracy: 0.931 - ETA: 19:31 - loss: 0.2180 - accuracy: 0.931 - ETA: 19:30 - loss: 0.2178 - accuracy: 0.931 - ETA: 19:30 - loss: 0.2177 - accuracy: 0.931 - ETA: 19:29 - loss: 0.2177 - accuracy: 0.931 - ETA: 19:28 - loss: 0.2176 - accuracy: 0.931 - ETA: 19:27 - loss: 0.2178 - accuracy: 0.931 - ETA: 19:26 - loss: 0.2179 - accuracy: 0.931 - ETA: 19:26 - loss: 0.2175 - accuracy: 0.931 - ETA: 19:25 - loss: 0.2173 - accuracy: 0.932 - ETA: 19:24 - loss: 0.2174 - accuracy: 0.931 - ETA: 19:24 - loss: 0.2175 - accuracy: 0.931 - ETA: 19:23 - loss: 0.2175 - accuracy: 0.931 - ETA: 19:22 - loss: 0.2172 - accuracy: 0.931 - ETA: 19:21 - loss: 0.2166 - accuracy: 0.931 - ETA: 19:20 - loss: 0.2164 - accuracy: 0.931 - ETA: 19:20 - loss: 0.2170 - accuracy: 0.931 - ETA: 19:19 - loss: 0.2169 - accuracy: 0.931 - ETA: 19:19 - loss: 0.2177 - accuracy: 0.931 - ETA: 19:18 - loss: 0.2175 - accuracy: 0.931 - ETA: 19:17 - loss: 0.2176 - accuracy: 0.931 - ETA: 19:16 - loss: 0.2177 - accuracy: 0.931 - ETA: 19:15 - loss: 0.2175 - accuracy: 0.931 - ETA: 19:15 - loss: 0.2175 - accuracy: 0.931 - ETA: 19:14 - loss: 0.2173 - accuracy: 0.932 - ETA: 19:13 - loss: 0.2172 - accuracy: 0.931 - ETA: 19:13 - loss: 0.2174 - accuracy: 0.931 - ETA: 19:12 - loss: 0.2177 - accuracy: 0.931 - ETA: 19:11 - loss: 0.2172 - accuracy: 0.931 - ETA: 19:10 - loss: 0.2173 - accuracy: 0.932 - ETA: 19:10 - loss: 0.2174 - accuracy: 0.931 - ETA: 19:09 - loss: 0.2170 - accuracy: 0.932 - ETA: 19:08 - loss: 0.2170 - accuracy: 0.932 - ETA: 19:08 - loss: 0.2165 - accuracy: 0.932 - ETA: 19:07 - loss: 0.2165 - accuracy: 0.932 - ETA: 19:07 - loss: 0.2161 - accuracy: 0.932 - ETA: 19:06 - loss: 0.2158 - accuracy: 0.932 - ETA: 19:05 - loss: 0.2152 - accuracy: 0.932 - ETA: 19:05 - loss: 0.2151 - accuracy: 0.932 - ETA: 19:04 - loss: 0.2160 - accuracy: 0.932 - ETA: 19:04 - loss: 0.2161 - accuracy: 0.932 - ETA: 19:03 - loss: 0.2163 - accuracy: 0.932 - ETA: 19:03 - loss: 0.2160 - accuracy: 0.932 - ETA: 19:03 - loss: 0.2157 - accuracy: 0.932 - ETA: 19:02 - loss: 0.2153 - accuracy: 0.932 - ETA: 19:02 - loss: 0.2154 - accuracy: 0.932 - ETA: 19:02 - loss: 0.2152 - accuracy: 0.932 - ETA: 19:02 - loss: 0.2150 - accuracy: 0.932 - ETA: 19:02 - loss: 0.2148 - accuracy: 0.932 - ETA: 19:02 - loss: 0.2147 - accuracy: 0.932 - ETA: 19:02 - loss: 0.2146 - accuracy: 0.932 - ETA: 19:01 - loss: 0.2144 - accuracy: 0.932 - ETA: 19:01 - loss: 0.2143 - accuracy: 0.932 - ETA: 19:00 - loss: 0.2142 - accuracy: 0.932 - ETA: 18:59 - loss: 0.2142 - accuracy: 0.932 - ETA: 18:58 - loss: 0.2138 - accuracy: 0.932 - ETA: 18:58 - loss: 0.2142 - accuracy: 0.932 - ETA: 18:57 - loss: 0.2142 - accuracy: 0.932 - ETA: 18:57 - loss: 0.2139 - accuracy: 0.932 - ETA: 18:56 - loss: 0.2136 - accuracy: 0.932 - ETA: 18:55 - loss: 0.2136 - accuracy: 0.932 - ETA: 18:54 - loss: 0.2137 - accuracy: 0.932 - ETA: 18:54 - loss: 0.2139 - accuracy: 0.932 - ETA: 18:53 - loss: 0.2136 - accuracy: 0.933 - ETA: 18:52 - loss: 0.2139 - accuracy: 0.932 - ETA: 18:52 - loss: 0.2136 - accuracy: 0.933 - ETA: 18:51 - loss: 0.2135 - accuracy: 0.933 - ETA: 18:50 - loss: 0.2135 - accuracy: 0.933 - ETA: 18:49 - loss: 0.2133 - accuracy: 0.933 - ETA: 18:49 - loss: 0.2128 - accuracy: 0.933 - ETA: 18:48 - loss: 0.2125 - accuracy: 0.933 - ETA: 18:47 - loss: 0.2126 - accuracy: 0.933 - ETA: 18:47 - loss: 0.2130 - accuracy: 0.933 - ETA: 18:46 - loss: 0.2131 - accuracy: 0.933 - ETA: 18:45 - loss: 0.2131 - accuracy: 0.933 - ETA: 18:45 - loss: 0.2134 - accuracy: 0.933 - ETA: 18:44 - loss: 0.2133 - accuracy: 0.933 - ETA: 18:44 - loss: 0.2131 - accuracy: 0.933 - ETA: 18:43 - loss: 0.2131 - accuracy: 0.933 - ETA: 18:42 - loss: 0.2129 - accuracy: 0.933 - ETA: 18:41 - loss: 0.2127 - accuracy: 0.933 - ETA: 18:41 - loss: 0.2124 - accuracy: 0.933 - ETA: 18:41 - loss: 0.2119 - accuracy: 0.933 - ETA: 18:40 - loss: 0.2119 - accuracy: 0.933 - ETA: 18:39 - loss: 0.2121 - accuracy: 0.933 - ETA: 18:39 - loss: 0.2122 - accuracy: 0.933 - ETA: 18:38 - loss: 0.2119 - accuracy: 0.933 - ETA: 18:37 - loss: 0.2114 - accuracy: 0.933 - ETA: 18:37 - loss: 0.2113 - accuracy: 0.933 - ETA: 18:36 - loss: 0.2112 - accuracy: 0.933 - ETA: 18:36 - loss: 0.2111 - accuracy: 0.933 - ETA: 18:35 - loss: 0.2108 - accuracy: 0.933 - ETA: 18:34 - loss: 0.2109 - accuracy: 0.933 - ETA: 18:34 - loss: 0.2110 - accuracy: 0.933 - ETA: 18:33 - loss: 0.2110 - accuracy: 0.933 - ETA: 18:33 - loss: 0.2114 - accuracy: 0.933 - ETA: 18:33 - loss: 0.2113 - accuracy: 0.933 - ETA: 18:33 - loss: 0.2110 - accuracy: 0.933 - ETA: 18:33 - loss: 0.2109 - accuracy: 0.933 - ETA: 18:32 - loss: 0.2104 - accuracy: 0.933 - ETA: 18:31 - loss: 0.2106 - accuracy: 0.933 - ETA: 18:31 - loss: 0.2104 - accuracy: 0.933 - ETA: 18:30 - loss: 0.2106 - accuracy: 0.933 - ETA: 18:29 - loss: 0.2105 - accuracy: 0.933 - ETA: 18:29 - loss: 0.2107 - accuracy: 0.933 - ETA: 18:28 - loss: 0.2105 - accuracy: 0.933 - ETA: 18:28 - loss: 0.2103 - accuracy: 0.933 - ETA: 18:27 - loss: 0.2106 - accuracy: 0.933 - ETA: 18:26 - loss: 0.2106 - accuracy: 0.933 - ETA: 18:26 - loss: 0.2103 - accuracy: 0.933 - ETA: 18:25 - loss: 0.2106 - accuracy: 0.933 - ETA: 18:24 - loss: 0.2106 - accuracy: 0.933 - ETA: 18:24 - loss: 0.2104 - accuracy: 0.933 - ETA: 18:23 - loss: 0.2104 - accuracy: 0.933 - ETA: 18:22 - loss: 0.2106 - accuracy: 0.933 - ETA: 18:22 - loss: 0.2109 - accuracy: 0.933 - ETA: 18:21 - loss: 0.2112 - accuracy: 0.933 - ETA: 18:21 - loss: 0.2113 - accuracy: 0.9331 34176/140454 [======>.......................] - ETA: 18:20 - loss: 0.2113 - accuracy: 0.933 - ETA: 18:20 - loss: 0.2114 - accuracy: 0.933 - ETA: 18:19 - loss: 0.2115 - accuracy: 0.932 - ETA: 18:18 - loss: 0.2112 - accuracy: 0.933 - ETA: 18:17 - loss: 0.2109 - accuracy: 0.933 - ETA: 18:17 - loss: 0.2105 - accuracy: 0.933 - ETA: 18:16 - loss: 0.2105 - accuracy: 0.933 - ETA: 18:15 - loss: 0.2106 - accuracy: 0.933 - ETA: 18:15 - loss: 0.2106 - accuracy: 0.933 - ETA: 18:14 - loss: 0.2107 - accuracy: 0.933 - ETA: 18:14 - loss: 0.2105 - accuracy: 0.933 - ETA: 18:13 - loss: 0.2102 - accuracy: 0.933 - ETA: 18:12 - loss: 0.2100 - accuracy: 0.933 - ETA: 18:11 - loss: 0.2098 - accuracy: 0.933 - ETA: 18:11 - loss: 0.2097 - accuracy: 0.933 - ETA: 18:10 - loss: 0.2095 - accuracy: 0.933 - ETA: 18:09 - loss: 0.2092 - accuracy: 0.933 - ETA: 18:09 - loss: 0.2091 - accuracy: 0.933 - ETA: 18:08 - loss: 0.2091 - accuracy: 0.933 - ETA: 18:07 - loss: 0.2091 - accuracy: 0.933 - ETA: 18:06 - loss: 0.2090 - accuracy: 0.933 - ETA: 18:06 - loss: 0.2090 - accuracy: 0.933 - ETA: 18:05 - loss: 0.2094 - accuracy: 0.933 - ETA: 18:05 - loss: 0.2095 - accuracy: 0.933 - ETA: 18:04 - loss: 0.2095 - accuracy: 0.933 - ETA: 18:03 - loss: 0.2096 - accuracy: 0.933 - ETA: 18:02 - loss: 0.2092 - accuracy: 0.933 - ETA: 18:02 - loss: 0.2089 - accuracy: 0.933 - ETA: 18:01 - loss: 0.2087 - accuracy: 0.933 - ETA: 18:00 - loss: 0.2097 - accuracy: 0.933 - ETA: 18:00 - loss: 0.2098 - accuracy: 0.933 - ETA: 17:59 - loss: 0.2096 - accuracy: 0.933 - ETA: 17:58 - loss: 0.2097 - accuracy: 0.933 - ETA: 17:58 - loss: 0.2094 - accuracy: 0.933 - ETA: 17:57 - loss: 0.2094 - accuracy: 0.933 - ETA: 17:56 - loss: 0.2091 - accuracy: 0.933 - ETA: 17:56 - loss: 0.2095 - accuracy: 0.933 - ETA: 17:55 - loss: 0.2093 - accuracy: 0.933 - ETA: 17:54 - loss: 0.2093 - accuracy: 0.933 - ETA: 17:54 - loss: 0.2094 - accuracy: 0.933 - ETA: 17:53 - loss: 0.2093 - accuracy: 0.933 - ETA: 17:52 - loss: 0.2097 - accuracy: 0.933 - ETA: 17:51 - loss: 0.2098 - accuracy: 0.933 - ETA: 17:51 - loss: 0.2096 - accuracy: 0.933 - ETA: 17:50 - loss: 0.2096 - accuracy: 0.933 - ETA: 17:50 - loss: 0.2094 - accuracy: 0.933 - ETA: 17:49 - loss: 0.2092 - accuracy: 0.933 - ETA: 17:48 - loss: 0.2094 - accuracy: 0.933 - ETA: 17:48 - loss: 0.2094 - accuracy: 0.933 - ETA: 17:47 - loss: 0.2095 - accuracy: 0.933 - ETA: 17:46 - loss: 0.2096 - accuracy: 0.933 - ETA: 17:45 - loss: 0.2098 - accuracy: 0.933 - ETA: 17:45 - loss: 0.2094 - accuracy: 0.933 - ETA: 17:44 - loss: 0.2094 - accuracy: 0.933 - ETA: 17:44 - loss: 0.2092 - accuracy: 0.933 - ETA: 17:43 - loss: 0.2090 - accuracy: 0.933 - ETA: 17:42 - loss: 0.2087 - accuracy: 0.933 - ETA: 17:42 - loss: 0.2087 - accuracy: 0.933 - ETA: 17:41 - loss: 0.2089 - accuracy: 0.933 - ETA: 17:40 - loss: 0.2089 - accuracy: 0.933 - ETA: 17:39 - loss: 0.2090 - accuracy: 0.933 - ETA: 17:39 - loss: 0.2090 - accuracy: 0.933 - ETA: 17:38 - loss: 0.2088 - accuracy: 0.933 - ETA: 17:38 - loss: 0.2087 - accuracy: 0.933 - ETA: 17:37 - loss: 0.2084 - accuracy: 0.934 - ETA: 17:36 - loss: 0.2084 - accuracy: 0.934 - ETA: 17:36 - loss: 0.2083 - accuracy: 0.934 - ETA: 17:35 - loss: 0.2082 - accuracy: 0.934 - ETA: 17:34 - loss: 0.2080 - accuracy: 0.934 - ETA: 17:34 - loss: 0.2080 - accuracy: 0.934 - ETA: 17:33 - loss: 0.2078 - accuracy: 0.934 - ETA: 17:33 - loss: 0.2078 - accuracy: 0.934 - ETA: 17:32 - loss: 0.2077 - accuracy: 0.934 - ETA: 17:31 - loss: 0.2077 - accuracy: 0.934 - ETA: 17:31 - loss: 0.2076 - accuracy: 0.934 - ETA: 17:30 - loss: 0.2075 - accuracy: 0.934 - ETA: 17:29 - loss: 0.2074 - accuracy: 0.934 - ETA: 17:29 - loss: 0.2075 - accuracy: 0.934 - ETA: 17:28 - loss: 0.2074 - accuracy: 0.934 - ETA: 17:27 - loss: 0.2073 - accuracy: 0.934 - ETA: 17:27 - loss: 0.2073 - accuracy: 0.934 - ETA: 17:26 - loss: 0.2072 - accuracy: 0.934 - ETA: 17:25 - loss: 0.2069 - accuracy: 0.934 - ETA: 17:25 - loss: 0.2068 - accuracy: 0.934 - ETA: 17:25 - loss: 0.2068 - accuracy: 0.934 - ETA: 17:24 - loss: 0.2067 - accuracy: 0.934 - ETA: 17:24 - loss: 0.2066 - accuracy: 0.934 - ETA: 17:23 - loss: 0.2065 - accuracy: 0.934 - ETA: 17:22 - loss: 0.2069 - accuracy: 0.934 - ETA: 17:22 - loss: 0.2068 - accuracy: 0.934 - ETA: 17:21 - loss: 0.2067 - accuracy: 0.934 - ETA: 17:20 - loss: 0.2066 - accuracy: 0.934 - ETA: 17:20 - loss: 0.2066 - accuracy: 0.934 - ETA: 17:19 - loss: 0.2066 - accuracy: 0.934 - ETA: 17:19 - loss: 0.2068 - accuracy: 0.934 - ETA: 17:18 - loss: 0.2071 - accuracy: 0.934 - ETA: 17:17 - loss: 0.2070 - accuracy: 0.934 - ETA: 17:17 - loss: 0.2070 - accuracy: 0.934 - ETA: 17:16 - loss: 0.2072 - accuracy: 0.934 - ETA: 17:15 - loss: 0.2070 - accuracy: 0.934 - ETA: 17:15 - loss: 0.2070 - accuracy: 0.934 - ETA: 17:14 - loss: 0.2072 - accuracy: 0.934 - ETA: 17:14 - loss: 0.2070 - accuracy: 0.934 - ETA: 17:13 - loss: 0.2069 - accuracy: 0.934 - ETA: 17:12 - loss: 0.2067 - accuracy: 0.934 - ETA: 17:12 - loss: 0.2064 - accuracy: 0.934 - ETA: 17:11 - loss: 0.2064 - accuracy: 0.934 - ETA: 17:10 - loss: 0.2063 - accuracy: 0.934 - ETA: 17:10 - loss: 0.2062 - accuracy: 0.934 - ETA: 17:09 - loss: 0.2059 - accuracy: 0.934 - ETA: 17:09 - loss: 0.2057 - accuracy: 0.935 - ETA: 17:08 - loss: 0.2058 - accuracy: 0.934 - ETA: 17:07 - loss: 0.2058 - accuracy: 0.934 - ETA: 17:07 - loss: 0.2061 - accuracy: 0.934 - ETA: 17:06 - loss: 0.2059 - accuracy: 0.934 - ETA: 17:06 - loss: 0.2058 - accuracy: 0.934 - ETA: 17:05 - loss: 0.2059 - accuracy: 0.934 - ETA: 17:04 - loss: 0.2058 - accuracy: 0.934 - ETA: 17:04 - loss: 0.2057 - accuracy: 0.934 - ETA: 17:03 - loss: 0.2056 - accuracy: 0.934 - ETA: 17:02 - loss: 0.2055 - accuracy: 0.935 - ETA: 17:02 - loss: 0.2052 - accuracy: 0.935 - ETA: 17:01 - loss: 0.2052 - accuracy: 0.935 - ETA: 17:01 - loss: 0.2052 - accuracy: 0.935 - ETA: 17:00 - loss: 0.2051 - accuracy: 0.935 - ETA: 16:59 - loss: 0.2052 - accuracy: 0.935 - ETA: 16:59 - loss: 0.2052 - accuracy: 0.935 - ETA: 16:58 - loss: 0.2055 - accuracy: 0.935 - ETA: 16:57 - loss: 0.2056 - accuracy: 0.935 - ETA: 16:57 - loss: 0.2057 - accuracy: 0.935 - ETA: 16:56 - loss: 0.2056 - accuracy: 0.935 - ETA: 16:56 - loss: 0.2054 - accuracy: 0.935 - ETA: 16:55 - loss: 0.2055 - accuracy: 0.935 - ETA: 16:55 - loss: 0.2055 - accuracy: 0.935 - ETA: 16:54 - loss: 0.2052 - accuracy: 0.935 - ETA: 16:53 - loss: 0.2052 - accuracy: 0.935 - ETA: 16:53 - loss: 0.2052 - accuracy: 0.935 - ETA: 16:52 - loss: 0.2055 - accuracy: 0.935 - ETA: 16:51 - loss: 0.2055 - accuracy: 0.935 - ETA: 16:51 - loss: 0.2053 - accuracy: 0.935 - ETA: 16:50 - loss: 0.2053 - accuracy: 0.935 - ETA: 16:50 - loss: 0.2053 - accuracy: 0.935 - ETA: 16:49 - loss: 0.2052 - accuracy: 0.935 - ETA: 16:48 - loss: 0.2055 - accuracy: 0.935 - ETA: 16:48 - loss: 0.2056 - accuracy: 0.935 - ETA: 16:47 - loss: 0.2057 - accuracy: 0.934 - ETA: 16:47 - loss: 0.2062 - accuracy: 0.934 - ETA: 16:46 - loss: 0.2062 - accuracy: 0.934 - ETA: 16:45 - loss: 0.2061 - accuracy: 0.934 - ETA: 16:45 - loss: 0.2063 - accuracy: 0.934 - ETA: 16:44 - loss: 0.2063 - accuracy: 0.934 - ETA: 16:43 - loss: 0.2065 - accuracy: 0.934 - ETA: 16:43 - loss: 0.2064 - accuracy: 0.934 - ETA: 16:42 - loss: 0.2065 - accuracy: 0.934 - ETA: 16:41 - loss: 0.2066 - accuracy: 0.934 - ETA: 16:41 - loss: 0.2064 - accuracy: 0.934 - ETA: 16:40 - loss: 0.2064 - accuracy: 0.934 - ETA: 16:40 - loss: 0.2062 - accuracy: 0.934 - ETA: 16:39 - loss: 0.2060 - accuracy: 0.935 - ETA: 16:38 - loss: 0.2062 - accuracy: 0.934 - ETA: 16:38 - loss: 0.2065 - accuracy: 0.934 - ETA: 16:37 - loss: 0.2063 - accuracy: 0.934 - ETA: 16:36 - loss: 0.2064 - accuracy: 0.934 - ETA: 16:36 - loss: 0.2064 - accuracy: 0.934 - ETA: 16:35 - loss: 0.2063 - accuracy: 0.934 - ETA: 16:34 - loss: 0.2064 - accuracy: 0.934 - ETA: 16:34 - loss: 0.2065 - accuracy: 0.934 - ETA: 16:33 - loss: 0.2066 - accuracy: 0.934 - ETA: 16:33 - loss: 0.2064 - accuracy: 0.934 - ETA: 16:32 - loss: 0.2063 - accuracy: 0.934 - ETA: 16:32 - loss: 0.2065 - accuracy: 0.934 - ETA: 16:31 - loss: 0.2063 - accuracy: 0.935 - ETA: 16:30 - loss: 0.2062 - accuracy: 0.935 - ETA: 16:30 - loss: 0.2059 - accuracy: 0.935 - ETA: 16:29 - loss: 0.2058 - accuracy: 0.935 - ETA: 16:28 - loss: 0.2062 - accuracy: 0.935 - ETA: 16:28 - loss: 0.2064 - accuracy: 0.934 - ETA: 16:27 - loss: 0.2064 - accuracy: 0.9349 45568/140454 [========>.....................] - ETA: 16:26 - loss: 0.2064 - accuracy: 0.934 - ETA: 16:26 - loss: 0.2066 - accuracy: 0.934 - ETA: 16:25 - loss: 0.2063 - accuracy: 0.935 - ETA: 16:25 - loss: 0.2065 - accuracy: 0.934 - ETA: 16:24 - loss: 0.2064 - accuracy: 0.934 - ETA: 16:24 - loss: 0.2067 - accuracy: 0.934 - ETA: 16:23 - loss: 0.2065 - accuracy: 0.934 - ETA: 16:23 - loss: 0.2064 - accuracy: 0.935 - ETA: 16:22 - loss: 0.2064 - accuracy: 0.934 - ETA: 16:22 - loss: 0.2064 - accuracy: 0.934 - ETA: 16:21 - loss: 0.2064 - accuracy: 0.934 - ETA: 16:20 - loss: 0.2063 - accuracy: 0.935 - ETA: 16:20 - loss: 0.2062 - accuracy: 0.935 - ETA: 16:19 - loss: 0.2059 - accuracy: 0.935 - ETA: 16:19 - loss: 0.2057 - accuracy: 0.935 - ETA: 16:18 - loss: 0.2057 - accuracy: 0.935 - ETA: 16:18 - loss: 0.2058 - accuracy: 0.935 - ETA: 16:17 - loss: 0.2062 - accuracy: 0.935 - ETA: 16:16 - loss: 0.2063 - accuracy: 0.935 - ETA: 16:16 - loss: 0.2063 - accuracy: 0.935 - ETA: 16:15 - loss: 0.2063 - accuracy: 0.935 - ETA: 16:14 - loss: 0.2061 - accuracy: 0.935 - ETA: 16:14 - loss: 0.2059 - accuracy: 0.935 - ETA: 16:13 - loss: 0.2058 - accuracy: 0.935 - ETA: 16:13 - loss: 0.2057 - accuracy: 0.935 - ETA: 16:12 - loss: 0.2059 - accuracy: 0.935 - ETA: 16:11 - loss: 0.2059 - accuracy: 0.935 - ETA: 16:11 - loss: 0.2057 - accuracy: 0.935 - ETA: 16:10 - loss: 0.2056 - accuracy: 0.935 - ETA: 16:09 - loss: 0.2054 - accuracy: 0.935 - ETA: 16:09 - loss: 0.2052 - accuracy: 0.935 - ETA: 16:08 - loss: 0.2052 - accuracy: 0.935 - ETA: 16:08 - loss: 0.2053 - accuracy: 0.935 - ETA: 16:07 - loss: 0.2052 - accuracy: 0.935 - ETA: 16:06 - loss: 0.2050 - accuracy: 0.935 - ETA: 16:06 - loss: 0.2052 - accuracy: 0.935 - ETA: 16:05 - loss: 0.2052 - accuracy: 0.935 - ETA: 16:04 - loss: 0.2052 - accuracy: 0.935 - ETA: 16:04 - loss: 0.2052 - accuracy: 0.935 - ETA: 16:03 - loss: 0.2053 - accuracy: 0.935 - ETA: 16:03 - loss: 0.2052 - accuracy: 0.935 - ETA: 16:02 - loss: 0.2054 - accuracy: 0.935 - ETA: 16:01 - loss: 0.2052 - accuracy: 0.935 - ETA: 16:01 - loss: 0.2050 - accuracy: 0.935 - ETA: 16:00 - loss: 0.2048 - accuracy: 0.935 - ETA: 15:59 - loss: 0.2048 - accuracy: 0.935 - ETA: 15:59 - loss: 0.2047 - accuracy: 0.935 - ETA: 15:58 - loss: 0.2045 - accuracy: 0.935 - ETA: 15:58 - loss: 0.2047 - accuracy: 0.935 - ETA: 15:57 - loss: 0.2046 - accuracy: 0.935 - ETA: 15:56 - loss: 0.2046 - accuracy: 0.935 - ETA: 15:56 - loss: 0.2047 - accuracy: 0.935 - ETA: 15:55 - loss: 0.2045 - accuracy: 0.935 - ETA: 15:54 - loss: 0.2047 - accuracy: 0.935 - ETA: 15:54 - loss: 0.2046 - accuracy: 0.935 - ETA: 15:53 - loss: 0.2047 - accuracy: 0.935 - ETA: 15:52 - loss: 0.2049 - accuracy: 0.935 - ETA: 15:52 - loss: 0.2048 - accuracy: 0.935 - ETA: 15:51 - loss: 0.2046 - accuracy: 0.935 - ETA: 15:51 - loss: 0.2046 - accuracy: 0.935 - ETA: 15:50 - loss: 0.2048 - accuracy: 0.935 - ETA: 15:49 - loss: 0.2049 - accuracy: 0.935 - ETA: 15:49 - loss: 0.2048 - accuracy: 0.935 - ETA: 15:48 - loss: 0.2047 - accuracy: 0.935 - ETA: 15:48 - loss: 0.2046 - accuracy: 0.935 - ETA: 15:47 - loss: 0.2046 - accuracy: 0.935 - ETA: 15:46 - loss: 0.2050 - accuracy: 0.935 - ETA: 15:46 - loss: 0.2050 - accuracy: 0.935 - ETA: 15:45 - loss: 0.2050 - accuracy: 0.935 - ETA: 15:44 - loss: 0.2048 - accuracy: 0.935 - ETA: 15:44 - loss: 0.2045 - accuracy: 0.935 - ETA: 15:43 - loss: 0.2045 - accuracy: 0.935 - ETA: 15:43 - loss: 0.2043 - accuracy: 0.935 - ETA: 15:42 - loss: 0.2041 - accuracy: 0.935 - ETA: 15:41 - loss: 0.2040 - accuracy: 0.935 - ETA: 15:41 - loss: 0.2038 - accuracy: 0.935 - ETA: 15:40 - loss: 0.2040 - accuracy: 0.935 - ETA: 15:39 - loss: 0.2041 - accuracy: 0.935 - ETA: 15:39 - loss: 0.2043 - accuracy: 0.935 - ETA: 15:38 - loss: 0.2042 - accuracy: 0.935 - ETA: 15:38 - loss: 0.2041 - accuracy: 0.935 - ETA: 15:37 - loss: 0.2043 - accuracy: 0.935 - ETA: 15:36 - loss: 0.2043 - accuracy: 0.935 - ETA: 15:36 - loss: 0.2042 - accuracy: 0.935 - ETA: 15:35 - loss: 0.2042 - accuracy: 0.935 - ETA: 15:34 - loss: 0.2040 - accuracy: 0.935 - ETA: 15:34 - loss: 0.2041 - accuracy: 0.935 - ETA: 15:33 - loss: 0.2040 - accuracy: 0.935 - ETA: 15:33 - loss: 0.2041 - accuracy: 0.935 - ETA: 15:32 - loss: 0.2040 - accuracy: 0.935 - ETA: 15:31 - loss: 0.2041 - accuracy: 0.935 - ETA: 15:31 - loss: 0.2041 - accuracy: 0.935 - ETA: 15:30 - loss: 0.2039 - accuracy: 0.935 - ETA: 15:29 - loss: 0.2040 - accuracy: 0.935 - ETA: 15:29 - loss: 0.2041 - accuracy: 0.935 - ETA: 15:28 - loss: 0.2040 - accuracy: 0.935 - ETA: 15:28 - loss: 0.2041 - accuracy: 0.935 - ETA: 15:27 - loss: 0.2042 - accuracy: 0.935 - ETA: 15:26 - loss: 0.2042 - accuracy: 0.935 - ETA: 15:26 - loss: 0.2041 - accuracy: 0.935 - ETA: 15:25 - loss: 0.2040 - accuracy: 0.935 - ETA: 15:25 - loss: 0.2042 - accuracy: 0.935 - ETA: 15:24 - loss: 0.2041 - accuracy: 0.935 - ETA: 15:23 - loss: 0.2040 - accuracy: 0.935 - ETA: 15:23 - loss: 0.2040 - accuracy: 0.935 - ETA: 15:22 - loss: 0.2040 - accuracy: 0.935 - ETA: 15:22 - loss: 0.2041 - accuracy: 0.935 - ETA: 15:21 - loss: 0.2041 - accuracy: 0.935 - ETA: 15:20 - loss: 0.2042 - accuracy: 0.935 - ETA: 15:20 - loss: 0.2044 - accuracy: 0.935 - ETA: 15:19 - loss: 0.2043 - accuracy: 0.935 - ETA: 15:18 - loss: 0.2043 - accuracy: 0.935 - ETA: 15:18 - loss: 0.2043 - accuracy: 0.935 - ETA: 15:18 - loss: 0.2043 - accuracy: 0.935 - ETA: 15:17 - loss: 0.2045 - accuracy: 0.935 - ETA: 15:17 - loss: 0.2045 - accuracy: 0.935 - ETA: 15:16 - loss: 0.2044 - accuracy: 0.935 - ETA: 15:15 - loss: 0.2043 - accuracy: 0.935 - ETA: 15:15 - loss: 0.2043 - accuracy: 0.935 - ETA: 15:14 - loss: 0.2043 - accuracy: 0.935 - ETA: 15:13 - loss: 0.2044 - accuracy: 0.935 - ETA: 15:13 - loss: 0.2047 - accuracy: 0.935 - ETA: 15:12 - loss: 0.2045 - accuracy: 0.935 - ETA: 15:12 - loss: 0.2044 - accuracy: 0.935 - ETA: 15:11 - loss: 0.2044 - accuracy: 0.935 - ETA: 15:10 - loss: 0.2043 - accuracy: 0.935 - ETA: 15:10 - loss: 0.2042 - accuracy: 0.935 - ETA: 15:09 - loss: 0.2040 - accuracy: 0.935 - ETA: 15:08 - loss: 0.2039 - accuracy: 0.935 - ETA: 15:08 - loss: 0.2039 - accuracy: 0.935 - ETA: 15:07 - loss: 0.2039 - accuracy: 0.935 - ETA: 15:07 - loss: 0.2040 - accuracy: 0.935 - ETA: 15:06 - loss: 0.2040 - accuracy: 0.935 - ETA: 15:05 - loss: 0.2041 - accuracy: 0.935 - ETA: 15:05 - loss: 0.2039 - accuracy: 0.935 - ETA: 15:04 - loss: 0.2039 - accuracy: 0.935 - ETA: 15:04 - loss: 0.2037 - accuracy: 0.935 - ETA: 15:03 - loss: 0.2038 - accuracy: 0.935 - ETA: 15:03 - loss: 0.2037 - accuracy: 0.935 - ETA: 15:02 - loss: 0.2036 - accuracy: 0.935 - ETA: 15:01 - loss: 0.2037 - accuracy: 0.935 - ETA: 15:01 - loss: 0.2037 - accuracy: 0.935 - ETA: 15:00 - loss: 0.2036 - accuracy: 0.935 - ETA: 14:59 - loss: 0.2036 - accuracy: 0.935 - ETA: 14:59 - loss: 0.2035 - accuracy: 0.935 - ETA: 14:58 - loss: 0.2034 - accuracy: 0.935 - ETA: 14:58 - loss: 0.2035 - accuracy: 0.935 - ETA: 14:57 - loss: 0.2036 - accuracy: 0.935 - ETA: 14:57 - loss: 0.2035 - accuracy: 0.935 - ETA: 14:56 - loss: 0.2037 - accuracy: 0.935 - ETA: 14:55 - loss: 0.2036 - accuracy: 0.935 - ETA: 14:55 - loss: 0.2035 - accuracy: 0.935 - ETA: 14:54 - loss: 0.2035 - accuracy: 0.935 - ETA: 14:53 - loss: 0.2034 - accuracy: 0.935 - ETA: 14:53 - loss: 0.2034 - accuracy: 0.935 - ETA: 14:52 - loss: 0.2032 - accuracy: 0.935 - ETA: 14:52 - loss: 0.2034 - accuracy: 0.935 - ETA: 14:51 - loss: 0.2033 - accuracy: 0.935 - ETA: 14:50 - loss: 0.2033 - accuracy: 0.935 - ETA: 14:50 - loss: 0.2035 - accuracy: 0.935 - ETA: 14:49 - loss: 0.2034 - accuracy: 0.935 - ETA: 14:48 - loss: 0.2032 - accuracy: 0.935 - ETA: 14:48 - loss: 0.2033 - accuracy: 0.935 - ETA: 14:47 - loss: 0.2033 - accuracy: 0.935 - ETA: 14:47 - loss: 0.2031 - accuracy: 0.935 - ETA: 14:46 - loss: 0.2029 - accuracy: 0.935 - ETA: 14:46 - loss: 0.2031 - accuracy: 0.935 - ETA: 14:45 - loss: 0.2031 - accuracy: 0.935 - ETA: 14:44 - loss: 0.2030 - accuracy: 0.935 - ETA: 14:44 - loss: 0.2029 - accuracy: 0.935 - ETA: 14:43 - loss: 0.2028 - accuracy: 0.935 - ETA: 14:43 - loss: 0.2026 - accuracy: 0.935 - ETA: 14:42 - loss: 0.2026 - accuracy: 0.935 - ETA: 14:41 - loss: 0.2025 - accuracy: 0.935 - ETA: 14:41 - loss: 0.2026 - accuracy: 0.935 - ETA: 14:40 - loss: 0.2026 - accuracy: 0.935 - ETA: 14:39 - loss: 0.2026 - accuracy: 0.935 - ETA: 14:39 - loss: 0.2028 - accuracy: 0.9358 56960/140454 [===========>..................] - ETA: 14:38 - loss: 0.2026 - accuracy: 0.935 - ETA: 14:38 - loss: 0.2028 - accuracy: 0.935 - ETA: 14:37 - loss: 0.2028 - accuracy: 0.935 - ETA: 14:36 - loss: 0.2028 - accuracy: 0.935 - ETA: 14:36 - loss: 0.2027 - accuracy: 0.935 - ETA: 14:35 - loss: 0.2026 - accuracy: 0.935 - ETA: 14:35 - loss: 0.2024 - accuracy: 0.935 - ETA: 14:34 - loss: 0.2022 - accuracy: 0.936 - ETA: 14:33 - loss: 0.2021 - accuracy: 0.936 - ETA: 14:33 - loss: 0.2019 - accuracy: 0.936 - ETA: 14:32 - loss: 0.2019 - accuracy: 0.936 - ETA: 14:32 - loss: 0.2019 - accuracy: 0.936 - ETA: 14:31 - loss: 0.2020 - accuracy: 0.936 - ETA: 14:30 - loss: 0.2020 - accuracy: 0.936 - ETA: 14:30 - loss: 0.2020 - accuracy: 0.936 - ETA: 14:29 - loss: 0.2019 - accuracy: 0.936 - ETA: 14:29 - loss: 0.2020 - accuracy: 0.936 - ETA: 14:28 - loss: 0.2019 - accuracy: 0.936 - ETA: 14:27 - loss: 0.2021 - accuracy: 0.936 - ETA: 14:27 - loss: 0.2020 - accuracy: 0.936 - ETA: 14:26 - loss: 0.2022 - accuracy: 0.936 - ETA: 14:26 - loss: 0.2021 - accuracy: 0.936 - ETA: 14:25 - loss: 0.2021 - accuracy: 0.936 - ETA: 14:24 - loss: 0.2021 - accuracy: 0.936 - ETA: 14:24 - loss: 0.2021 - accuracy: 0.936 - ETA: 14:23 - loss: 0.2022 - accuracy: 0.936 - ETA: 14:23 - loss: 0.2024 - accuracy: 0.935 - ETA: 14:22 - loss: 0.2024 - accuracy: 0.935 - ETA: 14:21 - loss: 0.2023 - accuracy: 0.936 - ETA: 14:21 - loss: 0.2024 - accuracy: 0.935 - ETA: 14:20 - loss: 0.2022 - accuracy: 0.936 - ETA: 14:20 - loss: 0.2022 - accuracy: 0.936 - ETA: 14:19 - loss: 0.2020 - accuracy: 0.936 - ETA: 14:19 - loss: 0.2020 - accuracy: 0.936 - ETA: 14:18 - loss: 0.2020 - accuracy: 0.936 - ETA: 14:17 - loss: 0.2020 - accuracy: 0.936 - ETA: 14:17 - loss: 0.2022 - accuracy: 0.936 - ETA: 14:16 - loss: 0.2022 - accuracy: 0.936 - ETA: 14:16 - loss: 0.2022 - accuracy: 0.935 - ETA: 14:15 - loss: 0.2021 - accuracy: 0.935 - ETA: 14:15 - loss: 0.2023 - accuracy: 0.935 - ETA: 14:14 - loss: 0.2021 - accuracy: 0.936 - ETA: 14:13 - loss: 0.2021 - accuracy: 0.936 - ETA: 14:13 - loss: 0.2021 - accuracy: 0.935 - ETA: 14:12 - loss: 0.2021 - accuracy: 0.936 - ETA: 14:12 - loss: 0.2021 - accuracy: 0.936 - ETA: 14:11 - loss: 0.2022 - accuracy: 0.935 - ETA: 14:10 - loss: 0.2023 - accuracy: 0.935 - ETA: 14:10 - loss: 0.2022 - accuracy: 0.935 - ETA: 14:09 - loss: 0.2020 - accuracy: 0.936 - ETA: 14:09 - loss: 0.2021 - accuracy: 0.936 - ETA: 14:08 - loss: 0.2022 - accuracy: 0.935 - ETA: 14:07 - loss: 0.2023 - accuracy: 0.935 - ETA: 14:07 - loss: 0.2022 - accuracy: 0.935 - ETA: 14:06 - loss: 0.2022 - accuracy: 0.935 - ETA: 14:05 - loss: 0.2021 - accuracy: 0.935 - ETA: 14:05 - loss: 0.2020 - accuracy: 0.935 - ETA: 14:04 - loss: 0.2021 - accuracy: 0.935 - ETA: 14:04 - loss: 0.2023 - accuracy: 0.935 - ETA: 14:03 - loss: 0.2023 - accuracy: 0.935 - ETA: 14:02 - loss: 0.2021 - accuracy: 0.935 - ETA: 14:02 - loss: 0.2021 - accuracy: 0.935 - ETA: 14:01 - loss: 0.2020 - accuracy: 0.936 - ETA: 14:01 - loss: 0.2020 - accuracy: 0.936 - ETA: 14:00 - loss: 0.2021 - accuracy: 0.936 - ETA: 13:59 - loss: 0.2021 - accuracy: 0.935 - ETA: 13:59 - loss: 0.2020 - accuracy: 0.936 - ETA: 13:58 - loss: 0.2019 - accuracy: 0.936 - ETA: 13:58 - loss: 0.2019 - accuracy: 0.936 - ETA: 13:57 - loss: 0.2020 - accuracy: 0.935 - ETA: 13:56 - loss: 0.2018 - accuracy: 0.936 - ETA: 13:56 - loss: 0.2018 - accuracy: 0.936 - ETA: 13:55 - loss: 0.2017 - accuracy: 0.936 - ETA: 13:54 - loss: 0.2016 - accuracy: 0.936 - ETA: 13:54 - loss: 0.2017 - accuracy: 0.936 - ETA: 13:53 - loss: 0.2016 - accuracy: 0.936 - ETA: 13:53 - loss: 0.2016 - accuracy: 0.936 - ETA: 13:52 - loss: 0.2017 - accuracy: 0.936 - ETA: 13:51 - loss: 0.2015 - accuracy: 0.936 - ETA: 13:51 - loss: 0.2016 - accuracy: 0.936 - ETA: 13:50 - loss: 0.2016 - accuracy: 0.936 - ETA: 13:50 - loss: 0.2016 - accuracy: 0.936 - ETA: 13:49 - loss: 0.2015 - accuracy: 0.936 - ETA: 13:48 - loss: 0.2016 - accuracy: 0.936 - ETA: 13:48 - loss: 0.2016 - accuracy: 0.936 - ETA: 13:47 - loss: 0.2015 - accuracy: 0.936 - ETA: 13:47 - loss: 0.2014 - accuracy: 0.936 - ETA: 13:46 - loss: 0.2013 - accuracy: 0.936 - ETA: 13:45 - loss: 0.2012 - accuracy: 0.936 - ETA: 13:45 - loss: 0.2012 - accuracy: 0.936 - ETA: 13:44 - loss: 0.2012 - accuracy: 0.936 - ETA: 13:44 - loss: 0.2013 - accuracy: 0.936 - ETA: 13:43 - loss: 0.2017 - accuracy: 0.936 - ETA: 13:43 - loss: 0.2018 - accuracy: 0.936 - ETA: 13:42 - loss: 0.2017 - accuracy: 0.936 - ETA: 13:42 - loss: 0.2020 - accuracy: 0.935 - ETA: 13:41 - loss: 0.2019 - accuracy: 0.935 - ETA: 13:40 - loss: 0.2019 - accuracy: 0.935 - ETA: 13:40 - loss: 0.2021 - accuracy: 0.935 - ETA: 13:39 - loss: 0.2020 - accuracy: 0.935 - ETA: 13:39 - loss: 0.2019 - accuracy: 0.935 - ETA: 13:38 - loss: 0.2019 - accuracy: 0.935 - ETA: 13:38 - loss: 0.2019 - accuracy: 0.935 - ETA: 13:37 - loss: 0.2017 - accuracy: 0.935 - ETA: 13:36 - loss: 0.2018 - accuracy: 0.935 - ETA: 13:36 - loss: 0.2017 - accuracy: 0.935 - ETA: 13:35 - loss: 0.2017 - accuracy: 0.935 - ETA: 13:34 - loss: 0.2017 - accuracy: 0.935 - ETA: 13:34 - loss: 0.2017 - accuracy: 0.935 - ETA: 13:33 - loss: 0.2018 - accuracy: 0.935 - ETA: 13:33 - loss: 0.2017 - accuracy: 0.935 - ETA: 13:32 - loss: 0.2018 - accuracy: 0.935 - ETA: 13:31 - loss: 0.2019 - accuracy: 0.935 - ETA: 13:31 - loss: 0.2019 - accuracy: 0.935 - ETA: 13:30 - loss: 0.2018 - accuracy: 0.935 - ETA: 13:30 - loss: 0.2017 - accuracy: 0.935 - ETA: 13:29 - loss: 0.2016 - accuracy: 0.936 - ETA: 13:29 - loss: 0.2015 - accuracy: 0.936 - ETA: 13:28 - loss: 0.2014 - accuracy: 0.936 - ETA: 13:28 - loss: 0.2014 - accuracy: 0.936 - ETA: 13:27 - loss: 0.2013 - accuracy: 0.936 - ETA: 13:26 - loss: 0.2013 - accuracy: 0.936 - ETA: 13:26 - loss: 0.2015 - accuracy: 0.936 - ETA: 13:25 - loss: 0.2015 - accuracy: 0.936 - ETA: 13:25 - loss: 0.2014 - accuracy: 0.936 - ETA: 13:24 - loss: 0.2015 - accuracy: 0.936 - ETA: 13:24 - loss: 0.2015 - accuracy: 0.936 - ETA: 13:23 - loss: 0.2015 - accuracy: 0.936 - ETA: 13:22 - loss: 0.2015 - accuracy: 0.936 - ETA: 13:22 - loss: 0.2017 - accuracy: 0.935 - ETA: 13:21 - loss: 0.2018 - accuracy: 0.935 - ETA: 13:20 - loss: 0.2018 - accuracy: 0.935 - ETA: 13:20 - loss: 0.2019 - accuracy: 0.935 - ETA: 13:19 - loss: 0.2019 - accuracy: 0.935 - ETA: 13:19 - loss: 0.2019 - accuracy: 0.935 - ETA: 13:18 - loss: 0.2018 - accuracy: 0.935 - ETA: 13:17 - loss: 0.2017 - accuracy: 0.935 - ETA: 13:17 - loss: 0.2017 - accuracy: 0.935 - ETA: 13:16 - loss: 0.2017 - accuracy: 0.935 - ETA: 13:16 - loss: 0.2017 - accuracy: 0.935 - ETA: 13:15 - loss: 0.2016 - accuracy: 0.935 - ETA: 13:15 - loss: 0.2015 - accuracy: 0.935 - ETA: 13:14 - loss: 0.2016 - accuracy: 0.935 - ETA: 13:13 - loss: 0.2017 - accuracy: 0.935 - ETA: 13:13 - loss: 0.2016 - accuracy: 0.935 - ETA: 13:12 - loss: 0.2016 - accuracy: 0.935 - ETA: 13:12 - loss: 0.2015 - accuracy: 0.935 - ETA: 13:11 - loss: 0.2013 - accuracy: 0.935 - ETA: 13:10 - loss: 0.2012 - accuracy: 0.935 - ETA: 13:10 - loss: 0.2012 - accuracy: 0.935 - ETA: 13:09 - loss: 0.2012 - accuracy: 0.935 - ETA: 13:09 - loss: 0.2013 - accuracy: 0.935 - ETA: 13:08 - loss: 0.2012 - accuracy: 0.935 - ETA: 13:07 - loss: 0.2014 - accuracy: 0.935 - ETA: 13:07 - loss: 0.2014 - accuracy: 0.935 - ETA: 13:06 - loss: 0.2014 - accuracy: 0.935 - ETA: 13:06 - loss: 0.2013 - accuracy: 0.935 - ETA: 13:05 - loss: 0.2015 - accuracy: 0.935 - ETA: 13:05 - loss: 0.2014 - accuracy: 0.935 - ETA: 13:04 - loss: 0.2015 - accuracy: 0.935 - ETA: 13:03 - loss: 0.2015 - accuracy: 0.935 - ETA: 13:03 - loss: 0.2015 - accuracy: 0.935 - ETA: 13:02 - loss: 0.2014 - accuracy: 0.935 - ETA: 13:02 - loss: 0.2013 - accuracy: 0.935 - ETA: 13:01 - loss: 0.2011 - accuracy: 0.935 - ETA: 13:00 - loss: 0.2010 - accuracy: 0.935 - ETA: 13:00 - loss: 0.2010 - accuracy: 0.935 - ETA: 12:59 - loss: 0.2010 - accuracy: 0.935 - ETA: 12:59 - loss: 0.2009 - accuracy: 0.936 - ETA: 12:58 - loss: 0.2008 - accuracy: 0.936 - ETA: 12:57 - loss: 0.2009 - accuracy: 0.936 - ETA: 12:57 - loss: 0.2008 - accuracy: 0.936 - ETA: 12:56 - loss: 0.2008 - accuracy: 0.936 - ETA: 12:56 - loss: 0.2009 - accuracy: 0.936 - ETA: 12:55 - loss: 0.2008 - accuracy: 0.936 - ETA: 12:54 - loss: 0.2009 - accuracy: 0.936 - ETA: 12:54 - loss: 0.2009 - accuracy: 0.936 - ETA: 12:53 - loss: 0.2011 - accuracy: 0.9360 68352/140454 [=============>................] - ETA: 12:53 - loss: 0.2009 - accuracy: 0.936 - ETA: 12:52 - loss: 0.2011 - accuracy: 0.936 - ETA: 12:52 - loss: 0.2012 - accuracy: 0.935 - ETA: 12:51 - loss: 0.2011 - accuracy: 0.935 - ETA: 12:50 - loss: 0.2012 - accuracy: 0.935 - ETA: 12:50 - loss: 0.2012 - accuracy: 0.935 - ETA: 12:49 - loss: 0.2011 - accuracy: 0.936 - ETA: 12:48 - loss: 0.2011 - accuracy: 0.936 - ETA: 12:48 - loss: 0.2011 - accuracy: 0.936 - ETA: 12:47 - loss: 0.2010 - accuracy: 0.936 - ETA: 12:47 - loss: 0.2010 - accuracy: 0.935 - ETA: 12:46 - loss: 0.2013 - accuracy: 0.935 - ETA: 12:45 - loss: 0.2013 - accuracy: 0.935 - ETA: 12:45 - loss: 0.2013 - accuracy: 0.935 - ETA: 12:44 - loss: 0.2014 - accuracy: 0.935 - ETA: 12:44 - loss: 0.2015 - accuracy: 0.935 - ETA: 12:43 - loss: 0.2015 - accuracy: 0.935 - ETA: 12:42 - loss: 0.2015 - accuracy: 0.935 - ETA: 12:42 - loss: 0.2016 - accuracy: 0.935 - ETA: 12:41 - loss: 0.2015 - accuracy: 0.935 - ETA: 12:41 - loss: 0.2015 - accuracy: 0.935 - ETA: 12:40 - loss: 0.2015 - accuracy: 0.935 - ETA: 12:40 - loss: 0.2014 - accuracy: 0.935 - ETA: 12:39 - loss: 0.2013 - accuracy: 0.935 - ETA: 12:38 - loss: 0.2011 - accuracy: 0.935 - ETA: 12:38 - loss: 0.2011 - accuracy: 0.936 - ETA: 12:37 - loss: 0.2010 - accuracy: 0.936 - ETA: 12:37 - loss: 0.2009 - accuracy: 0.936 - ETA: 12:36 - loss: 0.2008 - accuracy: 0.936 - ETA: 12:35 - loss: 0.2009 - accuracy: 0.936 - ETA: 12:35 - loss: 0.2007 - accuracy: 0.936 - ETA: 12:34 - loss: 0.2008 - accuracy: 0.936 - ETA: 12:34 - loss: 0.2010 - accuracy: 0.936 - ETA: 12:33 - loss: 0.2009 - accuracy: 0.936 - ETA: 12:32 - loss: 0.2009 - accuracy: 0.936 - ETA: 12:32 - loss: 0.2008 - accuracy: 0.936 - ETA: 12:31 - loss: 0.2009 - accuracy: 0.936 - ETA: 12:31 - loss: 0.2009 - accuracy: 0.936 - ETA: 12:30 - loss: 0.2009 - accuracy: 0.936 - ETA: 12:29 - loss: 0.2012 - accuracy: 0.935 - ETA: 12:29 - loss: 0.2012 - accuracy: 0.935 - ETA: 12:28 - loss: 0.2011 - accuracy: 0.936 - ETA: 12:28 - loss: 0.2012 - accuracy: 0.935 - ETA: 12:27 - loss: 0.2013 - accuracy: 0.935 - ETA: 12:26 - loss: 0.2013 - accuracy: 0.935 - ETA: 12:26 - loss: 0.2014 - accuracy: 0.935 - ETA: 12:25 - loss: 0.2014 - accuracy: 0.935 - ETA: 12:25 - loss: 0.2014 - accuracy: 0.935 - ETA: 12:24 - loss: 0.2014 - accuracy: 0.935 - ETA: 12:23 - loss: 0.2016 - accuracy: 0.935 - ETA: 12:23 - loss: 0.2016 - accuracy: 0.935 - ETA: 12:22 - loss: 0.2017 - accuracy: 0.935 - ETA: 12:22 - loss: 0.2017 - accuracy: 0.935 - ETA: 12:21 - loss: 0.2017 - accuracy: 0.935 - ETA: 12:20 - loss: 0.2017 - accuracy: 0.935 - ETA: 12:20 - loss: 0.2017 - accuracy: 0.935 - ETA: 12:19 - loss: 0.2017 - accuracy: 0.935 - ETA: 12:19 - loss: 0.2016 - accuracy: 0.935 - ETA: 12:18 - loss: 0.2016 - accuracy: 0.935 - ETA: 12:17 - loss: 0.2017 - accuracy: 0.935 - ETA: 12:17 - loss: 0.2018 - accuracy: 0.935 - ETA: 12:16 - loss: 0.2018 - accuracy: 0.935 - ETA: 12:16 - loss: 0.2018 - accuracy: 0.935 - ETA: 12:15 - loss: 0.2017 - accuracy: 0.935 - ETA: 12:14 - loss: 0.2019 - accuracy: 0.935 - ETA: 12:14 - loss: 0.2019 - accuracy: 0.935 - ETA: 12:13 - loss: 0.2019 - accuracy: 0.935 - ETA: 12:13 - loss: 0.2020 - accuracy: 0.935 - ETA: 12:12 - loss: 0.2019 - accuracy: 0.935 - ETA: 12:12 - loss: 0.2019 - accuracy: 0.935 - ETA: 12:11 - loss: 0.2019 - accuracy: 0.935 - ETA: 12:11 - loss: 0.2019 - accuracy: 0.935 - ETA: 12:10 - loss: 0.2019 - accuracy: 0.935 - ETA: 12:09 - loss: 0.2020 - accuracy: 0.935 - ETA: 12:09 - loss: 0.2019 - accuracy: 0.935 - ETA: 12:08 - loss: 0.2020 - accuracy: 0.935 - ETA: 12:07 - loss: 0.2020 - accuracy: 0.935 - ETA: 12:07 - loss: 0.2020 - accuracy: 0.935 - ETA: 12:06 - loss: 0.2020 - accuracy: 0.935 - ETA: 12:06 - loss: 0.2020 - accuracy: 0.935 - ETA: 12:05 - loss: 0.2020 - accuracy: 0.935 - ETA: 12:04 - loss: 0.2020 - accuracy: 0.935 - ETA: 12:04 - loss: 0.2019 - accuracy: 0.935 - ETA: 12:03 - loss: 0.2018 - accuracy: 0.935 - ETA: 12:03 - loss: 0.2018 - accuracy: 0.935 - ETA: 12:02 - loss: 0.2019 - accuracy: 0.935 - ETA: 12:01 - loss: 0.2019 - accuracy: 0.935 - ETA: 12:01 - loss: 0.2017 - accuracy: 0.935 - ETA: 12:00 - loss: 0.2017 - accuracy: 0.935 - ETA: 12:00 - loss: 0.2016 - accuracy: 0.935 - ETA: 11:59 - loss: 0.2015 - accuracy: 0.935 - ETA: 11:58 - loss: 0.2015 - accuracy: 0.935 - ETA: 11:58 - loss: 0.2014 - accuracy: 0.935 - ETA: 11:57 - loss: 0.2014 - accuracy: 0.935 - ETA: 11:57 - loss: 0.2015 - accuracy: 0.935 - ETA: 11:56 - loss: 0.2014 - accuracy: 0.935 - ETA: 11:55 - loss: 0.2015 - accuracy: 0.935 - ETA: 11:55 - loss: 0.2016 - accuracy: 0.935 - ETA: 11:54 - loss: 0.2016 - accuracy: 0.935 - ETA: 11:54 - loss: 0.2015 - accuracy: 0.935 - ETA: 11:53 - loss: 0.2014 - accuracy: 0.935 - ETA: 11:52 - loss: 0.2014 - accuracy: 0.935 - ETA: 11:52 - loss: 0.2013 - accuracy: 0.935 - ETA: 11:51 - loss: 0.2012 - accuracy: 0.935 - ETA: 11:51 - loss: 0.2013 - accuracy: 0.935 - ETA: 11:50 - loss: 0.2014 - accuracy: 0.935 - ETA: 11:49 - loss: 0.2014 - accuracy: 0.935 - ETA: 11:49 - loss: 0.2013 - accuracy: 0.935 - ETA: 11:48 - loss: 0.2014 - accuracy: 0.935 - ETA: 11:48 - loss: 0.2014 - accuracy: 0.935 - ETA: 11:47 - loss: 0.2014 - accuracy: 0.935 - ETA: 11:46 - loss: 0.2013 - accuracy: 0.935 - ETA: 11:46 - loss: 0.2015 - accuracy: 0.935 - ETA: 11:45 - loss: 0.2016 - accuracy: 0.935 - ETA: 11:45 - loss: 0.2016 - accuracy: 0.935 - ETA: 11:44 - loss: 0.2015 - accuracy: 0.935 - ETA: 11:43 - loss: 0.2015 - accuracy: 0.935 - ETA: 11:43 - loss: 0.2015 - accuracy: 0.935 - ETA: 11:42 - loss: 0.2016 - accuracy: 0.935 - ETA: 11:42 - loss: 0.2017 - accuracy: 0.935 - ETA: 11:41 - loss: 0.2017 - accuracy: 0.935 - ETA: 11:40 - loss: 0.2016 - accuracy: 0.935 - ETA: 11:40 - loss: 0.2017 - accuracy: 0.935 - ETA: 11:39 - loss: 0.2017 - accuracy: 0.935 - ETA: 11:39 - loss: 0.2017 - accuracy: 0.935 - ETA: 11:38 - loss: 0.2017 - accuracy: 0.935 - ETA: 11:38 - loss: 0.2017 - accuracy: 0.935 - ETA: 11:37 - loss: 0.2017 - accuracy: 0.935 - ETA: 11:36 - loss: 0.2016 - accuracy: 0.935 - ETA: 11:36 - loss: 0.2015 - accuracy: 0.935 - ETA: 11:35 - loss: 0.2014 - accuracy: 0.935 - ETA: 11:35 - loss: 0.2013 - accuracy: 0.935 - ETA: 11:34 - loss: 0.2013 - accuracy: 0.935 - ETA: 11:33 - loss: 0.2011 - accuracy: 0.935 - ETA: 11:33 - loss: 0.2012 - accuracy: 0.935 - ETA: 11:32 - loss: 0.2012 - accuracy: 0.935 - ETA: 11:32 - loss: 0.2011 - accuracy: 0.935 - ETA: 11:31 - loss: 0.2010 - accuracy: 0.935 - ETA: 11:30 - loss: 0.2009 - accuracy: 0.935 - ETA: 11:30 - loss: 0.2010 - accuracy: 0.935 - ETA: 11:29 - loss: 0.2009 - accuracy: 0.935 - ETA: 11:29 - loss: 0.2009 - accuracy: 0.935 - ETA: 11:28 - loss: 0.2008 - accuracy: 0.935 - ETA: 11:27 - loss: 0.2007 - accuracy: 0.935 - ETA: 11:27 - loss: 0.2008 - accuracy: 0.935 - ETA: 11:26 - loss: 0.2006 - accuracy: 0.935 - ETA: 11:26 - loss: 0.2005 - accuracy: 0.935 - ETA: 11:25 - loss: 0.2005 - accuracy: 0.935 - ETA: 11:24 - loss: 0.2004 - accuracy: 0.935 - ETA: 11:24 - loss: 0.2005 - accuracy: 0.935 - ETA: 11:23 - loss: 0.2004 - accuracy: 0.935 - ETA: 11:22 - loss: 0.2003 - accuracy: 0.935 - ETA: 11:22 - loss: 0.2004 - accuracy: 0.935 - ETA: 11:21 - loss: 0.2004 - accuracy: 0.935 - ETA: 11:21 - loss: 0.2003 - accuracy: 0.935 - ETA: 11:20 - loss: 0.2004 - accuracy: 0.935 - ETA: 11:20 - loss: 0.2003 - accuracy: 0.935 - ETA: 11:19 - loss: 0.2002 - accuracy: 0.936 - ETA: 11:18 - loss: 0.2003 - accuracy: 0.936 - ETA: 11:18 - loss: 0.2002 - accuracy: 0.936 - ETA: 11:17 - loss: 0.2001 - accuracy: 0.936 - ETA: 11:17 - loss: 0.2000 - accuracy: 0.936 - ETA: 11:16 - loss: 0.1999 - accuracy: 0.936 - ETA: 11:15 - loss: 0.1999 - accuracy: 0.936 - ETA: 11:15 - loss: 0.2000 - accuracy: 0.936 - ETA: 11:14 - loss: 0.2000 - accuracy: 0.936 - ETA: 11:14 - loss: 0.2002 - accuracy: 0.936 - ETA: 11:13 - loss: 0.2003 - accuracy: 0.936 - ETA: 11:12 - loss: 0.2002 - accuracy: 0.936 - ETA: 11:12 - loss: 0.2003 - accuracy: 0.936 - ETA: 11:11 - loss: 0.2004 - accuracy: 0.935 - ETA: 11:11 - loss: 0.2006 - accuracy: 0.935 - ETA: 11:10 - loss: 0.2005 - accuracy: 0.935 - ETA: 11:10 - loss: 0.2004 - accuracy: 0.936 - ETA: 11:09 - loss: 0.2003 - accuracy: 0.936 - ETA: 11:08 - loss: 0.2003 - accuracy: 0.936 - ETA: 11:08 - loss: 0.2003 - accuracy: 0.936 - ETA: 11:07 - loss: 0.2004 - accuracy: 0.9360 79872/140454 [================>.............] - ETA: 11:07 - loss: 0.2004 - accuracy: 0.936 - ETA: 11:06 - loss: 0.2004 - accuracy: 0.936 - ETA: 11:05 - loss: 0.2004 - accuracy: 0.936 - ETA: 11:05 - loss: 0.2003 - accuracy: 0.936 - ETA: 11:04 - loss: 0.2004 - accuracy: 0.936 - ETA: 11:03 - loss: 0.2004 - accuracy: 0.936 - ETA: 11:03 - loss: 0.2004 - accuracy: 0.936 - ETA: 11:02 - loss: 0.2004 - accuracy: 0.936 - ETA: 11:02 - loss: 0.2003 - accuracy: 0.936 - ETA: 11:01 - loss: 0.2002 - accuracy: 0.936 - ETA: 11:00 - loss: 0.2002 - accuracy: 0.936 - ETA: 11:00 - loss: 0.2003 - accuracy: 0.936 - ETA: 10:59 - loss: 0.2003 - accuracy: 0.936 - ETA: 10:59 - loss: 0.2003 - accuracy: 0.936 - ETA: 10:58 - loss: 0.2002 - accuracy: 0.936 - ETA: 10:57 - loss: 0.2003 - accuracy: 0.936 - ETA: 10:57 - loss: 0.2003 - accuracy: 0.936 - ETA: 10:56 - loss: 0.2002 - accuracy: 0.936 - ETA: 10:56 - loss: 0.2002 - accuracy: 0.936 - ETA: 10:55 - loss: 0.2002 - accuracy: 0.936 - ETA: 10:55 - loss: 0.2002 - accuracy: 0.936 - ETA: 10:54 - loss: 0.2001 - accuracy: 0.936 - ETA: 10:53 - loss: 0.2002 - accuracy: 0.936 - ETA: 10:53 - loss: 0.2001 - accuracy: 0.936 - ETA: 10:52 - loss: 0.2001 - accuracy: 0.936 - ETA: 10:52 - loss: 0.2000 - accuracy: 0.936 - ETA: 10:51 - loss: 0.2000 - accuracy: 0.936 - ETA: 10:51 - loss: 0.1999 - accuracy: 0.936 - ETA: 10:50 - loss: 0.1999 - accuracy: 0.936 - ETA: 10:49 - loss: 0.1998 - accuracy: 0.936 - ETA: 10:49 - loss: 0.1997 - accuracy: 0.936 - ETA: 10:48 - loss: 0.1997 - accuracy: 0.936 - ETA: 10:48 - loss: 0.1999 - accuracy: 0.936 - ETA: 10:47 - loss: 0.1998 - accuracy: 0.936 - ETA: 10:46 - loss: 0.2000 - accuracy: 0.936 - ETA: 10:46 - loss: 0.2002 - accuracy: 0.936 - ETA: 10:45 - loss: 0.2001 - accuracy: 0.936 - ETA: 10:45 - loss: 0.2001 - accuracy: 0.936 - ETA: 10:44 - loss: 0.2003 - accuracy: 0.936 - ETA: 10:43 - loss: 0.2003 - accuracy: 0.936 - ETA: 10:43 - loss: 0.2003 - accuracy: 0.936 - ETA: 10:42 - loss: 0.2004 - accuracy: 0.936 - ETA: 10:42 - loss: 0.2004 - accuracy: 0.936 - ETA: 10:41 - loss: 0.2003 - accuracy: 0.936 - ETA: 10:40 - loss: 0.2003 - accuracy: 0.936 - ETA: 10:40 - loss: 0.2003 - accuracy: 0.936 - ETA: 10:39 - loss: 0.2004 - accuracy: 0.936 - ETA: 10:39 - loss: 0.2004 - accuracy: 0.936 - ETA: 10:38 - loss: 0.2005 - accuracy: 0.936 - ETA: 10:37 - loss: 0.2004 - accuracy: 0.936 - ETA: 10:37 - loss: 0.2004 - accuracy: 0.936 - ETA: 10:36 - loss: 0.2004 - accuracy: 0.936 - ETA: 10:36 - loss: 0.2003 - accuracy: 0.936 - ETA: 10:35 - loss: 0.2002 - accuracy: 0.936 - ETA: 10:35 - loss: 0.2001 - accuracy: 0.936 - ETA: 10:34 - loss: 0.2001 - accuracy: 0.936 - ETA: 10:33 - loss: 0.2002 - accuracy: 0.936 - ETA: 10:33 - loss: 0.2001 - accuracy: 0.936 - ETA: 10:32 - loss: 0.2001 - accuracy: 0.936 - ETA: 10:32 - loss: 0.2002 - accuracy: 0.936 - ETA: 10:31 - loss: 0.2003 - accuracy: 0.936 - ETA: 10:30 - loss: 0.2002 - accuracy: 0.936 - ETA: 10:30 - loss: 0.2001 - accuracy: 0.936 - ETA: 10:29 - loss: 0.2002 - accuracy: 0.936 - ETA: 10:29 - loss: 0.2002 - accuracy: 0.936 - ETA: 10:28 - loss: 0.2002 - accuracy: 0.936 - ETA: 10:27 - loss: 0.2001 - accuracy: 0.936 - ETA: 10:27 - loss: 0.2001 - accuracy: 0.936 - ETA: 10:26 - loss: 0.2002 - accuracy: 0.936 - ETA: 10:26 - loss: 0.2002 - accuracy: 0.936 - ETA: 10:25 - loss: 0.2002 - accuracy: 0.936 - ETA: 10:24 - loss: 0.2002 - accuracy: 0.936 - ETA: 10:24 - loss: 0.2002 - accuracy: 0.936 - ETA: 10:23 - loss: 0.2004 - accuracy: 0.936 - ETA: 10:23 - loss: 0.2004 - accuracy: 0.936 - ETA: 10:22 - loss: 0.2004 - accuracy: 0.936 - ETA: 10:21 - loss: 0.2004 - accuracy: 0.936 - ETA: 10:21 - loss: 0.2005 - accuracy: 0.936 - ETA: 10:20 - loss: 0.2005 - accuracy: 0.936 - ETA: 10:20 - loss: 0.2006 - accuracy: 0.936 - ETA: 10:19 - loss: 0.2006 - accuracy: 0.935 - ETA: 10:19 - loss: 0.2006 - accuracy: 0.935 - ETA: 10:18 - loss: 0.2007 - accuracy: 0.935 - ETA: 10:17 - loss: 0.2008 - accuracy: 0.935 - ETA: 10:17 - loss: 0.2008 - accuracy: 0.935 - ETA: 10:16 - loss: 0.2007 - accuracy: 0.935 - ETA: 10:16 - loss: 0.2008 - accuracy: 0.935 - ETA: 10:15 - loss: 0.2007 - accuracy: 0.935 - ETA: 10:14 - loss: 0.2007 - accuracy: 0.935 - ETA: 10:14 - loss: 0.2006 - accuracy: 0.935 - ETA: 10:13 - loss: 0.2006 - accuracy: 0.935 - ETA: 10:13 - loss: 0.2005 - accuracy: 0.935 - ETA: 10:12 - loss: 0.2005 - accuracy: 0.935 - ETA: 10:11 - loss: 0.2006 - accuracy: 0.935 - ETA: 10:11 - loss: 0.2006 - accuracy: 0.935 - ETA: 10:10 - loss: 0.2006 - accuracy: 0.935 - ETA: 10:10 - loss: 0.2006 - accuracy: 0.935 - ETA: 10:09 - loss: 0.2006 - accuracy: 0.935 - ETA: 10:09 - loss: 0.2006 - accuracy: 0.935 - ETA: 10:08 - loss: 0.2006 - accuracy: 0.935 - ETA: 10:07 - loss: 0.2005 - accuracy: 0.935 - ETA: 10:07 - loss: 0.2005 - accuracy: 0.935 - ETA: 10:06 - loss: 0.2005 - accuracy: 0.935 - ETA: 10:06 - loss: 0.2004 - accuracy: 0.935 - ETA: 10:05 - loss: 0.2004 - accuracy: 0.935 - ETA: 10:04 - loss: 0.2005 - accuracy: 0.935 - ETA: 10:04 - loss: 0.2004 - accuracy: 0.935 - ETA: 10:03 - loss: 0.2005 - accuracy: 0.935 - ETA: 10:03 - loss: 0.2005 - accuracy: 0.935 - ETA: 10:02 - loss: 0.2005 - accuracy: 0.935 - ETA: 10:01 - loss: 0.2004 - accuracy: 0.935 - ETA: 10:01 - loss: 0.2005 - accuracy: 0.935 - ETA: 10:00 - loss: 0.2004 - accuracy: 0.935 - ETA: 9:59 - loss: 0.2005 - accuracy: 0.935 - ETA: 9:59 - loss: 0.2005 - accuracy: 0.93 - ETA: 9:58 - loss: 0.2005 - accuracy: 0.93 - ETA: 9:58 - loss: 0.2005 - accuracy: 0.93 - ETA: 9:57 - loss: 0.2004 - accuracy: 0.93 - ETA: 9:57 - loss: 0.2004 - accuracy: 0.93 - ETA: 9:56 - loss: 0.2005 - accuracy: 0.93 - ETA: 9:55 - loss: 0.2005 - accuracy: 0.93 - ETA: 9:55 - loss: 0.2005 - accuracy: 0.93 - ETA: 9:54 - loss: 0.2006 - accuracy: 0.93 - ETA: 9:54 - loss: 0.2005 - accuracy: 0.93 - ETA: 9:53 - loss: 0.2004 - accuracy: 0.93 - ETA: 9:52 - loss: 0.2004 - accuracy: 0.93 - ETA: 9:52 - loss: 0.2004 - accuracy: 0.93 - ETA: 9:51 - loss: 0.2003 - accuracy: 0.93 - ETA: 9:51 - loss: 0.2003 - accuracy: 0.93 - ETA: 9:50 - loss: 0.2002 - accuracy: 0.93 - ETA: 9:49 - loss: 0.2001 - accuracy: 0.93 - ETA: 9:49 - loss: 0.2001 - accuracy: 0.93 - ETA: 9:48 - loss: 0.2001 - accuracy: 0.93 - ETA: 9:48 - loss: 0.2001 - accuracy: 0.93 - ETA: 9:47 - loss: 0.2000 - accuracy: 0.93 - ETA: 9:46 - loss: 0.1999 - accuracy: 0.93 - ETA: 9:46 - loss: 0.1999 - accuracy: 0.93 - ETA: 9:45 - loss: 0.1998 - accuracy: 0.93 - ETA: 9:45 - loss: 0.1998 - accuracy: 0.93 - ETA: 9:44 - loss: 0.1997 - accuracy: 0.93 - ETA: 9:44 - loss: 0.1997 - accuracy: 0.93 - ETA: 9:43 - loss: 0.1998 - accuracy: 0.93 - ETA: 9:42 - loss: 0.1998 - accuracy: 0.93 - ETA: 9:42 - loss: 0.1998 - accuracy: 0.93 - ETA: 9:41 - loss: 0.1996 - accuracy: 0.93 - ETA: 9:40 - loss: 0.1995 - accuracy: 0.93 - ETA: 9:40 - loss: 0.1995 - accuracy: 0.93 - ETA: 9:39 - loss: 0.1995 - accuracy: 0.93 - ETA: 9:39 - loss: 0.1995 - accuracy: 0.93 - ETA: 9:38 - loss: 0.1994 - accuracy: 0.93 - ETA: 9:38 - loss: 0.1994 - accuracy: 0.93 - ETA: 9:37 - loss: 0.1994 - accuracy: 0.93 - ETA: 9:36 - loss: 0.1993 - accuracy: 0.93 - ETA: 9:36 - loss: 0.1994 - accuracy: 0.93 - ETA: 9:35 - loss: 0.1994 - accuracy: 0.93 - ETA: 9:35 - loss: 0.1994 - accuracy: 0.93 - ETA: 9:34 - loss: 0.1994 - accuracy: 0.93 - ETA: 9:33 - loss: 0.1994 - accuracy: 0.93 - ETA: 9:33 - loss: 0.1995 - accuracy: 0.93 - ETA: 9:32 - loss: 0.1995 - accuracy: 0.93 - ETA: 9:32 - loss: 0.1993 - accuracy: 0.93 - ETA: 9:31 - loss: 0.1993 - accuracy: 0.93 - ETA: 9:31 - loss: 0.1993 - accuracy: 0.93 - ETA: 9:30 - loss: 0.1993 - accuracy: 0.93 - ETA: 9:29 - loss: 0.1993 - accuracy: 0.93 - ETA: 9:29 - loss: 0.1993 - accuracy: 0.93 - ETA: 9:28 - loss: 0.1993 - accuracy: 0.93 - ETA: 9:28 - loss: 0.1993 - accuracy: 0.93 - ETA: 9:27 - loss: 0.1995 - accuracy: 0.93 - ETA: 9:26 - loss: 0.1995 - accuracy: 0.93 - ETA: 9:26 - loss: 0.1994 - accuracy: 0.93 - ETA: 9:25 - loss: 0.1995 - accuracy: 0.93 - ETA: 9:25 - loss: 0.1996 - accuracy: 0.93 - ETA: 9:24 - loss: 0.1995 - accuracy: 0.93 - ETA: 9:23 - loss: 0.1995 - accuracy: 0.93 - ETA: 9:23 - loss: 0.1997 - accuracy: 0.93 - ETA: 9:22 - loss: 0.1997 - accuracy: 0.93 - ETA: 9:22 - loss: 0.1995 - accuracy: 0.93 - ETA: 9:21 - loss: 0.1995 - accuracy: 0.93 - ETA: 9:20 - loss: 0.1997 - accuracy: 0.9361 91776/140454 [==================>...........] - ETA: 9:20 - loss: 0.1996 - accuracy: 0.93 - ETA: 9:19 - loss: 0.1997 - accuracy: 0.93 - ETA: 9:19 - loss: 0.1998 - accuracy: 0.93 - ETA: 9:18 - loss: 0.1998 - accuracy: 0.93 - ETA: 9:17 - loss: 0.1998 - accuracy: 0.93 - ETA: 9:17 - loss: 0.1997 - accuracy: 0.93 - ETA: 9:16 - loss: 0.1996 - accuracy: 0.93 - ETA: 9:16 - loss: 0.1995 - accuracy: 0.93 - ETA: 9:15 - loss: 0.1995 - accuracy: 0.93 - ETA: 9:14 - loss: 0.1995 - accuracy: 0.93 - ETA: 9:14 - loss: 0.1995 - accuracy: 0.93 - ETA: 9:13 - loss: 0.1995 - accuracy: 0.93 - ETA: 9:13 - loss: 0.1995 - accuracy: 0.93 - ETA: 9:12 - loss: 0.1995 - accuracy: 0.93 - ETA: 9:11 - loss: 0.1995 - accuracy: 0.93 - ETA: 9:11 - loss: 0.1995 - accuracy: 0.93 - ETA: 9:10 - loss: 0.1996 - accuracy: 0.93 - ETA: 9:10 - loss: 0.1998 - accuracy: 0.93 - ETA: 9:09 - loss: 0.1998 - accuracy: 0.93 - ETA: 9:09 - loss: 0.1997 - accuracy: 0.93 - ETA: 9:08 - loss: 0.1997 - accuracy: 0.93 - ETA: 9:08 - loss: 0.1996 - accuracy: 0.93 - ETA: 9:07 - loss: 0.1996 - accuracy: 0.93 - ETA: 9:07 - loss: 0.1995 - accuracy: 0.93 - ETA: 9:06 - loss: 0.1995 - accuracy: 0.93 - ETA: 9:05 - loss: 0.1995 - accuracy: 0.93 - ETA: 9:05 - loss: 0.1996 - accuracy: 0.93 - ETA: 9:04 - loss: 0.1995 - accuracy: 0.93 - ETA: 9:04 - loss: 0.1995 - accuracy: 0.93 - ETA: 9:04 - loss: 0.1994 - accuracy: 0.93 - ETA: 9:03 - loss: 0.1993 - accuracy: 0.93 - ETA: 9:03 - loss: 0.1993 - accuracy: 0.93 - ETA: 9:02 - loss: 0.1992 - accuracy: 0.93 - ETA: 9:02 - loss: 0.1992 - accuracy: 0.93 - ETA: 9:01 - loss: 0.1991 - accuracy: 0.93 - ETA: 9:01 - loss: 0.1991 - accuracy: 0.93 - ETA: 9:00 - loss: 0.1992 - accuracy: 0.93 - ETA: 9:00 - loss: 0.1991 - accuracy: 0.93 - ETA: 8:59 - loss: 0.1990 - accuracy: 0.93 - ETA: 8:59 - loss: 0.1990 - accuracy: 0.93 - ETA: 8:59 - loss: 0.1990 - accuracy: 0.93 - ETA: 8:58 - loss: 0.1990 - accuracy: 0.93 - ETA: 8:58 - loss: 0.1991 - accuracy: 0.93 - ETA: 8:57 - loss: 0.1991 - accuracy: 0.93 - ETA: 8:57 - loss: 0.1990 - accuracy: 0.93 - ETA: 8:56 - loss: 0.1991 - accuracy: 0.93 - ETA: 8:56 - loss: 0.1991 - accuracy: 0.93 - ETA: 8:55 - loss: 0.1991 - accuracy: 0.93 - ETA: 8:55 - loss: 0.1991 - accuracy: 0.93 - ETA: 8:54 - loss: 0.1991 - accuracy: 0.93 - ETA: 8:53 - loss: 0.1993 - accuracy: 0.93 - ETA: 8:53 - loss: 0.1993 - accuracy: 0.93 - ETA: 8:52 - loss: 0.1994 - accuracy: 0.93 - ETA: 8:52 - loss: 0.1994 - accuracy: 0.93 - ETA: 8:51 - loss: 0.1995 - accuracy: 0.93 - ETA: 8:51 - loss: 0.1994 - accuracy: 0.93 - ETA: 8:50 - loss: 0.1995 - accuracy: 0.93 - ETA: 8:50 - loss: 0.1995 - accuracy: 0.93 - ETA: 8:49 - loss: 0.1995 - accuracy: 0.93 - ETA: 8:49 - loss: 0.1995 - accuracy: 0.93 - ETA: 8:48 - loss: 0.1995 - accuracy: 0.93 - ETA: 8:48 - loss: 0.1995 - accuracy: 0.93 - ETA: 8:47 - loss: 0.1994 - accuracy: 0.93 - ETA: 8:47 - loss: 0.1993 - accuracy: 0.93 - ETA: 8:46 - loss: 0.1992 - accuracy: 0.93 - ETA: 8:46 - loss: 0.1994 - accuracy: 0.93 - ETA: 8:45 - loss: 0.1993 - accuracy: 0.93 - ETA: 8:45 - loss: 0.1993 - accuracy: 0.93 - ETA: 8:45 - loss: 0.1994 - accuracy: 0.93 - ETA: 8:44 - loss: 0.1994 - accuracy: 0.93 - ETA: 8:44 - loss: 0.1994 - accuracy: 0.93 - ETA: 8:43 - loss: 0.1995 - accuracy: 0.93 - ETA: 8:43 - loss: 0.1996 - accuracy: 0.93 - ETA: 8:42 - loss: 0.1996 - accuracy: 0.93 - ETA: 8:42 - loss: 0.1996 - accuracy: 0.93 - ETA: 8:41 - loss: 0.1996 - accuracy: 0.93 - ETA: 8:41 - loss: 0.1995 - accuracy: 0.93 - ETA: 8:41 - loss: 0.1996 - accuracy: 0.93 - ETA: 8:40 - loss: 0.1996 - accuracy: 0.93 - ETA: 8:40 - loss: 0.1996 - accuracy: 0.93 - ETA: 8:39 - loss: 0.1996 - accuracy: 0.93 - ETA: 8:39 - loss: 0.1996 - accuracy: 0.93 - ETA: 8:38 - loss: 0.1996 - accuracy: 0.93 - ETA: 8:38 - loss: 0.1996 - accuracy: 0.93 - ETA: 8:37 - loss: 0.1996 - accuracy: 0.93 - ETA: 8:37 - loss: 0.1996 - accuracy: 0.93 - ETA: 8:36 - loss: 0.1996 - accuracy: 0.93 - ETA: 8:36 - loss: 0.1996 - accuracy: 0.93 - ETA: 8:35 - loss: 0.1996 - accuracy: 0.93 - ETA: 8:34 - loss: 0.1995 - accuracy: 0.93 - ETA: 8:34 - loss: 0.1995 - accuracy: 0.93 - ETA: 8:33 - loss: 0.1995 - accuracy: 0.93 - ETA: 8:33 - loss: 0.1995 - accuracy: 0.93 - ETA: 8:32 - loss: 0.1997 - accuracy: 0.93 - ETA: 8:31 - loss: 0.1996 - accuracy: 0.93 - ETA: 8:31 - loss: 0.1996 - accuracy: 0.93 - ETA: 8:30 - loss: 0.1996 - accuracy: 0.93 - ETA: 8:30 - loss: 0.1995 - accuracy: 0.93 - ETA: 8:29 - loss: 0.1995 - accuracy: 0.93 - ETA: 8:28 - loss: 0.1995 - accuracy: 0.93 - ETA: 8:28 - loss: 0.1996 - accuracy: 0.93 - ETA: 8:27 - loss: 0.1996 - accuracy: 0.93 - ETA: 8:27 - loss: 0.1996 - accuracy: 0.93 - ETA: 8:26 - loss: 0.1996 - accuracy: 0.93 - ETA: 8:26 - loss: 0.1998 - accuracy: 0.93 - ETA: 8:25 - loss: 0.1997 - accuracy: 0.93 - ETA: 8:25 - loss: 0.1996 - accuracy: 0.93 - ETA: 8:24 - loss: 0.1996 - accuracy: 0.93 - ETA: 8:24 - loss: 0.1997 - accuracy: 0.93 - ETA: 8:23 - loss: 0.1996 - accuracy: 0.93 - ETA: 8:23 - loss: 0.1996 - accuracy: 0.93 - ETA: 8:22 - loss: 0.1995 - accuracy: 0.93 - ETA: 8:22 - loss: 0.1996 - accuracy: 0.93 - ETA: 8:21 - loss: 0.1997 - accuracy: 0.93 - ETA: 8:20 - loss: 0.1996 - accuracy: 0.93 - ETA: 8:20 - loss: 0.1996 - accuracy: 0.93 - ETA: 8:19 - loss: 0.1996 - accuracy: 0.93 - ETA: 8:19 - loss: 0.1995 - accuracy: 0.93 - ETA: 8:18 - loss: 0.1995 - accuracy: 0.93 - ETA: 8:17 - loss: 0.1995 - accuracy: 0.93 - ETA: 8:17 - loss: 0.1995 - accuracy: 0.93 - ETA: 8:16 - loss: 0.1996 - accuracy: 0.93 - ETA: 8:16 - loss: 0.1995 - accuracy: 0.93 - ETA: 8:15 - loss: 0.1995 - accuracy: 0.93 - ETA: 8:15 - loss: 0.1995 - accuracy: 0.93 - ETA: 8:15 - loss: 0.1994 - accuracy: 0.93 - ETA: 8:14 - loss: 0.1995 - accuracy: 0.93 - ETA: 8:14 - loss: 0.1995 - accuracy: 0.93 - ETA: 8:13 - loss: 0.1995 - accuracy: 0.93 - ETA: 8:13 - loss: 0.1995 - accuracy: 0.93 - ETA: 8:13 - loss: 0.1996 - accuracy: 0.93 - ETA: 8:12 - loss: 0.1996 - accuracy: 0.93 - ETA: 8:12 - loss: 0.1995 - accuracy: 0.93 - ETA: 8:11 - loss: 0.1996 - accuracy: 0.93 - ETA: 8:11 - loss: 0.1996 - accuracy: 0.93 - ETA: 8:10 - loss: 0.1996 - accuracy: 0.93 - ETA: 8:10 - loss: 0.1995 - accuracy: 0.93 - ETA: 8:09 - loss: 0.1994 - accuracy: 0.93 - ETA: 8:09 - loss: 0.1995 - accuracy: 0.93 - ETA: 8:09 - loss: 0.1995 - accuracy: 0.93 - ETA: 8:08 - loss: 0.1994 - accuracy: 0.93 - ETA: 8:08 - loss: 0.1995 - accuracy: 0.93 - ETA: 8:07 - loss: 0.1995 - accuracy: 0.93 - ETA: 8:06 - loss: 0.1995 - accuracy: 0.93 - ETA: 8:06 - loss: 0.1994 - accuracy: 0.93 - ETA: 8:06 - loss: 0.1994 - accuracy: 0.93 - ETA: 8:05 - loss: 0.1993 - accuracy: 0.93 - ETA: 8:05 - loss: 0.1992 - accuracy: 0.93 - ETA: 8:04 - loss: 0.1992 - accuracy: 0.93 - ETA: 8:04 - loss: 0.1992 - accuracy: 0.93 - ETA: 8:03 - loss: 0.1992 - accuracy: 0.93 - ETA: 8:02 - loss: 0.1994 - accuracy: 0.93 - ETA: 8:02 - loss: 0.1993 - accuracy: 0.93 - ETA: 8:01 - loss: 0.1995 - accuracy: 0.93 - ETA: 8:01 - loss: 0.1994 - accuracy: 0.93 - ETA: 8:01 - loss: 0.1995 - accuracy: 0.93 - ETA: 8:00 - loss: 0.1995 - accuracy: 0.93 - ETA: 8:00 - loss: 0.1996 - accuracy: 0.93 - ETA: 7:59 - loss: 0.1996 - accuracy: 0.93 - ETA: 7:59 - loss: 0.1996 - accuracy: 0.93 - ETA: 7:58 - loss: 0.1996 - accuracy: 0.93 - ETA: 7:58 - loss: 0.1996 - accuracy: 0.93 - ETA: 7:57 - loss: 0.1996 - accuracy: 0.93 - ETA: 7:57 - loss: 0.1995 - accuracy: 0.93 - ETA: 7:56 - loss: 0.1995 - accuracy: 0.93 - ETA: 7:56 - loss: 0.1994 - accuracy: 0.93 - ETA: 7:55 - loss: 0.1994 - accuracy: 0.93 - ETA: 7:54 - loss: 0.1994 - accuracy: 0.93 - ETA: 7:54 - loss: 0.1994 - accuracy: 0.93 - ETA: 7:53 - loss: 0.1994 - accuracy: 0.93 - ETA: 7:53 - loss: 0.1993 - accuracy: 0.93 - ETA: 7:52 - loss: 0.1994 - accuracy: 0.93 - ETA: 7:51 - loss: 0.1993 - accuracy: 0.93 - ETA: 7:51 - loss: 0.1993 - accuracy: 0.93 - ETA: 7:50 - loss: 0.1993 - accuracy: 0.93 - ETA: 7:49 - loss: 0.1993 - accuracy: 0.93 - ETA: 7:49 - loss: 0.1993 - accuracy: 0.93 - ETA: 7:48 - loss: 0.1993 - accuracy: 0.93 - ETA: 7:48 - loss: 0.1992 - accuracy: 0.93 - ETA: 7:47 - loss: 0.1991 - accuracy: 0.93 - ETA: 7:46 - loss: 0.1992 - accuracy: 0.93 - ETA: 7:46 - loss: 0.1991 - accuracy: 0.93 - ETA: 7:45 - loss: 0.1990 - accuracy: 0.93 - ETA: 7:45 - loss: 0.1990 - accuracy: 0.93 - ETA: 7:44 - loss: 0.1990 - accuracy: 0.93 - ETA: 7:43 - loss: 0.1990 - accuracy: 0.9360103680/140454 [=====================>........] - ETA: 7:43 - loss: 0.1989 - accuracy: 0.93 - ETA: 7:42 - loss: 0.1989 - accuracy: 0.93 - ETA: 7:42 - loss: 0.1988 - accuracy: 0.93 - ETA: 7:41 - loss: 0.1989 - accuracy: 0.93 - ETA: 7:40 - loss: 0.1988 - accuracy: 0.93 - ETA: 7:40 - loss: 0.1989 - accuracy: 0.93 - ETA: 7:39 - loss: 0.1989 - accuracy: 0.93 - ETA: 7:39 - loss: 0.1990 - accuracy: 0.93 - ETA: 7:38 - loss: 0.1989 - accuracy: 0.93 - ETA: 7:37 - loss: 0.1989 - accuracy: 0.93 - ETA: 7:37 - loss: 0.1989 - accuracy: 0.93 - ETA: 7:36 - loss: 0.1988 - accuracy: 0.93 - ETA: 7:35 - loss: 0.1989 - accuracy: 0.93 - ETA: 7:35 - loss: 0.1988 - accuracy: 0.93 - ETA: 7:34 - loss: 0.1988 - accuracy: 0.93 - ETA: 7:34 - loss: 0.1988 - accuracy: 0.93 - ETA: 7:33 - loss: 0.1987 - accuracy: 0.93 - ETA: 7:32 - loss: 0.1987 - accuracy: 0.93 - ETA: 7:32 - loss: 0.1987 - accuracy: 0.93 - ETA: 7:31 - loss: 0.1987 - accuracy: 0.93 - ETA: 7:31 - loss: 0.1986 - accuracy: 0.93 - ETA: 7:30 - loss: 0.1985 - accuracy: 0.93 - ETA: 7:29 - loss: 0.1986 - accuracy: 0.93 - ETA: 7:29 - loss: 0.1987 - accuracy: 0.93 - ETA: 7:28 - loss: 0.1987 - accuracy: 0.93 - ETA: 7:28 - loss: 0.1987 - accuracy: 0.93 - ETA: 7:27 - loss: 0.1986 - accuracy: 0.93 - ETA: 7:26 - loss: 0.1986 - accuracy: 0.93 - ETA: 7:26 - loss: 0.1986 - accuracy: 0.93 - ETA: 7:25 - loss: 0.1985 - accuracy: 0.93 - ETA: 7:24 - loss: 0.1985 - accuracy: 0.93 - ETA: 7:24 - loss: 0.1984 - accuracy: 0.93 - ETA: 7:23 - loss: 0.1984 - accuracy: 0.93 - ETA: 7:23 - loss: 0.1984 - accuracy: 0.93 - ETA: 7:22 - loss: 0.1984 - accuracy: 0.93 - ETA: 7:21 - loss: 0.1984 - accuracy: 0.93 - ETA: 7:21 - loss: 0.1984 - accuracy: 0.93 - ETA: 7:20 - loss: 0.1984 - accuracy: 0.93 - ETA: 7:20 - loss: 0.1985 - accuracy: 0.93 - ETA: 7:19 - loss: 0.1984 - accuracy: 0.93 - ETA: 7:18 - loss: 0.1983 - accuracy: 0.93 - ETA: 7:18 - loss: 0.1984 - accuracy: 0.93 - ETA: 7:17 - loss: 0.1984 - accuracy: 0.93 - ETA: 7:16 - loss: 0.1986 - accuracy: 0.93 - ETA: 7:16 - loss: 0.1985 - accuracy: 0.93 - ETA: 7:15 - loss: 0.1984 - accuracy: 0.93 - ETA: 7:15 - loss: 0.1983 - accuracy: 0.93 - ETA: 7:14 - loss: 0.1983 - accuracy: 0.93 - ETA: 7:13 - loss: 0.1984 - accuracy: 0.93 - ETA: 7:13 - loss: 0.1984 - accuracy: 0.93 - ETA: 7:12 - loss: 0.1983 - accuracy: 0.93 - ETA: 7:12 - loss: 0.1983 - accuracy: 0.93 - ETA: 7:11 - loss: 0.1984 - accuracy: 0.93 - ETA: 7:10 - loss: 0.1983 - accuracy: 0.93 - ETA: 7:10 - loss: 0.1984 - accuracy: 0.93 - ETA: 7:09 - loss: 0.1984 - accuracy: 0.93 - ETA: 7:08 - loss: 0.1985 - accuracy: 0.93 - ETA: 7:08 - loss: 0.1987 - accuracy: 0.93 - ETA: 7:07 - loss: 0.1986 - accuracy: 0.93 - ETA: 7:07 - loss: 0.1986 - accuracy: 0.93 - ETA: 7:06 - loss: 0.1986 - accuracy: 0.93 - ETA: 7:05 - loss: 0.1985 - accuracy: 0.93 - ETA: 7:05 - loss: 0.1985 - accuracy: 0.93 - ETA: 7:04 - loss: 0.1984 - accuracy: 0.93 - ETA: 7:04 - loss: 0.1985 - accuracy: 0.93 - ETA: 7:03 - loss: 0.1984 - accuracy: 0.93 - ETA: 7:02 - loss: 0.1985 - accuracy: 0.93 - ETA: 7:02 - loss: 0.1984 - accuracy: 0.93 - ETA: 7:01 - loss: 0.1984 - accuracy: 0.93 - ETA: 7:01 - loss: 0.1984 - accuracy: 0.93 - ETA: 7:00 - loss: 0.1984 - accuracy: 0.93 - ETA: 6:59 - loss: 0.1984 - accuracy: 0.93 - ETA: 6:59 - loss: 0.1983 - accuracy: 0.93 - ETA: 6:58 - loss: 0.1984 - accuracy: 0.93 - ETA: 6:57 - loss: 0.1984 - accuracy: 0.93 - ETA: 6:57 - loss: 0.1983 - accuracy: 0.93 - ETA: 6:56 - loss: 0.1983 - accuracy: 0.93 - ETA: 6:56 - loss: 0.1984 - accuracy: 0.93 - ETA: 6:55 - loss: 0.1984 - accuracy: 0.93 - ETA: 6:54 - loss: 0.1983 - accuracy: 0.93 - ETA: 6:54 - loss: 0.1983 - accuracy: 0.93 - ETA: 6:53 - loss: 0.1984 - accuracy: 0.93 - ETA: 6:53 - loss: 0.1985 - accuracy: 0.93 - ETA: 6:52 - loss: 0.1985 - accuracy: 0.93 - ETA: 6:51 - loss: 0.1984 - accuracy: 0.93 - ETA: 6:51 - loss: 0.1984 - accuracy: 0.93 - ETA: 6:50 - loss: 0.1984 - accuracy: 0.93 - ETA: 6:49 - loss: 0.1983 - accuracy: 0.93 - ETA: 6:49 - loss: 0.1983 - accuracy: 0.93 - ETA: 6:48 - loss: 0.1983 - accuracy: 0.93 - ETA: 6:48 - loss: 0.1983 - accuracy: 0.93 - ETA: 6:47 - loss: 0.1983 - accuracy: 0.93 - ETA: 6:46 - loss: 0.1984 - accuracy: 0.93 - ETA: 6:46 - loss: 0.1983 - accuracy: 0.93 - ETA: 6:45 - loss: 0.1982 - accuracy: 0.93 - ETA: 6:44 - loss: 0.1982 - accuracy: 0.93 - ETA: 6:44 - loss: 0.1981 - accuracy: 0.93 - ETA: 6:43 - loss: 0.1981 - accuracy: 0.93 - ETA: 6:43 - loss: 0.1981 - accuracy: 0.93 - ETA: 6:42 - loss: 0.1981 - accuracy: 0.93 - ETA: 6:42 - loss: 0.1980 - accuracy: 0.93 - ETA: 6:41 - loss: 0.1979 - accuracy: 0.93 - ETA: 6:40 - loss: 0.1979 - accuracy: 0.93 - ETA: 6:40 - loss: 0.1978 - accuracy: 0.93 - ETA: 6:39 - loss: 0.1978 - accuracy: 0.93 - ETA: 6:38 - loss: 0.1977 - accuracy: 0.93 - ETA: 6:38 - loss: 0.1977 - accuracy: 0.93 - ETA: 6:37 - loss: 0.1977 - accuracy: 0.93 - ETA: 6:37 - loss: 0.1977 - accuracy: 0.93 - ETA: 6:36 - loss: 0.1977 - accuracy: 0.93 - ETA: 6:35 - loss: 0.1977 - accuracy: 0.93 - ETA: 6:35 - loss: 0.1977 - accuracy: 0.93 - ETA: 6:34 - loss: 0.1977 - accuracy: 0.93 - ETA: 6:34 - loss: 0.1977 - accuracy: 0.93 - ETA: 6:33 - loss: 0.1977 - accuracy: 0.93 - ETA: 6:32 - loss: 0.1976 - accuracy: 0.93 - ETA: 6:32 - loss: 0.1977 - accuracy: 0.93 - ETA: 6:31 - loss: 0.1976 - accuracy: 0.93 - ETA: 6:31 - loss: 0.1976 - accuracy: 0.93 - ETA: 6:30 - loss: 0.1975 - accuracy: 0.93 - ETA: 6:29 - loss: 0.1975 - accuracy: 0.93 - ETA: 6:29 - loss: 0.1975 - accuracy: 0.93 - ETA: 6:28 - loss: 0.1975 - accuracy: 0.93 - ETA: 6:27 - loss: 0.1974 - accuracy: 0.93 - ETA: 6:27 - loss: 0.1974 - accuracy: 0.93 - ETA: 6:26 - loss: 0.1974 - accuracy: 0.93 - ETA: 6:26 - loss: 0.1974 - accuracy: 0.93 - ETA: 6:25 - loss: 0.1973 - accuracy: 0.93 - ETA: 6:25 - loss: 0.1973 - accuracy: 0.93 - ETA: 6:24 - loss: 0.1973 - accuracy: 0.93 - ETA: 6:23 - loss: 0.1973 - accuracy: 0.93 - ETA: 6:23 - loss: 0.1973 - accuracy: 0.93 - ETA: 6:22 - loss: 0.1973 - accuracy: 0.93 - ETA: 6:22 - loss: 0.1972 - accuracy: 0.93 - ETA: 6:21 - loss: 0.1972 - accuracy: 0.93 - ETA: 6:20 - loss: 0.1973 - accuracy: 0.93 - ETA: 6:20 - loss: 0.1972 - accuracy: 0.93 - ETA: 6:19 - loss: 0.1972 - accuracy: 0.93 - ETA: 6:19 - loss: 0.1971 - accuracy: 0.93 - ETA: 6:18 - loss: 0.1972 - accuracy: 0.93 - ETA: 6:17 - loss: 0.1971 - accuracy: 0.93 - ETA: 6:17 - loss: 0.1971 - accuracy: 0.93 - ETA: 6:16 - loss: 0.1971 - accuracy: 0.93 - ETA: 6:16 - loss: 0.1971 - accuracy: 0.93 - ETA: 6:15 - loss: 0.1971 - accuracy: 0.93 - ETA: 6:14 - loss: 0.1970 - accuracy: 0.93 - ETA: 6:14 - loss: 0.1970 - accuracy: 0.93 - ETA: 6:13 - loss: 0.1969 - accuracy: 0.93 - ETA: 6:12 - loss: 0.1970 - accuracy: 0.93 - ETA: 6:12 - loss: 0.1969 - accuracy: 0.93 - ETA: 6:11 - loss: 0.1969 - accuracy: 0.93 - ETA: 6:11 - loss: 0.1970 - accuracy: 0.93 - ETA: 6:10 - loss: 0.1970 - accuracy: 0.93 - ETA: 6:09 - loss: 0.1970 - accuracy: 0.93 - ETA: 6:09 - loss: 0.1969 - accuracy: 0.93 - ETA: 6:08 - loss: 0.1969 - accuracy: 0.93 - ETA: 6:08 - loss: 0.1969 - accuracy: 0.93 - ETA: 6:07 - loss: 0.1969 - accuracy: 0.93 - ETA: 6:06 - loss: 0.1969 - accuracy: 0.93 - ETA: 6:06 - loss: 0.1969 - accuracy: 0.93 - ETA: 6:05 - loss: 0.1969 - accuracy: 0.93 - ETA: 6:05 - loss: 0.1969 - accuracy: 0.93 - ETA: 6:04 - loss: 0.1968 - accuracy: 0.93 - ETA: 6:03 - loss: 0.1970 - accuracy: 0.93 - ETA: 6:03 - loss: 0.1969 - accuracy: 0.93 - ETA: 6:02 - loss: 0.1969 - accuracy: 0.93 - ETA: 6:01 - loss: 0.1969 - accuracy: 0.93 - ETA: 6:01 - loss: 0.1969 - accuracy: 0.93 - ETA: 6:00 - loss: 0.1969 - accuracy: 0.93 - ETA: 6:00 - loss: 0.1968 - accuracy: 0.93 - ETA: 5:59 - loss: 0.1968 - accuracy: 0.93 - ETA: 5:58 - loss: 0.1967 - accuracy: 0.93 - ETA: 5:58 - loss: 0.1968 - accuracy: 0.93 - ETA: 5:57 - loss: 0.1967 - accuracy: 0.93 - ETA: 5:57 - loss: 0.1968 - accuracy: 0.93 - ETA: 5:56 - loss: 0.1968 - accuracy: 0.93 - ETA: 5:55 - loss: 0.1967 - accuracy: 0.93 - ETA: 5:55 - loss: 0.1968 - accuracy: 0.93 - ETA: 5:54 - loss: 0.1967 - accuracy: 0.93 - ETA: 5:54 - loss: 0.1967 - accuracy: 0.93 - ETA: 5:53 - loss: 0.1967 - accuracy: 0.93 - ETA: 5:52 - loss: 0.1968 - accuracy: 0.93 - ETA: 5:52 - loss: 0.1968 - accuracy: 0.93 - ETA: 5:51 - loss: 0.1968 - accuracy: 0.93 - ETA: 5:50 - loss: 0.1968 - accuracy: 0.93 - ETA: 5:50 - loss: 0.1968 - accuracy: 0.9367115584/140454 [=======================>......] - ETA: 5:49 - loss: 0.1968 - accuracy: 0.93 - ETA: 5:49 - loss: 0.1967 - accuracy: 0.93 - ETA: 5:48 - loss: 0.1967 - accuracy: 0.93 - ETA: 5:47 - loss: 0.1967 - accuracy: 0.93 - ETA: 5:47 - loss: 0.1967 - accuracy: 0.93 - ETA: 5:46 - loss: 0.1967 - accuracy: 0.93 - ETA: 5:46 - loss: 0.1966 - accuracy: 0.93 - ETA: 5:45 - loss: 0.1966 - accuracy: 0.93 - ETA: 5:44 - loss: 0.1966 - accuracy: 0.93 - ETA: 5:44 - loss: 0.1965 - accuracy: 0.93 - ETA: 5:43 - loss: 0.1965 - accuracy: 0.93 - ETA: 5:42 - loss: 0.1965 - accuracy: 0.93 - ETA: 5:42 - loss: 0.1965 - accuracy: 0.93 - ETA: 5:41 - loss: 0.1966 - accuracy: 0.93 - ETA: 5:41 - loss: 0.1966 - accuracy: 0.93 - ETA: 5:40 - loss: 0.1965 - accuracy: 0.93 - ETA: 5:39 - loss: 0.1965 - accuracy: 0.93 - ETA: 5:39 - loss: 0.1965 - accuracy: 0.93 - ETA: 5:38 - loss: 0.1965 - accuracy: 0.93 - ETA: 5:38 - loss: 0.1965 - accuracy: 0.93 - ETA: 5:37 - loss: 0.1964 - accuracy: 0.93 - ETA: 5:36 - loss: 0.1964 - accuracy: 0.93 - ETA: 5:36 - loss: 0.1964 - accuracy: 0.93 - ETA: 5:35 - loss: 0.1964 - accuracy: 0.93 - ETA: 5:35 - loss: 0.1964 - accuracy: 0.93 - ETA: 5:34 - loss: 0.1964 - accuracy: 0.93 - ETA: 5:33 - loss: 0.1964 - accuracy: 0.93 - ETA: 5:33 - loss: 0.1964 - accuracy: 0.93 - ETA: 5:32 - loss: 0.1964 - accuracy: 0.93 - ETA: 5:31 - loss: 0.1963 - accuracy: 0.93 - ETA: 5:31 - loss: 0.1963 - accuracy: 0.93 - ETA: 5:30 - loss: 0.1963 - accuracy: 0.93 - ETA: 5:30 - loss: 0.1963 - accuracy: 0.93 - ETA: 5:29 - loss: 0.1963 - accuracy: 0.93 - ETA: 5:28 - loss: 0.1962 - accuracy: 0.93 - ETA: 5:28 - loss: 0.1962 - accuracy: 0.93 - ETA: 5:27 - loss: 0.1962 - accuracy: 0.93 - ETA: 5:27 - loss: 0.1963 - accuracy: 0.93 - ETA: 5:26 - loss: 0.1962 - accuracy: 0.93 - ETA: 5:25 - loss: 0.1962 - accuracy: 0.93 - ETA: 5:25 - loss: 0.1962 - accuracy: 0.93 - ETA: 5:24 - loss: 0.1962 - accuracy: 0.93 - ETA: 5:24 - loss: 0.1962 - accuracy: 0.93 - ETA: 5:23 - loss: 0.1962 - accuracy: 0.93 - ETA: 5:22 - loss: 0.1962 - accuracy: 0.93 - ETA: 5:22 - loss: 0.1963 - accuracy: 0.93 - ETA: 5:21 - loss: 0.1963 - accuracy: 0.93 - ETA: 5:20 - loss: 0.1962 - accuracy: 0.93 - ETA: 5:20 - loss: 0.1963 - accuracy: 0.93 - ETA: 5:19 - loss: 0.1962 - accuracy: 0.93 - ETA: 5:19 - loss: 0.1963 - accuracy: 0.93 - ETA: 5:18 - loss: 0.1963 - accuracy: 0.93 - ETA: 5:17 - loss: 0.1964 - accuracy: 0.93 - ETA: 5:17 - loss: 0.1964 - accuracy: 0.93 - ETA: 5:16 - loss: 0.1965 - accuracy: 0.93 - ETA: 5:16 - loss: 0.1964 - accuracy: 0.93 - ETA: 5:15 - loss: 0.1966 - accuracy: 0.93 - ETA: 5:14 - loss: 0.1966 - accuracy: 0.93 - ETA: 5:14 - loss: 0.1966 - accuracy: 0.93 - ETA: 5:13 - loss: 0.1965 - accuracy: 0.93 - ETA: 5:12 - loss: 0.1964 - accuracy: 0.93 - ETA: 5:12 - loss: 0.1965 - accuracy: 0.93 - ETA: 5:11 - loss: 0.1964 - accuracy: 0.93 - ETA: 5:11 - loss: 0.1965 - accuracy: 0.93 - ETA: 5:10 - loss: 0.1964 - accuracy: 0.93 - ETA: 5:09 - loss: 0.1963 - accuracy: 0.93 - ETA: 5:09 - loss: 0.1963 - accuracy: 0.93 - ETA: 5:08 - loss: 0.1963 - accuracy: 0.93 - ETA: 5:08 - loss: 0.1963 - accuracy: 0.93 - ETA: 5:07 - loss: 0.1964 - accuracy: 0.93 - ETA: 5:06 - loss: 0.1964 - accuracy: 0.93 - ETA: 5:06 - loss: 0.1963 - accuracy: 0.93 - ETA: 5:05 - loss: 0.1963 - accuracy: 0.93 - ETA: 5:05 - loss: 0.1963 - accuracy: 0.93 - ETA: 5:04 - loss: 0.1963 - accuracy: 0.93 - ETA: 5:03 - loss: 0.1963 - accuracy: 0.93 - ETA: 5:03 - loss: 0.1963 - accuracy: 0.93 - ETA: 5:02 - loss: 0.1962 - accuracy: 0.93 - ETA: 5:01 - loss: 0.1962 - accuracy: 0.93 - ETA: 5:01 - loss: 0.1962 - accuracy: 0.93 - ETA: 5:00 - loss: 0.1961 - accuracy: 0.93 - ETA: 5:00 - loss: 0.1960 - accuracy: 0.93 - ETA: 4:59 - loss: 0.1960 - accuracy: 0.93 - ETA: 4:58 - loss: 0.1961 - accuracy: 0.93 - ETA: 4:58 - loss: 0.1962 - accuracy: 0.93 - ETA: 4:57 - loss: 0.1962 - accuracy: 0.93 - ETA: 4:57 - loss: 0.1962 - accuracy: 0.93 - ETA: 4:56 - loss: 0.1963 - accuracy: 0.93 - ETA: 4:55 - loss: 0.1963 - accuracy: 0.93 - ETA: 4:55 - loss: 0.1963 - accuracy: 0.93 - ETA: 4:54 - loss: 0.1963 - accuracy: 0.93 - ETA: 4:54 - loss: 0.1962 - accuracy: 0.93 - ETA: 4:53 - loss: 0.1962 - accuracy: 0.93 - ETA: 4:52 - loss: 0.1962 - accuracy: 0.93 - ETA: 4:52 - loss: 0.1962 - accuracy: 0.93 - ETA: 4:51 - loss: 0.1963 - accuracy: 0.93 - ETA: 4:51 - loss: 0.1962 - accuracy: 0.93 - ETA: 4:50 - loss: 0.1962 - accuracy: 0.93 - ETA: 4:49 - loss: 0.1961 - accuracy: 0.93 - ETA: 4:49 - loss: 0.1962 - accuracy: 0.93 - ETA: 4:48 - loss: 0.1962 - accuracy: 0.93 - ETA: 4:47 - loss: 0.1961 - accuracy: 0.93 - ETA: 4:47 - loss: 0.1961 - accuracy: 0.93 - ETA: 4:46 - loss: 0.1960 - accuracy: 0.93 - ETA: 4:46 - loss: 0.1960 - accuracy: 0.93 - ETA: 4:45 - loss: 0.1960 - accuracy: 0.93 - ETA: 4:44 - loss: 0.1960 - accuracy: 0.93 - ETA: 4:44 - loss: 0.1959 - accuracy: 0.93 - ETA: 4:43 - loss: 0.1959 - accuracy: 0.93 - ETA: 4:43 - loss: 0.1961 - accuracy: 0.93 - ETA: 4:42 - loss: 0.1961 - accuracy: 0.93 - ETA: 4:41 - loss: 0.1961 - accuracy: 0.93 - ETA: 4:41 - loss: 0.1961 - accuracy: 0.93 - ETA: 4:40 - loss: 0.1962 - accuracy: 0.93 - ETA: 4:40 - loss: 0.1961 - accuracy: 0.93 - ETA: 4:39 - loss: 0.1961 - accuracy: 0.93 - ETA: 4:38 - loss: 0.1961 - accuracy: 0.93 - ETA: 4:38 - loss: 0.1961 - accuracy: 0.93 - ETA: 4:37 - loss: 0.1961 - accuracy: 0.93 - ETA: 4:37 - loss: 0.1961 - accuracy: 0.93 - ETA: 4:36 - loss: 0.1961 - accuracy: 0.93 - ETA: 4:35 - loss: 0.1961 - accuracy: 0.93 - ETA: 4:35 - loss: 0.1961 - accuracy: 0.93 - ETA: 4:34 - loss: 0.1960 - accuracy: 0.93 - ETA: 4:34 - loss: 0.1960 - accuracy: 0.93 - ETA: 4:33 - loss: 0.1959 - accuracy: 0.93 - ETA: 4:32 - loss: 0.1959 - accuracy: 0.93 - ETA: 4:32 - loss: 0.1958 - accuracy: 0.93 - ETA: 4:31 - loss: 0.1959 - accuracy: 0.93 - ETA: 4:31 - loss: 0.1959 - accuracy: 0.93 - ETA: 4:30 - loss: 0.1958 - accuracy: 0.93 - ETA: 4:29 - loss: 0.1958 - accuracy: 0.93 - ETA: 4:29 - loss: 0.1959 - accuracy: 0.93 - ETA: 4:28 - loss: 0.1960 - accuracy: 0.93 - ETA: 4:27 - loss: 0.1959 - accuracy: 0.93 - ETA: 4:27 - loss: 0.1959 - accuracy: 0.93 - ETA: 4:26 - loss: 0.1959 - accuracy: 0.93 - ETA: 4:26 - loss: 0.1959 - accuracy: 0.93 - ETA: 4:25 - loss: 0.1959 - accuracy: 0.93 - ETA: 4:24 - loss: 0.1958 - accuracy: 0.93 - ETA: 4:24 - loss: 0.1958 - accuracy: 0.93 - ETA: 4:23 - loss: 0.1958 - accuracy: 0.93 - ETA: 4:23 - loss: 0.1958 - accuracy: 0.93 - ETA: 4:22 - loss: 0.1957 - accuracy: 0.93 - ETA: 4:21 - loss: 0.1957 - accuracy: 0.93 - ETA: 4:21 - loss: 0.1957 - accuracy: 0.93 - ETA: 4:20 - loss: 0.1957 - accuracy: 0.93 - ETA: 4:20 - loss: 0.1957 - accuracy: 0.93 - ETA: 4:19 - loss: 0.1956 - accuracy: 0.93 - ETA: 4:18 - loss: 0.1956 - accuracy: 0.93 - ETA: 4:18 - loss: 0.1956 - accuracy: 0.93 - ETA: 4:17 - loss: 0.1955 - accuracy: 0.93 - ETA: 4:16 - loss: 0.1955 - accuracy: 0.93 - ETA: 4:16 - loss: 0.1955 - accuracy: 0.93 - ETA: 4:15 - loss: 0.1955 - accuracy: 0.93 - ETA: 4:15 - loss: 0.1955 - accuracy: 0.93 - ETA: 4:14 - loss: 0.1955 - accuracy: 0.93 - ETA: 4:13 - loss: 0.1955 - accuracy: 0.93 - ETA: 4:13 - loss: 0.1955 - accuracy: 0.93 - ETA: 4:12 - loss: 0.1954 - accuracy: 0.93 - ETA: 4:12 - loss: 0.1955 - accuracy: 0.93 - ETA: 4:11 - loss: 0.1956 - accuracy: 0.93 - ETA: 4:10 - loss: 0.1956 - accuracy: 0.93 - ETA: 4:10 - loss: 0.1955 - accuracy: 0.93 - ETA: 4:09 - loss: 0.1955 - accuracy: 0.93 - ETA: 4:08 - loss: 0.1955 - accuracy: 0.93 - ETA: 4:08 - loss: 0.1955 - accuracy: 0.93 - ETA: 4:07 - loss: 0.1955 - accuracy: 0.93 - ETA: 4:07 - loss: 0.1955 - accuracy: 0.93 - ETA: 4:06 - loss: 0.1955 - accuracy: 0.93 - ETA: 4:05 - loss: 0.1955 - accuracy: 0.93 - ETA: 4:05 - loss: 0.1955 - accuracy: 0.93 - ETA: 4:04 - loss: 0.1954 - accuracy: 0.93 - ETA: 4:04 - loss: 0.1954 - accuracy: 0.93 - ETA: 4:03 - loss: 0.1954 - accuracy: 0.93 - ETA: 4:02 - loss: 0.1954 - accuracy: 0.93 - ETA: 4:02 - loss: 0.1954 - accuracy: 0.93 - ETA: 4:01 - loss: 0.1954 - accuracy: 0.93 - ETA: 4:01 - loss: 0.1954 - accuracy: 0.93 - ETA: 4:00 - loss: 0.1955 - accuracy: 0.93 - ETA: 3:59 - loss: 0.1955 - accuracy: 0.93 - ETA: 3:59 - loss: 0.1954 - accuracy: 0.93 - ETA: 3:58 - loss: 0.1954 - accuracy: 0.93 - ETA: 3:57 - loss: 0.1954 - accuracy: 0.93 - ETA: 3:57 - loss: 0.1954 - accuracy: 0.93 - ETA: 3:56 - loss: 0.1954 - accuracy: 0.9371127488/140454 [==========================>...] - ETA: 3:56 - loss: 0.1954 - accuracy: 0.93 - ETA: 3:55 - loss: 0.1953 - accuracy: 0.93 - ETA: 3:54 - loss: 0.1953 - accuracy: 0.93 - ETA: 3:54 - loss: 0.1953 - accuracy: 0.93 - ETA: 3:53 - loss: 0.1953 - accuracy: 0.93 - ETA: 3:53 - loss: 0.1953 - accuracy: 0.93 - ETA: 3:52 - loss: 0.1953 - accuracy: 0.93 - ETA: 3:51 - loss: 0.1953 - accuracy: 0.93 - ETA: 3:51 - loss: 0.1953 - accuracy: 0.93 - ETA: 3:50 - loss: 0.1953 - accuracy: 0.93 - ETA: 3:49 - loss: 0.1952 - accuracy: 0.93 - ETA: 3:49 - loss: 0.1952 - accuracy: 0.93 - ETA: 3:48 - loss: 0.1953 - accuracy: 0.93 - ETA: 3:48 - loss: 0.1954 - accuracy: 0.93 - ETA: 3:47 - loss: 0.1954 - accuracy: 0.93 - ETA: 3:46 - loss: 0.1955 - accuracy: 0.93 - ETA: 3:46 - loss: 0.1955 - accuracy: 0.93 - ETA: 3:45 - loss: 0.1954 - accuracy: 0.93 - ETA: 3:45 - loss: 0.1954 - accuracy: 0.93 - ETA: 3:44 - loss: 0.1955 - accuracy: 0.93 - ETA: 3:43 - loss: 0.1954 - accuracy: 0.93 - ETA: 3:43 - loss: 0.1954 - accuracy: 0.93 - ETA: 3:42 - loss: 0.1954 - accuracy: 0.93 - ETA: 3:42 - loss: 0.1954 - accuracy: 0.93 - ETA: 3:41 - loss: 0.1954 - accuracy: 0.93 - ETA: 3:40 - loss: 0.1956 - accuracy: 0.93 - ETA: 3:40 - loss: 0.1956 - accuracy: 0.93 - ETA: 3:39 - loss: 0.1956 - accuracy: 0.93 - ETA: 3:39 - loss: 0.1957 - accuracy: 0.93 - ETA: 3:38 - loss: 0.1956 - accuracy: 0.93 - ETA: 3:37 - loss: 0.1956 - accuracy: 0.93 - ETA: 3:37 - loss: 0.1956 - accuracy: 0.93 - ETA: 3:36 - loss: 0.1955 - accuracy: 0.93 - ETA: 3:36 - loss: 0.1955 - accuracy: 0.93 - ETA: 3:35 - loss: 0.1955 - accuracy: 0.93 - ETA: 3:34 - loss: 0.1955 - accuracy: 0.93 - ETA: 3:34 - loss: 0.1954 - accuracy: 0.93 - ETA: 3:33 - loss: 0.1954 - accuracy: 0.93 - ETA: 3:32 - loss: 0.1954 - accuracy: 0.93 - ETA: 3:32 - loss: 0.1954 - accuracy: 0.93 - ETA: 3:31 - loss: 0.1954 - accuracy: 0.93 - ETA: 3:31 - loss: 0.1955 - accuracy: 0.93 - ETA: 3:30 - loss: 0.1954 - accuracy: 0.93 - ETA: 3:29 - loss: 0.1954 - accuracy: 0.93 - ETA: 3:29 - loss: 0.1954 - accuracy: 0.93 - ETA: 3:28 - loss: 0.1954 - accuracy: 0.93 - ETA: 3:28 - loss: 0.1954 - accuracy: 0.93 - ETA: 3:27 - loss: 0.1954 - accuracy: 0.93 - ETA: 3:26 - loss: 0.1954 - accuracy: 0.93 - ETA: 3:26 - loss: 0.1953 - accuracy: 0.93 - ETA: 3:25 - loss: 0.1954 - accuracy: 0.93 - ETA: 3:24 - loss: 0.1953 - accuracy: 0.93 - ETA: 3:24 - loss: 0.1953 - accuracy: 0.93 - ETA: 3:23 - loss: 0.1953 - accuracy: 0.93 - ETA: 3:23 - loss: 0.1953 - accuracy: 0.93 - ETA: 3:22 - loss: 0.1953 - accuracy: 0.93 - ETA: 3:21 - loss: 0.1953 - accuracy: 0.93 - ETA: 3:21 - loss: 0.1953 - accuracy: 0.93 - ETA: 3:20 - loss: 0.1954 - accuracy: 0.93 - ETA: 3:20 - loss: 0.1954 - accuracy: 0.93 - ETA: 3:19 - loss: 0.1954 - accuracy: 0.93 - ETA: 3:18 - loss: 0.1953 - accuracy: 0.93 - ETA: 3:18 - loss: 0.1953 - accuracy: 0.93 - ETA: 3:17 - loss: 0.1953 - accuracy: 0.93 - ETA: 3:17 - loss: 0.1953 - accuracy: 0.93 - ETA: 3:16 - loss: 0.1953 - accuracy: 0.93 - ETA: 3:15 - loss: 0.1953 - accuracy: 0.93 - ETA: 3:15 - loss: 0.1953 - accuracy: 0.93 - ETA: 3:14 - loss: 0.1954 - accuracy: 0.93 - ETA: 3:13 - loss: 0.1953 - accuracy: 0.93 - ETA: 3:13 - loss: 0.1953 - accuracy: 0.93 - ETA: 3:12 - loss: 0.1953 - accuracy: 0.93 - ETA: 3:12 - loss: 0.1953 - accuracy: 0.93 - ETA: 3:11 - loss: 0.1952 - accuracy: 0.93 - ETA: 3:10 - loss: 0.1952 - accuracy: 0.93 - ETA: 3:10 - loss: 0.1952 - accuracy: 0.93 - ETA: 3:09 - loss: 0.1952 - accuracy: 0.93 - ETA: 3:09 - loss: 0.1952 - accuracy: 0.93 - ETA: 3:08 - loss: 0.1952 - accuracy: 0.93 - ETA: 3:07 - loss: 0.1951 - accuracy: 0.93 - ETA: 3:07 - loss: 0.1951 - accuracy: 0.93 - ETA: 3:06 - loss: 0.1952 - accuracy: 0.93 - ETA: 3:06 - loss: 0.1951 - accuracy: 0.93 - ETA: 3:05 - loss: 0.1951 - accuracy: 0.93 - ETA: 3:04 - loss: 0.1951 - accuracy: 0.93 - ETA: 3:04 - loss: 0.1950 - accuracy: 0.93 - ETA: 3:03 - loss: 0.1950 - accuracy: 0.93 - ETA: 3:03 - loss: 0.1950 - accuracy: 0.93 - ETA: 3:02 - loss: 0.1950 - accuracy: 0.93 - ETA: 3:01 - loss: 0.1950 - accuracy: 0.93 - ETA: 3:01 - loss: 0.1950 - accuracy: 0.93 - ETA: 3:00 - loss: 0.1949 - accuracy: 0.93 - ETA: 3:00 - loss: 0.1950 - accuracy: 0.93 - ETA: 2:59 - loss: 0.1949 - accuracy: 0.93 - ETA: 2:58 - loss: 0.1949 - accuracy: 0.93 - ETA: 2:58 - loss: 0.1949 - accuracy: 0.93 - ETA: 2:57 - loss: 0.1949 - accuracy: 0.93 - ETA: 2:56 - loss: 0.1949 - accuracy: 0.93 - ETA: 2:56 - loss: 0.1949 - accuracy: 0.93 - ETA: 2:55 - loss: 0.1948 - accuracy: 0.93 - ETA: 2:55 - loss: 0.1948 - accuracy: 0.93 - ETA: 2:54 - loss: 0.1948 - accuracy: 0.93 - ETA: 2:53 - loss: 0.1948 - accuracy: 0.93 - ETA: 2:53 - loss: 0.1948 - accuracy: 0.93 - ETA: 2:52 - loss: 0.1948 - accuracy: 0.93 - ETA: 2:52 - loss: 0.1947 - accuracy: 0.93 - ETA: 2:51 - loss: 0.1948 - accuracy: 0.93 - ETA: 2:50 - loss: 0.1947 - accuracy: 0.93 - ETA: 2:50 - loss: 0.1947 - accuracy: 0.93 - ETA: 2:49 - loss: 0.1947 - accuracy: 0.93 - ETA: 2:49 - loss: 0.1947 - accuracy: 0.93 - ETA: 2:48 - loss: 0.1947 - accuracy: 0.93 - ETA: 2:47 - loss: 0.1947 - accuracy: 0.93 - ETA: 2:47 - loss: 0.1946 - accuracy: 0.93 - ETA: 2:46 - loss: 0.1946 - accuracy: 0.93 - ETA: 2:46 - loss: 0.1946 - accuracy: 0.93 - ETA: 2:45 - loss: 0.1946 - accuracy: 0.93 - ETA: 2:44 - loss: 0.1946 - accuracy: 0.93 - ETA: 2:44 - loss: 0.1946 - accuracy: 0.93 - ETA: 2:43 - loss: 0.1946 - accuracy: 0.93 - ETA: 2:42 - loss: 0.1945 - accuracy: 0.93 - ETA: 2:42 - loss: 0.1945 - accuracy: 0.93 - ETA: 2:41 - loss: 0.1945 - accuracy: 0.93 - ETA: 2:41 - loss: 0.1945 - accuracy: 0.93 - ETA: 2:40 - loss: 0.1945 - accuracy: 0.93 - ETA: 2:39 - loss: 0.1945 - accuracy: 0.93 - ETA: 2:39 - loss: 0.1946 - accuracy: 0.93 - ETA: 2:38 - loss: 0.1945 - accuracy: 0.93 - ETA: 2:38 - loss: 0.1946 - accuracy: 0.93 - ETA: 2:37 - loss: 0.1946 - accuracy: 0.93 - ETA: 2:36 - loss: 0.1946 - accuracy: 0.93 - ETA: 2:36 - loss: 0.1945 - accuracy: 0.93 - ETA: 2:35 - loss: 0.1945 - accuracy: 0.93 - ETA: 2:35 - loss: 0.1945 - accuracy: 0.93 - ETA: 2:34 - loss: 0.1945 - accuracy: 0.93 - ETA: 2:33 - loss: 0.1944 - accuracy: 0.93 - ETA: 2:33 - loss: 0.1944 - accuracy: 0.93 - ETA: 2:32 - loss: 0.1944 - accuracy: 0.93 - ETA: 2:32 - loss: 0.1944 - accuracy: 0.93 - ETA: 2:31 - loss: 0.1943 - accuracy: 0.93 - ETA: 2:30 - loss: 0.1944 - accuracy: 0.93 - ETA: 2:30 - loss: 0.1944 - accuracy: 0.93 - ETA: 2:29 - loss: 0.1944 - accuracy: 0.93 - ETA: 2:28 - loss: 0.1944 - accuracy: 0.93 - ETA: 2:28 - loss: 0.1943 - accuracy: 0.93 - ETA: 2:27 - loss: 0.1944 - accuracy: 0.93 - ETA: 2:27 - loss: 0.1944 - accuracy: 0.93 - ETA: 2:26 - loss: 0.1944 - accuracy: 0.93 - ETA: 2:25 - loss: 0.1944 - accuracy: 0.93 - ETA: 2:25 - loss: 0.1944 - accuracy: 0.93 - ETA: 2:24 - loss: 0.1944 - accuracy: 0.93 - ETA: 2:24 - loss: 0.1944 - accuracy: 0.93 - ETA: 2:23 - loss: 0.1944 - accuracy: 0.93 - ETA: 2:22 - loss: 0.1945 - accuracy: 0.93 - ETA: 2:22 - loss: 0.1944 - accuracy: 0.93 - ETA: 2:21 - loss: 0.1944 - accuracy: 0.93 - ETA: 2:21 - loss: 0.1944 - accuracy: 0.93 - ETA: 2:20 - loss: 0.1944 - accuracy: 0.93 - ETA: 2:19 - loss: 0.1944 - accuracy: 0.93 - ETA: 2:19 - loss: 0.1945 - accuracy: 0.93 - ETA: 2:18 - loss: 0.1944 - accuracy: 0.93 - ETA: 2:18 - loss: 0.1944 - accuracy: 0.93 - ETA: 2:17 - loss: 0.1945 - accuracy: 0.93 - ETA: 2:16 - loss: 0.1945 - accuracy: 0.93 - ETA: 2:16 - loss: 0.1945 - accuracy: 0.93 - ETA: 2:15 - loss: 0.1945 - accuracy: 0.93 - ETA: 2:14 - loss: 0.1946 - accuracy: 0.93 - ETA: 2:14 - loss: 0.1946 - accuracy: 0.93 - ETA: 2:13 - loss: 0.1946 - accuracy: 0.93 - ETA: 2:13 - loss: 0.1946 - accuracy: 0.93 - ETA: 2:12 - loss: 0.1946 - accuracy: 0.93 - ETA: 2:11 - loss: 0.1946 - accuracy: 0.93 - ETA: 2:11 - loss: 0.1946 - accuracy: 0.93 - ETA: 2:10 - loss: 0.1945 - accuracy: 0.93 - ETA: 2:10 - loss: 0.1945 - accuracy: 0.93 - ETA: 2:09 - loss: 0.1945 - accuracy: 0.93 - ETA: 2:08 - loss: 0.1945 - accuracy: 0.93 - ETA: 2:08 - loss: 0.1945 - accuracy: 0.93 - ETA: 2:07 - loss: 0.1946 - accuracy: 0.93 - ETA: 2:07 - loss: 0.1947 - accuracy: 0.93 - ETA: 2:06 - loss: 0.1946 - accuracy: 0.93 - ETA: 2:05 - loss: 0.1946 - accuracy: 0.93 - ETA: 2:05 - loss: 0.1946 - accuracy: 0.93 - ETA: 2:04 - loss: 0.1946 - accuracy: 0.93 - ETA: 2:03 - loss: 0.1946 - accuracy: 0.93 - ETA: 2:03 - loss: 0.1946 - accuracy: 0.9373139392/140454 [============================>.] - ETA: 2:02 - loss: 0.1946 - accuracy: 0.93 - ETA: 2:02 - loss: 0.1946 - accuracy: 0.93 - ETA: 2:01 - loss: 0.1946 - accuracy: 0.93 - ETA: 2:00 - loss: 0.1946 - accuracy: 0.93 - ETA: 2:00 - loss: 0.1946 - accuracy: 0.93 - ETA: 1:59 - loss: 0.1947 - accuracy: 0.93 - ETA: 1:59 - loss: 0.1947 - accuracy: 0.93 - ETA: 1:58 - loss: 0.1946 - accuracy: 0.93 - ETA: 1:57 - loss: 0.1946 - accuracy: 0.93 - ETA: 1:57 - loss: 0.1947 - accuracy: 0.93 - ETA: 1:56 - loss: 0.1947 - accuracy: 0.93 - ETA: 1:56 - loss: 0.1946 - accuracy: 0.93 - ETA: 1:55 - loss: 0.1946 - accuracy: 0.93 - ETA: 1:54 - loss: 0.1947 - accuracy: 0.93 - ETA: 1:54 - loss: 0.1947 - accuracy: 0.93 - ETA: 1:53 - loss: 0.1947 - accuracy: 0.93 - ETA: 1:52 - loss: 0.1947 - accuracy: 0.93 - ETA: 1:52 - loss: 0.1947 - accuracy: 0.93 - ETA: 1:51 - loss: 0.1947 - accuracy: 0.93 - ETA: 1:51 - loss: 0.1946 - accuracy: 0.93 - ETA: 1:50 - loss: 0.1946 - accuracy: 0.93 - ETA: 1:49 - loss: 0.1946 - accuracy: 0.93 - ETA: 1:49 - loss: 0.1946 - accuracy: 0.93 - ETA: 1:48 - loss: 0.1945 - accuracy: 0.93 - ETA: 1:48 - loss: 0.1946 - accuracy: 0.93 - ETA: 1:47 - loss: 0.1946 - accuracy: 0.93 - ETA: 1:46 - loss: 0.1945 - accuracy: 0.93 - ETA: 1:46 - loss: 0.1945 - accuracy: 0.93 - ETA: 1:45 - loss: 0.1945 - accuracy: 0.93 - ETA: 1:45 - loss: 0.1945 - accuracy: 0.93 - ETA: 1:44 - loss: 0.1944 - accuracy: 0.93 - ETA: 1:43 - loss: 0.1945 - accuracy: 0.93 - ETA: 1:43 - loss: 0.1945 - accuracy: 0.93 - ETA: 1:42 - loss: 0.1944 - accuracy: 0.93 - ETA: 1:42 - loss: 0.1944 - accuracy: 0.93 - ETA: 1:41 - loss: 0.1944 - accuracy: 0.93 - ETA: 1:40 - loss: 0.1944 - accuracy: 0.93 - ETA: 1:40 - loss: 0.1944 - accuracy: 0.93 - ETA: 1:39 - loss: 0.1944 - accuracy: 0.93 - ETA: 1:38 - loss: 0.1944 - accuracy: 0.93 - ETA: 1:38 - loss: 0.1944 - accuracy: 0.93 - ETA: 1:37 - loss: 0.1945 - accuracy: 0.93 - ETA: 1:37 - loss: 0.1945 - accuracy: 0.93 - ETA: 1:36 - loss: 0.1944 - accuracy: 0.93 - ETA: 1:35 - loss: 0.1944 - accuracy: 0.93 - ETA: 1:35 - loss: 0.1944 - accuracy: 0.93 - ETA: 1:34 - loss: 0.1943 - accuracy: 0.93 - ETA: 1:34 - loss: 0.1943 - accuracy: 0.93 - ETA: 1:33 - loss: 0.1943 - accuracy: 0.93 - ETA: 1:32 - loss: 0.1943 - accuracy: 0.93 - ETA: 1:32 - loss: 0.1943 - accuracy: 0.93 - ETA: 1:31 - loss: 0.1943 - accuracy: 0.93 - ETA: 1:31 - loss: 0.1943 - accuracy: 0.93 - ETA: 1:30 - loss: 0.1942 - accuracy: 0.93 - ETA: 1:29 - loss: 0.1942 - accuracy: 0.93 - ETA: 1:29 - loss: 0.1941 - accuracy: 0.93 - ETA: 1:28 - loss: 0.1941 - accuracy: 0.93 - ETA: 1:28 - loss: 0.1941 - accuracy: 0.93 - ETA: 1:27 - loss: 0.1942 - accuracy: 0.93 - ETA: 1:26 - loss: 0.1942 - accuracy: 0.93 - ETA: 1:26 - loss: 0.1942 - accuracy: 0.93 - ETA: 1:25 - loss: 0.1942 - accuracy: 0.93 - ETA: 1:24 - loss: 0.1941 - accuracy: 0.93 - ETA: 1:24 - loss: 0.1941 - accuracy: 0.93 - ETA: 1:23 - loss: 0.1941 - accuracy: 0.93 - ETA: 1:23 - loss: 0.1941 - accuracy: 0.93 - ETA: 1:22 - loss: 0.1941 - accuracy: 0.93 - ETA: 1:21 - loss: 0.1942 - accuracy: 0.93 - ETA: 1:21 - loss: 0.1942 - accuracy: 0.93 - ETA: 1:20 - loss: 0.1942 - accuracy: 0.93 - ETA: 1:20 - loss: 0.1943 - accuracy: 0.93 - ETA: 1:19 - loss: 0.1943 - accuracy: 0.93 - ETA: 1:18 - loss: 0.1943 - accuracy: 0.93 - ETA: 1:18 - loss: 0.1942 - accuracy: 0.93 - ETA: 1:17 - loss: 0.1942 - accuracy: 0.93 - ETA: 1:17 - loss: 0.1941 - accuracy: 0.93 - ETA: 1:16 - loss: 0.1941 - accuracy: 0.93 - ETA: 1:15 - loss: 0.1941 - accuracy: 0.93 - ETA: 1:15 - loss: 0.1941 - accuracy: 0.93 - ETA: 1:14 - loss: 0.1942 - accuracy: 0.93 - ETA: 1:13 - loss: 0.1943 - accuracy: 0.93 - ETA: 1:13 - loss: 0.1943 - accuracy: 0.93 - ETA: 1:12 - loss: 0.1943 - accuracy: 0.93 - ETA: 1:12 - loss: 0.1943 - accuracy: 0.93 - ETA: 1:11 - loss: 0.1943 - accuracy: 0.93 - ETA: 1:10 - loss: 0.1943 - accuracy: 0.93 - ETA: 1:10 - loss: 0.1942 - accuracy: 0.93 - ETA: 1:09 - loss: 0.1942 - accuracy: 0.93 - ETA: 1:09 - loss: 0.1942 - accuracy: 0.93 - ETA: 1:08 - loss: 0.1942 - accuracy: 0.93 - ETA: 1:07 - loss: 0.1941 - accuracy: 0.93 - ETA: 1:07 - loss: 0.1942 - accuracy: 0.93 - ETA: 1:06 - loss: 0.1942 - accuracy: 0.93 - ETA: 1:06 - loss: 0.1941 - accuracy: 0.93 - ETA: 1:05 - loss: 0.1942 - accuracy: 0.93 - ETA: 1:04 - loss: 0.1941 - accuracy: 0.93 - ETA: 1:04 - loss: 0.1941 - accuracy: 0.93 - ETA: 1:03 - loss: 0.1941 - accuracy: 0.93 - ETA: 1:03 - loss: 0.1940 - accuracy: 0.93 - ETA: 1:02 - loss: 0.1940 - accuracy: 0.93 - ETA: 1:01 - loss: 0.1940 - accuracy: 0.93 - ETA: 1:01 - loss: 0.1940 - accuracy: 0.93 - ETA: 1:00 - loss: 0.1940 - accuracy: 0.93 - ETA: 59s - loss: 0.1940 - accuracy: 0.9375 - ETA: 59s - loss: 0.1941 - accuracy: 0.937 - ETA: 58s - loss: 0.1940 - accuracy: 0.937 - ETA: 58s - loss: 0.1940 - accuracy: 0.937 - ETA: 57s - loss: 0.1940 - accuracy: 0.937 - ETA: 56s - loss: 0.1940 - accuracy: 0.937 - ETA: 56s - loss: 0.1940 - accuracy: 0.937 - ETA: 55s - loss: 0.1940 - accuracy: 0.937 - ETA: 55s - loss: 0.1939 - accuracy: 0.937 - ETA: 54s - loss: 0.1940 - accuracy: 0.937 - ETA: 53s - loss: 0.1939 - accuracy: 0.937 - ETA: 53s - loss: 0.1939 - accuracy: 0.937 - ETA: 52s - loss: 0.1939 - accuracy: 0.937 - ETA: 52s - loss: 0.1938 - accuracy: 0.937 - ETA: 51s - loss: 0.1938 - accuracy: 0.937 - ETA: 50s - loss: 0.1938 - accuracy: 0.937 - ETA: 50s - loss: 0.1938 - accuracy: 0.937 - ETA: 49s - loss: 0.1938 - accuracy: 0.937 - ETA: 49s - loss: 0.1938 - accuracy: 0.937 - ETA: 48s - loss: 0.1938 - accuracy: 0.937 - ETA: 47s - loss: 0.1939 - accuracy: 0.937 - ETA: 47s - loss: 0.1939 - accuracy: 0.937 - ETA: 46s - loss: 0.1939 - accuracy: 0.937 - ETA: 45s - loss: 0.1939 - accuracy: 0.937 - ETA: 45s - loss: 0.1939 - accuracy: 0.937 - ETA: 44s - loss: 0.1939 - accuracy: 0.937 - ETA: 44s - loss: 0.1939 - accuracy: 0.937 - ETA: 43s - loss: 0.1940 - accuracy: 0.937 - ETA: 42s - loss: 0.1939 - accuracy: 0.937 - ETA: 42s - loss: 0.1939 - accuracy: 0.937 - ETA: 41s - loss: 0.1939 - accuracy: 0.937 - ETA: 41s - loss: 0.1940 - accuracy: 0.937 - ETA: 40s - loss: 0.1940 - accuracy: 0.937 - ETA: 39s - loss: 0.1939 - accuracy: 0.937 - ETA: 39s - loss: 0.1939 - accuracy: 0.937 - ETA: 38s - loss: 0.1939 - accuracy: 0.937 - ETA: 38s - loss: 0.1939 - accuracy: 0.937 - ETA: 37s - loss: 0.1939 - accuracy: 0.937 - ETA: 36s - loss: 0.1939 - accuracy: 0.937 - ETA: 36s - loss: 0.1939 - accuracy: 0.937 - ETA: 35s - loss: 0.1939 - accuracy: 0.937 - ETA: 35s - loss: 0.1938 - accuracy: 0.937 - ETA: 34s - loss: 0.1939 - accuracy: 0.937 - ETA: 33s - loss: 0.1938 - accuracy: 0.937 - ETA: 33s - loss: 0.1938 - accuracy: 0.937 - ETA: 32s - loss: 0.1938 - accuracy: 0.937 - ETA: 31s - loss: 0.1939 - accuracy: 0.937 - ETA: 31s - loss: 0.1938 - accuracy: 0.937 - ETA: 30s - loss: 0.1938 - accuracy: 0.937 - ETA: 30s - loss: 0.1939 - accuracy: 0.937 - ETA: 29s - loss: 0.1938 - accuracy: 0.937 - ETA: 28s - loss: 0.1939 - accuracy: 0.937 - ETA: 28s - loss: 0.1939 - accuracy: 0.937 - ETA: 27s - loss: 0.1939 - accuracy: 0.937 - ETA: 27s - loss: 0.1939 - accuracy: 0.937 - ETA: 26s - loss: 0.1939 - accuracy: 0.937 - ETA: 25s - loss: 0.1939 - accuracy: 0.937 - ETA: 25s - loss: 0.1939 - accuracy: 0.937 - ETA: 24s - loss: 0.1939 - accuracy: 0.937 - ETA: 24s - loss: 0.1939 - accuracy: 0.937 - ETA: 23s - loss: 0.1939 - accuracy: 0.937 - ETA: 22s - loss: 0.1938 - accuracy: 0.937 - ETA: 22s - loss: 0.1939 - accuracy: 0.937 - ETA: 21s - loss: 0.1938 - accuracy: 0.937 - ETA: 21s - loss: 0.1939 - accuracy: 0.937 - ETA: 20s - loss: 0.1938 - accuracy: 0.937 - ETA: 19s - loss: 0.1938 - accuracy: 0.937 - ETA: 19s - loss: 0.1939 - accuracy: 0.937 - ETA: 18s - loss: 0.1938 - accuracy: 0.937 - ETA: 18s - loss: 0.1938 - accuracy: 0.937 - ETA: 17s - loss: 0.1939 - accuracy: 0.937 - ETA: 16s - loss: 0.1939 - accuracy: 0.937 - ETA: 16s - loss: 0.1938 - accuracy: 0.937 - ETA: 15s - loss: 0.1939 - accuracy: 0.937 - ETA: 14s - loss: 0.1939 - accuracy: 0.937 - ETA: 14s - loss: 0.1939 - accuracy: 0.937 - ETA: 13s - loss: 0.1939 - accuracy: 0.937 - ETA: 13s - loss: 0.1939 - accuracy: 0.937 - ETA: 12s - loss: 0.1940 - accuracy: 0.937 - ETA: 11s - loss: 0.1940 - accuracy: 0.937 - ETA: 11s - loss: 0.1940 - accuracy: 0.937 - ETA: 10s - loss: 0.1939 - accuracy: 0.937 - ETA: 10s - loss: 0.1939 - accuracy: 0.9373"
     ]
    },
    {
     "name": "stdout",
     "output_type": "stream",
     "text": [
      "140454/140454 [==============================] - ETA: 9s - loss: 0.1940 - accuracy: 0.937 - ETA: 8s - loss: 0.1939 - accuracy: 0.93 - ETA: 8s - loss: 0.1939 - accuracy: 0.93 - ETA: 7s - loss: 0.1939 - accuracy: 0.93 - ETA: 7s - loss: 0.1939 - accuracy: 0.93 - ETA: 6s - loss: 0.1939 - accuracy: 0.93 - ETA: 5s - loss: 0.1939 - accuracy: 0.93 - ETA: 5s - loss: 0.1939 - accuracy: 0.93 - ETA: 4s - loss: 0.1938 - accuracy: 0.93 - ETA: 4s - loss: 0.1939 - accuracy: 0.93 - ETA: 3s - loss: 0.1939 - accuracy: 0.93 - ETA: 2s - loss: 0.1939 - accuracy: 0.93 - ETA: 2s - loss: 0.1938 - accuracy: 0.93 - ETA: 1s - loss: 0.1939 - accuracy: 0.93 - ETA: 0s - loss: 0.1939 - accuracy: 0.93 - ETA: 0s - loss: 0.1938 - accuracy: 0.93 - 1361s 10ms/step - loss: 0.1938 - accuracy: 0.9373 - val_loss: 0.2071 - val_accuracy: 0.9339\n",
      "Epoch 3/5\n",
      " 11392/140454 [=>............................] - ETA: 25:51 - loss: 0.0863 - accuracy: 0.984 - ETA: 26:07 - loss: 0.0654 - accuracy: 0.992 - ETA: 24:58 - loss: 0.1418 - accuracy: 0.974 - ETA: 24:07 - loss: 0.1330 - accuracy: 0.968 - ETA: 23:39 - loss: 0.1410 - accuracy: 0.968 - ETA: 23:18 - loss: 0.1418 - accuracy: 0.966 - ETA: 23:00 - loss: 0.1457 - accuracy: 0.964 - ETA: 22:38 - loss: 0.1360 - accuracy: 0.966 - ETA: 22:29 - loss: 0.1293 - accuracy: 0.968 - ETA: 22:28 - loss: 0.1212 - accuracy: 0.970 - ETA: 22:28 - loss: 0.1190 - accuracy: 0.970 - ETA: 22:23 - loss: 0.1126 - accuracy: 0.972 - ETA: 22:22 - loss: 0.1129 - accuracy: 0.972 - ETA: 22:18 - loss: 0.1131 - accuracy: 0.971 - ETA: 22:10 - loss: 0.1162 - accuracy: 0.969 - ETA: 22:07 - loss: 0.1373 - accuracy: 0.964 - ETA: 22:05 - loss: 0.1367 - accuracy: 0.964 - ETA: 22:03 - loss: 0.1353 - accuracy: 0.963 - ETA: 22:01 - loss: 0.1352 - accuracy: 0.962 - ETA: 22:05 - loss: 0.1328 - accuracy: 0.963 - ETA: 22:03 - loss: 0.1295 - accuracy: 0.964 - ETA: 22:00 - loss: 0.1267 - accuracy: 0.965 - ETA: 21:55 - loss: 0.1242 - accuracy: 0.966 - ETA: 21:53 - loss: 0.1255 - accuracy: 0.965 - ETA: 21:52 - loss: 0.1248 - accuracy: 0.966 - ETA: 21:52 - loss: 0.1212 - accuracy: 0.967 - ETA: 21:50 - loss: 0.1241 - accuracy: 0.965 - ETA: 21:52 - loss: 0.1208 - accuracy: 0.966 - ETA: 21:50 - loss: 0.1198 - accuracy: 0.967 - ETA: 21:47 - loss: 0.1225 - accuracy: 0.966 - ETA: 21:43 - loss: 0.1214 - accuracy: 0.967 - ETA: 21:42 - loss: 0.1206 - accuracy: 0.967 - ETA: 21:40 - loss: 0.1221 - accuracy: 0.966 - ETA: 21:40 - loss: 0.1192 - accuracy: 0.967 - ETA: 21:38 - loss: 0.1170 - accuracy: 0.968 - ETA: 21:38 - loss: 0.1228 - accuracy: 0.967 - ETA: 21:39 - loss: 0.1207 - accuracy: 0.967 - ETA: 21:38 - loss: 0.1211 - accuracy: 0.967 - ETA: 21:38 - loss: 0.1192 - accuracy: 0.967 - ETA: 21:36 - loss: 0.1191 - accuracy: 0.968 - ETA: 21:36 - loss: 0.1215 - accuracy: 0.968 - ETA: 21:35 - loss: 0.1206 - accuracy: 0.968 - ETA: 21:34 - loss: 0.1203 - accuracy: 0.967 - ETA: 21:34 - loss: 0.1205 - accuracy: 0.967 - ETA: 21:34 - loss: 0.1219 - accuracy: 0.967 - ETA: 21:32 - loss: 0.1240 - accuracy: 0.966 - ETA: 21:31 - loss: 0.1218 - accuracy: 0.967 - ETA: 21:31 - loss: 0.1205 - accuracy: 0.967 - ETA: 21:30 - loss: 0.1191 - accuracy: 0.967 - ETA: 21:29 - loss: 0.1174 - accuracy: 0.968 - ETA: 21:29 - loss: 0.1168 - accuracy: 0.968 - ETA: 21:28 - loss: 0.1183 - accuracy: 0.967 - ETA: 21:26 - loss: 0.1182 - accuracy: 0.967 - ETA: 21:25 - loss: 0.1208 - accuracy: 0.966 - ETA: 21:25 - loss: 0.1203 - accuracy: 0.965 - ETA: 21:24 - loss: 0.1190 - accuracy: 0.966 - ETA: 21:23 - loss: 0.1187 - accuracy: 0.966 - ETA: 21:22 - loss: 0.1172 - accuracy: 0.966 - ETA: 21:23 - loss: 0.1181 - accuracy: 0.966 - ETA: 21:22 - loss: 0.1185 - accuracy: 0.966 - ETA: 21:21 - loss: 0.1170 - accuracy: 0.966 - ETA: 21:19 - loss: 0.1160 - accuracy: 0.966 - ETA: 21:19 - loss: 0.1173 - accuracy: 0.966 - ETA: 21:19 - loss: 0.1161 - accuracy: 0.966 - ETA: 21:20 - loss: 0.1152 - accuracy: 0.966 - ETA: 21:21 - loss: 0.1150 - accuracy: 0.966 - ETA: 21:21 - loss: 0.1139 - accuracy: 0.967 - ETA: 21:20 - loss: 0.1147 - accuracy: 0.966 - ETA: 21:19 - loss: 0.1147 - accuracy: 0.966 - ETA: 21:19 - loss: 0.1159 - accuracy: 0.966 - ETA: 21:19 - loss: 0.1158 - accuracy: 0.966 - ETA: 21:19 - loss: 0.1153 - accuracy: 0.966 - ETA: 21:18 - loss: 0.1148 - accuracy: 0.966 - ETA: 21:18 - loss: 0.1148 - accuracy: 0.966 - ETA: 21:18 - loss: 0.1138 - accuracy: 0.967 - ETA: 21:17 - loss: 0.1152 - accuracy: 0.966 - ETA: 21:17 - loss: 0.1145 - accuracy: 0.966 - ETA: 21:17 - loss: 0.1153 - accuracy: 0.966 - ETA: 21:16 - loss: 0.1154 - accuracy: 0.966 - ETA: 21:16 - loss: 0.1146 - accuracy: 0.966 - ETA: 21:16 - loss: 0.1151 - accuracy: 0.966 - ETA: 21:15 - loss: 0.1150 - accuracy: 0.966 - ETA: 21:15 - loss: 0.1142 - accuracy: 0.966 - ETA: 21:13 - loss: 0.1141 - accuracy: 0.966 - ETA: 21:12 - loss: 0.1134 - accuracy: 0.966 - ETA: 21:11 - loss: 0.1141 - accuracy: 0.966 - ETA: 21:10 - loss: 0.1140 - accuracy: 0.967 - ETA: 21:09 - loss: 0.1139 - accuracy: 0.967 - ETA: 21:09 - loss: 0.1135 - accuracy: 0.967 - ETA: 21:09 - loss: 0.1131 - accuracy: 0.967 - ETA: 21:07 - loss: 0.1125 - accuracy: 0.967 - ETA: 21:07 - loss: 0.1125 - accuracy: 0.967 - ETA: 21:05 - loss: 0.1125 - accuracy: 0.967 - ETA: 21:06 - loss: 0.1120 - accuracy: 0.967 - ETA: 21:07 - loss: 0.1123 - accuracy: 0.967 - ETA: 21:06 - loss: 0.1135 - accuracy: 0.966 - ETA: 21:06 - loss: 0.1129 - accuracy: 0.967 - ETA: 21:06 - loss: 0.1129 - accuracy: 0.967 - ETA: 21:05 - loss: 0.1129 - accuracy: 0.966 - ETA: 21:05 - loss: 0.1129 - accuracy: 0.966 - ETA: 21:04 - loss: 0.1129 - accuracy: 0.966 - ETA: 21:04 - loss: 0.1132 - accuracy: 0.966 - ETA: 21:06 - loss: 0.1133 - accuracy: 0.966 - ETA: 21:07 - loss: 0.1147 - accuracy: 0.966 - ETA: 21:07 - loss: 0.1142 - accuracy: 0.966 - ETA: 21:07 - loss: 0.1139 - accuracy: 0.966 - ETA: 21:06 - loss: 0.1141 - accuracy: 0.966 - ETA: 21:05 - loss: 0.1143 - accuracy: 0.966 - ETA: 21:05 - loss: 0.1139 - accuracy: 0.966 - ETA: 21:05 - loss: 0.1144 - accuracy: 0.966 - ETA: 21:04 - loss: 0.1144 - accuracy: 0.966 - ETA: 21:03 - loss: 0.1148 - accuracy: 0.966 - ETA: 21:02 - loss: 0.1152 - accuracy: 0.966 - ETA: 21:02 - loss: 0.1155 - accuracy: 0.965 - ETA: 21:01 - loss: 0.1157 - accuracy: 0.965 - ETA: 21:00 - loss: 0.1158 - accuracy: 0.965 - ETA: 20:59 - loss: 0.1154 - accuracy: 0.965 - ETA: 20:58 - loss: 0.1159 - accuracy: 0.965 - ETA: 20:58 - loss: 0.1159 - accuracy: 0.965 - ETA: 20:57 - loss: 0.1156 - accuracy: 0.965 - ETA: 20:56 - loss: 0.1153 - accuracy: 0.965 - ETA: 20:56 - loss: 0.1152 - accuracy: 0.965 - ETA: 20:55 - loss: 0.1151 - accuracy: 0.965 - ETA: 20:54 - loss: 0.1154 - accuracy: 0.965 - ETA: 20:53 - loss: 0.1154 - accuracy: 0.965 - ETA: 20:53 - loss: 0.1150 - accuracy: 0.965 - ETA: 20:52 - loss: 0.1148 - accuracy: 0.965 - ETA: 20:52 - loss: 0.1145 - accuracy: 0.965 - ETA: 20:52 - loss: 0.1142 - accuracy: 0.965 - ETA: 20:51 - loss: 0.1143 - accuracy: 0.965 - ETA: 20:51 - loss: 0.1148 - accuracy: 0.965 - ETA: 20:51 - loss: 0.1150 - accuracy: 0.965 - ETA: 20:50 - loss: 0.1161 - accuracy: 0.965 - ETA: 20:50 - loss: 0.1158 - accuracy: 0.965 - ETA: 20:49 - loss: 0.1156 - accuracy: 0.965 - ETA: 20:48 - loss: 0.1154 - accuracy: 0.965 - ETA: 20:47 - loss: 0.1159 - accuracy: 0.965 - ETA: 20:46 - loss: 0.1158 - accuracy: 0.965 - ETA: 20:45 - loss: 0.1160 - accuracy: 0.965 - ETA: 20:45 - loss: 0.1163 - accuracy: 0.965 - ETA: 20:44 - loss: 0.1168 - accuracy: 0.965 - ETA: 20:43 - loss: 0.1163 - accuracy: 0.965 - ETA: 20:43 - loss: 0.1164 - accuracy: 0.965 - ETA: 20:42 - loss: 0.1166 - accuracy: 0.965 - ETA: 20:41 - loss: 0.1162 - accuracy: 0.965 - ETA: 20:41 - loss: 0.1167 - accuracy: 0.965 - ETA: 20:40 - loss: 0.1170 - accuracy: 0.965 - ETA: 20:40 - loss: 0.1177 - accuracy: 0.964 - ETA: 20:39 - loss: 0.1171 - accuracy: 0.965 - ETA: 20:39 - loss: 0.1173 - accuracy: 0.965 - ETA: 20:38 - loss: 0.1168 - accuracy: 0.965 - ETA: 20:38 - loss: 0.1164 - accuracy: 0.965 - ETA: 20:37 - loss: 0.1165 - accuracy: 0.965 - ETA: 20:36 - loss: 0.1159 - accuracy: 0.965 - ETA: 20:35 - loss: 0.1153 - accuracy: 0.965 - ETA: 20:35 - loss: 0.1155 - accuracy: 0.965 - ETA: 20:35 - loss: 0.1154 - accuracy: 0.965 - ETA: 20:34 - loss: 0.1154 - accuracy: 0.965 - ETA: 20:33 - loss: 0.1148 - accuracy: 0.965 - ETA: 20:33 - loss: 0.1147 - accuracy: 0.965 - ETA: 20:32 - loss: 0.1149 - accuracy: 0.965 - ETA: 20:31 - loss: 0.1149 - accuracy: 0.965 - ETA: 20:30 - loss: 0.1151 - accuracy: 0.965 - ETA: 20:30 - loss: 0.1148 - accuracy: 0.965 - ETA: 20:29 - loss: 0.1148 - accuracy: 0.965 - ETA: 20:29 - loss: 0.1145 - accuracy: 0.965 - ETA: 20:28 - loss: 0.1151 - accuracy: 0.965 - ETA: 20:27 - loss: 0.1156 - accuracy: 0.965 - ETA: 20:26 - loss: 0.1166 - accuracy: 0.964 - ETA: 20:25 - loss: 0.1163 - accuracy: 0.964 - ETA: 20:24 - loss: 0.1161 - accuracy: 0.964 - ETA: 20:24 - loss: 0.1161 - accuracy: 0.964 - ETA: 20:23 - loss: 0.1159 - accuracy: 0.964 - ETA: 20:23 - loss: 0.1162 - accuracy: 0.964 - ETA: 20:23 - loss: 0.1162 - accuracy: 0.964 - ETA: 20:22 - loss: 0.1165 - accuracy: 0.964 - ETA: 20:21 - loss: 0.1162 - accuracy: 0.965 - ETA: 20:20 - loss: 0.1162 - accuracy: 0.9649 22784/140454 [===>..........................] - ETA: 20:19 - loss: 0.1162 - accuracy: 0.964 - ETA: 20:18 - loss: 0.1163 - accuracy: 0.964 - ETA: 20:18 - loss: 0.1163 - accuracy: 0.964 - ETA: 20:17 - loss: 0.1165 - accuracy: 0.964 - ETA: 20:17 - loss: 0.1177 - accuracy: 0.964 - ETA: 20:16 - loss: 0.1183 - accuracy: 0.963 - ETA: 20:15 - loss: 0.1178 - accuracy: 0.964 - ETA: 20:14 - loss: 0.1177 - accuracy: 0.964 - ETA: 20:13 - loss: 0.1179 - accuracy: 0.964 - ETA: 20:12 - loss: 0.1176 - accuracy: 0.963 - ETA: 20:11 - loss: 0.1172 - accuracy: 0.964 - ETA: 20:11 - loss: 0.1171 - accuracy: 0.964 - ETA: 20:10 - loss: 0.1167 - accuracy: 0.964 - ETA: 20:09 - loss: 0.1162 - accuracy: 0.964 - ETA: 20:09 - loss: 0.1166 - accuracy: 0.964 - ETA: 20:08 - loss: 0.1164 - accuracy: 0.964 - ETA: 20:07 - loss: 0.1161 - accuracy: 0.964 - ETA: 20:06 - loss: 0.1164 - accuracy: 0.964 - ETA: 20:06 - loss: 0.1163 - accuracy: 0.964 - ETA: 20:06 - loss: 0.1159 - accuracy: 0.964 - ETA: 20:05 - loss: 0.1161 - accuracy: 0.964 - ETA: 20:04 - loss: 0.1160 - accuracy: 0.964 - ETA: 20:03 - loss: 0.1156 - accuracy: 0.964 - ETA: 20:03 - loss: 0.1161 - accuracy: 0.964 - ETA: 20:02 - loss: 0.1162 - accuracy: 0.964 - ETA: 20:02 - loss: 0.1157 - accuracy: 0.964 - ETA: 20:03 - loss: 0.1158 - accuracy: 0.964 - ETA: 20:02 - loss: 0.1160 - accuracy: 0.964 - ETA: 20:01 - loss: 0.1158 - accuracy: 0.964 - ETA: 20:00 - loss: 0.1160 - accuracy: 0.964 - ETA: 20:00 - loss: 0.1161 - accuracy: 0.964 - ETA: 19:59 - loss: 0.1167 - accuracy: 0.964 - ETA: 19:58 - loss: 0.1165 - accuracy: 0.964 - ETA: 19:58 - loss: 0.1180 - accuracy: 0.963 - ETA: 19:57 - loss: 0.1175 - accuracy: 0.964 - ETA: 19:57 - loss: 0.1175 - accuracy: 0.964 - ETA: 19:57 - loss: 0.1180 - accuracy: 0.964 - ETA: 19:57 - loss: 0.1182 - accuracy: 0.964 - ETA: 19:57 - loss: 0.1180 - accuracy: 0.964 - ETA: 19:56 - loss: 0.1182 - accuracy: 0.964 - ETA: 19:55 - loss: 0.1180 - accuracy: 0.964 - ETA: 19:55 - loss: 0.1179 - accuracy: 0.964 - ETA: 19:54 - loss: 0.1182 - accuracy: 0.964 - ETA: 19:54 - loss: 0.1181 - accuracy: 0.964 - ETA: 19:53 - loss: 0.1183 - accuracy: 0.963 - ETA: 19:52 - loss: 0.1182 - accuracy: 0.963 - ETA: 19:51 - loss: 0.1183 - accuracy: 0.963 - ETA: 19:51 - loss: 0.1181 - accuracy: 0.963 - ETA: 19:50 - loss: 0.1180 - accuracy: 0.964 - ETA: 19:49 - loss: 0.1186 - accuracy: 0.963 - ETA: 19:49 - loss: 0.1184 - accuracy: 0.963 - ETA: 19:48 - loss: 0.1183 - accuracy: 0.963 - ETA: 19:48 - loss: 0.1183 - accuracy: 0.963 - ETA: 19:47 - loss: 0.1183 - accuracy: 0.963 - ETA: 19:46 - loss: 0.1187 - accuracy: 0.963 - ETA: 19:46 - loss: 0.1187 - accuracy: 0.963 - ETA: 19:45 - loss: 0.1183 - accuracy: 0.964 - ETA: 19:44 - loss: 0.1182 - accuracy: 0.964 - ETA: 19:44 - loss: 0.1181 - accuracy: 0.963 - ETA: 19:43 - loss: 0.1182 - accuracy: 0.963 - ETA: 19:42 - loss: 0.1180 - accuracy: 0.964 - ETA: 19:42 - loss: 0.1180 - accuracy: 0.963 - ETA: 19:41 - loss: 0.1186 - accuracy: 0.963 - ETA: 19:40 - loss: 0.1189 - accuracy: 0.963 - ETA: 19:40 - loss: 0.1185 - accuracy: 0.963 - ETA: 19:39 - loss: 0.1184 - accuracy: 0.963 - ETA: 19:39 - loss: 0.1189 - accuracy: 0.963 - ETA: 19:38 - loss: 0.1192 - accuracy: 0.963 - ETA: 19:37 - loss: 0.1190 - accuracy: 0.963 - ETA: 19:36 - loss: 0.1191 - accuracy: 0.963 - ETA: 19:36 - loss: 0.1190 - accuracy: 0.963 - ETA: 19:35 - loss: 0.1190 - accuracy: 0.963 - ETA: 19:35 - loss: 0.1190 - accuracy: 0.963 - ETA: 19:34 - loss: 0.1188 - accuracy: 0.963 - ETA: 19:33 - loss: 0.1187 - accuracy: 0.963 - ETA: 19:33 - loss: 0.1186 - accuracy: 0.963 - ETA: 19:32 - loss: 0.1184 - accuracy: 0.963 - ETA: 19:31 - loss: 0.1185 - accuracy: 0.963 - ETA: 19:30 - loss: 0.1183 - accuracy: 0.963 - ETA: 19:30 - loss: 0.1185 - accuracy: 0.963 - ETA: 19:29 - loss: 0.1186 - accuracy: 0.963 - ETA: 19:29 - loss: 0.1184 - accuracy: 0.963 - ETA: 19:28 - loss: 0.1182 - accuracy: 0.963 - ETA: 19:27 - loss: 0.1181 - accuracy: 0.963 - ETA: 19:27 - loss: 0.1179 - accuracy: 0.963 - ETA: 19:26 - loss: 0.1176 - accuracy: 0.963 - ETA: 19:27 - loss: 0.1179 - accuracy: 0.963 - ETA: 19:26 - loss: 0.1179 - accuracy: 0.963 - ETA: 19:25 - loss: 0.1184 - accuracy: 0.963 - ETA: 19:25 - loss: 0.1191 - accuracy: 0.962 - ETA: 19:24 - loss: 0.1194 - accuracy: 0.962 - ETA: 19:24 - loss: 0.1191 - accuracy: 0.962 - ETA: 19:23 - loss: 0.1192 - accuracy: 0.962 - ETA: 19:22 - loss: 0.1189 - accuracy: 0.962 - ETA: 19:21 - loss: 0.1189 - accuracy: 0.962 - ETA: 19:21 - loss: 0.1186 - accuracy: 0.962 - ETA: 19:20 - loss: 0.1184 - accuracy: 0.962 - ETA: 19:20 - loss: 0.1182 - accuracy: 0.962 - ETA: 19:19 - loss: 0.1180 - accuracy: 0.962 - ETA: 19:18 - loss: 0.1179 - accuracy: 0.963 - ETA: 19:18 - loss: 0.1177 - accuracy: 0.963 - ETA: 19:17 - loss: 0.1180 - accuracy: 0.962 - ETA: 19:16 - loss: 0.1177 - accuracy: 0.963 - ETA: 19:16 - loss: 0.1176 - accuracy: 0.963 - ETA: 19:15 - loss: 0.1176 - accuracy: 0.963 - ETA: 19:14 - loss: 0.1176 - accuracy: 0.963 - ETA: 19:14 - loss: 0.1174 - accuracy: 0.963 - ETA: 19:13 - loss: 0.1172 - accuracy: 0.963 - ETA: 19:12 - loss: 0.1172 - accuracy: 0.963 - ETA: 19:12 - loss: 0.1171 - accuracy: 0.963 - ETA: 19:11 - loss: 0.1170 - accuracy: 0.963 - ETA: 19:11 - loss: 0.1169 - accuracy: 0.963 - ETA: 19:10 - loss: 0.1173 - accuracy: 0.963 - ETA: 19:09 - loss: 0.1171 - accuracy: 0.963 - ETA: 19:09 - loss: 0.1170 - accuracy: 0.963 - ETA: 19:08 - loss: 0.1170 - accuracy: 0.963 - ETA: 19:07 - loss: 0.1172 - accuracy: 0.963 - ETA: 19:07 - loss: 0.1172 - accuracy: 0.962 - ETA: 19:06 - loss: 0.1171 - accuracy: 0.962 - ETA: 19:05 - loss: 0.1173 - accuracy: 0.962 - ETA: 19:05 - loss: 0.1176 - accuracy: 0.962 - ETA: 19:04 - loss: 0.1177 - accuracy: 0.962 - ETA: 19:03 - loss: 0.1175 - accuracy: 0.963 - ETA: 19:02 - loss: 0.1177 - accuracy: 0.963 - ETA: 19:02 - loss: 0.1177 - accuracy: 0.962 - ETA: 19:01 - loss: 0.1176 - accuracy: 0.962 - ETA: 19:02 - loss: 0.1174 - accuracy: 0.963 - ETA: 19:01 - loss: 0.1177 - accuracy: 0.962 - ETA: 19:01 - loss: 0.1181 - accuracy: 0.962 - ETA: 19:00 - loss: 0.1187 - accuracy: 0.962 - ETA: 18:59 - loss: 0.1185 - accuracy: 0.962 - ETA: 18:59 - loss: 0.1187 - accuracy: 0.962 - ETA: 18:58 - loss: 0.1185 - accuracy: 0.962 - ETA: 18:58 - loss: 0.1186 - accuracy: 0.962 - ETA: 18:57 - loss: 0.1188 - accuracy: 0.962 - ETA: 18:57 - loss: 0.1188 - accuracy: 0.962 - ETA: 18:56 - loss: 0.1186 - accuracy: 0.962 - ETA: 18:55 - loss: 0.1186 - accuracy: 0.962 - ETA: 18:55 - loss: 0.1184 - accuracy: 0.962 - ETA: 18:54 - loss: 0.1181 - accuracy: 0.962 - ETA: 18:53 - loss: 0.1180 - accuracy: 0.962 - ETA: 18:53 - loss: 0.1180 - accuracy: 0.962 - ETA: 18:52 - loss: 0.1181 - accuracy: 0.962 - ETA: 18:51 - loss: 0.1182 - accuracy: 0.962 - ETA: 18:51 - loss: 0.1182 - accuracy: 0.962 - ETA: 18:50 - loss: 0.1184 - accuracy: 0.962 - ETA: 18:49 - loss: 0.1185 - accuracy: 0.962 - ETA: 18:49 - loss: 0.1185 - accuracy: 0.962 - ETA: 18:48 - loss: 0.1183 - accuracy: 0.962 - ETA: 18:47 - loss: 0.1184 - accuracy: 0.962 - ETA: 18:47 - loss: 0.1184 - accuracy: 0.962 - ETA: 18:46 - loss: 0.1188 - accuracy: 0.962 - ETA: 18:45 - loss: 0.1186 - accuracy: 0.962 - ETA: 18:45 - loss: 0.1185 - accuracy: 0.962 - ETA: 18:44 - loss: 0.1184 - accuracy: 0.962 - ETA: 18:43 - loss: 0.1183 - accuracy: 0.962 - ETA: 18:43 - loss: 0.1184 - accuracy: 0.962 - ETA: 18:42 - loss: 0.1184 - accuracy: 0.962 - ETA: 18:41 - loss: 0.1187 - accuracy: 0.962 - ETA: 18:41 - loss: 0.1187 - accuracy: 0.962 - ETA: 18:40 - loss: 0.1185 - accuracy: 0.962 - ETA: 18:39 - loss: 0.1184 - accuracy: 0.962 - ETA: 18:39 - loss: 0.1188 - accuracy: 0.962 - ETA: 18:38 - loss: 0.1187 - accuracy: 0.962 - ETA: 18:37 - loss: 0.1185 - accuracy: 0.962 - ETA: 18:37 - loss: 0.1183 - accuracy: 0.962 - ETA: 18:36 - loss: 0.1181 - accuracy: 0.962 - ETA: 18:36 - loss: 0.1183 - accuracy: 0.962 - ETA: 18:35 - loss: 0.1183 - accuracy: 0.962 - ETA: 18:34 - loss: 0.1184 - accuracy: 0.962 - ETA: 18:33 - loss: 0.1182 - accuracy: 0.962 - ETA: 18:33 - loss: 0.1179 - accuracy: 0.962 - ETA: 18:32 - loss: 0.1179 - accuracy: 0.962 - ETA: 18:31 - loss: 0.1179 - accuracy: 0.962 - ETA: 18:31 - loss: 0.1178 - accuracy: 0.962 - ETA: 18:30 - loss: 0.1177 - accuracy: 0.963 - ETA: 18:30 - loss: 0.1179 - accuracy: 0.963 - ETA: 18:29 - loss: 0.1181 - accuracy: 0.9629 34176/140454 [======>.......................] - ETA: 18:28 - loss: 0.1183 - accuracy: 0.962 - ETA: 18:28 - loss: 0.1185 - accuracy: 0.962 - ETA: 18:27 - loss: 0.1183 - accuracy: 0.962 - ETA: 18:26 - loss: 0.1185 - accuracy: 0.962 - ETA: 18:26 - loss: 0.1183 - accuracy: 0.963 - ETA: 18:25 - loss: 0.1180 - accuracy: 0.963 - ETA: 18:25 - loss: 0.1183 - accuracy: 0.963 - ETA: 18:24 - loss: 0.1183 - accuracy: 0.963 - ETA: 18:23 - loss: 0.1181 - accuracy: 0.963 - ETA: 18:23 - loss: 0.1184 - accuracy: 0.962 - ETA: 18:22 - loss: 0.1183 - accuracy: 0.962 - ETA: 18:21 - loss: 0.1183 - accuracy: 0.962 - ETA: 18:21 - loss: 0.1185 - accuracy: 0.962 - ETA: 18:20 - loss: 0.1184 - accuracy: 0.962 - ETA: 18:19 - loss: 0.1188 - accuracy: 0.962 - ETA: 18:19 - loss: 0.1190 - accuracy: 0.962 - ETA: 18:18 - loss: 0.1194 - accuracy: 0.962 - ETA: 18:18 - loss: 0.1194 - accuracy: 0.962 - ETA: 18:17 - loss: 0.1195 - accuracy: 0.962 - ETA: 18:16 - loss: 0.1193 - accuracy: 0.962 - ETA: 18:16 - loss: 0.1198 - accuracy: 0.962 - ETA: 18:15 - loss: 0.1197 - accuracy: 0.962 - ETA: 18:14 - loss: 0.1199 - accuracy: 0.962 - ETA: 18:14 - loss: 0.1200 - accuracy: 0.962 - ETA: 18:13 - loss: 0.1201 - accuracy: 0.962 - ETA: 18:12 - loss: 0.1203 - accuracy: 0.962 - ETA: 18:12 - loss: 0.1203 - accuracy: 0.962 - ETA: 18:11 - loss: 0.1203 - accuracy: 0.962 - ETA: 18:11 - loss: 0.1205 - accuracy: 0.962 - ETA: 18:10 - loss: 0.1203 - accuracy: 0.962 - ETA: 18:09 - loss: 0.1202 - accuracy: 0.962 - ETA: 18:08 - loss: 0.1202 - accuracy: 0.962 - ETA: 18:08 - loss: 0.1201 - accuracy: 0.962 - ETA: 18:07 - loss: 0.1202 - accuracy: 0.962 - ETA: 18:07 - loss: 0.1204 - accuracy: 0.962 - ETA: 18:06 - loss: 0.1202 - accuracy: 0.962 - ETA: 18:06 - loss: 0.1202 - accuracy: 0.962 - ETA: 18:05 - loss: 0.1202 - accuracy: 0.962 - ETA: 18:04 - loss: 0.1203 - accuracy: 0.962 - ETA: 18:03 - loss: 0.1203 - accuracy: 0.962 - ETA: 18:03 - loss: 0.1201 - accuracy: 0.962 - ETA: 18:02 - loss: 0.1202 - accuracy: 0.962 - ETA: 18:02 - loss: 0.1205 - accuracy: 0.962 - ETA: 18:01 - loss: 0.1204 - accuracy: 0.962 - ETA: 18:01 - loss: 0.1204 - accuracy: 0.962 - ETA: 18:00 - loss: 0.1206 - accuracy: 0.962 - ETA: 17:59 - loss: 0.1207 - accuracy: 0.962 - ETA: 17:59 - loss: 0.1205 - accuracy: 0.962 - ETA: 17:59 - loss: 0.1205 - accuracy: 0.962 - ETA: 17:58 - loss: 0.1203 - accuracy: 0.962 - ETA: 17:58 - loss: 0.1204 - accuracy: 0.962 - ETA: 17:58 - loss: 0.1203 - accuracy: 0.962 - ETA: 17:57 - loss: 0.1203 - accuracy: 0.962 - ETA: 17:56 - loss: 0.1204 - accuracy: 0.962 - ETA: 17:56 - loss: 0.1202 - accuracy: 0.962 - ETA: 17:55 - loss: 0.1201 - accuracy: 0.962 - ETA: 17:55 - loss: 0.1200 - accuracy: 0.962 - ETA: 17:54 - loss: 0.1198 - accuracy: 0.962 - ETA: 17:54 - loss: 0.1199 - accuracy: 0.962 - ETA: 17:53 - loss: 0.1197 - accuracy: 0.962 - ETA: 17:52 - loss: 0.1197 - accuracy: 0.962 - ETA: 17:52 - loss: 0.1196 - accuracy: 0.962 - ETA: 17:52 - loss: 0.1194 - accuracy: 0.962 - ETA: 17:51 - loss: 0.1192 - accuracy: 0.962 - ETA: 17:51 - loss: 0.1193 - accuracy: 0.962 - ETA: 17:51 - loss: 0.1191 - accuracy: 0.962 - ETA: 17:50 - loss: 0.1190 - accuracy: 0.962 - ETA: 17:49 - loss: 0.1189 - accuracy: 0.962 - ETA: 17:49 - loss: 0.1189 - accuracy: 0.962 - ETA: 17:48 - loss: 0.1191 - accuracy: 0.962 - ETA: 17:47 - loss: 0.1189 - accuracy: 0.962 - ETA: 17:47 - loss: 0.1187 - accuracy: 0.962 - ETA: 17:46 - loss: 0.1187 - accuracy: 0.962 - ETA: 17:46 - loss: 0.1184 - accuracy: 0.962 - ETA: 17:45 - loss: 0.1186 - accuracy: 0.962 - ETA: 17:45 - loss: 0.1185 - accuracy: 0.962 - ETA: 17:44 - loss: 0.1187 - accuracy: 0.962 - ETA: 17:43 - loss: 0.1187 - accuracy: 0.962 - ETA: 17:43 - loss: 0.1185 - accuracy: 0.962 - ETA: 17:42 - loss: 0.1184 - accuracy: 0.962 - ETA: 17:41 - loss: 0.1182 - accuracy: 0.962 - ETA: 17:41 - loss: 0.1181 - accuracy: 0.962 - ETA: 17:40 - loss: 0.1179 - accuracy: 0.962 - ETA: 17:40 - loss: 0.1180 - accuracy: 0.962 - ETA: 17:39 - loss: 0.1180 - accuracy: 0.962 - ETA: 17:38 - loss: 0.1183 - accuracy: 0.962 - ETA: 17:38 - loss: 0.1184 - accuracy: 0.962 - ETA: 17:38 - loss: 0.1185 - accuracy: 0.962 - ETA: 17:37 - loss: 0.1186 - accuracy: 0.962 - ETA: 17:36 - loss: 0.1186 - accuracy: 0.962 - ETA: 17:36 - loss: 0.1187 - accuracy: 0.962 - ETA: 17:35 - loss: 0.1186 - accuracy: 0.962 - ETA: 17:35 - loss: 0.1187 - accuracy: 0.962 - ETA: 17:34 - loss: 0.1186 - accuracy: 0.962 - ETA: 17:33 - loss: 0.1185 - accuracy: 0.962 - ETA: 17:33 - loss: 0.1184 - accuracy: 0.962 - ETA: 17:32 - loss: 0.1183 - accuracy: 0.962 - ETA: 17:31 - loss: 0.1183 - accuracy: 0.962 - ETA: 17:31 - loss: 0.1185 - accuracy: 0.962 - ETA: 17:30 - loss: 0.1188 - accuracy: 0.962 - ETA: 17:29 - loss: 0.1186 - accuracy: 0.962 - ETA: 17:29 - loss: 0.1185 - accuracy: 0.962 - ETA: 17:28 - loss: 0.1186 - accuracy: 0.962 - ETA: 17:27 - loss: 0.1186 - accuracy: 0.962 - ETA: 17:27 - loss: 0.1187 - accuracy: 0.962 - ETA: 17:26 - loss: 0.1186 - accuracy: 0.962 - ETA: 17:26 - loss: 0.1188 - accuracy: 0.962 - ETA: 17:25 - loss: 0.1186 - accuracy: 0.962 - ETA: 17:25 - loss: 0.1189 - accuracy: 0.962 - ETA: 17:24 - loss: 0.1187 - accuracy: 0.962 - ETA: 17:24 - loss: 0.1192 - accuracy: 0.962 - ETA: 17:23 - loss: 0.1193 - accuracy: 0.962 - ETA: 17:23 - loss: 0.1192 - accuracy: 0.962 - ETA: 17:22 - loss: 0.1191 - accuracy: 0.962 - ETA: 17:21 - loss: 0.1190 - accuracy: 0.962 - ETA: 17:21 - loss: 0.1190 - accuracy: 0.962 - ETA: 17:20 - loss: 0.1193 - accuracy: 0.962 - ETA: 17:19 - loss: 0.1194 - accuracy: 0.962 - ETA: 17:19 - loss: 0.1197 - accuracy: 0.962 - ETA: 17:18 - loss: 0.1198 - accuracy: 0.961 - ETA: 17:18 - loss: 0.1199 - accuracy: 0.961 - ETA: 17:17 - loss: 0.1203 - accuracy: 0.961 - ETA: 17:16 - loss: 0.1203 - accuracy: 0.961 - ETA: 17:16 - loss: 0.1203 - accuracy: 0.961 - ETA: 17:15 - loss: 0.1202 - accuracy: 0.961 - ETA: 17:14 - loss: 0.1202 - accuracy: 0.961 - ETA: 17:14 - loss: 0.1204 - accuracy: 0.961 - ETA: 17:13 - loss: 0.1204 - accuracy: 0.961 - ETA: 17:13 - loss: 0.1203 - accuracy: 0.961 - ETA: 17:12 - loss: 0.1204 - accuracy: 0.961 - ETA: 17:11 - loss: 0.1203 - accuracy: 0.961 - ETA: 17:11 - loss: 0.1204 - accuracy: 0.961 - ETA: 17:10 - loss: 0.1204 - accuracy: 0.961 - ETA: 17:09 - loss: 0.1205 - accuracy: 0.961 - ETA: 17:09 - loss: 0.1206 - accuracy: 0.961 - ETA: 17:08 - loss: 0.1207 - accuracy: 0.961 - ETA: 17:08 - loss: 0.1206 - accuracy: 0.961 - ETA: 17:07 - loss: 0.1206 - accuracy: 0.961 - ETA: 17:06 - loss: 0.1206 - accuracy: 0.961 - ETA: 17:05 - loss: 0.1207 - accuracy: 0.961 - ETA: 17:05 - loss: 0.1208 - accuracy: 0.961 - ETA: 17:04 - loss: 0.1208 - accuracy: 0.961 - ETA: 17:04 - loss: 0.1208 - accuracy: 0.961 - ETA: 17:03 - loss: 0.1207 - accuracy: 0.961 - ETA: 17:02 - loss: 0.1207 - accuracy: 0.961 - ETA: 17:02 - loss: 0.1208 - accuracy: 0.961 - ETA: 17:01 - loss: 0.1208 - accuracy: 0.961 - ETA: 17:00 - loss: 0.1209 - accuracy: 0.961 - ETA: 17:00 - loss: 0.1210 - accuracy: 0.961 - ETA: 16:59 - loss: 0.1209 - accuracy: 0.961 - ETA: 16:59 - loss: 0.1209 - accuracy: 0.961 - ETA: 16:59 - loss: 0.1208 - accuracy: 0.961 - ETA: 16:59 - loss: 0.1208 - accuracy: 0.961 - ETA: 16:59 - loss: 0.1207 - accuracy: 0.961 - ETA: 16:58 - loss: 0.1209 - accuracy: 0.961 - ETA: 16:57 - loss: 0.1208 - accuracy: 0.961 - ETA: 16:57 - loss: 0.1210 - accuracy: 0.961 - ETA: 16:56 - loss: 0.1208 - accuracy: 0.961 - ETA: 16:56 - loss: 0.1212 - accuracy: 0.961 - ETA: 16:55 - loss: 0.1213 - accuracy: 0.961 - ETA: 16:54 - loss: 0.1214 - accuracy: 0.961 - ETA: 16:54 - loss: 0.1213 - accuracy: 0.961 - ETA: 16:54 - loss: 0.1213 - accuracy: 0.961 - ETA: 16:53 - loss: 0.1212 - accuracy: 0.961 - ETA: 16:53 - loss: 0.1211 - accuracy: 0.961 - ETA: 16:52 - loss: 0.1213 - accuracy: 0.961 - ETA: 16:51 - loss: 0.1213 - accuracy: 0.961 - ETA: 16:51 - loss: 0.1212 - accuracy: 0.961 - ETA: 16:50 - loss: 0.1211 - accuracy: 0.961 - ETA: 16:49 - loss: 0.1210 - accuracy: 0.961 - ETA: 16:49 - loss: 0.1211 - accuracy: 0.961 - ETA: 16:48 - loss: 0.1212 - accuracy: 0.961 - ETA: 16:47 - loss: 0.1210 - accuracy: 0.961 - ETA: 16:47 - loss: 0.1211 - accuracy: 0.961 - ETA: 16:46 - loss: 0.1212 - accuracy: 0.961 - ETA: 16:46 - loss: 0.1212 - accuracy: 0.961 - ETA: 16:45 - loss: 0.1212 - accuracy: 0.961 - ETA: 16:44 - loss: 0.1212 - accuracy: 0.9613 45568/140454 [========>.....................] - ETA: 16:44 - loss: 0.1214 - accuracy: 0.961 - ETA: 16:43 - loss: 0.1212 - accuracy: 0.961 - ETA: 16:42 - loss: 0.1213 - accuracy: 0.961 - ETA: 16:42 - loss: 0.1213 - accuracy: 0.961 - ETA: 16:41 - loss: 0.1214 - accuracy: 0.961 - ETA: 16:40 - loss: 0.1215 - accuracy: 0.961 - ETA: 16:40 - loss: 0.1215 - accuracy: 0.961 - ETA: 16:39 - loss: 0.1216 - accuracy: 0.961 - ETA: 16:39 - loss: 0.1218 - accuracy: 0.961 - ETA: 16:38 - loss: 0.1218 - accuracy: 0.961 - ETA: 16:37 - loss: 0.1218 - accuracy: 0.961 - ETA: 16:37 - loss: 0.1219 - accuracy: 0.961 - ETA: 16:36 - loss: 0.1218 - accuracy: 0.961 - ETA: 16:35 - loss: 0.1222 - accuracy: 0.961 - ETA: 16:35 - loss: 0.1222 - accuracy: 0.961 - ETA: 16:34 - loss: 0.1221 - accuracy: 0.961 - ETA: 16:33 - loss: 0.1220 - accuracy: 0.961 - ETA: 16:33 - loss: 0.1219 - accuracy: 0.961 - ETA: 16:32 - loss: 0.1218 - accuracy: 0.961 - ETA: 16:32 - loss: 0.1220 - accuracy: 0.961 - ETA: 16:31 - loss: 0.1219 - accuracy: 0.961 - ETA: 16:30 - loss: 0.1218 - accuracy: 0.961 - ETA: 16:30 - loss: 0.1220 - accuracy: 0.961 - ETA: 16:29 - loss: 0.1220 - accuracy: 0.961 - ETA: 16:28 - loss: 0.1220 - accuracy: 0.961 - ETA: 16:28 - loss: 0.1220 - accuracy: 0.961 - ETA: 16:27 - loss: 0.1218 - accuracy: 0.961 - ETA: 16:26 - loss: 0.1218 - accuracy: 0.961 - ETA: 16:26 - loss: 0.1217 - accuracy: 0.961 - ETA: 16:25 - loss: 0.1216 - accuracy: 0.961 - ETA: 16:24 - loss: 0.1217 - accuracy: 0.961 - ETA: 16:24 - loss: 0.1217 - accuracy: 0.961 - ETA: 16:23 - loss: 0.1216 - accuracy: 0.961 - ETA: 16:23 - loss: 0.1216 - accuracy: 0.961 - ETA: 16:22 - loss: 0.1217 - accuracy: 0.961 - ETA: 16:21 - loss: 0.1219 - accuracy: 0.961 - ETA: 16:21 - loss: 0.1218 - accuracy: 0.961 - ETA: 16:20 - loss: 0.1219 - accuracy: 0.961 - ETA: 16:19 - loss: 0.1217 - accuracy: 0.961 - ETA: 16:19 - loss: 0.1219 - accuracy: 0.961 - ETA: 16:18 - loss: 0.1217 - accuracy: 0.961 - ETA: 16:18 - loss: 0.1218 - accuracy: 0.961 - ETA: 16:17 - loss: 0.1218 - accuracy: 0.961 - ETA: 16:16 - loss: 0.1217 - accuracy: 0.961 - ETA: 16:16 - loss: 0.1216 - accuracy: 0.961 - ETA: 16:15 - loss: 0.1217 - accuracy: 0.961 - ETA: 16:15 - loss: 0.1217 - accuracy: 0.961 - ETA: 16:14 - loss: 0.1217 - accuracy: 0.961 - ETA: 16:13 - loss: 0.1219 - accuracy: 0.961 - ETA: 16:13 - loss: 0.1219 - accuracy: 0.961 - ETA: 16:12 - loss: 0.1221 - accuracy: 0.961 - ETA: 16:12 - loss: 0.1220 - accuracy: 0.961 - ETA: 16:11 - loss: 0.1219 - accuracy: 0.961 - ETA: 16:10 - loss: 0.1220 - accuracy: 0.961 - ETA: 16:10 - loss: 0.1219 - accuracy: 0.961 - ETA: 16:09 - loss: 0.1219 - accuracy: 0.961 - ETA: 16:08 - loss: 0.1218 - accuracy: 0.961 - ETA: 16:08 - loss: 0.1221 - accuracy: 0.961 - ETA: 16:07 - loss: 0.1223 - accuracy: 0.961 - ETA: 16:07 - loss: 0.1222 - accuracy: 0.961 - ETA: 16:06 - loss: 0.1222 - accuracy: 0.961 - ETA: 16:05 - loss: 0.1222 - accuracy: 0.961 - ETA: 16:05 - loss: 0.1222 - accuracy: 0.961 - ETA: 16:04 - loss: 0.1221 - accuracy: 0.961 - ETA: 16:04 - loss: 0.1221 - accuracy: 0.961 - ETA: 16:03 - loss: 0.1223 - accuracy: 0.961 - ETA: 16:02 - loss: 0.1224 - accuracy: 0.961 - ETA: 16:02 - loss: 0.1223 - accuracy: 0.961 - ETA: 16:01 - loss: 0.1224 - accuracy: 0.960 - ETA: 16:01 - loss: 0.1223 - accuracy: 0.961 - ETA: 16:00 - loss: 0.1223 - accuracy: 0.961 - ETA: 15:59 - loss: 0.1222 - accuracy: 0.961 - ETA: 15:59 - loss: 0.1220 - accuracy: 0.961 - ETA: 15:58 - loss: 0.1220 - accuracy: 0.961 - ETA: 15:58 - loss: 0.1223 - accuracy: 0.961 - ETA: 15:57 - loss: 0.1223 - accuracy: 0.960 - ETA: 15:57 - loss: 0.1223 - accuracy: 0.960 - ETA: 15:56 - loss: 0.1222 - accuracy: 0.960 - ETA: 15:56 - loss: 0.1221 - accuracy: 0.961 - ETA: 15:55 - loss: 0.1223 - accuracy: 0.960 - ETA: 15:54 - loss: 0.1223 - accuracy: 0.961 - ETA: 15:54 - loss: 0.1221 - accuracy: 0.961 - ETA: 15:53 - loss: 0.1221 - accuracy: 0.961 - ETA: 15:52 - loss: 0.1219 - accuracy: 0.961 - ETA: 15:52 - loss: 0.1219 - accuracy: 0.961 - ETA: 15:51 - loss: 0.1221 - accuracy: 0.961 - ETA: 15:50 - loss: 0.1220 - accuracy: 0.961 - ETA: 15:50 - loss: 0.1219 - accuracy: 0.961 - ETA: 15:49 - loss: 0.1218 - accuracy: 0.961 - ETA: 15:49 - loss: 0.1217 - accuracy: 0.961 - ETA: 15:48 - loss: 0.1217 - accuracy: 0.961 - ETA: 15:47 - loss: 0.1217 - accuracy: 0.961 - ETA: 15:47 - loss: 0.1217 - accuracy: 0.961 - ETA: 15:46 - loss: 0.1216 - accuracy: 0.961 - ETA: 15:45 - loss: 0.1217 - accuracy: 0.961 - ETA: 15:45 - loss: 0.1217 - accuracy: 0.961 - ETA: 15:44 - loss: 0.1217 - accuracy: 0.961 - ETA: 15:44 - loss: 0.1217 - accuracy: 0.961 - ETA: 15:43 - loss: 0.1216 - accuracy: 0.961 - ETA: 15:42 - loss: 0.1215 - accuracy: 0.961 - ETA: 15:42 - loss: 0.1214 - accuracy: 0.961 - ETA: 15:41 - loss: 0.1213 - accuracy: 0.961 - ETA: 15:40 - loss: 0.1213 - accuracy: 0.961 - ETA: 15:40 - loss: 0.1215 - accuracy: 0.961 - ETA: 15:39 - loss: 0.1216 - accuracy: 0.961 - ETA: 15:39 - loss: 0.1216 - accuracy: 0.961 - ETA: 15:38 - loss: 0.1216 - accuracy: 0.961 - ETA: 15:37 - loss: 0.1216 - accuracy: 0.961 - ETA: 15:37 - loss: 0.1216 - accuracy: 0.961 - ETA: 15:36 - loss: 0.1217 - accuracy: 0.961 - ETA: 15:35 - loss: 0.1217 - accuracy: 0.961 - ETA: 15:35 - loss: 0.1217 - accuracy: 0.961 - ETA: 15:34 - loss: 0.1218 - accuracy: 0.961 - ETA: 15:34 - loss: 0.1218 - accuracy: 0.961 - ETA: 15:33 - loss: 0.1218 - accuracy: 0.961 - ETA: 15:32 - loss: 0.1218 - accuracy: 0.961 - ETA: 15:32 - loss: 0.1218 - accuracy: 0.961 - ETA: 15:31 - loss: 0.1217 - accuracy: 0.961 - ETA: 15:31 - loss: 0.1218 - accuracy: 0.961 - ETA: 15:30 - loss: 0.1219 - accuracy: 0.961 - ETA: 15:29 - loss: 0.1219 - accuracy: 0.961 - ETA: 15:29 - loss: 0.1218 - accuracy: 0.961 - ETA: 15:28 - loss: 0.1219 - accuracy: 0.961 - ETA: 15:27 - loss: 0.1220 - accuracy: 0.961 - ETA: 15:27 - loss: 0.1219 - accuracy: 0.961 - ETA: 15:26 - loss: 0.1219 - accuracy: 0.961 - ETA: 15:26 - loss: 0.1218 - accuracy: 0.961 - ETA: 15:25 - loss: 0.1221 - accuracy: 0.961 - ETA: 15:25 - loss: 0.1222 - accuracy: 0.961 - ETA: 15:24 - loss: 0.1223 - accuracy: 0.961 - ETA: 15:24 - loss: 0.1223 - accuracy: 0.961 - ETA: 15:23 - loss: 0.1221 - accuracy: 0.961 - ETA: 15:22 - loss: 0.1222 - accuracy: 0.961 - ETA: 15:22 - loss: 0.1223 - accuracy: 0.961 - ETA: 15:21 - loss: 0.1223 - accuracy: 0.961 - ETA: 15:20 - loss: 0.1222 - accuracy: 0.961 - ETA: 15:20 - loss: 0.1221 - accuracy: 0.961 - ETA: 15:19 - loss: 0.1222 - accuracy: 0.961 - ETA: 15:19 - loss: 0.1222 - accuracy: 0.961 - ETA: 15:18 - loss: 0.1223 - accuracy: 0.961 - ETA: 15:17 - loss: 0.1222 - accuracy: 0.961 - ETA: 15:17 - loss: 0.1223 - accuracy: 0.961 - ETA: 15:16 - loss: 0.1225 - accuracy: 0.961 - ETA: 15:15 - loss: 0.1227 - accuracy: 0.961 - ETA: 15:15 - loss: 0.1227 - accuracy: 0.961 - ETA: 15:14 - loss: 0.1226 - accuracy: 0.961 - ETA: 15:14 - loss: 0.1226 - accuracy: 0.961 - ETA: 15:13 - loss: 0.1225 - accuracy: 0.961 - ETA: 15:12 - loss: 0.1225 - accuracy: 0.961 - ETA: 15:12 - loss: 0.1226 - accuracy: 0.961 - ETA: 15:11 - loss: 0.1226 - accuracy: 0.961 - ETA: 15:11 - loss: 0.1226 - accuracy: 0.961 - ETA: 15:10 - loss: 0.1228 - accuracy: 0.961 - ETA: 15:09 - loss: 0.1228 - accuracy: 0.961 - ETA: 15:09 - loss: 0.1229 - accuracy: 0.961 - ETA: 15:08 - loss: 0.1228 - accuracy: 0.961 - ETA: 15:07 - loss: 0.1228 - accuracy: 0.961 - ETA: 15:07 - loss: 0.1227 - accuracy: 0.961 - ETA: 15:06 - loss: 0.1228 - accuracy: 0.961 - ETA: 15:05 - loss: 0.1228 - accuracy: 0.961 - ETA: 15:05 - loss: 0.1228 - accuracy: 0.961 - ETA: 15:04 - loss: 0.1227 - accuracy: 0.961 - ETA: 15:04 - loss: 0.1227 - accuracy: 0.961 - ETA: 15:03 - loss: 0.1227 - accuracy: 0.961 - ETA: 15:02 - loss: 0.1226 - accuracy: 0.961 - ETA: 15:02 - loss: 0.1225 - accuracy: 0.961 - ETA: 15:01 - loss: 0.1226 - accuracy: 0.961 - ETA: 15:01 - loss: 0.1226 - accuracy: 0.961 - ETA: 15:00 - loss: 0.1226 - accuracy: 0.961 - ETA: 14:59 - loss: 0.1225 - accuracy: 0.961 - ETA: 14:59 - loss: 0.1225 - accuracy: 0.961 - ETA: 14:58 - loss: 0.1226 - accuracy: 0.961 - ETA: 14:58 - loss: 0.1226 - accuracy: 0.961 - ETA: 14:57 - loss: 0.1227 - accuracy: 0.961 - ETA: 14:56 - loss: 0.1228 - accuracy: 0.961 - ETA: 14:56 - loss: 0.1229 - accuracy: 0.961 - ETA: 14:56 - loss: 0.1231 - accuracy: 0.961 - ETA: 14:55 - loss: 0.1230 - accuracy: 0.9610 56960/140454 [===========>..................] - ETA: 14:54 - loss: 0.1231 - accuracy: 0.960 - ETA: 14:54 - loss: 0.1231 - accuracy: 0.960 - ETA: 14:53 - loss: 0.1231 - accuracy: 0.960 - ETA: 14:53 - loss: 0.1232 - accuracy: 0.960 - ETA: 14:52 - loss: 0.1232 - accuracy: 0.960 - ETA: 14:51 - loss: 0.1232 - accuracy: 0.960 - ETA: 14:51 - loss: 0.1232 - accuracy: 0.960 - ETA: 14:50 - loss: 0.1231 - accuracy: 0.960 - ETA: 14:49 - loss: 0.1231 - accuracy: 0.960 - ETA: 14:49 - loss: 0.1231 - accuracy: 0.960 - ETA: 14:48 - loss: 0.1230 - accuracy: 0.960 - ETA: 14:48 - loss: 0.1230 - accuracy: 0.960 - ETA: 14:47 - loss: 0.1230 - accuracy: 0.960 - ETA: 14:46 - loss: 0.1230 - accuracy: 0.960 - ETA: 14:46 - loss: 0.1230 - accuracy: 0.960 - ETA: 14:45 - loss: 0.1229 - accuracy: 0.960 - ETA: 14:45 - loss: 0.1230 - accuracy: 0.960 - ETA: 14:44 - loss: 0.1229 - accuracy: 0.960 - ETA: 14:44 - loss: 0.1229 - accuracy: 0.960 - ETA: 14:43 - loss: 0.1230 - accuracy: 0.960 - ETA: 14:43 - loss: 0.1229 - accuracy: 0.960 - ETA: 14:42 - loss: 0.1229 - accuracy: 0.960 - ETA: 14:41 - loss: 0.1231 - accuracy: 0.960 - ETA: 14:41 - loss: 0.1232 - accuracy: 0.960 - ETA: 14:40 - loss: 0.1231 - accuracy: 0.960 - ETA: 14:39 - loss: 0.1232 - accuracy: 0.960 - ETA: 14:39 - loss: 0.1231 - accuracy: 0.960 - ETA: 14:38 - loss: 0.1230 - accuracy: 0.960 - ETA: 14:38 - loss: 0.1229 - accuracy: 0.960 - ETA: 14:37 - loss: 0.1229 - accuracy: 0.960 - ETA: 14:36 - loss: 0.1228 - accuracy: 0.960 - ETA: 14:36 - loss: 0.1227 - accuracy: 0.960 - ETA: 14:35 - loss: 0.1228 - accuracy: 0.960 - ETA: 14:35 - loss: 0.1229 - accuracy: 0.960 - ETA: 14:34 - loss: 0.1228 - accuracy: 0.960 - ETA: 14:34 - loss: 0.1227 - accuracy: 0.960 - ETA: 14:33 - loss: 0.1229 - accuracy: 0.960 - ETA: 14:32 - loss: 0.1230 - accuracy: 0.960 - ETA: 14:32 - loss: 0.1229 - accuracy: 0.960 - ETA: 14:31 - loss: 0.1228 - accuracy: 0.960 - ETA: 14:30 - loss: 0.1228 - accuracy: 0.960 - ETA: 14:30 - loss: 0.1230 - accuracy: 0.960 - ETA: 14:29 - loss: 0.1229 - accuracy: 0.960 - ETA: 14:29 - loss: 0.1230 - accuracy: 0.960 - ETA: 14:28 - loss: 0.1230 - accuracy: 0.960 - ETA: 14:27 - loss: 0.1229 - accuracy: 0.960 - ETA: 14:27 - loss: 0.1227 - accuracy: 0.960 - ETA: 14:26 - loss: 0.1231 - accuracy: 0.960 - ETA: 14:26 - loss: 0.1231 - accuracy: 0.960 - ETA: 14:25 - loss: 0.1231 - accuracy: 0.960 - ETA: 14:24 - loss: 0.1230 - accuracy: 0.960 - ETA: 14:24 - loss: 0.1230 - accuracy: 0.960 - ETA: 14:23 - loss: 0.1229 - accuracy: 0.960 - ETA: 14:22 - loss: 0.1231 - accuracy: 0.960 - ETA: 14:22 - loss: 0.1232 - accuracy: 0.960 - ETA: 14:21 - loss: 0.1231 - accuracy: 0.960 - ETA: 14:21 - loss: 0.1231 - accuracy: 0.960 - ETA: 14:20 - loss: 0.1231 - accuracy: 0.960 - ETA: 14:19 - loss: 0.1231 - accuracy: 0.960 - ETA: 14:19 - loss: 0.1231 - accuracy: 0.960 - ETA: 14:18 - loss: 0.1231 - accuracy: 0.960 - ETA: 14:17 - loss: 0.1231 - accuracy: 0.960 - ETA: 14:17 - loss: 0.1233 - accuracy: 0.960 - ETA: 14:16 - loss: 0.1233 - accuracy: 0.960 - ETA: 14:16 - loss: 0.1232 - accuracy: 0.960 - ETA: 14:15 - loss: 0.1232 - accuracy: 0.960 - ETA: 14:15 - loss: 0.1232 - accuracy: 0.960 - ETA: 14:14 - loss: 0.1232 - accuracy: 0.960 - ETA: 14:13 - loss: 0.1232 - accuracy: 0.960 - ETA: 14:13 - loss: 0.1231 - accuracy: 0.960 - ETA: 14:12 - loss: 0.1230 - accuracy: 0.960 - ETA: 14:12 - loss: 0.1230 - accuracy: 0.960 - ETA: 14:11 - loss: 0.1230 - accuracy: 0.960 - ETA: 14:10 - loss: 0.1230 - accuracy: 0.960 - ETA: 14:10 - loss: 0.1230 - accuracy: 0.960 - ETA: 14:09 - loss: 0.1233 - accuracy: 0.960 - ETA: 14:08 - loss: 0.1234 - accuracy: 0.960 - ETA: 14:08 - loss: 0.1233 - accuracy: 0.960 - ETA: 14:07 - loss: 0.1233 - accuracy: 0.960 - ETA: 14:07 - loss: 0.1234 - accuracy: 0.960 - ETA: 14:06 - loss: 0.1233 - accuracy: 0.960 - ETA: 14:05 - loss: 0.1232 - accuracy: 0.960 - ETA: 14:05 - loss: 0.1232 - accuracy: 0.960 - ETA: 14:04 - loss: 0.1232 - accuracy: 0.960 - ETA: 14:04 - loss: 0.1232 - accuracy: 0.960 - ETA: 14:03 - loss: 0.1233 - accuracy: 0.960 - ETA: 14:02 - loss: 0.1232 - accuracy: 0.960 - ETA: 14:02 - loss: 0.1232 - accuracy: 0.960 - ETA: 14:01 - loss: 0.1232 - accuracy: 0.960 - ETA: 14:01 - loss: 0.1232 - accuracy: 0.960 - ETA: 14:00 - loss: 0.1232 - accuracy: 0.960 - ETA: 13:59 - loss: 0.1232 - accuracy: 0.960 - ETA: 13:59 - loss: 0.1232 - accuracy: 0.960 - ETA: 13:58 - loss: 0.1231 - accuracy: 0.960 - ETA: 13:58 - loss: 0.1229 - accuracy: 0.960 - ETA: 13:57 - loss: 0.1229 - accuracy: 0.960 - ETA: 13:56 - loss: 0.1229 - accuracy: 0.960 - ETA: 13:56 - loss: 0.1228 - accuracy: 0.960 - ETA: 13:55 - loss: 0.1230 - accuracy: 0.960 - ETA: 13:55 - loss: 0.1229 - accuracy: 0.960 - ETA: 13:54 - loss: 0.1230 - accuracy: 0.960 - ETA: 13:54 - loss: 0.1230 - accuracy: 0.960 - ETA: 13:53 - loss: 0.1230 - accuracy: 0.960 - ETA: 13:53 - loss: 0.1230 - accuracy: 0.960 - ETA: 13:52 - loss: 0.1230 - accuracy: 0.960 - ETA: 13:51 - loss: 0.1230 - accuracy: 0.960 - ETA: 13:51 - loss: 0.1230 - accuracy: 0.960 - ETA: 13:50 - loss: 0.1230 - accuracy: 0.960 - ETA: 13:50 - loss: 0.1229 - accuracy: 0.960 - ETA: 13:49 - loss: 0.1230 - accuracy: 0.960 - ETA: 13:49 - loss: 0.1231 - accuracy: 0.960 - ETA: 13:48 - loss: 0.1230 - accuracy: 0.960 - ETA: 13:47 - loss: 0.1230 - accuracy: 0.960 - ETA: 13:47 - loss: 0.1230 - accuracy: 0.960 - ETA: 13:46 - loss: 0.1229 - accuracy: 0.960 - ETA: 13:45 - loss: 0.1229 - accuracy: 0.960 - ETA: 13:45 - loss: 0.1230 - accuracy: 0.960 - ETA: 13:44 - loss: 0.1229 - accuracy: 0.960 - ETA: 13:44 - loss: 0.1229 - accuracy: 0.960 - ETA: 13:43 - loss: 0.1229 - accuracy: 0.960 - ETA: 13:42 - loss: 0.1230 - accuracy: 0.960 - ETA: 13:42 - loss: 0.1230 - accuracy: 0.960 - ETA: 13:41 - loss: 0.1229 - accuracy: 0.960 - ETA: 13:41 - loss: 0.1230 - accuracy: 0.960 - ETA: 13:40 - loss: 0.1231 - accuracy: 0.960 - ETA: 13:39 - loss: 0.1231 - accuracy: 0.960 - ETA: 13:39 - loss: 0.1230 - accuracy: 0.960 - ETA: 13:38 - loss: 0.1230 - accuracy: 0.960 - ETA: 13:38 - loss: 0.1229 - accuracy: 0.960 - ETA: 13:37 - loss: 0.1230 - accuracy: 0.960 - ETA: 13:36 - loss: 0.1229 - accuracy: 0.960 - ETA: 13:36 - loss: 0.1229 - accuracy: 0.960 - ETA: 13:35 - loss: 0.1229 - accuracy: 0.960 - ETA: 13:34 - loss: 0.1229 - accuracy: 0.960 - ETA: 13:34 - loss: 0.1229 - accuracy: 0.960 - ETA: 13:33 - loss: 0.1229 - accuracy: 0.960 - ETA: 13:33 - loss: 0.1230 - accuracy: 0.960 - ETA: 13:32 - loss: 0.1230 - accuracy: 0.960 - ETA: 13:31 - loss: 0.1230 - accuracy: 0.960 - ETA: 13:31 - loss: 0.1232 - accuracy: 0.960 - ETA: 13:30 - loss: 0.1232 - accuracy: 0.960 - ETA: 13:29 - loss: 0.1231 - accuracy: 0.960 - ETA: 13:29 - loss: 0.1232 - accuracy: 0.960 - ETA: 13:28 - loss: 0.1232 - accuracy: 0.960 - ETA: 13:28 - loss: 0.1231 - accuracy: 0.960 - ETA: 13:27 - loss: 0.1232 - accuracy: 0.960 - ETA: 13:26 - loss: 0.1232 - accuracy: 0.960 - ETA: 13:26 - loss: 0.1231 - accuracy: 0.960 - ETA: 13:25 - loss: 0.1230 - accuracy: 0.960 - ETA: 13:25 - loss: 0.1230 - accuracy: 0.960 - ETA: 13:25 - loss: 0.1231 - accuracy: 0.960 - ETA: 13:24 - loss: 0.1230 - accuracy: 0.960 - ETA: 13:24 - loss: 0.1231 - accuracy: 0.960 - ETA: 13:23 - loss: 0.1232 - accuracy: 0.960 - ETA: 13:22 - loss: 0.1233 - accuracy: 0.960 - ETA: 13:22 - loss: 0.1234 - accuracy: 0.960 - ETA: 13:21 - loss: 0.1234 - accuracy: 0.960 - ETA: 13:21 - loss: 0.1235 - accuracy: 0.960 - ETA: 13:21 - loss: 0.1234 - accuracy: 0.960 - ETA: 13:21 - loss: 0.1235 - accuracy: 0.960 - ETA: 13:20 - loss: 0.1235 - accuracy: 0.960 - ETA: 13:20 - loss: 0.1236 - accuracy: 0.960 - ETA: 13:19 - loss: 0.1235 - accuracy: 0.960 - ETA: 13:19 - loss: 0.1235 - accuracy: 0.960 - ETA: 13:18 - loss: 0.1236 - accuracy: 0.960 - ETA: 13:17 - loss: 0.1236 - accuracy: 0.960 - ETA: 13:17 - loss: 0.1235 - accuracy: 0.960 - ETA: 13:16 - loss: 0.1236 - accuracy: 0.960 - ETA: 13:16 - loss: 0.1235 - accuracy: 0.960 - ETA: 13:15 - loss: 0.1235 - accuracy: 0.960 - ETA: 13:14 - loss: 0.1234 - accuracy: 0.960 - ETA: 13:14 - loss: 0.1234 - accuracy: 0.960 - ETA: 13:13 - loss: 0.1235 - accuracy: 0.960 - ETA: 13:13 - loss: 0.1235 - accuracy: 0.960 - ETA: 13:12 - loss: 0.1234 - accuracy: 0.960 - ETA: 13:11 - loss: 0.1234 - accuracy: 0.960 - ETA: 13:11 - loss: 0.1234 - accuracy: 0.960 - ETA: 13:10 - loss: 0.1234 - accuracy: 0.9604 68352/140454 [=============>................] - ETA: 13:10 - loss: 0.1234 - accuracy: 0.960 - ETA: 13:09 - loss: 0.1234 - accuracy: 0.960 - ETA: 13:08 - loss: 0.1234 - accuracy: 0.960 - ETA: 13:08 - loss: 0.1233 - accuracy: 0.960 - ETA: 13:07 - loss: 0.1233 - accuracy: 0.960 - ETA: 13:07 - loss: 0.1234 - accuracy: 0.960 - ETA: 13:06 - loss: 0.1234 - accuracy: 0.960 - ETA: 13:05 - loss: 0.1233 - accuracy: 0.960 - ETA: 13:05 - loss: 0.1233 - accuracy: 0.960 - ETA: 13:04 - loss: 0.1232 - accuracy: 0.960 - ETA: 13:04 - loss: 0.1232 - accuracy: 0.960 - ETA: 13:03 - loss: 0.1234 - accuracy: 0.960 - ETA: 13:02 - loss: 0.1235 - accuracy: 0.960 - ETA: 13:02 - loss: 0.1236 - accuracy: 0.960 - ETA: 13:01 - loss: 0.1236 - accuracy: 0.960 - ETA: 13:00 - loss: 0.1235 - accuracy: 0.960 - ETA: 13:00 - loss: 0.1235 - accuracy: 0.960 - ETA: 12:59 - loss: 0.1234 - accuracy: 0.960 - ETA: 12:59 - loss: 0.1234 - accuracy: 0.960 - ETA: 12:58 - loss: 0.1233 - accuracy: 0.960 - ETA: 12:58 - loss: 0.1233 - accuracy: 0.960 - ETA: 12:57 - loss: 0.1233 - accuracy: 0.960 - ETA: 12:56 - loss: 0.1232 - accuracy: 0.960 - ETA: 12:56 - loss: 0.1234 - accuracy: 0.960 - ETA: 12:55 - loss: 0.1234 - accuracy: 0.960 - ETA: 12:55 - loss: 0.1233 - accuracy: 0.960 - ETA: 12:54 - loss: 0.1232 - accuracy: 0.960 - ETA: 12:53 - loss: 0.1232 - accuracy: 0.960 - ETA: 12:53 - loss: 0.1231 - accuracy: 0.960 - ETA: 12:52 - loss: 0.1232 - accuracy: 0.960 - ETA: 12:52 - loss: 0.1231 - accuracy: 0.960 - ETA: 12:51 - loss: 0.1231 - accuracy: 0.960 - ETA: 12:50 - loss: 0.1231 - accuracy: 0.960 - ETA: 12:50 - loss: 0.1232 - accuracy: 0.960 - ETA: 12:49 - loss: 0.1232 - accuracy: 0.960 - ETA: 12:49 - loss: 0.1232 - accuracy: 0.960 - ETA: 12:48 - loss: 0.1232 - accuracy: 0.960 - ETA: 12:47 - loss: 0.1231 - accuracy: 0.960 - ETA: 12:47 - loss: 0.1231 - accuracy: 0.960 - ETA: 12:46 - loss: 0.1233 - accuracy: 0.960 - ETA: 12:45 - loss: 0.1234 - accuracy: 0.960 - ETA: 12:45 - loss: 0.1233 - accuracy: 0.960 - ETA: 12:44 - loss: 0.1233 - accuracy: 0.960 - ETA: 12:44 - loss: 0.1232 - accuracy: 0.960 - ETA: 12:43 - loss: 0.1232 - accuracy: 0.960 - ETA: 12:42 - loss: 0.1231 - accuracy: 0.960 - ETA: 12:42 - loss: 0.1232 - accuracy: 0.960 - ETA: 12:41 - loss: 0.1231 - accuracy: 0.960 - ETA: 12:41 - loss: 0.1232 - accuracy: 0.960 - ETA: 12:40 - loss: 0.1232 - accuracy: 0.960 - ETA: 12:39 - loss: 0.1233 - accuracy: 0.960 - ETA: 12:39 - loss: 0.1232 - accuracy: 0.960 - ETA: 12:38 - loss: 0.1232 - accuracy: 0.960 - ETA: 12:38 - loss: 0.1232 - accuracy: 0.960 - ETA: 12:37 - loss: 0.1232 - accuracy: 0.960 - ETA: 12:36 - loss: 0.1231 - accuracy: 0.960 - ETA: 12:36 - loss: 0.1231 - accuracy: 0.960 - ETA: 12:35 - loss: 0.1231 - accuracy: 0.960 - ETA: 12:34 - loss: 0.1232 - accuracy: 0.960 - ETA: 12:34 - loss: 0.1233 - accuracy: 0.960 - ETA: 12:33 - loss: 0.1234 - accuracy: 0.960 - ETA: 12:33 - loss: 0.1233 - accuracy: 0.960 - ETA: 12:32 - loss: 0.1233 - accuracy: 0.960 - ETA: 12:31 - loss: 0.1232 - accuracy: 0.960 - ETA: 12:31 - loss: 0.1231 - accuracy: 0.960 - ETA: 12:30 - loss: 0.1233 - accuracy: 0.960 - ETA: 12:30 - loss: 0.1234 - accuracy: 0.960 - ETA: 12:29 - loss: 0.1233 - accuracy: 0.960 - ETA: 12:28 - loss: 0.1234 - accuracy: 0.960 - ETA: 12:28 - loss: 0.1234 - accuracy: 0.960 - ETA: 12:27 - loss: 0.1234 - accuracy: 0.960 - ETA: 12:27 - loss: 0.1233 - accuracy: 0.960 - ETA: 12:26 - loss: 0.1232 - accuracy: 0.960 - ETA: 12:25 - loss: 0.1232 - accuracy: 0.960 - ETA: 12:25 - loss: 0.1232 - accuracy: 0.960 - ETA: 12:24 - loss: 0.1232 - accuracy: 0.960 - ETA: 12:23 - loss: 0.1232 - accuracy: 0.960 - ETA: 12:23 - loss: 0.1232 - accuracy: 0.960 - ETA: 12:22 - loss: 0.1232 - accuracy: 0.960 - ETA: 12:22 - loss: 0.1231 - accuracy: 0.960 - ETA: 12:21 - loss: 0.1231 - accuracy: 0.960 - ETA: 12:21 - loss: 0.1230 - accuracy: 0.960 - ETA: 12:20 - loss: 0.1231 - accuracy: 0.960 - ETA: 12:20 - loss: 0.1230 - accuracy: 0.960 - ETA: 12:19 - loss: 0.1230 - accuracy: 0.960 - ETA: 12:18 - loss: 0.1232 - accuracy: 0.960 - ETA: 12:18 - loss: 0.1232 - accuracy: 0.960 - ETA: 12:17 - loss: 0.1232 - accuracy: 0.960 - ETA: 12:17 - loss: 0.1232 - accuracy: 0.960 - ETA: 12:16 - loss: 0.1233 - accuracy: 0.960 - ETA: 12:15 - loss: 0.1233 - accuracy: 0.960 - ETA: 12:15 - loss: 0.1233 - accuracy: 0.960 - ETA: 12:14 - loss: 0.1232 - accuracy: 0.960 - ETA: 12:14 - loss: 0.1231 - accuracy: 0.960 - ETA: 12:13 - loss: 0.1231 - accuracy: 0.960 - ETA: 12:12 - loss: 0.1231 - accuracy: 0.960 - ETA: 12:12 - loss: 0.1232 - accuracy: 0.960 - ETA: 12:11 - loss: 0.1232 - accuracy: 0.960 - ETA: 12:11 - loss: 0.1232 - accuracy: 0.960 - ETA: 12:10 - loss: 0.1232 - accuracy: 0.960 - ETA: 12:09 - loss: 0.1232 - accuracy: 0.960 - ETA: 12:09 - loss: 0.1232 - accuracy: 0.960 - ETA: 12:08 - loss: 0.1232 - accuracy: 0.960 - ETA: 12:08 - loss: 0.1233 - accuracy: 0.960 - ETA: 12:07 - loss: 0.1233 - accuracy: 0.960 - ETA: 12:06 - loss: 0.1234 - accuracy: 0.960 - ETA: 12:06 - loss: 0.1234 - accuracy: 0.960 - ETA: 12:05 - loss: 0.1234 - accuracy: 0.960 - ETA: 12:05 - loss: 0.1233 - accuracy: 0.960 - ETA: 12:04 - loss: 0.1233 - accuracy: 0.960 - ETA: 12:03 - loss: 0.1233 - accuracy: 0.960 - ETA: 12:03 - loss: 0.1233 - accuracy: 0.960 - ETA: 12:02 - loss: 0.1233 - accuracy: 0.960 - ETA: 12:02 - loss: 0.1233 - accuracy: 0.960 - ETA: 12:01 - loss: 0.1233 - accuracy: 0.960 - ETA: 12:01 - loss: 0.1233 - accuracy: 0.960 - ETA: 12:00 - loss: 0.1233 - accuracy: 0.960 - ETA: 11:59 - loss: 0.1234 - accuracy: 0.960 - ETA: 11:59 - loss: 0.1234 - accuracy: 0.960 - ETA: 11:59 - loss: 0.1235 - accuracy: 0.960 - ETA: 11:58 - loss: 0.1234 - accuracy: 0.960 - ETA: 11:57 - loss: 0.1234 - accuracy: 0.960 - ETA: 11:57 - loss: 0.1233 - accuracy: 0.960 - ETA: 11:56 - loss: 0.1233 - accuracy: 0.960 - ETA: 11:56 - loss: 0.1233 - accuracy: 0.960 - ETA: 11:55 - loss: 0.1233 - accuracy: 0.960 - ETA: 11:55 - loss: 0.1233 - accuracy: 0.960 - ETA: 11:54 - loss: 0.1233 - accuracy: 0.960 - ETA: 11:54 - loss: 0.1233 - accuracy: 0.960 - ETA: 11:53 - loss: 0.1232 - accuracy: 0.960 - ETA: 11:53 - loss: 0.1231 - accuracy: 0.960 - ETA: 11:52 - loss: 0.1232 - accuracy: 0.960 - ETA: 11:52 - loss: 0.1232 - accuracy: 0.960 - ETA: 11:51 - loss: 0.1232 - accuracy: 0.960 - ETA: 11:51 - loss: 0.1231 - accuracy: 0.960 - ETA: 11:50 - loss: 0.1232 - accuracy: 0.960 - ETA: 11:50 - loss: 0.1231 - accuracy: 0.960 - ETA: 11:49 - loss: 0.1231 - accuracy: 0.960 - ETA: 11:48 - loss: 0.1230 - accuracy: 0.960 - ETA: 11:48 - loss: 0.1230 - accuracy: 0.960 - ETA: 11:47 - loss: 0.1230 - accuracy: 0.960 - ETA: 11:47 - loss: 0.1230 - accuracy: 0.960 - ETA: 11:46 - loss: 0.1230 - accuracy: 0.960 - ETA: 11:45 - loss: 0.1229 - accuracy: 0.960 - ETA: 11:45 - loss: 0.1228 - accuracy: 0.960 - ETA: 11:44 - loss: 0.1229 - accuracy: 0.960 - ETA: 11:44 - loss: 0.1229 - accuracy: 0.960 - ETA: 11:43 - loss: 0.1229 - accuracy: 0.960 - ETA: 11:42 - loss: 0.1230 - accuracy: 0.960 - ETA: 11:42 - loss: 0.1230 - accuracy: 0.960 - ETA: 11:41 - loss: 0.1230 - accuracy: 0.960 - ETA: 11:41 - loss: 0.1230 - accuracy: 0.960 - ETA: 11:40 - loss: 0.1230 - accuracy: 0.960 - ETA: 11:39 - loss: 0.1229 - accuracy: 0.960 - ETA: 11:39 - loss: 0.1228 - accuracy: 0.960 - ETA: 11:38 - loss: 0.1228 - accuracy: 0.960 - ETA: 11:38 - loss: 0.1229 - accuracy: 0.960 - ETA: 11:37 - loss: 0.1229 - accuracy: 0.960 - ETA: 11:36 - loss: 0.1229 - accuracy: 0.960 - ETA: 11:36 - loss: 0.1228 - accuracy: 0.960 - ETA: 11:35 - loss: 0.1228 - accuracy: 0.960 - ETA: 11:35 - loss: 0.1228 - accuracy: 0.960 - ETA: 11:34 - loss: 0.1228 - accuracy: 0.960 - ETA: 11:33 - loss: 0.1230 - accuracy: 0.960 - ETA: 11:33 - loss: 0.1230 - accuracy: 0.960 - ETA: 11:32 - loss: 0.1230 - accuracy: 0.960 - ETA: 11:32 - loss: 0.1230 - accuracy: 0.960 - ETA: 11:31 - loss: 0.1230 - accuracy: 0.960 - ETA: 11:30 - loss: 0.1230 - accuracy: 0.960 - ETA: 11:30 - loss: 0.1229 - accuracy: 0.960 - ETA: 11:29 - loss: 0.1229 - accuracy: 0.960 - ETA: 11:29 - loss: 0.1228 - accuracy: 0.960 - ETA: 11:28 - loss: 0.1227 - accuracy: 0.960 - ETA: 11:27 - loss: 0.1227 - accuracy: 0.960 - ETA: 11:27 - loss: 0.1227 - accuracy: 0.960 - ETA: 11:26 - loss: 0.1226 - accuracy: 0.960 - ETA: 11:26 - loss: 0.1226 - accuracy: 0.960 - ETA: 11:25 - loss: 0.1225 - accuracy: 0.9604 79808/140454 [================>.............] - ETA: 11:24 - loss: 0.1225 - accuracy: 0.960 - ETA: 11:24 - loss: 0.1226 - accuracy: 0.960 - ETA: 11:23 - loss: 0.1226 - accuracy: 0.960 - ETA: 11:22 - loss: 0.1226 - accuracy: 0.960 - ETA: 11:22 - loss: 0.1226 - accuracy: 0.960 - ETA: 11:21 - loss: 0.1225 - accuracy: 0.960 - ETA: 11:21 - loss: 0.1224 - accuracy: 0.960 - ETA: 11:20 - loss: 0.1224 - accuracy: 0.960 - ETA: 11:19 - loss: 0.1224 - accuracy: 0.960 - ETA: 11:19 - loss: 0.1224 - accuracy: 0.960 - ETA: 11:18 - loss: 0.1225 - accuracy: 0.960 - ETA: 11:18 - loss: 0.1225 - accuracy: 0.960 - ETA: 11:17 - loss: 0.1225 - accuracy: 0.960 - ETA: 11:16 - loss: 0.1225 - accuracy: 0.960 - ETA: 11:16 - loss: 0.1227 - accuracy: 0.960 - ETA: 11:15 - loss: 0.1226 - accuracy: 0.960 - ETA: 11:15 - loss: 0.1226 - accuracy: 0.960 - ETA: 11:14 - loss: 0.1226 - accuracy: 0.960 - ETA: 11:14 - loss: 0.1226 - accuracy: 0.960 - ETA: 11:13 - loss: 0.1227 - accuracy: 0.960 - ETA: 11:13 - loss: 0.1227 - accuracy: 0.960 - ETA: 11:12 - loss: 0.1227 - accuracy: 0.960 - ETA: 11:12 - loss: 0.1227 - accuracy: 0.960 - ETA: 11:11 - loss: 0.1228 - accuracy: 0.960 - ETA: 11:10 - loss: 0.1228 - accuracy: 0.960 - ETA: 11:10 - loss: 0.1230 - accuracy: 0.960 - ETA: 11:09 - loss: 0.1230 - accuracy: 0.960 - ETA: 11:09 - loss: 0.1229 - accuracy: 0.960 - ETA: 11:08 - loss: 0.1230 - accuracy: 0.960 - ETA: 11:08 - loss: 0.1230 - accuracy: 0.960 - ETA: 11:07 - loss: 0.1231 - accuracy: 0.960 - ETA: 11:06 - loss: 0.1231 - accuracy: 0.960 - ETA: 11:06 - loss: 0.1231 - accuracy: 0.960 - ETA: 11:05 - loss: 0.1231 - accuracy: 0.960 - ETA: 11:05 - loss: 0.1230 - accuracy: 0.960 - ETA: 11:04 - loss: 0.1231 - accuracy: 0.960 - ETA: 11:03 - loss: 0.1230 - accuracy: 0.960 - ETA: 11:03 - loss: 0.1230 - accuracy: 0.960 - ETA: 11:02 - loss: 0.1232 - accuracy: 0.960 - ETA: 11:02 - loss: 0.1232 - accuracy: 0.960 - ETA: 11:01 - loss: 0.1231 - accuracy: 0.960 - ETA: 11:00 - loss: 0.1233 - accuracy: 0.960 - ETA: 11:00 - loss: 0.1232 - accuracy: 0.960 - ETA: 10:59 - loss: 0.1232 - accuracy: 0.960 - ETA: 10:59 - loss: 0.1233 - accuracy: 0.960 - ETA: 10:58 - loss: 0.1233 - accuracy: 0.960 - ETA: 10:57 - loss: 0.1233 - accuracy: 0.960 - ETA: 10:57 - loss: 0.1232 - accuracy: 0.960 - ETA: 10:56 - loss: 0.1232 - accuracy: 0.960 - ETA: 10:56 - loss: 0.1231 - accuracy: 0.960 - ETA: 10:55 - loss: 0.1231 - accuracy: 0.960 - ETA: 10:54 - loss: 0.1230 - accuracy: 0.960 - ETA: 10:54 - loss: 0.1230 - accuracy: 0.960 - ETA: 10:53 - loss: 0.1230 - accuracy: 0.960 - ETA: 10:53 - loss: 0.1231 - accuracy: 0.960 - ETA: 10:52 - loss: 0.1230 - accuracy: 0.960 - ETA: 10:51 - loss: 0.1230 - accuracy: 0.960 - ETA: 10:51 - loss: 0.1231 - accuracy: 0.960 - ETA: 10:50 - loss: 0.1230 - accuracy: 0.960 - ETA: 10:49 - loss: 0.1231 - accuracy: 0.960 - ETA: 10:49 - loss: 0.1231 - accuracy: 0.960 - ETA: 10:48 - loss: 0.1231 - accuracy: 0.960 - ETA: 10:48 - loss: 0.1230 - accuracy: 0.960 - ETA: 10:47 - loss: 0.1230 - accuracy: 0.960 - ETA: 10:46 - loss: 0.1230 - accuracy: 0.960 - ETA: 10:46 - loss: 0.1230 - accuracy: 0.960 - ETA: 10:45 - loss: 0.1231 - accuracy: 0.960 - ETA: 10:45 - loss: 0.1232 - accuracy: 0.960 - ETA: 10:44 - loss: 0.1232 - accuracy: 0.960 - ETA: 10:43 - loss: 0.1232 - accuracy: 0.960 - ETA: 10:43 - loss: 0.1231 - accuracy: 0.960 - ETA: 10:42 - loss: 0.1232 - accuracy: 0.960 - ETA: 10:41 - loss: 0.1232 - accuracy: 0.960 - ETA: 10:41 - loss: 0.1233 - accuracy: 0.960 - ETA: 10:40 - loss: 0.1233 - accuracy: 0.960 - ETA: 10:40 - loss: 0.1233 - accuracy: 0.960 - ETA: 10:39 - loss: 0.1232 - accuracy: 0.960 - ETA: 10:38 - loss: 0.1232 - accuracy: 0.960 - ETA: 10:38 - loss: 0.1233 - accuracy: 0.960 - ETA: 10:37 - loss: 0.1233 - accuracy: 0.960 - ETA: 10:37 - loss: 0.1233 - accuracy: 0.960 - ETA: 10:36 - loss: 0.1234 - accuracy: 0.960 - ETA: 10:35 - loss: 0.1234 - accuracy: 0.960 - ETA: 10:35 - loss: 0.1233 - accuracy: 0.960 - ETA: 10:34 - loss: 0.1232 - accuracy: 0.960 - ETA: 10:34 - loss: 0.1233 - accuracy: 0.960 - ETA: 10:33 - loss: 0.1233 - accuracy: 0.960 - ETA: 10:32 - loss: 0.1233 - accuracy: 0.960 - ETA: 10:32 - loss: 0.1234 - accuracy: 0.960 - ETA: 10:31 - loss: 0.1234 - accuracy: 0.960 - ETA: 10:31 - loss: 0.1234 - accuracy: 0.960 - ETA: 10:30 - loss: 0.1235 - accuracy: 0.960 - ETA: 10:29 - loss: 0.1235 - accuracy: 0.960 - ETA: 10:29 - loss: 0.1235 - accuracy: 0.960 - ETA: 10:28 - loss: 0.1235 - accuracy: 0.960 - ETA: 10:27 - loss: 0.1236 - accuracy: 0.960 - ETA: 10:27 - loss: 0.1237 - accuracy: 0.959 - ETA: 10:26 - loss: 0.1237 - accuracy: 0.960 - ETA: 10:26 - loss: 0.1237 - accuracy: 0.960 - ETA: 10:25 - loss: 0.1237 - accuracy: 0.960 - ETA: 10:24 - loss: 0.1238 - accuracy: 0.959 - ETA: 10:24 - loss: 0.1239 - accuracy: 0.959 - ETA: 10:23 - loss: 0.1239 - accuracy: 0.959 - ETA: 10:23 - loss: 0.1239 - accuracy: 0.959 - ETA: 10:22 - loss: 0.1239 - accuracy: 0.959 - ETA: 10:22 - loss: 0.1239 - accuracy: 0.959 - ETA: 10:21 - loss: 0.1239 - accuracy: 0.959 - ETA: 10:21 - loss: 0.1240 - accuracy: 0.959 - ETA: 10:20 - loss: 0.1240 - accuracy: 0.959 - ETA: 10:20 - loss: 0.1239 - accuracy: 0.959 - ETA: 10:19 - loss: 0.1239 - accuracy: 0.959 - ETA: 10:19 - loss: 0.1240 - accuracy: 0.959 - ETA: 10:18 - loss: 0.1239 - accuracy: 0.959 - ETA: 10:17 - loss: 0.1239 - accuracy: 0.959 - ETA: 10:17 - loss: 0.1241 - accuracy: 0.959 - ETA: 10:16 - loss: 0.1242 - accuracy: 0.959 - ETA: 10:15 - loss: 0.1241 - accuracy: 0.959 - ETA: 10:15 - loss: 0.1241 - accuracy: 0.959 - ETA: 10:14 - loss: 0.1241 - accuracy: 0.959 - ETA: 10:14 - loss: 0.1241 - accuracy: 0.959 - ETA: 10:13 - loss: 0.1240 - accuracy: 0.959 - ETA: 10:12 - loss: 0.1241 - accuracy: 0.959 - ETA: 10:12 - loss: 0.1243 - accuracy: 0.959 - ETA: 10:11 - loss: 0.1243 - accuracy: 0.959 - ETA: 10:10 - loss: 0.1244 - accuracy: 0.959 - ETA: 10:10 - loss: 0.1243 - accuracy: 0.959 - ETA: 10:09 - loss: 0.1243 - accuracy: 0.959 - ETA: 10:09 - loss: 0.1243 - accuracy: 0.959 - ETA: 10:08 - loss: 0.1243 - accuracy: 0.959 - ETA: 10:07 - loss: 0.1243 - accuracy: 0.959 - ETA: 10:07 - loss: 0.1243 - accuracy: 0.959 - ETA: 10:06 - loss: 0.1243 - accuracy: 0.959 - ETA: 10:05 - loss: 0.1242 - accuracy: 0.959 - ETA: 10:05 - loss: 0.1243 - accuracy: 0.959 - ETA: 10:04 - loss: 0.1242 - accuracy: 0.959 - ETA: 10:04 - loss: 0.1242 - accuracy: 0.959 - ETA: 10:04 - loss: 0.1242 - accuracy: 0.959 - ETA: 10:03 - loss: 0.1242 - accuracy: 0.959 - ETA: 10:02 - loss: 0.1242 - accuracy: 0.959 - ETA: 10:02 - loss: 0.1244 - accuracy: 0.959 - ETA: 10:01 - loss: 0.1244 - accuracy: 0.959 - ETA: 10:01 - loss: 0.1244 - accuracy: 0.959 - ETA: 10:00 - loss: 0.1244 - accuracy: 0.959 - ETA: 10:00 - loss: 0.1243 - accuracy: 0.959 - ETA: 9:59 - loss: 0.1244 - accuracy: 0.959 - ETA: 9:59 - loss: 0.1244 - accuracy: 0.95 - ETA: 9:58 - loss: 0.1244 - accuracy: 0.95 - ETA: 9:57 - loss: 0.1244 - accuracy: 0.95 - ETA: 9:57 - loss: 0.1244 - accuracy: 0.95 - ETA: 9:56 - loss: 0.1245 - accuracy: 0.95 - ETA: 9:56 - loss: 0.1245 - accuracy: 0.95 - ETA: 9:55 - loss: 0.1244 - accuracy: 0.95 - ETA: 9:54 - loss: 0.1244 - accuracy: 0.95 - ETA: 9:54 - loss: 0.1243 - accuracy: 0.95 - ETA: 9:53 - loss: 0.1243 - accuracy: 0.95 - ETA: 9:52 - loss: 0.1243 - accuracy: 0.95 - ETA: 9:52 - loss: 0.1242 - accuracy: 0.95 - ETA: 9:51 - loss: 0.1242 - accuracy: 0.95 - ETA: 9:51 - loss: 0.1241 - accuracy: 0.95 - ETA: 9:50 - loss: 0.1242 - accuracy: 0.95 - ETA: 9:49 - loss: 0.1241 - accuracy: 0.95 - ETA: 9:49 - loss: 0.1241 - accuracy: 0.95 - ETA: 9:48 - loss: 0.1242 - accuracy: 0.95 - ETA: 9:47 - loss: 0.1242 - accuracy: 0.95 - ETA: 9:47 - loss: 0.1242 - accuracy: 0.95 - ETA: 9:46 - loss: 0.1242 - accuracy: 0.95 - ETA: 9:45 - loss: 0.1244 - accuracy: 0.95 - ETA: 9:45 - loss: 0.1243 - accuracy: 0.95 - ETA: 9:44 - loss: 0.1243 - accuracy: 0.95 - ETA: 9:44 - loss: 0.1243 - accuracy: 0.95 - ETA: 9:43 - loss: 0.1242 - accuracy: 0.95 - ETA: 9:42 - loss: 0.1242 - accuracy: 0.95 - ETA: 9:42 - loss: 0.1242 - accuracy: 0.95 - ETA: 9:41 - loss: 0.1242 - accuracy: 0.95 - ETA: 9:40 - loss: 0.1243 - accuracy: 0.95 - ETA: 9:40 - loss: 0.1243 - accuracy: 0.95 - ETA: 9:39 - loss: 0.1242 - accuracy: 0.95 - ETA: 9:39 - loss: 0.1242 - accuracy: 0.95 - ETA: 9:38 - loss: 0.1243 - accuracy: 0.9596 91712/140454 [==================>...........] - ETA: 9:37 - loss: 0.1243 - accuracy: 0.95 - ETA: 9:37 - loss: 0.1243 - accuracy: 0.95 - ETA: 9:36 - loss: 0.1244 - accuracy: 0.95 - ETA: 9:36 - loss: 0.1243 - accuracy: 0.95 - ETA: 9:35 - loss: 0.1244 - accuracy: 0.95 - ETA: 9:34 - loss: 0.1244 - accuracy: 0.95 - ETA: 9:34 - loss: 0.1244 - accuracy: 0.95 - ETA: 9:33 - loss: 0.1243 - accuracy: 0.95 - ETA: 9:32 - loss: 0.1242 - accuracy: 0.95 - ETA: 9:32 - loss: 0.1242 - accuracy: 0.95 - ETA: 9:31 - loss: 0.1241 - accuracy: 0.95 - ETA: 9:31 - loss: 0.1241 - accuracy: 0.95 - ETA: 9:30 - loss: 0.1241 - accuracy: 0.95 - ETA: 9:30 - loss: 0.1241 - accuracy: 0.95 - ETA: 9:29 - loss: 0.1240 - accuracy: 0.95 - ETA: 9:29 - loss: 0.1241 - accuracy: 0.95 - ETA: 9:28 - loss: 0.1241 - accuracy: 0.95 - ETA: 9:27 - loss: 0.1241 - accuracy: 0.95 - ETA: 9:27 - loss: 0.1242 - accuracy: 0.95 - ETA: 9:26 - loss: 0.1241 - accuracy: 0.95 - ETA: 9:26 - loss: 0.1242 - accuracy: 0.95 - ETA: 9:25 - loss: 0.1243 - accuracy: 0.95 - ETA: 9:24 - loss: 0.1243 - accuracy: 0.95 - ETA: 9:24 - loss: 0.1243 - accuracy: 0.95 - ETA: 9:23 - loss: 0.1243 - accuracy: 0.95 - ETA: 9:23 - loss: 0.1242 - accuracy: 0.95 - ETA: 9:23 - loss: 0.1242 - accuracy: 0.95 - ETA: 9:22 - loss: 0.1242 - accuracy: 0.95 - ETA: 9:22 - loss: 0.1242 - accuracy: 0.95 - ETA: 9:21 - loss: 0.1242 - accuracy: 0.95 - ETA: 9:21 - loss: 0.1242 - accuracy: 0.95 - ETA: 9:20 - loss: 0.1243 - accuracy: 0.95 - ETA: 9:20 - loss: 0.1243 - accuracy: 0.95 - ETA: 9:19 - loss: 0.1242 - accuracy: 0.95 - ETA: 9:19 - loss: 0.1242 - accuracy: 0.95 - ETA: 9:18 - loss: 0.1242 - accuracy: 0.95 - ETA: 9:18 - loss: 0.1242 - accuracy: 0.95 - ETA: 9:17 - loss: 0.1241 - accuracy: 0.95 - ETA: 9:17 - loss: 0.1241 - accuracy: 0.95 - ETA: 9:16 - loss: 0.1241 - accuracy: 0.95 - ETA: 9:16 - loss: 0.1242 - accuracy: 0.95 - ETA: 9:15 - loss: 0.1242 - accuracy: 0.95 - ETA: 9:15 - loss: 0.1241 - accuracy: 0.95 - ETA: 9:15 - loss: 0.1241 - accuracy: 0.95 - ETA: 9:14 - loss: 0.1241 - accuracy: 0.95 - ETA: 9:14 - loss: 0.1241 - accuracy: 0.95 - ETA: 9:14 - loss: 0.1241 - accuracy: 0.95 - ETA: 9:13 - loss: 0.1240 - accuracy: 0.95 - ETA: 9:13 - loss: 0.1240 - accuracy: 0.95 - ETA: 9:12 - loss: 0.1240 - accuracy: 0.95 - ETA: 9:12 - loss: 0.1239 - accuracy: 0.95 - ETA: 9:11 - loss: 0.1241 - accuracy: 0.95 - ETA: 9:11 - loss: 0.1241 - accuracy: 0.95 - ETA: 9:10 - loss: 0.1241 - accuracy: 0.95 - ETA: 9:10 - loss: 0.1242 - accuracy: 0.95 - ETA: 9:09 - loss: 0.1242 - accuracy: 0.95 - ETA: 9:09 - loss: 0.1242 - accuracy: 0.95 - ETA: 9:08 - loss: 0.1242 - accuracy: 0.95 - ETA: 9:08 - loss: 0.1241 - accuracy: 0.95 - ETA: 9:07 - loss: 0.1241 - accuracy: 0.95 - ETA: 9:07 - loss: 0.1242 - accuracy: 0.95 - ETA: 9:06 - loss: 0.1242 - accuracy: 0.95 - ETA: 9:06 - loss: 0.1241 - accuracy: 0.95 - ETA: 9:05 - loss: 0.1242 - accuracy: 0.95 - ETA: 9:05 - loss: 0.1243 - accuracy: 0.95 - ETA: 9:04 - loss: 0.1243 - accuracy: 0.95 - ETA: 9:04 - loss: 0.1244 - accuracy: 0.95 - ETA: 9:03 - loss: 0.1244 - accuracy: 0.95 - ETA: 9:03 - loss: 0.1243 - accuracy: 0.95 - ETA: 9:02 - loss: 0.1243 - accuracy: 0.95 - ETA: 9:02 - loss: 0.1244 - accuracy: 0.95 - ETA: 9:01 - loss: 0.1244 - accuracy: 0.95 - ETA: 9:01 - loss: 0.1244 - accuracy: 0.95 - ETA: 9:00 - loss: 0.1243 - accuracy: 0.95 - ETA: 9:00 - loss: 0.1244 - accuracy: 0.95 - ETA: 8:59 - loss: 0.1244 - accuracy: 0.95 - ETA: 8:59 - loss: 0.1244 - accuracy: 0.95 - ETA: 8:58 - loss: 0.1243 - accuracy: 0.95 - ETA: 8:57 - loss: 0.1244 - accuracy: 0.95 - ETA: 8:57 - loss: 0.1243 - accuracy: 0.95 - ETA: 8:56 - loss: 0.1244 - accuracy: 0.95 - ETA: 8:56 - loss: 0.1244 - accuracy: 0.95 - ETA: 8:55 - loss: 0.1245 - accuracy: 0.95 - ETA: 8:55 - loss: 0.1245 - accuracy: 0.95 - ETA: 8:54 - loss: 0.1246 - accuracy: 0.95 - ETA: 8:54 - loss: 0.1245 - accuracy: 0.95 - ETA: 8:53 - loss: 0.1245 - accuracy: 0.95 - ETA: 8:52 - loss: 0.1245 - accuracy: 0.95 - ETA: 8:52 - loss: 0.1245 - accuracy: 0.95 - ETA: 8:51 - loss: 0.1245 - accuracy: 0.95 - ETA: 8:51 - loss: 0.1244 - accuracy: 0.95 - ETA: 8:50 - loss: 0.1244 - accuracy: 0.95 - ETA: 8:50 - loss: 0.1245 - accuracy: 0.95 - ETA: 8:49 - loss: 0.1246 - accuracy: 0.95 - ETA: 8:49 - loss: 0.1245 - accuracy: 0.95 - ETA: 8:48 - loss: 0.1245 - accuracy: 0.95 - ETA: 8:48 - loss: 0.1247 - accuracy: 0.95 - ETA: 8:47 - loss: 0.1248 - accuracy: 0.95 - ETA: 8:47 - loss: 0.1249 - accuracy: 0.95 - ETA: 8:46 - loss: 0.1249 - accuracy: 0.95 - ETA: 8:46 - loss: 0.1250 - accuracy: 0.95 - ETA: 8:45 - loss: 0.1250 - accuracy: 0.95 - ETA: 8:45 - loss: 0.1250 - accuracy: 0.95 - ETA: 8:44 - loss: 0.1249 - accuracy: 0.95 - ETA: 8:44 - loss: 0.1249 - accuracy: 0.95 - ETA: 8:43 - loss: 0.1249 - accuracy: 0.95 - ETA: 8:43 - loss: 0.1248 - accuracy: 0.95 - ETA: 8:42 - loss: 0.1248 - accuracy: 0.95 - ETA: 8:42 - loss: 0.1249 - accuracy: 0.95 - ETA: 8:41 - loss: 0.1248 - accuracy: 0.95 - ETA: 8:41 - loss: 0.1249 - accuracy: 0.95 - ETA: 8:40 - loss: 0.1249 - accuracy: 0.95 - ETA: 8:40 - loss: 0.1248 - accuracy: 0.95 - ETA: 8:39 - loss: 0.1248 - accuracy: 0.95 - ETA: 8:39 - loss: 0.1249 - accuracy: 0.95 - ETA: 8:38 - loss: 0.1249 - accuracy: 0.95 - ETA: 8:38 - loss: 0.1249 - accuracy: 0.95 - ETA: 8:37 - loss: 0.1249 - accuracy: 0.95 - ETA: 8:37 - loss: 0.1249 - accuracy: 0.95 - ETA: 8:36 - loss: 0.1250 - accuracy: 0.95 - ETA: 8:36 - loss: 0.1252 - accuracy: 0.95 - ETA: 8:35 - loss: 0.1252 - accuracy: 0.95 - ETA: 8:35 - loss: 0.1251 - accuracy: 0.95 - ETA: 8:34 - loss: 0.1252 - accuracy: 0.95 - ETA: 8:34 - loss: 0.1252 - accuracy: 0.95 - ETA: 8:33 - loss: 0.1251 - accuracy: 0.95 - ETA: 8:33 - loss: 0.1253 - accuracy: 0.95 - ETA: 8:32 - loss: 0.1252 - accuracy: 0.95 - ETA: 8:32 - loss: 0.1253 - accuracy: 0.95 - ETA: 8:32 - loss: 0.1253 - accuracy: 0.95 - ETA: 8:31 - loss: 0.1254 - accuracy: 0.95 - ETA: 8:30 - loss: 0.1253 - accuracy: 0.95 - ETA: 8:30 - loss: 0.1254 - accuracy: 0.95 - ETA: 8:29 - loss: 0.1254 - accuracy: 0.95 - ETA: 8:29 - loss: 0.1254 - accuracy: 0.95 - ETA: 8:28 - loss: 0.1254 - accuracy: 0.95 - ETA: 8:28 - loss: 0.1254 - accuracy: 0.95 - ETA: 8:27 - loss: 0.1254 - accuracy: 0.95 - ETA: 8:27 - loss: 0.1254 - accuracy: 0.95 - ETA: 8:26 - loss: 0.1254 - accuracy: 0.95 - ETA: 8:25 - loss: 0.1254 - accuracy: 0.95 - ETA: 8:25 - loss: 0.1254 - accuracy: 0.95 - ETA: 8:24 - loss: 0.1254 - accuracy: 0.95 - ETA: 8:24 - loss: 0.1254 - accuracy: 0.95 - ETA: 8:23 - loss: 0.1255 - accuracy: 0.95 - ETA: 8:22 - loss: 0.1256 - accuracy: 0.95 - ETA: 8:22 - loss: 0.1256 - accuracy: 0.95 - ETA: 8:21 - loss: 0.1255 - accuracy: 0.95 - ETA: 8:20 - loss: 0.1256 - accuracy: 0.95 - ETA: 8:20 - loss: 0.1257 - accuracy: 0.95 - ETA: 8:19 - loss: 0.1257 - accuracy: 0.95 - ETA: 8:18 - loss: 0.1257 - accuracy: 0.95 - ETA: 8:18 - loss: 0.1257 - accuracy: 0.95 - ETA: 8:17 - loss: 0.1256 - accuracy: 0.95 - ETA: 8:17 - loss: 0.1256 - accuracy: 0.95 - ETA: 8:16 - loss: 0.1257 - accuracy: 0.95 - ETA: 8:16 - loss: 0.1257 - accuracy: 0.95 - ETA: 8:15 - loss: 0.1257 - accuracy: 0.95 - ETA: 8:14 - loss: 0.1258 - accuracy: 0.95 - ETA: 8:14 - loss: 0.1257 - accuracy: 0.95 - ETA: 8:13 - loss: 0.1257 - accuracy: 0.95 - ETA: 8:12 - loss: 0.1257 - accuracy: 0.95 - ETA: 8:12 - loss: 0.1257 - accuracy: 0.95 - ETA: 8:11 - loss: 0.1257 - accuracy: 0.95 - ETA: 8:11 - loss: 0.1256 - accuracy: 0.95 - ETA: 8:10 - loss: 0.1256 - accuracy: 0.95 - ETA: 8:09 - loss: 0.1257 - accuracy: 0.95 - ETA: 8:09 - loss: 0.1257 - accuracy: 0.95 - ETA: 8:08 - loss: 0.1257 - accuracy: 0.95 - ETA: 8:07 - loss: 0.1257 - accuracy: 0.95 - ETA: 8:07 - loss: 0.1257 - accuracy: 0.95 - ETA: 8:06 - loss: 0.1257 - accuracy: 0.95 - ETA: 8:06 - loss: 0.1257 - accuracy: 0.95 - ETA: 8:05 - loss: 0.1257 - accuracy: 0.95 - ETA: 8:05 - loss: 0.1257 - accuracy: 0.95 - ETA: 8:04 - loss: 0.1257 - accuracy: 0.95 - ETA: 8:03 - loss: 0.1257 - accuracy: 0.95 - ETA: 8:03 - loss: 0.1258 - accuracy: 0.95 - ETA: 8:02 - loss: 0.1258 - accuracy: 0.95 - ETA: 8:01 - loss: 0.1258 - accuracy: 0.95 - ETA: 8:01 - loss: 0.1258 - accuracy: 0.95 - ETA: 8:00 - loss: 0.1257 - accuracy: 0.95 - ETA: 8:00 - loss: 0.1257 - accuracy: 0.95 - ETA: 7:59 - loss: 0.1259 - accuracy: 0.95 - ETA: 7:58 - loss: 0.1259 - accuracy: 0.95 - ETA: 7:58 - loss: 0.1259 - accuracy: 0.9592103616/140454 [=====================>........] - ETA: 7:57 - loss: 0.1259 - accuracy: 0.95 - ETA: 7:56 - loss: 0.1259 - accuracy: 0.95 - ETA: 7:56 - loss: 0.1260 - accuracy: 0.95 - ETA: 7:55 - loss: 0.1261 - accuracy: 0.95 - ETA: 7:54 - loss: 0.1260 - accuracy: 0.95 - ETA: 7:54 - loss: 0.1260 - accuracy: 0.95 - ETA: 7:53 - loss: 0.1260 - accuracy: 0.95 - ETA: 7:53 - loss: 0.1260 - accuracy: 0.95 - ETA: 7:52 - loss: 0.1260 - accuracy: 0.95 - ETA: 7:51 - loss: 0.1260 - accuracy: 0.95 - ETA: 7:51 - loss: 0.1259 - accuracy: 0.95 - ETA: 7:50 - loss: 0.1259 - accuracy: 0.95 - ETA: 7:49 - loss: 0.1259 - accuracy: 0.95 - ETA: 7:49 - loss: 0.1259 - accuracy: 0.95 - ETA: 7:48 - loss: 0.1259 - accuracy: 0.95 - ETA: 7:48 - loss: 0.1258 - accuracy: 0.95 - ETA: 7:47 - loss: 0.1258 - accuracy: 0.95 - ETA: 7:46 - loss: 0.1258 - accuracy: 0.95 - ETA: 7:46 - loss: 0.1259 - accuracy: 0.95 - ETA: 7:45 - loss: 0.1259 - accuracy: 0.95 - ETA: 7:44 - loss: 0.1258 - accuracy: 0.95 - ETA: 7:44 - loss: 0.1259 - accuracy: 0.95 - ETA: 7:43 - loss: 0.1259 - accuracy: 0.95 - ETA: 7:42 - loss: 0.1260 - accuracy: 0.95 - ETA: 7:42 - loss: 0.1260 - accuracy: 0.95 - ETA: 7:41 - loss: 0.1260 - accuracy: 0.95 - ETA: 7:41 - loss: 0.1259 - accuracy: 0.95 - ETA: 7:40 - loss: 0.1259 - accuracy: 0.95 - ETA: 7:39 - loss: 0.1259 - accuracy: 0.95 - ETA: 7:39 - loss: 0.1259 - accuracy: 0.95 - ETA: 7:38 - loss: 0.1258 - accuracy: 0.95 - ETA: 7:37 - loss: 0.1258 - accuracy: 0.95 - ETA: 7:37 - loss: 0.1259 - accuracy: 0.95 - ETA: 7:36 - loss: 0.1259 - accuracy: 0.95 - ETA: 7:35 - loss: 0.1260 - accuracy: 0.95 - ETA: 7:35 - loss: 0.1260 - accuracy: 0.95 - ETA: 7:34 - loss: 0.1260 - accuracy: 0.95 - ETA: 7:34 - loss: 0.1260 - accuracy: 0.95 - ETA: 7:33 - loss: 0.1260 - accuracy: 0.95 - ETA: 7:32 - loss: 0.1259 - accuracy: 0.95 - ETA: 7:32 - loss: 0.1260 - accuracy: 0.95 - ETA: 7:31 - loss: 0.1259 - accuracy: 0.95 - ETA: 7:30 - loss: 0.1259 - accuracy: 0.95 - ETA: 7:30 - loss: 0.1260 - accuracy: 0.95 - ETA: 7:29 - loss: 0.1261 - accuracy: 0.95 - ETA: 7:28 - loss: 0.1262 - accuracy: 0.95 - ETA: 7:28 - loss: 0.1262 - accuracy: 0.95 - ETA: 7:27 - loss: 0.1262 - accuracy: 0.95 - ETA: 7:26 - loss: 0.1261 - accuracy: 0.95 - ETA: 7:26 - loss: 0.1262 - accuracy: 0.95 - ETA: 7:25 - loss: 0.1261 - accuracy: 0.95 - ETA: 7:25 - loss: 0.1261 - accuracy: 0.95 - ETA: 7:24 - loss: 0.1261 - accuracy: 0.95 - ETA: 7:23 - loss: 0.1262 - accuracy: 0.95 - ETA: 7:23 - loss: 0.1264 - accuracy: 0.95 - ETA: 7:22 - loss: 0.1264 - accuracy: 0.95 - ETA: 7:21 - loss: 0.1264 - accuracy: 0.95 - ETA: 7:21 - loss: 0.1264 - accuracy: 0.95 - ETA: 7:20 - loss: 0.1264 - accuracy: 0.95 - ETA: 7:19 - loss: 0.1265 - accuracy: 0.95 - ETA: 7:19 - loss: 0.1264 - accuracy: 0.95 - ETA: 7:18 - loss: 0.1265 - accuracy: 0.95 - ETA: 7:18 - loss: 0.1265 - accuracy: 0.95 - ETA: 7:17 - loss: 0.1265 - accuracy: 0.95 - ETA: 7:16 - loss: 0.1266 - accuracy: 0.95 - ETA: 7:16 - loss: 0.1266 - accuracy: 0.95 - ETA: 7:15 - loss: 0.1266 - accuracy: 0.95 - ETA: 7:14 - loss: 0.1265 - accuracy: 0.95 - ETA: 7:14 - loss: 0.1266 - accuracy: 0.95 - ETA: 7:13 - loss: 0.1265 - accuracy: 0.95 - ETA: 7:12 - loss: 0.1265 - accuracy: 0.95 - ETA: 7:12 - loss: 0.1265 - accuracy: 0.95 - ETA: 7:11 - loss: 0.1265 - accuracy: 0.95 - ETA: 7:11 - loss: 0.1266 - accuracy: 0.95 - ETA: 7:10 - loss: 0.1267 - accuracy: 0.95 - ETA: 7:09 - loss: 0.1266 - accuracy: 0.95 - ETA: 7:09 - loss: 0.1267 - accuracy: 0.95 - ETA: 7:08 - loss: 0.1267 - accuracy: 0.95 - ETA: 7:07 - loss: 0.1266 - accuracy: 0.95 - ETA: 7:07 - loss: 0.1266 - accuracy: 0.95 - ETA: 7:06 - loss: 0.1266 - accuracy: 0.95 - ETA: 7:05 - loss: 0.1266 - accuracy: 0.95 - ETA: 7:05 - loss: 0.1266 - accuracy: 0.95 - ETA: 7:04 - loss: 0.1266 - accuracy: 0.95 - ETA: 7:04 - loss: 0.1265 - accuracy: 0.95 - ETA: 7:03 - loss: 0.1265 - accuracy: 0.95 - ETA: 7:02 - loss: 0.1265 - accuracy: 0.95 - ETA: 7:02 - loss: 0.1264 - accuracy: 0.95 - ETA: 7:01 - loss: 0.1265 - accuracy: 0.95 - ETA: 7:00 - loss: 0.1265 - accuracy: 0.95 - ETA: 7:00 - loss: 0.1265 - accuracy: 0.95 - ETA: 6:59 - loss: 0.1265 - accuracy: 0.95 - ETA: 6:58 - loss: 0.1265 - accuracy: 0.95 - ETA: 6:58 - loss: 0.1265 - accuracy: 0.95 - ETA: 6:57 - loss: 0.1265 - accuracy: 0.95 - ETA: 6:57 - loss: 0.1265 - accuracy: 0.95 - ETA: 6:56 - loss: 0.1265 - accuracy: 0.95 - ETA: 6:55 - loss: 0.1265 - accuracy: 0.95 - ETA: 6:55 - loss: 0.1265 - accuracy: 0.95 - ETA: 6:54 - loss: 0.1265 - accuracy: 0.95 - ETA: 6:53 - loss: 0.1265 - accuracy: 0.95 - ETA: 6:53 - loss: 0.1265 - accuracy: 0.95 - ETA: 6:52 - loss: 0.1265 - accuracy: 0.95 - ETA: 6:51 - loss: 0.1265 - accuracy: 0.95 - ETA: 6:51 - loss: 0.1264 - accuracy: 0.95 - ETA: 6:50 - loss: 0.1264 - accuracy: 0.95 - ETA: 6:50 - loss: 0.1264 - accuracy: 0.95 - ETA: 6:49 - loss: 0.1264 - accuracy: 0.95 - ETA: 6:48 - loss: 0.1265 - accuracy: 0.95 - ETA: 6:48 - loss: 0.1265 - accuracy: 0.95 - ETA: 6:47 - loss: 0.1264 - accuracy: 0.95 - ETA: 6:46 - loss: 0.1264 - accuracy: 0.95 - ETA: 6:46 - loss: 0.1264 - accuracy: 0.95 - ETA: 6:45 - loss: 0.1265 - accuracy: 0.95 - ETA: 6:44 - loss: 0.1265 - accuracy: 0.95 - ETA: 6:44 - loss: 0.1265 - accuracy: 0.95 - ETA: 6:43 - loss: 0.1265 - accuracy: 0.95 - ETA: 6:43 - loss: 0.1265 - accuracy: 0.95 - ETA: 6:42 - loss: 0.1265 - accuracy: 0.95 - ETA: 6:41 - loss: 0.1264 - accuracy: 0.95 - ETA: 6:41 - loss: 0.1264 - accuracy: 0.95 - ETA: 6:40 - loss: 0.1264 - accuracy: 0.95 - ETA: 6:39 - loss: 0.1264 - accuracy: 0.95 - ETA: 6:39 - loss: 0.1263 - accuracy: 0.95 - ETA: 6:38 - loss: 0.1263 - accuracy: 0.95 - ETA: 6:37 - loss: 0.1263 - accuracy: 0.95 - ETA: 6:37 - loss: 0.1263 - accuracy: 0.95 - ETA: 6:36 - loss: 0.1263 - accuracy: 0.95 - ETA: 6:36 - loss: 0.1263 - accuracy: 0.95 - ETA: 6:35 - loss: 0.1263 - accuracy: 0.95 - ETA: 6:34 - loss: 0.1264 - accuracy: 0.95 - ETA: 6:34 - loss: 0.1264 - accuracy: 0.95 - ETA: 6:33 - loss: 0.1264 - accuracy: 0.95 - ETA: 6:32 - loss: 0.1264 - accuracy: 0.95 - ETA: 6:32 - loss: 0.1265 - accuracy: 0.95 - ETA: 6:31 - loss: 0.1265 - accuracy: 0.95 - ETA: 6:31 - loss: 0.1266 - accuracy: 0.95 - ETA: 6:30 - loss: 0.1266 - accuracy: 0.95 - ETA: 6:29 - loss: 0.1266 - accuracy: 0.95 - ETA: 6:29 - loss: 0.1266 - accuracy: 0.95 - ETA: 6:28 - loss: 0.1267 - accuracy: 0.95 - ETA: 6:27 - loss: 0.1267 - accuracy: 0.95 - ETA: 6:27 - loss: 0.1268 - accuracy: 0.95 - ETA: 6:26 - loss: 0.1268 - accuracy: 0.95 - ETA: 6:25 - loss: 0.1268 - accuracy: 0.95 - ETA: 6:25 - loss: 0.1268 - accuracy: 0.95 - ETA: 6:24 - loss: 0.1267 - accuracy: 0.95 - ETA: 6:24 - loss: 0.1267 - accuracy: 0.95 - ETA: 6:23 - loss: 0.1266 - accuracy: 0.95 - ETA: 6:22 - loss: 0.1266 - accuracy: 0.95 - ETA: 6:22 - loss: 0.1266 - accuracy: 0.95 - ETA: 6:21 - loss: 0.1267 - accuracy: 0.95 - ETA: 6:20 - loss: 0.1267 - accuracy: 0.95 - ETA: 6:20 - loss: 0.1267 - accuracy: 0.95 - ETA: 6:19 - loss: 0.1267 - accuracy: 0.95 - ETA: 6:18 - loss: 0.1268 - accuracy: 0.95 - ETA: 6:18 - loss: 0.1269 - accuracy: 0.95 - ETA: 6:17 - loss: 0.1269 - accuracy: 0.95 - ETA: 6:17 - loss: 0.1269 - accuracy: 0.95 - ETA: 6:16 - loss: 0.1269 - accuracy: 0.95 - ETA: 6:15 - loss: 0.1269 - accuracy: 0.95 - ETA: 6:15 - loss: 0.1269 - accuracy: 0.95 - ETA: 6:14 - loss: 0.1269 - accuracy: 0.95 - ETA: 6:13 - loss: 0.1270 - accuracy: 0.95 - ETA: 6:13 - loss: 0.1270 - accuracy: 0.95 - ETA: 6:12 - loss: 0.1270 - accuracy: 0.95 - ETA: 6:12 - loss: 0.1271 - accuracy: 0.95 - ETA: 6:11 - loss: 0.1270 - accuracy: 0.95 - ETA: 6:10 - loss: 0.1271 - accuracy: 0.95 - ETA: 6:10 - loss: 0.1271 - accuracy: 0.95 - ETA: 6:09 - loss: 0.1270 - accuracy: 0.95 - ETA: 6:08 - loss: 0.1271 - accuracy: 0.95 - ETA: 6:08 - loss: 0.1272 - accuracy: 0.95 - ETA: 6:07 - loss: 0.1271 - accuracy: 0.95 - ETA: 6:06 - loss: 0.1272 - accuracy: 0.95 - ETA: 6:06 - loss: 0.1271 - accuracy: 0.95 - ETA: 6:05 - loss: 0.1271 - accuracy: 0.95 - ETA: 6:05 - loss: 0.1271 - accuracy: 0.95 - ETA: 6:04 - loss: 0.1271 - accuracy: 0.95 - ETA: 6:03 - loss: 0.1272 - accuracy: 0.95 - ETA: 6:03 - loss: 0.1272 - accuracy: 0.95 - ETA: 6:02 - loss: 0.1272 - accuracy: 0.95 - ETA: 6:01 - loss: 0.1272 - accuracy: 0.95 - ETA: 6:01 - loss: 0.1273 - accuracy: 0.95 - ETA: 6:00 - loss: 0.1273 - accuracy: 0.95 - ETA: 5:59 - loss: 0.1274 - accuracy: 0.9587115520/140454 [=======================>......] - ETA: 5:59 - loss: 0.1274 - accuracy: 0.95 - ETA: 5:58 - loss: 0.1273 - accuracy: 0.95 - ETA: 5:58 - loss: 0.1273 - accuracy: 0.95 - ETA: 5:57 - loss: 0.1273 - accuracy: 0.95 - ETA: 5:56 - loss: 0.1273 - accuracy: 0.95 - ETA: 5:56 - loss: 0.1272 - accuracy: 0.95 - ETA: 5:55 - loss: 0.1273 - accuracy: 0.95 - ETA: 5:54 - loss: 0.1273 - accuracy: 0.95 - ETA: 5:54 - loss: 0.1273 - accuracy: 0.95 - ETA: 5:53 - loss: 0.1273 - accuracy: 0.95 - ETA: 5:52 - loss: 0.1272 - accuracy: 0.95 - ETA: 5:52 - loss: 0.1272 - accuracy: 0.95 - ETA: 5:51 - loss: 0.1272 - accuracy: 0.95 - ETA: 5:51 - loss: 0.1273 - accuracy: 0.95 - ETA: 5:50 - loss: 0.1273 - accuracy: 0.95 - ETA: 5:49 - loss: 0.1273 - accuracy: 0.95 - ETA: 5:49 - loss: 0.1273 - accuracy: 0.95 - ETA: 5:48 - loss: 0.1273 - accuracy: 0.95 - ETA: 5:47 - loss: 0.1274 - accuracy: 0.95 - ETA: 5:47 - loss: 0.1274 - accuracy: 0.95 - ETA: 5:46 - loss: 0.1274 - accuracy: 0.95 - ETA: 5:45 - loss: 0.1275 - accuracy: 0.95 - ETA: 5:45 - loss: 0.1275 - accuracy: 0.95 - ETA: 5:44 - loss: 0.1275 - accuracy: 0.95 - ETA: 5:44 - loss: 0.1275 - accuracy: 0.95 - ETA: 5:43 - loss: 0.1275 - accuracy: 0.95 - ETA: 5:42 - loss: 0.1275 - accuracy: 0.95 - ETA: 5:42 - loss: 0.1275 - accuracy: 0.95 - ETA: 5:41 - loss: 0.1275 - accuracy: 0.95 - ETA: 5:40 - loss: 0.1275 - accuracy: 0.95 - ETA: 5:40 - loss: 0.1275 - accuracy: 0.95 - ETA: 5:39 - loss: 0.1276 - accuracy: 0.95 - ETA: 5:38 - loss: 0.1276 - accuracy: 0.95 - ETA: 5:38 - loss: 0.1275 - accuracy: 0.95 - ETA: 5:37 - loss: 0.1275 - accuracy: 0.95 - ETA: 5:37 - loss: 0.1275 - accuracy: 0.95 - ETA: 5:36 - loss: 0.1275 - accuracy: 0.95 - ETA: 5:35 - loss: 0.1275 - accuracy: 0.95 - ETA: 5:35 - loss: 0.1275 - accuracy: 0.95 - ETA: 5:34 - loss: 0.1274 - accuracy: 0.95 - ETA: 5:33 - loss: 0.1274 - accuracy: 0.95 - ETA: 5:33 - loss: 0.1274 - accuracy: 0.95 - ETA: 5:32 - loss: 0.1275 - accuracy: 0.95 - ETA: 5:32 - loss: 0.1275 - accuracy: 0.95 - ETA: 5:31 - loss: 0.1275 - accuracy: 0.95 - ETA: 5:30 - loss: 0.1275 - accuracy: 0.95 - ETA: 5:30 - loss: 0.1276 - accuracy: 0.95 - ETA: 5:29 - loss: 0.1276 - accuracy: 0.95 - ETA: 5:28 - loss: 0.1275 - accuracy: 0.95 - ETA: 5:28 - loss: 0.1275 - accuracy: 0.95 - ETA: 5:27 - loss: 0.1275 - accuracy: 0.95 - ETA: 5:27 - loss: 0.1276 - accuracy: 0.95 - ETA: 5:26 - loss: 0.1275 - accuracy: 0.95 - ETA: 5:25 - loss: 0.1275 - accuracy: 0.95 - ETA: 5:25 - loss: 0.1276 - accuracy: 0.95 - ETA: 5:24 - loss: 0.1276 - accuracy: 0.95 - ETA: 5:23 - loss: 0.1275 - accuracy: 0.95 - ETA: 5:23 - loss: 0.1275 - accuracy: 0.95 - ETA: 5:22 - loss: 0.1275 - accuracy: 0.95 - ETA: 5:22 - loss: 0.1274 - accuracy: 0.95 - ETA: 5:21 - loss: 0.1274 - accuracy: 0.95 - ETA: 5:20 - loss: 0.1275 - accuracy: 0.95 - ETA: 5:20 - loss: 0.1275 - accuracy: 0.95 - ETA: 5:19 - loss: 0.1275 - accuracy: 0.95 - ETA: 5:18 - loss: 0.1275 - accuracy: 0.95 - ETA: 5:18 - loss: 0.1274 - accuracy: 0.95 - ETA: 5:17 - loss: 0.1274 - accuracy: 0.95 - ETA: 5:17 - loss: 0.1274 - accuracy: 0.95 - ETA: 5:16 - loss: 0.1273 - accuracy: 0.95 - ETA: 5:15 - loss: 0.1274 - accuracy: 0.95 - ETA: 5:15 - loss: 0.1274 - accuracy: 0.95 - ETA: 5:14 - loss: 0.1275 - accuracy: 0.95 - ETA: 5:13 - loss: 0.1274 - accuracy: 0.95 - ETA: 5:13 - loss: 0.1274 - accuracy: 0.95 - ETA: 5:12 - loss: 0.1274 - accuracy: 0.95 - ETA: 5:11 - loss: 0.1274 - accuracy: 0.95 - ETA: 5:11 - loss: 0.1273 - accuracy: 0.95 - ETA: 5:10 - loss: 0.1273 - accuracy: 0.95 - ETA: 5:10 - loss: 0.1273 - accuracy: 0.95 - ETA: 5:09 - loss: 0.1273 - accuracy: 0.95 - ETA: 5:08 - loss: 0.1273 - accuracy: 0.95 - ETA: 5:08 - loss: 0.1273 - accuracy: 0.95 - ETA: 5:07 - loss: 0.1273 - accuracy: 0.95 - ETA: 5:06 - loss: 0.1273 - accuracy: 0.95 - ETA: 5:06 - loss: 0.1274 - accuracy: 0.95 - ETA: 5:05 - loss: 0.1275 - accuracy: 0.95 - ETA: 5:05 - loss: 0.1275 - accuracy: 0.95 - ETA: 5:04 - loss: 0.1276 - accuracy: 0.95 - ETA: 5:03 - loss: 0.1276 - accuracy: 0.95 - ETA: 5:03 - loss: 0.1276 - accuracy: 0.95 - ETA: 5:02 - loss: 0.1275 - accuracy: 0.95 - ETA: 5:01 - loss: 0.1275 - accuracy: 0.95 - ETA: 5:01 - loss: 0.1275 - accuracy: 0.95 - ETA: 5:00 - loss: 0.1275 - accuracy: 0.95 - ETA: 4:59 - loss: 0.1275 - accuracy: 0.95 - ETA: 4:59 - loss: 0.1274 - accuracy: 0.95 - ETA: 4:58 - loss: 0.1274 - accuracy: 0.95 - ETA: 4:58 - loss: 0.1274 - accuracy: 0.95 - ETA: 4:57 - loss: 0.1273 - accuracy: 0.95 - ETA: 4:56 - loss: 0.1274 - accuracy: 0.95 - ETA: 4:56 - loss: 0.1274 - accuracy: 0.95 - ETA: 4:55 - loss: 0.1273 - accuracy: 0.95 - ETA: 4:54 - loss: 0.1274 - accuracy: 0.95 - ETA: 4:54 - loss: 0.1274 - accuracy: 0.95 - ETA: 4:53 - loss: 0.1274 - accuracy: 0.95 - ETA: 4:53 - loss: 0.1274 - accuracy: 0.95 - ETA: 4:52 - loss: 0.1274 - accuracy: 0.95 - ETA: 4:51 - loss: 0.1274 - accuracy: 0.95 - ETA: 4:51 - loss: 0.1274 - accuracy: 0.95 - ETA: 4:50 - loss: 0.1274 - accuracy: 0.95 - ETA: 4:49 - loss: 0.1274 - accuracy: 0.95 - ETA: 4:49 - loss: 0.1275 - accuracy: 0.95 - ETA: 4:48 - loss: 0.1275 - accuracy: 0.95 - ETA: 4:47 - loss: 0.1275 - accuracy: 0.95 - ETA: 4:47 - loss: 0.1275 - accuracy: 0.95 - ETA: 4:46 - loss: 0.1275 - accuracy: 0.95 - ETA: 4:46 - loss: 0.1275 - accuracy: 0.95 - ETA: 4:45 - loss: 0.1275 - accuracy: 0.95 - ETA: 4:44 - loss: 0.1275 - accuracy: 0.95 - ETA: 4:44 - loss: 0.1275 - accuracy: 0.95 - ETA: 4:43 - loss: 0.1275 - accuracy: 0.95 - ETA: 4:42 - loss: 0.1275 - accuracy: 0.95 - ETA: 4:42 - loss: 0.1275 - accuracy: 0.95 - ETA: 4:41 - loss: 0.1275 - accuracy: 0.95 - ETA: 4:41 - loss: 0.1274 - accuracy: 0.95 - ETA: 4:40 - loss: 0.1274 - accuracy: 0.95 - ETA: 4:39 - loss: 0.1274 - accuracy: 0.95 - ETA: 4:39 - loss: 0.1274 - accuracy: 0.95 - ETA: 4:38 - loss: 0.1273 - accuracy: 0.95 - ETA: 4:37 - loss: 0.1273 - accuracy: 0.95 - ETA: 4:37 - loss: 0.1273 - accuracy: 0.95 - ETA: 4:36 - loss: 0.1273 - accuracy: 0.95 - ETA: 4:35 - loss: 0.1273 - accuracy: 0.95 - ETA: 4:35 - loss: 0.1273 - accuracy: 0.95 - ETA: 4:34 - loss: 0.1274 - accuracy: 0.95 - ETA: 4:34 - loss: 0.1274 - accuracy: 0.95 - ETA: 4:33 - loss: 0.1275 - accuracy: 0.95 - ETA: 4:32 - loss: 0.1275 - accuracy: 0.95 - ETA: 4:32 - loss: 0.1275 - accuracy: 0.95 - ETA: 4:31 - loss: 0.1275 - accuracy: 0.95 - ETA: 4:30 - loss: 0.1275 - accuracy: 0.95 - ETA: 4:30 - loss: 0.1275 - accuracy: 0.95 - ETA: 4:29 - loss: 0.1274 - accuracy: 0.95 - ETA: 4:29 - loss: 0.1274 - accuracy: 0.95 - ETA: 4:28 - loss: 0.1274 - accuracy: 0.95 - ETA: 4:27 - loss: 0.1274 - accuracy: 0.95 - ETA: 4:27 - loss: 0.1274 - accuracy: 0.95 - ETA: 4:26 - loss: 0.1274 - accuracy: 0.95 - ETA: 4:25 - loss: 0.1274 - accuracy: 0.95 - ETA: 4:25 - loss: 0.1274 - accuracy: 0.95 - ETA: 4:24 - loss: 0.1275 - accuracy: 0.95 - ETA: 4:24 - loss: 0.1275 - accuracy: 0.95 - ETA: 4:23 - loss: 0.1274 - accuracy: 0.95 - ETA: 4:22 - loss: 0.1275 - accuracy: 0.95 - ETA: 4:22 - loss: 0.1276 - accuracy: 0.95 - ETA: 4:21 - loss: 0.1275 - accuracy: 0.95 - ETA: 4:20 - loss: 0.1276 - accuracy: 0.95 - ETA: 4:20 - loss: 0.1275 - accuracy: 0.95 - ETA: 4:19 - loss: 0.1275 - accuracy: 0.95 - ETA: 4:19 - loss: 0.1275 - accuracy: 0.95 - ETA: 4:18 - loss: 0.1275 - accuracy: 0.95 - ETA: 4:17 - loss: 0.1274 - accuracy: 0.95 - ETA: 4:17 - loss: 0.1274 - accuracy: 0.95 - ETA: 4:16 - loss: 0.1273 - accuracy: 0.95 - ETA: 4:15 - loss: 0.1273 - accuracy: 0.95 - ETA: 4:15 - loss: 0.1273 - accuracy: 0.95 - ETA: 4:14 - loss: 0.1273 - accuracy: 0.95 - ETA: 4:13 - loss: 0.1272 - accuracy: 0.95 - ETA: 4:13 - loss: 0.1272 - accuracy: 0.95 - ETA: 4:12 - loss: 0.1274 - accuracy: 0.95 - ETA: 4:12 - loss: 0.1273 - accuracy: 0.95 - ETA: 4:11 - loss: 0.1273 - accuracy: 0.95 - ETA: 4:10 - loss: 0.1273 - accuracy: 0.95 - ETA: 4:10 - loss: 0.1272 - accuracy: 0.95 - ETA: 4:09 - loss: 0.1273 - accuracy: 0.95 - ETA: 4:08 - loss: 0.1273 - accuracy: 0.95 - ETA: 4:08 - loss: 0.1272 - accuracy: 0.95 - ETA: 4:07 - loss: 0.1272 - accuracy: 0.95 - ETA: 4:07 - loss: 0.1273 - accuracy: 0.95 - ETA: 4:06 - loss: 0.1272 - accuracy: 0.95 - ETA: 4:05 - loss: 0.1272 - accuracy: 0.95 - ETA: 4:05 - loss: 0.1272 - accuracy: 0.95 - ETA: 4:04 - loss: 0.1272 - accuracy: 0.95 - ETA: 4:03 - loss: 0.1272 - accuracy: 0.95 - ETA: 4:03 - loss: 0.1272 - accuracy: 0.95 - ETA: 4:02 - loss: 0.1272 - accuracy: 0.9587127424/140454 [==========================>...] - ETA: 4:02 - loss: 0.1272 - accuracy: 0.95 - ETA: 4:01 - loss: 0.1272 - accuracy: 0.95 - ETA: 4:00 - loss: 0.1272 - accuracy: 0.95 - ETA: 4:00 - loss: 0.1271 - accuracy: 0.95 - ETA: 3:59 - loss: 0.1271 - accuracy: 0.95 - ETA: 3:58 - loss: 0.1271 - accuracy: 0.95 - ETA: 3:58 - loss: 0.1272 - accuracy: 0.95 - ETA: 3:57 - loss: 0.1272 - accuracy: 0.95 - ETA: 3:57 - loss: 0.1272 - accuracy: 0.95 - ETA: 3:56 - loss: 0.1272 - accuracy: 0.95 - ETA: 3:55 - loss: 0.1272 - accuracy: 0.95 - ETA: 3:55 - loss: 0.1273 - accuracy: 0.95 - ETA: 3:54 - loss: 0.1272 - accuracy: 0.95 - ETA: 3:53 - loss: 0.1272 - accuracy: 0.95 - ETA: 3:53 - loss: 0.1273 - accuracy: 0.95 - ETA: 3:52 - loss: 0.1272 - accuracy: 0.95 - ETA: 3:51 - loss: 0.1272 - accuracy: 0.95 - ETA: 3:51 - loss: 0.1273 - accuracy: 0.95 - ETA: 3:50 - loss: 0.1272 - accuracy: 0.95 - ETA: 3:50 - loss: 0.1273 - accuracy: 0.95 - ETA: 3:49 - loss: 0.1272 - accuracy: 0.95 - ETA: 3:48 - loss: 0.1272 - accuracy: 0.95 - ETA: 3:48 - loss: 0.1272 - accuracy: 0.95 - ETA: 3:47 - loss: 0.1272 - accuracy: 0.95 - ETA: 3:46 - loss: 0.1272 - accuracy: 0.95 - ETA: 3:46 - loss: 0.1272 - accuracy: 0.95 - ETA: 3:45 - loss: 0.1272 - accuracy: 0.95 - ETA: 3:45 - loss: 0.1271 - accuracy: 0.95 - ETA: 3:44 - loss: 0.1271 - accuracy: 0.95 - ETA: 3:43 - loss: 0.1271 - accuracy: 0.95 - ETA: 3:43 - loss: 0.1271 - accuracy: 0.95 - ETA: 3:42 - loss: 0.1271 - accuracy: 0.95 - ETA: 3:41 - loss: 0.1271 - accuracy: 0.95 - ETA: 3:41 - loss: 0.1271 - accuracy: 0.95 - ETA: 3:40 - loss: 0.1271 - accuracy: 0.95 - ETA: 3:40 - loss: 0.1271 - accuracy: 0.95 - ETA: 3:39 - loss: 0.1271 - accuracy: 0.95 - ETA: 3:38 - loss: 0.1271 - accuracy: 0.95 - ETA: 3:38 - loss: 0.1271 - accuracy: 0.95 - ETA: 3:37 - loss: 0.1271 - accuracy: 0.95 - ETA: 3:36 - loss: 0.1271 - accuracy: 0.95 - ETA: 3:36 - loss: 0.1271 - accuracy: 0.95 - ETA: 3:35 - loss: 0.1271 - accuracy: 0.95 - ETA: 3:35 - loss: 0.1271 - accuracy: 0.95 - ETA: 3:34 - loss: 0.1271 - accuracy: 0.95 - ETA: 3:33 - loss: 0.1271 - accuracy: 0.95 - ETA: 3:33 - loss: 0.1271 - accuracy: 0.95 - ETA: 3:32 - loss: 0.1271 - accuracy: 0.95 - ETA: 3:31 - loss: 0.1271 - accuracy: 0.95 - ETA: 3:31 - loss: 0.1271 - accuracy: 0.95 - ETA: 3:30 - loss: 0.1270 - accuracy: 0.95 - ETA: 3:29 - loss: 0.1270 - accuracy: 0.95 - ETA: 3:29 - loss: 0.1270 - accuracy: 0.95 - ETA: 3:28 - loss: 0.1270 - accuracy: 0.95 - ETA: 3:28 - loss: 0.1270 - accuracy: 0.95 - ETA: 3:27 - loss: 0.1270 - accuracy: 0.95 - ETA: 3:26 - loss: 0.1270 - accuracy: 0.95 - ETA: 3:26 - loss: 0.1269 - accuracy: 0.95 - ETA: 3:25 - loss: 0.1270 - accuracy: 0.95 - ETA: 3:24 - loss: 0.1270 - accuracy: 0.95 - ETA: 3:24 - loss: 0.1270 - accuracy: 0.95 - ETA: 3:23 - loss: 0.1271 - accuracy: 0.95 - ETA: 3:23 - loss: 0.1271 - accuracy: 0.95 - ETA: 3:22 - loss: 0.1270 - accuracy: 0.95 - ETA: 3:21 - loss: 0.1271 - accuracy: 0.95 - ETA: 3:21 - loss: 0.1271 - accuracy: 0.95 - ETA: 3:20 - loss: 0.1271 - accuracy: 0.95 - ETA: 3:19 - loss: 0.1272 - accuracy: 0.95 - ETA: 3:19 - loss: 0.1271 - accuracy: 0.95 - ETA: 3:18 - loss: 0.1272 - accuracy: 0.95 - ETA: 3:18 - loss: 0.1271 - accuracy: 0.95 - ETA: 3:17 - loss: 0.1271 - accuracy: 0.95 - ETA: 3:16 - loss: 0.1271 - accuracy: 0.95 - ETA: 3:16 - loss: 0.1271 - accuracy: 0.95 - ETA: 3:15 - loss: 0.1270 - accuracy: 0.95 - ETA: 3:15 - loss: 0.1271 - accuracy: 0.95 - ETA: 3:14 - loss: 0.1271 - accuracy: 0.95 - ETA: 3:13 - loss: 0.1270 - accuracy: 0.95 - ETA: 3:13 - loss: 0.1271 - accuracy: 0.95 - ETA: 3:12 - loss: 0.1271 - accuracy: 0.95 - ETA: 3:11 - loss: 0.1272 - accuracy: 0.95 - ETA: 3:11 - loss: 0.1272 - accuracy: 0.95 - ETA: 3:10 - loss: 0.1272 - accuracy: 0.95 - ETA: 3:09 - loss: 0.1272 - accuracy: 0.95 - ETA: 3:09 - loss: 0.1271 - accuracy: 0.95 - ETA: 3:08 - loss: 0.1271 - accuracy: 0.95 - ETA: 3:08 - loss: 0.1271 - accuracy: 0.95 - ETA: 3:07 - loss: 0.1271 - accuracy: 0.95 - ETA: 3:06 - loss: 0.1271 - accuracy: 0.95 - ETA: 3:06 - loss: 0.1271 - accuracy: 0.95 - ETA: 3:05 - loss: 0.1270 - accuracy: 0.95 - ETA: 3:04 - loss: 0.1270 - accuracy: 0.95 - ETA: 3:04 - loss: 0.1270 - accuracy: 0.95 - ETA: 3:03 - loss: 0.1270 - accuracy: 0.95 - ETA: 3:03 - loss: 0.1270 - accuracy: 0.95 - ETA: 3:02 - loss: 0.1269 - accuracy: 0.95 - ETA: 3:01 - loss: 0.1269 - accuracy: 0.95 - ETA: 3:01 - loss: 0.1269 - accuracy: 0.95 - ETA: 3:00 - loss: 0.1269 - accuracy: 0.95 - ETA: 3:00 - loss: 0.1269 - accuracy: 0.95 - ETA: 2:59 - loss: 0.1269 - accuracy: 0.95 - ETA: 2:58 - loss: 0.1270 - accuracy: 0.95 - ETA: 2:58 - loss: 0.1269 - accuracy: 0.95 - ETA: 2:57 - loss: 0.1269 - accuracy: 0.95 - ETA: 2:57 - loss: 0.1269 - accuracy: 0.95 - ETA: 2:56 - loss: 0.1269 - accuracy: 0.95 - ETA: 2:55 - loss: 0.1269 - accuracy: 0.95 - ETA: 2:55 - loss: 0.1269 - accuracy: 0.95 - ETA: 2:54 - loss: 0.1269 - accuracy: 0.95 - ETA: 2:53 - loss: 0.1269 - accuracy: 0.95 - ETA: 2:53 - loss: 0.1270 - accuracy: 0.95 - ETA: 2:52 - loss: 0.1270 - accuracy: 0.95 - ETA: 2:52 - loss: 0.1269 - accuracy: 0.95 - ETA: 2:51 - loss: 0.1269 - accuracy: 0.95 - ETA: 2:50 - loss: 0.1270 - accuracy: 0.95 - ETA: 2:50 - loss: 0.1270 - accuracy: 0.95 - ETA: 2:49 - loss: 0.1270 - accuracy: 0.95 - ETA: 2:48 - loss: 0.1270 - accuracy: 0.95 - ETA: 2:48 - loss: 0.1270 - accuracy: 0.95 - ETA: 2:47 - loss: 0.1270 - accuracy: 0.95 - ETA: 2:47 - loss: 0.1270 - accuracy: 0.95 - ETA: 2:46 - loss: 0.1270 - accuracy: 0.95 - ETA: 2:45 - loss: 0.1270 - accuracy: 0.95 - ETA: 2:45 - loss: 0.1270 - accuracy: 0.95 - ETA: 2:44 - loss: 0.1270 - accuracy: 0.95 - ETA: 2:43 - loss: 0.1270 - accuracy: 0.95 - ETA: 2:43 - loss: 0.1270 - accuracy: 0.95 - ETA: 2:42 - loss: 0.1270 - accuracy: 0.95 - ETA: 2:42 - loss: 0.1270 - accuracy: 0.95 - ETA: 2:41 - loss: 0.1270 - accuracy: 0.95 - ETA: 2:40 - loss: 0.1271 - accuracy: 0.95 - ETA: 2:40 - loss: 0.1270 - accuracy: 0.95 - ETA: 2:39 - loss: 0.1271 - accuracy: 0.95 - ETA: 2:38 - loss: 0.1270 - accuracy: 0.95 - ETA: 2:38 - loss: 0.1270 - accuracy: 0.95 - ETA: 2:37 - loss: 0.1270 - accuracy: 0.95 - ETA: 2:37 - loss: 0.1270 - accuracy: 0.95 - ETA: 2:36 - loss: 0.1270 - accuracy: 0.95 - ETA: 2:35 - loss: 0.1270 - accuracy: 0.95 - ETA: 2:35 - loss: 0.1269 - accuracy: 0.95 - ETA: 2:34 - loss: 0.1269 - accuracy: 0.95 - ETA: 2:33 - loss: 0.1269 - accuracy: 0.95 - ETA: 2:33 - loss: 0.1269 - accuracy: 0.95 - ETA: 2:32 - loss: 0.1269 - accuracy: 0.95 - ETA: 2:32 - loss: 0.1269 - accuracy: 0.95 - ETA: 2:31 - loss: 0.1269 - accuracy: 0.95 - ETA: 2:30 - loss: 0.1269 - accuracy: 0.95 - ETA: 2:30 - loss: 0.1269 - accuracy: 0.95 - ETA: 2:29 - loss: 0.1269 - accuracy: 0.95 - ETA: 2:28 - loss: 0.1269 - accuracy: 0.95 - ETA: 2:28 - loss: 0.1269 - accuracy: 0.95 - ETA: 2:27 - loss: 0.1269 - accuracy: 0.95 - ETA: 2:27 - loss: 0.1270 - accuracy: 0.95 - ETA: 2:26 - loss: 0.1270 - accuracy: 0.95 - ETA: 2:25 - loss: 0.1269 - accuracy: 0.95 - ETA: 2:25 - loss: 0.1269 - accuracy: 0.95 - ETA: 2:24 - loss: 0.1269 - accuracy: 0.95 - ETA: 2:23 - loss: 0.1270 - accuracy: 0.95 - ETA: 2:23 - loss: 0.1269 - accuracy: 0.95 - ETA: 2:22 - loss: 0.1269 - accuracy: 0.95 - ETA: 2:22 - loss: 0.1269 - accuracy: 0.95 - ETA: 2:21 - loss: 0.1269 - accuracy: 0.95 - ETA: 2:20 - loss: 0.1269 - accuracy: 0.95 - ETA: 2:20 - loss: 0.1270 - accuracy: 0.95 - ETA: 2:19 - loss: 0.1269 - accuracy: 0.95 - ETA: 2:18 - loss: 0.1269 - accuracy: 0.95 - ETA: 2:18 - loss: 0.1269 - accuracy: 0.95 - ETA: 2:17 - loss: 0.1270 - accuracy: 0.95 - ETA: 2:17 - loss: 0.1270 - accuracy: 0.95 - ETA: 2:16 - loss: 0.1270 - accuracy: 0.95 - ETA: 2:15 - loss: 0.1270 - accuracy: 0.95 - ETA: 2:15 - loss: 0.1269 - accuracy: 0.95 - ETA: 2:14 - loss: 0.1269 - accuracy: 0.95 - ETA: 2:13 - loss: 0.1269 - accuracy: 0.95 - ETA: 2:13 - loss: 0.1269 - accuracy: 0.95 - ETA: 2:12 - loss: 0.1269 - accuracy: 0.95 - ETA: 2:12 - loss: 0.1269 - accuracy: 0.95 - ETA: 2:11 - loss: 0.1269 - accuracy: 0.95 - ETA: 2:10 - loss: 0.1269 - accuracy: 0.95 - ETA: 2:10 - loss: 0.1269 - accuracy: 0.95 - ETA: 2:09 - loss: 0.1269 - accuracy: 0.95 - ETA: 2:08 - loss: 0.1269 - accuracy: 0.95 - ETA: 2:08 - loss: 0.1269 - accuracy: 0.95 - ETA: 2:07 - loss: 0.1270 - accuracy: 0.95 - ETA: 2:07 - loss: 0.1270 - accuracy: 0.95 - ETA: 2:06 - loss: 0.1269 - accuracy: 0.9588139328/140454 [============================>.] - ETA: 2:05 - loss: 0.1269 - accuracy: 0.95 - ETA: 2:05 - loss: 0.1269 - accuracy: 0.95 - ETA: 2:04 - loss: 0.1269 - accuracy: 0.95 - ETA: 2:03 - loss: 0.1269 - accuracy: 0.95 - ETA: 2:03 - loss: 0.1269 - accuracy: 0.95 - ETA: 2:02 - loss: 0.1269 - accuracy: 0.95 - ETA: 2:02 - loss: 0.1270 - accuracy: 0.95 - ETA: 2:01 - loss: 0.1270 - accuracy: 0.95 - ETA: 2:00 - loss: 0.1270 - accuracy: 0.95 - ETA: 2:00 - loss: 0.1269 - accuracy: 0.95 - ETA: 1:59 - loss: 0.1269 - accuracy: 0.95 - ETA: 1:59 - loss: 0.1269 - accuracy: 0.95 - ETA: 1:58 - loss: 0.1271 - accuracy: 0.95 - ETA: 1:57 - loss: 0.1270 - accuracy: 0.95 - ETA: 1:57 - loss: 0.1270 - accuracy: 0.95 - ETA: 1:56 - loss: 0.1270 - accuracy: 0.95 - ETA: 1:55 - loss: 0.1271 - accuracy: 0.95 - ETA: 1:55 - loss: 0.1270 - accuracy: 0.95 - ETA: 1:54 - loss: 0.1271 - accuracy: 0.95 - ETA: 1:54 - loss: 0.1271 - accuracy: 0.95 - ETA: 1:53 - loss: 0.1272 - accuracy: 0.95 - ETA: 1:52 - loss: 0.1272 - accuracy: 0.95 - ETA: 1:52 - loss: 0.1272 - accuracy: 0.95 - ETA: 1:51 - loss: 0.1272 - accuracy: 0.95 - ETA: 1:50 - loss: 0.1272 - accuracy: 0.95 - ETA: 1:50 - loss: 0.1272 - accuracy: 0.95 - ETA: 1:49 - loss: 0.1272 - accuracy: 0.95 - ETA: 1:49 - loss: 0.1272 - accuracy: 0.95 - ETA: 1:48 - loss: 0.1273 - accuracy: 0.95 - ETA: 1:47 - loss: 0.1273 - accuracy: 0.95 - ETA: 1:47 - loss: 0.1272 - accuracy: 0.95 - ETA: 1:46 - loss: 0.1273 - accuracy: 0.95 - ETA: 1:45 - loss: 0.1273 - accuracy: 0.95 - ETA: 1:45 - loss: 0.1272 - accuracy: 0.95 - ETA: 1:44 - loss: 0.1272 - accuracy: 0.95 - ETA: 1:44 - loss: 0.1273 - accuracy: 0.95 - ETA: 1:43 - loss: 0.1273 - accuracy: 0.95 - ETA: 1:42 - loss: 0.1273 - accuracy: 0.95 - ETA: 1:42 - loss: 0.1273 - accuracy: 0.95 - ETA: 1:41 - loss: 0.1273 - accuracy: 0.95 - ETA: 1:40 - loss: 0.1273 - accuracy: 0.95 - ETA: 1:40 - loss: 0.1273 - accuracy: 0.95 - ETA: 1:39 - loss: 0.1273 - accuracy: 0.95 - ETA: 1:39 - loss: 0.1273 - accuracy: 0.95 - ETA: 1:38 - loss: 0.1273 - accuracy: 0.95 - ETA: 1:37 - loss: 0.1272 - accuracy: 0.95 - ETA: 1:37 - loss: 0.1272 - accuracy: 0.95 - ETA: 1:36 - loss: 0.1272 - accuracy: 0.95 - ETA: 1:35 - loss: 0.1272 - accuracy: 0.95 - ETA: 1:35 - loss: 0.1272 - accuracy: 0.95 - ETA: 1:34 - loss: 0.1272 - accuracy: 0.95 - ETA: 1:34 - loss: 0.1272 - accuracy: 0.95 - ETA: 1:33 - loss: 0.1273 - accuracy: 0.95 - ETA: 1:32 - loss: 0.1273 - accuracy: 0.95 - ETA: 1:32 - loss: 0.1273 - accuracy: 0.95 - ETA: 1:31 - loss: 0.1273 - accuracy: 0.95 - ETA: 1:30 - loss: 0.1273 - accuracy: 0.95 - ETA: 1:30 - loss: 0.1273 - accuracy: 0.95 - ETA: 1:29 - loss: 0.1274 - accuracy: 0.95 - ETA: 1:29 - loss: 0.1274 - accuracy: 0.95 - ETA: 1:28 - loss: 0.1274 - accuracy: 0.95 - ETA: 1:27 - loss: 0.1275 - accuracy: 0.95 - ETA: 1:27 - loss: 0.1275 - accuracy: 0.95 - ETA: 1:26 - loss: 0.1275 - accuracy: 0.95 - ETA: 1:25 - loss: 0.1275 - accuracy: 0.95 - ETA: 1:25 - loss: 0.1275 - accuracy: 0.95 - ETA: 1:24 - loss: 0.1275 - accuracy: 0.95 - ETA: 1:24 - loss: 0.1276 - accuracy: 0.95 - ETA: 1:23 - loss: 0.1276 - accuracy: 0.95 - ETA: 1:22 - loss: 0.1276 - accuracy: 0.95 - ETA: 1:22 - loss: 0.1276 - accuracy: 0.95 - ETA: 1:21 - loss: 0.1276 - accuracy: 0.95 - ETA: 1:21 - loss: 0.1276 - accuracy: 0.95 - ETA: 1:20 - loss: 0.1276 - accuracy: 0.95 - ETA: 1:19 - loss: 0.1276 - accuracy: 0.95 - ETA: 1:19 - loss: 0.1276 - accuracy: 0.95 - ETA: 1:18 - loss: 0.1276 - accuracy: 0.95 - ETA: 1:17 - loss: 0.1276 - accuracy: 0.95 - ETA: 1:17 - loss: 0.1276 - accuracy: 0.95 - ETA: 1:16 - loss: 0.1276 - accuracy: 0.95 - ETA: 1:16 - loss: 0.1276 - accuracy: 0.95 - ETA: 1:15 - loss: 0.1276 - accuracy: 0.95 - ETA: 1:14 - loss: 0.1277 - accuracy: 0.95 - ETA: 1:14 - loss: 0.1277 - accuracy: 0.95 - ETA: 1:13 - loss: 0.1277 - accuracy: 0.95 - ETA: 1:12 - loss: 0.1276 - accuracy: 0.95 - ETA: 1:12 - loss: 0.1277 - accuracy: 0.95 - ETA: 1:11 - loss: 0.1277 - accuracy: 0.95 - ETA: 1:11 - loss: 0.1277 - accuracy: 0.95 - ETA: 1:10 - loss: 0.1277 - accuracy: 0.95 - ETA: 1:09 - loss: 0.1277 - accuracy: 0.95 - ETA: 1:09 - loss: 0.1277 - accuracy: 0.95 - ETA: 1:08 - loss: 0.1277 - accuracy: 0.95 - ETA: 1:07 - loss: 0.1278 - accuracy: 0.95 - ETA: 1:07 - loss: 0.1277 - accuracy: 0.95 - ETA: 1:06 - loss: 0.1278 - accuracy: 0.95 - ETA: 1:06 - loss: 0.1278 - accuracy: 0.95 - ETA: 1:05 - loss: 0.1278 - accuracy: 0.95 - ETA: 1:04 - loss: 0.1279 - accuracy: 0.95 - ETA: 1:04 - loss: 0.1279 - accuracy: 0.95 - ETA: 1:03 - loss: 0.1279 - accuracy: 0.95 - ETA: 1:02 - loss: 0.1279 - accuracy: 0.95 - ETA: 1:02 - loss: 0.1280 - accuracy: 0.95 - ETA: 1:01 - loss: 0.1280 - accuracy: 0.95 - ETA: 1:01 - loss: 0.1280 - accuracy: 0.95 - ETA: 1:00 - loss: 0.1280 - accuracy: 0.95 - ETA: 59s - loss: 0.1280 - accuracy: 0.9584 - ETA: 59s - loss: 0.1280 - accuracy: 0.958 - ETA: 58s - loss: 0.1280 - accuracy: 0.958 - ETA: 58s - loss: 0.1280 - accuracy: 0.958 - ETA: 57s - loss: 0.1280 - accuracy: 0.958 - ETA: 56s - loss: 0.1280 - accuracy: 0.958 - ETA: 56s - loss: 0.1280 - accuracy: 0.958 - ETA: 55s - loss: 0.1280 - accuracy: 0.958 - ETA: 54s - loss: 0.1280 - accuracy: 0.958 - ETA: 54s - loss: 0.1280 - accuracy: 0.958 - ETA: 53s - loss: 0.1280 - accuracy: 0.958 - ETA: 53s - loss: 0.1280 - accuracy: 0.958 - ETA: 52s - loss: 0.1280 - accuracy: 0.958 - ETA: 51s - loss: 0.1281 - accuracy: 0.958 - ETA: 51s - loss: 0.1281 - accuracy: 0.958 - ETA: 50s - loss: 0.1281 - accuracy: 0.958 - ETA: 49s - loss: 0.1281 - accuracy: 0.958 - ETA: 49s - loss: 0.1281 - accuracy: 0.958 - ETA: 48s - loss: 0.1281 - accuracy: 0.958 - ETA: 48s - loss: 0.1282 - accuracy: 0.958 - ETA: 47s - loss: 0.1282 - accuracy: 0.958 - ETA: 46s - loss: 0.1281 - accuracy: 0.958 - ETA: 46s - loss: 0.1281 - accuracy: 0.958 - ETA: 45s - loss: 0.1281 - accuracy: 0.958 - ETA: 44s - loss: 0.1281 - accuracy: 0.958 - ETA: 44s - loss: 0.1282 - accuracy: 0.958 - ETA: 43s - loss: 0.1282 - accuracy: 0.958 - ETA: 43s - loss: 0.1282 - accuracy: 0.958 - ETA: 42s - loss: 0.1282 - accuracy: 0.958 - ETA: 41s - loss: 0.1282 - accuracy: 0.958 - ETA: 41s - loss: 0.1282 - accuracy: 0.958 - ETA: 40s - loss: 0.1282 - accuracy: 0.958 - ETA: 40s - loss: 0.1282 - accuracy: 0.958 - ETA: 39s - loss: 0.1283 - accuracy: 0.958 - ETA: 38s - loss: 0.1283 - accuracy: 0.958 - ETA: 38s - loss: 0.1283 - accuracy: 0.958 - ETA: 37s - loss: 0.1283 - accuracy: 0.958 - ETA: 36s - loss: 0.1283 - accuracy: 0.958 - ETA: 36s - loss: 0.1283 - accuracy: 0.958 - ETA: 35s - loss: 0.1283 - accuracy: 0.958 - ETA: 35s - loss: 0.1283 - accuracy: 0.958 - ETA: 34s - loss: 0.1283 - accuracy: 0.958 - ETA: 33s - loss: 0.1283 - accuracy: 0.958 - ETA: 33s - loss: 0.1283 - accuracy: 0.958 - ETA: 32s - loss: 0.1283 - accuracy: 0.958 - ETA: 31s - loss: 0.1283 - accuracy: 0.958 - ETA: 31s - loss: 0.1283 - accuracy: 0.958 - ETA: 30s - loss: 0.1283 - accuracy: 0.958 - ETA: 30s - loss: 0.1283 - accuracy: 0.958 - ETA: 29s - loss: 0.1283 - accuracy: 0.958 - ETA: 28s - loss: 0.1283 - accuracy: 0.958 - ETA: 28s - loss: 0.1283 - accuracy: 0.958 - ETA: 27s - loss: 0.1283 - accuracy: 0.958 - ETA: 26s - loss: 0.1282 - accuracy: 0.958 - ETA: 26s - loss: 0.1282 - accuracy: 0.958 - ETA: 25s - loss: 0.1282 - accuracy: 0.958 - ETA: 25s - loss: 0.1282 - accuracy: 0.958 - ETA: 24s - loss: 0.1282 - accuracy: 0.958 - ETA: 23s - loss: 0.1282 - accuracy: 0.958 - ETA: 23s - loss: 0.1282 - accuracy: 0.958 - ETA: 22s - loss: 0.1282 - accuracy: 0.958 - ETA: 22s - loss: 0.1282 - accuracy: 0.958 - ETA: 21s - loss: 0.1281 - accuracy: 0.958 - ETA: 20s - loss: 0.1281 - accuracy: 0.958 - ETA: 20s - loss: 0.1281 - accuracy: 0.958 - ETA: 19s - loss: 0.1281 - accuracy: 0.958 - ETA: 18s - loss: 0.1281 - accuracy: 0.958 - ETA: 18s - loss: 0.1281 - accuracy: 0.958 - ETA: 17s - loss: 0.1281 - accuracy: 0.958 - ETA: 17s - loss: 0.1281 - accuracy: 0.958 - ETA: 16s - loss: 0.1281 - accuracy: 0.958 - ETA: 15s - loss: 0.1281 - accuracy: 0.958 - ETA: 15s - loss: 0.1281 - accuracy: 0.958 - ETA: 14s - loss: 0.1281 - accuracy: 0.958 - ETA: 13s - loss: 0.1282 - accuracy: 0.958 - ETA: 13s - loss: 0.1283 - accuracy: 0.958 - ETA: 12s - loss: 0.1282 - accuracy: 0.958 - ETA: 12s - loss: 0.1283 - accuracy: 0.958 - ETA: 11s - loss: 0.1282 - accuracy: 0.958 - ETA: 10s - loss: 0.1282 - accuracy: 0.9583140454/140454 [==============================] - ETA: 10s - loss: 0.1282 - accuracy: 0.958 - ETA: 9s - loss: 0.1281 - accuracy: 0.958 - ETA: 9s - loss: 0.1281 - accuracy: 0.95 - ETA: 8s - loss: 0.1281 - accuracy: 0.95 - ETA: 7s - loss: 0.1281 - accuracy: 0.95 - ETA: 7s - loss: 0.1281 - accuracy: 0.95 - ETA: 6s - loss: 0.1281 - accuracy: 0.95 - ETA: 5s - loss: 0.1281 - accuracy: 0.95 - ETA: 5s - loss: 0.1281 - accuracy: 0.95 - ETA: 4s - loss: 0.1281 - accuracy: 0.95 - ETA: 4s - loss: 0.1281 - accuracy: 0.95 - ETA: 3s - loss: 0.1281 - accuracy: 0.95 - ETA: 2s - loss: 0.1282 - accuracy: 0.95 - ETA: 2s - loss: 0.1282 - accuracy: 0.95 - ETA: 1s - loss: 0.1282 - accuracy: 0.95 - ETA: 0s - loss: 0.1282 - accuracy: 0.95 - ETA: 0s - loss: 0.1282 - accuracy: 0.95 - 1384s 10ms/step - loss: 0.1282 - accuracy: 0.9583 - val_loss: 0.2000 - val_accuracy: 0.9365\n",
      "Epoch 4/5\n"
     ]
    },
    {
     "name": "stdout",
     "output_type": "stream",
     "text": [
      " 11392/140454 [=>............................] - ETA: 23:04 - loss: 0.0504 - accuracy: 0.968 - ETA: 22:22 - loss: 0.0678 - accuracy: 0.968 - ETA: 21:59 - loss: 0.0538 - accuracy: 0.979 - ETA: 21:32 - loss: 0.0686 - accuracy: 0.976 - ETA: 21:34 - loss: 0.0755 - accuracy: 0.975 - ETA: 21:36 - loss: 0.0699 - accuracy: 0.976 - ETA: 21:43 - loss: 0.0623 - accuracy: 0.979 - ETA: 21:44 - loss: 0.0681 - accuracy: 0.978 - ETA: 21:51 - loss: 0.0672 - accuracy: 0.977 - ETA: 21:47 - loss: 0.0656 - accuracy: 0.979 - ETA: 21:44 - loss: 0.0707 - accuracy: 0.978 - ETA: 21:35 - loss: 0.0713 - accuracy: 0.979 - ETA: 21:32 - loss: 0.0669 - accuracy: 0.980 - ETA: 21:30 - loss: 0.0746 - accuracy: 0.976 - ETA: 21:32 - loss: 0.0731 - accuracy: 0.978 - ETA: 21:36 - loss: 0.0709 - accuracy: 0.979 - ETA: 21:38 - loss: 0.0770 - accuracy: 0.977 - ETA: 21:41 - loss: 0.0741 - accuracy: 0.979 - ETA: 21:37 - loss: 0.0732 - accuracy: 0.979 - ETA: 21:32 - loss: 0.0710 - accuracy: 0.980 - ETA: 21:30 - loss: 0.0708 - accuracy: 0.980 - ETA: 21:29 - loss: 0.0710 - accuracy: 0.980 - ETA: 21:28 - loss: 0.0765 - accuracy: 0.979 - ETA: 21:28 - loss: 0.0750 - accuracy: 0.979 - ETA: 21:28 - loss: 0.0744 - accuracy: 0.979 - ETA: 21:28 - loss: 0.0743 - accuracy: 0.979 - ETA: 21:28 - loss: 0.0813 - accuracy: 0.978 - ETA: 21:26 - loss: 0.0798 - accuracy: 0.978 - ETA: 21:26 - loss: 0.0820 - accuracy: 0.976 - ETA: 21:27 - loss: 0.0856 - accuracy: 0.975 - ETA: 21:25 - loss: 0.0859 - accuracy: 0.975 - ETA: 21:26 - loss: 0.0844 - accuracy: 0.975 - ETA: 21:26 - loss: 0.0824 - accuracy: 0.976 - ETA: 21:24 - loss: 0.0807 - accuracy: 0.977 - ETA: 21:21 - loss: 0.0838 - accuracy: 0.975 - ETA: 21:22 - loss: 0.0849 - accuracy: 0.974 - ETA: 21:22 - loss: 0.0834 - accuracy: 0.975 - ETA: 21:21 - loss: 0.0826 - accuracy: 0.975 - ETA: 21:21 - loss: 0.0825 - accuracy: 0.975 - ETA: 21:20 - loss: 0.0826 - accuracy: 0.974 - ETA: 21:24 - loss: 0.0817 - accuracy: 0.974 - ETA: 21:31 - loss: 0.0818 - accuracy: 0.975 - ETA: 21:31 - loss: 0.0810 - accuracy: 0.975 - ETA: 21:32 - loss: 0.0828 - accuracy: 0.974 - ETA: 21:31 - loss: 0.0855 - accuracy: 0.974 - ETA: 21:30 - loss: 0.0867 - accuracy: 0.974 - ETA: 21:28 - loss: 0.0873 - accuracy: 0.974 - ETA: 21:28 - loss: 0.0864 - accuracy: 0.974 - ETA: 21:27 - loss: 0.0856 - accuracy: 0.974 - ETA: 21:26 - loss: 0.0856 - accuracy: 0.974 - ETA: 21:26 - loss: 0.0851 - accuracy: 0.974 - ETA: 21:26 - loss: 0.0840 - accuracy: 0.975 - ETA: 21:26 - loss: 0.0836 - accuracy: 0.974 - ETA: 21:25 - loss: 0.0828 - accuracy: 0.975 - ETA: 21:24 - loss: 0.0820 - accuracy: 0.975 - ETA: 21:24 - loss: 0.0811 - accuracy: 0.976 - ETA: 21:23 - loss: 0.0805 - accuracy: 0.976 - ETA: 21:21 - loss: 0.0807 - accuracy: 0.976 - ETA: 21:21 - loss: 0.0798 - accuracy: 0.976 - ETA: 21:20 - loss: 0.0806 - accuracy: 0.975 - ETA: 21:20 - loss: 0.0805 - accuracy: 0.975 - ETA: 21:19 - loss: 0.0801 - accuracy: 0.975 - ETA: 21:19 - loss: 0.0804 - accuracy: 0.975 - ETA: 21:18 - loss: 0.0811 - accuracy: 0.974 - ETA: 21:16 - loss: 0.0811 - accuracy: 0.974 - ETA: 21:14 - loss: 0.0804 - accuracy: 0.974 - ETA: 21:13 - loss: 0.0797 - accuracy: 0.975 - ETA: 21:13 - loss: 0.0819 - accuracy: 0.975 - ETA: 21:12 - loss: 0.0823 - accuracy: 0.974 - ETA: 21:12 - loss: 0.0824 - accuracy: 0.974 - ETA: 21:11 - loss: 0.0818 - accuracy: 0.974 - ETA: 21:10 - loss: 0.0829 - accuracy: 0.974 - ETA: 21:09 - loss: 0.0841 - accuracy: 0.974 - ETA: 21:07 - loss: 0.0841 - accuracy: 0.974 - ETA: 21:06 - loss: 0.0833 - accuracy: 0.974 - ETA: 21:07 - loss: 0.0831 - accuracy: 0.974 - ETA: 21:07 - loss: 0.0832 - accuracy: 0.974 - ETA: 21:07 - loss: 0.0827 - accuracy: 0.974 - ETA: 21:08 - loss: 0.0828 - accuracy: 0.974 - ETA: 21:06 - loss: 0.0827 - accuracy: 0.974 - ETA: 21:05 - loss: 0.0823 - accuracy: 0.974 - ETA: 21:05 - loss: 0.0817 - accuracy: 0.974 - ETA: 21:05 - loss: 0.0826 - accuracy: 0.973 - ETA: 21:04 - loss: 0.0825 - accuracy: 0.974 - ETA: 21:04 - loss: 0.0831 - accuracy: 0.973 - ETA: 21:04 - loss: 0.0827 - accuracy: 0.974 - ETA: 21:04 - loss: 0.0824 - accuracy: 0.974 - ETA: 21:03 - loss: 0.0818 - accuracy: 0.974 - ETA: 21:01 - loss: 0.0833 - accuracy: 0.974 - ETA: 21:00 - loss: 0.0829 - accuracy: 0.974 - ETA: 20:59 - loss: 0.0824 - accuracy: 0.974 - ETA: 20:59 - loss: 0.0819 - accuracy: 0.974 - ETA: 20:59 - loss: 0.0829 - accuracy: 0.974 - ETA: 20:58 - loss: 0.0824 - accuracy: 0.974 - ETA: 20:58 - loss: 0.0821 - accuracy: 0.974 - ETA: 20:57 - loss: 0.0822 - accuracy: 0.974 - ETA: 20:55 - loss: 0.0818 - accuracy: 0.974 - ETA: 20:55 - loss: 0.0816 - accuracy: 0.974 - ETA: 20:54 - loss: 0.0809 - accuracy: 0.974 - ETA: 20:53 - loss: 0.0809 - accuracy: 0.975 - ETA: 20:53 - loss: 0.0804 - accuracy: 0.975 - ETA: 20:52 - loss: 0.0801 - accuracy: 0.975 - ETA: 20:51 - loss: 0.0800 - accuracy: 0.975 - ETA: 20:50 - loss: 0.0801 - accuracy: 0.975 - ETA: 20:50 - loss: 0.0810 - accuracy: 0.975 - ETA: 20:49 - loss: 0.0806 - accuracy: 0.975 - ETA: 20:48 - loss: 0.0802 - accuracy: 0.975 - ETA: 20:48 - loss: 0.0799 - accuracy: 0.975 - ETA: 20:47 - loss: 0.0814 - accuracy: 0.975 - ETA: 20:47 - loss: 0.0814 - accuracy: 0.975 - ETA: 20:46 - loss: 0.0821 - accuracy: 0.974 - ETA: 20:45 - loss: 0.0817 - accuracy: 0.975 - ETA: 20:45 - loss: 0.0817 - accuracy: 0.975 - ETA: 20:44 - loss: 0.0822 - accuracy: 0.975 - ETA: 20:43 - loss: 0.0824 - accuracy: 0.975 - ETA: 20:43 - loss: 0.0825 - accuracy: 0.974 - ETA: 20:42 - loss: 0.0830 - accuracy: 0.974 - ETA: 20:42 - loss: 0.0829 - accuracy: 0.974 - ETA: 20:42 - loss: 0.0830 - accuracy: 0.974 - ETA: 20:41 - loss: 0.0833 - accuracy: 0.974 - ETA: 20:40 - loss: 0.0835 - accuracy: 0.974 - ETA: 20:40 - loss: 0.0834 - accuracy: 0.974 - ETA: 20:40 - loss: 0.0841 - accuracy: 0.973 - ETA: 20:39 - loss: 0.0836 - accuracy: 0.974 - ETA: 20:39 - loss: 0.0834 - accuracy: 0.974 - ETA: 20:38 - loss: 0.0841 - accuracy: 0.974 - ETA: 20:37 - loss: 0.0839 - accuracy: 0.974 - ETA: 20:36 - loss: 0.0843 - accuracy: 0.973 - ETA: 20:36 - loss: 0.0843 - accuracy: 0.974 - ETA: 20:35 - loss: 0.0840 - accuracy: 0.974 - ETA: 20:34 - loss: 0.0838 - accuracy: 0.974 - ETA: 20:34 - loss: 0.0832 - accuracy: 0.974 - ETA: 20:33 - loss: 0.0830 - accuracy: 0.974 - ETA: 20:33 - loss: 0.0832 - accuracy: 0.974 - ETA: 20:32 - loss: 0.0829 - accuracy: 0.974 - ETA: 20:31 - loss: 0.0833 - accuracy: 0.974 - ETA: 20:31 - loss: 0.0832 - accuracy: 0.974 - ETA: 20:30 - loss: 0.0834 - accuracy: 0.973 - ETA: 20:30 - loss: 0.0829 - accuracy: 0.974 - ETA: 20:29 - loss: 0.0835 - accuracy: 0.973 - ETA: 20:29 - loss: 0.0833 - accuracy: 0.974 - ETA: 20:28 - loss: 0.0829 - accuracy: 0.974 - ETA: 20:29 - loss: 0.0831 - accuracy: 0.974 - ETA: 20:30 - loss: 0.0830 - accuracy: 0.974 - ETA: 20:29 - loss: 0.0832 - accuracy: 0.974 - ETA: 20:28 - loss: 0.0830 - accuracy: 0.974 - ETA: 20:28 - loss: 0.0834 - accuracy: 0.973 - ETA: 20:28 - loss: 0.0836 - accuracy: 0.973 - ETA: 20:27 - loss: 0.0841 - accuracy: 0.973 - ETA: 20:26 - loss: 0.0844 - accuracy: 0.973 - ETA: 20:25 - loss: 0.0843 - accuracy: 0.973 - ETA: 20:24 - loss: 0.0843 - accuracy: 0.973 - ETA: 20:24 - loss: 0.0842 - accuracy: 0.973 - ETA: 20:23 - loss: 0.0841 - accuracy: 0.973 - ETA: 20:23 - loss: 0.0842 - accuracy: 0.973 - ETA: 20:22 - loss: 0.0840 - accuracy: 0.973 - ETA: 20:22 - loss: 0.0842 - accuracy: 0.973 - ETA: 20:22 - loss: 0.0844 - accuracy: 0.973 - ETA: 20:22 - loss: 0.0848 - accuracy: 0.973 - ETA: 20:22 - loss: 0.0848 - accuracy: 0.973 - ETA: 20:21 - loss: 0.0848 - accuracy: 0.973 - ETA: 20:21 - loss: 0.0845 - accuracy: 0.973 - ETA: 20:20 - loss: 0.0843 - accuracy: 0.973 - ETA: 20:20 - loss: 0.0844 - accuracy: 0.973 - ETA: 20:19 - loss: 0.0850 - accuracy: 0.973 - ETA: 20:18 - loss: 0.0855 - accuracy: 0.972 - ETA: 20:17 - loss: 0.0856 - accuracy: 0.972 - ETA: 20:17 - loss: 0.0854 - accuracy: 0.972 - ETA: 20:16 - loss: 0.0852 - accuracy: 0.972 - ETA: 20:15 - loss: 0.0853 - accuracy: 0.972 - ETA: 20:15 - loss: 0.0849 - accuracy: 0.973 - ETA: 20:14 - loss: 0.0847 - accuracy: 0.973 - ETA: 20:14 - loss: 0.0847 - accuracy: 0.973 - ETA: 20:14 - loss: 0.0844 - accuracy: 0.973 - ETA: 20:13 - loss: 0.0847 - accuracy: 0.973 - ETA: 20:13 - loss: 0.0845 - accuracy: 0.973 - ETA: 20:13 - loss: 0.0842 - accuracy: 0.973 - ETA: 20:12 - loss: 0.0840 - accuracy: 0.9734 22784/140454 [===>..........................] - ETA: 20:12 - loss: 0.0837 - accuracy: 0.973 - ETA: 20:12 - loss: 0.0836 - accuracy: 0.973 - ETA: 20:12 - loss: 0.0838 - accuracy: 0.973 - ETA: 20:11 - loss: 0.0839 - accuracy: 0.973 - ETA: 20:10 - loss: 0.0837 - accuracy: 0.973 - ETA: 20:10 - loss: 0.0837 - accuracy: 0.973 - ETA: 20:09 - loss: 0.0839 - accuracy: 0.973 - ETA: 20:08 - loss: 0.0841 - accuracy: 0.973 - ETA: 20:08 - loss: 0.0843 - accuracy: 0.973 - ETA: 20:07 - loss: 0.0845 - accuracy: 0.973 - ETA: 20:06 - loss: 0.0843 - accuracy: 0.973 - ETA: 20:06 - loss: 0.0840 - accuracy: 0.973 - ETA: 20:05 - loss: 0.0838 - accuracy: 0.973 - ETA: 20:05 - loss: 0.0839 - accuracy: 0.973 - ETA: 20:04 - loss: 0.0835 - accuracy: 0.973 - ETA: 20:03 - loss: 0.0835 - accuracy: 0.973 - ETA: 20:03 - loss: 0.0831 - accuracy: 0.973 - ETA: 20:02 - loss: 0.0828 - accuracy: 0.973 - ETA: 20:01 - loss: 0.0826 - accuracy: 0.974 - ETA: 20:00 - loss: 0.0825 - accuracy: 0.973 - ETA: 20:00 - loss: 0.0822 - accuracy: 0.974 - ETA: 19:59 - loss: 0.0821 - accuracy: 0.974 - ETA: 19:59 - loss: 0.0819 - accuracy: 0.974 - ETA: 19:58 - loss: 0.0820 - accuracy: 0.974 - ETA: 19:58 - loss: 0.0824 - accuracy: 0.973 - ETA: 19:57 - loss: 0.0822 - accuracy: 0.973 - ETA: 19:56 - loss: 0.0821 - accuracy: 0.973 - ETA: 19:55 - loss: 0.0819 - accuracy: 0.974 - ETA: 19:55 - loss: 0.0824 - accuracy: 0.973 - ETA: 19:54 - loss: 0.0829 - accuracy: 0.973 - ETA: 19:53 - loss: 0.0830 - accuracy: 0.973 - ETA: 19:53 - loss: 0.0829 - accuracy: 0.973 - ETA: 19:52 - loss: 0.0829 - accuracy: 0.973 - ETA: 19:51 - loss: 0.0827 - accuracy: 0.973 - ETA: 19:50 - loss: 0.0826 - accuracy: 0.973 - ETA: 19:49 - loss: 0.0832 - accuracy: 0.973 - ETA: 19:49 - loss: 0.0830 - accuracy: 0.973 - ETA: 19:48 - loss: 0.0831 - accuracy: 0.973 - ETA: 19:48 - loss: 0.0830 - accuracy: 0.973 - ETA: 19:47 - loss: 0.0830 - accuracy: 0.973 - ETA: 19:47 - loss: 0.0833 - accuracy: 0.973 - ETA: 19:46 - loss: 0.0833 - accuracy: 0.973 - ETA: 19:45 - loss: 0.0832 - accuracy: 0.973 - ETA: 19:44 - loss: 0.0831 - accuracy: 0.973 - ETA: 19:43 - loss: 0.0830 - accuracy: 0.973 - ETA: 19:43 - loss: 0.0829 - accuracy: 0.973 - ETA: 19:42 - loss: 0.0829 - accuracy: 0.973 - ETA: 19:42 - loss: 0.0827 - accuracy: 0.973 - ETA: 19:41 - loss: 0.0825 - accuracy: 0.974 - ETA: 19:40 - loss: 0.0825 - accuracy: 0.974 - ETA: 19:39 - loss: 0.0823 - accuracy: 0.974 - ETA: 19:38 - loss: 0.0822 - accuracy: 0.974 - ETA: 19:37 - loss: 0.0821 - accuracy: 0.974 - ETA: 19:37 - loss: 0.0822 - accuracy: 0.974 - ETA: 19:36 - loss: 0.0820 - accuracy: 0.974 - ETA: 19:36 - loss: 0.0818 - accuracy: 0.974 - ETA: 19:35 - loss: 0.0816 - accuracy: 0.974 - ETA: 19:34 - loss: 0.0814 - accuracy: 0.974 - ETA: 19:33 - loss: 0.0815 - accuracy: 0.974 - ETA: 19:33 - loss: 0.0814 - accuracy: 0.974 - ETA: 19:32 - loss: 0.0814 - accuracy: 0.974 - ETA: 19:31 - loss: 0.0812 - accuracy: 0.974 - ETA: 19:31 - loss: 0.0810 - accuracy: 0.974 - ETA: 19:30 - loss: 0.0810 - accuracy: 0.974 - ETA: 19:30 - loss: 0.0810 - accuracy: 0.974 - ETA: 19:29 - loss: 0.0816 - accuracy: 0.974 - ETA: 19:29 - loss: 0.0813 - accuracy: 0.974 - ETA: 19:29 - loss: 0.0812 - accuracy: 0.974 - ETA: 19:30 - loss: 0.0810 - accuracy: 0.974 - ETA: 19:30 - loss: 0.0811 - accuracy: 0.974 - ETA: 19:32 - loss: 0.0810 - accuracy: 0.974 - ETA: 19:35 - loss: 0.0808 - accuracy: 0.974 - ETA: 19:36 - loss: 0.0805 - accuracy: 0.974 - ETA: 19:36 - loss: 0.0804 - accuracy: 0.974 - ETA: 19:37 - loss: 0.0804 - accuracy: 0.974 - ETA: 19:39 - loss: 0.0807 - accuracy: 0.974 - ETA: 19:41 - loss: 0.0806 - accuracy: 0.974 - ETA: 19:43 - loss: 0.0804 - accuracy: 0.974 - ETA: 19:45 - loss: 0.0804 - accuracy: 0.974 - ETA: 19:45 - loss: 0.0805 - accuracy: 0.974 - ETA: 19:47 - loss: 0.0805 - accuracy: 0.974 - ETA: 19:48 - loss: 0.0803 - accuracy: 0.974 - ETA: 19:49 - loss: 0.0800 - accuracy: 0.974 - ETA: 19:50 - loss: 0.0800 - accuracy: 0.974 - ETA: 19:53 - loss: 0.0800 - accuracy: 0.974 - ETA: 19:54 - loss: 0.0804 - accuracy: 0.974 - ETA: 19:55 - loss: 0.0805 - accuracy: 0.974 - ETA: 19:58 - loss: 0.0803 - accuracy: 0.974 - ETA: 19:59 - loss: 0.0802 - accuracy: 0.974 - ETA: 20:00 - loss: 0.0805 - accuracy: 0.974 - ETA: 20:01 - loss: 0.0803 - accuracy: 0.974 - ETA: 20:02 - loss: 0.0803 - accuracy: 0.974 - ETA: 20:03 - loss: 0.0802 - accuracy: 0.974 - ETA: 20:05 - loss: 0.0799 - accuracy: 0.974 - ETA: 20:06 - loss: 0.0800 - accuracy: 0.974 - ETA: 20:07 - loss: 0.0804 - accuracy: 0.974 - ETA: 20:08 - loss: 0.0805 - accuracy: 0.974 - ETA: 20:09 - loss: 0.0805 - accuracy: 0.974 - ETA: 20:10 - loss: 0.0803 - accuracy: 0.974 - ETA: 20:12 - loss: 0.0803 - accuracy: 0.974 - ETA: 20:13 - loss: 0.0802 - accuracy: 0.974 - ETA: 20:14 - loss: 0.0801 - accuracy: 0.974 - ETA: 20:16 - loss: 0.0801 - accuracy: 0.974 - ETA: 20:16 - loss: 0.0803 - accuracy: 0.974 - ETA: 20:18 - loss: 0.0801 - accuracy: 0.974 - ETA: 20:20 - loss: 0.0805 - accuracy: 0.974 - ETA: 20:21 - loss: 0.0803 - accuracy: 0.974 - ETA: 20:22 - loss: 0.0804 - accuracy: 0.974 - ETA: 20:23 - loss: 0.0802 - accuracy: 0.974 - ETA: 20:24 - loss: 0.0801 - accuracy: 0.974 - ETA: 20:28 - loss: 0.0803 - accuracy: 0.974 - ETA: 20:31 - loss: 0.0801 - accuracy: 0.974 - ETA: 20:31 - loss: 0.0801 - accuracy: 0.974 - ETA: 20:32 - loss: 0.0800 - accuracy: 0.974 - ETA: 20:33 - loss: 0.0799 - accuracy: 0.974 - ETA: 20:35 - loss: 0.0797 - accuracy: 0.975 - ETA: 20:35 - loss: 0.0799 - accuracy: 0.974 - ETA: 20:37 - loss: 0.0800 - accuracy: 0.974 - ETA: 20:38 - loss: 0.0799 - accuracy: 0.975 - ETA: 20:38 - loss: 0.0798 - accuracy: 0.975 - ETA: 20:38 - loss: 0.0799 - accuracy: 0.975 - ETA: 20:39 - loss: 0.0798 - accuracy: 0.975 - ETA: 20:39 - loss: 0.0799 - accuracy: 0.975 - ETA: 20:38 - loss: 0.0800 - accuracy: 0.975 - ETA: 20:37 - loss: 0.0801 - accuracy: 0.974 - ETA: 20:37 - loss: 0.0802 - accuracy: 0.974 - ETA: 20:36 - loss: 0.0800 - accuracy: 0.974 - ETA: 20:36 - loss: 0.0800 - accuracy: 0.974 - ETA: 20:36 - loss: 0.0801 - accuracy: 0.975 - ETA: 20:37 - loss: 0.0799 - accuracy: 0.975 - ETA: 20:36 - loss: 0.0798 - accuracy: 0.975 - ETA: 20:35 - loss: 0.0798 - accuracy: 0.975 - ETA: 20:34 - loss: 0.0796 - accuracy: 0.975 - ETA: 20:33 - loss: 0.0796 - accuracy: 0.975 - ETA: 20:32 - loss: 0.0797 - accuracy: 0.975 - ETA: 20:31 - loss: 0.0797 - accuracy: 0.975 - ETA: 20:30 - loss: 0.0797 - accuracy: 0.975 - ETA: 20:29 - loss: 0.0799 - accuracy: 0.975 - ETA: 20:28 - loss: 0.0798 - accuracy: 0.975 - ETA: 20:27 - loss: 0.0798 - accuracy: 0.975 - ETA: 20:27 - loss: 0.0798 - accuracy: 0.975 - ETA: 20:26 - loss: 0.0797 - accuracy: 0.975 - ETA: 20:25 - loss: 0.0800 - accuracy: 0.975 - ETA: 20:24 - loss: 0.0799 - accuracy: 0.975 - ETA: 20:23 - loss: 0.0798 - accuracy: 0.975 - ETA: 20:22 - loss: 0.0801 - accuracy: 0.975 - ETA: 20:21 - loss: 0.0800 - accuracy: 0.975 - ETA: 20:19 - loss: 0.0802 - accuracy: 0.975 - ETA: 20:18 - loss: 0.0800 - accuracy: 0.975 - ETA: 20:17 - loss: 0.0802 - accuracy: 0.975 - ETA: 20:16 - loss: 0.0801 - accuracy: 0.975 - ETA: 20:15 - loss: 0.0800 - accuracy: 0.975 - ETA: 20:15 - loss: 0.0803 - accuracy: 0.975 - ETA: 20:14 - loss: 0.0801 - accuracy: 0.975 - ETA: 20:13 - loss: 0.0803 - accuracy: 0.975 - ETA: 20:12 - loss: 0.0802 - accuracy: 0.975 - ETA: 20:11 - loss: 0.0802 - accuracy: 0.975 - ETA: 20:10 - loss: 0.0800 - accuracy: 0.975 - ETA: 20:09 - loss: 0.0800 - accuracy: 0.975 - ETA: 20:08 - loss: 0.0801 - accuracy: 0.975 - ETA: 20:07 - loss: 0.0801 - accuracy: 0.975 - ETA: 20:06 - loss: 0.0801 - accuracy: 0.975 - ETA: 20:05 - loss: 0.0800 - accuracy: 0.975 - ETA: 20:04 - loss: 0.0800 - accuracy: 0.975 - ETA: 20:03 - loss: 0.0800 - accuracy: 0.975 - ETA: 20:02 - loss: 0.0801 - accuracy: 0.975 - ETA: 20:01 - loss: 0.0804 - accuracy: 0.975 - ETA: 20:00 - loss: 0.0806 - accuracy: 0.975 - ETA: 19:59 - loss: 0.0805 - accuracy: 0.975 - ETA: 19:58 - loss: 0.0805 - accuracy: 0.975 - ETA: 19:57 - loss: 0.0804 - accuracy: 0.975 - ETA: 19:56 - loss: 0.0806 - accuracy: 0.975 - ETA: 19:55 - loss: 0.0807 - accuracy: 0.975 - ETA: 19:54 - loss: 0.0806 - accuracy: 0.975 - ETA: 19:52 - loss: 0.0806 - accuracy: 0.974 - ETA: 19:51 - loss: 0.0805 - accuracy: 0.975 - ETA: 19:50 - loss: 0.0805 - accuracy: 0.974 - ETA: 19:49 - loss: 0.0807 - accuracy: 0.9749 34176/140454 [======>.......................] - ETA: 19:48 - loss: 0.0806 - accuracy: 0.974 - ETA: 19:47 - loss: 0.0809 - accuracy: 0.974 - ETA: 19:46 - loss: 0.0808 - accuracy: 0.974 - ETA: 19:45 - loss: 0.0809 - accuracy: 0.974 - ETA: 19:44 - loss: 0.0809 - accuracy: 0.974 - ETA: 19:43 - loss: 0.0808 - accuracy: 0.974 - ETA: 19:42 - loss: 0.0807 - accuracy: 0.974 - ETA: 19:41 - loss: 0.0808 - accuracy: 0.974 - ETA: 19:40 - loss: 0.0809 - accuracy: 0.974 - ETA: 19:39 - loss: 0.0811 - accuracy: 0.974 - ETA: 19:38 - loss: 0.0811 - accuracy: 0.974 - ETA: 19:37 - loss: 0.0810 - accuracy: 0.974 - ETA: 19:36 - loss: 0.0808 - accuracy: 0.974 - ETA: 19:35 - loss: 0.0807 - accuracy: 0.975 - ETA: 19:34 - loss: 0.0808 - accuracy: 0.974 - ETA: 19:33 - loss: 0.0808 - accuracy: 0.975 - ETA: 19:32 - loss: 0.0808 - accuracy: 0.974 - ETA: 19:32 - loss: 0.0810 - accuracy: 0.974 - ETA: 19:30 - loss: 0.0809 - accuracy: 0.974 - ETA: 19:29 - loss: 0.0808 - accuracy: 0.974 - ETA: 19:28 - loss: 0.0807 - accuracy: 0.975 - ETA: 19:27 - loss: 0.0806 - accuracy: 0.975 - ETA: 19:26 - loss: 0.0806 - accuracy: 0.975 - ETA: 19:25 - loss: 0.0807 - accuracy: 0.975 - ETA: 19:25 - loss: 0.0805 - accuracy: 0.975 - ETA: 19:24 - loss: 0.0806 - accuracy: 0.975 - ETA: 19:23 - loss: 0.0807 - accuracy: 0.975 - ETA: 19:22 - loss: 0.0811 - accuracy: 0.974 - ETA: 19:21 - loss: 0.0810 - accuracy: 0.974 - ETA: 19:20 - loss: 0.0811 - accuracy: 0.974 - ETA: 19:19 - loss: 0.0812 - accuracy: 0.974 - ETA: 19:18 - loss: 0.0811 - accuracy: 0.974 - ETA: 19:17 - loss: 0.0812 - accuracy: 0.974 - ETA: 19:16 - loss: 0.0811 - accuracy: 0.974 - ETA: 19:15 - loss: 0.0812 - accuracy: 0.974 - ETA: 19:14 - loss: 0.0812 - accuracy: 0.974 - ETA: 19:13 - loss: 0.0812 - accuracy: 0.974 - ETA: 19:12 - loss: 0.0811 - accuracy: 0.974 - ETA: 19:11 - loss: 0.0811 - accuracy: 0.974 - ETA: 19:10 - loss: 0.0810 - accuracy: 0.974 - ETA: 19:09 - loss: 0.0810 - accuracy: 0.974 - ETA: 19:08 - loss: 0.0811 - accuracy: 0.974 - ETA: 19:07 - loss: 0.0812 - accuracy: 0.974 - ETA: 19:06 - loss: 0.0816 - accuracy: 0.974 - ETA: 19:06 - loss: 0.0816 - accuracy: 0.974 - ETA: 19:05 - loss: 0.0816 - accuracy: 0.974 - ETA: 19:04 - loss: 0.0814 - accuracy: 0.974 - ETA: 19:03 - loss: 0.0813 - accuracy: 0.974 - ETA: 19:02 - loss: 0.0813 - accuracy: 0.974 - ETA: 19:01 - loss: 0.0813 - accuracy: 0.974 - ETA: 19:00 - loss: 0.0812 - accuracy: 0.974 - ETA: 18:59 - loss: 0.0811 - accuracy: 0.975 - ETA: 18:58 - loss: 0.0812 - accuracy: 0.974 - ETA: 18:58 - loss: 0.0811 - accuracy: 0.974 - ETA: 18:57 - loss: 0.0814 - accuracy: 0.974 - ETA: 18:56 - loss: 0.0816 - accuracy: 0.974 - ETA: 18:55 - loss: 0.0819 - accuracy: 0.974 - ETA: 18:54 - loss: 0.0818 - accuracy: 0.974 - ETA: 18:53 - loss: 0.0816 - accuracy: 0.974 - ETA: 18:52 - loss: 0.0818 - accuracy: 0.974 - ETA: 18:51 - loss: 0.0817 - accuracy: 0.974 - ETA: 18:50 - loss: 0.0816 - accuracy: 0.974 - ETA: 18:50 - loss: 0.0820 - accuracy: 0.974 - ETA: 18:49 - loss: 0.0822 - accuracy: 0.974 - ETA: 18:48 - loss: 0.0822 - accuracy: 0.974 - ETA: 18:47 - loss: 0.0824 - accuracy: 0.974 - ETA: 18:46 - loss: 0.0824 - accuracy: 0.974 - ETA: 18:46 - loss: 0.0824 - accuracy: 0.974 - ETA: 18:45 - loss: 0.0824 - accuracy: 0.974 - ETA: 18:44 - loss: 0.0823 - accuracy: 0.974 - ETA: 18:44 - loss: 0.0825 - accuracy: 0.974 - ETA: 18:44 - loss: 0.0826 - accuracy: 0.974 - ETA: 18:43 - loss: 0.0826 - accuracy: 0.974 - ETA: 18:42 - loss: 0.0826 - accuracy: 0.974 - ETA: 18:41 - loss: 0.0825 - accuracy: 0.974 - ETA: 18:40 - loss: 0.0824 - accuracy: 0.974 - ETA: 18:39 - loss: 0.0824 - accuracy: 0.974 - ETA: 18:38 - loss: 0.0824 - accuracy: 0.974 - ETA: 18:37 - loss: 0.0824 - accuracy: 0.974 - ETA: 18:37 - loss: 0.0824 - accuracy: 0.974 - ETA: 18:36 - loss: 0.0825 - accuracy: 0.974 - ETA: 18:35 - loss: 0.0825 - accuracy: 0.974 - ETA: 18:34 - loss: 0.0826 - accuracy: 0.974 - ETA: 18:33 - loss: 0.0825 - accuracy: 0.974 - ETA: 18:32 - loss: 0.0827 - accuracy: 0.974 - ETA: 18:31 - loss: 0.0829 - accuracy: 0.974 - ETA: 18:30 - loss: 0.0831 - accuracy: 0.974 - ETA: 18:29 - loss: 0.0829 - accuracy: 0.974 - ETA: 18:28 - loss: 0.0829 - accuracy: 0.974 - ETA: 18:27 - loss: 0.0830 - accuracy: 0.974 - ETA: 18:27 - loss: 0.0831 - accuracy: 0.974 - ETA: 18:26 - loss: 0.0830 - accuracy: 0.974 - ETA: 18:25 - loss: 0.0831 - accuracy: 0.974 - ETA: 18:24 - loss: 0.0830 - accuracy: 0.974 - ETA: 18:23 - loss: 0.0830 - accuracy: 0.974 - ETA: 18:24 - loss: 0.0832 - accuracy: 0.974 - ETA: 18:23 - loss: 0.0832 - accuracy: 0.974 - ETA: 18:22 - loss: 0.0832 - accuracy: 0.974 - ETA: 18:21 - loss: 0.0831 - accuracy: 0.974 - ETA: 18:20 - loss: 0.0832 - accuracy: 0.974 - ETA: 18:19 - loss: 0.0831 - accuracy: 0.974 - ETA: 18:18 - loss: 0.0831 - accuracy: 0.974 - ETA: 18:18 - loss: 0.0830 - accuracy: 0.974 - ETA: 18:17 - loss: 0.0830 - accuracy: 0.974 - ETA: 18:16 - loss: 0.0830 - accuracy: 0.974 - ETA: 18:15 - loss: 0.0829 - accuracy: 0.974 - ETA: 18:14 - loss: 0.0829 - accuracy: 0.974 - ETA: 18:13 - loss: 0.0831 - accuracy: 0.974 - ETA: 18:12 - loss: 0.0830 - accuracy: 0.974 - ETA: 18:12 - loss: 0.0829 - accuracy: 0.974 - ETA: 18:11 - loss: 0.0832 - accuracy: 0.974 - ETA: 18:10 - loss: 0.0832 - accuracy: 0.974 - ETA: 18:09 - loss: 0.0832 - accuracy: 0.974 - ETA: 18:08 - loss: 0.0832 - accuracy: 0.974 - ETA: 18:07 - loss: 0.0833 - accuracy: 0.974 - ETA: 18:07 - loss: 0.0832 - accuracy: 0.974 - ETA: 18:06 - loss: 0.0832 - accuracy: 0.974 - ETA: 18:05 - loss: 0.0831 - accuracy: 0.974 - ETA: 18:04 - loss: 0.0830 - accuracy: 0.974 - ETA: 18:03 - loss: 0.0830 - accuracy: 0.974 - ETA: 18:02 - loss: 0.0831 - accuracy: 0.974 - ETA: 18:01 - loss: 0.0830 - accuracy: 0.974 - ETA: 18:01 - loss: 0.0830 - accuracy: 0.974 - ETA: 18:00 - loss: 0.0832 - accuracy: 0.974 - ETA: 17:59 - loss: 0.0831 - accuracy: 0.974 - ETA: 17:58 - loss: 0.0830 - accuracy: 0.974 - ETA: 17:57 - loss: 0.0831 - accuracy: 0.974 - ETA: 17:56 - loss: 0.0830 - accuracy: 0.974 - ETA: 17:56 - loss: 0.0832 - accuracy: 0.974 - ETA: 17:55 - loss: 0.0831 - accuracy: 0.974 - ETA: 17:54 - loss: 0.0832 - accuracy: 0.974 - ETA: 17:53 - loss: 0.0835 - accuracy: 0.974 - ETA: 17:52 - loss: 0.0836 - accuracy: 0.974 - ETA: 17:52 - loss: 0.0836 - accuracy: 0.974 - ETA: 17:51 - loss: 0.0836 - accuracy: 0.974 - ETA: 17:50 - loss: 0.0838 - accuracy: 0.974 - ETA: 17:49 - loss: 0.0838 - accuracy: 0.974 - ETA: 17:48 - loss: 0.0838 - accuracy: 0.974 - ETA: 17:47 - loss: 0.0842 - accuracy: 0.974 - ETA: 17:47 - loss: 0.0840 - accuracy: 0.974 - ETA: 17:46 - loss: 0.0839 - accuracy: 0.974 - ETA: 17:45 - loss: 0.0839 - accuracy: 0.974 - ETA: 17:44 - loss: 0.0838 - accuracy: 0.974 - ETA: 17:43 - loss: 0.0839 - accuracy: 0.974 - ETA: 17:43 - loss: 0.0839 - accuracy: 0.974 - ETA: 17:42 - loss: 0.0837 - accuracy: 0.974 - ETA: 17:41 - loss: 0.0837 - accuracy: 0.974 - ETA: 17:40 - loss: 0.0837 - accuracy: 0.974 - ETA: 17:39 - loss: 0.0837 - accuracy: 0.974 - ETA: 17:39 - loss: 0.0837 - accuracy: 0.974 - ETA: 17:38 - loss: 0.0836 - accuracy: 0.974 - ETA: 17:37 - loss: 0.0835 - accuracy: 0.974 - ETA: 17:36 - loss: 0.0835 - accuracy: 0.974 - ETA: 17:35 - loss: 0.0835 - accuracy: 0.974 - ETA: 17:34 - loss: 0.0834 - accuracy: 0.974 - ETA: 17:34 - loss: 0.0832 - accuracy: 0.974 - ETA: 17:33 - loss: 0.0833 - accuracy: 0.974 - ETA: 17:32 - loss: 0.0831 - accuracy: 0.974 - ETA: 17:31 - loss: 0.0833 - accuracy: 0.974 - ETA: 17:30 - loss: 0.0833 - accuracy: 0.974 - ETA: 17:30 - loss: 0.0834 - accuracy: 0.974 - ETA: 17:29 - loss: 0.0834 - accuracy: 0.974 - ETA: 17:28 - loss: 0.0834 - accuracy: 0.974 - ETA: 17:27 - loss: 0.0835 - accuracy: 0.974 - ETA: 17:26 - loss: 0.0839 - accuracy: 0.974 - ETA: 17:26 - loss: 0.0839 - accuracy: 0.974 - ETA: 17:25 - loss: 0.0839 - accuracy: 0.974 - ETA: 17:24 - loss: 0.0838 - accuracy: 0.974 - ETA: 17:23 - loss: 0.0839 - accuracy: 0.974 - ETA: 17:22 - loss: 0.0838 - accuracy: 0.974 - ETA: 17:22 - loss: 0.0839 - accuracy: 0.974 - ETA: 17:21 - loss: 0.0840 - accuracy: 0.974 - ETA: 17:21 - loss: 0.0839 - accuracy: 0.974 - ETA: 17:20 - loss: 0.0840 - accuracy: 0.974 - ETA: 17:19 - loss: 0.0839 - accuracy: 0.974 - ETA: 17:18 - loss: 0.0838 - accuracy: 0.974 - ETA: 17:17 - loss: 0.0838 - accuracy: 0.974 - ETA: 17:17 - loss: 0.0838 - accuracy: 0.9740 45568/140454 [========>.....................] - ETA: 17:16 - loss: 0.0837 - accuracy: 0.974 - ETA: 17:15 - loss: 0.0836 - accuracy: 0.974 - ETA: 17:15 - loss: 0.0837 - accuracy: 0.974 - ETA: 17:14 - loss: 0.0837 - accuracy: 0.974 - ETA: 17:13 - loss: 0.0838 - accuracy: 0.974 - ETA: 17:12 - loss: 0.0838 - accuracy: 0.974 - ETA: 17:11 - loss: 0.0838 - accuracy: 0.974 - ETA: 17:11 - loss: 0.0838 - accuracy: 0.974 - ETA: 17:10 - loss: 0.0837 - accuracy: 0.974 - ETA: 17:09 - loss: 0.0836 - accuracy: 0.974 - ETA: 17:08 - loss: 0.0835 - accuracy: 0.974 - ETA: 17:08 - loss: 0.0836 - accuracy: 0.974 - ETA: 17:07 - loss: 0.0837 - accuracy: 0.974 - ETA: 17:06 - loss: 0.0837 - accuracy: 0.974 - ETA: 17:05 - loss: 0.0840 - accuracy: 0.974 - ETA: 17:04 - loss: 0.0839 - accuracy: 0.974 - ETA: 17:04 - loss: 0.0838 - accuracy: 0.974 - ETA: 17:03 - loss: 0.0838 - accuracy: 0.974 - ETA: 17:02 - loss: 0.0838 - accuracy: 0.974 - ETA: 17:01 - loss: 0.0838 - accuracy: 0.974 - ETA: 17:00 - loss: 0.0839 - accuracy: 0.974 - ETA: 17:00 - loss: 0.0841 - accuracy: 0.973 - ETA: 16:59 - loss: 0.0840 - accuracy: 0.974 - ETA: 16:58 - loss: 0.0841 - accuracy: 0.974 - ETA: 16:57 - loss: 0.0840 - accuracy: 0.974 - ETA: 16:57 - loss: 0.0839 - accuracy: 0.974 - ETA: 16:56 - loss: 0.0839 - accuracy: 0.974 - ETA: 16:55 - loss: 0.0838 - accuracy: 0.974 - ETA: 16:54 - loss: 0.0838 - accuracy: 0.974 - ETA: 16:54 - loss: 0.0837 - accuracy: 0.974 - ETA: 16:53 - loss: 0.0837 - accuracy: 0.974 - ETA: 16:52 - loss: 0.0837 - accuracy: 0.974 - ETA: 16:51 - loss: 0.0836 - accuracy: 0.974 - ETA: 16:51 - loss: 0.0835 - accuracy: 0.974 - ETA: 16:50 - loss: 0.0836 - accuracy: 0.974 - ETA: 16:49 - loss: 0.0837 - accuracy: 0.974 - ETA: 16:48 - loss: 0.0837 - accuracy: 0.974 - ETA: 16:48 - loss: 0.0837 - accuracy: 0.974 - ETA: 16:47 - loss: 0.0836 - accuracy: 0.974 - ETA: 16:46 - loss: 0.0837 - accuracy: 0.974 - ETA: 16:45 - loss: 0.0837 - accuracy: 0.974 - ETA: 16:45 - loss: 0.0839 - accuracy: 0.974 - ETA: 16:44 - loss: 0.0838 - accuracy: 0.974 - ETA: 16:43 - loss: 0.0838 - accuracy: 0.974 - ETA: 16:42 - loss: 0.0839 - accuracy: 0.974 - ETA: 16:41 - loss: 0.0840 - accuracy: 0.974 - ETA: 16:41 - loss: 0.0839 - accuracy: 0.974 - ETA: 16:40 - loss: 0.0838 - accuracy: 0.974 - ETA: 16:39 - loss: 0.0838 - accuracy: 0.974 - ETA: 16:39 - loss: 0.0838 - accuracy: 0.974 - ETA: 16:38 - loss: 0.0840 - accuracy: 0.974 - ETA: 16:37 - loss: 0.0842 - accuracy: 0.974 - ETA: 16:36 - loss: 0.0841 - accuracy: 0.974 - ETA: 16:36 - loss: 0.0841 - accuracy: 0.974 - ETA: 16:35 - loss: 0.0841 - accuracy: 0.974 - ETA: 16:34 - loss: 0.0840 - accuracy: 0.974 - ETA: 16:33 - loss: 0.0840 - accuracy: 0.974 - ETA: 16:33 - loss: 0.0838 - accuracy: 0.974 - ETA: 16:32 - loss: 0.0839 - accuracy: 0.974 - ETA: 16:31 - loss: 0.0839 - accuracy: 0.974 - ETA: 16:30 - loss: 0.0838 - accuracy: 0.974 - ETA: 16:29 - loss: 0.0837 - accuracy: 0.974 - ETA: 16:29 - loss: 0.0837 - accuracy: 0.974 - ETA: 16:28 - loss: 0.0837 - accuracy: 0.974 - ETA: 16:27 - loss: 0.0836 - accuracy: 0.974 - ETA: 16:27 - loss: 0.0835 - accuracy: 0.974 - ETA: 16:26 - loss: 0.0835 - accuracy: 0.974 - ETA: 16:25 - loss: 0.0836 - accuracy: 0.974 - ETA: 16:24 - loss: 0.0836 - accuracy: 0.974 - ETA: 16:24 - loss: 0.0837 - accuracy: 0.974 - ETA: 16:23 - loss: 0.0836 - accuracy: 0.974 - ETA: 16:22 - loss: 0.0838 - accuracy: 0.974 - ETA: 16:21 - loss: 0.0837 - accuracy: 0.974 - ETA: 16:21 - loss: 0.0837 - accuracy: 0.974 - ETA: 16:20 - loss: 0.0838 - accuracy: 0.974 - ETA: 16:19 - loss: 0.0837 - accuracy: 0.974 - ETA: 16:18 - loss: 0.0837 - accuracy: 0.974 - ETA: 16:18 - loss: 0.0838 - accuracy: 0.974 - ETA: 16:17 - loss: 0.0840 - accuracy: 0.974 - ETA: 16:16 - loss: 0.0841 - accuracy: 0.974 - ETA: 16:16 - loss: 0.0845 - accuracy: 0.974 - ETA: 16:15 - loss: 0.0845 - accuracy: 0.973 - ETA: 16:14 - loss: 0.0845 - accuracy: 0.973 - ETA: 16:13 - loss: 0.0847 - accuracy: 0.973 - ETA: 16:13 - loss: 0.0846 - accuracy: 0.973 - ETA: 16:12 - loss: 0.0845 - accuracy: 0.973 - ETA: 16:11 - loss: 0.0845 - accuracy: 0.973 - ETA: 16:10 - loss: 0.0846 - accuracy: 0.973 - ETA: 16:10 - loss: 0.0848 - accuracy: 0.973 - ETA: 16:09 - loss: 0.0847 - accuracy: 0.973 - ETA: 16:08 - loss: 0.0848 - accuracy: 0.973 - ETA: 16:07 - loss: 0.0847 - accuracy: 0.973 - ETA: 16:07 - loss: 0.0847 - accuracy: 0.973 - ETA: 16:06 - loss: 0.0846 - accuracy: 0.973 - ETA: 16:05 - loss: 0.0848 - accuracy: 0.973 - ETA: 16:04 - loss: 0.0847 - accuracy: 0.973 - ETA: 16:04 - loss: 0.0848 - accuracy: 0.973 - ETA: 16:03 - loss: 0.0849 - accuracy: 0.973 - ETA: 16:02 - loss: 0.0849 - accuracy: 0.973 - ETA: 16:02 - loss: 0.0850 - accuracy: 0.973 - ETA: 16:01 - loss: 0.0850 - accuracy: 0.973 - ETA: 16:01 - loss: 0.0851 - accuracy: 0.973 - ETA: 16:00 - loss: 0.0850 - accuracy: 0.973 - ETA: 15:59 - loss: 0.0851 - accuracy: 0.973 - ETA: 15:58 - loss: 0.0850 - accuracy: 0.973 - ETA: 15:58 - loss: 0.0849 - accuracy: 0.973 - ETA: 15:57 - loss: 0.0849 - accuracy: 0.973 - ETA: 15:56 - loss: 0.0849 - accuracy: 0.973 - ETA: 15:56 - loss: 0.0848 - accuracy: 0.973 - ETA: 15:55 - loss: 0.0848 - accuracy: 0.973 - ETA: 15:54 - loss: 0.0848 - accuracy: 0.973 - ETA: 15:54 - loss: 0.0850 - accuracy: 0.973 - ETA: 15:53 - loss: 0.0850 - accuracy: 0.973 - ETA: 15:52 - loss: 0.0852 - accuracy: 0.973 - ETA: 15:51 - loss: 0.0855 - accuracy: 0.973 - ETA: 15:51 - loss: 0.0854 - accuracy: 0.973 - ETA: 15:50 - loss: 0.0854 - accuracy: 0.973 - ETA: 15:49 - loss: 0.0854 - accuracy: 0.973 - ETA: 15:48 - loss: 0.0854 - accuracy: 0.973 - ETA: 15:48 - loss: 0.0853 - accuracy: 0.973 - ETA: 15:47 - loss: 0.0854 - accuracy: 0.973 - ETA: 15:46 - loss: 0.0855 - accuracy: 0.973 - ETA: 15:45 - loss: 0.0854 - accuracy: 0.973 - ETA: 15:45 - loss: 0.0854 - accuracy: 0.973 - ETA: 15:44 - loss: 0.0853 - accuracy: 0.973 - ETA: 15:43 - loss: 0.0853 - accuracy: 0.973 - ETA: 15:43 - loss: 0.0856 - accuracy: 0.973 - ETA: 15:42 - loss: 0.0857 - accuracy: 0.973 - ETA: 15:41 - loss: 0.0856 - accuracy: 0.973 - ETA: 15:40 - loss: 0.0857 - accuracy: 0.973 - ETA: 15:40 - loss: 0.0858 - accuracy: 0.973 - ETA: 15:39 - loss: 0.0858 - accuracy: 0.973 - ETA: 15:38 - loss: 0.0859 - accuracy: 0.973 - ETA: 15:38 - loss: 0.0858 - accuracy: 0.973 - ETA: 15:37 - loss: 0.0858 - accuracy: 0.973 - ETA: 15:36 - loss: 0.0857 - accuracy: 0.973 - ETA: 15:35 - loss: 0.0857 - accuracy: 0.973 - ETA: 15:35 - loss: 0.0857 - accuracy: 0.973 - ETA: 15:34 - loss: 0.0856 - accuracy: 0.973 - ETA: 15:33 - loss: 0.0858 - accuracy: 0.973 - ETA: 15:33 - loss: 0.0858 - accuracy: 0.973 - ETA: 15:32 - loss: 0.0857 - accuracy: 0.973 - ETA: 15:31 - loss: 0.0857 - accuracy: 0.973 - ETA: 15:31 - loss: 0.0857 - accuracy: 0.973 - ETA: 15:30 - loss: 0.0858 - accuracy: 0.973 - ETA: 15:29 - loss: 0.0857 - accuracy: 0.973 - ETA: 15:28 - loss: 0.0856 - accuracy: 0.973 - ETA: 15:28 - loss: 0.0856 - accuracy: 0.973 - ETA: 15:27 - loss: 0.0855 - accuracy: 0.973 - ETA: 15:26 - loss: 0.0854 - accuracy: 0.973 - ETA: 15:26 - loss: 0.0853 - accuracy: 0.973 - ETA: 15:25 - loss: 0.0854 - accuracy: 0.973 - ETA: 15:24 - loss: 0.0853 - accuracy: 0.973 - ETA: 15:24 - loss: 0.0853 - accuracy: 0.973 - ETA: 15:23 - loss: 0.0853 - accuracy: 0.973 - ETA: 15:22 - loss: 0.0852 - accuracy: 0.973 - ETA: 15:22 - loss: 0.0852 - accuracy: 0.973 - ETA: 15:21 - loss: 0.0852 - accuracy: 0.973 - ETA: 15:20 - loss: 0.0852 - accuracy: 0.973 - ETA: 15:19 - loss: 0.0852 - accuracy: 0.973 - ETA: 15:19 - loss: 0.0852 - accuracy: 0.973 - ETA: 15:18 - loss: 0.0852 - accuracy: 0.973 - ETA: 15:17 - loss: 0.0851 - accuracy: 0.973 - ETA: 15:17 - loss: 0.0852 - accuracy: 0.973 - ETA: 15:16 - loss: 0.0851 - accuracy: 0.973 - ETA: 15:15 - loss: 0.0850 - accuracy: 0.973 - ETA: 15:15 - loss: 0.0850 - accuracy: 0.973 - ETA: 15:14 - loss: 0.0850 - accuracy: 0.973 - ETA: 15:13 - loss: 0.0849 - accuracy: 0.973 - ETA: 15:13 - loss: 0.0850 - accuracy: 0.973 - ETA: 15:12 - loss: 0.0850 - accuracy: 0.973 - ETA: 15:11 - loss: 0.0850 - accuracy: 0.973 - ETA: 15:11 - loss: 0.0850 - accuracy: 0.973 - ETA: 15:10 - loss: 0.0851 - accuracy: 0.973 - ETA: 15:09 - loss: 0.0850 - accuracy: 0.973 - ETA: 15:08 - loss: 0.0849 - accuracy: 0.973 - ETA: 15:08 - loss: 0.0849 - accuracy: 0.973 - ETA: 15:07 - loss: 0.0849 - accuracy: 0.9737 56960/140454 [===========>..................] - ETA: 15:06 - loss: 0.0849 - accuracy: 0.973 - ETA: 15:06 - loss: 0.0850 - accuracy: 0.973 - ETA: 15:05 - loss: 0.0850 - accuracy: 0.973 - ETA: 15:04 - loss: 0.0849 - accuracy: 0.973 - ETA: 15:04 - loss: 0.0848 - accuracy: 0.973 - ETA: 15:03 - loss: 0.0848 - accuracy: 0.973 - ETA: 15:02 - loss: 0.0848 - accuracy: 0.973 - ETA: 15:01 - loss: 0.0847 - accuracy: 0.973 - ETA: 15:01 - loss: 0.0847 - accuracy: 0.973 - ETA: 15:00 - loss: 0.0848 - accuracy: 0.973 - ETA: 14:59 - loss: 0.0847 - accuracy: 0.973 - ETA: 14:59 - loss: 0.0847 - accuracy: 0.973 - ETA: 14:58 - loss: 0.0846 - accuracy: 0.973 - ETA: 14:58 - loss: 0.0846 - accuracy: 0.973 - ETA: 14:57 - loss: 0.0847 - accuracy: 0.973 - ETA: 14:56 - loss: 0.0846 - accuracy: 0.973 - ETA: 14:55 - loss: 0.0846 - accuracy: 0.973 - ETA: 14:55 - loss: 0.0846 - accuracy: 0.973 - ETA: 14:54 - loss: 0.0846 - accuracy: 0.973 - ETA: 14:53 - loss: 0.0848 - accuracy: 0.973 - ETA: 14:53 - loss: 0.0850 - accuracy: 0.973 - ETA: 14:52 - loss: 0.0850 - accuracy: 0.973 - ETA: 14:51 - loss: 0.0849 - accuracy: 0.973 - ETA: 14:51 - loss: 0.0849 - accuracy: 0.973 - ETA: 14:50 - loss: 0.0849 - accuracy: 0.973 - ETA: 14:49 - loss: 0.0849 - accuracy: 0.973 - ETA: 14:49 - loss: 0.0849 - accuracy: 0.973 - ETA: 14:48 - loss: 0.0848 - accuracy: 0.973 - ETA: 14:48 - loss: 0.0848 - accuracy: 0.973 - ETA: 14:47 - loss: 0.0848 - accuracy: 0.973 - ETA: 14:46 - loss: 0.0847 - accuracy: 0.973 - ETA: 14:46 - loss: 0.0848 - accuracy: 0.973 - ETA: 14:45 - loss: 0.0848 - accuracy: 0.973 - ETA: 14:45 - loss: 0.0848 - accuracy: 0.973 - ETA: 14:44 - loss: 0.0847 - accuracy: 0.973 - ETA: 14:43 - loss: 0.0847 - accuracy: 0.973 - ETA: 14:43 - loss: 0.0846 - accuracy: 0.973 - ETA: 14:42 - loss: 0.0845 - accuracy: 0.973 - ETA: 14:41 - loss: 0.0845 - accuracy: 0.973 - ETA: 14:41 - loss: 0.0845 - accuracy: 0.973 - ETA: 14:40 - loss: 0.0846 - accuracy: 0.973 - ETA: 14:39 - loss: 0.0845 - accuracy: 0.973 - ETA: 14:39 - loss: 0.0846 - accuracy: 0.973 - ETA: 14:38 - loss: 0.0848 - accuracy: 0.973 - ETA: 14:37 - loss: 0.0848 - accuracy: 0.973 - ETA: 14:37 - loss: 0.0847 - accuracy: 0.973 - ETA: 14:36 - loss: 0.0846 - accuracy: 0.973 - ETA: 14:35 - loss: 0.0846 - accuracy: 0.973 - ETA: 14:35 - loss: 0.0846 - accuracy: 0.973 - ETA: 14:34 - loss: 0.0845 - accuracy: 0.973 - ETA: 14:33 - loss: 0.0846 - accuracy: 0.973 - ETA: 14:32 - loss: 0.0846 - accuracy: 0.973 - ETA: 14:32 - loss: 0.0846 - accuracy: 0.973 - ETA: 14:31 - loss: 0.0847 - accuracy: 0.973 - ETA: 14:31 - loss: 0.0846 - accuracy: 0.973 - ETA: 14:30 - loss: 0.0846 - accuracy: 0.973 - ETA: 14:29 - loss: 0.0845 - accuracy: 0.973 - ETA: 14:29 - loss: 0.0845 - accuracy: 0.973 - ETA: 14:28 - loss: 0.0846 - accuracy: 0.973 - ETA: 14:27 - loss: 0.0845 - accuracy: 0.973 - ETA: 14:26 - loss: 0.0845 - accuracy: 0.973 - ETA: 14:26 - loss: 0.0844 - accuracy: 0.973 - ETA: 14:25 - loss: 0.0844 - accuracy: 0.973 - ETA: 14:24 - loss: 0.0843 - accuracy: 0.973 - ETA: 14:24 - loss: 0.0843 - accuracy: 0.973 - ETA: 14:23 - loss: 0.0843 - accuracy: 0.973 - ETA: 14:22 - loss: 0.0843 - accuracy: 0.973 - ETA: 14:22 - loss: 0.0843 - accuracy: 0.973 - ETA: 14:21 - loss: 0.0843 - accuracy: 0.973 - ETA: 14:20 - loss: 0.0843 - accuracy: 0.973 - ETA: 14:20 - loss: 0.0842 - accuracy: 0.973 - ETA: 14:19 - loss: 0.0842 - accuracy: 0.973 - ETA: 14:18 - loss: 0.0842 - accuracy: 0.973 - ETA: 14:18 - loss: 0.0842 - accuracy: 0.973 - ETA: 14:17 - loss: 0.0841 - accuracy: 0.973 - ETA: 14:16 - loss: 0.0843 - accuracy: 0.973 - ETA: 14:16 - loss: 0.0845 - accuracy: 0.973 - ETA: 14:15 - loss: 0.0845 - accuracy: 0.973 - ETA: 14:15 - loss: 0.0846 - accuracy: 0.973 - ETA: 14:14 - loss: 0.0847 - accuracy: 0.973 - ETA: 14:13 - loss: 0.0847 - accuracy: 0.973 - ETA: 14:13 - loss: 0.0847 - accuracy: 0.973 - ETA: 14:12 - loss: 0.0846 - accuracy: 0.973 - ETA: 14:11 - loss: 0.0848 - accuracy: 0.973 - ETA: 14:11 - loss: 0.0847 - accuracy: 0.973 - ETA: 14:10 - loss: 0.0847 - accuracy: 0.973 - ETA: 14:09 - loss: 0.0847 - accuracy: 0.973 - ETA: 14:09 - loss: 0.0847 - accuracy: 0.973 - ETA: 14:08 - loss: 0.0848 - accuracy: 0.973 - ETA: 14:07 - loss: 0.0848 - accuracy: 0.973 - ETA: 14:07 - loss: 0.0848 - accuracy: 0.973 - ETA: 14:06 - loss: 0.0849 - accuracy: 0.973 - ETA: 14:05 - loss: 0.0848 - accuracy: 0.973 - ETA: 14:05 - loss: 0.0848 - accuracy: 0.973 - ETA: 14:04 - loss: 0.0849 - accuracy: 0.973 - ETA: 14:03 - loss: 0.0849 - accuracy: 0.973 - ETA: 14:03 - loss: 0.0848 - accuracy: 0.973 - ETA: 14:02 - loss: 0.0847 - accuracy: 0.973 - ETA: 14:01 - loss: 0.0848 - accuracy: 0.973 - ETA: 14:01 - loss: 0.0849 - accuracy: 0.973 - ETA: 14:00 - loss: 0.0848 - accuracy: 0.973 - ETA: 13:59 - loss: 0.0848 - accuracy: 0.973 - ETA: 13:59 - loss: 0.0847 - accuracy: 0.973 - ETA: 13:58 - loss: 0.0848 - accuracy: 0.973 - ETA: 13:57 - loss: 0.0850 - accuracy: 0.973 - ETA: 13:57 - loss: 0.0849 - accuracy: 0.973 - ETA: 13:56 - loss: 0.0849 - accuracy: 0.973 - ETA: 13:55 - loss: 0.0848 - accuracy: 0.973 - ETA: 13:55 - loss: 0.0849 - accuracy: 0.973 - ETA: 13:54 - loss: 0.0849 - accuracy: 0.973 - ETA: 13:53 - loss: 0.0848 - accuracy: 0.973 - ETA: 13:53 - loss: 0.0848 - accuracy: 0.973 - ETA: 13:52 - loss: 0.0849 - accuracy: 0.973 - ETA: 13:51 - loss: 0.0848 - accuracy: 0.973 - ETA: 13:51 - loss: 0.0847 - accuracy: 0.973 - ETA: 13:50 - loss: 0.0847 - accuracy: 0.973 - ETA: 13:49 - loss: 0.0846 - accuracy: 0.973 - ETA: 13:49 - loss: 0.0847 - accuracy: 0.973 - ETA: 13:48 - loss: 0.0849 - accuracy: 0.973 - ETA: 13:47 - loss: 0.0848 - accuracy: 0.973 - ETA: 13:47 - loss: 0.0850 - accuracy: 0.973 - ETA: 13:46 - loss: 0.0850 - accuracy: 0.973 - ETA: 13:45 - loss: 0.0850 - accuracy: 0.973 - ETA: 13:45 - loss: 0.0851 - accuracy: 0.973 - ETA: 13:44 - loss: 0.0851 - accuracy: 0.973 - ETA: 13:43 - loss: 0.0850 - accuracy: 0.973 - ETA: 13:43 - loss: 0.0850 - accuracy: 0.973 - ETA: 13:42 - loss: 0.0852 - accuracy: 0.973 - ETA: 13:41 - loss: 0.0852 - accuracy: 0.973 - ETA: 13:41 - loss: 0.0852 - accuracy: 0.973 - ETA: 13:40 - loss: 0.0852 - accuracy: 0.973 - ETA: 13:39 - loss: 0.0852 - accuracy: 0.973 - ETA: 13:39 - loss: 0.0852 - accuracy: 0.973 - ETA: 13:38 - loss: 0.0853 - accuracy: 0.973 - ETA: 13:38 - loss: 0.0855 - accuracy: 0.973 - ETA: 13:37 - loss: 0.0854 - accuracy: 0.973 - ETA: 13:36 - loss: 0.0854 - accuracy: 0.973 - ETA: 13:36 - loss: 0.0854 - accuracy: 0.973 - ETA: 13:35 - loss: 0.0853 - accuracy: 0.973 - ETA: 13:34 - loss: 0.0854 - accuracy: 0.973 - ETA: 13:34 - loss: 0.0854 - accuracy: 0.973 - ETA: 13:33 - loss: 0.0854 - accuracy: 0.973 - ETA: 13:33 - loss: 0.0853 - accuracy: 0.973 - ETA: 13:32 - loss: 0.0854 - accuracy: 0.973 - ETA: 13:31 - loss: 0.0854 - accuracy: 0.973 - ETA: 13:31 - loss: 0.0853 - accuracy: 0.973 - ETA: 13:30 - loss: 0.0852 - accuracy: 0.973 - ETA: 13:29 - loss: 0.0853 - accuracy: 0.973 - ETA: 13:29 - loss: 0.0853 - accuracy: 0.973 - ETA: 13:28 - loss: 0.0853 - accuracy: 0.973 - ETA: 13:27 - loss: 0.0853 - accuracy: 0.973 - ETA: 13:27 - loss: 0.0853 - accuracy: 0.973 - ETA: 13:26 - loss: 0.0853 - accuracy: 0.973 - ETA: 13:25 - loss: 0.0854 - accuracy: 0.973 - ETA: 13:25 - loss: 0.0853 - accuracy: 0.973 - ETA: 13:24 - loss: 0.0855 - accuracy: 0.973 - ETA: 13:24 - loss: 0.0856 - accuracy: 0.973 - ETA: 13:23 - loss: 0.0855 - accuracy: 0.973 - ETA: 13:22 - loss: 0.0855 - accuracy: 0.973 - ETA: 13:22 - loss: 0.0854 - accuracy: 0.973 - ETA: 13:21 - loss: 0.0854 - accuracy: 0.973 - ETA: 13:20 - loss: 0.0853 - accuracy: 0.973 - ETA: 13:20 - loss: 0.0853 - accuracy: 0.973 - ETA: 13:19 - loss: 0.0853 - accuracy: 0.973 - ETA: 13:18 - loss: 0.0853 - accuracy: 0.973 - ETA: 13:18 - loss: 0.0854 - accuracy: 0.973 - ETA: 13:17 - loss: 0.0854 - accuracy: 0.973 - ETA: 13:17 - loss: 0.0853 - accuracy: 0.973 - ETA: 13:16 - loss: 0.0853 - accuracy: 0.973 - ETA: 13:16 - loss: 0.0853 - accuracy: 0.973 - ETA: 13:16 - loss: 0.0855 - accuracy: 0.973 - ETA: 13:15 - loss: 0.0856 - accuracy: 0.973 - ETA: 13:15 - loss: 0.0856 - accuracy: 0.973 - ETA: 13:14 - loss: 0.0856 - accuracy: 0.973 - ETA: 13:14 - loss: 0.0855 - accuracy: 0.973 - ETA: 13:13 - loss: 0.0854 - accuracy: 0.973 - ETA: 13:13 - loss: 0.0854 - accuracy: 0.973 - ETA: 13:12 - loss: 0.0853 - accuracy: 0.9736 68352/140454 [=============>................] - ETA: 13:11 - loss: 0.0853 - accuracy: 0.973 - ETA: 13:11 - loss: 0.0852 - accuracy: 0.973 - ETA: 13:10 - loss: 0.0852 - accuracy: 0.973 - ETA: 13:10 - loss: 0.0853 - accuracy: 0.973 - ETA: 13:09 - loss: 0.0853 - accuracy: 0.973 - ETA: 13:08 - loss: 0.0852 - accuracy: 0.973 - ETA: 13:08 - loss: 0.0852 - accuracy: 0.973 - ETA: 13:07 - loss: 0.0851 - accuracy: 0.973 - ETA: 13:07 - loss: 0.0851 - accuracy: 0.973 - ETA: 13:06 - loss: 0.0852 - accuracy: 0.973 - ETA: 13:05 - loss: 0.0851 - accuracy: 0.973 - ETA: 13:05 - loss: 0.0850 - accuracy: 0.973 - ETA: 13:04 - loss: 0.0850 - accuracy: 0.973 - ETA: 13:04 - loss: 0.0851 - accuracy: 0.973 - ETA: 13:03 - loss: 0.0851 - accuracy: 0.973 - ETA: 13:02 - loss: 0.0851 - accuracy: 0.973 - ETA: 13:02 - loss: 0.0851 - accuracy: 0.973 - ETA: 13:01 - loss: 0.0851 - accuracy: 0.973 - ETA: 13:01 - loss: 0.0851 - accuracy: 0.973 - ETA: 13:00 - loss: 0.0851 - accuracy: 0.973 - ETA: 12:59 - loss: 0.0851 - accuracy: 0.973 - ETA: 12:59 - loss: 0.0852 - accuracy: 0.973 - ETA: 12:58 - loss: 0.0852 - accuracy: 0.973 - ETA: 12:57 - loss: 0.0851 - accuracy: 0.973 - ETA: 12:57 - loss: 0.0851 - accuracy: 0.973 - ETA: 12:56 - loss: 0.0851 - accuracy: 0.973 - ETA: 12:56 - loss: 0.0850 - accuracy: 0.973 - ETA: 12:55 - loss: 0.0851 - accuracy: 0.973 - ETA: 12:54 - loss: 0.0851 - accuracy: 0.973 - ETA: 12:54 - loss: 0.0851 - accuracy: 0.973 - ETA: 12:53 - loss: 0.0850 - accuracy: 0.973 - ETA: 12:52 - loss: 0.0850 - accuracy: 0.973 - ETA: 12:52 - loss: 0.0850 - accuracy: 0.973 - ETA: 12:51 - loss: 0.0849 - accuracy: 0.973 - ETA: 12:51 - loss: 0.0849 - accuracy: 0.973 - ETA: 12:50 - loss: 0.0849 - accuracy: 0.973 - ETA: 12:49 - loss: 0.0848 - accuracy: 0.973 - ETA: 12:49 - loss: 0.0848 - accuracy: 0.973 - ETA: 12:48 - loss: 0.0849 - accuracy: 0.973 - ETA: 12:47 - loss: 0.0848 - accuracy: 0.973 - ETA: 12:47 - loss: 0.0848 - accuracy: 0.973 - ETA: 12:46 - loss: 0.0848 - accuracy: 0.973 - ETA: 12:46 - loss: 0.0849 - accuracy: 0.973 - ETA: 12:45 - loss: 0.0849 - accuracy: 0.973 - ETA: 12:44 - loss: 0.0849 - accuracy: 0.973 - ETA: 12:44 - loss: 0.0850 - accuracy: 0.973 - ETA: 12:43 - loss: 0.0849 - accuracy: 0.973 - ETA: 12:43 - loss: 0.0848 - accuracy: 0.973 - ETA: 12:42 - loss: 0.0848 - accuracy: 0.973 - ETA: 12:41 - loss: 0.0847 - accuracy: 0.973 - ETA: 12:41 - loss: 0.0847 - accuracy: 0.973 - ETA: 12:40 - loss: 0.0848 - accuracy: 0.973 - ETA: 12:39 - loss: 0.0847 - accuracy: 0.973 - ETA: 12:39 - loss: 0.0847 - accuracy: 0.973 - ETA: 12:38 - loss: 0.0846 - accuracy: 0.973 - ETA: 12:38 - loss: 0.0846 - accuracy: 0.973 - ETA: 12:37 - loss: 0.0848 - accuracy: 0.973 - ETA: 12:37 - loss: 0.0847 - accuracy: 0.973 - ETA: 12:36 - loss: 0.0848 - accuracy: 0.973 - ETA: 12:36 - loss: 0.0847 - accuracy: 0.973 - ETA: 12:35 - loss: 0.0847 - accuracy: 0.973 - ETA: 12:34 - loss: 0.0847 - accuracy: 0.973 - ETA: 12:34 - loss: 0.0848 - accuracy: 0.973 - ETA: 12:33 - loss: 0.0848 - accuracy: 0.973 - ETA: 12:33 - loss: 0.0848 - accuracy: 0.973 - ETA: 12:32 - loss: 0.0849 - accuracy: 0.973 - ETA: 12:32 - loss: 0.0849 - accuracy: 0.973 - ETA: 12:31 - loss: 0.0849 - accuracy: 0.973 - ETA: 12:31 - loss: 0.0850 - accuracy: 0.973 - ETA: 12:30 - loss: 0.0850 - accuracy: 0.973 - ETA: 12:30 - loss: 0.0853 - accuracy: 0.973 - ETA: 12:29 - loss: 0.0852 - accuracy: 0.973 - ETA: 12:28 - loss: 0.0852 - accuracy: 0.973 - ETA: 12:28 - loss: 0.0853 - accuracy: 0.973 - ETA: 12:27 - loss: 0.0853 - accuracy: 0.973 - ETA: 12:27 - loss: 0.0853 - accuracy: 0.973 - ETA: 12:26 - loss: 0.0852 - accuracy: 0.973 - ETA: 12:26 - loss: 0.0852 - accuracy: 0.973 - ETA: 12:25 - loss: 0.0853 - accuracy: 0.973 - ETA: 12:25 - loss: 0.0854 - accuracy: 0.973 - ETA: 12:24 - loss: 0.0854 - accuracy: 0.973 - ETA: 12:24 - loss: 0.0854 - accuracy: 0.973 - ETA: 12:23 - loss: 0.0854 - accuracy: 0.973 - ETA: 12:22 - loss: 0.0854 - accuracy: 0.973 - ETA: 12:22 - loss: 0.0854 - accuracy: 0.973 - ETA: 12:21 - loss: 0.0853 - accuracy: 0.973 - ETA: 12:21 - loss: 0.0854 - accuracy: 0.973 - ETA: 12:20 - loss: 0.0854 - accuracy: 0.973 - ETA: 12:19 - loss: 0.0853 - accuracy: 0.973 - ETA: 12:19 - loss: 0.0853 - accuracy: 0.973 - ETA: 12:18 - loss: 0.0853 - accuracy: 0.973 - ETA: 12:17 - loss: 0.0855 - accuracy: 0.973 - ETA: 12:17 - loss: 0.0855 - accuracy: 0.973 - ETA: 12:16 - loss: 0.0855 - accuracy: 0.973 - ETA: 12:16 - loss: 0.0855 - accuracy: 0.973 - ETA: 12:15 - loss: 0.0855 - accuracy: 0.973 - ETA: 12:14 - loss: 0.0856 - accuracy: 0.973 - ETA: 12:14 - loss: 0.0855 - accuracy: 0.973 - ETA: 12:13 - loss: 0.0856 - accuracy: 0.973 - ETA: 12:13 - loss: 0.0855 - accuracy: 0.973 - ETA: 12:12 - loss: 0.0855 - accuracy: 0.973 - ETA: 12:11 - loss: 0.0855 - accuracy: 0.973 - ETA: 12:11 - loss: 0.0855 - accuracy: 0.973 - ETA: 12:10 - loss: 0.0854 - accuracy: 0.973 - ETA: 12:10 - loss: 0.0855 - accuracy: 0.973 - ETA: 12:09 - loss: 0.0854 - accuracy: 0.973 - ETA: 12:08 - loss: 0.0853 - accuracy: 0.973 - ETA: 12:08 - loss: 0.0854 - accuracy: 0.973 - ETA: 12:07 - loss: 0.0854 - accuracy: 0.973 - ETA: 12:07 - loss: 0.0854 - accuracy: 0.973 - ETA: 12:06 - loss: 0.0854 - accuracy: 0.973 - ETA: 12:05 - loss: 0.0854 - accuracy: 0.973 - ETA: 12:05 - loss: 0.0854 - accuracy: 0.973 - ETA: 12:04 - loss: 0.0855 - accuracy: 0.973 - ETA: 12:03 - loss: 0.0855 - accuracy: 0.973 - ETA: 12:03 - loss: 0.0854 - accuracy: 0.973 - ETA: 12:02 - loss: 0.0855 - accuracy: 0.973 - ETA: 12:02 - loss: 0.0856 - accuracy: 0.973 - ETA: 12:01 - loss: 0.0857 - accuracy: 0.973 - ETA: 12:00 - loss: 0.0857 - accuracy: 0.973 - ETA: 12:00 - loss: 0.0857 - accuracy: 0.973 - ETA: 11:59 - loss: 0.0856 - accuracy: 0.973 - ETA: 11:58 - loss: 0.0857 - accuracy: 0.973 - ETA: 11:58 - loss: 0.0857 - accuracy: 0.973 - ETA: 11:57 - loss: 0.0858 - accuracy: 0.973 - ETA: 11:57 - loss: 0.0857 - accuracy: 0.973 - ETA: 11:56 - loss: 0.0857 - accuracy: 0.973 - ETA: 11:55 - loss: 0.0856 - accuracy: 0.973 - ETA: 11:55 - loss: 0.0856 - accuracy: 0.973 - ETA: 11:54 - loss: 0.0855 - accuracy: 0.973 - ETA: 11:53 - loss: 0.0855 - accuracy: 0.973 - ETA: 11:53 - loss: 0.0855 - accuracy: 0.973 - ETA: 11:52 - loss: 0.0855 - accuracy: 0.973 - ETA: 11:52 - loss: 0.0855 - accuracy: 0.973 - ETA: 11:51 - loss: 0.0855 - accuracy: 0.973 - ETA: 11:51 - loss: 0.0855 - accuracy: 0.973 - ETA: 11:50 - loss: 0.0856 - accuracy: 0.973 - ETA: 11:50 - loss: 0.0856 - accuracy: 0.973 - ETA: 11:49 - loss: 0.0855 - accuracy: 0.973 - ETA: 11:49 - loss: 0.0856 - accuracy: 0.973 - ETA: 11:48 - loss: 0.0856 - accuracy: 0.973 - ETA: 11:48 - loss: 0.0857 - accuracy: 0.973 - ETA: 11:47 - loss: 0.0857 - accuracy: 0.973 - ETA: 11:46 - loss: 0.0857 - accuracy: 0.973 - ETA: 11:46 - loss: 0.0856 - accuracy: 0.973 - ETA: 11:45 - loss: 0.0856 - accuracy: 0.973 - ETA: 11:44 - loss: 0.0856 - accuracy: 0.973 - ETA: 11:44 - loss: 0.0856 - accuracy: 0.973 - ETA: 11:43 - loss: 0.0856 - accuracy: 0.973 - ETA: 11:43 - loss: 0.0856 - accuracy: 0.973 - ETA: 11:42 - loss: 0.0856 - accuracy: 0.973 - ETA: 11:41 - loss: 0.0856 - accuracy: 0.973 - ETA: 11:41 - loss: 0.0857 - accuracy: 0.973 - ETA: 11:40 - loss: 0.0858 - accuracy: 0.973 - ETA: 11:40 - loss: 0.0857 - accuracy: 0.973 - ETA: 11:39 - loss: 0.0858 - accuracy: 0.973 - ETA: 11:39 - loss: 0.0858 - accuracy: 0.973 - ETA: 11:38 - loss: 0.0858 - accuracy: 0.973 - ETA: 11:37 - loss: 0.0857 - accuracy: 0.973 - ETA: 11:37 - loss: 0.0858 - accuracy: 0.973 - ETA: 11:36 - loss: 0.0860 - accuracy: 0.973 - ETA: 11:35 - loss: 0.0859 - accuracy: 0.973 - ETA: 11:35 - loss: 0.0859 - accuracy: 0.973 - ETA: 11:34 - loss: 0.0859 - accuracy: 0.973 - ETA: 11:34 - loss: 0.0859 - accuracy: 0.973 - ETA: 11:33 - loss: 0.0858 - accuracy: 0.973 - ETA: 11:32 - loss: 0.0858 - accuracy: 0.973 - ETA: 11:32 - loss: 0.0859 - accuracy: 0.973 - ETA: 11:31 - loss: 0.0859 - accuracy: 0.973 - ETA: 11:30 - loss: 0.0859 - accuracy: 0.973 - ETA: 11:30 - loss: 0.0859 - accuracy: 0.973 - ETA: 11:29 - loss: 0.0859 - accuracy: 0.973 - ETA: 11:29 - loss: 0.0858 - accuracy: 0.973 - ETA: 11:28 - loss: 0.0859 - accuracy: 0.973 - ETA: 11:27 - loss: 0.0859 - accuracy: 0.973 - ETA: 11:27 - loss: 0.0859 - accuracy: 0.973 - ETA: 11:26 - loss: 0.0860 - accuracy: 0.973 - ETA: 11:26 - loss: 0.0860 - accuracy: 0.9732 79808/140454 [================>.............] - ETA: 11:25 - loss: 0.0860 - accuracy: 0.973 - ETA: 11:24 - loss: 0.0860 - accuracy: 0.973 - ETA: 11:24 - loss: 0.0860 - accuracy: 0.973 - ETA: 11:23 - loss: 0.0860 - accuracy: 0.973 - ETA: 11:22 - loss: 0.0860 - accuracy: 0.973 - ETA: 11:22 - loss: 0.0861 - accuracy: 0.973 - ETA: 11:21 - loss: 0.0860 - accuracy: 0.973 - ETA: 11:21 - loss: 0.0860 - accuracy: 0.973 - ETA: 11:20 - loss: 0.0860 - accuracy: 0.973 - ETA: 11:19 - loss: 0.0860 - accuracy: 0.973 - ETA: 11:19 - loss: 0.0860 - accuracy: 0.973 - ETA: 11:18 - loss: 0.0860 - accuracy: 0.973 - ETA: 11:17 - loss: 0.0860 - accuracy: 0.973 - ETA: 11:17 - loss: 0.0859 - accuracy: 0.973 - ETA: 11:16 - loss: 0.0860 - accuracy: 0.973 - ETA: 11:16 - loss: 0.0859 - accuracy: 0.973 - ETA: 11:15 - loss: 0.0859 - accuracy: 0.973 - ETA: 11:14 - loss: 0.0858 - accuracy: 0.973 - ETA: 11:14 - loss: 0.0860 - accuracy: 0.973 - ETA: 11:13 - loss: 0.0859 - accuracy: 0.973 - ETA: 11:12 - loss: 0.0859 - accuracy: 0.973 - ETA: 11:12 - loss: 0.0859 - accuracy: 0.973 - ETA: 11:11 - loss: 0.0858 - accuracy: 0.973 - ETA: 11:11 - loss: 0.0858 - accuracy: 0.973 - ETA: 11:10 - loss: 0.0858 - accuracy: 0.973 - ETA: 11:09 - loss: 0.0858 - accuracy: 0.973 - ETA: 11:09 - loss: 0.0857 - accuracy: 0.973 - ETA: 11:08 - loss: 0.0857 - accuracy: 0.973 - ETA: 11:07 - loss: 0.0857 - accuracy: 0.973 - ETA: 11:07 - loss: 0.0857 - accuracy: 0.973 - ETA: 11:06 - loss: 0.0857 - accuracy: 0.973 - ETA: 11:06 - loss: 0.0856 - accuracy: 0.973 - ETA: 11:05 - loss: 0.0856 - accuracy: 0.973 - ETA: 11:04 - loss: 0.0856 - accuracy: 0.973 - ETA: 11:04 - loss: 0.0856 - accuracy: 0.973 - ETA: 11:03 - loss: 0.0857 - accuracy: 0.973 - ETA: 11:02 - loss: 0.0857 - accuracy: 0.973 - ETA: 11:02 - loss: 0.0857 - accuracy: 0.973 - ETA: 11:01 - loss: 0.0859 - accuracy: 0.973 - ETA: 11:01 - loss: 0.0858 - accuracy: 0.973 - ETA: 11:00 - loss: 0.0858 - accuracy: 0.973 - ETA: 10:59 - loss: 0.0859 - accuracy: 0.973 - ETA: 10:59 - loss: 0.0859 - accuracy: 0.973 - ETA: 10:58 - loss: 0.0859 - accuracy: 0.973 - ETA: 10:57 - loss: 0.0858 - accuracy: 0.973 - ETA: 10:57 - loss: 0.0859 - accuracy: 0.973 - ETA: 10:56 - loss: 0.0858 - accuracy: 0.973 - ETA: 10:56 - loss: 0.0859 - accuracy: 0.973 - ETA: 10:55 - loss: 0.0861 - accuracy: 0.973 - ETA: 10:54 - loss: 0.0861 - accuracy: 0.973 - ETA: 10:54 - loss: 0.0860 - accuracy: 0.973 - ETA: 10:53 - loss: 0.0861 - accuracy: 0.973 - ETA: 10:53 - loss: 0.0861 - accuracy: 0.973 - ETA: 10:52 - loss: 0.0861 - accuracy: 0.973 - ETA: 10:51 - loss: 0.0863 - accuracy: 0.973 - ETA: 10:51 - loss: 0.0864 - accuracy: 0.973 - ETA: 10:50 - loss: 0.0865 - accuracy: 0.973 - ETA: 10:50 - loss: 0.0865 - accuracy: 0.973 - ETA: 10:49 - loss: 0.0864 - accuracy: 0.973 - ETA: 10:48 - loss: 0.0864 - accuracy: 0.973 - ETA: 10:48 - loss: 0.0864 - accuracy: 0.973 - ETA: 10:47 - loss: 0.0864 - accuracy: 0.973 - ETA: 10:47 - loss: 0.0863 - accuracy: 0.973 - ETA: 10:46 - loss: 0.0863 - accuracy: 0.973 - ETA: 10:45 - loss: 0.0863 - accuracy: 0.973 - ETA: 10:45 - loss: 0.0863 - accuracy: 0.973 - ETA: 10:44 - loss: 0.0862 - accuracy: 0.973 - ETA: 10:43 - loss: 0.0862 - accuracy: 0.973 - ETA: 10:43 - loss: 0.0862 - accuracy: 0.973 - ETA: 10:42 - loss: 0.0863 - accuracy: 0.973 - ETA: 10:42 - loss: 0.0863 - accuracy: 0.973 - ETA: 10:41 - loss: 0.0863 - accuracy: 0.973 - ETA: 10:40 - loss: 0.0863 - accuracy: 0.973 - ETA: 10:40 - loss: 0.0863 - accuracy: 0.973 - ETA: 10:39 - loss: 0.0864 - accuracy: 0.973 - ETA: 10:39 - loss: 0.0864 - accuracy: 0.973 - ETA: 10:38 - loss: 0.0863 - accuracy: 0.973 - ETA: 10:37 - loss: 0.0863 - accuracy: 0.973 - ETA: 10:37 - loss: 0.0863 - accuracy: 0.973 - ETA: 10:36 - loss: 0.0863 - accuracy: 0.973 - ETA: 10:36 - loss: 0.0864 - accuracy: 0.973 - ETA: 10:35 - loss: 0.0864 - accuracy: 0.973 - ETA: 10:34 - loss: 0.0864 - accuracy: 0.973 - ETA: 10:34 - loss: 0.0865 - accuracy: 0.973 - ETA: 10:33 - loss: 0.0865 - accuracy: 0.973 - ETA: 10:33 - loss: 0.0865 - accuracy: 0.973 - ETA: 10:32 - loss: 0.0865 - accuracy: 0.973 - ETA: 10:31 - loss: 0.0864 - accuracy: 0.973 - ETA: 10:31 - loss: 0.0864 - accuracy: 0.973 - ETA: 10:30 - loss: 0.0865 - accuracy: 0.973 - ETA: 10:29 - loss: 0.0865 - accuracy: 0.973 - ETA: 10:29 - loss: 0.0866 - accuracy: 0.973 - ETA: 10:28 - loss: 0.0866 - accuracy: 0.972 - ETA: 10:28 - loss: 0.0866 - accuracy: 0.973 - ETA: 10:27 - loss: 0.0865 - accuracy: 0.973 - ETA: 10:26 - loss: 0.0866 - accuracy: 0.973 - ETA: 10:26 - loss: 0.0866 - accuracy: 0.973 - ETA: 10:25 - loss: 0.0866 - accuracy: 0.973 - ETA: 10:25 - loss: 0.0866 - accuracy: 0.973 - ETA: 10:24 - loss: 0.0866 - accuracy: 0.973 - ETA: 10:23 - loss: 0.0866 - accuracy: 0.972 - ETA: 10:23 - loss: 0.0866 - accuracy: 0.972 - ETA: 10:22 - loss: 0.0866 - accuracy: 0.972 - ETA: 10:21 - loss: 0.0866 - accuracy: 0.972 - ETA: 10:21 - loss: 0.0866 - accuracy: 0.972 - ETA: 10:20 - loss: 0.0866 - accuracy: 0.972 - ETA: 10:20 - loss: 0.0865 - accuracy: 0.972 - ETA: 10:19 - loss: 0.0865 - accuracy: 0.972 - ETA: 10:18 - loss: 0.0865 - accuracy: 0.972 - ETA: 10:18 - loss: 0.0865 - accuracy: 0.972 - ETA: 10:17 - loss: 0.0864 - accuracy: 0.972 - ETA: 10:17 - loss: 0.0865 - accuracy: 0.972 - ETA: 10:16 - loss: 0.0864 - accuracy: 0.972 - ETA: 10:15 - loss: 0.0864 - accuracy: 0.973 - ETA: 10:15 - loss: 0.0864 - accuracy: 0.973 - ETA: 10:14 - loss: 0.0864 - accuracy: 0.972 - ETA: 10:14 - loss: 0.0864 - accuracy: 0.972 - ETA: 10:13 - loss: 0.0864 - accuracy: 0.972 - ETA: 10:12 - loss: 0.0864 - accuracy: 0.972 - ETA: 10:12 - loss: 0.0866 - accuracy: 0.972 - ETA: 10:11 - loss: 0.0865 - accuracy: 0.972 - ETA: 10:11 - loss: 0.0866 - accuracy: 0.972 - ETA: 10:10 - loss: 0.0866 - accuracy: 0.972 - ETA: 10:09 - loss: 0.0866 - accuracy: 0.972 - ETA: 10:09 - loss: 0.0866 - accuracy: 0.972 - ETA: 10:08 - loss: 0.0866 - accuracy: 0.972 - ETA: 10:07 - loss: 0.0865 - accuracy: 0.972 - ETA: 10:07 - loss: 0.0866 - accuracy: 0.972 - ETA: 10:06 - loss: 0.0867 - accuracy: 0.972 - ETA: 10:06 - loss: 0.0867 - accuracy: 0.972 - ETA: 10:05 - loss: 0.0867 - accuracy: 0.972 - ETA: 10:04 - loss: 0.0868 - accuracy: 0.972 - ETA: 10:04 - loss: 0.0868 - accuracy: 0.972 - ETA: 10:03 - loss: 0.0868 - accuracy: 0.972 - ETA: 10:03 - loss: 0.0868 - accuracy: 0.972 - ETA: 10:02 - loss: 0.0868 - accuracy: 0.972 - ETA: 10:01 - loss: 0.0868 - accuracy: 0.972 - ETA: 10:01 - loss: 0.0868 - accuracy: 0.972 - ETA: 10:00 - loss: 0.0868 - accuracy: 0.972 - ETA: 9:59 - loss: 0.0868 - accuracy: 0.972 - ETA: 9:59 - loss: 0.0869 - accuracy: 0.97 - ETA: 9:58 - loss: 0.0869 - accuracy: 0.97 - ETA: 9:58 - loss: 0.0868 - accuracy: 0.97 - ETA: 9:57 - loss: 0.0868 - accuracy: 0.97 - ETA: 9:56 - loss: 0.0868 - accuracy: 0.97 - ETA: 9:56 - loss: 0.0868 - accuracy: 0.97 - ETA: 9:55 - loss: 0.0868 - accuracy: 0.97 - ETA: 9:55 - loss: 0.0869 - accuracy: 0.97 - ETA: 9:54 - loss: 0.0868 - accuracy: 0.97 - ETA: 9:53 - loss: 0.0869 - accuracy: 0.97 - ETA: 9:53 - loss: 0.0869 - accuracy: 0.97 - ETA: 9:52 - loss: 0.0868 - accuracy: 0.97 - ETA: 9:52 - loss: 0.0868 - accuracy: 0.97 - ETA: 9:51 - loss: 0.0869 - accuracy: 0.97 - ETA: 9:50 - loss: 0.0868 - accuracy: 0.97 - ETA: 9:50 - loss: 0.0868 - accuracy: 0.97 - ETA: 9:49 - loss: 0.0868 - accuracy: 0.97 - ETA: 9:48 - loss: 0.0868 - accuracy: 0.97 - ETA: 9:48 - loss: 0.0868 - accuracy: 0.97 - ETA: 9:47 - loss: 0.0868 - accuracy: 0.97 - ETA: 9:47 - loss: 0.0868 - accuracy: 0.97 - ETA: 9:46 - loss: 0.0868 - accuracy: 0.97 - ETA: 9:45 - loss: 0.0867 - accuracy: 0.97 - ETA: 9:45 - loss: 0.0867 - accuracy: 0.97 - ETA: 9:44 - loss: 0.0867 - accuracy: 0.97 - ETA: 9:44 - loss: 0.0867 - accuracy: 0.97 - ETA: 9:43 - loss: 0.0870 - accuracy: 0.97 - ETA: 9:42 - loss: 0.0870 - accuracy: 0.97 - ETA: 9:42 - loss: 0.0869 - accuracy: 0.97 - ETA: 9:41 - loss: 0.0870 - accuracy: 0.97 - ETA: 9:40 - loss: 0.0870 - accuracy: 0.97 - ETA: 9:40 - loss: 0.0869 - accuracy: 0.97 - ETA: 9:39 - loss: 0.0870 - accuracy: 0.97 - ETA: 9:39 - loss: 0.0870 - accuracy: 0.97 - ETA: 9:38 - loss: 0.0869 - accuracy: 0.97 - ETA: 9:38 - loss: 0.0869 - accuracy: 0.97 - ETA: 9:37 - loss: 0.0869 - accuracy: 0.97 - ETA: 9:37 - loss: 0.0869 - accuracy: 0.97 - ETA: 9:36 - loss: 0.0868 - accuracy: 0.9728 91712/140454 [==================>...........] - ETA: 9:35 - loss: 0.0869 - accuracy: 0.97 - ETA: 9:35 - loss: 0.0869 - accuracy: 0.97 - ETA: 9:34 - loss: 0.0869 - accuracy: 0.97 - ETA: 9:34 - loss: 0.0869 - accuracy: 0.97 - ETA: 9:33 - loss: 0.0869 - accuracy: 0.97 - ETA: 9:32 - loss: 0.0870 - accuracy: 0.97 - ETA: 9:32 - loss: 0.0870 - accuracy: 0.97 - ETA: 9:31 - loss: 0.0871 - accuracy: 0.97 - ETA: 9:31 - loss: 0.0870 - accuracy: 0.97 - ETA: 9:30 - loss: 0.0870 - accuracy: 0.97 - ETA: 9:30 - loss: 0.0871 - accuracy: 0.97 - ETA: 9:29 - loss: 0.0871 - accuracy: 0.97 - ETA: 9:28 - loss: 0.0872 - accuracy: 0.97 - ETA: 9:28 - loss: 0.0872 - accuracy: 0.97 - ETA: 9:27 - loss: 0.0872 - accuracy: 0.97 - ETA: 9:27 - loss: 0.0874 - accuracy: 0.97 - ETA: 9:26 - loss: 0.0874 - accuracy: 0.97 - ETA: 9:25 - loss: 0.0874 - accuracy: 0.97 - ETA: 9:25 - loss: 0.0874 - accuracy: 0.97 - ETA: 9:24 - loss: 0.0874 - accuracy: 0.97 - ETA: 9:24 - loss: 0.0874 - accuracy: 0.97 - ETA: 9:23 - loss: 0.0874 - accuracy: 0.97 - ETA: 9:22 - loss: 0.0874 - accuracy: 0.97 - ETA: 9:22 - loss: 0.0874 - accuracy: 0.97 - ETA: 9:21 - loss: 0.0874 - accuracy: 0.97 - ETA: 9:20 - loss: 0.0873 - accuracy: 0.97 - ETA: 9:20 - loss: 0.0873 - accuracy: 0.97 - ETA: 9:19 - loss: 0.0873 - accuracy: 0.97 - ETA: 9:19 - loss: 0.0873 - accuracy: 0.97 - ETA: 9:18 - loss: 0.0874 - accuracy: 0.97 - ETA: 9:17 - loss: 0.0873 - accuracy: 0.97 - ETA: 9:17 - loss: 0.0874 - accuracy: 0.97 - ETA: 9:16 - loss: 0.0874 - accuracy: 0.97 - ETA: 9:16 - loss: 0.0873 - accuracy: 0.97 - ETA: 9:15 - loss: 0.0874 - accuracy: 0.97 - ETA: 9:14 - loss: 0.0874 - accuracy: 0.97 - ETA: 9:14 - loss: 0.0873 - accuracy: 0.97 - ETA: 9:13 - loss: 0.0873 - accuracy: 0.97 - ETA: 9:13 - loss: 0.0873 - accuracy: 0.97 - ETA: 9:12 - loss: 0.0873 - accuracy: 0.97 - ETA: 9:11 - loss: 0.0873 - accuracy: 0.97 - ETA: 9:11 - loss: 0.0873 - accuracy: 0.97 - ETA: 9:10 - loss: 0.0872 - accuracy: 0.97 - ETA: 9:10 - loss: 0.0872 - accuracy: 0.97 - ETA: 9:09 - loss: 0.0872 - accuracy: 0.97 - ETA: 9:08 - loss: 0.0872 - accuracy: 0.97 - ETA: 9:08 - loss: 0.0872 - accuracy: 0.97 - ETA: 9:07 - loss: 0.0873 - accuracy: 0.97 - ETA: 9:07 - loss: 0.0872 - accuracy: 0.97 - ETA: 9:06 - loss: 0.0872 - accuracy: 0.97 - ETA: 9:05 - loss: 0.0872 - accuracy: 0.97 - ETA: 9:05 - loss: 0.0871 - accuracy: 0.97 - ETA: 9:04 - loss: 0.0872 - accuracy: 0.97 - ETA: 9:04 - loss: 0.0871 - accuracy: 0.97 - ETA: 9:03 - loss: 0.0871 - accuracy: 0.97 - ETA: 9:03 - loss: 0.0871 - accuracy: 0.97 - ETA: 9:02 - loss: 0.0871 - accuracy: 0.97 - ETA: 9:01 - loss: 0.0871 - accuracy: 0.97 - ETA: 9:01 - loss: 0.0870 - accuracy: 0.97 - ETA: 9:00 - loss: 0.0870 - accuracy: 0.97 - ETA: 9:00 - loss: 0.0870 - accuracy: 0.97 - ETA: 8:59 - loss: 0.0870 - accuracy: 0.97 - ETA: 8:59 - loss: 0.0870 - accuracy: 0.97 - ETA: 8:58 - loss: 0.0871 - accuracy: 0.97 - ETA: 8:57 - loss: 0.0871 - accuracy: 0.97 - ETA: 8:57 - loss: 0.0871 - accuracy: 0.97 - ETA: 8:56 - loss: 0.0871 - accuracy: 0.97 - ETA: 8:56 - loss: 0.0870 - accuracy: 0.97 - ETA: 8:55 - loss: 0.0871 - accuracy: 0.97 - ETA: 8:54 - loss: 0.0871 - accuracy: 0.97 - ETA: 8:54 - loss: 0.0871 - accuracy: 0.97 - ETA: 8:53 - loss: 0.0870 - accuracy: 0.97 - ETA: 8:53 - loss: 0.0870 - accuracy: 0.97 - ETA: 8:52 - loss: 0.0871 - accuracy: 0.97 - ETA: 8:51 - loss: 0.0871 - accuracy: 0.97 - ETA: 8:51 - loss: 0.0870 - accuracy: 0.97 - ETA: 8:50 - loss: 0.0871 - accuracy: 0.97 - ETA: 8:50 - loss: 0.0871 - accuracy: 0.97 - ETA: 8:49 - loss: 0.0871 - accuracy: 0.97 - ETA: 8:48 - loss: 0.0871 - accuracy: 0.97 - ETA: 8:48 - loss: 0.0871 - accuracy: 0.97 - ETA: 8:47 - loss: 0.0871 - accuracy: 0.97 - ETA: 8:47 - loss: 0.0871 - accuracy: 0.97 - ETA: 8:46 - loss: 0.0871 - accuracy: 0.97 - ETA: 8:45 - loss: 0.0872 - accuracy: 0.97 - ETA: 8:45 - loss: 0.0871 - accuracy: 0.97 - ETA: 8:44 - loss: 0.0871 - accuracy: 0.97 - ETA: 8:44 - loss: 0.0871 - accuracy: 0.97 - ETA: 8:43 - loss: 0.0871 - accuracy: 0.97 - ETA: 8:43 - loss: 0.0871 - accuracy: 0.97 - ETA: 8:42 - loss: 0.0871 - accuracy: 0.97 - ETA: 8:41 - loss: 0.0872 - accuracy: 0.97 - ETA: 8:41 - loss: 0.0873 - accuracy: 0.97 - ETA: 8:40 - loss: 0.0872 - accuracy: 0.97 - ETA: 8:40 - loss: 0.0872 - accuracy: 0.97 - ETA: 8:39 - loss: 0.0872 - accuracy: 0.97 - ETA: 8:39 - loss: 0.0872 - accuracy: 0.97 - ETA: 8:38 - loss: 0.0872 - accuracy: 0.97 - ETA: 8:37 - loss: 0.0872 - accuracy: 0.97 - ETA: 8:37 - loss: 0.0873 - accuracy: 0.97 - ETA: 8:36 - loss: 0.0872 - accuracy: 0.97 - ETA: 8:36 - loss: 0.0872 - accuracy: 0.97 - ETA: 8:35 - loss: 0.0873 - accuracy: 0.97 - ETA: 8:35 - loss: 0.0873 - accuracy: 0.97 - ETA: 8:34 - loss: 0.0872 - accuracy: 0.97 - ETA: 8:33 - loss: 0.0872 - accuracy: 0.97 - ETA: 8:33 - loss: 0.0874 - accuracy: 0.97 - ETA: 8:32 - loss: 0.0874 - accuracy: 0.97 - ETA: 8:32 - loss: 0.0874 - accuracy: 0.97 - ETA: 8:31 - loss: 0.0875 - accuracy: 0.97 - ETA: 8:30 - loss: 0.0875 - accuracy: 0.97 - ETA: 8:30 - loss: 0.0875 - accuracy: 0.97 - ETA: 8:29 - loss: 0.0875 - accuracy: 0.97 - ETA: 8:29 - loss: 0.0875 - accuracy: 0.97 - ETA: 8:28 - loss: 0.0875 - accuracy: 0.97 - ETA: 8:27 - loss: 0.0875 - accuracy: 0.97 - ETA: 8:27 - loss: 0.0875 - accuracy: 0.97 - ETA: 8:26 - loss: 0.0875 - accuracy: 0.97 - ETA: 8:26 - loss: 0.0874 - accuracy: 0.97 - ETA: 8:25 - loss: 0.0875 - accuracy: 0.97 - ETA: 8:24 - loss: 0.0875 - accuracy: 0.97 - ETA: 8:24 - loss: 0.0875 - accuracy: 0.97 - ETA: 8:23 - loss: 0.0875 - accuracy: 0.97 - ETA: 8:22 - loss: 0.0876 - accuracy: 0.97 - ETA: 8:22 - loss: 0.0875 - accuracy: 0.97 - ETA: 8:21 - loss: 0.0875 - accuracy: 0.97 - ETA: 8:21 - loss: 0.0875 - accuracy: 0.97 - ETA: 8:20 - loss: 0.0875 - accuracy: 0.97 - ETA: 8:19 - loss: 0.0875 - accuracy: 0.97 - ETA: 8:19 - loss: 0.0875 - accuracy: 0.97 - ETA: 8:18 - loss: 0.0875 - accuracy: 0.97 - ETA: 8:18 - loss: 0.0875 - accuracy: 0.97 - ETA: 8:17 - loss: 0.0875 - accuracy: 0.97 - ETA: 8:16 - loss: 0.0875 - accuracy: 0.97 - ETA: 8:16 - loss: 0.0875 - accuracy: 0.97 - ETA: 8:15 - loss: 0.0875 - accuracy: 0.97 - ETA: 8:15 - loss: 0.0875 - accuracy: 0.97 - ETA: 8:14 - loss: 0.0875 - accuracy: 0.97 - ETA: 8:13 - loss: 0.0874 - accuracy: 0.97 - ETA: 8:13 - loss: 0.0874 - accuracy: 0.97 - ETA: 8:12 - loss: 0.0874 - accuracy: 0.97 - ETA: 8:11 - loss: 0.0874 - accuracy: 0.97 - ETA: 8:11 - loss: 0.0874 - accuracy: 0.97 - ETA: 8:10 - loss: 0.0874 - accuracy: 0.97 - ETA: 8:10 - loss: 0.0874 - accuracy: 0.97 - ETA: 8:09 - loss: 0.0873 - accuracy: 0.97 - ETA: 8:08 - loss: 0.0874 - accuracy: 0.97 - ETA: 8:08 - loss: 0.0874 - accuracy: 0.97 - ETA: 8:07 - loss: 0.0873 - accuracy: 0.97 - ETA: 8:07 - loss: 0.0873 - accuracy: 0.97 - ETA: 8:06 - loss: 0.0874 - accuracy: 0.97 - ETA: 8:05 - loss: 0.0873 - accuracy: 0.97 - ETA: 8:05 - loss: 0.0873 - accuracy: 0.97 - ETA: 8:04 - loss: 0.0873 - accuracy: 0.97 - ETA: 8:03 - loss: 0.0873 - accuracy: 0.97 - ETA: 8:03 - loss: 0.0873 - accuracy: 0.97 - ETA: 8:02 - loss: 0.0873 - accuracy: 0.97 - ETA: 8:02 - loss: 0.0872 - accuracy: 0.97 - ETA: 8:01 - loss: 0.0873 - accuracy: 0.97 - ETA: 8:00 - loss: 0.0874 - accuracy: 0.97 - ETA: 8:00 - loss: 0.0875 - accuracy: 0.97 - ETA: 7:59 - loss: 0.0875 - accuracy: 0.97 - ETA: 7:58 - loss: 0.0875 - accuracy: 0.97 - ETA: 7:58 - loss: 0.0876 - accuracy: 0.97 - ETA: 7:57 - loss: 0.0876 - accuracy: 0.97 - ETA: 7:57 - loss: 0.0875 - accuracy: 0.97 - ETA: 7:56 - loss: 0.0875 - accuracy: 0.97 - ETA: 7:55 - loss: 0.0875 - accuracy: 0.97 - ETA: 7:55 - loss: 0.0875 - accuracy: 0.97 - ETA: 7:54 - loss: 0.0876 - accuracy: 0.97 - ETA: 7:54 - loss: 0.0876 - accuracy: 0.97 - ETA: 7:53 - loss: 0.0877 - accuracy: 0.97 - ETA: 7:52 - loss: 0.0876 - accuracy: 0.97 - ETA: 7:52 - loss: 0.0876 - accuracy: 0.97 - ETA: 7:51 - loss: 0.0876 - accuracy: 0.97 - ETA: 7:50 - loss: 0.0877 - accuracy: 0.97 - ETA: 7:50 - loss: 0.0877 - accuracy: 0.97 - ETA: 7:49 - loss: 0.0877 - accuracy: 0.97 - ETA: 7:49 - loss: 0.0877 - accuracy: 0.97 - ETA: 7:48 - loss: 0.0877 - accuracy: 0.97 - ETA: 7:47 - loss: 0.0878 - accuracy: 0.97 - ETA: 7:47 - loss: 0.0878 - accuracy: 0.97 - ETA: 7:46 - loss: 0.0878 - accuracy: 0.97 - ETA: 7:46 - loss: 0.0878 - accuracy: 0.97 - ETA: 7:45 - loss: 0.0879 - accuracy: 0.97 - ETA: 7:44 - loss: 0.0879 - accuracy: 0.9725103616/140454 [=====================>........] - ETA: 7:44 - loss: 0.0878 - accuracy: 0.97 - ETA: 7:43 - loss: 0.0878 - accuracy: 0.97 - ETA: 7:42 - loss: 0.0879 - accuracy: 0.97 - ETA: 7:42 - loss: 0.0879 - accuracy: 0.97 - ETA: 7:41 - loss: 0.0880 - accuracy: 0.97 - ETA: 7:41 - loss: 0.0881 - accuracy: 0.97 - ETA: 7:40 - loss: 0.0880 - accuracy: 0.97 - ETA: 7:39 - loss: 0.0881 - accuracy: 0.97 - ETA: 7:39 - loss: 0.0881 - accuracy: 0.97 - ETA: 7:38 - loss: 0.0881 - accuracy: 0.97 - ETA: 7:38 - loss: 0.0881 - accuracy: 0.97 - ETA: 7:37 - loss: 0.0880 - accuracy: 0.97 - ETA: 7:36 - loss: 0.0880 - accuracy: 0.97 - ETA: 7:36 - loss: 0.0880 - accuracy: 0.97 - ETA: 7:35 - loss: 0.0880 - accuracy: 0.97 - ETA: 7:35 - loss: 0.0880 - accuracy: 0.97 - ETA: 7:34 - loss: 0.0881 - accuracy: 0.97 - ETA: 7:33 - loss: 0.0881 - accuracy: 0.97 - ETA: 7:33 - loss: 0.0882 - accuracy: 0.97 - ETA: 7:32 - loss: 0.0882 - accuracy: 0.97 - ETA: 7:31 - loss: 0.0882 - accuracy: 0.97 - ETA: 7:31 - loss: 0.0882 - accuracy: 0.97 - ETA: 7:30 - loss: 0.0882 - accuracy: 0.97 - ETA: 7:30 - loss: 0.0883 - accuracy: 0.97 - ETA: 7:29 - loss: 0.0883 - accuracy: 0.97 - ETA: 7:28 - loss: 0.0883 - accuracy: 0.97 - ETA: 7:28 - loss: 0.0883 - accuracy: 0.97 - ETA: 7:27 - loss: 0.0882 - accuracy: 0.97 - ETA: 7:26 - loss: 0.0883 - accuracy: 0.97 - ETA: 7:26 - loss: 0.0883 - accuracy: 0.97 - ETA: 7:25 - loss: 0.0883 - accuracy: 0.97 - ETA: 7:25 - loss: 0.0883 - accuracy: 0.97 - ETA: 7:24 - loss: 0.0883 - accuracy: 0.97 - ETA: 7:23 - loss: 0.0882 - accuracy: 0.97 - ETA: 7:23 - loss: 0.0882 - accuracy: 0.97 - ETA: 7:22 - loss: 0.0882 - accuracy: 0.97 - ETA: 7:22 - loss: 0.0883 - accuracy: 0.97 - ETA: 7:21 - loss: 0.0884 - accuracy: 0.97 - ETA: 7:20 - loss: 0.0884 - accuracy: 0.97 - ETA: 7:20 - loss: 0.0884 - accuracy: 0.97 - ETA: 7:19 - loss: 0.0884 - accuracy: 0.97 - ETA: 7:18 - loss: 0.0884 - accuracy: 0.97 - ETA: 7:18 - loss: 0.0884 - accuracy: 0.97 - ETA: 7:17 - loss: 0.0884 - accuracy: 0.97 - ETA: 7:17 - loss: 0.0884 - accuracy: 0.97 - ETA: 7:16 - loss: 0.0884 - accuracy: 0.97 - ETA: 7:15 - loss: 0.0885 - accuracy: 0.97 - ETA: 7:15 - loss: 0.0884 - accuracy: 0.97 - ETA: 7:14 - loss: 0.0884 - accuracy: 0.97 - ETA: 7:14 - loss: 0.0885 - accuracy: 0.97 - ETA: 7:13 - loss: 0.0885 - accuracy: 0.97 - ETA: 7:12 - loss: 0.0885 - accuracy: 0.97 - ETA: 7:12 - loss: 0.0885 - accuracy: 0.97 - ETA: 7:11 - loss: 0.0885 - accuracy: 0.97 - ETA: 7:10 - loss: 0.0885 - accuracy: 0.97 - ETA: 7:10 - loss: 0.0885 - accuracy: 0.97 - ETA: 7:09 - loss: 0.0886 - accuracy: 0.97 - ETA: 7:09 - loss: 0.0886 - accuracy: 0.97 - ETA: 7:08 - loss: 0.0886 - accuracy: 0.97 - ETA: 7:07 - loss: 0.0887 - accuracy: 0.97 - ETA: 7:07 - loss: 0.0887 - accuracy: 0.97 - ETA: 7:06 - loss: 0.0887 - accuracy: 0.97 - ETA: 7:06 - loss: 0.0887 - accuracy: 0.97 - ETA: 7:05 - loss: 0.0887 - accuracy: 0.97 - ETA: 7:04 - loss: 0.0887 - accuracy: 0.97 - ETA: 7:04 - loss: 0.0887 - accuracy: 0.97 - ETA: 7:03 - loss: 0.0888 - accuracy: 0.97 - ETA: 7:02 - loss: 0.0888 - accuracy: 0.97 - ETA: 7:02 - loss: 0.0889 - accuracy: 0.97 - ETA: 7:01 - loss: 0.0889 - accuracy: 0.97 - ETA: 7:01 - loss: 0.0888 - accuracy: 0.97 - ETA: 7:00 - loss: 0.0888 - accuracy: 0.97 - ETA: 6:59 - loss: 0.0888 - accuracy: 0.97 - ETA: 6:59 - loss: 0.0888 - accuracy: 0.97 - ETA: 6:58 - loss: 0.0888 - accuracy: 0.97 - ETA: 6:58 - loss: 0.0888 - accuracy: 0.97 - ETA: 6:57 - loss: 0.0888 - accuracy: 0.97 - ETA: 6:56 - loss: 0.0889 - accuracy: 0.97 - ETA: 6:56 - loss: 0.0888 - accuracy: 0.97 - ETA: 6:55 - loss: 0.0888 - accuracy: 0.97 - ETA: 6:55 - loss: 0.0888 - accuracy: 0.97 - ETA: 6:54 - loss: 0.0888 - accuracy: 0.97 - ETA: 6:53 - loss: 0.0889 - accuracy: 0.97 - ETA: 6:53 - loss: 0.0889 - accuracy: 0.97 - ETA: 6:52 - loss: 0.0889 - accuracy: 0.97 - ETA: 6:51 - loss: 0.0889 - accuracy: 0.97 - ETA: 6:51 - loss: 0.0889 - accuracy: 0.97 - ETA: 6:50 - loss: 0.0890 - accuracy: 0.97 - ETA: 6:50 - loss: 0.0890 - accuracy: 0.97 - ETA: 6:49 - loss: 0.0890 - accuracy: 0.97 - ETA: 6:48 - loss: 0.0890 - accuracy: 0.97 - ETA: 6:48 - loss: 0.0889 - accuracy: 0.97 - ETA: 6:47 - loss: 0.0889 - accuracy: 0.97 - ETA: 6:47 - loss: 0.0889 - accuracy: 0.97 - ETA: 6:46 - loss: 0.0889 - accuracy: 0.97 - ETA: 6:45 - loss: 0.0889 - accuracy: 0.97 - ETA: 6:45 - loss: 0.0890 - accuracy: 0.97 - ETA: 6:44 - loss: 0.0890 - accuracy: 0.97 - ETA: 6:43 - loss: 0.0890 - accuracy: 0.97 - ETA: 6:43 - loss: 0.0890 - accuracy: 0.97 - ETA: 6:42 - loss: 0.0889 - accuracy: 0.97 - ETA: 6:42 - loss: 0.0889 - accuracy: 0.97 - ETA: 6:41 - loss: 0.0889 - accuracy: 0.97 - ETA: 6:40 - loss: 0.0889 - accuracy: 0.97 - ETA: 6:40 - loss: 0.0889 - accuracy: 0.97 - ETA: 6:39 - loss: 0.0889 - accuracy: 0.97 - ETA: 6:39 - loss: 0.0889 - accuracy: 0.97 - ETA: 6:38 - loss: 0.0889 - accuracy: 0.97 - ETA: 6:37 - loss: 0.0889 - accuracy: 0.97 - ETA: 6:37 - loss: 0.0889 - accuracy: 0.97 - ETA: 6:36 - loss: 0.0889 - accuracy: 0.97 - ETA: 6:36 - loss: 0.0889 - accuracy: 0.97 - ETA: 6:35 - loss: 0.0888 - accuracy: 0.97 - ETA: 6:34 - loss: 0.0889 - accuracy: 0.97 - ETA: 6:34 - loss: 0.0888 - accuracy: 0.97 - ETA: 6:33 - loss: 0.0888 - accuracy: 0.97 - ETA: 6:33 - loss: 0.0888 - accuracy: 0.97 - ETA: 6:32 - loss: 0.0888 - accuracy: 0.97 - ETA: 6:31 - loss: 0.0889 - accuracy: 0.97 - ETA: 6:31 - loss: 0.0889 - accuracy: 0.97 - ETA: 6:30 - loss: 0.0889 - accuracy: 0.97 - ETA: 6:29 - loss: 0.0889 - accuracy: 0.97 - ETA: 6:29 - loss: 0.0889 - accuracy: 0.97 - ETA: 6:28 - loss: 0.0888 - accuracy: 0.97 - ETA: 6:28 - loss: 0.0888 - accuracy: 0.97 - ETA: 6:27 - loss: 0.0888 - accuracy: 0.97 - ETA: 6:26 - loss: 0.0888 - accuracy: 0.97 - ETA: 6:26 - loss: 0.0888 - accuracy: 0.97 - ETA: 6:25 - loss: 0.0888 - accuracy: 0.97 - ETA: 6:25 - loss: 0.0889 - accuracy: 0.97 - ETA: 6:24 - loss: 0.0889 - accuracy: 0.97 - ETA: 6:23 - loss: 0.0889 - accuracy: 0.97 - ETA: 6:23 - loss: 0.0888 - accuracy: 0.97 - ETA: 6:22 - loss: 0.0888 - accuracy: 0.97 - ETA: 6:22 - loss: 0.0888 - accuracy: 0.97 - ETA: 6:21 - loss: 0.0889 - accuracy: 0.97 - ETA: 6:20 - loss: 0.0889 - accuracy: 0.97 - ETA: 6:20 - loss: 0.0890 - accuracy: 0.97 - ETA: 6:19 - loss: 0.0889 - accuracy: 0.97 - ETA: 6:19 - loss: 0.0889 - accuracy: 0.97 - ETA: 6:18 - loss: 0.0889 - accuracy: 0.97 - ETA: 6:17 - loss: 0.0889 - accuracy: 0.97 - ETA: 6:17 - loss: 0.0889 - accuracy: 0.97 - ETA: 6:16 - loss: 0.0889 - accuracy: 0.97 - ETA: 6:16 - loss: 0.0889 - accuracy: 0.97 - ETA: 6:15 - loss: 0.0889 - accuracy: 0.97 - ETA: 6:14 - loss: 0.0889 - accuracy: 0.97 - ETA: 6:14 - loss: 0.0889 - accuracy: 0.97 - ETA: 6:13 - loss: 0.0889 - accuracy: 0.97 - ETA: 6:12 - loss: 0.0889 - accuracy: 0.97 - ETA: 6:12 - loss: 0.0889 - accuracy: 0.97 - ETA: 6:11 - loss: 0.0889 - accuracy: 0.97 - ETA: 6:11 - loss: 0.0888 - accuracy: 0.97 - ETA: 6:10 - loss: 0.0889 - accuracy: 0.97 - ETA: 6:09 - loss: 0.0888 - accuracy: 0.97 - ETA: 6:09 - loss: 0.0889 - accuracy: 0.97 - ETA: 6:08 - loss: 0.0889 - accuracy: 0.97 - ETA: 6:08 - loss: 0.0890 - accuracy: 0.97 - ETA: 6:07 - loss: 0.0890 - accuracy: 0.97 - ETA: 6:07 - loss: 0.0889 - accuracy: 0.97 - ETA: 6:06 - loss: 0.0889 - accuracy: 0.97 - ETA: 6:05 - loss: 0.0889 - accuracy: 0.97 - ETA: 6:05 - loss: 0.0889 - accuracy: 0.97 - ETA: 6:04 - loss: 0.0889 - accuracy: 0.97 - ETA: 6:04 - loss: 0.0889 - accuracy: 0.97 - ETA: 6:03 - loss: 0.0889 - accuracy: 0.97 - ETA: 6:02 - loss: 0.0889 - accuracy: 0.97 - ETA: 6:02 - loss: 0.0889 - accuracy: 0.97 - ETA: 6:01 - loss: 0.0889 - accuracy: 0.97 - ETA: 6:01 - loss: 0.0889 - accuracy: 0.97 - ETA: 6:00 - loss: 0.0888 - accuracy: 0.97 - ETA: 5:59 - loss: 0.0889 - accuracy: 0.97 - ETA: 5:59 - loss: 0.0889 - accuracy: 0.97 - ETA: 5:58 - loss: 0.0888 - accuracy: 0.97 - ETA: 5:58 - loss: 0.0888 - accuracy: 0.97 - ETA: 5:57 - loss: 0.0888 - accuracy: 0.97 - ETA: 5:56 - loss: 0.0888 - accuracy: 0.97 - ETA: 5:56 - loss: 0.0888 - accuracy: 0.97 - ETA: 5:55 - loss: 0.0887 - accuracy: 0.97 - ETA: 5:55 - loss: 0.0888 - accuracy: 0.97 - ETA: 5:54 - loss: 0.0888 - accuracy: 0.97 - ETA: 5:53 - loss: 0.0887 - accuracy: 0.97 - ETA: 5:53 - loss: 0.0887 - accuracy: 0.97 - ETA: 5:52 - loss: 0.0887 - accuracy: 0.97 - ETA: 5:52 - loss: 0.0887 - accuracy: 0.97 - ETA: 5:51 - loss: 0.0887 - accuracy: 0.9721115520/140454 [=======================>......] - ETA: 5:50 - loss: 0.0887 - accuracy: 0.97 - ETA: 5:50 - loss: 0.0887 - accuracy: 0.97 - ETA: 5:49 - loss: 0.0888 - accuracy: 0.97 - ETA: 5:49 - loss: 0.0888 - accuracy: 0.97 - ETA: 5:48 - loss: 0.0888 - accuracy: 0.97 - ETA: 5:47 - loss: 0.0888 - accuracy: 0.97 - ETA: 5:47 - loss: 0.0888 - accuracy: 0.97 - ETA: 5:46 - loss: 0.0888 - accuracy: 0.97 - ETA: 5:46 - loss: 0.0888 - accuracy: 0.97 - ETA: 5:45 - loss: 0.0888 - accuracy: 0.97 - ETA: 5:44 - loss: 0.0887 - accuracy: 0.97 - ETA: 5:44 - loss: 0.0887 - accuracy: 0.97 - ETA: 5:43 - loss: 0.0886 - accuracy: 0.97 - ETA: 5:42 - loss: 0.0886 - accuracy: 0.97 - ETA: 5:42 - loss: 0.0886 - accuracy: 0.97 - ETA: 5:41 - loss: 0.0886 - accuracy: 0.97 - ETA: 5:41 - loss: 0.0886 - accuracy: 0.97 - ETA: 5:40 - loss: 0.0886 - accuracy: 0.97 - ETA: 5:40 - loss: 0.0886 - accuracy: 0.97 - ETA: 5:39 - loss: 0.0887 - accuracy: 0.97 - ETA: 5:38 - loss: 0.0887 - accuracy: 0.97 - ETA: 5:38 - loss: 0.0887 - accuracy: 0.97 - ETA: 5:37 - loss: 0.0887 - accuracy: 0.97 - ETA: 5:37 - loss: 0.0887 - accuracy: 0.97 - ETA: 5:36 - loss: 0.0888 - accuracy: 0.97 - ETA: 5:35 - loss: 0.0889 - accuracy: 0.97 - ETA: 5:35 - loss: 0.0888 - accuracy: 0.97 - ETA: 5:34 - loss: 0.0889 - accuracy: 0.97 - ETA: 5:34 - loss: 0.0889 - accuracy: 0.97 - ETA: 5:33 - loss: 0.0889 - accuracy: 0.97 - ETA: 5:32 - loss: 0.0888 - accuracy: 0.97 - ETA: 5:32 - loss: 0.0889 - accuracy: 0.97 - ETA: 5:31 - loss: 0.0889 - accuracy: 0.97 - ETA: 5:31 - loss: 0.0889 - accuracy: 0.97 - ETA: 5:30 - loss: 0.0888 - accuracy: 0.97 - ETA: 5:29 - loss: 0.0889 - accuracy: 0.97 - ETA: 5:29 - loss: 0.0889 - accuracy: 0.97 - ETA: 5:28 - loss: 0.0889 - accuracy: 0.97 - ETA: 5:28 - loss: 0.0889 - accuracy: 0.97 - ETA: 5:27 - loss: 0.0889 - accuracy: 0.97 - ETA: 5:26 - loss: 0.0889 - accuracy: 0.97 - ETA: 5:26 - loss: 0.0889 - accuracy: 0.97 - ETA: 5:25 - loss: 0.0889 - accuracy: 0.97 - ETA: 5:24 - loss: 0.0889 - accuracy: 0.97 - ETA: 5:24 - loss: 0.0889 - accuracy: 0.97 - ETA: 5:23 - loss: 0.0890 - accuracy: 0.97 - ETA: 5:23 - loss: 0.0889 - accuracy: 0.97 - ETA: 5:22 - loss: 0.0889 - accuracy: 0.97 - ETA: 5:21 - loss: 0.0889 - accuracy: 0.97 - ETA: 5:21 - loss: 0.0889 - accuracy: 0.97 - ETA: 5:20 - loss: 0.0889 - accuracy: 0.97 - ETA: 5:20 - loss: 0.0890 - accuracy: 0.97 - ETA: 5:19 - loss: 0.0890 - accuracy: 0.97 - ETA: 5:18 - loss: 0.0890 - accuracy: 0.97 - ETA: 5:18 - loss: 0.0890 - accuracy: 0.97 - ETA: 5:17 - loss: 0.0890 - accuracy: 0.97 - ETA: 5:16 - loss: 0.0890 - accuracy: 0.97 - ETA: 5:16 - loss: 0.0890 - accuracy: 0.97 - ETA: 5:15 - loss: 0.0890 - accuracy: 0.97 - ETA: 5:15 - loss: 0.0890 - accuracy: 0.97 - ETA: 5:14 - loss: 0.0890 - accuracy: 0.97 - ETA: 5:13 - loss: 0.0889 - accuracy: 0.97 - ETA: 5:13 - loss: 0.0890 - accuracy: 0.97 - ETA: 5:12 - loss: 0.0890 - accuracy: 0.97 - ETA: 5:12 - loss: 0.0889 - accuracy: 0.97 - ETA: 5:11 - loss: 0.0890 - accuracy: 0.97 - ETA: 5:10 - loss: 0.0890 - accuracy: 0.97 - ETA: 5:10 - loss: 0.0890 - accuracy: 0.97 - ETA: 5:09 - loss: 0.0890 - accuracy: 0.97 - ETA: 5:08 - loss: 0.0890 - accuracy: 0.97 - ETA: 5:08 - loss: 0.0892 - accuracy: 0.97 - ETA: 5:07 - loss: 0.0892 - accuracy: 0.97 - ETA: 5:07 - loss: 0.0893 - accuracy: 0.97 - ETA: 5:06 - loss: 0.0893 - accuracy: 0.97 - ETA: 5:05 - loss: 0.0893 - accuracy: 0.97 - ETA: 5:05 - loss: 0.0893 - accuracy: 0.97 - ETA: 5:04 - loss: 0.0893 - accuracy: 0.97 - ETA: 5:04 - loss: 0.0893 - accuracy: 0.97 - ETA: 5:03 - loss: 0.0893 - accuracy: 0.97 - ETA: 5:02 - loss: 0.0893 - accuracy: 0.97 - ETA: 5:02 - loss: 0.0893 - accuracy: 0.97 - ETA: 5:01 - loss: 0.0893 - accuracy: 0.97 - ETA: 5:00 - loss: 0.0893 - accuracy: 0.97 - ETA: 5:00 - loss: 0.0893 - accuracy: 0.97 - ETA: 4:59 - loss: 0.0893 - accuracy: 0.97 - ETA: 4:59 - loss: 0.0893 - accuracy: 0.97 - ETA: 4:58 - loss: 0.0893 - accuracy: 0.97 - ETA: 4:57 - loss: 0.0893 - accuracy: 0.97 - ETA: 4:57 - loss: 0.0893 - accuracy: 0.97 - ETA: 4:56 - loss: 0.0893 - accuracy: 0.97 - ETA: 4:56 - loss: 0.0893 - accuracy: 0.97 - ETA: 4:55 - loss: 0.0893 - accuracy: 0.97 - ETA: 4:55 - loss: 0.0893 - accuracy: 0.97 - ETA: 4:54 - loss: 0.0892 - accuracy: 0.97 - ETA: 4:53 - loss: 0.0892 - accuracy: 0.97 - ETA: 4:53 - loss: 0.0893 - accuracy: 0.97 - ETA: 4:52 - loss: 0.0892 - accuracy: 0.97 - ETA: 4:51 - loss: 0.0893 - accuracy: 0.97 - ETA: 4:51 - loss: 0.0893 - accuracy: 0.97 - ETA: 4:50 - loss: 0.0893 - accuracy: 0.97 - ETA: 4:50 - loss: 0.0893 - accuracy: 0.97 - ETA: 4:49 - loss: 0.0893 - accuracy: 0.97 - ETA: 4:48 - loss: 0.0893 - accuracy: 0.97 - ETA: 4:48 - loss: 0.0893 - accuracy: 0.97 - ETA: 4:47 - loss: 0.0893 - accuracy: 0.97 - ETA: 4:47 - loss: 0.0894 - accuracy: 0.97 - ETA: 4:46 - loss: 0.0894 - accuracy: 0.97 - ETA: 4:46 - loss: 0.0894 - accuracy: 0.97 - ETA: 4:45 - loss: 0.0894 - accuracy: 0.97 - ETA: 4:44 - loss: 0.0894 - accuracy: 0.97 - ETA: 4:44 - loss: 0.0894 - accuracy: 0.97 - ETA: 4:43 - loss: 0.0895 - accuracy: 0.97 - ETA: 4:43 - loss: 0.0895 - accuracy: 0.97 - ETA: 4:42 - loss: 0.0895 - accuracy: 0.97 - ETA: 4:41 - loss: 0.0895 - accuracy: 0.97 - ETA: 4:41 - loss: 0.0895 - accuracy: 0.97 - ETA: 4:40 - loss: 0.0895 - accuracy: 0.97 - ETA: 4:40 - loss: 0.0895 - accuracy: 0.97 - ETA: 4:39 - loss: 0.0896 - accuracy: 0.97 - ETA: 4:38 - loss: 0.0895 - accuracy: 0.97 - ETA: 4:38 - loss: 0.0897 - accuracy: 0.97 - ETA: 4:37 - loss: 0.0896 - accuracy: 0.97 - ETA: 4:37 - loss: 0.0896 - accuracy: 0.97 - ETA: 4:36 - loss: 0.0896 - accuracy: 0.97 - ETA: 4:35 - loss: 0.0896 - accuracy: 0.97 - ETA: 4:35 - loss: 0.0896 - accuracy: 0.97 - ETA: 4:34 - loss: 0.0895 - accuracy: 0.97 - ETA: 4:34 - loss: 0.0895 - accuracy: 0.97 - ETA: 4:33 - loss: 0.0895 - accuracy: 0.97 - ETA: 4:32 - loss: 0.0895 - accuracy: 0.97 - ETA: 4:32 - loss: 0.0895 - accuracy: 0.97 - ETA: 4:31 - loss: 0.0895 - accuracy: 0.97 - ETA: 4:31 - loss: 0.0895 - accuracy: 0.97 - ETA: 4:30 - loss: 0.0896 - accuracy: 0.97 - ETA: 4:29 - loss: 0.0896 - accuracy: 0.97 - ETA: 4:29 - loss: 0.0896 - accuracy: 0.97 - ETA: 4:28 - loss: 0.0896 - accuracy: 0.97 - ETA: 4:28 - loss: 0.0895 - accuracy: 0.97 - ETA: 4:27 - loss: 0.0896 - accuracy: 0.97 - ETA: 4:26 - loss: 0.0896 - accuracy: 0.97 - ETA: 4:26 - loss: 0.0897 - accuracy: 0.97 - ETA: 4:25 - loss: 0.0897 - accuracy: 0.97 - ETA: 4:24 - loss: 0.0897 - accuracy: 0.97 - ETA: 4:24 - loss: 0.0896 - accuracy: 0.97 - ETA: 4:23 - loss: 0.0896 - accuracy: 0.97 - ETA: 4:23 - loss: 0.0896 - accuracy: 0.97 - ETA: 4:22 - loss: 0.0895 - accuracy: 0.97 - ETA: 4:21 - loss: 0.0896 - accuracy: 0.97 - ETA: 4:21 - loss: 0.0896 - accuracy: 0.97 - ETA: 4:20 - loss: 0.0896 - accuracy: 0.97 - ETA: 4:20 - loss: 0.0896 - accuracy: 0.97 - ETA: 4:19 - loss: 0.0896 - accuracy: 0.97 - ETA: 4:18 - loss: 0.0896 - accuracy: 0.97 - ETA: 4:18 - loss: 0.0896 - accuracy: 0.97 - ETA: 4:17 - loss: 0.0895 - accuracy: 0.97 - ETA: 4:17 - loss: 0.0895 - accuracy: 0.97 - ETA: 4:16 - loss: 0.0895 - accuracy: 0.97 - ETA: 4:15 - loss: 0.0896 - accuracy: 0.97 - ETA: 4:15 - loss: 0.0895 - accuracy: 0.97 - ETA: 4:14 - loss: 0.0895 - accuracy: 0.97 - ETA: 4:14 - loss: 0.0895 - accuracy: 0.97 - ETA: 4:13 - loss: 0.0895 - accuracy: 0.97 - ETA: 4:12 - loss: 0.0895 - accuracy: 0.97 - ETA: 4:12 - loss: 0.0896 - accuracy: 0.97 - ETA: 4:11 - loss: 0.0896 - accuracy: 0.97 - ETA: 4:11 - loss: 0.0896 - accuracy: 0.97 - ETA: 4:10 - loss: 0.0896 - accuracy: 0.97 - ETA: 4:09 - loss: 0.0896 - accuracy: 0.97 - ETA: 4:09 - loss: 0.0896 - accuracy: 0.97 - ETA: 4:08 - loss: 0.0896 - accuracy: 0.97 - ETA: 4:07 - loss: 0.0897 - accuracy: 0.97 - ETA: 4:07 - loss: 0.0897 - accuracy: 0.97 - ETA: 4:06 - loss: 0.0897 - accuracy: 0.97 - ETA: 4:06 - loss: 0.0897 - accuracy: 0.97 - ETA: 4:05 - loss: 0.0897 - accuracy: 0.97 - ETA: 4:04 - loss: 0.0897 - accuracy: 0.97 - ETA: 4:04 - loss: 0.0897 - accuracy: 0.97 - ETA: 4:03 - loss: 0.0897 - accuracy: 0.97 - ETA: 4:03 - loss: 0.0897 - accuracy: 0.97 - ETA: 4:02 - loss: 0.0897 - accuracy: 0.97 - ETA: 4:01 - loss: 0.0898 - accuracy: 0.97 - ETA: 4:01 - loss: 0.0897 - accuracy: 0.97 - ETA: 4:00 - loss: 0.0898 - accuracy: 0.97 - ETA: 4:00 - loss: 0.0897 - accuracy: 0.97 - ETA: 3:59 - loss: 0.0897 - accuracy: 0.97 - ETA: 3:58 - loss: 0.0897 - accuracy: 0.9718127424/140454 [==========================>...] - ETA: 3:58 - loss: 0.0897 - accuracy: 0.97 - ETA: 3:57 - loss: 0.0896 - accuracy: 0.97 - ETA: 3:57 - loss: 0.0897 - accuracy: 0.97 - ETA: 3:56 - loss: 0.0897 - accuracy: 0.97 - ETA: 3:55 - loss: 0.0897 - accuracy: 0.97 - ETA: 3:55 - loss: 0.0896 - accuracy: 0.97 - ETA: 3:54 - loss: 0.0897 - accuracy: 0.97 - ETA: 3:53 - loss: 0.0897 - accuracy: 0.97 - ETA: 3:53 - loss: 0.0897 - accuracy: 0.97 - ETA: 3:52 - loss: 0.0897 - accuracy: 0.97 - ETA: 3:52 - loss: 0.0897 - accuracy: 0.97 - ETA: 3:51 - loss: 0.0898 - accuracy: 0.97 - ETA: 3:50 - loss: 0.0898 - accuracy: 0.97 - ETA: 3:50 - loss: 0.0898 - accuracy: 0.97 - ETA: 3:49 - loss: 0.0898 - accuracy: 0.97 - ETA: 3:49 - loss: 0.0898 - accuracy: 0.97 - ETA: 3:48 - loss: 0.0898 - accuracy: 0.97 - ETA: 3:47 - loss: 0.0898 - accuracy: 0.97 - ETA: 3:47 - loss: 0.0898 - accuracy: 0.97 - ETA: 3:46 - loss: 0.0898 - accuracy: 0.97 - ETA: 3:45 - loss: 0.0898 - accuracy: 0.97 - ETA: 3:45 - loss: 0.0898 - accuracy: 0.97 - ETA: 3:44 - loss: 0.0898 - accuracy: 0.97 - ETA: 3:44 - loss: 0.0898 - accuracy: 0.97 - ETA: 3:43 - loss: 0.0898 - accuracy: 0.97 - ETA: 3:42 - loss: 0.0898 - accuracy: 0.97 - ETA: 3:42 - loss: 0.0899 - accuracy: 0.97 - ETA: 3:41 - loss: 0.0899 - accuracy: 0.97 - ETA: 3:41 - loss: 0.0899 - accuracy: 0.97 - ETA: 3:40 - loss: 0.0898 - accuracy: 0.97 - ETA: 3:39 - loss: 0.0898 - accuracy: 0.97 - ETA: 3:39 - loss: 0.0898 - accuracy: 0.97 - ETA: 3:38 - loss: 0.0898 - accuracy: 0.97 - ETA: 3:38 - loss: 0.0899 - accuracy: 0.97 - ETA: 3:37 - loss: 0.0899 - accuracy: 0.97 - ETA: 3:36 - loss: 0.0899 - accuracy: 0.97 - ETA: 3:36 - loss: 0.0899 - accuracy: 0.97 - ETA: 3:35 - loss: 0.0899 - accuracy: 0.97 - ETA: 3:35 - loss: 0.0899 - accuracy: 0.97 - ETA: 3:34 - loss: 0.0899 - accuracy: 0.97 - ETA: 3:33 - loss: 0.0899 - accuracy: 0.97 - ETA: 3:33 - loss: 0.0900 - accuracy: 0.97 - ETA: 3:32 - loss: 0.0900 - accuracy: 0.97 - ETA: 3:32 - loss: 0.0900 - accuracy: 0.97 - ETA: 3:31 - loss: 0.0900 - accuracy: 0.97 - ETA: 3:30 - loss: 0.0900 - accuracy: 0.97 - ETA: 3:30 - loss: 0.0899 - accuracy: 0.97 - ETA: 3:29 - loss: 0.0900 - accuracy: 0.97 - ETA: 3:29 - loss: 0.0900 - accuracy: 0.97 - ETA: 3:28 - loss: 0.0899 - accuracy: 0.97 - ETA: 3:27 - loss: 0.0899 - accuracy: 0.97 - ETA: 3:27 - loss: 0.0899 - accuracy: 0.97 - ETA: 3:26 - loss: 0.0900 - accuracy: 0.97 - ETA: 3:25 - loss: 0.0900 - accuracy: 0.97 - ETA: 3:25 - loss: 0.0899 - accuracy: 0.97 - ETA: 3:24 - loss: 0.0899 - accuracy: 0.97 - ETA: 3:24 - loss: 0.0899 - accuracy: 0.97 - ETA: 3:23 - loss: 0.0899 - accuracy: 0.97 - ETA: 3:22 - loss: 0.0900 - accuracy: 0.97 - ETA: 3:22 - loss: 0.0900 - accuracy: 0.97 - ETA: 3:21 - loss: 0.0900 - accuracy: 0.97 - ETA: 3:21 - loss: 0.0900 - accuracy: 0.97 - ETA: 3:20 - loss: 0.0900 - accuracy: 0.97 - ETA: 3:19 - loss: 0.0900 - accuracy: 0.97 - ETA: 3:19 - loss: 0.0900 - accuracy: 0.97 - ETA: 3:18 - loss: 0.0900 - accuracy: 0.97 - ETA: 3:18 - loss: 0.0900 - accuracy: 0.97 - ETA: 3:17 - loss: 0.0901 - accuracy: 0.97 - ETA: 3:16 - loss: 0.0900 - accuracy: 0.97 - ETA: 3:16 - loss: 0.0900 - accuracy: 0.97 - ETA: 3:15 - loss: 0.0900 - accuracy: 0.97 - ETA: 3:15 - loss: 0.0900 - accuracy: 0.97 - ETA: 3:14 - loss: 0.0900 - accuracy: 0.97 - ETA: 3:13 - loss: 0.0901 - accuracy: 0.97 - ETA: 3:13 - loss: 0.0900 - accuracy: 0.97 - ETA: 3:12 - loss: 0.0900 - accuracy: 0.97 - ETA: 3:11 - loss: 0.0900 - accuracy: 0.97 - ETA: 3:11 - loss: 0.0900 - accuracy: 0.97 - ETA: 3:10 - loss: 0.0900 - accuracy: 0.97 - ETA: 3:10 - loss: 0.0900 - accuracy: 0.97 - ETA: 3:09 - loss: 0.0900 - accuracy: 0.97 - ETA: 3:08 - loss: 0.0900 - accuracy: 0.97 - ETA: 3:08 - loss: 0.0900 - accuracy: 0.97 - ETA: 3:07 - loss: 0.0899 - accuracy: 0.97 - ETA: 3:06 - loss: 0.0900 - accuracy: 0.97 - ETA: 3:06 - loss: 0.0900 - accuracy: 0.97 - ETA: 3:05 - loss: 0.0900 - accuracy: 0.97 - ETA: 3:05 - loss: 0.0900 - accuracy: 0.97 - ETA: 3:04 - loss: 0.0900 - accuracy: 0.97 - ETA: 3:03 - loss: 0.0900 - accuracy: 0.97 - ETA: 3:03 - loss: 0.0900 - accuracy: 0.97 - ETA: 3:02 - loss: 0.0900 - accuracy: 0.97 - ETA: 3:02 - loss: 0.0901 - accuracy: 0.97 - ETA: 3:01 - loss: 0.0901 - accuracy: 0.97 - ETA: 3:00 - loss: 0.0901 - accuracy: 0.97 - ETA: 3:00 - loss: 0.0901 - accuracy: 0.97 - ETA: 2:59 - loss: 0.0901 - accuracy: 0.97 - ETA: 2:58 - loss: 0.0901 - accuracy: 0.97 - ETA: 2:58 - loss: 0.0902 - accuracy: 0.97 - ETA: 2:57 - loss: 0.0902 - accuracy: 0.97 - ETA: 2:57 - loss: 0.0903 - accuracy: 0.97 - ETA: 2:56 - loss: 0.0903 - accuracy: 0.97 - ETA: 2:55 - loss: 0.0903 - accuracy: 0.97 - ETA: 2:55 - loss: 0.0903 - accuracy: 0.97 - ETA: 2:54 - loss: 0.0903 - accuracy: 0.97 - ETA: 2:54 - loss: 0.0902 - accuracy: 0.97 - ETA: 2:53 - loss: 0.0902 - accuracy: 0.97 - ETA: 2:52 - loss: 0.0902 - accuracy: 0.97 - ETA: 2:52 - loss: 0.0902 - accuracy: 0.97 - ETA: 2:51 - loss: 0.0902 - accuracy: 0.97 - ETA: 2:51 - loss: 0.0903 - accuracy: 0.97 - ETA: 2:50 - loss: 0.0903 - accuracy: 0.97 - ETA: 2:49 - loss: 0.0903 - accuracy: 0.97 - ETA: 2:49 - loss: 0.0903 - accuracy: 0.97 - ETA: 2:48 - loss: 0.0903 - accuracy: 0.97 - ETA: 2:47 - loss: 0.0904 - accuracy: 0.97 - ETA: 2:47 - loss: 0.0904 - accuracy: 0.97 - ETA: 2:46 - loss: 0.0905 - accuracy: 0.97 - ETA: 2:46 - loss: 0.0905 - accuracy: 0.97 - ETA: 2:45 - loss: 0.0905 - accuracy: 0.97 - ETA: 2:44 - loss: 0.0905 - accuracy: 0.97 - ETA: 2:44 - loss: 0.0906 - accuracy: 0.97 - ETA: 2:43 - loss: 0.0906 - accuracy: 0.97 - ETA: 2:43 - loss: 0.0906 - accuracy: 0.97 - ETA: 2:42 - loss: 0.0907 - accuracy: 0.97 - ETA: 2:41 - loss: 0.0907 - accuracy: 0.97 - ETA: 2:41 - loss: 0.0907 - accuracy: 0.97 - ETA: 2:40 - loss: 0.0907 - accuracy: 0.97 - ETA: 2:39 - loss: 0.0906 - accuracy: 0.97 - ETA: 2:39 - loss: 0.0907 - accuracy: 0.97 - ETA: 2:38 - loss: 0.0907 - accuracy: 0.97 - ETA: 2:38 - loss: 0.0908 - accuracy: 0.97 - ETA: 2:37 - loss: 0.0908 - accuracy: 0.97 - ETA: 2:36 - loss: 0.0908 - accuracy: 0.97 - ETA: 2:36 - loss: 0.0908 - accuracy: 0.97 - ETA: 2:35 - loss: 0.0909 - accuracy: 0.97 - ETA: 2:35 - loss: 0.0909 - accuracy: 0.97 - ETA: 2:34 - loss: 0.0909 - accuracy: 0.97 - ETA: 2:33 - loss: 0.0909 - accuracy: 0.97 - ETA: 2:33 - loss: 0.0909 - accuracy: 0.97 - ETA: 2:32 - loss: 0.0909 - accuracy: 0.97 - ETA: 2:31 - loss: 0.0909 - accuracy: 0.97 - ETA: 2:31 - loss: 0.0909 - accuracy: 0.97 - ETA: 2:30 - loss: 0.0910 - accuracy: 0.97 - ETA: 2:30 - loss: 0.0910 - accuracy: 0.97 - ETA: 2:29 - loss: 0.0910 - accuracy: 0.97 - ETA: 2:28 - loss: 0.0910 - accuracy: 0.97 - ETA: 2:28 - loss: 0.0909 - accuracy: 0.97 - ETA: 2:27 - loss: 0.0910 - accuracy: 0.97 - ETA: 2:27 - loss: 0.0910 - accuracy: 0.97 - ETA: 2:26 - loss: 0.0910 - accuracy: 0.97 - ETA: 2:25 - loss: 0.0910 - accuracy: 0.97 - ETA: 2:25 - loss: 0.0910 - accuracy: 0.97 - ETA: 2:24 - loss: 0.0911 - accuracy: 0.97 - ETA: 2:23 - loss: 0.0912 - accuracy: 0.97 - ETA: 2:23 - loss: 0.0912 - accuracy: 0.97 - ETA: 2:22 - loss: 0.0912 - accuracy: 0.97 - ETA: 2:22 - loss: 0.0912 - accuracy: 0.97 - ETA: 2:21 - loss: 0.0912 - accuracy: 0.97 - ETA: 2:20 - loss: 0.0911 - accuracy: 0.97 - ETA: 2:20 - loss: 0.0911 - accuracy: 0.97 - ETA: 2:19 - loss: 0.0911 - accuracy: 0.97 - ETA: 2:19 - loss: 0.0911 - accuracy: 0.97 - ETA: 2:18 - loss: 0.0911 - accuracy: 0.97 - ETA: 2:17 - loss: 0.0910 - accuracy: 0.97 - ETA: 2:17 - loss: 0.0910 - accuracy: 0.97 - ETA: 2:16 - loss: 0.0910 - accuracy: 0.97 - ETA: 2:15 - loss: 0.0910 - accuracy: 0.97 - ETA: 2:15 - loss: 0.0911 - accuracy: 0.97 - ETA: 2:14 - loss: 0.0911 - accuracy: 0.97 - ETA: 2:14 - loss: 0.0912 - accuracy: 0.97 - ETA: 2:13 - loss: 0.0912 - accuracy: 0.97 - ETA: 2:12 - loss: 0.0912 - accuracy: 0.97 - ETA: 2:12 - loss: 0.0912 - accuracy: 0.97 - ETA: 2:11 - loss: 0.0911 - accuracy: 0.97 - ETA: 2:11 - loss: 0.0912 - accuracy: 0.97 - ETA: 2:10 - loss: 0.0912 - accuracy: 0.97 - ETA: 2:09 - loss: 0.0911 - accuracy: 0.97 - ETA: 2:09 - loss: 0.0911 - accuracy: 0.97 - ETA: 2:08 - loss: 0.0911 - accuracy: 0.97 - ETA: 2:07 - loss: 0.0911 - accuracy: 0.97 - ETA: 2:07 - loss: 0.0911 - accuracy: 0.97 - ETA: 2:06 - loss: 0.0912 - accuracy: 0.97 - ETA: 2:06 - loss: 0.0912 - accuracy: 0.97 - ETA: 2:05 - loss: 0.0912 - accuracy: 0.97 - ETA: 2:04 - loss: 0.0913 - accuracy: 0.9711139328/140454 [============================>.] - ETA: 2:04 - loss: 0.0913 - accuracy: 0.97 - ETA: 2:03 - loss: 0.0913 - accuracy: 0.97 - ETA: 2:03 - loss: 0.0914 - accuracy: 0.97 - ETA: 2:02 - loss: 0.0914 - accuracy: 0.97 - ETA: 2:01 - loss: 0.0914 - accuracy: 0.97 - ETA: 2:01 - loss: 0.0914 - accuracy: 0.97 - ETA: 2:00 - loss: 0.0914 - accuracy: 0.97 - ETA: 1:59 - loss: 0.0914 - accuracy: 0.97 - ETA: 1:59 - loss: 0.0913 - accuracy: 0.97 - ETA: 1:58 - loss: 0.0914 - accuracy: 0.97 - ETA: 1:58 - loss: 0.0914 - accuracy: 0.97 - ETA: 1:57 - loss: 0.0914 - accuracy: 0.97 - ETA: 1:56 - loss: 0.0915 - accuracy: 0.97 - ETA: 1:56 - loss: 0.0914 - accuracy: 0.97 - ETA: 1:55 - loss: 0.0914 - accuracy: 0.97 - ETA: 1:55 - loss: 0.0914 - accuracy: 0.97 - ETA: 1:54 - loss: 0.0914 - accuracy: 0.97 - ETA: 1:53 - loss: 0.0914 - accuracy: 0.97 - ETA: 1:53 - loss: 0.0914 - accuracy: 0.97 - ETA: 1:52 - loss: 0.0914 - accuracy: 0.97 - ETA: 1:51 - loss: 0.0914 - accuracy: 0.97 - ETA: 1:51 - loss: 0.0914 - accuracy: 0.97 - ETA: 1:50 - loss: 0.0915 - accuracy: 0.97 - ETA: 1:50 - loss: 0.0915 - accuracy: 0.97 - ETA: 1:49 - loss: 0.0915 - accuracy: 0.97 - ETA: 1:48 - loss: 0.0915 - accuracy: 0.97 - ETA: 1:48 - loss: 0.0915 - accuracy: 0.97 - ETA: 1:47 - loss: 0.0915 - accuracy: 0.97 - ETA: 1:47 - loss: 0.0914 - accuracy: 0.97 - ETA: 1:46 - loss: 0.0915 - accuracy: 0.97 - ETA: 1:45 - loss: 0.0915 - accuracy: 0.97 - ETA: 1:45 - loss: 0.0915 - accuracy: 0.97 - ETA: 1:44 - loss: 0.0915 - accuracy: 0.97 - ETA: 1:44 - loss: 0.0915 - accuracy: 0.97 - ETA: 1:43 - loss: 0.0915 - accuracy: 0.97 - ETA: 1:42 - loss: 0.0915 - accuracy: 0.97 - ETA: 1:42 - loss: 0.0915 - accuracy: 0.97 - ETA: 1:41 - loss: 0.0915 - accuracy: 0.97 - ETA: 1:40 - loss: 0.0915 - accuracy: 0.97 - ETA: 1:40 - loss: 0.0916 - accuracy: 0.97 - ETA: 1:39 - loss: 0.0915 - accuracy: 0.97 - ETA: 1:39 - loss: 0.0915 - accuracy: 0.97 - ETA: 1:38 - loss: 0.0915 - accuracy: 0.97 - ETA: 1:37 - loss: 0.0915 - accuracy: 0.97 - ETA: 1:37 - loss: 0.0915 - accuracy: 0.97 - ETA: 1:36 - loss: 0.0914 - accuracy: 0.97 - ETA: 1:36 - loss: 0.0914 - accuracy: 0.97 - ETA: 1:35 - loss: 0.0914 - accuracy: 0.97 - ETA: 1:34 - loss: 0.0915 - accuracy: 0.97 - ETA: 1:34 - loss: 0.0914 - accuracy: 0.97 - ETA: 1:33 - loss: 0.0914 - accuracy: 0.97 - ETA: 1:32 - loss: 0.0915 - accuracy: 0.97 - ETA: 1:32 - loss: 0.0915 - accuracy: 0.97 - ETA: 1:31 - loss: 0.0915 - accuracy: 0.97 - ETA: 1:31 - loss: 0.0914 - accuracy: 0.97 - ETA: 1:30 - loss: 0.0914 - accuracy: 0.97 - ETA: 1:29 - loss: 0.0914 - accuracy: 0.97 - ETA: 1:29 - loss: 0.0914 - accuracy: 0.97 - ETA: 1:28 - loss: 0.0915 - accuracy: 0.97 - ETA: 1:28 - loss: 0.0915 - accuracy: 0.97 - ETA: 1:27 - loss: 0.0914 - accuracy: 0.97 - ETA: 1:26 - loss: 0.0914 - accuracy: 0.97 - ETA: 1:26 - loss: 0.0914 - accuracy: 0.97 - ETA: 1:25 - loss: 0.0914 - accuracy: 0.97 - ETA: 1:24 - loss: 0.0914 - accuracy: 0.97 - ETA: 1:24 - loss: 0.0915 - accuracy: 0.97 - ETA: 1:23 - loss: 0.0914 - accuracy: 0.97 - ETA: 1:23 - loss: 0.0915 - accuracy: 0.97 - ETA: 1:22 - loss: 0.0915 - accuracy: 0.97 - ETA: 1:21 - loss: 0.0916 - accuracy: 0.97 - ETA: 1:21 - loss: 0.0916 - accuracy: 0.97 - ETA: 1:20 - loss: 0.0916 - accuracy: 0.97 - ETA: 1:20 - loss: 0.0916 - accuracy: 0.97 - ETA: 1:19 - loss: 0.0916 - accuracy: 0.97 - ETA: 1:18 - loss: 0.0916 - accuracy: 0.97 - ETA: 1:18 - loss: 0.0916 - accuracy: 0.97 - ETA: 1:17 - loss: 0.0916 - accuracy: 0.97 - ETA: 1:16 - loss: 0.0916 - accuracy: 0.97 - ETA: 1:16 - loss: 0.0916 - accuracy: 0.97 - ETA: 1:15 - loss: 0.0916 - accuracy: 0.97 - ETA: 1:15 - loss: 0.0916 - accuracy: 0.97 - ETA: 1:14 - loss: 0.0915 - accuracy: 0.97 - ETA: 1:13 - loss: 0.0915 - accuracy: 0.97 - ETA: 1:13 - loss: 0.0915 - accuracy: 0.97 - ETA: 1:12 - loss: 0.0915 - accuracy: 0.97 - ETA: 1:12 - loss: 0.0915 - accuracy: 0.97 - ETA: 1:11 - loss: 0.0915 - accuracy: 0.97 - ETA: 1:10 - loss: 0.0915 - accuracy: 0.97 - ETA: 1:10 - loss: 0.0915 - accuracy: 0.97 - ETA: 1:09 - loss: 0.0915 - accuracy: 0.97 - ETA: 1:09 - loss: 0.0915 - accuracy: 0.97 - ETA: 1:08 - loss: 0.0914 - accuracy: 0.97 - ETA: 1:07 - loss: 0.0915 - accuracy: 0.97 - ETA: 1:07 - loss: 0.0915 - accuracy: 0.97 - ETA: 1:06 - loss: 0.0915 - accuracy: 0.97 - ETA: 1:05 - loss: 0.0915 - accuracy: 0.97 - ETA: 1:05 - loss: 0.0915 - accuracy: 0.97 - ETA: 1:04 - loss: 0.0914 - accuracy: 0.97 - ETA: 1:04 - loss: 0.0914 - accuracy: 0.97 - ETA: 1:03 - loss: 0.0914 - accuracy: 0.97 - ETA: 1:02 - loss: 0.0915 - accuracy: 0.97 - ETA: 1:02 - loss: 0.0915 - accuracy: 0.97 - ETA: 1:01 - loss: 0.0915 - accuracy: 0.97 - ETA: 1:01 - loss: 0.0914 - accuracy: 0.97 - ETA: 1:00 - loss: 0.0914 - accuracy: 0.97 - ETA: 59s - loss: 0.0914 - accuracy: 0.9712 - ETA: 59s - loss: 0.0914 - accuracy: 0.971 - ETA: 58s - loss: 0.0914 - accuracy: 0.971 - ETA: 57s - loss: 0.0914 - accuracy: 0.971 - ETA: 57s - loss: 0.0914 - accuracy: 0.971 - ETA: 56s - loss: 0.0914 - accuracy: 0.971 - ETA: 56s - loss: 0.0915 - accuracy: 0.971 - ETA: 55s - loss: 0.0915 - accuracy: 0.971 - ETA: 54s - loss: 0.0915 - accuracy: 0.971 - ETA: 54s - loss: 0.0915 - accuracy: 0.971 - ETA: 53s - loss: 0.0915 - accuracy: 0.971 - ETA: 53s - loss: 0.0916 - accuracy: 0.971 - ETA: 52s - loss: 0.0916 - accuracy: 0.971 - ETA: 51s - loss: 0.0916 - accuracy: 0.971 - ETA: 51s - loss: 0.0916 - accuracy: 0.971 - ETA: 50s - loss: 0.0916 - accuracy: 0.971 - ETA: 50s - loss: 0.0916 - accuracy: 0.971 - ETA: 49s - loss: 0.0916 - accuracy: 0.971 - ETA: 48s - loss: 0.0917 - accuracy: 0.971 - ETA: 48s - loss: 0.0917 - accuracy: 0.971 - ETA: 47s - loss: 0.0917 - accuracy: 0.971 - ETA: 46s - loss: 0.0917 - accuracy: 0.971 - ETA: 46s - loss: 0.0917 - accuracy: 0.971 - ETA: 45s - loss: 0.0917 - accuracy: 0.971 - ETA: 45s - loss: 0.0917 - accuracy: 0.971 - ETA: 44s - loss: 0.0917 - accuracy: 0.971 - ETA: 43s - loss: 0.0917 - accuracy: 0.971 - ETA: 43s - loss: 0.0918 - accuracy: 0.971 - ETA: 42s - loss: 0.0918 - accuracy: 0.971 - ETA: 42s - loss: 0.0918 - accuracy: 0.971 - ETA: 41s - loss: 0.0918 - accuracy: 0.971 - ETA: 40s - loss: 0.0918 - accuracy: 0.971 - ETA: 40s - loss: 0.0918 - accuracy: 0.971 - ETA: 39s - loss: 0.0918 - accuracy: 0.971 - ETA: 39s - loss: 0.0918 - accuracy: 0.971 - ETA: 38s - loss: 0.0919 - accuracy: 0.971 - ETA: 37s - loss: 0.0919 - accuracy: 0.971 - ETA: 37s - loss: 0.0919 - accuracy: 0.971 - ETA: 36s - loss: 0.0919 - accuracy: 0.971 - ETA: 35s - loss: 0.0918 - accuracy: 0.971 - ETA: 35s - loss: 0.0918 - accuracy: 0.971 - ETA: 34s - loss: 0.0919 - accuracy: 0.971 - ETA: 34s - loss: 0.0918 - accuracy: 0.971 - ETA: 33s - loss: 0.0919 - accuracy: 0.971 - ETA: 32s - loss: 0.0919 - accuracy: 0.971 - ETA: 32s - loss: 0.0919 - accuracy: 0.971 - ETA: 31s - loss: 0.0918 - accuracy: 0.971 - ETA: 31s - loss: 0.0918 - accuracy: 0.971 - ETA: 30s - loss: 0.0918 - accuracy: 0.971 - ETA: 29s - loss: 0.0918 - accuracy: 0.971 - ETA: 29s - loss: 0.0918 - accuracy: 0.971 - ETA: 28s - loss: 0.0918 - accuracy: 0.971 - ETA: 28s - loss: 0.0918 - accuracy: 0.971 - ETA: 27s - loss: 0.0919 - accuracy: 0.970 - ETA: 26s - loss: 0.0919 - accuracy: 0.970 - ETA: 26s - loss: 0.0920 - accuracy: 0.970 - ETA: 25s - loss: 0.0920 - accuracy: 0.970 - ETA: 24s - loss: 0.0920 - accuracy: 0.970 - ETA: 24s - loss: 0.0920 - accuracy: 0.970 - ETA: 23s - loss: 0.0921 - accuracy: 0.970 - ETA: 23s - loss: 0.0921 - accuracy: 0.970 - ETA: 22s - loss: 0.0921 - accuracy: 0.970 - ETA: 21s - loss: 0.0921 - accuracy: 0.970 - ETA: 21s - loss: 0.0921 - accuracy: 0.970 - ETA: 20s - loss: 0.0921 - accuracy: 0.970 - ETA: 20s - loss: 0.0920 - accuracy: 0.970 - ETA: 19s - loss: 0.0921 - accuracy: 0.970 - ETA: 18s - loss: 0.0920 - accuracy: 0.970 - ETA: 18s - loss: 0.0921 - accuracy: 0.970 - ETA: 17s - loss: 0.0921 - accuracy: 0.970 - ETA: 16s - loss: 0.0921 - accuracy: 0.970 - ETA: 16s - loss: 0.0921 - accuracy: 0.970 - ETA: 15s - loss: 0.0921 - accuracy: 0.970 - ETA: 15s - loss: 0.0921 - accuracy: 0.970 - ETA: 14s - loss: 0.0921 - accuracy: 0.970 - ETA: 13s - loss: 0.0921 - accuracy: 0.970 - ETA: 13s - loss: 0.0921 - accuracy: 0.970 - ETA: 12s - loss: 0.0921 - accuracy: 0.970 - ETA: 12s - loss: 0.0921 - accuracy: 0.970 - ETA: 11s - loss: 0.0920 - accuracy: 0.970 - ETA: 10s - loss: 0.0921 - accuracy: 0.9709"
     ]
    },
    {
     "name": "stdout",
     "output_type": "stream",
     "text": [
      "140454/140454 [==============================] - ETA: 10s - loss: 0.0921 - accuracy: 0.970 - ETA: 9s - loss: 0.0921 - accuracy: 0.970 - ETA: 8s - loss: 0.0921 - accuracy: 0.97 - ETA: 8s - loss: 0.0921 - accuracy: 0.97 - ETA: 7s - loss: 0.0922 - accuracy: 0.97 - ETA: 7s - loss: 0.0922 - accuracy: 0.97 - ETA: 6s - loss: 0.0922 - accuracy: 0.97 - ETA: 5s - loss: 0.0922 - accuracy: 0.97 - ETA: 5s - loss: 0.0922 - accuracy: 0.97 - ETA: 4s - loss: 0.0922 - accuracy: 0.97 - ETA: 4s - loss: 0.0922 - accuracy: 0.97 - ETA: 3s - loss: 0.0922 - accuracy: 0.97 - ETA: 2s - loss: 0.0922 - accuracy: 0.97 - ETA: 2s - loss: 0.0922 - accuracy: 0.97 - ETA: 1s - loss: 0.0922 - accuracy: 0.97 - ETA: 0s - loss: 0.0922 - accuracy: 0.97 - ETA: 0s - loss: 0.0922 - accuracy: 0.97 - 1380s 10ms/step - loss: 0.0922 - accuracy: 0.9708 - val_loss: 0.2074 - val_accuracy: 0.9360\n",
      "Epoch 5/5\n",
      " 11392/140454 [=>............................] - ETA: 28:24 - loss: 0.0677 - accuracy: 0.984 - ETA: 29:28 - loss: 0.0946 - accuracy: 0.976 - ETA: 29:50 - loss: 0.0734 - accuracy: 0.979 - ETA: 30:32 - loss: 0.0715 - accuracy: 0.976 - ETA: 30:28 - loss: 0.0596 - accuracy: 0.981 - ETA: 30:59 - loss: 0.0533 - accuracy: 0.984 - ETA: 31:36 - loss: 0.0491 - accuracy: 0.986 - ETA: 31:47 - loss: 0.0601 - accuracy: 0.984 - ETA: 31:44 - loss: 0.0569 - accuracy: 0.984 - ETA: 31:45 - loss: 0.0577 - accuracy: 0.984 - ETA: 32:00 - loss: 0.0560 - accuracy: 0.984 - ETA: 32:38 - loss: 0.0530 - accuracy: 0.985 - ETA: 32:33 - loss: 0.0561 - accuracy: 0.984 - ETA: 32:30 - loss: 0.0565 - accuracy: 0.984 - ETA: 32:27 - loss: 0.0613 - accuracy: 0.984 - ETA: 32:19 - loss: 0.0600 - accuracy: 0.984 - ETA: 32:13 - loss: 0.0589 - accuracy: 0.983 - ETA: 32:22 - loss: 0.0578 - accuracy: 0.984 - ETA: 32:22 - loss: 0.0585 - accuracy: 0.982 - ETA: 32:29 - loss: 0.0574 - accuracy: 0.982 - ETA: 32:39 - loss: 0.0555 - accuracy: 0.983 - ETA: 32:34 - loss: 0.0536 - accuracy: 0.984 - ETA: 32:34 - loss: 0.0522 - accuracy: 0.985 - ETA: 32:25 - loss: 0.0538 - accuracy: 0.985 - ETA: 32:08 - loss: 0.0537 - accuracy: 0.985 - ETA: 32:06 - loss: 0.0551 - accuracy: 0.984 - ETA: 32:10 - loss: 0.0533 - accuracy: 0.985 - ETA: 32:19 - loss: 0.0539 - accuracy: 0.983 - ETA: 32:24 - loss: 0.0527 - accuracy: 0.984 - ETA: 32:21 - loss: 0.0533 - accuracy: 0.984 - ETA: 32:26 - loss: 0.0527 - accuracy: 0.984 - ETA: 32:42 - loss: 0.0517 - accuracy: 0.984 - ETA: 32:37 - loss: 0.0544 - accuracy: 0.984 - ETA: 32:31 - loss: 0.0565 - accuracy: 0.983 - ETA: 32:28 - loss: 0.0564 - accuracy: 0.983 - ETA: 32:26 - loss: 0.0568 - accuracy: 0.982 - ETA: 32:27 - loss: 0.0575 - accuracy: 0.981 - ETA: 32:27 - loss: 0.0578 - accuracy: 0.981 - ETA: 32:31 - loss: 0.0597 - accuracy: 0.981 - ETA: 32:26 - loss: 0.0595 - accuracy: 0.981 - ETA: 32:17 - loss: 0.0595 - accuracy: 0.980 - ETA: 32:11 - loss: 0.0589 - accuracy: 0.981 - ETA: 32:09 - loss: 0.0589 - accuracy: 0.981 - ETA: 32:06 - loss: 0.0587 - accuracy: 0.981 - ETA: 32:11 - loss: 0.0586 - accuracy: 0.981 - ETA: 32:09 - loss: 0.0581 - accuracy: 0.981 - ETA: 32:05 - loss: 0.0571 - accuracy: 0.982 - ETA: 31:59 - loss: 0.0569 - accuracy: 0.982 - ETA: 31:53 - loss: 0.0561 - accuracy: 0.982 - ETA: 31:50 - loss: 0.0558 - accuracy: 0.982 - ETA: 31:49 - loss: 0.0563 - accuracy: 0.982 - ETA: 31:46 - loss: 0.0560 - accuracy: 0.982 - ETA: 31:43 - loss: 0.0567 - accuracy: 0.981 - ETA: 31:41 - loss: 0.0586 - accuracy: 0.981 - ETA: 31:44 - loss: 0.0582 - accuracy: 0.981 - ETA: 31:40 - loss: 0.0578 - accuracy: 0.981 - ETA: 31:35 - loss: 0.0586 - accuracy: 0.981 - ETA: 31:35 - loss: 0.0587 - accuracy: 0.981 - ETA: 31:34 - loss: 0.0615 - accuracy: 0.980 - ETA: 31:30 - loss: 0.0608 - accuracy: 0.981 - ETA: 31:26 - loss: 0.0610 - accuracy: 0.981 - ETA: 31:25 - loss: 0.0619 - accuracy: 0.980 - ETA: 31:20 - loss: 0.0621 - accuracy: 0.980 - ETA: 31:14 - loss: 0.0642 - accuracy: 0.980 - ETA: 31:12 - loss: 0.0637 - accuracy: 0.980 - ETA: 31:08 - loss: 0.0636 - accuracy: 0.980 - ETA: 31:06 - loss: 0.0632 - accuracy: 0.980 - ETA: 31:03 - loss: 0.0637 - accuracy: 0.980 - ETA: 31:01 - loss: 0.0631 - accuracy: 0.980 - ETA: 30:59 - loss: 0.0627 - accuracy: 0.980 - ETA: 30:56 - loss: 0.0623 - accuracy: 0.980 - ETA: 30:50 - loss: 0.0620 - accuracy: 0.980 - ETA: 30:47 - loss: 0.0613 - accuracy: 0.981 - ETA: 30:42 - loss: 0.0609 - accuracy: 0.981 - ETA: 30:40 - loss: 0.0604 - accuracy: 0.981 - ETA: 30:41 - loss: 0.0600 - accuracy: 0.981 - ETA: 30:38 - loss: 0.0594 - accuracy: 0.981 - ETA: 30:35 - loss: 0.0594 - accuracy: 0.981 - ETA: 30:30 - loss: 0.0599 - accuracy: 0.981 - ETA: 30:25 - loss: 0.0594 - accuracy: 0.981 - ETA: 30:23 - loss: 0.0596 - accuracy: 0.981 - ETA: 30:17 - loss: 0.0599 - accuracy: 0.981 - ETA: 30:11 - loss: 0.0601 - accuracy: 0.981 - ETA: 30:04 - loss: 0.0602 - accuracy: 0.981 - ETA: 29:57 - loss: 0.0607 - accuracy: 0.981 - ETA: 29:50 - loss: 0.0603 - accuracy: 0.981 - ETA: 29:43 - loss: 0.0608 - accuracy: 0.980 - ETA: 29:35 - loss: 0.0605 - accuracy: 0.980 - ETA: 29:28 - loss: 0.0603 - accuracy: 0.980 - ETA: 29:22 - loss: 0.0603 - accuracy: 0.980 - ETA: 29:16 - loss: 0.0599 - accuracy: 0.980 - ETA: 29:11 - loss: 0.0601 - accuracy: 0.981 - ETA: 29:05 - loss: 0.0598 - accuracy: 0.981 - ETA: 29:00 - loss: 0.0592 - accuracy: 0.981 - ETA: 28:55 - loss: 0.0587 - accuracy: 0.981 - ETA: 28:50 - loss: 0.0584 - accuracy: 0.981 - ETA: 28:44 - loss: 0.0585 - accuracy: 0.981 - ETA: 28:39 - loss: 0.0600 - accuracy: 0.981 - ETA: 28:34 - loss: 0.0600 - accuracy: 0.981 - ETA: 28:29 - loss: 0.0617 - accuracy: 0.980 - ETA: 28:24 - loss: 0.0624 - accuracy: 0.980 - ETA: 28:20 - loss: 0.0621 - accuracy: 0.980 - ETA: 28:14 - loss: 0.0630 - accuracy: 0.980 - ETA: 28:10 - loss: 0.0629 - accuracy: 0.980 - ETA: 28:05 - loss: 0.0631 - accuracy: 0.980 - ETA: 28:01 - loss: 0.0640 - accuracy: 0.980 - ETA: 27:56 - loss: 0.0636 - accuracy: 0.980 - ETA: 27:53 - loss: 0.0636 - accuracy: 0.980 - ETA: 27:49 - loss: 0.0631 - accuracy: 0.980 - ETA: 27:45 - loss: 0.0631 - accuracy: 0.980 - ETA: 27:40 - loss: 0.0633 - accuracy: 0.980 - ETA: 27:36 - loss: 0.0630 - accuracy: 0.980 - ETA: 27:31 - loss: 0.0629 - accuracy: 0.980 - ETA: 27:27 - loss: 0.0626 - accuracy: 0.980 - ETA: 27:23 - loss: 0.0632 - accuracy: 0.980 - ETA: 27:19 - loss: 0.0632 - accuracy: 0.980 - ETA: 27:15 - loss: 0.0628 - accuracy: 0.980 - ETA: 27:11 - loss: 0.0623 - accuracy: 0.980 - ETA: 27:06 - loss: 0.0624 - accuracy: 0.980 - ETA: 27:02 - loss: 0.0621 - accuracy: 0.980 - ETA: 26:59 - loss: 0.0618 - accuracy: 0.980 - ETA: 26:55 - loss: 0.0617 - accuracy: 0.980 - ETA: 26:53 - loss: 0.0626 - accuracy: 0.980 - ETA: 26:49 - loss: 0.0623 - accuracy: 0.980 - ETA: 26:46 - loss: 0.0620 - accuracy: 0.980 - ETA: 26:43 - loss: 0.0620 - accuracy: 0.980 - ETA: 26:39 - loss: 0.0618 - accuracy: 0.980 - ETA: 26:35 - loss: 0.0616 - accuracy: 0.980 - ETA: 26:32 - loss: 0.0614 - accuracy: 0.980 - ETA: 26:29 - loss: 0.0610 - accuracy: 0.981 - ETA: 26:25 - loss: 0.0608 - accuracy: 0.981 - ETA: 26:22 - loss: 0.0605 - accuracy: 0.981 - ETA: 26:19 - loss: 0.0601 - accuracy: 0.981 - ETA: 26:15 - loss: 0.0605 - accuracy: 0.981 - ETA: 26:12 - loss: 0.0603 - accuracy: 0.981 - ETA: 26:08 - loss: 0.0605 - accuracy: 0.980 - ETA: 26:05 - loss: 0.0611 - accuracy: 0.980 - ETA: 26:02 - loss: 0.0613 - accuracy: 0.980 - ETA: 25:59 - loss: 0.0615 - accuracy: 0.980 - ETA: 25:57 - loss: 0.0611 - accuracy: 0.980 - ETA: 25:54 - loss: 0.0619 - accuracy: 0.980 - ETA: 25:51 - loss: 0.0617 - accuracy: 0.980 - ETA: 25:48 - loss: 0.0613 - accuracy: 0.980 - ETA: 25:45 - loss: 0.0611 - accuracy: 0.980 - ETA: 25:43 - loss: 0.0611 - accuracy: 0.980 - ETA: 25:40 - loss: 0.0616 - accuracy: 0.980 - ETA: 25:37 - loss: 0.0615 - accuracy: 0.980 - ETA: 25:35 - loss: 0.0618 - accuracy: 0.980 - ETA: 25:32 - loss: 0.0617 - accuracy: 0.980 - ETA: 25:30 - loss: 0.0615 - accuracy: 0.980 - ETA: 25:30 - loss: 0.0613 - accuracy: 0.980 - ETA: 25:29 - loss: 0.0611 - accuracy: 0.980 - ETA: 25:27 - loss: 0.0612 - accuracy: 0.980 - ETA: 25:25 - loss: 0.0610 - accuracy: 0.980 - ETA: 25:26 - loss: 0.0608 - accuracy: 0.980 - ETA: 25:26 - loss: 0.0610 - accuracy: 0.980 - ETA: 25:25 - loss: 0.0607 - accuracy: 0.980 - ETA: 25:23 - loss: 0.0608 - accuracy: 0.980 - ETA: 25:21 - loss: 0.0605 - accuracy: 0.980 - ETA: 25:19 - loss: 0.0608 - accuracy: 0.980 - ETA: 25:16 - loss: 0.0606 - accuracy: 0.981 - ETA: 25:14 - loss: 0.0603 - accuracy: 0.981 - ETA: 25:12 - loss: 0.0601 - accuracy: 0.981 - ETA: 25:12 - loss: 0.0599 - accuracy: 0.981 - ETA: 25:11 - loss: 0.0598 - accuracy: 0.981 - ETA: 25:09 - loss: 0.0596 - accuracy: 0.981 - ETA: 25:07 - loss: 0.0593 - accuracy: 0.981 - ETA: 25:05 - loss: 0.0595 - accuracy: 0.981 - ETA: 25:03 - loss: 0.0592 - accuracy: 0.981 - ETA: 25:01 - loss: 0.0594 - accuracy: 0.981 - ETA: 24:59 - loss: 0.0593 - accuracy: 0.981 - ETA: 24:57 - loss: 0.0592 - accuracy: 0.981 - ETA: 24:54 - loss: 0.0591 - accuracy: 0.981 - ETA: 24:53 - loss: 0.0592 - accuracy: 0.981 - ETA: 24:50 - loss: 0.0590 - accuracy: 0.981 - ETA: 24:48 - loss: 0.0592 - accuracy: 0.981 - ETA: 24:46 - loss: 0.0593 - accuracy: 0.981 - ETA: 24:44 - loss: 0.0591 - accuracy: 0.9815 22784/140454 [===>..........................] - ETA: 24:42 - loss: 0.0592 - accuracy: 0.981 - ETA: 24:39 - loss: 0.0589 - accuracy: 0.981 - ETA: 24:37 - loss: 0.0591 - accuracy: 0.981 - ETA: 24:35 - loss: 0.0589 - accuracy: 0.981 - ETA: 24:32 - loss: 0.0588 - accuracy: 0.981 - ETA: 24:30 - loss: 0.0585 - accuracy: 0.981 - ETA: 24:28 - loss: 0.0587 - accuracy: 0.981 - ETA: 24:26 - loss: 0.0588 - accuracy: 0.981 - ETA: 24:24 - loss: 0.0587 - accuracy: 0.981 - ETA: 24:22 - loss: 0.0589 - accuracy: 0.981 - ETA: 24:20 - loss: 0.0590 - accuracy: 0.981 - ETA: 24:18 - loss: 0.0592 - accuracy: 0.981 - ETA: 24:16 - loss: 0.0595 - accuracy: 0.981 - ETA: 24:14 - loss: 0.0595 - accuracy: 0.981 - ETA: 24:12 - loss: 0.0597 - accuracy: 0.981 - ETA: 24:10 - loss: 0.0596 - accuracy: 0.981 - ETA: 24:08 - loss: 0.0594 - accuracy: 0.981 - ETA: 24:06 - loss: 0.0594 - accuracy: 0.981 - ETA: 24:04 - loss: 0.0593 - accuracy: 0.981 - ETA: 24:02 - loss: 0.0591 - accuracy: 0.981 - ETA: 24:01 - loss: 0.0590 - accuracy: 0.981 - ETA: 23:59 - loss: 0.0588 - accuracy: 0.981 - ETA: 23:57 - loss: 0.0586 - accuracy: 0.981 - ETA: 23:55 - loss: 0.0585 - accuracy: 0.981 - ETA: 23:53 - loss: 0.0583 - accuracy: 0.981 - ETA: 23:51 - loss: 0.0580 - accuracy: 0.981 - ETA: 23:49 - loss: 0.0585 - accuracy: 0.981 - ETA: 23:47 - loss: 0.0588 - accuracy: 0.981 - ETA: 23:46 - loss: 0.0588 - accuracy: 0.981 - ETA: 23:44 - loss: 0.0586 - accuracy: 0.982 - ETA: 23:43 - loss: 0.0585 - accuracy: 0.982 - ETA: 23:42 - loss: 0.0585 - accuracy: 0.981 - ETA: 23:40 - loss: 0.0583 - accuracy: 0.982 - ETA: 23:37 - loss: 0.0581 - accuracy: 0.982 - ETA: 23:36 - loss: 0.0583 - accuracy: 0.982 - ETA: 23:34 - loss: 0.0582 - accuracy: 0.982 - ETA: 23:32 - loss: 0.0580 - accuracy: 0.982 - ETA: 23:31 - loss: 0.0580 - accuracy: 0.982 - ETA: 23:30 - loss: 0.0589 - accuracy: 0.981 - ETA: 23:29 - loss: 0.0586 - accuracy: 0.981 - ETA: 23:27 - loss: 0.0591 - accuracy: 0.981 - ETA: 23:25 - loss: 0.0589 - accuracy: 0.981 - ETA: 23:23 - loss: 0.0588 - accuracy: 0.981 - ETA: 23:22 - loss: 0.0587 - accuracy: 0.981 - ETA: 23:20 - loss: 0.0586 - accuracy: 0.981 - ETA: 23:19 - loss: 0.0586 - accuracy: 0.981 - ETA: 23:17 - loss: 0.0585 - accuracy: 0.981 - ETA: 23:15 - loss: 0.0588 - accuracy: 0.981 - ETA: 23:14 - loss: 0.0587 - accuracy: 0.981 - ETA: 23:12 - loss: 0.0592 - accuracy: 0.981 - ETA: 23:11 - loss: 0.0590 - accuracy: 0.981 - ETA: 23:09 - loss: 0.0588 - accuracy: 0.981 - ETA: 23:07 - loss: 0.0589 - accuracy: 0.981 - ETA: 23:06 - loss: 0.0591 - accuracy: 0.981 - ETA: 23:05 - loss: 0.0593 - accuracy: 0.981 - ETA: 23:03 - loss: 0.0591 - accuracy: 0.981 - ETA: 23:01 - loss: 0.0591 - accuracy: 0.981 - ETA: 23:00 - loss: 0.0598 - accuracy: 0.981 - ETA: 22:58 - loss: 0.0598 - accuracy: 0.981 - ETA: 22:57 - loss: 0.0597 - accuracy: 0.981 - ETA: 22:55 - loss: 0.0597 - accuracy: 0.981 - ETA: 22:54 - loss: 0.0595 - accuracy: 0.981 - ETA: 22:52 - loss: 0.0593 - accuracy: 0.981 - ETA: 22:51 - loss: 0.0591 - accuracy: 0.981 - ETA: 22:49 - loss: 0.0594 - accuracy: 0.981 - ETA: 22:47 - loss: 0.0592 - accuracy: 0.981 - ETA: 22:46 - loss: 0.0591 - accuracy: 0.981 - ETA: 22:44 - loss: 0.0593 - accuracy: 0.981 - ETA: 22:43 - loss: 0.0594 - accuracy: 0.981 - ETA: 22:42 - loss: 0.0592 - accuracy: 0.981 - ETA: 22:41 - loss: 0.0592 - accuracy: 0.981 - ETA: 22:40 - loss: 0.0591 - accuracy: 0.981 - ETA: 22:39 - loss: 0.0592 - accuracy: 0.981 - ETA: 22:37 - loss: 0.0591 - accuracy: 0.981 - ETA: 22:36 - loss: 0.0591 - accuracy: 0.981 - ETA: 22:34 - loss: 0.0594 - accuracy: 0.981 - ETA: 22:33 - loss: 0.0592 - accuracy: 0.981 - ETA: 22:32 - loss: 0.0592 - accuracy: 0.981 - ETA: 22:30 - loss: 0.0590 - accuracy: 0.981 - ETA: 22:29 - loss: 0.0592 - accuracy: 0.981 - ETA: 22:27 - loss: 0.0594 - accuracy: 0.981 - ETA: 22:26 - loss: 0.0593 - accuracy: 0.981 - ETA: 22:26 - loss: 0.0593 - accuracy: 0.981 - ETA: 22:25 - loss: 0.0591 - accuracy: 0.981 - ETA: 22:24 - loss: 0.0590 - accuracy: 0.982 - ETA: 22:23 - loss: 0.0589 - accuracy: 0.981 - ETA: 22:22 - loss: 0.0590 - accuracy: 0.982 - ETA: 22:20 - loss: 0.0589 - accuracy: 0.982 - ETA: 22:19 - loss: 0.0588 - accuracy: 0.982 - ETA: 22:18 - loss: 0.0587 - accuracy: 0.982 - ETA: 22:17 - loss: 0.0586 - accuracy: 0.982 - ETA: 22:15 - loss: 0.0588 - accuracy: 0.982 - ETA: 22:14 - loss: 0.0587 - accuracy: 0.982 - ETA: 22:13 - loss: 0.0586 - accuracy: 0.982 - ETA: 22:11 - loss: 0.0589 - accuracy: 0.982 - ETA: 22:10 - loss: 0.0587 - accuracy: 0.982 - ETA: 22:08 - loss: 0.0590 - accuracy: 0.982 - ETA: 22:07 - loss: 0.0589 - accuracy: 0.982 - ETA: 22:06 - loss: 0.0588 - accuracy: 0.982 - ETA: 22:05 - loss: 0.0588 - accuracy: 0.982 - ETA: 22:03 - loss: 0.0591 - accuracy: 0.981 - ETA: 22:02 - loss: 0.0596 - accuracy: 0.981 - ETA: 22:01 - loss: 0.0597 - accuracy: 0.981 - ETA: 21:59 - loss: 0.0598 - accuracy: 0.981 - ETA: 21:58 - loss: 0.0596 - accuracy: 0.981 - ETA: 21:57 - loss: 0.0598 - accuracy: 0.981 - ETA: 21:56 - loss: 0.0597 - accuracy: 0.981 - ETA: 21:54 - loss: 0.0596 - accuracy: 0.981 - ETA: 21:53 - loss: 0.0595 - accuracy: 0.981 - ETA: 21:52 - loss: 0.0597 - accuracy: 0.981 - ETA: 21:51 - loss: 0.0599 - accuracy: 0.981 - ETA: 21:50 - loss: 0.0599 - accuracy: 0.981 - ETA: 21:49 - loss: 0.0600 - accuracy: 0.981 - ETA: 21:48 - loss: 0.0598 - accuracy: 0.981 - ETA: 21:47 - loss: 0.0597 - accuracy: 0.981 - ETA: 21:45 - loss: 0.0597 - accuracy: 0.981 - ETA: 21:44 - loss: 0.0596 - accuracy: 0.981 - ETA: 21:43 - loss: 0.0596 - accuracy: 0.981 - ETA: 21:41 - loss: 0.0595 - accuracy: 0.981 - ETA: 21:40 - loss: 0.0594 - accuracy: 0.981 - ETA: 21:39 - loss: 0.0594 - accuracy: 0.981 - ETA: 21:39 - loss: 0.0596 - accuracy: 0.981 - ETA: 21:38 - loss: 0.0596 - accuracy: 0.981 - ETA: 21:37 - loss: 0.0596 - accuracy: 0.981 - ETA: 21:36 - loss: 0.0596 - accuracy: 0.981 - ETA: 21:35 - loss: 0.0595 - accuracy: 0.981 - ETA: 21:33 - loss: 0.0595 - accuracy: 0.981 - ETA: 21:32 - loss: 0.0593 - accuracy: 0.981 - ETA: 21:31 - loss: 0.0593 - accuracy: 0.981 - ETA: 21:30 - loss: 0.0596 - accuracy: 0.981 - ETA: 21:29 - loss: 0.0594 - accuracy: 0.981 - ETA: 21:28 - loss: 0.0598 - accuracy: 0.981 - ETA: 21:27 - loss: 0.0597 - accuracy: 0.981 - ETA: 21:26 - loss: 0.0597 - accuracy: 0.981 - ETA: 21:24 - loss: 0.0597 - accuracy: 0.981 - ETA: 21:23 - loss: 0.0603 - accuracy: 0.981 - ETA: 21:22 - loss: 0.0602 - accuracy: 0.981 - ETA: 21:21 - loss: 0.0602 - accuracy: 0.981 - ETA: 21:20 - loss: 0.0602 - accuracy: 0.981 - ETA: 21:19 - loss: 0.0601 - accuracy: 0.981 - ETA: 21:17 - loss: 0.0601 - accuracy: 0.981 - ETA: 21:16 - loss: 0.0601 - accuracy: 0.981 - ETA: 21:15 - loss: 0.0601 - accuracy: 0.981 - ETA: 21:14 - loss: 0.0600 - accuracy: 0.981 - ETA: 21:13 - loss: 0.0601 - accuracy: 0.981 - ETA: 21:12 - loss: 0.0600 - accuracy: 0.981 - ETA: 21:11 - loss: 0.0599 - accuracy: 0.981 - ETA: 21:10 - loss: 0.0599 - accuracy: 0.981 - ETA: 21:09 - loss: 0.0600 - accuracy: 0.981 - ETA: 21:08 - loss: 0.0600 - accuracy: 0.981 - ETA: 21:07 - loss: 0.0598 - accuracy: 0.981 - ETA: 21:07 - loss: 0.0597 - accuracy: 0.981 - ETA: 21:07 - loss: 0.0599 - accuracy: 0.981 - ETA: 21:07 - loss: 0.0597 - accuracy: 0.981 - ETA: 21:07 - loss: 0.0597 - accuracy: 0.981 - ETA: 21:07 - loss: 0.0596 - accuracy: 0.981 - ETA: 21:07 - loss: 0.0597 - accuracy: 0.981 - ETA: 21:07 - loss: 0.0596 - accuracy: 0.981 - ETA: 21:08 - loss: 0.0595 - accuracy: 0.981 - ETA: 21:07 - loss: 0.0598 - accuracy: 0.981 - ETA: 21:07 - loss: 0.0597 - accuracy: 0.981 - ETA: 21:07 - loss: 0.0596 - accuracy: 0.981 - ETA: 21:07 - loss: 0.0596 - accuracy: 0.981 - ETA: 21:06 - loss: 0.0596 - accuracy: 0.981 - ETA: 21:06 - loss: 0.0596 - accuracy: 0.981 - ETA: 21:07 - loss: 0.0596 - accuracy: 0.981 - ETA: 21:10 - loss: 0.0596 - accuracy: 0.981 - ETA: 21:11 - loss: 0.0597 - accuracy: 0.981 - ETA: 21:11 - loss: 0.0595 - accuracy: 0.981 - ETA: 21:11 - loss: 0.0595 - accuracy: 0.981 - ETA: 21:11 - loss: 0.0594 - accuracy: 0.981 - ETA: 21:12 - loss: 0.0594 - accuracy: 0.981 - ETA: 21:12 - loss: 0.0593 - accuracy: 0.981 - ETA: 21:11 - loss: 0.0592 - accuracy: 0.981 - ETA: 21:10 - loss: 0.0590 - accuracy: 0.981 - ETA: 21:09 - loss: 0.0590 - accuracy: 0.981 - ETA: 21:09 - loss: 0.0591 - accuracy: 0.981 - ETA: 21:09 - loss: 0.0591 - accuracy: 0.9817 34176/140454 [======>.......................] - ETA: 21:09 - loss: 0.0590 - accuracy: 0.981 - ETA: 21:08 - loss: 0.0590 - accuracy: 0.981 - ETA: 21:07 - loss: 0.0589 - accuracy: 0.981 - ETA: 21:06 - loss: 0.0590 - accuracy: 0.981 - ETA: 21:05 - loss: 0.0589 - accuracy: 0.981 - ETA: 21:04 - loss: 0.0590 - accuracy: 0.981 - ETA: 21:03 - loss: 0.0592 - accuracy: 0.981 - ETA: 21:02 - loss: 0.0591 - accuracy: 0.981 - ETA: 21:01 - loss: 0.0592 - accuracy: 0.981 - ETA: 21:00 - loss: 0.0592 - accuracy: 0.981 - ETA: 20:58 - loss: 0.0592 - accuracy: 0.981 - ETA: 20:57 - loss: 0.0593 - accuracy: 0.981 - ETA: 20:56 - loss: 0.0593 - accuracy: 0.981 - ETA: 20:55 - loss: 0.0593 - accuracy: 0.981 - ETA: 20:55 - loss: 0.0591 - accuracy: 0.981 - ETA: 20:54 - loss: 0.0591 - accuracy: 0.981 - ETA: 20:53 - loss: 0.0590 - accuracy: 0.981 - ETA: 20:53 - loss: 0.0589 - accuracy: 0.981 - ETA: 20:51 - loss: 0.0588 - accuracy: 0.981 - ETA: 20:51 - loss: 0.0587 - accuracy: 0.981 - ETA: 20:50 - loss: 0.0587 - accuracy: 0.981 - ETA: 20:49 - loss: 0.0586 - accuracy: 0.981 - ETA: 20:48 - loss: 0.0584 - accuracy: 0.982 - ETA: 20:47 - loss: 0.0587 - accuracy: 0.981 - ETA: 20:47 - loss: 0.0588 - accuracy: 0.981 - ETA: 20:46 - loss: 0.0588 - accuracy: 0.981 - ETA: 20:45 - loss: 0.0587 - accuracy: 0.981 - ETA: 20:44 - loss: 0.0590 - accuracy: 0.981 - ETA: 20:43 - loss: 0.0589 - accuracy: 0.981 - ETA: 20:42 - loss: 0.0589 - accuracy: 0.981 - ETA: 20:41 - loss: 0.0588 - accuracy: 0.982 - ETA: 20:41 - loss: 0.0590 - accuracy: 0.981 - ETA: 20:40 - loss: 0.0589 - accuracy: 0.981 - ETA: 20:40 - loss: 0.0590 - accuracy: 0.981 - ETA: 20:39 - loss: 0.0589 - accuracy: 0.981 - ETA: 20:38 - loss: 0.0587 - accuracy: 0.982 - ETA: 20:38 - loss: 0.0593 - accuracy: 0.981 - ETA: 20:37 - loss: 0.0592 - accuracy: 0.982 - ETA: 20:36 - loss: 0.0592 - accuracy: 0.982 - ETA: 20:35 - loss: 0.0591 - accuracy: 0.982 - ETA: 20:34 - loss: 0.0594 - accuracy: 0.981 - ETA: 20:33 - loss: 0.0596 - accuracy: 0.981 - ETA: 20:32 - loss: 0.0596 - accuracy: 0.981 - ETA: 20:32 - loss: 0.0596 - accuracy: 0.982 - ETA: 20:32 - loss: 0.0595 - accuracy: 0.982 - ETA: 20:32 - loss: 0.0594 - accuracy: 0.982 - ETA: 20:33 - loss: 0.0594 - accuracy: 0.982 - ETA: 20:34 - loss: 0.0594 - accuracy: 0.982 - ETA: 20:33 - loss: 0.0594 - accuracy: 0.982 - ETA: 20:33 - loss: 0.0595 - accuracy: 0.982 - ETA: 20:33 - loss: 0.0595 - accuracy: 0.982 - ETA: 20:33 - loss: 0.0594 - accuracy: 0.982 - ETA: 20:33 - loss: 0.0594 - accuracy: 0.982 - ETA: 20:32 - loss: 0.0593 - accuracy: 0.982 - ETA: 20:32 - loss: 0.0593 - accuracy: 0.982 - ETA: 20:31 - loss: 0.0594 - accuracy: 0.982 - ETA: 20:31 - loss: 0.0593 - accuracy: 0.982 - ETA: 20:30 - loss: 0.0593 - accuracy: 0.982 - ETA: 20:30 - loss: 0.0592 - accuracy: 0.982 - ETA: 20:30 - loss: 0.0592 - accuracy: 0.982 - ETA: 20:29 - loss: 0.0592 - accuracy: 0.982 - ETA: 20:30 - loss: 0.0591 - accuracy: 0.982 - ETA: 20:30 - loss: 0.0590 - accuracy: 0.982 - ETA: 20:31 - loss: 0.0589 - accuracy: 0.982 - ETA: 20:31 - loss: 0.0592 - accuracy: 0.982 - ETA: 20:32 - loss: 0.0592 - accuracy: 0.982 - ETA: 20:32 - loss: 0.0594 - accuracy: 0.982 - ETA: 20:32 - loss: 0.0594 - accuracy: 0.982 - ETA: 20:32 - loss: 0.0595 - accuracy: 0.982 - ETA: 20:31 - loss: 0.0595 - accuracy: 0.982 - ETA: 20:31 - loss: 0.0594 - accuracy: 0.982 - ETA: 20:31 - loss: 0.0594 - accuracy: 0.982 - ETA: 20:30 - loss: 0.0594 - accuracy: 0.982 - ETA: 20:30 - loss: 0.0592 - accuracy: 0.982 - ETA: 20:29 - loss: 0.0595 - accuracy: 0.982 - ETA: 20:28 - loss: 0.0594 - accuracy: 0.982 - ETA: 20:27 - loss: 0.0593 - accuracy: 0.982 - ETA: 20:28 - loss: 0.0593 - accuracy: 0.982 - ETA: 20:28 - loss: 0.0594 - accuracy: 0.982 - ETA: 20:28 - loss: 0.0594 - accuracy: 0.982 - ETA: 20:27 - loss: 0.0595 - accuracy: 0.982 - ETA: 20:27 - loss: 0.0596 - accuracy: 0.981 - ETA: 20:27 - loss: 0.0595 - accuracy: 0.982 - ETA: 20:27 - loss: 0.0595 - accuracy: 0.982 - ETA: 20:27 - loss: 0.0595 - accuracy: 0.982 - ETA: 20:26 - loss: 0.0596 - accuracy: 0.982 - ETA: 20:26 - loss: 0.0595 - accuracy: 0.982 - ETA: 20:26 - loss: 0.0596 - accuracy: 0.982 - ETA: 20:25 - loss: 0.0597 - accuracy: 0.982 - ETA: 20:25 - loss: 0.0598 - accuracy: 0.981 - ETA: 20:24 - loss: 0.0598 - accuracy: 0.981 - ETA: 20:24 - loss: 0.0599 - accuracy: 0.981 - ETA: 20:23 - loss: 0.0599 - accuracy: 0.981 - ETA: 20:23 - loss: 0.0600 - accuracy: 0.981 - ETA: 20:23 - loss: 0.0602 - accuracy: 0.981 - ETA: 20:22 - loss: 0.0602 - accuracy: 0.981 - ETA: 20:21 - loss: 0.0601 - accuracy: 0.981 - ETA: 20:20 - loss: 0.0600 - accuracy: 0.981 - ETA: 20:20 - loss: 0.0600 - accuracy: 0.981 - ETA: 20:19 - loss: 0.0599 - accuracy: 0.981 - ETA: 20:19 - loss: 0.0599 - accuracy: 0.981 - ETA: 20:19 - loss: 0.0598 - accuracy: 0.982 - ETA: 20:18 - loss: 0.0599 - accuracy: 0.981 - ETA: 20:17 - loss: 0.0599 - accuracy: 0.981 - ETA: 20:17 - loss: 0.0598 - accuracy: 0.982 - ETA: 20:16 - loss: 0.0598 - accuracy: 0.981 - ETA: 20:16 - loss: 0.0597 - accuracy: 0.982 - ETA: 20:16 - loss: 0.0596 - accuracy: 0.982 - ETA: 20:15 - loss: 0.0595 - accuracy: 0.982 - ETA: 20:15 - loss: 0.0594 - accuracy: 0.982 - ETA: 20:14 - loss: 0.0594 - accuracy: 0.982 - ETA: 20:13 - loss: 0.0596 - accuracy: 0.982 - ETA: 20:13 - loss: 0.0596 - accuracy: 0.982 - ETA: 20:12 - loss: 0.0597 - accuracy: 0.982 - ETA: 20:12 - loss: 0.0597 - accuracy: 0.982 - ETA: 20:11 - loss: 0.0596 - accuracy: 0.982 - ETA: 20:11 - loss: 0.0595 - accuracy: 0.982 - ETA: 20:10 - loss: 0.0595 - accuracy: 0.982 - ETA: 20:09 - loss: 0.0595 - accuracy: 0.982 - ETA: 20:08 - loss: 0.0594 - accuracy: 0.982 - ETA: 20:08 - loss: 0.0594 - accuracy: 0.982 - ETA: 20:07 - loss: 0.0594 - accuracy: 0.982 - ETA: 20:06 - loss: 0.0595 - accuracy: 0.982 - ETA: 20:06 - loss: 0.0596 - accuracy: 0.982 - ETA: 20:05 - loss: 0.0595 - accuracy: 0.982 - ETA: 20:04 - loss: 0.0596 - accuracy: 0.982 - ETA: 20:04 - loss: 0.0597 - accuracy: 0.982 - ETA: 20:03 - loss: 0.0597 - accuracy: 0.982 - ETA: 20:03 - loss: 0.0598 - accuracy: 0.982 - ETA: 20:02 - loss: 0.0598 - accuracy: 0.981 - ETA: 20:02 - loss: 0.0598 - accuracy: 0.982 - ETA: 20:01 - loss: 0.0597 - accuracy: 0.982 - ETA: 20:01 - loss: 0.0598 - accuracy: 0.981 - ETA: 20:00 - loss: 0.0597 - accuracy: 0.982 - ETA: 20:00 - loss: 0.0598 - accuracy: 0.981 - ETA: 19:59 - loss: 0.0599 - accuracy: 0.981 - ETA: 19:59 - loss: 0.0600 - accuracy: 0.981 - ETA: 19:59 - loss: 0.0599 - accuracy: 0.981 - ETA: 19:58 - loss: 0.0599 - accuracy: 0.981 - ETA: 19:59 - loss: 0.0598 - accuracy: 0.981 - ETA: 19:59 - loss: 0.0598 - accuracy: 0.981 - ETA: 20:00 - loss: 0.0598 - accuracy: 0.981 - ETA: 20:00 - loss: 0.0597 - accuracy: 0.981 - ETA: 19:59 - loss: 0.0600 - accuracy: 0.981 - ETA: 19:58 - loss: 0.0600 - accuracy: 0.981 - ETA: 19:58 - loss: 0.0599 - accuracy: 0.981 - ETA: 19:58 - loss: 0.0603 - accuracy: 0.981 - ETA: 19:57 - loss: 0.0602 - accuracy: 0.981 - ETA: 19:57 - loss: 0.0602 - accuracy: 0.981 - ETA: 19:57 - loss: 0.0601 - accuracy: 0.981 - ETA: 19:57 - loss: 0.0600 - accuracy: 0.981 - ETA: 19:57 - loss: 0.0601 - accuracy: 0.981 - ETA: 19:57 - loss: 0.0603 - accuracy: 0.981 - ETA: 19:57 - loss: 0.0602 - accuracy: 0.981 - ETA: 19:56 - loss: 0.0603 - accuracy: 0.981 - ETA: 19:55 - loss: 0.0603 - accuracy: 0.981 - ETA: 19:55 - loss: 0.0603 - accuracy: 0.981 - ETA: 19:55 - loss: 0.0604 - accuracy: 0.981 - ETA: 19:54 - loss: 0.0604 - accuracy: 0.981 - ETA: 19:54 - loss: 0.0604 - accuracy: 0.981 - ETA: 19:53 - loss: 0.0604 - accuracy: 0.981 - ETA: 19:53 - loss: 0.0604 - accuracy: 0.981 - ETA: 19:52 - loss: 0.0604 - accuracy: 0.981 - ETA: 19:52 - loss: 0.0605 - accuracy: 0.981 - ETA: 19:51 - loss: 0.0604 - accuracy: 0.981 - ETA: 19:51 - loss: 0.0606 - accuracy: 0.981 - ETA: 19:50 - loss: 0.0606 - accuracy: 0.981 - ETA: 19:49 - loss: 0.0608 - accuracy: 0.981 - ETA: 19:49 - loss: 0.0607 - accuracy: 0.981 - ETA: 19:48 - loss: 0.0606 - accuracy: 0.981 - ETA: 19:47 - loss: 0.0606 - accuracy: 0.981 - ETA: 19:47 - loss: 0.0605 - accuracy: 0.981 - ETA: 19:46 - loss: 0.0605 - accuracy: 0.981 - ETA: 19:45 - loss: 0.0605 - accuracy: 0.981 - ETA: 19:44 - loss: 0.0604 - accuracy: 0.981 - ETA: 19:44 - loss: 0.0605 - accuracy: 0.981 - ETA: 19:43 - loss: 0.0605 - accuracy: 0.981 - ETA: 19:43 - loss: 0.0604 - accuracy: 0.9816 45568/140454 [========>.....................] - ETA: 19:42 - loss: 0.0604 - accuracy: 0.981 - ETA: 19:42 - loss: 0.0603 - accuracy: 0.981 - ETA: 19:41 - loss: 0.0603 - accuracy: 0.981 - ETA: 19:40 - loss: 0.0603 - accuracy: 0.981 - ETA: 19:39 - loss: 0.0603 - accuracy: 0.981 - ETA: 19:39 - loss: 0.0603 - accuracy: 0.981 - ETA: 19:38 - loss: 0.0603 - accuracy: 0.981 - ETA: 19:37 - loss: 0.0602 - accuracy: 0.981 - ETA: 19:36 - loss: 0.0603 - accuracy: 0.981 - ETA: 19:36 - loss: 0.0603 - accuracy: 0.981 - ETA: 19:35 - loss: 0.0604 - accuracy: 0.981 - ETA: 19:34 - loss: 0.0604 - accuracy: 0.981 - ETA: 19:33 - loss: 0.0605 - accuracy: 0.981 - ETA: 19:33 - loss: 0.0606 - accuracy: 0.981 - ETA: 19:33 - loss: 0.0605 - accuracy: 0.981 - ETA: 19:32 - loss: 0.0605 - accuracy: 0.981 - ETA: 19:31 - loss: 0.0604 - accuracy: 0.981 - ETA: 19:30 - loss: 0.0605 - accuracy: 0.981 - ETA: 19:30 - loss: 0.0604 - accuracy: 0.981 - ETA: 19:29 - loss: 0.0604 - accuracy: 0.981 - ETA: 19:29 - loss: 0.0604 - accuracy: 0.981 - ETA: 19:28 - loss: 0.0603 - accuracy: 0.981 - ETA: 19:27 - loss: 0.0603 - accuracy: 0.981 - ETA: 19:26 - loss: 0.0602 - accuracy: 0.981 - ETA: 19:26 - loss: 0.0603 - accuracy: 0.981 - ETA: 19:25 - loss: 0.0603 - accuracy: 0.981 - ETA: 19:25 - loss: 0.0603 - accuracy: 0.981 - ETA: 19:24 - loss: 0.0604 - accuracy: 0.981 - ETA: 19:24 - loss: 0.0605 - accuracy: 0.981 - ETA: 19:23 - loss: 0.0605 - accuracy: 0.981 - ETA: 19:22 - loss: 0.0607 - accuracy: 0.981 - ETA: 19:22 - loss: 0.0607 - accuracy: 0.981 - ETA: 19:21 - loss: 0.0608 - accuracy: 0.981 - ETA: 19:20 - loss: 0.0607 - accuracy: 0.981 - ETA: 19:19 - loss: 0.0606 - accuracy: 0.981 - ETA: 19:18 - loss: 0.0606 - accuracy: 0.981 - ETA: 19:18 - loss: 0.0605 - accuracy: 0.981 - ETA: 19:17 - loss: 0.0606 - accuracy: 0.981 - ETA: 19:16 - loss: 0.0605 - accuracy: 0.981 - ETA: 19:16 - loss: 0.0605 - accuracy: 0.981 - ETA: 19:15 - loss: 0.0605 - accuracy: 0.981 - ETA: 19:15 - loss: 0.0605 - accuracy: 0.981 - ETA: 19:14 - loss: 0.0607 - accuracy: 0.981 - ETA: 19:14 - loss: 0.0607 - accuracy: 0.981 - ETA: 19:13 - loss: 0.0606 - accuracy: 0.981 - ETA: 19:12 - loss: 0.0606 - accuracy: 0.981 - ETA: 19:11 - loss: 0.0607 - accuracy: 0.981 - ETA: 19:11 - loss: 0.0606 - accuracy: 0.981 - ETA: 19:10 - loss: 0.0606 - accuracy: 0.981 - ETA: 19:09 - loss: 0.0605 - accuracy: 0.981 - ETA: 19:08 - loss: 0.0604 - accuracy: 0.981 - ETA: 19:08 - loss: 0.0604 - accuracy: 0.981 - ETA: 19:07 - loss: 0.0603 - accuracy: 0.981 - ETA: 19:07 - loss: 0.0604 - accuracy: 0.981 - ETA: 19:07 - loss: 0.0605 - accuracy: 0.981 - ETA: 19:06 - loss: 0.0605 - accuracy: 0.981 - ETA: 19:06 - loss: 0.0605 - accuracy: 0.981 - ETA: 19:05 - loss: 0.0604 - accuracy: 0.981 - ETA: 19:04 - loss: 0.0604 - accuracy: 0.981 - ETA: 19:03 - loss: 0.0603 - accuracy: 0.981 - ETA: 19:03 - loss: 0.0603 - accuracy: 0.981 - ETA: 19:02 - loss: 0.0603 - accuracy: 0.981 - ETA: 19:01 - loss: 0.0602 - accuracy: 0.981 - ETA: 19:00 - loss: 0.0602 - accuracy: 0.981 - ETA: 19:00 - loss: 0.0601 - accuracy: 0.981 - ETA: 18:59 - loss: 0.0601 - accuracy: 0.981 - ETA: 18:58 - loss: 0.0600 - accuracy: 0.981 - ETA: 18:58 - loss: 0.0599 - accuracy: 0.981 - ETA: 18:57 - loss: 0.0599 - accuracy: 0.981 - ETA: 18:57 - loss: 0.0599 - accuracy: 0.981 - ETA: 18:56 - loss: 0.0598 - accuracy: 0.981 - ETA: 18:55 - loss: 0.0601 - accuracy: 0.981 - ETA: 18:54 - loss: 0.0601 - accuracy: 0.981 - ETA: 18:54 - loss: 0.0600 - accuracy: 0.981 - ETA: 18:53 - loss: 0.0601 - accuracy: 0.981 - ETA: 18:52 - loss: 0.0600 - accuracy: 0.981 - ETA: 18:51 - loss: 0.0600 - accuracy: 0.981 - ETA: 18:51 - loss: 0.0600 - accuracy: 0.981 - ETA: 18:50 - loss: 0.0601 - accuracy: 0.981 - ETA: 18:49 - loss: 0.0600 - accuracy: 0.981 - ETA: 18:48 - loss: 0.0599 - accuracy: 0.981 - ETA: 18:48 - loss: 0.0599 - accuracy: 0.981 - ETA: 18:47 - loss: 0.0599 - accuracy: 0.981 - ETA: 18:47 - loss: 0.0598 - accuracy: 0.981 - ETA: 18:46 - loss: 0.0598 - accuracy: 0.981 - ETA: 18:45 - loss: 0.0597 - accuracy: 0.981 - ETA: 18:44 - loss: 0.0599 - accuracy: 0.981 - ETA: 18:44 - loss: 0.0599 - accuracy: 0.981 - ETA: 18:43 - loss: 0.0599 - accuracy: 0.981 - ETA: 18:42 - loss: 0.0599 - accuracy: 0.981 - ETA: 18:41 - loss: 0.0599 - accuracy: 0.981 - ETA: 18:41 - loss: 0.0598 - accuracy: 0.981 - ETA: 18:40 - loss: 0.0599 - accuracy: 0.981 - ETA: 18:39 - loss: 0.0599 - accuracy: 0.981 - ETA: 18:38 - loss: 0.0598 - accuracy: 0.981 - ETA: 18:38 - loss: 0.0598 - accuracy: 0.981 - ETA: 18:37 - loss: 0.0597 - accuracy: 0.981 - ETA: 18:37 - loss: 0.0597 - accuracy: 0.981 - ETA: 18:36 - loss: 0.0597 - accuracy: 0.981 - ETA: 18:35 - loss: 0.0599 - accuracy: 0.981 - ETA: 18:35 - loss: 0.0599 - accuracy: 0.981 - ETA: 18:34 - loss: 0.0599 - accuracy: 0.981 - ETA: 18:34 - loss: 0.0599 - accuracy: 0.981 - ETA: 18:33 - loss: 0.0599 - accuracy: 0.981 - ETA: 18:32 - loss: 0.0599 - accuracy: 0.981 - ETA: 18:32 - loss: 0.0598 - accuracy: 0.981 - ETA: 18:31 - loss: 0.0598 - accuracy: 0.981 - ETA: 18:30 - loss: 0.0597 - accuracy: 0.981 - ETA: 18:29 - loss: 0.0596 - accuracy: 0.981 - ETA: 18:29 - loss: 0.0597 - accuracy: 0.981 - ETA: 18:29 - loss: 0.0596 - accuracy: 0.981 - ETA: 18:28 - loss: 0.0596 - accuracy: 0.981 - ETA: 18:27 - loss: 0.0597 - accuracy: 0.981 - ETA: 18:27 - loss: 0.0597 - accuracy: 0.981 - ETA: 18:26 - loss: 0.0598 - accuracy: 0.981 - ETA: 18:25 - loss: 0.0597 - accuracy: 0.981 - ETA: 18:24 - loss: 0.0597 - accuracy: 0.981 - ETA: 18:24 - loss: 0.0596 - accuracy: 0.981 - ETA: 18:23 - loss: 0.0596 - accuracy: 0.981 - ETA: 18:22 - loss: 0.0597 - accuracy: 0.981 - ETA: 18:21 - loss: 0.0597 - accuracy: 0.981 - ETA: 18:21 - loss: 0.0596 - accuracy: 0.981 - ETA: 18:20 - loss: 0.0595 - accuracy: 0.981 - ETA: 18:20 - loss: 0.0595 - accuracy: 0.981 - ETA: 18:19 - loss: 0.0595 - accuracy: 0.981 - ETA: 18:19 - loss: 0.0595 - accuracy: 0.981 - ETA: 18:18 - loss: 0.0595 - accuracy: 0.981 - ETA: 18:17 - loss: 0.0595 - accuracy: 0.981 - ETA: 18:16 - loss: 0.0596 - accuracy: 0.981 - ETA: 18:15 - loss: 0.0596 - accuracy: 0.981 - ETA: 18:15 - loss: 0.0596 - accuracy: 0.981 - ETA: 18:14 - loss: 0.0595 - accuracy: 0.981 - ETA: 18:13 - loss: 0.0595 - accuracy: 0.981 - ETA: 18:13 - loss: 0.0595 - accuracy: 0.981 - ETA: 18:12 - loss: 0.0595 - accuracy: 0.981 - ETA: 18:11 - loss: 0.0594 - accuracy: 0.981 - ETA: 18:11 - loss: 0.0594 - accuracy: 0.981 - ETA: 18:10 - loss: 0.0594 - accuracy: 0.981 - ETA: 18:10 - loss: 0.0593 - accuracy: 0.981 - ETA: 18:09 - loss: 0.0592 - accuracy: 0.981 - ETA: 18:09 - loss: 0.0592 - accuracy: 0.981 - ETA: 18:08 - loss: 0.0593 - accuracy: 0.981 - ETA: 18:07 - loss: 0.0593 - accuracy: 0.981 - ETA: 18:06 - loss: 0.0593 - accuracy: 0.981 - ETA: 18:06 - loss: 0.0595 - accuracy: 0.981 - ETA: 18:05 - loss: 0.0595 - accuracy: 0.981 - ETA: 18:04 - loss: 0.0596 - accuracy: 0.981 - ETA: 18:03 - loss: 0.0596 - accuracy: 0.981 - ETA: 18:03 - loss: 0.0598 - accuracy: 0.981 - ETA: 18:02 - loss: 0.0598 - accuracy: 0.981 - ETA: 18:01 - loss: 0.0597 - accuracy: 0.981 - ETA: 18:01 - loss: 0.0597 - accuracy: 0.981 - ETA: 18:00 - loss: 0.0597 - accuracy: 0.981 - ETA: 18:00 - loss: 0.0597 - accuracy: 0.981 - ETA: 17:59 - loss: 0.0597 - accuracy: 0.981 - ETA: 17:58 - loss: 0.0597 - accuracy: 0.981 - ETA: 17:57 - loss: 0.0597 - accuracy: 0.981 - ETA: 17:57 - loss: 0.0596 - accuracy: 0.981 - ETA: 17:56 - loss: 0.0596 - accuracy: 0.981 - ETA: 17:55 - loss: 0.0596 - accuracy: 0.981 - ETA: 17:54 - loss: 0.0596 - accuracy: 0.981 - ETA: 17:54 - loss: 0.0595 - accuracy: 0.981 - ETA: 17:53 - loss: 0.0596 - accuracy: 0.981 - ETA: 17:52 - loss: 0.0595 - accuracy: 0.981 - ETA: 17:52 - loss: 0.0595 - accuracy: 0.981 - ETA: 17:51 - loss: 0.0594 - accuracy: 0.981 - ETA: 17:51 - loss: 0.0594 - accuracy: 0.981 - ETA: 17:50 - loss: 0.0593 - accuracy: 0.981 - ETA: 17:50 - loss: 0.0593 - accuracy: 0.981 - ETA: 17:49 - loss: 0.0592 - accuracy: 0.981 - ETA: 17:48 - loss: 0.0592 - accuracy: 0.981 - ETA: 17:47 - loss: 0.0593 - accuracy: 0.981 - ETA: 17:47 - loss: 0.0595 - accuracy: 0.981 - ETA: 17:46 - loss: 0.0595 - accuracy: 0.981 - ETA: 17:45 - loss: 0.0595 - accuracy: 0.981 - ETA: 17:44 - loss: 0.0594 - accuracy: 0.981 - ETA: 17:44 - loss: 0.0594 - accuracy: 0.981 - ETA: 17:43 - loss: 0.0594 - accuracy: 0.9814 56960/140454 [===========>..................] - ETA: 17:43 - loss: 0.0593 - accuracy: 0.981 - ETA: 17:42 - loss: 0.0593 - accuracy: 0.981 - ETA: 17:41 - loss: 0.0593 - accuracy: 0.981 - ETA: 17:41 - loss: 0.0592 - accuracy: 0.981 - ETA: 17:40 - loss: 0.0592 - accuracy: 0.981 - ETA: 17:39 - loss: 0.0592 - accuracy: 0.981 - ETA: 17:39 - loss: 0.0592 - accuracy: 0.981 - ETA: 17:38 - loss: 0.0593 - accuracy: 0.981 - ETA: 17:38 - loss: 0.0592 - accuracy: 0.981 - ETA: 17:37 - loss: 0.0592 - accuracy: 0.981 - ETA: 17:36 - loss: 0.0593 - accuracy: 0.981 - ETA: 17:36 - loss: 0.0592 - accuracy: 0.981 - ETA: 17:35 - loss: 0.0592 - accuracy: 0.981 - ETA: 17:34 - loss: 0.0592 - accuracy: 0.981 - ETA: 17:33 - loss: 0.0594 - accuracy: 0.981 - ETA: 17:33 - loss: 0.0594 - accuracy: 0.981 - ETA: 17:32 - loss: 0.0593 - accuracy: 0.981 - ETA: 17:31 - loss: 0.0594 - accuracy: 0.981 - ETA: 17:31 - loss: 0.0595 - accuracy: 0.981 - ETA: 17:30 - loss: 0.0596 - accuracy: 0.981 - ETA: 17:29 - loss: 0.0596 - accuracy: 0.981 - ETA: 17:28 - loss: 0.0596 - accuracy: 0.981 - ETA: 17:28 - loss: 0.0595 - accuracy: 0.981 - ETA: 17:27 - loss: 0.0595 - accuracy: 0.981 - ETA: 17:26 - loss: 0.0595 - accuracy: 0.981 - ETA: 17:26 - loss: 0.0596 - accuracy: 0.981 - ETA: 17:25 - loss: 0.0596 - accuracy: 0.981 - ETA: 17:24 - loss: 0.0596 - accuracy: 0.981 - ETA: 17:23 - loss: 0.0595 - accuracy: 0.981 - ETA: 17:23 - loss: 0.0595 - accuracy: 0.981 - ETA: 17:22 - loss: 0.0594 - accuracy: 0.981 - ETA: 17:21 - loss: 0.0596 - accuracy: 0.981 - ETA: 17:20 - loss: 0.0597 - accuracy: 0.981 - ETA: 17:20 - loss: 0.0597 - accuracy: 0.981 - ETA: 17:19 - loss: 0.0598 - accuracy: 0.981 - ETA: 17:18 - loss: 0.0599 - accuracy: 0.981 - ETA: 17:17 - loss: 0.0598 - accuracy: 0.981 - ETA: 17:17 - loss: 0.0598 - accuracy: 0.981 - ETA: 17:16 - loss: 0.0598 - accuracy: 0.981 - ETA: 17:15 - loss: 0.0597 - accuracy: 0.981 - ETA: 17:15 - loss: 0.0597 - accuracy: 0.981 - ETA: 17:14 - loss: 0.0597 - accuracy: 0.981 - ETA: 17:13 - loss: 0.0597 - accuracy: 0.981 - ETA: 17:13 - loss: 0.0598 - accuracy: 0.981 - ETA: 17:12 - loss: 0.0598 - accuracy: 0.981 - ETA: 17:12 - loss: 0.0598 - accuracy: 0.981 - ETA: 17:11 - loss: 0.0597 - accuracy: 0.981 - ETA: 17:10 - loss: 0.0598 - accuracy: 0.981 - ETA: 17:10 - loss: 0.0599 - accuracy: 0.981 - ETA: 17:09 - loss: 0.0600 - accuracy: 0.981 - ETA: 17:08 - loss: 0.0599 - accuracy: 0.981 - ETA: 17:07 - loss: 0.0599 - accuracy: 0.981 - ETA: 17:07 - loss: 0.0600 - accuracy: 0.981 - ETA: 17:06 - loss: 0.0601 - accuracy: 0.981 - ETA: 17:05 - loss: 0.0600 - accuracy: 0.981 - ETA: 17:05 - loss: 0.0600 - accuracy: 0.981 - ETA: 17:04 - loss: 0.0600 - accuracy: 0.981 - ETA: 17:03 - loss: 0.0600 - accuracy: 0.981 - ETA: 17:03 - loss: 0.0599 - accuracy: 0.981 - ETA: 17:02 - loss: 0.0599 - accuracy: 0.981 - ETA: 17:01 - loss: 0.0601 - accuracy: 0.981 - ETA: 17:00 - loss: 0.0601 - accuracy: 0.981 - ETA: 17:00 - loss: 0.0601 - accuracy: 0.981 - ETA: 16:59 - loss: 0.0600 - accuracy: 0.981 - ETA: 16:58 - loss: 0.0601 - accuracy: 0.981 - ETA: 16:58 - loss: 0.0602 - accuracy: 0.981 - ETA: 16:57 - loss: 0.0602 - accuracy: 0.981 - ETA: 16:56 - loss: 0.0601 - accuracy: 0.981 - ETA: 16:56 - loss: 0.0601 - accuracy: 0.981 - ETA: 16:55 - loss: 0.0601 - accuracy: 0.981 - ETA: 16:54 - loss: 0.0601 - accuracy: 0.981 - ETA: 16:54 - loss: 0.0601 - accuracy: 0.981 - ETA: 16:53 - loss: 0.0600 - accuracy: 0.981 - ETA: 16:52 - loss: 0.0601 - accuracy: 0.981 - ETA: 16:51 - loss: 0.0602 - accuracy: 0.981 - ETA: 16:51 - loss: 0.0602 - accuracy: 0.981 - ETA: 16:50 - loss: 0.0604 - accuracy: 0.981 - ETA: 16:49 - loss: 0.0603 - accuracy: 0.981 - ETA: 16:48 - loss: 0.0603 - accuracy: 0.981 - ETA: 16:48 - loss: 0.0603 - accuracy: 0.981 - ETA: 16:47 - loss: 0.0604 - accuracy: 0.981 - ETA: 16:47 - loss: 0.0604 - accuracy: 0.981 - ETA: 16:46 - loss: 0.0604 - accuracy: 0.981 - ETA: 16:45 - loss: 0.0603 - accuracy: 0.981 - ETA: 16:44 - loss: 0.0603 - accuracy: 0.981 - ETA: 16:44 - loss: 0.0602 - accuracy: 0.981 - ETA: 16:43 - loss: 0.0602 - accuracy: 0.981 - ETA: 16:42 - loss: 0.0602 - accuracy: 0.981 - ETA: 16:42 - loss: 0.0602 - accuracy: 0.981 - ETA: 16:41 - loss: 0.0602 - accuracy: 0.981 - ETA: 16:40 - loss: 0.0602 - accuracy: 0.981 - ETA: 16:39 - loss: 0.0602 - accuracy: 0.981 - ETA: 16:39 - loss: 0.0601 - accuracy: 0.981 - ETA: 16:38 - loss: 0.0601 - accuracy: 0.981 - ETA: 16:37 - loss: 0.0602 - accuracy: 0.981 - ETA: 16:37 - loss: 0.0602 - accuracy: 0.981 - ETA: 16:36 - loss: 0.0601 - accuracy: 0.981 - ETA: 16:35 - loss: 0.0602 - accuracy: 0.981 - ETA: 16:34 - loss: 0.0603 - accuracy: 0.981 - ETA: 16:34 - loss: 0.0603 - accuracy: 0.981 - ETA: 16:33 - loss: 0.0602 - accuracy: 0.981 - ETA: 16:32 - loss: 0.0602 - accuracy: 0.981 - ETA: 16:32 - loss: 0.0602 - accuracy: 0.981 - ETA: 16:31 - loss: 0.0601 - accuracy: 0.981 - ETA: 16:30 - loss: 0.0601 - accuracy: 0.981 - ETA: 16:29 - loss: 0.0600 - accuracy: 0.981 - ETA: 16:29 - loss: 0.0602 - accuracy: 0.981 - ETA: 16:28 - loss: 0.0601 - accuracy: 0.981 - ETA: 16:27 - loss: 0.0601 - accuracy: 0.981 - ETA: 16:27 - loss: 0.0600 - accuracy: 0.981 - ETA: 16:26 - loss: 0.0600 - accuracy: 0.981 - ETA: 16:26 - loss: 0.0600 - accuracy: 0.981 - ETA: 16:25 - loss: 0.0601 - accuracy: 0.981 - ETA: 16:24 - loss: 0.0602 - accuracy: 0.981 - ETA: 16:23 - loss: 0.0601 - accuracy: 0.981 - ETA: 16:22 - loss: 0.0602 - accuracy: 0.981 - ETA: 16:22 - loss: 0.0602 - accuracy: 0.981 - ETA: 16:21 - loss: 0.0601 - accuracy: 0.981 - ETA: 16:20 - loss: 0.0601 - accuracy: 0.981 - ETA: 16:20 - loss: 0.0602 - accuracy: 0.981 - ETA: 16:19 - loss: 0.0602 - accuracy: 0.981 - ETA: 16:18 - loss: 0.0602 - accuracy: 0.981 - ETA: 16:18 - loss: 0.0601 - accuracy: 0.981 - ETA: 16:17 - loss: 0.0601 - accuracy: 0.981 - ETA: 16:16 - loss: 0.0601 - accuracy: 0.981 - ETA: 16:16 - loss: 0.0602 - accuracy: 0.981 - ETA: 16:15 - loss: 0.0601 - accuracy: 0.981 - ETA: 16:14 - loss: 0.0602 - accuracy: 0.981 - ETA: 16:14 - loss: 0.0602 - accuracy: 0.981 - ETA: 16:13 - loss: 0.0602 - accuracy: 0.981 - ETA: 16:13 - loss: 0.0602 - accuracy: 0.981 - ETA: 16:12 - loss: 0.0602 - accuracy: 0.981 - ETA: 16:11 - loss: 0.0602 - accuracy: 0.981 - ETA: 16:10 - loss: 0.0602 - accuracy: 0.981 - ETA: 16:10 - loss: 0.0601 - accuracy: 0.981 - ETA: 16:09 - loss: 0.0601 - accuracy: 0.981 - ETA: 16:09 - loss: 0.0601 - accuracy: 0.981 - ETA: 16:08 - loss: 0.0601 - accuracy: 0.981 - ETA: 16:07 - loss: 0.0601 - accuracy: 0.981 - ETA: 16:06 - loss: 0.0601 - accuracy: 0.981 - ETA: 16:06 - loss: 0.0601 - accuracy: 0.981 - ETA: 16:05 - loss: 0.0601 - accuracy: 0.981 - ETA: 16:04 - loss: 0.0601 - accuracy: 0.981 - ETA: 16:03 - loss: 0.0600 - accuracy: 0.981 - ETA: 16:03 - loss: 0.0600 - accuracy: 0.981 - ETA: 16:02 - loss: 0.0601 - accuracy: 0.981 - ETA: 16:01 - loss: 0.0601 - accuracy: 0.981 - ETA: 16:00 - loss: 0.0600 - accuracy: 0.981 - ETA: 16:00 - loss: 0.0600 - accuracy: 0.981 - ETA: 15:59 - loss: 0.0600 - accuracy: 0.981 - ETA: 15:58 - loss: 0.0601 - accuracy: 0.981 - ETA: 15:58 - loss: 0.0600 - accuracy: 0.981 - ETA: 15:57 - loss: 0.0602 - accuracy: 0.981 - ETA: 15:56 - loss: 0.0601 - accuracy: 0.981 - ETA: 15:55 - loss: 0.0600 - accuracy: 0.981 - ETA: 15:55 - loss: 0.0601 - accuracy: 0.981 - ETA: 15:54 - loss: 0.0600 - accuracy: 0.981 - ETA: 15:53 - loss: 0.0600 - accuracy: 0.981 - ETA: 15:53 - loss: 0.0600 - accuracy: 0.981 - ETA: 15:52 - loss: 0.0601 - accuracy: 0.981 - ETA: 15:51 - loss: 0.0601 - accuracy: 0.981 - ETA: 15:50 - loss: 0.0602 - accuracy: 0.981 - ETA: 15:50 - loss: 0.0602 - accuracy: 0.981 - ETA: 15:49 - loss: 0.0602 - accuracy: 0.981 - ETA: 15:48 - loss: 0.0602 - accuracy: 0.981 - ETA: 15:48 - loss: 0.0602 - accuracy: 0.981 - ETA: 15:47 - loss: 0.0602 - accuracy: 0.981 - ETA: 15:46 - loss: 0.0603 - accuracy: 0.981 - ETA: 15:45 - loss: 0.0602 - accuracy: 0.981 - ETA: 15:45 - loss: 0.0602 - accuracy: 0.981 - ETA: 15:44 - loss: 0.0602 - accuracy: 0.981 - ETA: 15:43 - loss: 0.0604 - accuracy: 0.981 - ETA: 15:43 - loss: 0.0603 - accuracy: 0.981 - ETA: 15:42 - loss: 0.0603 - accuracy: 0.981 - ETA: 15:41 - loss: 0.0603 - accuracy: 0.981 - ETA: 15:40 - loss: 0.0603 - accuracy: 0.981 - ETA: 15:40 - loss: 0.0604 - accuracy: 0.981 - ETA: 15:39 - loss: 0.0605 - accuracy: 0.9813 68352/140454 [=============>................] - ETA: 15:39 - loss: 0.0604 - accuracy: 0.981 - ETA: 15:38 - loss: 0.0604 - accuracy: 0.981 - ETA: 15:37 - loss: 0.0604 - accuracy: 0.981 - ETA: 15:36 - loss: 0.0603 - accuracy: 0.981 - ETA: 15:36 - loss: 0.0603 - accuracy: 0.981 - ETA: 15:35 - loss: 0.0603 - accuracy: 0.981 - ETA: 15:34 - loss: 0.0603 - accuracy: 0.981 - ETA: 15:33 - loss: 0.0603 - accuracy: 0.981 - ETA: 15:33 - loss: 0.0602 - accuracy: 0.981 - ETA: 15:32 - loss: 0.0603 - accuracy: 0.981 - ETA: 15:31 - loss: 0.0602 - accuracy: 0.981 - ETA: 15:31 - loss: 0.0602 - accuracy: 0.981 - ETA: 15:30 - loss: 0.0602 - accuracy: 0.981 - ETA: 15:29 - loss: 0.0602 - accuracy: 0.981 - ETA: 15:28 - loss: 0.0602 - accuracy: 0.981 - ETA: 15:28 - loss: 0.0603 - accuracy: 0.981 - ETA: 15:27 - loss: 0.0603 - accuracy: 0.981 - ETA: 15:26 - loss: 0.0604 - accuracy: 0.981 - ETA: 15:26 - loss: 0.0603 - accuracy: 0.981 - ETA: 15:25 - loss: 0.0603 - accuracy: 0.981 - ETA: 15:24 - loss: 0.0603 - accuracy: 0.981 - ETA: 15:23 - loss: 0.0603 - accuracy: 0.981 - ETA: 15:23 - loss: 0.0602 - accuracy: 0.981 - ETA: 15:22 - loss: 0.0602 - accuracy: 0.981 - ETA: 15:21 - loss: 0.0602 - accuracy: 0.981 - ETA: 15:21 - loss: 0.0603 - accuracy: 0.981 - ETA: 15:20 - loss: 0.0603 - accuracy: 0.981 - ETA: 15:19 - loss: 0.0603 - accuracy: 0.981 - ETA: 15:19 - loss: 0.0604 - accuracy: 0.981 - ETA: 15:18 - loss: 0.0604 - accuracy: 0.981 - ETA: 15:17 - loss: 0.0604 - accuracy: 0.981 - ETA: 15:16 - loss: 0.0605 - accuracy: 0.981 - ETA: 15:16 - loss: 0.0605 - accuracy: 0.981 - ETA: 15:15 - loss: 0.0605 - accuracy: 0.981 - ETA: 15:14 - loss: 0.0604 - accuracy: 0.981 - ETA: 15:14 - loss: 0.0605 - accuracy: 0.981 - ETA: 15:13 - loss: 0.0604 - accuracy: 0.981 - ETA: 15:12 - loss: 0.0604 - accuracy: 0.981 - ETA: 15:12 - loss: 0.0604 - accuracy: 0.981 - ETA: 15:11 - loss: 0.0606 - accuracy: 0.981 - ETA: 15:10 - loss: 0.0606 - accuracy: 0.981 - ETA: 15:10 - loss: 0.0605 - accuracy: 0.981 - ETA: 15:09 - loss: 0.0605 - accuracy: 0.981 - ETA: 15:08 - loss: 0.0605 - accuracy: 0.981 - ETA: 15:08 - loss: 0.0605 - accuracy: 0.981 - ETA: 15:07 - loss: 0.0605 - accuracy: 0.981 - ETA: 15:06 - loss: 0.0605 - accuracy: 0.981 - ETA: 15:05 - loss: 0.0606 - accuracy: 0.981 - ETA: 15:05 - loss: 0.0605 - accuracy: 0.981 - ETA: 15:04 - loss: 0.0606 - accuracy: 0.981 - ETA: 15:03 - loss: 0.0605 - accuracy: 0.981 - ETA: 15:02 - loss: 0.0605 - accuracy: 0.981 - ETA: 15:02 - loss: 0.0605 - accuracy: 0.981 - ETA: 15:01 - loss: 0.0606 - accuracy: 0.981 - ETA: 15:00 - loss: 0.0605 - accuracy: 0.981 - ETA: 15:00 - loss: 0.0606 - accuracy: 0.981 - ETA: 14:59 - loss: 0.0605 - accuracy: 0.981 - ETA: 14:58 - loss: 0.0605 - accuracy: 0.981 - ETA: 14:58 - loss: 0.0605 - accuracy: 0.981 - ETA: 14:57 - loss: 0.0604 - accuracy: 0.981 - ETA: 14:56 - loss: 0.0605 - accuracy: 0.981 - ETA: 14:55 - loss: 0.0605 - accuracy: 0.981 - ETA: 14:55 - loss: 0.0605 - accuracy: 0.981 - ETA: 14:54 - loss: 0.0604 - accuracy: 0.981 - ETA: 14:53 - loss: 0.0604 - accuracy: 0.981 - ETA: 14:52 - loss: 0.0605 - accuracy: 0.981 - ETA: 14:52 - loss: 0.0605 - accuracy: 0.981 - ETA: 14:51 - loss: 0.0604 - accuracy: 0.981 - ETA: 14:50 - loss: 0.0605 - accuracy: 0.981 - ETA: 14:50 - loss: 0.0606 - accuracy: 0.981 - ETA: 14:49 - loss: 0.0605 - accuracy: 0.981 - ETA: 14:48 - loss: 0.0606 - accuracy: 0.981 - ETA: 14:47 - loss: 0.0606 - accuracy: 0.981 - ETA: 14:47 - loss: 0.0607 - accuracy: 0.981 - ETA: 14:46 - loss: 0.0607 - accuracy: 0.981 - ETA: 14:45 - loss: 0.0607 - accuracy: 0.981 - ETA: 14:45 - loss: 0.0607 - accuracy: 0.981 - ETA: 14:44 - loss: 0.0607 - accuracy: 0.981 - ETA: 14:43 - loss: 0.0607 - accuracy: 0.981 - ETA: 14:42 - loss: 0.0609 - accuracy: 0.981 - ETA: 14:42 - loss: 0.0612 - accuracy: 0.981 - ETA: 14:41 - loss: 0.0611 - accuracy: 0.981 - ETA: 14:40 - loss: 0.0612 - accuracy: 0.981 - ETA: 14:40 - loss: 0.0613 - accuracy: 0.981 - ETA: 14:39 - loss: 0.0613 - accuracy: 0.981 - ETA: 14:38 - loss: 0.0613 - accuracy: 0.981 - ETA: 14:37 - loss: 0.0614 - accuracy: 0.981 - ETA: 14:37 - loss: 0.0613 - accuracy: 0.981 - ETA: 14:36 - loss: 0.0614 - accuracy: 0.981 - ETA: 14:35 - loss: 0.0613 - accuracy: 0.981 - ETA: 14:34 - loss: 0.0613 - accuracy: 0.981 - ETA: 14:34 - loss: 0.0614 - accuracy: 0.981 - ETA: 14:33 - loss: 0.0615 - accuracy: 0.981 - ETA: 14:32 - loss: 0.0615 - accuracy: 0.981 - ETA: 14:31 - loss: 0.0615 - accuracy: 0.981 - ETA: 14:31 - loss: 0.0614 - accuracy: 0.981 - ETA: 14:30 - loss: 0.0614 - accuracy: 0.981 - ETA: 14:30 - loss: 0.0615 - accuracy: 0.981 - ETA: 14:29 - loss: 0.0614 - accuracy: 0.981 - ETA: 14:28 - loss: 0.0614 - accuracy: 0.981 - ETA: 14:27 - loss: 0.0615 - accuracy: 0.981 - ETA: 14:27 - loss: 0.0615 - accuracy: 0.981 - ETA: 14:26 - loss: 0.0615 - accuracy: 0.981 - ETA: 14:25 - loss: 0.0614 - accuracy: 0.981 - ETA: 14:24 - loss: 0.0615 - accuracy: 0.981 - ETA: 14:24 - loss: 0.0614 - accuracy: 0.981 - ETA: 14:23 - loss: 0.0614 - accuracy: 0.981 - ETA: 14:22 - loss: 0.0615 - accuracy: 0.981 - ETA: 14:22 - loss: 0.0615 - accuracy: 0.981 - ETA: 14:21 - loss: 0.0616 - accuracy: 0.981 - ETA: 14:20 - loss: 0.0617 - accuracy: 0.980 - ETA: 14:20 - loss: 0.0617 - accuracy: 0.980 - ETA: 14:19 - loss: 0.0617 - accuracy: 0.980 - ETA: 14:18 - loss: 0.0617 - accuracy: 0.980 - ETA: 14:17 - loss: 0.0617 - accuracy: 0.980 - ETA: 14:17 - loss: 0.0617 - accuracy: 0.980 - ETA: 14:16 - loss: 0.0617 - accuracy: 0.980 - ETA: 14:15 - loss: 0.0617 - accuracy: 0.980 - ETA: 14:15 - loss: 0.0618 - accuracy: 0.980 - ETA: 14:14 - loss: 0.0618 - accuracy: 0.980 - ETA: 14:13 - loss: 0.0618 - accuracy: 0.980 - ETA: 14:13 - loss: 0.0618 - accuracy: 0.980 - ETA: 14:12 - loss: 0.0618 - accuracy: 0.980 - ETA: 14:11 - loss: 0.0618 - accuracy: 0.980 - ETA: 14:11 - loss: 0.0618 - accuracy: 0.980 - ETA: 14:10 - loss: 0.0619 - accuracy: 0.980 - ETA: 14:09 - loss: 0.0619 - accuracy: 0.980 - ETA: 14:08 - loss: 0.0618 - accuracy: 0.980 - ETA: 14:08 - loss: 0.0619 - accuracy: 0.980 - ETA: 14:07 - loss: 0.0619 - accuracy: 0.980 - ETA: 14:06 - loss: 0.0618 - accuracy: 0.980 - ETA: 14:05 - loss: 0.0619 - accuracy: 0.980 - ETA: 14:05 - loss: 0.0619 - accuracy: 0.980 - ETA: 14:04 - loss: 0.0618 - accuracy: 0.980 - ETA: 14:03 - loss: 0.0618 - accuracy: 0.980 - ETA: 14:03 - loss: 0.0618 - accuracy: 0.980 - ETA: 14:02 - loss: 0.0620 - accuracy: 0.980 - ETA: 14:01 - loss: 0.0619 - accuracy: 0.980 - ETA: 14:01 - loss: 0.0619 - accuracy: 0.980 - ETA: 14:00 - loss: 0.0618 - accuracy: 0.980 - ETA: 13:59 - loss: 0.0618 - accuracy: 0.980 - ETA: 13:59 - loss: 0.0618 - accuracy: 0.980 - ETA: 13:58 - loss: 0.0619 - accuracy: 0.980 - ETA: 13:57 - loss: 0.0618 - accuracy: 0.980 - ETA: 13:56 - loss: 0.0618 - accuracy: 0.980 - ETA: 13:56 - loss: 0.0618 - accuracy: 0.980 - ETA: 13:55 - loss: 0.0618 - accuracy: 0.980 - ETA: 13:54 - loss: 0.0618 - accuracy: 0.980 - ETA: 13:54 - loss: 0.0617 - accuracy: 0.980 - ETA: 13:53 - loss: 0.0617 - accuracy: 0.980 - ETA: 13:52 - loss: 0.0619 - accuracy: 0.980 - ETA: 13:52 - loss: 0.0619 - accuracy: 0.980 - ETA: 13:51 - loss: 0.0619 - accuracy: 0.980 - ETA: 13:50 - loss: 0.0619 - accuracy: 0.980 - ETA: 13:49 - loss: 0.0619 - accuracy: 0.980 - ETA: 13:49 - loss: 0.0619 - accuracy: 0.980 - ETA: 13:48 - loss: 0.0619 - accuracy: 0.980 - ETA: 13:47 - loss: 0.0619 - accuracy: 0.980 - ETA: 13:47 - loss: 0.0619 - accuracy: 0.980 - ETA: 13:46 - loss: 0.0620 - accuracy: 0.980 - ETA: 13:45 - loss: 0.0621 - accuracy: 0.980 - ETA: 13:44 - loss: 0.0621 - accuracy: 0.980 - ETA: 13:44 - loss: 0.0621 - accuracy: 0.980 - ETA: 13:43 - loss: 0.0621 - accuracy: 0.980 - ETA: 13:42 - loss: 0.0621 - accuracy: 0.980 - ETA: 13:42 - loss: 0.0620 - accuracy: 0.980 - ETA: 13:41 - loss: 0.0620 - accuracy: 0.980 - ETA: 13:40 - loss: 0.0619 - accuracy: 0.980 - ETA: 13:40 - loss: 0.0620 - accuracy: 0.980 - ETA: 13:39 - loss: 0.0621 - accuracy: 0.980 - ETA: 13:38 - loss: 0.0621 - accuracy: 0.980 - ETA: 13:37 - loss: 0.0622 - accuracy: 0.980 - ETA: 13:37 - loss: 0.0622 - accuracy: 0.980 - ETA: 13:36 - loss: 0.0622 - accuracy: 0.980 - ETA: 13:35 - loss: 0.0622 - accuracy: 0.980 - ETA: 13:34 - loss: 0.0623 - accuracy: 0.980 - ETA: 13:34 - loss: 0.0624 - accuracy: 0.980 - ETA: 13:33 - loss: 0.0624 - accuracy: 0.9807 79744/140454 [================>.............] - ETA: 13:32 - loss: 0.0624 - accuracy: 0.980 - ETA: 13:32 - loss: 0.0625 - accuracy: 0.980 - ETA: 13:31 - loss: 0.0625 - accuracy: 0.980 - ETA: 13:30 - loss: 0.0625 - accuracy: 0.980 - ETA: 13:30 - loss: 0.0625 - accuracy: 0.980 - ETA: 13:29 - loss: 0.0625 - accuracy: 0.980 - ETA: 13:28 - loss: 0.0626 - accuracy: 0.980 - ETA: 13:27 - loss: 0.0627 - accuracy: 0.980 - ETA: 13:26 - loss: 0.0628 - accuracy: 0.980 - ETA: 13:26 - loss: 0.0628 - accuracy: 0.980 - ETA: 13:25 - loss: 0.0628 - accuracy: 0.980 - ETA: 13:24 - loss: 0.0628 - accuracy: 0.980 - ETA: 13:24 - loss: 0.0629 - accuracy: 0.980 - ETA: 13:23 - loss: 0.0629 - accuracy: 0.980 - ETA: 13:22 - loss: 0.0629 - accuracy: 0.980 - ETA: 13:22 - loss: 0.0628 - accuracy: 0.980 - ETA: 13:21 - loss: 0.0628 - accuracy: 0.980 - ETA: 13:20 - loss: 0.0628 - accuracy: 0.980 - ETA: 13:19 - loss: 0.0628 - accuracy: 0.980 - ETA: 13:19 - loss: 0.0628 - accuracy: 0.980 - ETA: 13:18 - loss: 0.0628 - accuracy: 0.980 - ETA: 13:17 - loss: 0.0629 - accuracy: 0.980 - ETA: 13:17 - loss: 0.0629 - accuracy: 0.980 - ETA: 13:16 - loss: 0.0629 - accuracy: 0.980 - ETA: 13:15 - loss: 0.0630 - accuracy: 0.980 - ETA: 13:15 - loss: 0.0629 - accuracy: 0.980 - ETA: 13:14 - loss: 0.0629 - accuracy: 0.980 - ETA: 13:13 - loss: 0.0629 - accuracy: 0.980 - ETA: 13:13 - loss: 0.0629 - accuracy: 0.980 - ETA: 13:12 - loss: 0.0629 - accuracy: 0.980 - ETA: 13:11 - loss: 0.0629 - accuracy: 0.980 - ETA: 13:10 - loss: 0.0629 - accuracy: 0.980 - ETA: 13:10 - loss: 0.0629 - accuracy: 0.980 - ETA: 13:09 - loss: 0.0629 - accuracy: 0.980 - ETA: 13:08 - loss: 0.0629 - accuracy: 0.980 - ETA: 13:07 - loss: 0.0629 - accuracy: 0.980 - ETA: 13:07 - loss: 0.0629 - accuracy: 0.980 - ETA: 13:06 - loss: 0.0629 - accuracy: 0.980 - ETA: 13:05 - loss: 0.0629 - accuracy: 0.980 - ETA: 13:05 - loss: 0.0629 - accuracy: 0.980 - ETA: 13:04 - loss: 0.0629 - accuracy: 0.980 - ETA: 13:03 - loss: 0.0628 - accuracy: 0.980 - ETA: 13:02 - loss: 0.0629 - accuracy: 0.980 - ETA: 13:02 - loss: 0.0629 - accuracy: 0.980 - ETA: 13:01 - loss: 0.0629 - accuracy: 0.980 - ETA: 13:00 - loss: 0.0629 - accuracy: 0.980 - ETA: 12:59 - loss: 0.0629 - accuracy: 0.980 - ETA: 12:59 - loss: 0.0628 - accuracy: 0.980 - ETA: 12:58 - loss: 0.0628 - accuracy: 0.980 - ETA: 12:57 - loss: 0.0628 - accuracy: 0.980 - ETA: 12:56 - loss: 0.0628 - accuracy: 0.980 - ETA: 12:56 - loss: 0.0628 - accuracy: 0.980 - ETA: 12:55 - loss: 0.0627 - accuracy: 0.980 - ETA: 12:54 - loss: 0.0627 - accuracy: 0.980 - ETA: 12:54 - loss: 0.0628 - accuracy: 0.980 - ETA: 12:53 - loss: 0.0627 - accuracy: 0.980 - ETA: 12:52 - loss: 0.0628 - accuracy: 0.980 - ETA: 12:51 - loss: 0.0629 - accuracy: 0.980 - ETA: 12:51 - loss: 0.0628 - accuracy: 0.980 - ETA: 12:50 - loss: 0.0630 - accuracy: 0.980 - ETA: 12:49 - loss: 0.0629 - accuracy: 0.980 - ETA: 12:48 - loss: 0.0630 - accuracy: 0.980 - ETA: 12:48 - loss: 0.0630 - accuracy: 0.980 - ETA: 12:47 - loss: 0.0630 - accuracy: 0.980 - ETA: 12:46 - loss: 0.0630 - accuracy: 0.980 - ETA: 12:46 - loss: 0.0630 - accuracy: 0.980 - ETA: 12:45 - loss: 0.0630 - accuracy: 0.980 - ETA: 12:44 - loss: 0.0631 - accuracy: 0.980 - ETA: 12:43 - loss: 0.0631 - accuracy: 0.980 - ETA: 12:43 - loss: 0.0630 - accuracy: 0.980 - ETA: 12:42 - loss: 0.0630 - accuracy: 0.980 - ETA: 12:41 - loss: 0.0629 - accuracy: 0.980 - ETA: 12:41 - loss: 0.0630 - accuracy: 0.980 - ETA: 12:40 - loss: 0.0630 - accuracy: 0.980 - ETA: 12:39 - loss: 0.0630 - accuracy: 0.980 - ETA: 12:38 - loss: 0.0631 - accuracy: 0.980 - ETA: 12:38 - loss: 0.0630 - accuracy: 0.980 - ETA: 12:37 - loss: 0.0630 - accuracy: 0.980 - ETA: 12:36 - loss: 0.0630 - accuracy: 0.980 - ETA: 12:35 - loss: 0.0630 - accuracy: 0.980 - ETA: 12:35 - loss: 0.0630 - accuracy: 0.980 - ETA: 12:34 - loss: 0.0630 - accuracy: 0.980 - ETA: 12:33 - loss: 0.0630 - accuracy: 0.980 - ETA: 12:32 - loss: 0.0630 - accuracy: 0.980 - ETA: 12:32 - loss: 0.0629 - accuracy: 0.980 - ETA: 12:31 - loss: 0.0629 - accuracy: 0.980 - ETA: 12:30 - loss: 0.0630 - accuracy: 0.980 - ETA: 12:29 - loss: 0.0630 - accuracy: 0.980 - ETA: 12:29 - loss: 0.0630 - accuracy: 0.980 - ETA: 12:28 - loss: 0.0630 - accuracy: 0.980 - ETA: 12:27 - loss: 0.0630 - accuracy: 0.980 - ETA: 12:27 - loss: 0.0631 - accuracy: 0.980 - ETA: 12:26 - loss: 0.0631 - accuracy: 0.980 - ETA: 12:25 - loss: 0.0631 - accuracy: 0.980 - ETA: 12:24 - loss: 0.0631 - accuracy: 0.980 - ETA: 12:24 - loss: 0.0630 - accuracy: 0.980 - ETA: 12:23 - loss: 0.0631 - accuracy: 0.980 - ETA: 12:22 - loss: 0.0631 - accuracy: 0.980 - ETA: 12:21 - loss: 0.0631 - accuracy: 0.980 - ETA: 12:21 - loss: 0.0632 - accuracy: 0.980 - ETA: 12:20 - loss: 0.0633 - accuracy: 0.980 - ETA: 12:19 - loss: 0.0633 - accuracy: 0.980 - ETA: 12:18 - loss: 0.0633 - accuracy: 0.980 - ETA: 12:18 - loss: 0.0633 - accuracy: 0.980 - ETA: 12:17 - loss: 0.0633 - accuracy: 0.980 - ETA: 12:16 - loss: 0.0632 - accuracy: 0.980 - ETA: 12:15 - loss: 0.0632 - accuracy: 0.980 - ETA: 12:15 - loss: 0.0633 - accuracy: 0.980 - ETA: 12:14 - loss: 0.0632 - accuracy: 0.980 - ETA: 12:13 - loss: 0.0633 - accuracy: 0.980 - ETA: 12:13 - loss: 0.0632 - accuracy: 0.980 - ETA: 12:12 - loss: 0.0633 - accuracy: 0.980 - ETA: 12:11 - loss: 0.0632 - accuracy: 0.980 - ETA: 12:11 - loss: 0.0632 - accuracy: 0.980 - ETA: 12:10 - loss: 0.0633 - accuracy: 0.980 - ETA: 12:09 - loss: 0.0632 - accuracy: 0.980 - ETA: 12:09 - loss: 0.0632 - accuracy: 0.980 - ETA: 12:08 - loss: 0.0632 - accuracy: 0.980 - ETA: 12:07 - loss: 0.0632 - accuracy: 0.980 - ETA: 12:07 - loss: 0.0632 - accuracy: 0.980 - ETA: 12:06 - loss: 0.0632 - accuracy: 0.980 - ETA: 12:05 - loss: 0.0633 - accuracy: 0.980 - ETA: 12:05 - loss: 0.0633 - accuracy: 0.980 - ETA: 12:04 - loss: 0.0634 - accuracy: 0.980 - ETA: 12:03 - loss: 0.0634 - accuracy: 0.980 - ETA: 12:03 - loss: 0.0634 - accuracy: 0.980 - ETA: 12:02 - loss: 0.0634 - accuracy: 0.980 - ETA: 12:01 - loss: 0.0634 - accuracy: 0.980 - ETA: 12:00 - loss: 0.0634 - accuracy: 0.980 - ETA: 12:00 - loss: 0.0634 - accuracy: 0.980 - ETA: 11:59 - loss: 0.0634 - accuracy: 0.980 - ETA: 11:58 - loss: 0.0633 - accuracy: 0.980 - ETA: 11:58 - loss: 0.0633 - accuracy: 0.980 - ETA: 11:57 - loss: 0.0633 - accuracy: 0.980 - ETA: 11:56 - loss: 0.0633 - accuracy: 0.980 - ETA: 11:55 - loss: 0.0633 - accuracy: 0.980 - ETA: 11:54 - loss: 0.0633 - accuracy: 0.980 - ETA: 11:54 - loss: 0.0633 - accuracy: 0.980 - ETA: 11:53 - loss: 0.0635 - accuracy: 0.980 - ETA: 11:52 - loss: 0.0635 - accuracy: 0.980 - ETA: 11:51 - loss: 0.0635 - accuracy: 0.980 - ETA: 11:50 - loss: 0.0635 - accuracy: 0.980 - ETA: 11:50 - loss: 0.0636 - accuracy: 0.980 - ETA: 11:49 - loss: 0.0636 - accuracy: 0.980 - ETA: 11:48 - loss: 0.0635 - accuracy: 0.980 - ETA: 11:47 - loss: 0.0635 - accuracy: 0.980 - ETA: 11:46 - loss: 0.0635 - accuracy: 0.980 - ETA: 11:46 - loss: 0.0634 - accuracy: 0.980 - ETA: 11:45 - loss: 0.0636 - accuracy: 0.980 - ETA: 11:44 - loss: 0.0636 - accuracy: 0.980 - ETA: 11:43 - loss: 0.0636 - accuracy: 0.980 - ETA: 11:42 - loss: 0.0636 - accuracy: 0.980 - ETA: 11:42 - loss: 0.0637 - accuracy: 0.980 - ETA: 11:41 - loss: 0.0637 - accuracy: 0.980 - ETA: 11:40 - loss: 0.0637 - accuracy: 0.980 - ETA: 11:39 - loss: 0.0637 - accuracy: 0.980 - ETA: 11:38 - loss: 0.0637 - accuracy: 0.980 - ETA: 11:37 - loss: 0.0637 - accuracy: 0.980 - ETA: 11:37 - loss: 0.0638 - accuracy: 0.980 - ETA: 11:36 - loss: 0.0637 - accuracy: 0.980 - ETA: 11:35 - loss: 0.0638 - accuracy: 0.980 - ETA: 11:34 - loss: 0.0638 - accuracy: 0.980 - ETA: 11:33 - loss: 0.0637 - accuracy: 0.980 - ETA: 11:33 - loss: 0.0637 - accuracy: 0.980 - ETA: 11:32 - loss: 0.0637 - accuracy: 0.980 - ETA: 11:31 - loss: 0.0637 - accuracy: 0.980 - ETA: 11:30 - loss: 0.0637 - accuracy: 0.980 - ETA: 11:29 - loss: 0.0637 - accuracy: 0.980 - ETA: 11:29 - loss: 0.0636 - accuracy: 0.980 - ETA: 11:28 - loss: 0.0636 - accuracy: 0.980 - ETA: 11:27 - loss: 0.0636 - accuracy: 0.980 - ETA: 11:26 - loss: 0.0636 - accuracy: 0.980 - ETA: 11:25 - loss: 0.0636 - accuracy: 0.980 - ETA: 11:25 - loss: 0.0636 - accuracy: 0.980 - ETA: 11:24 - loss: 0.0636 - accuracy: 0.980 - ETA: 11:23 - loss: 0.0636 - accuracy: 0.980 - ETA: 11:22 - loss: 0.0636 - accuracy: 0.980 - ETA: 11:21 - loss: 0.0635 - accuracy: 0.9803 91328/140454 [==================>...........] - ETA: 11:20 - loss: 0.0635 - accuracy: 0.980 - ETA: 11:20 - loss: 0.0635 - accuracy: 0.980 - ETA: 11:19 - loss: 0.0636 - accuracy: 0.980 - ETA: 11:18 - loss: 0.0636 - accuracy: 0.980 - ETA: 11:17 - loss: 0.0635 - accuracy: 0.980 - ETA: 11:16 - loss: 0.0635 - accuracy: 0.980 - ETA: 11:16 - loss: 0.0636 - accuracy: 0.980 - ETA: 11:15 - loss: 0.0636 - accuracy: 0.980 - ETA: 11:14 - loss: 0.0636 - accuracy: 0.980 - ETA: 11:13 - loss: 0.0636 - accuracy: 0.980 - ETA: 11:12 - loss: 0.0637 - accuracy: 0.980 - ETA: 11:12 - loss: 0.0637 - accuracy: 0.980 - ETA: 11:11 - loss: 0.0637 - accuracy: 0.980 - ETA: 11:10 - loss: 0.0636 - accuracy: 0.980 - ETA: 11:09 - loss: 0.0636 - accuracy: 0.980 - ETA: 11:08 - loss: 0.0636 - accuracy: 0.980 - ETA: 11:08 - loss: 0.0635 - accuracy: 0.980 - ETA: 11:07 - loss: 0.0635 - accuracy: 0.980 - ETA: 11:06 - loss: 0.0635 - accuracy: 0.980 - ETA: 11:05 - loss: 0.0635 - accuracy: 0.980 - ETA: 11:05 - loss: 0.0635 - accuracy: 0.980 - ETA: 11:04 - loss: 0.0635 - accuracy: 0.980 - ETA: 11:03 - loss: 0.0635 - accuracy: 0.980 - ETA: 11:02 - loss: 0.0635 - accuracy: 0.980 - ETA: 11:01 - loss: 0.0635 - accuracy: 0.980 - ETA: 11:01 - loss: 0.0635 - accuracy: 0.980 - ETA: 11:00 - loss: 0.0635 - accuracy: 0.980 - ETA: 10:59 - loss: 0.0634 - accuracy: 0.980 - ETA: 10:58 - loss: 0.0634 - accuracy: 0.980 - ETA: 10:58 - loss: 0.0634 - accuracy: 0.980 - ETA: 10:57 - loss: 0.0634 - accuracy: 0.980 - ETA: 10:56 - loss: 0.0634 - accuracy: 0.980 - ETA: 10:55 - loss: 0.0634 - accuracy: 0.980 - ETA: 10:54 - loss: 0.0633 - accuracy: 0.980 - ETA: 10:54 - loss: 0.0633 - accuracy: 0.980 - ETA: 10:53 - loss: 0.0634 - accuracy: 0.980 - ETA: 10:52 - loss: 0.0634 - accuracy: 0.980 - ETA: 10:51 - loss: 0.0634 - accuracy: 0.980 - ETA: 10:50 - loss: 0.0634 - accuracy: 0.980 - ETA: 10:50 - loss: 0.0634 - accuracy: 0.980 - ETA: 10:49 - loss: 0.0634 - accuracy: 0.980 - ETA: 10:48 - loss: 0.0634 - accuracy: 0.980 - ETA: 10:47 - loss: 0.0633 - accuracy: 0.980 - ETA: 10:46 - loss: 0.0633 - accuracy: 0.980 - ETA: 10:46 - loss: 0.0633 - accuracy: 0.980 - ETA: 10:45 - loss: 0.0633 - accuracy: 0.980 - ETA: 10:44 - loss: 0.0633 - accuracy: 0.980 - ETA: 10:43 - loss: 0.0633 - accuracy: 0.980 - ETA: 10:42 - loss: 0.0633 - accuracy: 0.980 - ETA: 10:42 - loss: 0.0633 - accuracy: 0.980 - ETA: 10:41 - loss: 0.0633 - accuracy: 0.980 - ETA: 10:40 - loss: 0.0633 - accuracy: 0.980 - ETA: 10:39 - loss: 0.0633 - accuracy: 0.980 - ETA: 10:38 - loss: 0.0633 - accuracy: 0.980 - ETA: 10:38 - loss: 0.0633 - accuracy: 0.980 - ETA: 10:37 - loss: 0.0633 - accuracy: 0.980 - ETA: 10:36 - loss: 0.0633 - accuracy: 0.980 - ETA: 10:35 - loss: 0.0633 - accuracy: 0.980 - ETA: 10:34 - loss: 0.0633 - accuracy: 0.980 - ETA: 10:34 - loss: 0.0634 - accuracy: 0.980 - ETA: 10:33 - loss: 0.0634 - accuracy: 0.980 - ETA: 10:32 - loss: 0.0634 - accuracy: 0.980 - ETA: 10:31 - loss: 0.0634 - accuracy: 0.980 - ETA: 10:31 - loss: 0.0634 - accuracy: 0.980 - ETA: 10:30 - loss: 0.0634 - accuracy: 0.980 - ETA: 10:29 - loss: 0.0634 - accuracy: 0.980 - ETA: 10:28 - loss: 0.0634 - accuracy: 0.980 - ETA: 10:27 - loss: 0.0634 - accuracy: 0.980 - ETA: 10:27 - loss: 0.0635 - accuracy: 0.980 - ETA: 10:26 - loss: 0.0637 - accuracy: 0.980 - ETA: 10:25 - loss: 0.0637 - accuracy: 0.980 - ETA: 10:24 - loss: 0.0638 - accuracy: 0.980 - ETA: 10:24 - loss: 0.0639 - accuracy: 0.980 - ETA: 10:23 - loss: 0.0639 - accuracy: 0.980 - ETA: 10:22 - loss: 0.0639 - accuracy: 0.980 - ETA: 10:21 - loss: 0.0639 - accuracy: 0.980 - ETA: 10:21 - loss: 0.0639 - accuracy: 0.980 - ETA: 10:20 - loss: 0.0639 - accuracy: 0.980 - ETA: 10:19 - loss: 0.0638 - accuracy: 0.980 - ETA: 10:18 - loss: 0.0638 - accuracy: 0.980 - ETA: 10:18 - loss: 0.0638 - accuracy: 0.980 - ETA: 10:17 - loss: 0.0639 - accuracy: 0.980 - ETA: 10:16 - loss: 0.0639 - accuracy: 0.980 - ETA: 10:15 - loss: 0.0639 - accuracy: 0.980 - ETA: 10:15 - loss: 0.0640 - accuracy: 0.980 - ETA: 10:14 - loss: 0.0640 - accuracy: 0.980 - ETA: 10:13 - loss: 0.0640 - accuracy: 0.980 - ETA: 10:12 - loss: 0.0640 - accuracy: 0.980 - ETA: 10:12 - loss: 0.0640 - accuracy: 0.980 - ETA: 10:11 - loss: 0.0640 - accuracy: 0.980 - ETA: 10:10 - loss: 0.0640 - accuracy: 0.980 - ETA: 10:09 - loss: 0.0641 - accuracy: 0.980 - ETA: 10:08 - loss: 0.0641 - accuracy: 0.980 - ETA: 10:08 - loss: 0.0641 - accuracy: 0.980 - ETA: 10:07 - loss: 0.0642 - accuracy: 0.980 - ETA: 10:06 - loss: 0.0642 - accuracy: 0.980 - ETA: 10:05 - loss: 0.0642 - accuracy: 0.980 - ETA: 10:05 - loss: 0.0642 - accuracy: 0.980 - ETA: 10:04 - loss: 0.0642 - accuracy: 0.980 - ETA: 10:03 - loss: 0.0642 - accuracy: 0.980 - ETA: 10:02 - loss: 0.0642 - accuracy: 0.980 - ETA: 10:01 - loss: 0.0641 - accuracy: 0.980 - ETA: 10:01 - loss: 0.0641 - accuracy: 0.980 - ETA: 10:00 - loss: 0.0642 - accuracy: 0.980 - ETA: 9:59 - loss: 0.0641 - accuracy: 0.980 - ETA: 9:59 - loss: 0.0642 - accuracy: 0.98 - ETA: 9:58 - loss: 0.0642 - accuracy: 0.98 - ETA: 9:57 - loss: 0.0642 - accuracy: 0.98 - ETA: 9:56 - loss: 0.0642 - accuracy: 0.98 - ETA: 9:56 - loss: 0.0642 - accuracy: 0.98 - ETA: 9:55 - loss: 0.0642 - accuracy: 0.98 - ETA: 9:54 - loss: 0.0642 - accuracy: 0.98 - ETA: 9:53 - loss: 0.0642 - accuracy: 0.98 - ETA: 9:53 - loss: 0.0642 - accuracy: 0.98 - ETA: 9:52 - loss: 0.0643 - accuracy: 0.98 - ETA: 9:51 - loss: 0.0643 - accuracy: 0.98 - ETA: 9:50 - loss: 0.0643 - accuracy: 0.98 - ETA: 9:49 - loss: 0.0643 - accuracy: 0.98 - ETA: 9:49 - loss: 0.0643 - accuracy: 0.98 - ETA: 9:48 - loss: 0.0643 - accuracy: 0.98 - ETA: 9:47 - loss: 0.0643 - accuracy: 0.98 - ETA: 9:46 - loss: 0.0644 - accuracy: 0.98 - ETA: 9:46 - loss: 0.0643 - accuracy: 0.98 - ETA: 9:45 - loss: 0.0643 - accuracy: 0.98 - ETA: 9:44 - loss: 0.0644 - accuracy: 0.98 - ETA: 9:43 - loss: 0.0644 - accuracy: 0.98 - ETA: 9:43 - loss: 0.0644 - accuracy: 0.98 - ETA: 9:42 - loss: 0.0645 - accuracy: 0.98 - ETA: 9:41 - loss: 0.0645 - accuracy: 0.98 - ETA: 9:40 - loss: 0.0645 - accuracy: 0.98 - ETA: 9:39 - loss: 0.0647 - accuracy: 0.98 - ETA: 9:39 - loss: 0.0647 - accuracy: 0.98 - ETA: 9:38 - loss: 0.0646 - accuracy: 0.98 - ETA: 9:37 - loss: 0.0646 - accuracy: 0.98 - ETA: 9:36 - loss: 0.0647 - accuracy: 0.98 - ETA: 9:36 - loss: 0.0646 - accuracy: 0.98 - ETA: 9:35 - loss: 0.0646 - accuracy: 0.98 - ETA: 9:34 - loss: 0.0646 - accuracy: 0.98 - ETA: 9:33 - loss: 0.0646 - accuracy: 0.98 - ETA: 9:32 - loss: 0.0646 - accuracy: 0.98 - ETA: 9:32 - loss: 0.0646 - accuracy: 0.98 - ETA: 9:31 - loss: 0.0647 - accuracy: 0.98 - ETA: 9:30 - loss: 0.0646 - accuracy: 0.98 - ETA: 9:29 - loss: 0.0646 - accuracy: 0.98 - ETA: 9:29 - loss: 0.0646 - accuracy: 0.98 - ETA: 9:28 - loss: 0.0646 - accuracy: 0.98 - ETA: 9:27 - loss: 0.0646 - accuracy: 0.98 - ETA: 9:26 - loss: 0.0646 - accuracy: 0.98 - ETA: 9:25 - loss: 0.0646 - accuracy: 0.98 - ETA: 9:25 - loss: 0.0645 - accuracy: 0.98 - ETA: 9:24 - loss: 0.0645 - accuracy: 0.98 - ETA: 9:23 - loss: 0.0645 - accuracy: 0.98 - ETA: 9:22 - loss: 0.0645 - accuracy: 0.98 - ETA: 9:22 - loss: 0.0645 - accuracy: 0.98 - ETA: 9:21 - loss: 0.0646 - accuracy: 0.98 - ETA: 9:20 - loss: 0.0646 - accuracy: 0.98 - ETA: 9:19 - loss: 0.0646 - accuracy: 0.98 - ETA: 9:18 - loss: 0.0646 - accuracy: 0.98 - ETA: 9:18 - loss: 0.0646 - accuracy: 0.98 - ETA: 9:17 - loss: 0.0648 - accuracy: 0.98 - ETA: 9:16 - loss: 0.0648 - accuracy: 0.98 - ETA: 9:15 - loss: 0.0648 - accuracy: 0.98 - ETA: 9:15 - loss: 0.0647 - accuracy: 0.98 - ETA: 9:14 - loss: 0.0647 - accuracy: 0.98 - ETA: 9:13 - loss: 0.0648 - accuracy: 0.98 - ETA: 9:12 - loss: 0.0647 - accuracy: 0.98 - ETA: 9:12 - loss: 0.0647 - accuracy: 0.98 - ETA: 9:11 - loss: 0.0647 - accuracy: 0.98 - ETA: 9:10 - loss: 0.0647 - accuracy: 0.98 - ETA: 9:09 - loss: 0.0647 - accuracy: 0.98 - ETA: 9:09 - loss: 0.0647 - accuracy: 0.98 - ETA: 9:08 - loss: 0.0647 - accuracy: 0.98 - ETA: 9:07 - loss: 0.0647 - accuracy: 0.98 - ETA: 9:06 - loss: 0.0647 - accuracy: 0.98 - ETA: 9:06 - loss: 0.0648 - accuracy: 0.98 - ETA: 9:05 - loss: 0.0649 - accuracy: 0.98 - ETA: 9:04 - loss: 0.0648 - accuracy: 0.98 - ETA: 9:03 - loss: 0.0648 - accuracy: 0.98 - ETA: 9:03 - loss: 0.0648 - accuracy: 0.98 - ETA: 9:02 - loss: 0.0648 - accuracy: 0.98 - ETA: 9:01 - loss: 0.0648 - accuracy: 0.9801103232/140454 [=====================>........] - ETA: 9:00 - loss: 0.0648 - accuracy: 0.98 - ETA: 8:59 - loss: 0.0648 - accuracy: 0.98 - ETA: 8:59 - loss: 0.0648 - accuracy: 0.98 - ETA: 8:58 - loss: 0.0649 - accuracy: 0.98 - ETA: 8:57 - loss: 0.0649 - accuracy: 0.98 - ETA: 8:56 - loss: 0.0648 - accuracy: 0.98 - ETA: 8:56 - loss: 0.0648 - accuracy: 0.98 - ETA: 8:55 - loss: 0.0648 - accuracy: 0.98 - ETA: 8:54 - loss: 0.0648 - accuracy: 0.98 - ETA: 8:53 - loss: 0.0649 - accuracy: 0.98 - ETA: 8:53 - loss: 0.0649 - accuracy: 0.97 - ETA: 8:52 - loss: 0.0648 - accuracy: 0.98 - ETA: 8:51 - loss: 0.0648 - accuracy: 0.98 - ETA: 8:50 - loss: 0.0648 - accuracy: 0.98 - ETA: 8:50 - loss: 0.0648 - accuracy: 0.98 - ETA: 8:49 - loss: 0.0648 - accuracy: 0.98 - ETA: 8:48 - loss: 0.0648 - accuracy: 0.98 - ETA: 8:47 - loss: 0.0647 - accuracy: 0.98 - ETA: 8:47 - loss: 0.0647 - accuracy: 0.98 - ETA: 8:46 - loss: 0.0647 - accuracy: 0.98 - ETA: 8:45 - loss: 0.0647 - accuracy: 0.98 - ETA: 8:44 - loss: 0.0646 - accuracy: 0.98 - ETA: 8:43 - loss: 0.0646 - accuracy: 0.98 - ETA: 8:43 - loss: 0.0647 - accuracy: 0.98 - ETA: 8:42 - loss: 0.0647 - accuracy: 0.98 - ETA: 8:41 - loss: 0.0646 - accuracy: 0.98 - ETA: 8:40 - loss: 0.0647 - accuracy: 0.98 - ETA: 8:40 - loss: 0.0647 - accuracy: 0.98 - ETA: 8:39 - loss: 0.0648 - accuracy: 0.98 - ETA: 8:38 - loss: 0.0648 - accuracy: 0.98 - ETA: 8:37 - loss: 0.0648 - accuracy: 0.98 - ETA: 8:37 - loss: 0.0648 - accuracy: 0.98 - ETA: 8:36 - loss: 0.0648 - accuracy: 0.98 - ETA: 8:35 - loss: 0.0649 - accuracy: 0.98 - ETA: 8:34 - loss: 0.0649 - accuracy: 0.98 - ETA: 8:34 - loss: 0.0648 - accuracy: 0.98 - ETA: 8:33 - loss: 0.0648 - accuracy: 0.98 - ETA: 8:32 - loss: 0.0648 - accuracy: 0.98 - ETA: 8:31 - loss: 0.0648 - accuracy: 0.98 - ETA: 8:31 - loss: 0.0649 - accuracy: 0.98 - ETA: 8:30 - loss: 0.0648 - accuracy: 0.98 - ETA: 8:29 - loss: 0.0648 - accuracy: 0.98 - ETA: 8:28 - loss: 0.0648 - accuracy: 0.98 - ETA: 8:28 - loss: 0.0648 - accuracy: 0.98 - ETA: 8:27 - loss: 0.0649 - accuracy: 0.98 - ETA: 8:26 - loss: 0.0649 - accuracy: 0.98 - ETA: 8:25 - loss: 0.0649 - accuracy: 0.98 - ETA: 8:25 - loss: 0.0649 - accuracy: 0.97 - ETA: 8:24 - loss: 0.0650 - accuracy: 0.97 - ETA: 8:23 - loss: 0.0650 - accuracy: 0.97 - ETA: 8:22 - loss: 0.0650 - accuracy: 0.97 - ETA: 8:22 - loss: 0.0651 - accuracy: 0.97 - ETA: 8:21 - loss: 0.0651 - accuracy: 0.97 - ETA: 8:20 - loss: 0.0650 - accuracy: 0.97 - ETA: 8:19 - loss: 0.0651 - accuracy: 0.97 - ETA: 8:19 - loss: 0.0651 - accuracy: 0.97 - ETA: 8:18 - loss: 0.0651 - accuracy: 0.97 - ETA: 8:17 - loss: 0.0651 - accuracy: 0.97 - ETA: 8:16 - loss: 0.0651 - accuracy: 0.97 - ETA: 8:16 - loss: 0.0651 - accuracy: 0.97 - ETA: 8:15 - loss: 0.0651 - accuracy: 0.97 - ETA: 8:14 - loss: 0.0650 - accuracy: 0.97 - ETA: 8:13 - loss: 0.0650 - accuracy: 0.97 - ETA: 8:13 - loss: 0.0650 - accuracy: 0.97 - ETA: 8:12 - loss: 0.0651 - accuracy: 0.97 - ETA: 8:11 - loss: 0.0651 - accuracy: 0.97 - ETA: 8:10 - loss: 0.0651 - accuracy: 0.97 - ETA: 8:10 - loss: 0.0651 - accuracy: 0.97 - ETA: 8:09 - loss: 0.0651 - accuracy: 0.97 - ETA: 8:08 - loss: 0.0651 - accuracy: 0.97 - ETA: 8:07 - loss: 0.0651 - accuracy: 0.97 - ETA: 8:07 - loss: 0.0651 - accuracy: 0.97 - ETA: 8:06 - loss: 0.0651 - accuracy: 0.97 - ETA: 8:05 - loss: 0.0651 - accuracy: 0.97 - ETA: 8:04 - loss: 0.0651 - accuracy: 0.97 - ETA: 8:04 - loss: 0.0651 - accuracy: 0.97 - ETA: 8:03 - loss: 0.0651 - accuracy: 0.97 - ETA: 8:02 - loss: 0.0651 - accuracy: 0.97 - ETA: 8:01 - loss: 0.0650 - accuracy: 0.97 - ETA: 8:01 - loss: 0.0651 - accuracy: 0.97 - ETA: 8:00 - loss: 0.0651 - accuracy: 0.97 - ETA: 7:59 - loss: 0.0651 - accuracy: 0.97 - ETA: 7:58 - loss: 0.0651 - accuracy: 0.97 - ETA: 7:58 - loss: 0.0651 - accuracy: 0.97 - ETA: 7:57 - loss: 0.0651 - accuracy: 0.97 - ETA: 7:56 - loss: 0.0651 - accuracy: 0.97 - ETA: 7:55 - loss: 0.0651 - accuracy: 0.97 - ETA: 7:55 - loss: 0.0651 - accuracy: 0.97 - ETA: 7:54 - loss: 0.0651 - accuracy: 0.97 - ETA: 7:53 - loss: 0.0651 - accuracy: 0.97 - ETA: 7:52 - loss: 0.0651 - accuracy: 0.97 - ETA: 7:52 - loss: 0.0651 - accuracy: 0.97 - ETA: 7:51 - loss: 0.0650 - accuracy: 0.97 - ETA: 7:50 - loss: 0.0650 - accuracy: 0.97 - ETA: 7:49 - loss: 0.0650 - accuracy: 0.97 - ETA: 7:49 - loss: 0.0651 - accuracy: 0.97 - ETA: 7:48 - loss: 0.0651 - accuracy: 0.97 - ETA: 7:47 - loss: 0.0651 - accuracy: 0.97 - ETA: 7:46 - loss: 0.0651 - accuracy: 0.97 - ETA: 7:46 - loss: 0.0651 - accuracy: 0.97 - ETA: 7:45 - loss: 0.0652 - accuracy: 0.97 - ETA: 7:44 - loss: 0.0651 - accuracy: 0.97 - ETA: 7:43 - loss: 0.0652 - accuracy: 0.97 - ETA: 7:43 - loss: 0.0652 - accuracy: 0.97 - ETA: 7:42 - loss: 0.0652 - accuracy: 0.97 - ETA: 7:41 - loss: 0.0652 - accuracy: 0.97 - ETA: 7:40 - loss: 0.0652 - accuracy: 0.97 - ETA: 7:40 - loss: 0.0652 - accuracy: 0.97 - ETA: 7:39 - loss: 0.0652 - accuracy: 0.97 - ETA: 7:38 - loss: 0.0652 - accuracy: 0.97 - ETA: 7:38 - loss: 0.0651 - accuracy: 0.97 - ETA: 7:37 - loss: 0.0651 - accuracy: 0.97 - ETA: 7:36 - loss: 0.0652 - accuracy: 0.97 - ETA: 7:35 - loss: 0.0652 - accuracy: 0.97 - ETA: 7:35 - loss: 0.0653 - accuracy: 0.97 - ETA: 7:34 - loss: 0.0653 - accuracy: 0.97 - ETA: 7:33 - loss: 0.0653 - accuracy: 0.97 - ETA: 7:32 - loss: 0.0653 - accuracy: 0.97 - ETA: 7:32 - loss: 0.0653 - accuracy: 0.97 - ETA: 7:31 - loss: 0.0653 - accuracy: 0.97 - ETA: 7:30 - loss: 0.0653 - accuracy: 0.97 - ETA: 7:29 - loss: 0.0653 - accuracy: 0.97 - ETA: 7:29 - loss: 0.0653 - accuracy: 0.97 - ETA: 7:28 - loss: 0.0653 - accuracy: 0.97 - ETA: 7:27 - loss: 0.0653 - accuracy: 0.97 - ETA: 7:26 - loss: 0.0653 - accuracy: 0.97 - ETA: 7:26 - loss: 0.0653 - accuracy: 0.97 - ETA: 7:25 - loss: 0.0653 - accuracy: 0.97 - ETA: 7:24 - loss: 0.0653 - accuracy: 0.97 - ETA: 7:23 - loss: 0.0653 - accuracy: 0.97 - ETA: 7:23 - loss: 0.0653 - accuracy: 0.97 - ETA: 7:22 - loss: 0.0653 - accuracy: 0.97 - ETA: 7:21 - loss: 0.0653 - accuracy: 0.97 - ETA: 7:21 - loss: 0.0653 - accuracy: 0.97 - ETA: 7:20 - loss: 0.0654 - accuracy: 0.97 - ETA: 7:19 - loss: 0.0654 - accuracy: 0.97 - ETA: 7:18 - loss: 0.0653 - accuracy: 0.97 - ETA: 7:18 - loss: 0.0653 - accuracy: 0.97 - ETA: 7:17 - loss: 0.0653 - accuracy: 0.97 - ETA: 7:16 - loss: 0.0653 - accuracy: 0.97 - ETA: 7:15 - loss: 0.0653 - accuracy: 0.97 - ETA: 7:15 - loss: 0.0653 - accuracy: 0.97 - ETA: 7:14 - loss: 0.0653 - accuracy: 0.97 - ETA: 7:13 - loss: 0.0653 - accuracy: 0.97 - ETA: 7:12 - loss: 0.0653 - accuracy: 0.97 - ETA: 7:12 - loss: 0.0653 - accuracy: 0.97 - ETA: 7:11 - loss: 0.0653 - accuracy: 0.97 - ETA: 7:10 - loss: 0.0653 - accuracy: 0.97 - ETA: 7:10 - loss: 0.0654 - accuracy: 0.97 - ETA: 7:09 - loss: 0.0654 - accuracy: 0.97 - ETA: 7:08 - loss: 0.0654 - accuracy: 0.97 - ETA: 7:07 - loss: 0.0654 - accuracy: 0.97 - ETA: 7:07 - loss: 0.0654 - accuracy: 0.97 - ETA: 7:06 - loss: 0.0655 - accuracy: 0.97 - ETA: 7:05 - loss: 0.0655 - accuracy: 0.97 - ETA: 7:04 - loss: 0.0655 - accuracy: 0.97 - ETA: 7:04 - loss: 0.0655 - accuracy: 0.97 - ETA: 7:03 - loss: 0.0656 - accuracy: 0.97 - ETA: 7:02 - loss: 0.0656 - accuracy: 0.97 - ETA: 7:01 - loss: 0.0656 - accuracy: 0.97 - ETA: 7:01 - loss: 0.0655 - accuracy: 0.97 - ETA: 7:00 - loss: 0.0655 - accuracy: 0.97 - ETA: 6:59 - loss: 0.0655 - accuracy: 0.97 - ETA: 6:58 - loss: 0.0656 - accuracy: 0.97 - ETA: 6:58 - loss: 0.0656 - accuracy: 0.97 - ETA: 6:57 - loss: 0.0656 - accuracy: 0.97 - ETA: 6:56 - loss: 0.0656 - accuracy: 0.97 - ETA: 6:56 - loss: 0.0655 - accuracy: 0.97 - ETA: 6:55 - loss: 0.0655 - accuracy: 0.97 - ETA: 6:54 - loss: 0.0655 - accuracy: 0.97 - ETA: 6:53 - loss: 0.0656 - accuracy: 0.97 - ETA: 6:53 - loss: 0.0657 - accuracy: 0.97 - ETA: 6:52 - loss: 0.0657 - accuracy: 0.97 - ETA: 6:51 - loss: 0.0657 - accuracy: 0.97 - ETA: 6:51 - loss: 0.0657 - accuracy: 0.97 - ETA: 6:50 - loss: 0.0656 - accuracy: 0.97 - ETA: 6:49 - loss: 0.0656 - accuracy: 0.97 - ETA: 6:48 - loss: 0.0656 - accuracy: 0.97 - ETA: 6:48 - loss: 0.0656 - accuracy: 0.97 - ETA: 6:47 - loss: 0.0656 - accuracy: 0.97 - ETA: 6:46 - loss: 0.0657 - accuracy: 0.97 - ETA: 6:46 - loss: 0.0657 - accuracy: 0.97 - ETA: 6:45 - loss: 0.0657 - accuracy: 0.97 - ETA: 6:44 - loss: 0.0657 - accuracy: 0.97 - ETA: 6:43 - loss: 0.0658 - accuracy: 0.97 - ETA: 6:43 - loss: 0.0658 - accuracy: 0.9795115136/140454 [=======================>......] - ETA: 6:42 - loss: 0.0658 - accuracy: 0.97 - ETA: 6:41 - loss: 0.0657 - accuracy: 0.97 - ETA: 6:40 - loss: 0.0658 - accuracy: 0.97 - ETA: 6:40 - loss: 0.0658 - accuracy: 0.97 - ETA: 6:39 - loss: 0.0659 - accuracy: 0.97 - ETA: 6:38 - loss: 0.0658 - accuracy: 0.97 - ETA: 6:37 - loss: 0.0659 - accuracy: 0.97 - ETA: 6:37 - loss: 0.0659 - accuracy: 0.97 - ETA: 6:36 - loss: 0.0658 - accuracy: 0.97 - ETA: 6:35 - loss: 0.0658 - accuracy: 0.97 - ETA: 6:35 - loss: 0.0659 - accuracy: 0.97 - ETA: 6:34 - loss: 0.0659 - accuracy: 0.97 - ETA: 6:33 - loss: 0.0660 - accuracy: 0.97 - ETA: 6:32 - loss: 0.0660 - accuracy: 0.97 - ETA: 6:32 - loss: 0.0660 - accuracy: 0.97 - ETA: 6:31 - loss: 0.0660 - accuracy: 0.97 - ETA: 6:30 - loss: 0.0660 - accuracy: 0.97 - ETA: 6:29 - loss: 0.0660 - accuracy: 0.97 - ETA: 6:29 - loss: 0.0660 - accuracy: 0.97 - ETA: 6:28 - loss: 0.0660 - accuracy: 0.97 - ETA: 6:27 - loss: 0.0660 - accuracy: 0.97 - ETA: 6:27 - loss: 0.0660 - accuracy: 0.97 - ETA: 6:26 - loss: 0.0660 - accuracy: 0.97 - ETA: 6:25 - loss: 0.0660 - accuracy: 0.97 - ETA: 6:24 - loss: 0.0659 - accuracy: 0.97 - ETA: 6:24 - loss: 0.0660 - accuracy: 0.97 - ETA: 6:23 - loss: 0.0660 - accuracy: 0.97 - ETA: 6:22 - loss: 0.0659 - accuracy: 0.97 - ETA: 6:21 - loss: 0.0659 - accuracy: 0.97 - ETA: 6:21 - loss: 0.0659 - accuracy: 0.97 - ETA: 6:20 - loss: 0.0659 - accuracy: 0.97 - ETA: 6:19 - loss: 0.0659 - accuracy: 0.97 - ETA: 6:19 - loss: 0.0659 - accuracy: 0.97 - ETA: 6:18 - loss: 0.0659 - accuracy: 0.97 - ETA: 6:17 - loss: 0.0659 - accuracy: 0.97 - ETA: 6:16 - loss: 0.0659 - accuracy: 0.97 - ETA: 6:16 - loss: 0.0660 - accuracy: 0.97 - ETA: 6:15 - loss: 0.0660 - accuracy: 0.97 - ETA: 6:14 - loss: 0.0660 - accuracy: 0.97 - ETA: 6:13 - loss: 0.0659 - accuracy: 0.97 - ETA: 6:13 - loss: 0.0659 - accuracy: 0.97 - ETA: 6:12 - loss: 0.0659 - accuracy: 0.97 - ETA: 6:11 - loss: 0.0659 - accuracy: 0.97 - ETA: 6:11 - loss: 0.0659 - accuracy: 0.97 - ETA: 6:10 - loss: 0.0660 - accuracy: 0.97 - ETA: 6:09 - loss: 0.0660 - accuracy: 0.97 - ETA: 6:08 - loss: 0.0660 - accuracy: 0.97 - ETA: 6:08 - loss: 0.0660 - accuracy: 0.97 - ETA: 6:07 - loss: 0.0660 - accuracy: 0.97 - ETA: 6:06 - loss: 0.0661 - accuracy: 0.97 - ETA: 6:06 - loss: 0.0661 - accuracy: 0.97 - ETA: 6:05 - loss: 0.0662 - accuracy: 0.97 - ETA: 6:04 - loss: 0.0663 - accuracy: 0.97 - ETA: 6:03 - loss: 0.0663 - accuracy: 0.97 - ETA: 6:03 - loss: 0.0663 - accuracy: 0.97 - ETA: 6:02 - loss: 0.0663 - accuracy: 0.97 - ETA: 6:01 - loss: 0.0663 - accuracy: 0.97 - ETA: 6:01 - loss: 0.0663 - accuracy: 0.97 - ETA: 6:00 - loss: 0.0663 - accuracy: 0.97 - ETA: 5:59 - loss: 0.0663 - accuracy: 0.97 - ETA: 5:58 - loss: 0.0663 - accuracy: 0.97 - ETA: 5:58 - loss: 0.0663 - accuracy: 0.97 - ETA: 5:57 - loss: 0.0663 - accuracy: 0.97 - ETA: 5:56 - loss: 0.0663 - accuracy: 0.97 - ETA: 5:56 - loss: 0.0663 - accuracy: 0.97 - ETA: 5:55 - loss: 0.0663 - accuracy: 0.97 - ETA: 5:54 - loss: 0.0663 - accuracy: 0.97 - ETA: 5:53 - loss: 0.0663 - accuracy: 0.97 - ETA: 5:53 - loss: 0.0663 - accuracy: 0.97 - ETA: 5:52 - loss: 0.0663 - accuracy: 0.97 - ETA: 5:51 - loss: 0.0663 - accuracy: 0.97 - ETA: 5:51 - loss: 0.0663 - accuracy: 0.97 - ETA: 5:50 - loss: 0.0663 - accuracy: 0.97 - ETA: 5:49 - loss: 0.0663 - accuracy: 0.97 - ETA: 5:48 - loss: 0.0664 - accuracy: 0.97 - ETA: 5:48 - loss: 0.0664 - accuracy: 0.97 - ETA: 5:47 - loss: 0.0664 - accuracy: 0.97 - ETA: 5:46 - loss: 0.0664 - accuracy: 0.97 - ETA: 5:46 - loss: 0.0664 - accuracy: 0.97 - ETA: 5:45 - loss: 0.0664 - accuracy: 0.97 - ETA: 5:44 - loss: 0.0664 - accuracy: 0.97 - ETA: 5:43 - loss: 0.0664 - accuracy: 0.97 - ETA: 5:43 - loss: 0.0664 - accuracy: 0.97 - ETA: 5:42 - loss: 0.0665 - accuracy: 0.97 - ETA: 5:41 - loss: 0.0665 - accuracy: 0.97 - ETA: 5:40 - loss: 0.0665 - accuracy: 0.97 - ETA: 5:40 - loss: 0.0665 - accuracy: 0.97 - ETA: 5:39 - loss: 0.0664 - accuracy: 0.97 - ETA: 5:38 - loss: 0.0665 - accuracy: 0.97 - ETA: 5:38 - loss: 0.0665 - accuracy: 0.97 - ETA: 5:37 - loss: 0.0665 - accuracy: 0.97 - ETA: 5:36 - loss: 0.0665 - accuracy: 0.97 - ETA: 5:35 - loss: 0.0666 - accuracy: 0.97 - ETA: 5:35 - loss: 0.0666 - accuracy: 0.97 - ETA: 5:34 - loss: 0.0666 - accuracy: 0.97 - ETA: 5:33 - loss: 0.0665 - accuracy: 0.97 - ETA: 5:33 - loss: 0.0666 - accuracy: 0.97 - ETA: 5:32 - loss: 0.0666 - accuracy: 0.97 - ETA: 5:31 - loss: 0.0665 - accuracy: 0.97 - ETA: 5:30 - loss: 0.0665 - accuracy: 0.97 - ETA: 5:30 - loss: 0.0665 - accuracy: 0.97 - ETA: 5:29 - loss: 0.0665 - accuracy: 0.97 - ETA: 5:28 - loss: 0.0665 - accuracy: 0.97 - ETA: 5:28 - loss: 0.0665 - accuracy: 0.97 - ETA: 5:27 - loss: 0.0666 - accuracy: 0.97 - ETA: 5:26 - loss: 0.0666 - accuracy: 0.97 - ETA: 5:25 - loss: 0.0666 - accuracy: 0.97 - ETA: 5:25 - loss: 0.0666 - accuracy: 0.97 - ETA: 5:24 - loss: 0.0666 - accuracy: 0.97 - ETA: 5:23 - loss: 0.0666 - accuracy: 0.97 - ETA: 5:23 - loss: 0.0666 - accuracy: 0.97 - ETA: 5:22 - loss: 0.0666 - accuracy: 0.97 - ETA: 5:21 - loss: 0.0666 - accuracy: 0.97 - ETA: 5:20 - loss: 0.0665 - accuracy: 0.97 - ETA: 5:20 - loss: 0.0665 - accuracy: 0.97 - ETA: 5:19 - loss: 0.0666 - accuracy: 0.97 - ETA: 5:18 - loss: 0.0666 - accuracy: 0.97 - ETA: 5:18 - loss: 0.0667 - accuracy: 0.97 - ETA: 5:17 - loss: 0.0667 - accuracy: 0.97 - ETA: 5:16 - loss: 0.0667 - accuracy: 0.97 - ETA: 5:16 - loss: 0.0667 - accuracy: 0.97 - ETA: 5:15 - loss: 0.0667 - accuracy: 0.97 - ETA: 5:14 - loss: 0.0667 - accuracy: 0.97 - ETA: 5:13 - loss: 0.0667 - accuracy: 0.97 - ETA: 5:13 - loss: 0.0667 - accuracy: 0.97 - ETA: 5:12 - loss: 0.0666 - accuracy: 0.97 - ETA: 5:11 - loss: 0.0666 - accuracy: 0.97 - ETA: 5:11 - loss: 0.0666 - accuracy: 0.97 - ETA: 5:10 - loss: 0.0667 - accuracy: 0.97 - ETA: 5:09 - loss: 0.0667 - accuracy: 0.97 - ETA: 5:08 - loss: 0.0667 - accuracy: 0.97 - ETA: 5:08 - loss: 0.0666 - accuracy: 0.97 - ETA: 5:07 - loss: 0.0666 - accuracy: 0.97 - ETA: 5:06 - loss: 0.0667 - accuracy: 0.97 - ETA: 5:06 - loss: 0.0667 - accuracy: 0.97 - ETA: 5:05 - loss: 0.0667 - accuracy: 0.97 - ETA: 5:04 - loss: 0.0667 - accuracy: 0.97 - ETA: 5:03 - loss: 0.0667 - accuracy: 0.97 - ETA: 5:03 - loss: 0.0667 - accuracy: 0.97 - ETA: 5:02 - loss: 0.0667 - accuracy: 0.97 - ETA: 5:01 - loss: 0.0668 - accuracy: 0.97 - ETA: 5:01 - loss: 0.0668 - accuracy: 0.97 - ETA: 5:00 - loss: 0.0668 - accuracy: 0.97 - ETA: 4:59 - loss: 0.0668 - accuracy: 0.97 - ETA: 4:59 - loss: 0.0668 - accuracy: 0.97 - ETA: 4:58 - loss: 0.0668 - accuracy: 0.97 - ETA: 4:57 - loss: 0.0668 - accuracy: 0.97 - ETA: 4:56 - loss: 0.0668 - accuracy: 0.97 - ETA: 4:56 - loss: 0.0668 - accuracy: 0.97 - ETA: 4:55 - loss: 0.0668 - accuracy: 0.97 - ETA: 4:54 - loss: 0.0668 - accuracy: 0.97 - ETA: 4:54 - loss: 0.0668 - accuracy: 0.97 - ETA: 4:53 - loss: 0.0669 - accuracy: 0.97 - ETA: 4:52 - loss: 0.0669 - accuracy: 0.97 - ETA: 4:51 - loss: 0.0669 - accuracy: 0.97 - ETA: 4:51 - loss: 0.0669 - accuracy: 0.97 - ETA: 4:50 - loss: 0.0669 - accuracy: 0.97 - ETA: 4:49 - loss: 0.0669 - accuracy: 0.97 - ETA: 4:49 - loss: 0.0669 - accuracy: 0.97 - ETA: 4:48 - loss: 0.0670 - accuracy: 0.97 - ETA: 4:47 - loss: 0.0670 - accuracy: 0.97 - ETA: 4:47 - loss: 0.0669 - accuracy: 0.97 - ETA: 4:46 - loss: 0.0670 - accuracy: 0.97 - ETA: 4:45 - loss: 0.0670 - accuracy: 0.97 - ETA: 4:44 - loss: 0.0670 - accuracy: 0.97 - ETA: 4:44 - loss: 0.0670 - accuracy: 0.97 - ETA: 4:43 - loss: 0.0669 - accuracy: 0.97 - ETA: 4:42 - loss: 0.0670 - accuracy: 0.97 - ETA: 4:42 - loss: 0.0669 - accuracy: 0.97 - ETA: 4:41 - loss: 0.0669 - accuracy: 0.97 - ETA: 4:40 - loss: 0.0670 - accuracy: 0.97 - ETA: 4:40 - loss: 0.0670 - accuracy: 0.97 - ETA: 4:39 - loss: 0.0669 - accuracy: 0.97 - ETA: 4:38 - loss: 0.0670 - accuracy: 0.97 - ETA: 4:37 - loss: 0.0670 - accuracy: 0.97 - ETA: 4:37 - loss: 0.0670 - accuracy: 0.97 - ETA: 4:36 - loss: 0.0669 - accuracy: 0.97 - ETA: 4:35 - loss: 0.0669 - accuracy: 0.97 - ETA: 4:35 - loss: 0.0669 - accuracy: 0.97 - ETA: 4:34 - loss: 0.0669 - accuracy: 0.97 - ETA: 4:33 - loss: 0.0670 - accuracy: 0.97 - ETA: 4:33 - loss: 0.0670 - accuracy: 0.97 - ETA: 4:32 - loss: 0.0669 - accuracy: 0.97 - ETA: 4:31 - loss: 0.0669 - accuracy: 0.97 - ETA: 4:30 - loss: 0.0669 - accuracy: 0.97 - ETA: 4:30 - loss: 0.0669 - accuracy: 0.9790127040/140454 [==========================>...] - ETA: 4:29 - loss: 0.0670 - accuracy: 0.97 - ETA: 4:28 - loss: 0.0670 - accuracy: 0.97 - ETA: 4:28 - loss: 0.0670 - accuracy: 0.97 - ETA: 4:27 - loss: 0.0670 - accuracy: 0.97 - ETA: 4:26 - loss: 0.0670 - accuracy: 0.97 - ETA: 4:26 - loss: 0.0671 - accuracy: 0.97 - ETA: 4:25 - loss: 0.0670 - accuracy: 0.97 - ETA: 4:24 - loss: 0.0670 - accuracy: 0.97 - ETA: 4:23 - loss: 0.0671 - accuracy: 0.97 - ETA: 4:23 - loss: 0.0671 - accuracy: 0.97 - ETA: 4:22 - loss: 0.0671 - accuracy: 0.97 - ETA: 4:21 - loss: 0.0671 - accuracy: 0.97 - ETA: 4:21 - loss: 0.0671 - accuracy: 0.97 - ETA: 4:20 - loss: 0.0671 - accuracy: 0.97 - ETA: 4:19 - loss: 0.0671 - accuracy: 0.97 - ETA: 4:19 - loss: 0.0672 - accuracy: 0.97 - ETA: 4:18 - loss: 0.0672 - accuracy: 0.97 - ETA: 4:17 - loss: 0.0672 - accuracy: 0.97 - ETA: 4:16 - loss: 0.0673 - accuracy: 0.97 - ETA: 4:16 - loss: 0.0673 - accuracy: 0.97 - ETA: 4:15 - loss: 0.0673 - accuracy: 0.97 - ETA: 4:14 - loss: 0.0673 - accuracy: 0.97 - ETA: 4:14 - loss: 0.0673 - accuracy: 0.97 - ETA: 4:13 - loss: 0.0673 - accuracy: 0.97 - ETA: 4:12 - loss: 0.0674 - accuracy: 0.97 - ETA: 4:12 - loss: 0.0673 - accuracy: 0.97 - ETA: 4:11 - loss: 0.0673 - accuracy: 0.97 - ETA: 4:10 - loss: 0.0674 - accuracy: 0.97 - ETA: 4:09 - loss: 0.0674 - accuracy: 0.97 - ETA: 4:09 - loss: 0.0674 - accuracy: 0.97 - ETA: 4:08 - loss: 0.0674 - accuracy: 0.97 - ETA: 4:07 - loss: 0.0674 - accuracy: 0.97 - ETA: 4:07 - loss: 0.0674 - accuracy: 0.97 - ETA: 4:06 - loss: 0.0673 - accuracy: 0.97 - ETA: 4:05 - loss: 0.0673 - accuracy: 0.97 - ETA: 4:05 - loss: 0.0673 - accuracy: 0.97 - ETA: 4:04 - loss: 0.0673 - accuracy: 0.97 - ETA: 4:03 - loss: 0.0673 - accuracy: 0.97 - ETA: 4:02 - loss: 0.0673 - accuracy: 0.97 - ETA: 4:02 - loss: 0.0673 - accuracy: 0.97 - ETA: 4:01 - loss: 0.0673 - accuracy: 0.97 - ETA: 4:00 - loss: 0.0673 - accuracy: 0.97 - ETA: 4:00 - loss: 0.0673 - accuracy: 0.97 - ETA: 3:59 - loss: 0.0673 - accuracy: 0.97 - ETA: 3:58 - loss: 0.0673 - accuracy: 0.97 - ETA: 3:58 - loss: 0.0672 - accuracy: 0.97 - ETA: 3:57 - loss: 0.0673 - accuracy: 0.97 - ETA: 3:56 - loss: 0.0673 - accuracy: 0.97 - ETA: 3:55 - loss: 0.0673 - accuracy: 0.97 - ETA: 3:55 - loss: 0.0674 - accuracy: 0.97 - ETA: 3:54 - loss: 0.0674 - accuracy: 0.97 - ETA: 3:53 - loss: 0.0674 - accuracy: 0.97 - ETA: 3:53 - loss: 0.0674 - accuracy: 0.97 - ETA: 3:52 - loss: 0.0674 - accuracy: 0.97 - ETA: 3:51 - loss: 0.0673 - accuracy: 0.97 - ETA: 3:51 - loss: 0.0673 - accuracy: 0.97 - ETA: 3:50 - loss: 0.0673 - accuracy: 0.97 - ETA: 3:49 - loss: 0.0673 - accuracy: 0.97 - ETA: 3:48 - loss: 0.0673 - accuracy: 0.97 - ETA: 3:48 - loss: 0.0672 - accuracy: 0.97 - ETA: 3:47 - loss: 0.0672 - accuracy: 0.97 - ETA: 3:46 - loss: 0.0673 - accuracy: 0.97 - ETA: 3:46 - loss: 0.0673 - accuracy: 0.97 - ETA: 3:45 - loss: 0.0673 - accuracy: 0.97 - ETA: 3:44 - loss: 0.0673 - accuracy: 0.97 - ETA: 3:44 - loss: 0.0672 - accuracy: 0.97 - ETA: 3:43 - loss: 0.0673 - accuracy: 0.97 - ETA: 3:42 - loss: 0.0672 - accuracy: 0.97 - ETA: 3:42 - loss: 0.0672 - accuracy: 0.97 - ETA: 3:41 - loss: 0.0672 - accuracy: 0.97 - ETA: 3:40 - loss: 0.0672 - accuracy: 0.97 - ETA: 3:39 - loss: 0.0673 - accuracy: 0.97 - ETA: 3:39 - loss: 0.0673 - accuracy: 0.97 - ETA: 3:38 - loss: 0.0673 - accuracy: 0.97 - ETA: 3:37 - loss: 0.0672 - accuracy: 0.97 - ETA: 3:37 - loss: 0.0672 - accuracy: 0.97 - ETA: 3:36 - loss: 0.0672 - accuracy: 0.97 - ETA: 3:35 - loss: 0.0672 - accuracy: 0.97 - ETA: 3:35 - loss: 0.0673 - accuracy: 0.97 - ETA: 3:34 - loss: 0.0673 - accuracy: 0.97 - ETA: 3:33 - loss: 0.0673 - accuracy: 0.97 - ETA: 3:33 - loss: 0.0673 - accuracy: 0.97 - ETA: 3:32 - loss: 0.0673 - accuracy: 0.97 - ETA: 3:31 - loss: 0.0673 - accuracy: 0.97 - ETA: 3:30 - loss: 0.0673 - accuracy: 0.97 - ETA: 3:30 - loss: 0.0673 - accuracy: 0.97 - ETA: 3:29 - loss: 0.0673 - accuracy: 0.97 - ETA: 3:28 - loss: 0.0673 - accuracy: 0.97 - ETA: 3:28 - loss: 0.0673 - accuracy: 0.97 - ETA: 3:27 - loss: 0.0673 - accuracy: 0.97 - ETA: 3:26 - loss: 0.0673 - accuracy: 0.97 - ETA: 3:26 - loss: 0.0673 - accuracy: 0.97 - ETA: 3:25 - loss: 0.0673 - accuracy: 0.97 - ETA: 3:24 - loss: 0.0673 - accuracy: 0.97 - ETA: 3:24 - loss: 0.0673 - accuracy: 0.97 - ETA: 3:23 - loss: 0.0673 - accuracy: 0.97 - ETA: 3:22 - loss: 0.0674 - accuracy: 0.97 - ETA: 3:21 - loss: 0.0674 - accuracy: 0.97 - ETA: 3:21 - loss: 0.0673 - accuracy: 0.97 - ETA: 3:20 - loss: 0.0673 - accuracy: 0.97 - ETA: 3:19 - loss: 0.0673 - accuracy: 0.97 - ETA: 3:19 - loss: 0.0673 - accuracy: 0.97 - ETA: 3:18 - loss: 0.0673 - accuracy: 0.97 - ETA: 3:17 - loss: 0.0673 - accuracy: 0.97 - ETA: 3:17 - loss: 0.0673 - accuracy: 0.97 - ETA: 3:16 - loss: 0.0673 - accuracy: 0.97 - ETA: 3:15 - loss: 0.0673 - accuracy: 0.97 - ETA: 3:15 - loss: 0.0673 - accuracy: 0.97 - ETA: 3:14 - loss: 0.0673 - accuracy: 0.97 - ETA: 3:13 - loss: 0.0673 - accuracy: 0.97 - ETA: 3:12 - loss: 0.0673 - accuracy: 0.97 - ETA: 3:12 - loss: 0.0673 - accuracy: 0.97 - ETA: 3:11 - loss: 0.0673 - accuracy: 0.97 - ETA: 3:10 - loss: 0.0673 - accuracy: 0.97 - ETA: 3:10 - loss: 0.0674 - accuracy: 0.97 - ETA: 3:09 - loss: 0.0675 - accuracy: 0.97 - ETA: 3:08 - loss: 0.0675 - accuracy: 0.97 - ETA: 3:08 - loss: 0.0674 - accuracy: 0.97 - ETA: 3:07 - loss: 0.0675 - accuracy: 0.97 - ETA: 3:06 - loss: 0.0675 - accuracy: 0.97 - ETA: 3:06 - loss: 0.0675 - accuracy: 0.97 - ETA: 3:05 - loss: 0.0675 - accuracy: 0.97 - ETA: 3:04 - loss: 0.0675 - accuracy: 0.97 - ETA: 3:03 - loss: 0.0675 - accuracy: 0.97 - ETA: 3:03 - loss: 0.0674 - accuracy: 0.97 - ETA: 3:02 - loss: 0.0675 - accuracy: 0.97 - ETA: 3:01 - loss: 0.0675 - accuracy: 0.97 - ETA: 3:01 - loss: 0.0674 - accuracy: 0.97 - ETA: 3:00 - loss: 0.0674 - accuracy: 0.97 - ETA: 2:59 - loss: 0.0674 - accuracy: 0.97 - ETA: 2:59 - loss: 0.0674 - accuracy: 0.97 - ETA: 2:58 - loss: 0.0675 - accuracy: 0.97 - ETA: 2:57 - loss: 0.0675 - accuracy: 0.97 - ETA: 2:57 - loss: 0.0675 - accuracy: 0.97 - ETA: 2:56 - loss: 0.0675 - accuracy: 0.97 - ETA: 2:55 - loss: 0.0676 - accuracy: 0.97 - ETA: 2:55 - loss: 0.0676 - accuracy: 0.97 - ETA: 2:54 - loss: 0.0677 - accuracy: 0.97 - ETA: 2:53 - loss: 0.0677 - accuracy: 0.97 - ETA: 2:52 - loss: 0.0677 - accuracy: 0.97 - ETA: 2:52 - loss: 0.0677 - accuracy: 0.97 - ETA: 2:51 - loss: 0.0677 - accuracy: 0.97 - ETA: 2:50 - loss: 0.0677 - accuracy: 0.97 - ETA: 2:50 - loss: 0.0677 - accuracy: 0.97 - ETA: 2:49 - loss: 0.0677 - accuracy: 0.97 - ETA: 2:48 - loss: 0.0677 - accuracy: 0.97 - ETA: 2:48 - loss: 0.0676 - accuracy: 0.97 - ETA: 2:47 - loss: 0.0676 - accuracy: 0.97 - ETA: 2:46 - loss: 0.0676 - accuracy: 0.97 - ETA: 2:46 - loss: 0.0676 - accuracy: 0.97 - ETA: 2:45 - loss: 0.0676 - accuracy: 0.97 - ETA: 2:44 - loss: 0.0676 - accuracy: 0.97 - ETA: 2:44 - loss: 0.0676 - accuracy: 0.97 - ETA: 2:43 - loss: 0.0676 - accuracy: 0.97 - ETA: 2:42 - loss: 0.0676 - accuracy: 0.97 - ETA: 2:42 - loss: 0.0676 - accuracy: 0.97 - ETA: 2:41 - loss: 0.0676 - accuracy: 0.97 - ETA: 2:40 - loss: 0.0676 - accuracy: 0.97 - ETA: 2:39 - loss: 0.0676 - accuracy: 0.97 - ETA: 2:39 - loss: 0.0676 - accuracy: 0.97 - ETA: 2:38 - loss: 0.0676 - accuracy: 0.97 - ETA: 2:37 - loss: 0.0676 - accuracy: 0.97 - ETA: 2:37 - loss: 0.0676 - accuracy: 0.97 - ETA: 2:36 - loss: 0.0676 - accuracy: 0.97 - ETA: 2:35 - loss: 0.0676 - accuracy: 0.97 - ETA: 2:35 - loss: 0.0676 - accuracy: 0.97 - ETA: 2:34 - loss: 0.0676 - accuracy: 0.97 - ETA: 2:33 - loss: 0.0676 - accuracy: 0.97 - ETA: 2:33 - loss: 0.0676 - accuracy: 0.97 - ETA: 2:32 - loss: 0.0675 - accuracy: 0.97 - ETA: 2:31 - loss: 0.0675 - accuracy: 0.97 - ETA: 2:31 - loss: 0.0675 - accuracy: 0.97 - ETA: 2:30 - loss: 0.0675 - accuracy: 0.97 - ETA: 2:29 - loss: 0.0675 - accuracy: 0.97 - ETA: 2:28 - loss: 0.0675 - accuracy: 0.97 - ETA: 2:28 - loss: 0.0675 - accuracy: 0.97 - ETA: 2:27 - loss: 0.0675 - accuracy: 0.97 - ETA: 2:26 - loss: 0.0675 - accuracy: 0.97 - ETA: 2:26 - loss: 0.0675 - accuracy: 0.97 - ETA: 2:25 - loss: 0.0675 - accuracy: 0.97 - ETA: 2:24 - loss: 0.0675 - accuracy: 0.97 - ETA: 2:24 - loss: 0.0675 - accuracy: 0.97 - ETA: 2:23 - loss: 0.0675 - accuracy: 0.97 - ETA: 2:22 - loss: 0.0675 - accuracy: 0.97 - ETA: 2:22 - loss: 0.0675 - accuracy: 0.97 - ETA: 2:21 - loss: 0.0675 - accuracy: 0.9788138944/140454 [============================>.] - ETA: 2:20 - loss: 0.0675 - accuracy: 0.97 - ETA: 2:20 - loss: 0.0675 - accuracy: 0.97 - ETA: 2:19 - loss: 0.0675 - accuracy: 0.97 - ETA: 2:18 - loss: 0.0675 - accuracy: 0.97 - ETA: 2:18 - loss: 0.0675 - accuracy: 0.97 - ETA: 2:17 - loss: 0.0675 - accuracy: 0.97 - ETA: 2:16 - loss: 0.0675 - accuracy: 0.97 - ETA: 2:16 - loss: 0.0675 - accuracy: 0.97 - ETA: 2:15 - loss: 0.0675 - accuracy: 0.97 - ETA: 2:14 - loss: 0.0675 - accuracy: 0.97 - ETA: 2:13 - loss: 0.0675 - accuracy: 0.97 - ETA: 2:13 - loss: 0.0675 - accuracy: 0.97 - ETA: 2:12 - loss: 0.0675 - accuracy: 0.97 - ETA: 2:11 - loss: 0.0675 - accuracy: 0.97 - ETA: 2:11 - loss: 0.0675 - accuracy: 0.97 - ETA: 2:10 - loss: 0.0675 - accuracy: 0.97 - ETA: 2:09 - loss: 0.0676 - accuracy: 0.97 - ETA: 2:09 - loss: 0.0675 - accuracy: 0.97 - ETA: 2:08 - loss: 0.0675 - accuracy: 0.97 - ETA: 2:07 - loss: 0.0675 - accuracy: 0.97 - ETA: 2:07 - loss: 0.0675 - accuracy: 0.97 - ETA: 2:06 - loss: 0.0675 - accuracy: 0.97 - ETA: 2:05 - loss: 0.0676 - accuracy: 0.97 - ETA: 2:05 - loss: 0.0676 - accuracy: 0.97 - ETA: 2:04 - loss: 0.0677 - accuracy: 0.97 - ETA: 2:03 - loss: 0.0677 - accuracy: 0.97 - ETA: 2:03 - loss: 0.0677 - accuracy: 0.97 - ETA: 2:02 - loss: 0.0677 - accuracy: 0.97 - ETA: 2:01 - loss: 0.0677 - accuracy: 0.97 - ETA: 2:01 - loss: 0.0677 - accuracy: 0.97 - ETA: 2:00 - loss: 0.0677 - accuracy: 0.97 - ETA: 1:59 - loss: 0.0677 - accuracy: 0.97 - ETA: 1:59 - loss: 0.0677 - accuracy: 0.97 - ETA: 1:58 - loss: 0.0677 - accuracy: 0.97 - ETA: 1:57 - loss: 0.0677 - accuracy: 0.97 - ETA: 1:57 - loss: 0.0677 - accuracy: 0.97 - ETA: 1:56 - loss: 0.0677 - accuracy: 0.97 - ETA: 1:55 - loss: 0.0677 - accuracy: 0.97 - ETA: 1:54 - loss: 0.0677 - accuracy: 0.97 - ETA: 1:54 - loss: 0.0676 - accuracy: 0.97 - ETA: 1:53 - loss: 0.0677 - accuracy: 0.97 - ETA: 1:52 - loss: 0.0677 - accuracy: 0.97 - ETA: 1:52 - loss: 0.0677 - accuracy: 0.97 - ETA: 1:51 - loss: 0.0677 - accuracy: 0.97 - ETA: 1:50 - loss: 0.0677 - accuracy: 0.97 - ETA: 1:50 - loss: 0.0677 - accuracy: 0.97 - ETA: 1:49 - loss: 0.0677 - accuracy: 0.97 - ETA: 1:48 - loss: 0.0677 - accuracy: 0.97 - ETA: 1:48 - loss: 0.0678 - accuracy: 0.97 - ETA: 1:47 - loss: 0.0678 - accuracy: 0.97 - ETA: 1:46 - loss: 0.0678 - accuracy: 0.97 - ETA: 1:46 - loss: 0.0678 - accuracy: 0.97 - ETA: 1:45 - loss: 0.0678 - accuracy: 0.97 - ETA: 1:44 - loss: 0.0678 - accuracy: 0.97 - ETA: 1:44 - loss: 0.0678 - accuracy: 0.97 - ETA: 1:43 - loss: 0.0678 - accuracy: 0.97 - ETA: 1:42 - loss: 0.0678 - accuracy: 0.97 - ETA: 1:42 - loss: 0.0678 - accuracy: 0.97 - ETA: 1:41 - loss: 0.0677 - accuracy: 0.97 - ETA: 1:40 - loss: 0.0677 - accuracy: 0.97 - ETA: 1:40 - loss: 0.0678 - accuracy: 0.97 - ETA: 1:39 - loss: 0.0678 - accuracy: 0.97 - ETA: 1:38 - loss: 0.0677 - accuracy: 0.97 - ETA: 1:37 - loss: 0.0677 - accuracy: 0.97 - ETA: 1:37 - loss: 0.0678 - accuracy: 0.97 - ETA: 1:36 - loss: 0.0678 - accuracy: 0.97 - ETA: 1:35 - loss: 0.0678 - accuracy: 0.97 - ETA: 1:35 - loss: 0.0677 - accuracy: 0.97 - ETA: 1:34 - loss: 0.0677 - accuracy: 0.97 - ETA: 1:33 - loss: 0.0678 - accuracy: 0.97 - ETA: 1:33 - loss: 0.0678 - accuracy: 0.97 - ETA: 1:32 - loss: 0.0678 - accuracy: 0.97 - ETA: 1:31 - loss: 0.0678 - accuracy: 0.97 - ETA: 1:31 - loss: 0.0678 - accuracy: 0.97 - ETA: 1:30 - loss: 0.0677 - accuracy: 0.97 - ETA: 1:29 - loss: 0.0678 - accuracy: 0.97 - ETA: 1:29 - loss: 0.0678 - accuracy: 0.97 - ETA: 1:28 - loss: 0.0678 - accuracy: 0.97 - ETA: 1:27 - loss: 0.0677 - accuracy: 0.97 - ETA: 1:27 - loss: 0.0677 - accuracy: 0.97 - ETA: 1:26 - loss: 0.0677 - accuracy: 0.97 - ETA: 1:25 - loss: 0.0677 - accuracy: 0.97 - ETA: 1:25 - loss: 0.0677 - accuracy: 0.97 - ETA: 1:24 - loss: 0.0677 - accuracy: 0.97 - ETA: 1:23 - loss: 0.0677 - accuracy: 0.97 - ETA: 1:23 - loss: 0.0677 - accuracy: 0.97 - ETA: 1:22 - loss: 0.0677 - accuracy: 0.97 - ETA: 1:21 - loss: 0.0677 - accuracy: 0.97 - ETA: 1:21 - loss: 0.0677 - accuracy: 0.97 - ETA: 1:20 - loss: 0.0677 - accuracy: 0.97 - ETA: 1:19 - loss: 0.0677 - accuracy: 0.97 - ETA: 1:18 - loss: 0.0678 - accuracy: 0.97 - ETA: 1:18 - loss: 0.0677 - accuracy: 0.97 - ETA: 1:17 - loss: 0.0677 - accuracy: 0.97 - ETA: 1:16 - loss: 0.0678 - accuracy: 0.97 - ETA: 1:16 - loss: 0.0678 - accuracy: 0.97 - ETA: 1:15 - loss: 0.0679 - accuracy: 0.97 - ETA: 1:14 - loss: 0.0679 - accuracy: 0.97 - ETA: 1:14 - loss: 0.0678 - accuracy: 0.97 - ETA: 1:13 - loss: 0.0678 - accuracy: 0.97 - ETA: 1:12 - loss: 0.0678 - accuracy: 0.97 - ETA: 1:12 - loss: 0.0678 - accuracy: 0.97 - ETA: 1:11 - loss: 0.0679 - accuracy: 0.97 - ETA: 1:10 - loss: 0.0679 - accuracy: 0.97 - ETA: 1:10 - loss: 0.0679 - accuracy: 0.97 - ETA: 1:09 - loss: 0.0679 - accuracy: 0.97 - ETA: 1:08 - loss: 0.0679 - accuracy: 0.97 - ETA: 1:08 - loss: 0.0679 - accuracy: 0.97 - ETA: 1:07 - loss: 0.0679 - accuracy: 0.97 - ETA: 1:06 - loss: 0.0679 - accuracy: 0.97 - ETA: 1:06 - loss: 0.0679 - accuracy: 0.97 - ETA: 1:05 - loss: 0.0680 - accuracy: 0.97 - ETA: 1:04 - loss: 0.0680 - accuracy: 0.97 - ETA: 1:04 - loss: 0.0680 - accuracy: 0.97 - ETA: 1:03 - loss: 0.0680 - accuracy: 0.97 - ETA: 1:02 - loss: 0.0680 - accuracy: 0.97 - ETA: 1:02 - loss: 0.0679 - accuracy: 0.97 - ETA: 1:01 - loss: 0.0680 - accuracy: 0.97 - ETA: 1:00 - loss: 0.0680 - accuracy: 0.97 - ETA: 1:00 - loss: 0.0680 - accuracy: 0.97 - ETA: 59s - loss: 0.0680 - accuracy: 0.9785 - ETA: 58s - loss: 0.0680 - accuracy: 0.978 - ETA: 58s - loss: 0.0680 - accuracy: 0.978 - ETA: 57s - loss: 0.0681 - accuracy: 0.978 - ETA: 56s - loss: 0.0681 - accuracy: 0.978 - ETA: 56s - loss: 0.0681 - accuracy: 0.978 - ETA: 55s - loss: 0.0681 - accuracy: 0.978 - ETA: 54s - loss: 0.0681 - accuracy: 0.978 - ETA: 54s - loss: 0.0682 - accuracy: 0.978 - ETA: 53s - loss: 0.0681 - accuracy: 0.978 - ETA: 52s - loss: 0.0681 - accuracy: 0.978 - ETA: 52s - loss: 0.0681 - accuracy: 0.978 - ETA: 51s - loss: 0.0682 - accuracy: 0.978 - ETA: 50s - loss: 0.0682 - accuracy: 0.978 - ETA: 49s - loss: 0.0682 - accuracy: 0.978 - ETA: 49s - loss: 0.0682 - accuracy: 0.978 - ETA: 48s - loss: 0.0682 - accuracy: 0.978 - ETA: 47s - loss: 0.0682 - accuracy: 0.978 - ETA: 47s - loss: 0.0682 - accuracy: 0.978 - ETA: 46s - loss: 0.0682 - accuracy: 0.978 - ETA: 45s - loss: 0.0681 - accuracy: 0.978 - ETA: 45s - loss: 0.0682 - accuracy: 0.978 - ETA: 44s - loss: 0.0682 - accuracy: 0.978 - ETA: 43s - loss: 0.0682 - accuracy: 0.978 - ETA: 43s - loss: 0.0682 - accuracy: 0.978 - ETA: 42s - loss: 0.0682 - accuracy: 0.978 - ETA: 41s - loss: 0.0682 - accuracy: 0.978 - ETA: 41s - loss: 0.0682 - accuracy: 0.978 - ETA: 40s - loss: 0.0682 - accuracy: 0.978 - ETA: 39s - loss: 0.0682 - accuracy: 0.978 - ETA: 39s - loss: 0.0682 - accuracy: 0.978 - ETA: 38s - loss: 0.0683 - accuracy: 0.978 - ETA: 37s - loss: 0.0683 - accuracy: 0.978 - ETA: 37s - loss: 0.0683 - accuracy: 0.978 - ETA: 36s - loss: 0.0683 - accuracy: 0.978 - ETA: 35s - loss: 0.0683 - accuracy: 0.978 - ETA: 35s - loss: 0.0683 - accuracy: 0.978 - ETA: 34s - loss: 0.0683 - accuracy: 0.978 - ETA: 33s - loss: 0.0684 - accuracy: 0.978 - ETA: 33s - loss: 0.0684 - accuracy: 0.978 - ETA: 32s - loss: 0.0684 - accuracy: 0.978 - ETA: 31s - loss: 0.0684 - accuracy: 0.978 - ETA: 31s - loss: 0.0684 - accuracy: 0.978 - ETA: 30s - loss: 0.0684 - accuracy: 0.978 - ETA: 29s - loss: 0.0684 - accuracy: 0.978 - ETA: 29s - loss: 0.0684 - accuracy: 0.978 - ETA: 28s - loss: 0.0683 - accuracy: 0.978 - ETA: 27s - loss: 0.0684 - accuracy: 0.978 - ETA: 27s - loss: 0.0684 - accuracy: 0.978 - ETA: 26s - loss: 0.0684 - accuracy: 0.978 - ETA: 25s - loss: 0.0684 - accuracy: 0.978 - ETA: 25s - loss: 0.0684 - accuracy: 0.978 - ETA: 24s - loss: 0.0684 - accuracy: 0.978 - ETA: 23s - loss: 0.0684 - accuracy: 0.978 - ETA: 23s - loss: 0.0684 - accuracy: 0.978 - ETA: 22s - loss: 0.0684 - accuracy: 0.978 - ETA: 21s - loss: 0.0684 - accuracy: 0.978 - ETA: 21s - loss: 0.0685 - accuracy: 0.978 - ETA: 20s - loss: 0.0685 - accuracy: 0.978 - ETA: 19s - loss: 0.0685 - accuracy: 0.978 - ETA: 19s - loss: 0.0685 - accuracy: 0.978 - ETA: 18s - loss: 0.0685 - accuracy: 0.978 - ETA: 17s - loss: 0.0685 - accuracy: 0.978 - ETA: 17s - loss: 0.0685 - accuracy: 0.978 - ETA: 16s - loss: 0.0685 - accuracy: 0.978 - ETA: 15s - loss: 0.0684 - accuracy: 0.9784140454/140454 [==============================] - ETA: 15s - loss: 0.0685 - accuracy: 0.978 - ETA: 14s - loss: 0.0685 - accuracy: 0.978 - ETA: 13s - loss: 0.0685 - accuracy: 0.978 - ETA: 13s - loss: 0.0685 - accuracy: 0.978 - ETA: 12s - loss: 0.0686 - accuracy: 0.978 - ETA: 11s - loss: 0.0686 - accuracy: 0.978 - ETA: 11s - loss: 0.0686 - accuracy: 0.978 - ETA: 10s - loss: 0.0686 - accuracy: 0.978 - ETA: 9s - loss: 0.0686 - accuracy: 0.978 - ETA: 9s - loss: 0.0686 - accuracy: 0.97 - ETA: 8s - loss: 0.0686 - accuracy: 0.97 - ETA: 7s - loss: 0.0686 - accuracy: 0.97 - ETA: 7s - loss: 0.0687 - accuracy: 0.97 - ETA: 6s - loss: 0.0686 - accuracy: 0.97 - ETA: 5s - loss: 0.0687 - accuracy: 0.97 - ETA: 5s - loss: 0.0687 - accuracy: 0.97 - ETA: 4s - loss: 0.0687 - accuracy: 0.97 - ETA: 3s - loss: 0.0687 - accuracy: 0.97 - ETA: 3s - loss: 0.0687 - accuracy: 0.97 - ETA: 2s - loss: 0.0688 - accuracy: 0.97 - ETA: 1s - loss: 0.0688 - accuracy: 0.97 - ETA: 1s - loss: 0.0688 - accuracy: 0.97 - ETA: 0s - loss: 0.0688 - accuracy: 0.97 - 1496s 11ms/step - loss: 0.0688 - accuracy: 0.9783 - val_loss: 0.2247 - val_accuracy: 0.9343\n"
     ]
    }
   ],
   "source": [
    "epochs = 5\n",
    "batch_size = 64\n",
    "\n",
    "history = model.fit(X_train_K_LSTM, Y_train_K_LSTM, epochs=epochs, batch_size=batch_size,validation_split=0.1,callbacks=[EarlyStopping(monitor='val_loss', patience=3, min_delta=0.0001)])"
   ]
  },
  {
   "cell_type": "markdown",
   "metadata": {},
   "source": [
    "#### Testing LSTM-Model"
   ]
  },
  {
   "cell_type": "code",
   "execution_count": 48,
   "metadata": {},
   "outputs": [
    {
     "name": "stdout",
     "output_type": "stream",
     "text": [
      "17341/17341 [==============================] - ETA: 4: - ETA: 2: - ETA: 1: - ETA: 1: - ETA: 1: - ETA: 1: - ETA: 1: - ETA: 1: - ETA: 1: - ETA: 58s - ETA: 56 - ETA: 54 - ETA: 52 - ETA: 51 - ETA: 50 - ETA: 48 - ETA: 47 - ETA: 46 - ETA: 46 - ETA: 45 - ETA: 44 - ETA: 44 - ETA: 43 - ETA: 42 - ETA: 42 - ETA: 41 - ETA: 41 - ETA: 40 - ETA: 40 - ETA: 40 - ETA: 39 - ETA: 39 - ETA: 39 - ETA: 38 - ETA: 38 - ETA: 38 - ETA: 38 - ETA: 38 - ETA: 38 - ETA: 37 - ETA: 37 - ETA: 37 - ETA: 37 - ETA: 36 - ETA: 36 - ETA: 36 - ETA: 36 - ETA: 36 - ETA: 35 - ETA: 35 - ETA: 35 - ETA: 35 - ETA: 35 - ETA: 35 - ETA: 34 - ETA: 34 - ETA: 34 - ETA: 34 - ETA: 34 - ETA: 34 - ETA: 34 - ETA: 33 - ETA: 33 - ETA: 33 - ETA: 33 - ETA: 33 - ETA: 33 - ETA: 33 - ETA: 32 - ETA: 32 - ETA: 32 - ETA: 32 - ETA: 32 - ETA: 32 - ETA: 32 - ETA: 32 - ETA: 32 - ETA: 32 - ETA: 31 - ETA: 31 - ETA: 31 - ETA: 31 - ETA: 31 - ETA: 31 - ETA: 31 - ETA: 31 - ETA: 31 - ETA: 30 - ETA: 30 - ETA: 30 - ETA: 30 - ETA: 30 - ETA: 30 - ETA: 30 - ETA: 30 - ETA: 30 - ETA: 30 - ETA: 30 - ETA: 29 - ETA: 29 - ETA: 29 - ETA: 29 - ETA: 29 - ETA: 29 - ETA: 29 - ETA: 29 - ETA: 29 - ETA: 29 - ETA: 29 - ETA: 29 - ETA: 29 - ETA: 28 - ETA: 28 - ETA: 28 - ETA: 28 - ETA: 28 - ETA: 28 - ETA: 28 - ETA: 28 - ETA: 28 - ETA: 28 - ETA: 28 - ETA: 28 - ETA: 28 - ETA: 28 - ETA: 28 - ETA: 27 - ETA: 27 - ETA: 27 - ETA: 27 - ETA: 27 - ETA: 27 - ETA: 27 - ETA: 27 - ETA: 27 - ETA: 27 - ETA: 27 - ETA: 27 - ETA: 27 - ETA: 26 - ETA: 26 - ETA: 26 - ETA: 26 - ETA: 26 - ETA: 26 - ETA: 26 - ETA: 26 - ETA: 26 - ETA: 26 - ETA: 26 - ETA: 26 - ETA: 26 - ETA: 26 - ETA: 25 - ETA: 25 - ETA: 25 - ETA: 25 - ETA: 25 - ETA: 25 - ETA: 25 - ETA: 25 - ETA: 25 - ETA: 25 - ETA: 25 - ETA: 25 - ETA: 25 - ETA: 25 - ETA: 25 - ETA: 25 - ETA: 25 - ETA: 24 - ETA: 24 - ETA: 24 - ETA: 24 - ETA: 24 - ETA: 24 - ETA: 24 - ETA: 24 - ETA: 24 - ETA: 24 - ETA: 24 - ETA: 24 - ETA: 24 - ETA: 24 - ETA: 23 - ETA: 23 - ETA: 23 - ETA: 23 - ETA: 23 - ETA: 23 - ETA: 23 - ETA: 23 - ETA: 23 - ETA: 23 - ETA: 23 - ETA: 23 - ETA: 23 - ETA: 22 - ETA: 22 - ETA: 22 - ETA: 22 - ETA: 22 - ETA: 22 - ETA: 22 - ETA: 22 - ETA: 22 - ETA: 22 - ETA: 22 - ETA: 22 - ETA: 22 - ETA: 22 - ETA: 22 - ETA: 21 - ETA: 21 - ETA: 21 - ETA: 21 - ETA: 21 - ETA: 21 - ETA: 21 - ETA: 21 - ETA: 21 - ETA: 21 - ETA: 21 - ETA: 21 - ETA: 21 - ETA: 21 - ETA: 21 - ETA: 20 - ETA: 20 - ETA: 20 - ETA: 20 - ETA: 20 - ETA: 20 - ETA: 20 - ETA: 20 - ETA: 20 - ETA: 20 - ETA: 20 - ETA: 20 - ETA: 20 - ETA: 19 - ETA: 19 - ETA: 19 - ETA: 19 - ETA: 19 - ETA: 19 - ETA: 19 - ETA: 19 - ETA: 19 - ETA: 19 - ETA: 19 - ETA: 19 - ETA: 19 - ETA: 19 - ETA: 19 - ETA: 18 - ETA: 18 - ETA: 18 - ETA: 18 - ETA: 18 - ETA: 18 - ETA: 18 - ETA: 18 - ETA: 18 - ETA: 18 - ETA: 18 - ETA: 18 - ETA: 18 - ETA: 18 - ETA: 17 - ETA: 17 - ETA: 17 - ETA: 17 - ETA: 17 - ETA: 17 - ETA: 17 - ETA: 17 - ETA: 17 - ETA: 17 - ETA: 17 - ETA: 17 - ETA: 17 - ETA: 17 - ETA: 17 - ETA: 16 - ETA: 16 - ETA: 16 - ETA: 16 - ETA: 16 - ETA: 16 - ETA: 16 - ETA: 16 - ETA: 16 - ETA: 16 - ETA: 16 - ETA: 16 - ETA: 16 - ETA: 16 - ETA: 16 - ETA: 15 - ETA: 15 - ETA: 15 - ETA: 15 - ETA: 15 - ETA: 15 - ETA: 15 - ETA: 15 - ETA: 15 - ETA: 15 - ETA: 15 - ETA: 15 - ETA: 15 - ETA: 15 - ETA: 14 - ETA: 14 - ETA: 14 - ETA: 14 - ETA: 14 - ETA: 14 - ETA: 14 - ETA: 14 - ETA: 14 - ETA: 14 - ETA: 14 - ETA: 14 - ETA: 14 - ETA: 14 - ETA: 14 - ETA: 13 - ETA: 13 - ETA: 13 - ETA: 13 - ETA: 13 - ETA: 13 - ETA: 13 - ETA: 13 - ETA: 13 - ETA: 13 - ETA: 13 - ETA: 13 - ETA: 13 - ETA: 13 - ETA: 13 - ETA: 12 - ETA: 12 - ETA: 12 - ETA: 12 - ETA: 12 - ETA: 12 - ETA: 12 - ETA: 12 - ETA: 12 - ETA: 12 - ETA: 12 - ETA: 12 - ETA: 12 - ETA: 12 - ETA: 12 - ETA: 11 - ETA: 11 - ETA: 11 - ETA: 11 - ETA: 11 - ETA: 11 - ETA: 11 - ETA: 11 - ETA: 11 - ETA: 11 - ETA: 11 - ETA: 11 - ETA: 11 - ETA: 11 - ETA: 11 - ETA: 10 - ETA: 10 - ETA: 10 - ETA: 10 - ETA: 10 - ETA: 10 - ETA: 10 - ETA: 10 - ETA: 10 - ETA: 10 - ETA: 10 - ETA: 10 - ETA: 10 - ETA: 10 - ETA: 10 - ETA: 9 - ETA:  - ETA:  - ETA:  - ETA:  - ETA:  - ETA:  - ETA:  - ETA:  - ETA:  - ETA:  - ETA:  - ETA:  - ETA:  - ETA:  - ETA:  - ETA:  - ETA:  - ETA:  - ETA:  - ETA:  - ETA:  - ETA:  - ETA:  - ETA:  - ETA:  - ETA:  - ETA:  - ETA:  - ETA:  - ETA:  - ETA:  - ETA:  - ETA:  - ETA:  - ETA:  - ETA:  - ETA:  - ETA:  - ETA:  - ETA:  - ETA:  - ETA:  - ETA:  - ETA:  - ETA:  - ETA:  - ETA:  - ETA:  - ETA:  - ETA:  - ETA:  - ETA:  - ETA:  - ETA:  - ETA:  - ETA:  - ETA:  - ETA:  - ETA:  - ETA:  - ETA:  - ETA:  - ETA:  - ETA:  - ETA:  - ETA:  - ETA:  - ETA:  - ETA:  - ETA:  - ETA:  - ETA:  - ETA:  - ETA:  - ETA:  - ETA:  - ETA:  - ETA:  - ETA:  - ETA:  - ETA:  - ETA:  - ETA:  - ETA:  - ETA:  - ETA:  - ETA:  - ETA:  - ETA:  - ETA:  - ETA:  - ETA:  - ETA:  - ETA:  - ETA:  - ETA:  - ETA:  - ETA:  - ETA:  - ETA:  - ETA:  - ETA:  - ETA:  - ETA:  - ETA:  - ETA:  - ETA:  - ETA:  - ETA:  - ETA:  - ETA:  - ETA:  - ETA:  - ETA:  - ETA:  - ETA:  - ETA:  - ETA:  - ETA:  - ETA:  - ETA:  - ETA:  - ETA:  - ETA:  - ETA:  - ETA:  - ETA:  - ETA:  - ETA:  - ETA:  - ETA:  - ETA:  - ETA:  - ETA:  - ETA:  - ETA:  - ETA:  - ETA:  - ETA:  - ETA:  - ETA:  - ETA:  - ETA:  - ETA:  - ETA:  - ETA:  - ETA:  - ETA:  - ETA:  - ETA:  - ETA:  - ETA:  - 35s 2ms/step\n",
      "Test set\n",
      "  Loss: 1.149\n",
      "  Accuracy: 0.730\n"
     ]
    }
   ],
   "source": [
    "accr = model.evaluate(X_test_K_LSTM,Y_test_K_LSTM)\n",
    "print('Test set\\n  Loss: {:0.3f}\\n  Accuracy: {:0.3f}'.format(accr[0],accr[1]))"
   ]
  },
  {
   "cell_type": "markdown",
   "metadata": {},
   "source": [
    "#### Test Loss Historyc LSTM-Model"
   ]
  },
  {
   "cell_type": "code",
   "execution_count": 64,
   "metadata": {},
   "outputs": [
    {
     "data": {
      "image/png": "[encoded data removed]",
      "text/plain": [
       "<Figure size 432x288 with 1 Axes>"
      ]
     },
     "metadata": {
      "needs_background": "light"
     },
     "output_type": "display_data"
    }
   ],
   "source": [
    "plt.title('Loss')\n",
    "plt.plot(history.history['loss'], label='train')\n",
    "plt.plot(history.history['val_loss'], label='test')\n",
    "plt.legend()\n",
    "plt.show();"
   ]
  },
  {
   "cell_type": "code",
   "execution_count": 65,
   "metadata": {},
   "outputs": [
    {
     "data": {
      "image/png": "[encoded data removed]",
      "text/plain": [
       "<Figure size 432x288 with 1 Axes>"
      ]
     },
     "metadata": {
      "needs_background": "light"
     },
     "output_type": "display_data"
    }
   ],
   "source": [
    "plt.title('Accuracy')\n",
    "plt.plot(history.history['accuracy'], label='train')\n",
    "plt.plot(history.history['val_accuracy'], label='test')\n",
    "plt.legend()\n",
    "plt.show();"
   ]
  },
  {
   "cell_type": "code",
   "execution_count": 104,
   "metadata": {},
   "outputs": [
    {
     "name": "stdout",
     "output_type": "stream",
     "text": [
      "[[2984   40   35   38   36]\n",
      " [  18 1164   19   20   17]\n",
      " [  59   82 4755   75   65]\n",
      " [  77   68   75 4557   75]\n",
      " [  42   29   54   39 2918]]\n",
      "              precision    recall  f1-score   support\n",
      "\n",
      "           0       0.94      0.95      0.95      3133\n",
      "           1       0.84      0.94      0.89      1238\n",
      "           2       0.96      0.94      0.95      5036\n",
      "           3       0.96      0.94      0.95      4852\n",
      "           4       0.94      0.95      0.94      3082\n",
      "\n",
      "    accuracy                           0.94     17341\n",
      "   macro avg       0.93      0.94      0.94     17341\n",
      "weighted avg       0.95      0.94      0.94     17341\n",
      "\n"
     ]
    }
   ],
   "source": [
    "Y_pred_K = model.predict_classes(X_test_K_LSTM)\n",
    "print(confusion_matrix(np.argmax(Y_test_K_LSTM,axis=1),y_pred))\n",
    "print(classification_report(np.argmax(Y_test_K_LSTM,axis=1),y_pred))"
   ]
  },
  {
   "cell_type": "markdown",
   "metadata": {},
   "source": [
    "#### Save All Keras Model"
   ]
  },
  {
   "cell_type": "code",
   "execution_count": 66,
   "metadata": {},
   "outputs": [],
   "source": [
    "\n",
    "pickle.dump(logreg_K, open('logreg_K', 'wb'))\n",
    "#pickle.dump(svc_b_K, open('svc_b_K', 'wb'))\n",
    "pickle.dump(knn_K, open('knn_K', 'wb'))\n",
    "pickle.dump(adaboost_b_K, open('adaboost_b_K', 'wb'))\n",
    "pickle.dump(Gboost_b_K, open('Gboost_b_K', 'wb'))\n",
    "pickle.dump(mlp_K, open('ANN_word2vec_K', 'wb'))\n",
    "pickle.dump(model, open('LSTM_model_keras.sav', 'wb'))\n"
   ]
  },
  {
   "cell_type": "markdown",
   "metadata": {},
   "source": [
    "## STEP-4 Prediction for New Data"
   ]
  },
  {
   "cell_type": "code",
   "execution_count": 10,
   "metadata": {},
   "outputs": [],
   "source": [
    "def predict_labels(cols):\n",
    "    '''\n",
    "    @Author- Fakhare Alam \n",
    "    This method calls best performing classification model and predict the category output.\n",
    "    '''\n",
    "    text=cols['paragraph']\n",
    "    seq = tokenizer.texts_to_sequences([text])\n",
    "    padded = pad_sequences(seq, maxlen=MAX_SEQUENCE_LENGTH)\n",
    "    # Load Saved Model\n",
    "    model=pickle.load(open('LSTM_model_keras.sav', 'rb'))\n",
    "    pred = model.predict(padded)\n",
    "    labels = ['A','I','O','P','R']\n",
    "    category=labels[np.argmax(pred)]\n",
    "    return category\n",
    "    "
   ]
  },
  {
   "cell_type": "markdown",
   "metadata": {},
   "source": [
    "#### Test Code to make sure best performing model works"
   ]
  },
  {
   "cell_type": "code",
   "execution_count": 10,
   "metadata": {},
   "outputs": [
    {
     "name": "stdout",
     "output_type": "stream",
     "text": [
      "[[57, 7, 637, 168, 1031, 9, 608, 765, 154, 95, 120, 1031, 16, 110, 26894, 316]]\n",
      "[[6.8425655e-04 5.5240060e-05 3.4136057e-03 2.0383572e-04 9.9564302e-01]] R\n"
     ]
    }
   ],
   "source": [
    "MAX_NB_WORDS = 50000\n",
    "    # Max number of words in each complaint.\n",
    "MAX_SEQUENCE_LENGTH = 250\n",
    "text = 'Intracranial aneurysm (IA) rupture is a main cause of spontaneous subarachnoid hemorrhage (SAH) which has a significant mortality and morbidity'\n",
    "seq = tokenizer.texts_to_sequences([text])\n",
    "print(seq)\n",
    "padded = pad_sequences(seq, maxlen=MAX_SEQUENCE_LENGTH)\n",
    "model=pickle.load(open('LSTM_model_keras.sav', 'rb'))\n",
    "pred = model.predict(padded)\n",
    "labels = ['A','I','O','P','R']\n",
    "print(pred, labels[np.argmax(pred)])"
   ]
  },
  {
   "cell_type": "markdown",
   "metadata": {},
   "source": [
    "#### Parse Pubmed and PMC Papers"
   ]
  },
  {
   "cell_type": "code",
   "execution_count": 11,
   "metadata": {},
   "outputs": [],
   "source": [
    "from Bio import Entrez\n",
    "import xml.etree.ElementTree as ET \n",
    "Entrez.email='fakharejss@gmail.com'\n",
    "\n",
    "def write_xml_pmc(pmc_id):\n",
    "    '''\n",
    "    @Author- Fakhare Alam \n",
    "    Thie method parse PMC papaer and write as xml file\n",
    "    '''\n",
    "    fetch = Entrez.efetch(db='pmc',resetmode='xml',id=pmc_id,rettype='full')\n",
    "    with open('pmc_'+pmc_id+'.xml', 'w') as f:f.write(fetch.read()) \n",
    "        \n",
    "def parse_xml_pmc(pmc_id):\n",
    "    '''\n",
    "    @Author - Fakhare ALam\n",
    "    This method reads xml files saved by write method.\n",
    "    '''\n",
    "    list_p=[]\n",
    "    list_pmc_id=[]\n",
    "    tree = ET.parse('pmc_'+pmc_id+'.xml') \n",
    "    root = tree.getroot() \n",
    "    for sec in root.findall('./article/body/sec'):\n",
    "        for p in sec.findall('./p'):\n",
    "            list_p.append(p.text)\n",
    "            list_pmc_id.append(pmc_id)\n",
    "    return list_pmc_id,list_p\n",
    "\n",
    "def create_documents_paragraph_pmc(pmc_ids):\n",
    "    '''\n",
    "    @Author- Fakhare Alam\n",
    "    This method create a dataframe out of each XML sentences obtained.\n",
    "    '''\n",
    "    df_document_p=pd.DataFrame()\n",
    "    for pmc_id in pmc_ids:\n",
    "        write_xml_pmc(pmc_id)\n",
    "        pmc_id_list,list_p=parse_xml_pmc(pmc_id)\n",
    "        df_temp = pd.DataFrame(list(zip(pmc_id_list,list_p)),columns=['id','paragraph'])\n",
    "        df_document_p=df_document_p.append(df_temp)\n",
    "        df_document_p['source']='pmc'\n",
    "    \n",
    "    return df_document_p\n",
    "\n",
    "\n",
    "def write_xml_pubmed(pubmed_id):\n",
    "    '''\n",
    "    @Author- Fakhare Alam \n",
    "    '''\n",
    "    fetch = Entrez.efetch(db='pubmed',resetmode='xml',id=pubmed_id,rettype='full')\n",
    "    with open('pubmed_'+pubmed_id+'.xml', 'w',encoding=\"utf-8\") as f:f.write(fetch.read()) \n",
    "        \n",
    "def parse_xml_pubmed(pubmed_id):\n",
    "    '''\n",
    "    @Author- Fakhare Alam \n",
    "    '''\n",
    "    list_p=[]\n",
    "    list_pubmed_id=[]\n",
    "    tree = ET.parse('pubmed_'+pubmed_id+'.xml') \n",
    "    root = tree.getroot() \n",
    "    for abstext in root.findall('./PubmedArticle/MedlineCitation/Article/Abstract'):\n",
    "        for p in abstext.findall('./AbstractText'):\n",
    "            list_p.append(p.text)\n",
    "            list_pubmed_id.append(pubmed_id)\n",
    "    return list_pubmed_id,list_p\n",
    "\n",
    "def create_documents_paragraph_pubmed(pubmed_ids):\n",
    "    '''\n",
    "    @Author- Fakhare Alam \n",
    "    '''\n",
    "    df_document_p=pd.DataFrame()\n",
    "    for pubmed_id in pubmed_ids:\n",
    "        # Uncomment the below line when connecting to internet \n",
    "        write_xml_pubmed(pubmed_id)\n",
    "        pubmed_id_list,list_p=parse_xml_pubmed(pubmed_id)\n",
    "        df_temp = pd.DataFrame(list(zip(pubmed_id_list,list_p)),columns=['id','paragraph'])\n",
    "        df_document_p=df_document_p.append(df_temp)\n",
    "        df_document_p['source']='pubmed'\n",
    "    \n",
    "    return df_document_p"
   ]
  },
  {
   "cell_type": "markdown",
   "metadata": {},
   "source": [
    "## STEP-5 Semantic Similarity Algorithm "
   ]
  },
  {
   "cell_type": "code",
   "execution_count": 21,
   "metadata": {},
   "outputs": [],
   "source": [
    "from string import punctuation\n",
    "import re\n",
    "\n",
    "#REST API parameters\n",
    "REST_URL = \"http://data.bioontology.org\"\n",
    "API_KEY = \"\" # Remove Key befor publishing\n",
    "proxy = urllib.request.ProxyHandler(proxies)\n",
    "\n",
    "#Utility Methods for Text Cleaning\n",
    "\n",
    "# Lower Text\n",
    "def to_lower(text):\n",
    "    return ' '.join([w.lower() for w in word_tokenize(text)])\n",
    "\n",
    "#Remove Punctuation -\n",
    "def strip_punctuation(text):\n",
    "    return ''.join(c for c in text if c not in punctuation)\n",
    "# Remove Numbers\n",
    "def remove_numbers(text):\n",
    "    return ''.join(c for c in text if not c.isdigit())\n",
    "# Remove HTML tags\n",
    "def remove_tags(text):\n",
    "    return re.sub('<[^<]+?>','', text)\n",
    "# Remove Separation Character\n",
    "def remove_sep_char(text):\n",
    "    sepchar=['\\r','\\n',]\n",
    "    return ''.join(c for c in text if c not in sepchar)\n",
    "# clean up\n",
    "def clean_up(txt):\n",
    "    if re.search(\"([^\\x00-\\x7F])+\", txt):\n",
    "        return ''\n",
    "    else: \n",
    "        txt = txt.lower()\n",
    "    return txt\n",
    "\n",
    "#To return output in JSON format\n",
    "def get_json(url,prxy=False):\n",
    "    if prxy:\n",
    "        opener = urllib.request.build_opener(proxy)\n",
    "    else:\n",
    "        opener = urllib.request.build_opener()\n",
    "    opener.addheaders = [('Authorization', 'apikey token=' + API_KEY)]\n",
    "    return json.loads(opener.open(url).read())\n",
    "\n",
    "#### Utility method to get similarity score using BioPortal API \n",
    "\n",
    "#### Anotate the text\n",
    "def Annotator(text,prxy=False):\n",
    "    '''\n",
    "    @Author - Fakhare ALam \n",
    "    This method to Annotate the text \n",
    "    '''\n",
    "    concepts_set=set()\n",
    "    \n",
    "    text=str(str(text).encode('ascii', 'ignore'))\n",
    "    text=remove_tags(text)\n",
    "    text=remove_numbers(text)\n",
    "    text=strip_punctuation(text)\n",
    "    text=remove_sep_char(text)\n",
    "    text=text.replace(' ','+')\n",
    "    \n",
    "    url=REST_URL+\"/annotator?text=\"+text+\"&longest_only=true\"+\"&ontologies=SNOMEDCT,MEDDRA,NBO,NIFSTD\"\n",
    "    \n",
    "    text_json=get_json(url,prxy)\n",
    "    \n",
    "    for i in range (0,len(text_json) ,1):\n",
    "        concepts_set.add(text_json[i]['annotations'][0]['text'])\n",
    "    return concepts_set\n",
    "\n",
    "#Get Synonums ,metadata and definition for each annotated concepts\n",
    "def getConceptMetadataAnnotated(concept,prxy=False):\n",
    "    '''\n",
    "    @Author Fakhare ALam \n",
    "    '''\n",
    "    synonym_set=set()\n",
    "    definition_set=set()\n",
    "    preflabel_set=set()\n",
    "    \n",
    "    url=REST_URL + \"/search?q=\" + concept +\"&require_exact_match=true\"\n",
    "    \n",
    "    text_search_json =get_json(url,prxy)[\"collection\"]\n",
    "    # Get Synonums and definitions\n",
    "    \n",
    "    for i in range(0,len (text_search_json),1):\n",
    "        try:\n",
    "            definition =[clean_up(x) for x in text_search_json[i][\"definition\"]][0]\n",
    "            definition_set=Annotator(definition,prxy)\n",
    "            if type(text_search_json[i][\"synonym\"]) is list:\n",
    "                cleaned_set = set([clean_up(x) for x in text_search_json[i][\"synonym\"]])\n",
    "                synonym_set|=cleaned_set\n",
    "            else:\n",
    "                synonym_set.add(text_search_json[i][\"synonym\"].lower())\n",
    "                \n",
    "            preflabel_set.add(text_search_json[i][\"prefLabel\"].lower())\n",
    "                \n",
    "        except: continue\n",
    "            \n",
    "\n",
    "    # Combine Synonums and definition to form meta data\n",
    "    return set().union(synonym_set, definition_set, preflabel_set)\n",
    "\n",
    "# Percent Concept matching\n",
    "def percentConceptMatching(test_text,query_text,cosine_similarity=False,prxy=False):\n",
    "    '''\n",
    "    @Author- Fakhare Alam \n",
    "    '''\n",
    "    metaset_text=set()\n",
    "    metaset_query=set()\n",
    "\n",
    "    # Test Set Annotation\n",
    "    test_set= Annotator(test_text,prxy)\n",
    "    # Query Set Annotation\n",
    "    query_set=Annotator(query_text,prxy)\n",
    "    \n",
    "  \n",
    "    for ts in test_set:\n",
    "        metaset_text|=getConceptMetadataAnnotated(ts.lower().replace(' ','+'),prxy)\n",
    "        \n",
    "    for qs in query_set:\n",
    "        metaset_query|=getConceptMetadataAnnotated(qs.lower().replace(' ','+'),prxy)\n",
    "    \n",
    "    \n",
    "    if cosine_similarity:\n",
    "        ### write method for executing similarity through Doc2Vec vector\n",
    "        metalist_text=\" \".join(list(metaset_text))\n",
    "        metalist_query=\" \".join(list(metaset_query))\n",
    "        pctsimilarity=getCosineSimilarity(metalist_text,metalist_query)\n",
    "    else:\n",
    "        if (len(metaset_text.union(metaset_query))!=0):\n",
    "            pctsimilarity=len(metaset_text.intersection(metaset_query))/len(metaset_text.union(metaset_query))\n",
    "        else:\n",
    "            pctsimilarity=0.0\n",
    "    \n",
    "    #return round(pctsimilarity*100,4)\n",
    "    return round(pctsimilarity*100,4),metaset_text,metaset_query\n",
    "\n",
    "# Similarity Score\n",
    "\n",
    "def pctsimilarityScore(cols,q,prxy):\n",
    "    \n",
    "    test_text= cols['paragraph']\n",
    "    similarity_score=percentConceptMatching(test_text,q,cosine_similarity=False,prxy=prxy)\n",
    "    return round(similarity_score,4)"
   ]
  },
  {
   "cell_type": "markdown",
   "metadata": {},
   "source": [
    "#### Test Example to see if BioPortal"
   ]
  },
  {
   "cell_type": "code",
   "execution_count": 14,
   "metadata": {},
   "outputs": [
    {
     "data": {
      "text/plain": [
       "{'FAMILY', 'HISTORY', 'IMPACT', 'INTRACRANIAL ANEURYSM'}"
      ]
     },
     "execution_count": 14,
     "metadata": {},
     "output_type": "execute_result"
    }
   ],
   "source": [
    "\n",
    "test_line='intracranial aneurysm and female black american and high hypertension and heart condition and size of aneurysm 9 mm and site anterior communicating artery'\n",
    "test_line='What is impact of family history on intracranial aneurysm'\n",
    "Annotator(test_line,prxy=False)"
   ]
  },
  {
   "cell_type": "markdown",
   "metadata": {},
   "source": [
    "#### Single Document Test Case"
   ]
  },
  {
   "cell_type": "markdown",
   "metadata": {},
   "source": [
    "#### Case 1- PMC ID-PMC5426194 _ Characterstics of rupture risk of aneurysm"
   ]
  },
  {
   "cell_type": "code",
   "execution_count": 16,
   "metadata": {},
   "outputs": [],
   "source": [
    "#df_PMC5426194=create_documents_paragraph_pmc(['5426194'])\n",
    "df_PMC5426194=pd.read_csv('PMC5426194.csv')\n",
    "df_PMC5426194['category']=df_PMC5426194.apply(predict_labels,axis=1)\n",
    "query_txtdf_PMC5426194='Characterstics of rupture risk of aneurysm in the Anterior Communicating Artery'\n",
    "df_PMC5426194['pct_similarity_score']=df_PMC5426194.apply(pctsimilarityScore,axis=1,q=query_txtdf_PMC5426194,prxy=False)\n",
    "df_PMC5426194.to_csv('PMC5426194.csv')"
   ]
  },
  {
   "cell_type": "code",
   "execution_count": 17,
   "metadata": {},
   "outputs": [
    {
     "data": {
      "text/html": [
       "<div>\n",
       "<style scoped>\n",
       "    .dataframe tbody tr th:only-of-type {\n",
       "        vertical-align: middle;\n",
       "    }\n",
       "\n",
       "    .dataframe tbody tr th {\n",
       "        vertical-align: top;\n",
       "    }\n",
       "\n",
       "    .dataframe thead th {\n",
       "        text-align: right;\n",
       "    }\n",
       "</style>\n",
       "<table border=\"1\" class=\"dataframe\">\n",
       "  <thead>\n",
       "    <tr style=\"text-align: right;\">\n",
       "      <th></th>\n",
       "      <th>Unnamed: 0</th>\n",
       "      <th>Unnamed: 0.1</th>\n",
       "      <th>id</th>\n",
       "      <th>paragraph</th>\n",
       "      <th>source</th>\n",
       "      <th>category</th>\n",
       "      <th>pct_similarity_score</th>\n",
       "    </tr>\n",
       "  </thead>\n",
       "  <tbody>\n",
       "    <tr>\n",
       "      <td>0</td>\n",
       "      <td>0</td>\n",
       "      <td>0</td>\n",
       "      <td>5426194</td>\n",
       "      <td>Alongside with the posterior communicating cer...</td>\n",
       "      <td>pmc</td>\n",
       "      <td>P</td>\n",
       "      <td>20.0935</td>\n",
       "    </tr>\n",
       "    <tr>\n",
       "      <td>1</td>\n",
       "      <td>1</td>\n",
       "      <td>1</td>\n",
       "      <td>5426194</td>\n",
       "      <td>The behavior of the A com aneurysms was not re...</td>\n",
       "      <td>pmc</td>\n",
       "      <td>P</td>\n",
       "      <td>13.3333</td>\n",
       "    </tr>\n",
       "    <tr>\n",
       "      <td>2</td>\n",
       "      <td>2</td>\n",
       "      <td>2</td>\n",
       "      <td>5426194</td>\n",
       "      <td>The aim of the present study was to evaluate w...</td>\n",
       "      <td>pmc</td>\n",
       "      <td>P</td>\n",
       "      <td>7.0461</td>\n",
       "    </tr>\n",
       "    <tr>\n",
       "      <td>3</td>\n",
       "      <td>3</td>\n",
       "      <td>3</td>\n",
       "      <td>5426194</td>\n",
       "      <td>The prevailing view is that larger aneurysms h...</td>\n",
       "      <td>pmc</td>\n",
       "      <td>P</td>\n",
       "      <td>38.8350</td>\n",
       "    </tr>\n",
       "    <tr>\n",
       "      <td>4</td>\n",
       "      <td>4</td>\n",
       "      <td>4</td>\n",
       "      <td>5426194</td>\n",
       "      <td>As demonstrated by the results of the present ...</td>\n",
       "      <td>pmc</td>\n",
       "      <td>O</td>\n",
       "      <td>7.6000</td>\n",
       "    </tr>\n",
       "    <tr>\n",
       "      <td>5</td>\n",
       "      <td>5</td>\n",
       "      <td>5</td>\n",
       "      <td>5426194</td>\n",
       "      <td>Aneurysms of the A com complex are more likely...</td>\n",
       "      <td>pmc</td>\n",
       "      <td>P</td>\n",
       "      <td>16.7513</td>\n",
       "    </tr>\n",
       "    <tr>\n",
       "      <td>6</td>\n",
       "      <td>6</td>\n",
       "      <td>6</td>\n",
       "      <td>5426194</td>\n",
       "      <td>The A com artery is known to be one of the com...</td>\n",
       "      <td>pmc</td>\n",
       "      <td>P</td>\n",
       "      <td>16.5094</td>\n",
       "    </tr>\n",
       "    <tr>\n",
       "      <td>7</td>\n",
       "      <td>7</td>\n",
       "      <td>7</td>\n",
       "      <td>5426194</td>\n",
       "      <td>This study has several limitations. First, our...</td>\n",
       "      <td>pmc</td>\n",
       "      <td>P</td>\n",
       "      <td>7.7491</td>\n",
       "    </tr>\n",
       "    <tr>\n",
       "      <td>8</td>\n",
       "      <td>8</td>\n",
       "      <td>8</td>\n",
       "      <td>5426194</td>\n",
       "      <td>Through a comparison of morphologies and an an...</td>\n",
       "      <td>pmc</td>\n",
       "      <td>P</td>\n",
       "      <td>12.2024</td>\n",
       "    </tr>\n",
       "  </tbody>\n",
       "</table>\n",
       "</div>"
      ],
      "text/plain": [
       "   Unnamed: 0  Unnamed: 0.1       id  \\\n",
       "0           0             0  5426194   \n",
       "1           1             1  5426194   \n",
       "2           2             2  5426194   \n",
       "3           3             3  5426194   \n",
       "4           4             4  5426194   \n",
       "5           5             5  5426194   \n",
       "6           6             6  5426194   \n",
       "7           7             7  5426194   \n",
       "8           8             8  5426194   \n",
       "\n",
       "                                           paragraph source category  \\\n",
       "0  Alongside with the posterior communicating cer...    pmc        P   \n",
       "1  The behavior of the A com aneurysms was not re...    pmc        P   \n",
       "2  The aim of the present study was to evaluate w...    pmc        P   \n",
       "3  The prevailing view is that larger aneurysms h...    pmc        P   \n",
       "4  As demonstrated by the results of the present ...    pmc        O   \n",
       "5  Aneurysms of the A com complex are more likely...    pmc        P   \n",
       "6  The A com artery is known to be one of the com...    pmc        P   \n",
       "7  This study has several limitations. First, our...    pmc        P   \n",
       "8  Through a comparison of morphologies and an an...    pmc        P   \n",
       "\n",
       "   pct_similarity_score  \n",
       "0               20.0935  \n",
       "1               13.3333  \n",
       "2                7.0461  \n",
       "3               38.8350  \n",
       "4                7.6000  \n",
       "5               16.7513  \n",
       "6               16.5094  \n",
       "7                7.7491  \n",
       "8               12.2024  "
      ]
     },
     "execution_count": 17,
     "metadata": {},
     "output_type": "execute_result"
    }
   ],
   "source": [
    "df_PMC5426194=pd.read_csv('PMC5426194.csv')\n",
    "df_PMC5426194"
   ]
  },
  {
   "cell_type": "markdown",
   "metadata": {},
   "source": [
    "#### Case 2- PMC ID-PMC4628202 _ Impact of aneurysm "
   ]
  },
  {
   "cell_type": "code",
   "execution_count": 19,
   "metadata": {},
   "outputs": [],
   "source": [
    "df_PMC4628202=create_documents_paragraph_pmc(['4628202'])\n",
    "#df_PMC4628202=pd.read_csv('PMC4628202.csv')\n",
    "df_PMC4628202['category']=df_PMC4628202.apply(predict_labels,axis=1)\n",
    "query_txtdf_PMC4628202='Impact of aneurysm on posterior communicating artery'\n",
    "df_PMC4628202['pct_similarity_score']=df_PMC4628202.apply(pctsimilarityScore,axis=1,q=query_txtdf_PMC4628202,prxy=False)\n",
    "df_PMC4628202.to_csv('PMC4628202.csv')"
   ]
  },
  {
   "cell_type": "code",
   "execution_count": 20,
   "metadata": {},
   "outputs": [
    {
     "data": {
      "text/html": [
       "<div>\n",
       "<style scoped>\n",
       "    .dataframe tbody tr th:only-of-type {\n",
       "        vertical-align: middle;\n",
       "    }\n",
       "\n",
       "    .dataframe tbody tr th {\n",
       "        vertical-align: top;\n",
       "    }\n",
       "\n",
       "    .dataframe thead th {\n",
       "        text-align: right;\n",
       "    }\n",
       "</style>\n",
       "<table border=\"1\" class=\"dataframe\">\n",
       "  <thead>\n",
       "    <tr style=\"text-align: right;\">\n",
       "      <th></th>\n",
       "      <th>id</th>\n",
       "      <th>paragraph</th>\n",
       "      <th>source</th>\n",
       "      <th>category</th>\n",
       "      <th>pct_similarity_score</th>\n",
       "    </tr>\n",
       "  </thead>\n",
       "  <tbody>\n",
       "    <tr>\n",
       "      <td>0</td>\n",
       "      <td>4628202</td>\n",
       "      <td>Intracranial aneurysm (IA) rupture is a main c...</td>\n",
       "      <td>pmc</td>\n",
       "      <td>R</td>\n",
       "      <td>7.3892</td>\n",
       "    </tr>\n",
       "    <tr>\n",
       "      <td>1</td>\n",
       "      <td>4628202</td>\n",
       "      <td>Posterior communicating artery (PComA) is one ...</td>\n",
       "      <td>pmc</td>\n",
       "      <td>O</td>\n",
       "      <td>3.1250</td>\n",
       "    </tr>\n",
       "    <tr>\n",
       "      <td>2</td>\n",
       "      <td>4628202</td>\n",
       "      <td>With the imaging technology progressing, it is...</td>\n",
       "      <td>pmc</td>\n",
       "      <td>P</td>\n",
       "      <td>3.4247</td>\n",
       "    </tr>\n",
       "    <tr>\n",
       "      <td>3</td>\n",
       "      <td>4628202</td>\n",
       "      <td>The means and standard deviations (SDs) of con...</td>\n",
       "      <td>pmc</td>\n",
       "      <td>P</td>\n",
       "      <td>0.0000</td>\n",
       "    </tr>\n",
       "    <tr>\n",
       "      <td>4</td>\n",
       "      <td>4628202</td>\n",
       "      <td>Values for each parameter are displayed in</td>\n",
       "      <td>pmc</td>\n",
       "      <td>O</td>\n",
       "      <td>0.0000</td>\n",
       "    </tr>\n",
       "    <tr>\n",
       "      <td>5</td>\n",
       "      <td>4628202</td>\n",
       "      <td>For a neurosurgeon, the morphological paramete...</td>\n",
       "      <td>pmc</td>\n",
       "      <td>P</td>\n",
       "      <td>0.0000</td>\n",
       "    </tr>\n",
       "    <tr>\n",
       "      <td>6</td>\n",
       "      <td>4628202</td>\n",
       "      <td>We insist the importance of unifying the locat...</td>\n",
       "      <td>pmc</td>\n",
       "      <td>P</td>\n",
       "      <td>4.3988</td>\n",
       "    </tr>\n",
       "  </tbody>\n",
       "</table>\n",
       "</div>"
      ],
      "text/plain": [
       "        id                                          paragraph source category  \\\n",
       "0  4628202  Intracranial aneurysm (IA) rupture is a main c...    pmc        R   \n",
       "1  4628202  Posterior communicating artery (PComA) is one ...    pmc        O   \n",
       "2  4628202  With the imaging technology progressing, it is...    pmc        P   \n",
       "3  4628202  The means and standard deviations (SDs) of con...    pmc        P   \n",
       "4  4628202        Values for each parameter are displayed in     pmc        O   \n",
       "5  4628202  For a neurosurgeon, the morphological paramete...    pmc        P   \n",
       "6  4628202  We insist the importance of unifying the locat...    pmc        P   \n",
       "\n",
       "   pct_similarity_score  \n",
       "0                7.3892  \n",
       "1                3.1250  \n",
       "2                3.4247  \n",
       "3                0.0000  \n",
       "4                0.0000  \n",
       "5                0.0000  \n",
       "6                4.3988  "
      ]
     },
     "execution_count": 20,
     "metadata": {},
     "output_type": "execute_result"
    }
   ],
   "source": [
    "df_PMC4628202"
   ]
  },
  {
   "cell_type": "markdown",
   "metadata": {},
   "source": [
    "#### Case 3-PMC4831241"
   ]
  },
  {
   "cell_type": "code",
   "execution_count": 17,
   "metadata": {},
   "outputs": [],
   "source": [
    "#df_PMC4831241=create_documents_paragraph_pmc(['4831241'])\n",
    "df_PMC4831241=pd.read_csv('PMC4831241.csv')\n",
    "df_PMC4831241['category']=df_PMC4831241.apply(predict_labels,axis=1)\n",
    "query_txtdf_PMC4831241='symptoms of the dissecting aneurysm'\n",
    "df_PMC4831241['pct_similarity_score']=df_PMC4831241.apply(pctsimilarityScore,axis=1,q=query_txtdf_PMC4831241,prxy=False)\n",
    "df_PMC4831241.to_csv('PMC4831241.csv')"
   ]
  },
  {
   "cell_type": "markdown",
   "metadata": {},
   "source": [
    "#### Case 4-PMC5967217 - risk factors"
   ]
  },
  {
   "cell_type": "code",
   "execution_count": null,
   "metadata": {},
   "outputs": [],
   "source": [
    "df_PMC5967217=create_documents_paragraph_pmc(['5967217'])\n",
    "df_PMC5967217=pd.read_csv('PMC5967217.csv')\n",
    "df_PMC5967217['category']=df_PMC5967217.apply(predict_labels,axis=1)\n",
    "query_txtdf_PMC5967217='What are main risk factors of for ruptured intracranial aneurysms'\n",
    "df_PMC5967217['pct_similarity_score']=df_PMC5967217.apply(pctsimilarityScore,axis=1,q=query_txtdf_PMC5967217,prxy=False)\n",
    "df_PMC5967217.to_csv('PMC5967217.csv')"
   ]
  },
  {
   "cell_type": "markdown",
   "metadata": {},
   "source": [
    "#### Case 5-PMC5604621 - risk factors"
   ]
  },
  {
   "cell_type": "code",
   "execution_count": 18,
   "metadata": {},
   "outputs": [],
   "source": [
    "#df_PMC5604621=create_documents_paragraph_pmc(['5604621'])\n",
    "df_PMC5604621=pd.read_csv('PMC5604621.csv')\n",
    "df_PMC5604621['category']=df_PMC5604621.apply(predict_labels,axis=1)\n",
    "query_txtdf_df_PMC5604621='evaluate the efficacy of endovascular treatment for very small intracranial aneurysms VSAs'\n",
    "df_PMC5604621['pct_similarity_score']=df_PMC5604621.apply(pctsimilarityScore,axis=1,q=query_txtdf_df_PMC5604621,prxy=False)\n",
    "df_PMC5604621.to_csv('PMC5604621.csv')"
   ]
  },
  {
   "cell_type": "code",
   "execution_count": 19,
   "metadata": {},
   "outputs": [
    {
     "data": {
      "text/html": [
       "<div>\n",
       "<style scoped>\n",
       "    .dataframe tbody tr th:only-of-type {\n",
       "        vertical-align: middle;\n",
       "    }\n",
       "\n",
       "    .dataframe tbody tr th {\n",
       "        vertical-align: top;\n",
       "    }\n",
       "\n",
       "    .dataframe thead th {\n",
       "        text-align: right;\n",
       "    }\n",
       "</style>\n",
       "<table border=\"1\" class=\"dataframe\">\n",
       "  <thead>\n",
       "    <tr style=\"text-align: right;\">\n",
       "      <th></th>\n",
       "      <th>Unnamed: 0</th>\n",
       "      <th>id</th>\n",
       "      <th>paragraph</th>\n",
       "      <th>source</th>\n",
       "      <th>category</th>\n",
       "      <th>pct_similarity_score</th>\n",
       "    </tr>\n",
       "  </thead>\n",
       "  <tbody>\n",
       "    <tr>\n",
       "      <td>0</td>\n",
       "      <td>0</td>\n",
       "      <td>5604621</td>\n",
       "      <td>Very small intracranial aneurysms (VSAs), also...</td>\n",
       "      <td>pmc</td>\n",
       "      <td>O</td>\n",
       "      <td>58.3333</td>\n",
       "    </tr>\n",
       "    <tr>\n",
       "      <td>1</td>\n",
       "      <td>1</td>\n",
       "      <td>5604621</td>\n",
       "      <td>The patient characteristics and the aneurysm f...</td>\n",
       "      <td>pmc</td>\n",
       "      <td>P</td>\n",
       "      <td>0.0000</td>\n",
       "    </tr>\n",
       "    <tr>\n",
       "      <td>2</td>\n",
       "      <td>2</td>\n",
       "      <td>5604621</td>\n",
       "      <td>Intracranial aneurysms with a diameter of ≤3 m...</td>\n",
       "      <td>pmc</td>\n",
       "      <td>A</td>\n",
       "      <td>34.2857</td>\n",
       "    </tr>\n",
       "    <tr>\n",
       "      <td>3</td>\n",
       "      <td>3</td>\n",
       "      <td>5604621</td>\n",
       "      <td>Yang et al</td>\n",
       "      <td>pmc</td>\n",
       "      <td>P</td>\n",
       "      <td>0.0000</td>\n",
       "    </tr>\n",
       "    <tr>\n",
       "      <td>4</td>\n",
       "      <td>4</td>\n",
       "      <td>5604621</td>\n",
       "      <td>The microcatheter was prone to drop out of the...</td>\n",
       "      <td>pmc</td>\n",
       "      <td>P</td>\n",
       "      <td>0.4717</td>\n",
       "    </tr>\n",
       "    <tr>\n",
       "      <td>5</td>\n",
       "      <td>5</td>\n",
       "      <td>5604621</td>\n",
       "      <td>In the current study, the complication rate (9...</td>\n",
       "      <td>pmc</td>\n",
       "      <td>O</td>\n",
       "      <td>0.9434</td>\n",
       "    </tr>\n",
       "    <tr>\n",
       "      <td>6</td>\n",
       "      <td>6</td>\n",
       "      <td>5604621</td>\n",
       "      <td>The International Subarachnoid Aneurysm Trial ...</td>\n",
       "      <td>pmc</td>\n",
       "      <td>O</td>\n",
       "      <td>0.9174</td>\n",
       "    </tr>\n",
       "    <tr>\n",
       "      <td>7</td>\n",
       "      <td>7</td>\n",
       "      <td>5604621</td>\n",
       "      <td>Experimental studies have demonstrated that st...</td>\n",
       "      <td>pmc</td>\n",
       "      <td>A</td>\n",
       "      <td>0.0000</td>\n",
       "    </tr>\n",
       "    <tr>\n",
       "      <td>8</td>\n",
       "      <td>8</td>\n",
       "      <td>5604621</td>\n",
       "      <td>In previous clinical studies, there have been ...</td>\n",
       "      <td>pmc</td>\n",
       "      <td>O</td>\n",
       "      <td>0.4608</td>\n",
       "    </tr>\n",
       "    <tr>\n",
       "      <td>9</td>\n",
       "      <td>9</td>\n",
       "      <td>5604621</td>\n",
       "      <td>The stent-assisted technology in the case of V...</td>\n",
       "      <td>pmc</td>\n",
       "      <td>P</td>\n",
       "      <td>1.1450</td>\n",
       "    </tr>\n",
       "    <tr>\n",
       "      <td>10</td>\n",
       "      <td>10</td>\n",
       "      <td>5604621</td>\n",
       "      <td>At the present time, studies focused on risk f...</td>\n",
       "      <td>pmc</td>\n",
       "      <td>O</td>\n",
       "      <td>0.0000</td>\n",
       "    </tr>\n",
       "    <tr>\n",
       "      <td>11</td>\n",
       "      <td>11</td>\n",
       "      <td>5604621</td>\n",
       "      <td>In our study, clinical outcomes at follow-up w...</td>\n",
       "      <td>pmc</td>\n",
       "      <td>O</td>\n",
       "      <td>0.0000</td>\n",
       "    </tr>\n",
       "    <tr>\n",
       "      <td>12</td>\n",
       "      <td>12</td>\n",
       "      <td>5604621</td>\n",
       "      <td>In our series, at a median of 28.0 months of f...</td>\n",
       "      <td>pmc</td>\n",
       "      <td>R</td>\n",
       "      <td>0.0000</td>\n",
       "    </tr>\n",
       "    <tr>\n",
       "      <td>13</td>\n",
       "      <td>13</td>\n",
       "      <td>5604621</td>\n",
       "      <td>The treatment techniques for intracranial aneu...</td>\n",
       "      <td>pmc</td>\n",
       "      <td>O</td>\n",
       "      <td>0.0000</td>\n",
       "    </tr>\n",
       "    <tr>\n",
       "      <td>14</td>\n",
       "      <td>14</td>\n",
       "      <td>5604621</td>\n",
       "      <td>In the short term, endovascular coiling is an ...</td>\n",
       "      <td>pmc</td>\n",
       "      <td>O</td>\n",
       "      <td>0.6329</td>\n",
       "    </tr>\n",
       "  </tbody>\n",
       "</table>\n",
       "</div>"
      ],
      "text/plain": [
       "    Unnamed: 0       id                                          paragraph  \\\n",
       "0            0  5604621  Very small intracranial aneurysms (VSAs), also...   \n",
       "1            1  5604621  The patient characteristics and the aneurysm f...   \n",
       "2            2  5604621  Intracranial aneurysms with a diameter of ≤3 m...   \n",
       "3            3  5604621                                         Yang et al   \n",
       "4            4  5604621  The microcatheter was prone to drop out of the...   \n",
       "5            5  5604621  In the current study, the complication rate (9...   \n",
       "6            6  5604621  The International Subarachnoid Aneurysm Trial ...   \n",
       "7            7  5604621  Experimental studies have demonstrated that st...   \n",
       "8            8  5604621  In previous clinical studies, there have been ...   \n",
       "9            9  5604621  The stent-assisted technology in the case of V...   \n",
       "10          10  5604621  At the present time, studies focused on risk f...   \n",
       "11          11  5604621  In our study, clinical outcomes at follow-up w...   \n",
       "12          12  5604621  In our series, at a median of 28.0 months of f...   \n",
       "13          13  5604621  The treatment techniques for intracranial aneu...   \n",
       "14          14  5604621  In the short term, endovascular coiling is an ...   \n",
       "\n",
       "   source category  pct_similarity_score  \n",
       "0     pmc        O               58.3333  \n",
       "1     pmc        P                0.0000  \n",
       "2     pmc        A               34.2857  \n",
       "3     pmc        P                0.0000  \n",
       "4     pmc        P                0.4717  \n",
       "5     pmc        O                0.9434  \n",
       "6     pmc        O                0.9174  \n",
       "7     pmc        A                0.0000  \n",
       "8     pmc        O                0.4608  \n",
       "9     pmc        P                1.1450  \n",
       "10    pmc        O                0.0000  \n",
       "11    pmc        O                0.0000  \n",
       "12    pmc        R                0.0000  \n",
       "13    pmc        O                0.0000  \n",
       "14    pmc        O                0.6329  "
      ]
     },
     "execution_count": 19,
     "metadata": {},
     "output_type": "execute_result"
    }
   ],
   "source": [
    "df_PMC5604621"
   ]
  },
  {
   "cell_type": "markdown",
   "metadata": {},
   "source": [
    "#### Case 6-PMC4754589 "
   ]
  },
  {
   "cell_type": "code",
   "execution_count": 13,
   "metadata": {},
   "outputs": [],
   "source": [
    "df_PMC4754589=create_documents_paragraph_pmc(['4754589'])\n",
    "#df_PMC4754589=pd.read_csv('PMC4754589.csv')\n",
    "df_PMC4754589['category']=df_PMC4754589.apply(predict_labels,axis=1)\n",
    "query_txtdf_df_PMC4754589=' what are outcomes of procedural rupture (PR) during coil embolization of unruptured intracranial aneurysm (UIA) and what are its  potential risk factors'\n",
    "df_PMC4754589['pct_similarity_score']=df_PMC4754589.apply(pctsimilarityScore,axis=1,q=query_txtdf_df_PMC4754589,prxy=False)\n",
    "df_PMC4754589.to_csv('PMC4754589.csv')"
   ]
  },
  {
   "cell_type": "code",
   "execution_count": 15,
   "metadata": {},
   "outputs": [
    {
     "data": {
      "text/html": [
       "<div>\n",
       "<style scoped>\n",
       "    .dataframe tbody tr th:only-of-type {\n",
       "        vertical-align: middle;\n",
       "    }\n",
       "\n",
       "    .dataframe tbody tr th {\n",
       "        vertical-align: top;\n",
       "    }\n",
       "\n",
       "    .dataframe thead th {\n",
       "        text-align: right;\n",
       "    }\n",
       "</style>\n",
       "<table border=\"1\" class=\"dataframe\">\n",
       "  <thead>\n",
       "    <tr style=\"text-align: right;\">\n",
       "      <th></th>\n",
       "      <th>id</th>\n",
       "      <th>paragraph</th>\n",
       "      <th>source</th>\n",
       "      <th>category</th>\n",
       "      <th>pct_similarity_score</th>\n",
       "    </tr>\n",
       "  </thead>\n",
       "  <tbody>\n",
       "    <tr>\n",
       "      <td>0</td>\n",
       "      <td>4754589</td>\n",
       "      <td>The prevalence of intracranial unruptured aneu...</td>\n",
       "      <td>pmc</td>\n",
       "      <td>O</td>\n",
       "      <td>1.0417</td>\n",
       "    </tr>\n",
       "    <tr>\n",
       "      <td>1</td>\n",
       "      <td>4754589</td>\n",
       "      <td>Coil embolization has some benefits in treatin...</td>\n",
       "      <td>pmc</td>\n",
       "      <td>P</td>\n",
       "      <td>22.2997</td>\n",
       "    </tr>\n",
       "    <tr>\n",
       "      <td>2</td>\n",
       "      <td>4754589</td>\n",
       "      <td>Although procedural rupture (PR) accounts for ...</td>\n",
       "      <td>pmc</td>\n",
       "      <td>O</td>\n",
       "      <td>31.4554</td>\n",
       "    </tr>\n",
       "    <tr>\n",
       "      <td>3</td>\n",
       "      <td>4754589</td>\n",
       "      <td>We reviewed more than 1000 consecutive cases o...</td>\n",
       "      <td>pmc</td>\n",
       "      <td>P</td>\n",
       "      <td>29.3617</td>\n",
       "    </tr>\n",
       "    <tr>\n",
       "      <td>4</td>\n",
       "      <td>4754589</td>\n",
       "      <td>We retrospectively reviewed all unruptured sac...</td>\n",
       "      <td>pmc</td>\n",
       "      <td>P</td>\n",
       "      <td>15.6951</td>\n",
       "    </tr>\n",
       "    <tr>\n",
       "      <td>5</td>\n",
       "      <td>4754589</td>\n",
       "      <td>PR was defined as angiographic visualization o...</td>\n",
       "      <td>pmc</td>\n",
       "      <td>P</td>\n",
       "      <td>3.5775</td>\n",
       "    </tr>\n",
       "    <tr>\n",
       "      <td>6</td>\n",
       "      <td>4754589</td>\n",
       "      <td>Among 1086/1038 saccular aneurysm/patients coi...</td>\n",
       "      <td>pmc</td>\n",
       "      <td>P</td>\n",
       "      <td>31.8471</td>\n",
       "    </tr>\n",
       "    <tr>\n",
       "      <td>7</td>\n",
       "      <td>4754589</td>\n",
       "      <td>Additional coil insertion was performed in all...</td>\n",
       "      <td>pmc</td>\n",
       "      <td>R</td>\n",
       "      <td>12.2581</td>\n",
       "    </tr>\n",
       "    <tr>\n",
       "      <td>8</td>\n",
       "      <td>4754589</td>\n",
       "      <td>Contrast leakage of one parent artery rupture ...</td>\n",
       "      <td>pmc</td>\n",
       "      <td>R</td>\n",
       "      <td>0.3003</td>\n",
       "    </tr>\n",
       "    <tr>\n",
       "      <td>9</td>\n",
       "      <td>4754589</td>\n",
       "      <td>Two patients with parent artery rupture and on...</td>\n",
       "      <td>pmc</td>\n",
       "      <td>R</td>\n",
       "      <td>7.3801</td>\n",
       "    </tr>\n",
       "    <tr>\n",
       "      <td>10</td>\n",
       "      <td>4754589</td>\n",
       "      <td>Among 8 patients who experienced aneurysm dome...</td>\n",
       "      <td>pmc</td>\n",
       "      <td>R</td>\n",
       "      <td>4.4944</td>\n",
       "    </tr>\n",
       "    <tr>\n",
       "      <td>11</td>\n",
       "      <td>4754589</td>\n",
       "      <td>Among 10 patients with aneurysm rupture, six w...</td>\n",
       "      <td>pmc</td>\n",
       "      <td>A</td>\n",
       "      <td>7.2289</td>\n",
       "    </tr>\n",
       "    <tr>\n",
       "      <td>12</td>\n",
       "      <td>4754589</td>\n",
       "      <td>In our case series eight aneurysm dome rupture...</td>\n",
       "      <td>pmc</td>\n",
       "      <td>R</td>\n",
       "      <td>25.0923</td>\n",
       "    </tr>\n",
       "    <tr>\n",
       "      <td>13</td>\n",
       "      <td>4754589</td>\n",
       "      <td>Most previous studies on PR focused only on an...</td>\n",
       "      <td>pmc</td>\n",
       "      <td>O</td>\n",
       "      <td>38.4181</td>\n",
       "    </tr>\n",
       "    <tr>\n",
       "      <td>14</td>\n",
       "      <td>4754589</td>\n",
       "      <td>Interestingly, 8 of 12 PR, and 6 of 10 PAR eve...</td>\n",
       "      <td>pmc</td>\n",
       "      <td>O</td>\n",
       "      <td>19.4030</td>\n",
       "    </tr>\n",
       "    <tr>\n",
       "      <td>15</td>\n",
       "      <td>4754589</td>\n",
       "      <td>All PARs occurred during the filling stage in ...</td>\n",
       "      <td>pmc</td>\n",
       "      <td>R</td>\n",
       "      <td>7.5047</td>\n",
       "    </tr>\n",
       "    <tr>\n",
       "      <td>16</td>\n",
       "      <td>4754589</td>\n",
       "      <td>Our study showed relatively favorable outcomes...</td>\n",
       "      <td>pmc</td>\n",
       "      <td>O</td>\n",
       "      <td>0.5495</td>\n",
       "    </tr>\n",
       "    <tr>\n",
       "      <td>17</td>\n",
       "      <td>4754589</td>\n",
       "      <td>The present study has several limitations that...</td>\n",
       "      <td>pmc</td>\n",
       "      <td>R</td>\n",
       "      <td>6.0465</td>\n",
       "    </tr>\n",
       "    <tr>\n",
       "      <td>18</td>\n",
       "      <td>4754589</td>\n",
       "      <td>PR can result in a disastrous outcome in treat...</td>\n",
       "      <td>pmc</td>\n",
       "      <td>R</td>\n",
       "      <td>11.8605</td>\n",
       "    </tr>\n",
       "  </tbody>\n",
       "</table>\n",
       "</div>"
      ],
      "text/plain": [
       "         id                                          paragraph source  \\\n",
       "0   4754589  The prevalence of intracranial unruptured aneu...    pmc   \n",
       "1   4754589  Coil embolization has some benefits in treatin...    pmc   \n",
       "2   4754589  Although procedural rupture (PR) accounts for ...    pmc   \n",
       "3   4754589  We reviewed more than 1000 consecutive cases o...    pmc   \n",
       "4   4754589  We retrospectively reviewed all unruptured sac...    pmc   \n",
       "5   4754589  PR was defined as angiographic visualization o...    pmc   \n",
       "6   4754589  Among 1086/1038 saccular aneurysm/patients coi...    pmc   \n",
       "7   4754589  Additional coil insertion was performed in all...    pmc   \n",
       "8   4754589  Contrast leakage of one parent artery rupture ...    pmc   \n",
       "9   4754589  Two patients with parent artery rupture and on...    pmc   \n",
       "10  4754589  Among 8 patients who experienced aneurysm dome...    pmc   \n",
       "11  4754589  Among 10 patients with aneurysm rupture, six w...    pmc   \n",
       "12  4754589  In our case series eight aneurysm dome rupture...    pmc   \n",
       "13  4754589  Most previous studies on PR focused only on an...    pmc   \n",
       "14  4754589  Interestingly, 8 of 12 PR, and 6 of 10 PAR eve...    pmc   \n",
       "15  4754589  All PARs occurred during the filling stage in ...    pmc   \n",
       "16  4754589  Our study showed relatively favorable outcomes...    pmc   \n",
       "17  4754589  The present study has several limitations that...    pmc   \n",
       "18  4754589  PR can result in a disastrous outcome in treat...    pmc   \n",
       "\n",
       "   category  pct_similarity_score  \n",
       "0         O                1.0417  \n",
       "1         P               22.2997  \n",
       "2         O               31.4554  \n",
       "3         P               29.3617  \n",
       "4         P               15.6951  \n",
       "5         P                3.5775  \n",
       "6         P               31.8471  \n",
       "7         R               12.2581  \n",
       "8         R                0.3003  \n",
       "9         R                7.3801  \n",
       "10        R                4.4944  \n",
       "11        A                7.2289  \n",
       "12        R               25.0923  \n",
       "13        O               38.4181  \n",
       "14        O               19.4030  \n",
       "15        R                7.5047  \n",
       "16        O                0.5495  \n",
       "17        R                6.0465  \n",
       "18        R               11.8605  "
      ]
     },
     "execution_count": 15,
     "metadata": {},
     "output_type": "execute_result"
    }
   ],
   "source": [
    "df_PMC4754589"
   ]
  },
  {
   "cell_type": "markdown",
   "metadata": {},
   "source": [
    "#### Case 7-PMC2515567 - Feature of IA in children"
   ]
  },
  {
   "cell_type": "code",
   "execution_count": 30,
   "metadata": {},
   "outputs": [],
   "source": [
    "df_PMC2515567=create_documents_paragraph_pmc(['2515567'])\n",
    "#df_PMC2515567=pd.read_csv('PMC2515567.csv')\n",
    "df_PMC2515567['category']=df_PMC2515567.apply(predict_labels,axis=1)\n",
    "query_txtdf_df_PMC2515567='What are the clinical features of intracranial aneurysm in children'\n",
    "df_PMC2515567['pct_similarity_score']=df_PMC2515567.apply(pctsimilarityScore,axis=1,q=query_txtdf_df_PMC2515567,prxy=False)\n",
    "df_PMC2515567.to_csv('PMC2515567.csv')"
   ]
  },
  {
   "cell_type": "markdown",
   "metadata": {},
   "source": [
    "#### Case 8-PMC6209332- "
   ]
  },
  {
   "cell_type": "code",
   "execution_count": 15,
   "metadata": {},
   "outputs": [],
   "source": [
    "df_PMC6209332=create_documents_paragraph_pmc(['6209332']) \n",
    "#df_PMC6209332=pd.read_csv('PMC6209332.csv')\n",
    "df_PMC6209332['category']=df_PMC6209332.apply(predict_labels,axis=1)\n",
    "query_txtdf_df_PMC6209332='What is the impact of Hypertension on subarachnoid hemorrhage'\n",
    "df_PMC6209332['pct_similarity_score']=df_PMC6209332.apply(pctsimilarityScore,axis=1,q=query_txtdf_df_PMC6209332,prxy=False)\n",
    "df_PMC6209332.to_csv('PMC6209332.csv')"
   ]
  },
  {
   "cell_type": "markdown",
   "metadata": {},
   "source": [
    "#### Case 9-PMC3687302- Diabetes"
   ]
  },
  {
   "cell_type": "code",
   "execution_count": 19,
   "metadata": {},
   "outputs": [],
   "source": [
    "df_PMC3687302=create_documents_paragraph_pmc(['3687302']) \n",
    "#df_PMC3687302=pd.read_csv('PMC3687302.csv')\n",
    "df_PMC3687302['category']=df_PMC3687302.apply(predict_labels,axis=1)\n",
    "query_txtdf_df_PMC3687302='How Type 2 Diabetes is asociated wth subarachnoid hemorrhage. Is it a significant risk factor?'\n",
    "df_PMC3687302['pct_similarity_score']=df_PMC3687302.apply(pctsimilarityScore,axis=1,q=query_txtdf_df_PMC3687302,prxy=False)\n",
    "df_PMC3687302.to_csv('PMC3687302.csv')"
   ]
  },
  {
   "cell_type": "markdown",
   "metadata": {},
   "source": [
    "#### Case 10-PMC6453525- familial intracranial aneurysms"
   ]
  },
  {
   "cell_type": "code",
   "execution_count": 24,
   "metadata": {},
   "outputs": [],
   "source": [
    "df_PMC6453525=create_documents_paragraph_pmc(['6453525']) \n",
    "#df_PMC6453525=pd.read_csv('PMC6453525.csv')\n",
    "df_PMC6453525['category']=df_PMC6453525.apply(predict_labels,axis=1)\n",
    "query_txtdf_df_PMC6453525='What are the characterstics of aneurysm in familial intracranial aneurysms?'\n",
    "df_PMC6453525['pct_similarity_score']=df_PMC6453525.apply(pctsimilarityScore,axis=1,q=query_txtdf_df_PMC6453525,prxy=False)\n",
    "df_PMC6453525.to_csv('PMC6453525.csv')\n"
   ]
  },
  {
   "cell_type": "code",
   "execution_count": 25,
   "metadata": {},
   "outputs": [
    {
     "data": {
      "text/html": [
       "<div>\n",
       "<style scoped>\n",
       "    .dataframe tbody tr th:only-of-type {\n",
       "        vertical-align: middle;\n",
       "    }\n",
       "\n",
       "    .dataframe tbody tr th {\n",
       "        vertical-align: top;\n",
       "    }\n",
       "\n",
       "    .dataframe thead th {\n",
       "        text-align: right;\n",
       "    }\n",
       "</style>\n",
       "<table border=\"1\" class=\"dataframe\">\n",
       "  <thead>\n",
       "    <tr style=\"text-align: right;\">\n",
       "      <th></th>\n",
       "      <th>id</th>\n",
       "      <th>paragraph</th>\n",
       "      <th>source</th>\n",
       "      <th>category</th>\n",
       "      <th>pct_similarity_score</th>\n",
       "    </tr>\n",
       "  </thead>\n",
       "  <tbody>\n",
       "    <tr>\n",
       "      <td>0</td>\n",
       "      <td>6453525</td>\n",
       "      <td>Family history is the strongest risk factor fo...</td>\n",
       "      <td>pmc</td>\n",
       "      <td>P</td>\n",
       "      <td>1.4563</td>\n",
       "    </tr>\n",
       "    <tr>\n",
       "      <td>1</td>\n",
       "      <td>6453525</td>\n",
       "      <td>This systematic review and meta-analysis aims ...</td>\n",
       "      <td>pmc</td>\n",
       "      <td>P</td>\n",
       "      <td>26.6667</td>\n",
       "    </tr>\n",
       "    <tr>\n",
       "      <td>2</td>\n",
       "      <td>6453525</td>\n",
       "      <td>The database search yielded 2,092 articles of ...</td>\n",
       "      <td>pmc</td>\n",
       "      <td>P</td>\n",
       "      <td>0.0000</td>\n",
       "    </tr>\n",
       "    <tr>\n",
       "      <td>3</td>\n",
       "      <td>6453525</td>\n",
       "      <td>In familial patients IAs are more often locate...</td>\n",
       "      <td>pmc</td>\n",
       "      <td>P</td>\n",
       "      <td>4.5113</td>\n",
       "    </tr>\n",
       "    <tr>\n",
       "      <td>4</td>\n",
       "      <td>6453525</td>\n",
       "      <td>The analysis of ruptured IAs only showed a hig...</td>\n",
       "      <td>pmc</td>\n",
       "      <td>R</td>\n",
       "      <td>10.0358</td>\n",
       "    </tr>\n",
       "    <tr>\n",
       "      <td>5</td>\n",
       "      <td>6453525</td>\n",
       "      <td>In the comparison of the mean size of the IA a...</td>\n",
       "      <td>pmc</td>\n",
       "      <td>P</td>\n",
       "      <td>7.1823</td>\n",
       "    </tr>\n",
       "    <tr>\n",
       "      <td>6</td>\n",
       "      <td>6453525</td>\n",
       "      <td>This study is subject to several limitations. ...</td>\n",
       "      <td>pmc</td>\n",
       "      <td>P</td>\n",
       "      <td>0.4505</td>\n",
       "    </tr>\n",
       "    <tr>\n",
       "      <td>7</td>\n",
       "      <td>6453525</td>\n",
       "      <td>The results of this meta-analysis suggest that...</td>\n",
       "      <td>pmc</td>\n",
       "      <td>P</td>\n",
       "      <td>3.5714</td>\n",
       "    </tr>\n",
       "  </tbody>\n",
       "</table>\n",
       "</div>"
      ],
      "text/plain": [
       "        id                                          paragraph source category  \\\n",
       "0  6453525  Family history is the strongest risk factor fo...    pmc        P   \n",
       "1  6453525  This systematic review and meta-analysis aims ...    pmc        P   \n",
       "2  6453525  The database search yielded 2,092 articles of ...    pmc        P   \n",
       "3  6453525  In familial patients IAs are more often locate...    pmc        P   \n",
       "4  6453525  The analysis of ruptured IAs only showed a hig...    pmc        R   \n",
       "5  6453525  In the comparison of the mean size of the IA a...    pmc        P   \n",
       "6  6453525  This study is subject to several limitations. ...    pmc        P   \n",
       "7  6453525  The results of this meta-analysis suggest that...    pmc        P   \n",
       "\n",
       "   pct_similarity_score  \n",
       "0                1.4563  \n",
       "1               26.6667  \n",
       "2                0.0000  \n",
       "3                4.5113  \n",
       "4               10.0358  \n",
       "5                7.1823  \n",
       "6                0.4505  \n",
       "7                3.5714  "
      ]
     },
     "execution_count": 25,
     "metadata": {},
     "output_type": "execute_result"
    }
   ],
   "source": [
    "df_PMC6453525"
   ]
  },
  {
   "cell_type": "markdown",
   "metadata": {},
   "source": [
    "#### Test Example to get Jaccard Similiarity "
   ]
  },
  {
   "cell_type": "code",
   "execution_count": 22,
   "metadata": {},
   "outputs": [],
   "source": [
    "use_case_query='How does family history affect rupture probability in intracranial aneurysm? is it a significant factor'\n",
    "p1_use_case='Family history is the strongest risk factor for aneurysmal subarachnoid hemorrhage (aSAH) caused by a ruptured intracranial aneurysm (IA) and 10% of aSAH patients have a positive family history for aSAH'\n",
    "p2_use_case=''"
   ]
  },
  {
   "cell_type": "code",
   "execution_count": 23,
   "metadata": {},
   "outputs": [],
   "source": [
    "\n",
    "p1_use_case_similarity_score,p1_use_case_metalist_text,p1_use_case_metalist_query=percentConceptMatching(p1_use_case,use_case_query,cosine_similarity=False,prxy=False)\n"
   ]
  },
  {
   "cell_type": "code",
   "execution_count": 27,
   "metadata": {},
   "outputs": [
    {
     "name": "stdout",
     "output_type": "stream",
     "text": [
      "24.6512\n"
     ]
    }
   ],
   "source": [
    "print(p1_use_case_similarity_score)\n"
   ]
  },
  {
   "cell_type": "code",
   "execution_count": 29,
   "metadata": {},
   "outputs": [
    {
     "name": "stdout",
     "output_type": "stream",
     "text": [
      "{'sah - subarachnoid haemorrhage', 'ets variant family rearrangement', 'OPEN', 'ogd gene mutation', 'hbcab positive', 'intracranial subarachnoid hemorrhages', 'jkt4 gene mutation', 'subarachnoid hemorrhages, aneurysmal', 'kal2 gene mutation', 'uchl2 gene mutation', 'helicobacter pylori positive', 'brca1 associated protein 1 gene mutation', 'etv family gene rearrangement', 'facteur de risque', 'hepatitis c virus antibody positive', 'hepatitis b surface antigen positive', 'HISTORY', 'methylguanine-dna methyltransferase gene promoter methylation', 'PRESENCE OF', 'smapme', 'sdhb positive', 'hemorrhaged', 'n-sam gene rearrangement', 'fibroblast growth factor receptor 1 gene rearrangement', 'subarachnoid hemorrhage (disorder)', 'IS A', 'fgfr-3 gene mutation', 'anti-hepatitis c antibody positive', 'ENTITY', 'family members', 'subarachnoid hemorrhage, aneurysmal', 'anti-hbc positive', 'aneurysms, cerebral', 'kal2 gene rearrangement', 'subarachnoid hemorrhages, perinatal', 'hemorrhages, spontaneous subarachnoid', 'jkt4 gene rearrangement', 'aneurysm, posterior communicating artery', 'disorder predictors', 'historical', 'risk, population at', 'oraov2 positive', 'o-6-methylguanine-dna methyltransferase gene promoter methylation', 'giant intracranial aneurysm', 'aneurysm, anterior cerebral artery', 'n-acylsphingosine amidohydrolase (mouse)', 'acid cdase (human)', 'GROUP', 'rearrangement identified', 'DILATATION', 'sah', 'subarachnoid hemorrhages, spontaneous', 'bap1 gene mutation', 'n-acylethanolamine hydrolase asah1 (human)', 'extended families', 'h-ras gene mutation', 'php32', 'braf gene rearrangement', 'factors, risk', 'positive ebv test', 'kgfr gene rearrangement', 'sdh2 positive', 'aneurysm, middle cerebral artery', 'sdh1 positive', 'historical notes', 'historical aspects', 'fibroblast growth factor receptor 1 gene mutation', 'split', 'masah1', 'intracranial subarachnoid hemorrhage', 'human immunodeficiency virus positive', 'esrb positive', 'familles', 'fractured', 'cek gene mutation', 'acid cdase (mouse)', 'ASAH', 'anterior communicating artery aneurysm', 'v-raf murine sarcoma viral oncogene homolog b1 gene rearrangement', 'historical aspect', 'brain aneurysms', 'ac', 'population at risk', 'KNOWN', 'hemorrhages, aneurysmal subarachnoid', 'QUALITY', 'yes', 'risk, populations at', 'anti-hbc antibody positive', 'hiv test positive', 'hiv positivity', 'erb positive', 'fgfr3 gene rearrangement', 'fibroblast growth factor receptor 3 gene rearrangement', 'acylsphingosine deacylase (mouse)', 'vulnerability factors', 'fibroblast growth factor receptor 2 gene rearrangement', 'hiv positive', 'methylated mgmt gene promoter', 'SPATIOTEMPORAL REGION', 'hsd-33', 'n-acylsphingosine amidohydrolase (acid ceramidase) 1 wt allele', 'php', 'subarachnoid hemorrhages, intracranial', 'cerebral aneurysm', 'family member', 'estrogen receptor beta positive', 'neu gene mutation', 'cracked', 'b-raf1 gene rearrangement', 'present', 'perinatal subarachnoid hemorrhage', 'reconstituted families', 'hemorrhage, perinatal subarachnoid', 'dog1 positive', 'MECHANISM', 'SITE', 'idh gene mutation', 'mycotic aneurysm, intracranial', 'aspects, historical', 'acylsphingosine deacylase (human)', 'paired box gene 8 gene rearrangement', 'aneurysm, anterior communicating artery', 'berry aneurysms', 'ac (human)', 'SUBARACHNOID SPACE', 'hbs antigen positive', 'MATERIAL ENTITY', 'n-sam gene mutation', 'hemorrhages, intracranial subarachnoid', 'risk factor', 'PLACE', 'aneurysmal subarachnoid hemorrhage', 'ip positive', 'risk factors', 'nuclear receptor subfamily 3 group a member 2 positive', 'succinate dehydrogenase [ubiquinone] iron-sulfur subunit, mitochondrial positive', 'nr3a2 positive', 'aneurysm, posterior cerebral artery', 'hasah1', 'hemorrhage, aneurysmal subarachnoid', 'mgmt methylation', 'erb-b2 receptor tyrosine kinase gene mutation', 'k-sam gene rearrangement', 'tmem16a positive', 'fgfr3 gene mutation', 'fgfr-2 gene rearrangement', 'fgfr-1 gene rearrangement', 'kinship network', 'PROCESS', 'bfgfr gene mutation', 'hemorrhages, subarachnoid', 'fgfr-3 gene rearrangement', 'taos2 positive', 'family, extended', 'hepatitis b virus core antibody positive', 'aneurysm, giant intracranial', 'risk characteristics', 'fgfbr gene rearrangement', 'her2 gene mutation', 'flj21558', 'SURFACE', 'h. pylori positive', 'relatives', 'methylated mgmt promoter', 'RELATED', 'asah', 'hbs positive', 'spontaneous subarachnoid hemorrhages', 'aneurysms, intracranial mycotic', 'families, extended', 'ha-ras gene mutation', 'estrb positive', 'artery aneurysm, basilar', 'sah (subarachnoid hemorrhage)', 'family research', 'hras1 gene mutation', 'aneurysm, intracranial', 'hcv antibody positive', 'v-ha-ras harvey rat sarcoma viral oncogene homolog gene mutation', 'idh gene family mutation', 'kinship networks', 'aneurysms, giant intracranial', 'putative 32 kda heart protein (human)', 'subarach hem', 'subarachnoid hemorrhages', 'hsd33', 'cerebral aneurysms', 'cerebral artery aneurysm', 'fgfbr gene mutation', 'burst', 'mycotic aneurysms, intracranial', 'sahs (subarachnoid hemorrhage)', 'intracranial aneurysms', 'BEHAVIOR', 'anti-hepatitis b core antibody negative', 'familial', 'intracranial mycotic aneurysms', 'aneurysm, brain', 'cd331 gene rearrangement', 'subarachnoid hemorrhage, intracranial', 'c-ha-ras1 gene mutation', 'n-acylethanolamine hydrolase asah1 (mouse)', 'aneurysms, basilar artery', 'flt-2 gene mutation', 'aspect, historical', 'brca1-associated protein 1 gene mutation', 'subarachnoid hemorrhage, perinatal', 'family group', 'fgfr1 gene rearrangement', 'flg gene mutation', 'asah1', 'acid cdase', 'EVIDENCE', 'paired box 8 gene rearrangement', 'spontaneous subarachnoid hemorrhage', 'aneurysms, brain', 'aneurysmal subarachnoid hemorrhages', 'positive charge', 'torn', 'estrogen receptor 2 positive', 'populations at risk', 'INCLUDING', 'ac (mouse)', 'positive finding', 'middle cerebral artery aneurysm', 'esr-beta positive', 'positive epstein-barr virus test', 'subarachnoid haemorrhage nos', 'brain aneurysm', 'LOCALIZED', 'ect1 gene rearrangement', 'hbsag positive', 'idh family mutation', 'basilar artery aneurysms', 'cd333 gene rearrangement', 'ogd gene rearrangement', 'hemorrhages, perinatal subarachnoid', 'ASSOCIATED WITH', 'CHROMOSOME', 'reconstituted family', 'her2/neu gene mutation', 'n-acylsphingosine amidohydrolase', 'hepatitis b core antibody positive', 'succinate dehydrogenase complex iron sulfur subunit b positive', 'families, reconstituted', 'posterior cerebral artery aneurysm', 'network, kinship', 'c-h-ras gene mutation', 'subarachnoid hemorrhage', 'subarachnoid hemorrhage, spontaneous', 'asah1 wt allele', 'subarachnoid intracranial hemorrhage (disorder)', 'cd333 gene mutation', 'HEMORRHAGE', 'histories', 'fibroblast growth factor receptor 3 gene mutation', 'positive', 'hepatitis b surface protein antigen positive', 'subarachnoid haemorrhage', 'aneurysms, intracranial', 'intracranial aneurysms, giant', 'posterior communicating artery aneurysm', 'methylated mgmt', 'fragmented', 'erbb2 gene mutation', 'acid ceramidase (mouse)', 'pax8 gene rearrangement', 'acid ceramidase (human)', 'hemorrhage, spontaneous subarachnoid', 'history', 'anti-hepatitis b virus core antibody positive', 'meninges hemorrhage', 'aneurysm, intracranial mycotic', 'flt2 gene rearrangement', 'fms-like tyrosine kinase 2 gene rearrangement', 'ENVIRONMENTAL EXPOSURE', 'hemorrhage, intracranial subarachnoid', 'family', 'bfgfr gene rearrangement', 'cd332 gene rearrangement', 'acdase (mouse)', 'mgmt gene methylation', 'etv gene rearrangement', 'rash1 gene mutation', 'aneurysm, berry', 'flt-2 gene rearrangement', 'REFERENCE', 'n-acylsphingosine amidohydrolase (human)', 'research, family', 'aneurysm, basilar artery', 'networks, kinship', 'intracranial mycotic aneurysm', 'GENE', 'positive ebv serum test', 'cd331 gene mutation', 'v-erb-b2 avian erythroblastic leukemia viral oncogene homolog 2 gene mutation', 'bap1 mutation', 'sah - subarachnoid hemorrhage', 'filiation', 'php32 (human)', 'anterior cerebral artery aneurysm', 'SUM', 'life cycles, family', 'family life cycles', 'life cycle, family', 'giant intracranial aneurysms', 'REACTION', 'hepatitis b virus surface antigen positive', 'cek gene rearrangement', 'subarachnoid intracranial haemorrhage', 'LIFESTYLE', 'intracranial aneurysm, giant', 'er beta positive', 'CONDITION', 'putative 32 kda heart protein', 'subarachnoid intracranial hemorrhage', 'flt2 gene mutation', 'fms-like tyrosine kinase 2 gene mutation', 'subarachnoid hemorrhage (disease)', 'pax8 rearrangement', 'ruptured', 'acid ceramidase', 'family, reconstituted', 'CEREBRAL ARTERY', 'braf rearrangement', 'ano1 positive', 'aneurysms, berry', 'er-beta positive', 'SOURCE', 'factor, risk', 'perinatal subarachnoid hemorrhages', 'sdhip positive', 'hras gene mutation', 'subarachnoid hemorrhage nos', 'DISEASE', 'families', 'hepatitis c antibody positive', 'acdase (human)', 'erbb2 mutation', 'anoctamin-1 positive', 'fgfr1 gene mutation', 'fgfr-1 gene mutation', 'etv family rearrangement', 'dilatation of the cerebral artery', '2310081n20rik', 'family life cycle', 'keratinocyte growth factor receptor gene rearrangement', 'berry aneurysm', 'hemorrhage, subarachnoid', 'risk indicators', 'esr2 positive', 'harvey rat sarcoma viral oncogene homolog gene mutation', 'ets variant gene family rearrangement', 'BROKEN', 'stepfamilies', 'aneurysm, cerebral', 'idh mutation', 'intracranial aneurysm', 'basilar artery aneurysm', 'anti-hcv antibody positive', 'acylsphingosine deacylase', 'n-acylethanolamine hydrolase asah1', 'flg gene rearrangement', 'subarachnoid hemorrhage nos (disorder)', 'subarachnoid aneurysmal hemorrhage', 'stepfamily', 'artery aneurysms, basilar', 'extended family', 'bek gene rearrangement', 'hras proto-oncogene, gtpase gene mutation', 'fgfr2 gene rearrangement', 'acdase', 'anti-hbcab positive', 'b-raf gene rearrangement', 'paired domain gene 8 gene rearrangement', 'broken', 'hepatitis b dna positive', 'BALLOONING', 'etv rearrangement', 'anti-hepatitis c virus antibody positive', 'mgmt gene promoter methylation'}"
     ]
    },
    {
     "name": "stdout",
     "output_type": "stream",
     "text": [
      "\n"
     ]
    }
   ],
   "source": [
    "print(p1_use_case_metalist_text)\n"
   ]
  },
  {
   "cell_type": "code",
   "execution_count": 28,
   "metadata": {},
   "outputs": [
    {
     "name": "stdout",
     "output_type": "stream",
     "text": [
      "{'tearing', 'moods', 'kinship networks', 'aneurysms, giant intracranial', 'affects', 'cerebral aneurysms', 'DISRUPTION', 'cerebral artery aneurysm', 'HISTORY', 'PRESENCE OF', 'mycotic aneurysms, intracranial', 'significant', 'intracranial aneurysms', 'family research', 'familial', 'intracranial mycotic aneurysms', 'aneurysm, brain', 'IS A', 'aneurysms, basilar artery', 'aspect, historical', 'ENTITY', 'family members', 'family group', 'TISSUE', 'aneurysms, cerebral', 'electrical injury', 'INSTINCT', 'aneurysms, brain', 'LEVEL', 'INCLUDING', 'aneurysm, posterior communicating artery', 'historical', 'emotion', 'giant intracranial aneurysm', 'aneurysm, anterior cerebral artery', 'middle cerebral artery aneurysm', 'GROUP', 'DILATATION', 'brain aneurysm', 'EXPERIMENT', 'LOCALIZED', 'boredom', 'basilar artery aneurysms', 'extended families', 'MANIFEST', 'statistical significance', 'statistically significant', 'reconstituted family', 'aneurysm, middle cerebral artery', 'rupture', 'historical notes', 'historical aspects', 'families, reconstituted', 'split', 'posterior cerebral artery aneurysm', 'network, kinship', 'familles', 'shock (electrical injury)', 'NUMBER', 'histories', 'anterior communicating artery aneurysm', 'historical aspect', 'brain aneurysms', 'aneurysms, intracranial', 'NCI', 'MENTAL REPRESENTATION', 'intracranial aneurysms, giant', 'STATISTICS', 'posterior communicating artery aneurysm', 'significance', 'did', 'injury', 'history', 'aneurysm, intracranial mycotic', 'SPATIOTEMPORAL REGION', 'aneurysm, berry', 'material rupture', 'family', 'emotional affect', 'cerebral aneurysm', 'REFERENCE', 'family member', 'VARIOUS', 'signification statistique', 'research, family', 'aneurysm, basilar artery', 'networks, kinship', 'rupture (morphologic abnormality)', 'DIRECT', 'reconstituted families', 'intracranial mycotic aneurysm', 'does', 'filiation', 'MECHANISM', 'STUDY', 'anterior cerebral artery aneurysm', 'SUM', 'affect, function', 'life cycles, family', 'family life cycles', 'feeling', 'mood', 'life cycle, family', 'ruptures', 'TEARING', 'REACTION', 'giant intracranial aneurysms', 'SITE', 'intracranial aneurysm, giant', 'mycotic aneurysm, intracranial', 'aspects, historical', 'aneurysm, anterior communicating artery', 'berry aneurysms', 'family, reconstituted', 'MATERIAL ENTITY', 'CEREBRAL ARTERY', 'aneurysms, berry', 'PLACE', 'SOURCE', 'MARGIN', 'CONFIDENCE', 'families', 'affect (mental function)', 'aneurysm, posterior cerebral artery', 'hazard', 'dilatation of the cerebral artery', 'family life cycle', 'rupture sociale', 'berry aneurysm', 'kinship network', 'stepfamilies', 'aneurysm, cerebral', 'PROCESS', 'intracranial aneurysm', 'basilar artery aneurysm', 'family, extended', 'physical insult', 'aneurysm, giant intracranial', 'tear', 'SURFACE', 'relatives', 'stepfamily', 'artery aneurysms, basilar', 'extended family', 'RELATED', 'affect', 'disruption', 'do', 'aneurysms, intracranial mycotic', 'RESULT', 'families, extended', 'artery aneurysm, basilar', 'BALLOONING', 'aneurysm, intracranial'}\n"
     ]
    }
   ],
   "source": [
    "print(p1_use_case_metalist_query)"
   ]
  },
  {
   "cell_type": "markdown",
   "metadata": {},
   "source": [
    "## <center>END</center>"
   ]
  },
  {
   "cell_type": "code",
   "execution_count": null,
   "metadata": {},
   "outputs": [],
   "source": []
  }
 ],
 "metadata": {
  "kernelspec": {
   "display_name": "Python 3",
   "language": "python",
   "name": "python3"
  },
  "language_info": {
   "codemirror_mode": {
    "name": "ipython",
    "version": 3
   },
   "file_extension": ".py",
   "mimetype": "text/x-python",
   "name": "python",
   "nbconvert_exporter": "python",
   "pygments_lexer": "ipython3",
   "version": "3.7.4"
  }
 },
 "nbformat": 4,
 "nbformat_minor": 4
}
